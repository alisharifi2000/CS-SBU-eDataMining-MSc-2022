{
  "nbformat": 4,
  "nbformat_minor": 0,
  "metadata": {
    "colab": {
      "name": "Regression Project 2.ipynb",
      "provenance": [],
      "toc_visible": true
    },
    "kernelspec": {
      "name": "python3",
      "display_name": "Python 3"
    },
    "language_info": {
      "name": "python"
    }
  },
  "cells": [
    {
      "cell_type": "markdown",
      "source": [
        "# Import requirements"
      ],
      "metadata": {
        "id": "brOZqvyXtI9J"
      }
    },
    {
      "cell_type": "code",
      "source": [
        "import pandas as pd\n",
        "import numpy as np\n",
        "from random import seed\n",
        "from random import randrange\n",
        "from csv import reader\n",
        "from math import sqrt\n",
        "from sklearn import linear_model\n",
        "from matplotlib import pyplot as plt"
      ],
      "metadata": {
        "id": "Z57b0SQgs8XK"
      },
      "execution_count": null,
      "outputs": []
    },
    {
      "cell_type": "markdown",
      "source": [
        "# Prepare data\n"
      ],
      "metadata": {
        "id": "KV8Z0-tuz1sd"
      }
    },
    {
      "cell_type": "markdown",
      "source": [
        "## Connect to google drive"
      ],
      "metadata": {
        "id": "OK9FWPirs9N2"
      }
    },
    {
      "cell_type": "code",
      "execution_count": null,
      "metadata": {
        "colab": {
          "base_uri": "https://localhost:8080/"
        },
        "id": "QgAcbyXLAMle",
        "outputId": "864828ab-f082-486b-bd52-6f42fe2bc99e"
      },
      "outputs": [
        {
          "output_type": "stream",
          "name": "stdout",
          "text": [
            "Mounted at /content/drive\n"
          ]
        }
      ],
      "source": [
        "from google.colab import drive\n",
        "drive.mount('/content/drive')\n",
        "# %cd /content/drive/MyDrive\n"
      ]
    },
    {
      "cell_type": "markdown",
      "source": [
        "## Read dataset file"
      ],
      "metadata": {
        "id": "dYFgrlQDvABX"
      }
    },
    {
      "cell_type": "code",
      "source": [
        "data = pd.read_csv('/content/drive/MyDrive/immo_data.csv',\n",
        "                   usecols=['baseRent', 'serviceCharge', 'heatingType', 'telekomUploadSpeed'])\n",
        "data.head()\n"
      ],
      "metadata": {
        "colab": {
          "base_uri": "https://localhost:8080/",
          "height": 206
        },
        "outputId": "284fead5-b37f-4d24-ab84-ca9eace15641",
        "id": "LfME42NaeoYP"
      },
      "execution_count": null,
      "outputs": [
        {
          "output_type": "execute_result",
          "data": {
            "text/plain": [
              "   serviceCharge                     heatingType  telekomUploadSpeed  baseRent\n",
              "0         245.00                 central_heating                10.0     595.0\n",
              "1         134.00  self_contained_central_heating                10.0     800.0\n",
              "2         255.00                   floor_heating                 2.4     965.0\n",
              "3          58.15                district_heating                40.0     343.0\n",
              "4         138.00  self_contained_central_heating                 NaN     765.0"
            ],
            "text/html": [
              "\n",
              "  <div id=\"df-d03b44b1-caac-46f2-855e-849646b19dcc\">\n",
              "    <div class=\"colab-df-container\">\n",
              "      <div>\n",
              "<style scoped>\n",
              "    .dataframe tbody tr th:only-of-type {\n",
              "        vertical-align: middle;\n",
              "    }\n",
              "\n",
              "    .dataframe tbody tr th {\n",
              "        vertical-align: top;\n",
              "    }\n",
              "\n",
              "    .dataframe thead th {\n",
              "        text-align: right;\n",
              "    }\n",
              "</style>\n",
              "<table border=\"1\" class=\"dataframe\">\n",
              "  <thead>\n",
              "    <tr style=\"text-align: right;\">\n",
              "      <th></th>\n",
              "      <th>serviceCharge</th>\n",
              "      <th>heatingType</th>\n",
              "      <th>telekomUploadSpeed</th>\n",
              "      <th>baseRent</th>\n",
              "    </tr>\n",
              "  </thead>\n",
              "  <tbody>\n",
              "    <tr>\n",
              "      <th>0</th>\n",
              "      <td>245.00</td>\n",
              "      <td>central_heating</td>\n",
              "      <td>10.0</td>\n",
              "      <td>595.0</td>\n",
              "    </tr>\n",
              "    <tr>\n",
              "      <th>1</th>\n",
              "      <td>134.00</td>\n",
              "      <td>self_contained_central_heating</td>\n",
              "      <td>10.0</td>\n",
              "      <td>800.0</td>\n",
              "    </tr>\n",
              "    <tr>\n",
              "      <th>2</th>\n",
              "      <td>255.00</td>\n",
              "      <td>floor_heating</td>\n",
              "      <td>2.4</td>\n",
              "      <td>965.0</td>\n",
              "    </tr>\n",
              "    <tr>\n",
              "      <th>3</th>\n",
              "      <td>58.15</td>\n",
              "      <td>district_heating</td>\n",
              "      <td>40.0</td>\n",
              "      <td>343.0</td>\n",
              "    </tr>\n",
              "    <tr>\n",
              "      <th>4</th>\n",
              "      <td>138.00</td>\n",
              "      <td>self_contained_central_heating</td>\n",
              "      <td>NaN</td>\n",
              "      <td>765.0</td>\n",
              "    </tr>\n",
              "  </tbody>\n",
              "</table>\n",
              "</div>\n",
              "      <button class=\"colab-df-convert\" onclick=\"convertToInteractive('df-d03b44b1-caac-46f2-855e-849646b19dcc')\"\n",
              "              title=\"Convert this dataframe to an interactive table.\"\n",
              "              style=\"display:none;\">\n",
              "        \n",
              "  <svg xmlns=\"http://www.w3.org/2000/svg\" height=\"24px\"viewBox=\"0 0 24 24\"\n",
              "       width=\"24px\">\n",
              "    <path d=\"M0 0h24v24H0V0z\" fill=\"none\"/>\n",
              "    <path d=\"M18.56 5.44l.94 2.06.94-2.06 2.06-.94-2.06-.94-.94-2.06-.94 2.06-2.06.94zm-11 1L8.5 8.5l.94-2.06 2.06-.94-2.06-.94L8.5 2.5l-.94 2.06-2.06.94zm10 10l.94 2.06.94-2.06 2.06-.94-2.06-.94-.94-2.06-.94 2.06-2.06.94z\"/><path d=\"M17.41 7.96l-1.37-1.37c-.4-.4-.92-.59-1.43-.59-.52 0-1.04.2-1.43.59L10.3 9.45l-7.72 7.72c-.78.78-.78 2.05 0 2.83L4 21.41c.39.39.9.59 1.41.59.51 0 1.02-.2 1.41-.59l7.78-7.78 2.81-2.81c.8-.78.8-2.07 0-2.86zM5.41 20L4 18.59l7.72-7.72 1.47 1.35L5.41 20z\"/>\n",
              "  </svg>\n",
              "      </button>\n",
              "      \n",
              "  <style>\n",
              "    .colab-df-container {\n",
              "      display:flex;\n",
              "      flex-wrap:wrap;\n",
              "      gap: 12px;\n",
              "    }\n",
              "\n",
              "    .colab-df-convert {\n",
              "      background-color: #E8F0FE;\n",
              "      border: none;\n",
              "      border-radius: 50%;\n",
              "      cursor: pointer;\n",
              "      display: none;\n",
              "      fill: #1967D2;\n",
              "      height: 32px;\n",
              "      padding: 0 0 0 0;\n",
              "      width: 32px;\n",
              "    }\n",
              "\n",
              "    .colab-df-convert:hover {\n",
              "      background-color: #E2EBFA;\n",
              "      box-shadow: 0px 1px 2px rgba(60, 64, 67, 0.3), 0px 1px 3px 1px rgba(60, 64, 67, 0.15);\n",
              "      fill: #174EA6;\n",
              "    }\n",
              "\n",
              "    [theme=dark] .colab-df-convert {\n",
              "      background-color: #3B4455;\n",
              "      fill: #D2E3FC;\n",
              "    }\n",
              "\n",
              "    [theme=dark] .colab-df-convert:hover {\n",
              "      background-color: #434B5C;\n",
              "      box-shadow: 0px 1px 3px 1px rgba(0, 0, 0, 0.15);\n",
              "      filter: drop-shadow(0px 1px 2px rgba(0, 0, 0, 0.3));\n",
              "      fill: #FFFFFF;\n",
              "    }\n",
              "  </style>\n",
              "\n",
              "      <script>\n",
              "        const buttonEl =\n",
              "          document.querySelector('#df-d03b44b1-caac-46f2-855e-849646b19dcc button.colab-df-convert');\n",
              "        buttonEl.style.display =\n",
              "          google.colab.kernel.accessAllowed ? 'block' : 'none';\n",
              "\n",
              "        async function convertToInteractive(key) {\n",
              "          const element = document.querySelector('#df-d03b44b1-caac-46f2-855e-849646b19dcc');\n",
              "          const dataTable =\n",
              "            await google.colab.kernel.invokeFunction('convertToInteractive',\n",
              "                                                     [key], {});\n",
              "          if (!dataTable) return;\n",
              "\n",
              "          const docLinkHtml = 'Like what you see? Visit the ' +\n",
              "            '<a target=\"_blank\" href=https://colab.research.google.com/notebooks/data_table.ipynb>data table notebook</a>'\n",
              "            + ' to learn more about interactive tables.';\n",
              "          element.innerHTML = '';\n",
              "          dataTable['output_type'] = 'display_data';\n",
              "          await google.colab.output.renderOutput(dataTable, element);\n",
              "          const docLink = document.createElement('div');\n",
              "          docLink.innerHTML = docLinkHtml;\n",
              "          element.appendChild(docLink);\n",
              "        }\n",
              "      </script>\n",
              "    </div>\n",
              "  </div>\n",
              "  "
            ]
          },
          "metadata": {},
          "execution_count": 14
        }
      ]
    },
    {
      "cell_type": "code",
      "source": [
        "data2 = pd.read_csv('/content/drive/MyDrive/immo_data.csv',\n",
        "                   usecols=['regio1', 'serviceCharge', 'pricetrend', 'geo_krs',\n",
        "                            'totalRent', 'telekomUploadSpeed',\n",
        "                            'baseRent', 'livingSpace', 'regio2', 'regio3', 'floor',\n",
        "                            'noRooms', 'lift', 'thermalChar', 'geo_bln',\n",
        "                            'noParkSpaces', 'firingTypes', 'hasKitchen', 'heatingType'])\n",
        "data2.head()"
      ],
      "metadata": {
        "colab": {
          "base_uri": "https://localhost:8080/",
          "height": 270
        },
        "id": "v3Tz_9HKuGpW",
        "outputId": "f93f2335-4e07-442f-d90c-c241db3e6498"
      },
      "execution_count": null,
      "outputs": [
        {
          "output_type": "execute_result",
          "data": {
            "text/plain": [
              "                regio1  serviceCharge                     heatingType  \\\n",
              "0  Nordrhein_Westfalen         245.00                 central_heating   \n",
              "1      Rheinland_Pfalz         134.00  self_contained_central_heating   \n",
              "2              Sachsen         255.00                   floor_heating   \n",
              "3              Sachsen          58.15                district_heating   \n",
              "4               Bremen         138.00  self_contained_central_heating   \n",
              "\n",
              "   pricetrend  telekomUploadSpeed  totalRent  noParkSpaces       firingTypes  \\\n",
              "0        4.62                10.0      840.0           1.0               oil   \n",
              "1        3.47                10.0        NaN           2.0               gas   \n",
              "2        2.72                 2.4     1300.0           1.0               NaN   \n",
              "3        1.53                40.0        NaN           NaN  district_heating   \n",
              "4        2.46                 NaN      903.0           NaN               gas   \n",
              "\n",
              "   hasKitchen              geo_bln  baseRent  livingSpace  \\\n",
              "0       False  Nordrhein_Westfalen     595.0        86.00   \n",
              "1       False      Rheinland_Pfalz     800.0        89.00   \n",
              "2       False              Sachsen     965.0        83.80   \n",
              "3       False              Sachsen     343.0        58.15   \n",
              "4       False               Bremen     765.0        84.97   \n",
              "\n",
              "               geo_krs   lift  noRooms  thermalChar  floor  \\\n",
              "0             Dortmund  False      4.0        181.4    1.0   \n",
              "1    Rhein_Pfalz_Kreis  False      3.0          NaN    NaN   \n",
              "2              Dresden   True      3.0          NaN    3.0   \n",
              "3  Mittelsachsen_Kreis  False      3.0         86.0    3.0   \n",
              "4               Bremen  False      3.0        188.9    1.0   \n",
              "\n",
              "                regio2                      regio3  \n",
              "0             Dortmund                     Schüren  \n",
              "1    Rhein_Pfalz_Kreis              Böhl_Iggelheim  \n",
              "2              Dresden  Äußere_Neustadt_Antonstadt  \n",
              "3  Mittelsachsen_Kreis                    Freiberg  \n",
              "4               Bremen           Neu_Schwachhausen  "
            ],
            "text/html": [
              "\n",
              "  <div id=\"df-e3eef7de-7b1c-4a36-b758-0a75f8cd1334\">\n",
              "    <div class=\"colab-df-container\">\n",
              "      <div>\n",
              "<style scoped>\n",
              "    .dataframe tbody tr th:only-of-type {\n",
              "        vertical-align: middle;\n",
              "    }\n",
              "\n",
              "    .dataframe tbody tr th {\n",
              "        vertical-align: top;\n",
              "    }\n",
              "\n",
              "    .dataframe thead th {\n",
              "        text-align: right;\n",
              "    }\n",
              "</style>\n",
              "<table border=\"1\" class=\"dataframe\">\n",
              "  <thead>\n",
              "    <tr style=\"text-align: right;\">\n",
              "      <th></th>\n",
              "      <th>regio1</th>\n",
              "      <th>serviceCharge</th>\n",
              "      <th>heatingType</th>\n",
              "      <th>pricetrend</th>\n",
              "      <th>telekomUploadSpeed</th>\n",
              "      <th>totalRent</th>\n",
              "      <th>noParkSpaces</th>\n",
              "      <th>firingTypes</th>\n",
              "      <th>hasKitchen</th>\n",
              "      <th>geo_bln</th>\n",
              "      <th>baseRent</th>\n",
              "      <th>livingSpace</th>\n",
              "      <th>geo_krs</th>\n",
              "      <th>lift</th>\n",
              "      <th>noRooms</th>\n",
              "      <th>thermalChar</th>\n",
              "      <th>floor</th>\n",
              "      <th>regio2</th>\n",
              "      <th>regio3</th>\n",
              "    </tr>\n",
              "  </thead>\n",
              "  <tbody>\n",
              "    <tr>\n",
              "      <th>0</th>\n",
              "      <td>Nordrhein_Westfalen</td>\n",
              "      <td>245.00</td>\n",
              "      <td>central_heating</td>\n",
              "      <td>4.62</td>\n",
              "      <td>10.0</td>\n",
              "      <td>840.0</td>\n",
              "      <td>1.0</td>\n",
              "      <td>oil</td>\n",
              "      <td>False</td>\n",
              "      <td>Nordrhein_Westfalen</td>\n",
              "      <td>595.0</td>\n",
              "      <td>86.00</td>\n",
              "      <td>Dortmund</td>\n",
              "      <td>False</td>\n",
              "      <td>4.0</td>\n",
              "      <td>181.4</td>\n",
              "      <td>1.0</td>\n",
              "      <td>Dortmund</td>\n",
              "      <td>Schüren</td>\n",
              "    </tr>\n",
              "    <tr>\n",
              "      <th>1</th>\n",
              "      <td>Rheinland_Pfalz</td>\n",
              "      <td>134.00</td>\n",
              "      <td>self_contained_central_heating</td>\n",
              "      <td>3.47</td>\n",
              "      <td>10.0</td>\n",
              "      <td>NaN</td>\n",
              "      <td>2.0</td>\n",
              "      <td>gas</td>\n",
              "      <td>False</td>\n",
              "      <td>Rheinland_Pfalz</td>\n",
              "      <td>800.0</td>\n",
              "      <td>89.00</td>\n",
              "      <td>Rhein_Pfalz_Kreis</td>\n",
              "      <td>False</td>\n",
              "      <td>3.0</td>\n",
              "      <td>NaN</td>\n",
              "      <td>NaN</td>\n",
              "      <td>Rhein_Pfalz_Kreis</td>\n",
              "      <td>Böhl_Iggelheim</td>\n",
              "    </tr>\n",
              "    <tr>\n",
              "      <th>2</th>\n",
              "      <td>Sachsen</td>\n",
              "      <td>255.00</td>\n",
              "      <td>floor_heating</td>\n",
              "      <td>2.72</td>\n",
              "      <td>2.4</td>\n",
              "      <td>1300.0</td>\n",
              "      <td>1.0</td>\n",
              "      <td>NaN</td>\n",
              "      <td>False</td>\n",
              "      <td>Sachsen</td>\n",
              "      <td>965.0</td>\n",
              "      <td>83.80</td>\n",
              "      <td>Dresden</td>\n",
              "      <td>True</td>\n",
              "      <td>3.0</td>\n",
              "      <td>NaN</td>\n",
              "      <td>3.0</td>\n",
              "      <td>Dresden</td>\n",
              "      <td>Äußere_Neustadt_Antonstadt</td>\n",
              "    </tr>\n",
              "    <tr>\n",
              "      <th>3</th>\n",
              "      <td>Sachsen</td>\n",
              "      <td>58.15</td>\n",
              "      <td>district_heating</td>\n",
              "      <td>1.53</td>\n",
              "      <td>40.0</td>\n",
              "      <td>NaN</td>\n",
              "      <td>NaN</td>\n",
              "      <td>district_heating</td>\n",
              "      <td>False</td>\n",
              "      <td>Sachsen</td>\n",
              "      <td>343.0</td>\n",
              "      <td>58.15</td>\n",
              "      <td>Mittelsachsen_Kreis</td>\n",
              "      <td>False</td>\n",
              "      <td>3.0</td>\n",
              "      <td>86.0</td>\n",
              "      <td>3.0</td>\n",
              "      <td>Mittelsachsen_Kreis</td>\n",
              "      <td>Freiberg</td>\n",
              "    </tr>\n",
              "    <tr>\n",
              "      <th>4</th>\n",
              "      <td>Bremen</td>\n",
              "      <td>138.00</td>\n",
              "      <td>self_contained_central_heating</td>\n",
              "      <td>2.46</td>\n",
              "      <td>NaN</td>\n",
              "      <td>903.0</td>\n",
              "      <td>NaN</td>\n",
              "      <td>gas</td>\n",
              "      <td>False</td>\n",
              "      <td>Bremen</td>\n",
              "      <td>765.0</td>\n",
              "      <td>84.97</td>\n",
              "      <td>Bremen</td>\n",
              "      <td>False</td>\n",
              "      <td>3.0</td>\n",
              "      <td>188.9</td>\n",
              "      <td>1.0</td>\n",
              "      <td>Bremen</td>\n",
              "      <td>Neu_Schwachhausen</td>\n",
              "    </tr>\n",
              "  </tbody>\n",
              "</table>\n",
              "</div>\n",
              "      <button class=\"colab-df-convert\" onclick=\"convertToInteractive('df-e3eef7de-7b1c-4a36-b758-0a75f8cd1334')\"\n",
              "              title=\"Convert this dataframe to an interactive table.\"\n",
              "              style=\"display:none;\">\n",
              "        \n",
              "  <svg xmlns=\"http://www.w3.org/2000/svg\" height=\"24px\"viewBox=\"0 0 24 24\"\n",
              "       width=\"24px\">\n",
              "    <path d=\"M0 0h24v24H0V0z\" fill=\"none\"/>\n",
              "    <path d=\"M18.56 5.44l.94 2.06.94-2.06 2.06-.94-2.06-.94-.94-2.06-.94 2.06-2.06.94zm-11 1L8.5 8.5l.94-2.06 2.06-.94-2.06-.94L8.5 2.5l-.94 2.06-2.06.94zm10 10l.94 2.06.94-2.06 2.06-.94-2.06-.94-.94-2.06-.94 2.06-2.06.94z\"/><path d=\"M17.41 7.96l-1.37-1.37c-.4-.4-.92-.59-1.43-.59-.52 0-1.04.2-1.43.59L10.3 9.45l-7.72 7.72c-.78.78-.78 2.05 0 2.83L4 21.41c.39.39.9.59 1.41.59.51 0 1.02-.2 1.41-.59l7.78-7.78 2.81-2.81c.8-.78.8-2.07 0-2.86zM5.41 20L4 18.59l7.72-7.72 1.47 1.35L5.41 20z\"/>\n",
              "  </svg>\n",
              "      </button>\n",
              "      \n",
              "  <style>\n",
              "    .colab-df-container {\n",
              "      display:flex;\n",
              "      flex-wrap:wrap;\n",
              "      gap: 12px;\n",
              "    }\n",
              "\n",
              "    .colab-df-convert {\n",
              "      background-color: #E8F0FE;\n",
              "      border: none;\n",
              "      border-radius: 50%;\n",
              "      cursor: pointer;\n",
              "      display: none;\n",
              "      fill: #1967D2;\n",
              "      height: 32px;\n",
              "      padding: 0 0 0 0;\n",
              "      width: 32px;\n",
              "    }\n",
              "\n",
              "    .colab-df-convert:hover {\n",
              "      background-color: #E2EBFA;\n",
              "      box-shadow: 0px 1px 2px rgba(60, 64, 67, 0.3), 0px 1px 3px 1px rgba(60, 64, 67, 0.15);\n",
              "      fill: #174EA6;\n",
              "    }\n",
              "\n",
              "    [theme=dark] .colab-df-convert {\n",
              "      background-color: #3B4455;\n",
              "      fill: #D2E3FC;\n",
              "    }\n",
              "\n",
              "    [theme=dark] .colab-df-convert:hover {\n",
              "      background-color: #434B5C;\n",
              "      box-shadow: 0px 1px 3px 1px rgba(0, 0, 0, 0.15);\n",
              "      filter: drop-shadow(0px 1px 2px rgba(0, 0, 0, 0.3));\n",
              "      fill: #FFFFFF;\n",
              "    }\n",
              "  </style>\n",
              "\n",
              "      <script>\n",
              "        const buttonEl =\n",
              "          document.querySelector('#df-e3eef7de-7b1c-4a36-b758-0a75f8cd1334 button.colab-df-convert');\n",
              "        buttonEl.style.display =\n",
              "          google.colab.kernel.accessAllowed ? 'block' : 'none';\n",
              "\n",
              "        async function convertToInteractive(key) {\n",
              "          const element = document.querySelector('#df-e3eef7de-7b1c-4a36-b758-0a75f8cd1334');\n",
              "          const dataTable =\n",
              "            await google.colab.kernel.invokeFunction('convertToInteractive',\n",
              "                                                     [key], {});\n",
              "          if (!dataTable) return;\n",
              "\n",
              "          const docLinkHtml = 'Like what you see? Visit the ' +\n",
              "            '<a target=\"_blank\" href=https://colab.research.google.com/notebooks/data_table.ipynb>data table notebook</a>'\n",
              "            + ' to learn more about interactive tables.';\n",
              "          element.innerHTML = '';\n",
              "          dataTable['output_type'] = 'display_data';\n",
              "          await google.colab.output.renderOutput(dataTable, element);\n",
              "          const docLink = document.createElement('div');\n",
              "          docLink.innerHTML = docLinkHtml;\n",
              "          element.appendChild(docLink);\n",
              "        }\n",
              "      </script>\n",
              "    </div>\n",
              "  </div>\n",
              "  "
            ]
          },
          "metadata": {},
          "execution_count": 80
        }
      ]
    },
    {
      "cell_type": "code",
      "source": [
        "data.info"
      ],
      "metadata": {
        "colab": {
          "base_uri": "https://localhost:8080/"
        },
        "id": "shUn5E8w6KYR",
        "outputId": "47cc9e06-31a7-415d-c805-e1afd99eac7e"
      },
      "execution_count": null,
      "outputs": [
        {
          "output_type": "execute_result",
          "data": {
            "text/plain": [
              "<bound method DataFrame.info of                      regio1  serviceCharge                     heatingType  \\\n",
              "0       Nordrhein_Westfalen         245.00                 central_heating   \n",
              "1           Rheinland_Pfalz         134.00  self_contained_central_heating   \n",
              "2                   Sachsen         255.00                   floor_heating   \n",
              "3                   Sachsen          58.15                district_heating   \n",
              "4                    Bremen         138.00  self_contained_central_heating   \n",
              "...                     ...            ...                             ...   \n",
              "268845               Bayern          90.00                       heat_pump   \n",
              "268846               Hessen         220.00                     gas_heating   \n",
              "268847               Hessen         220.00                 central_heating   \n",
              "268848  Nordrhein_Westfalen         175.00                       heat_pump   \n",
              "268849               Hessen         315.00                 central_heating   \n",
              "\n",
              "       telekomTvOffer  telekomHybridUploadSpeed  newlyConst  balcony  \\\n",
              "0       ONE_YEAR_FREE                       NaN       False    False   \n",
              "1       ONE_YEAR_FREE                       NaN       False     True   \n",
              "2       ONE_YEAR_FREE                      10.0        True     True   \n",
              "3       ONE_YEAR_FREE                       NaN       False     True   \n",
              "4                 NaN                       NaN       False     True   \n",
              "...               ...                       ...         ...      ...   \n",
              "268845  ONE_YEAR_FREE                       NaN       False     True   \n",
              "268846            NaN                       NaN       False     True   \n",
              "268847  ONE_YEAR_FREE                       NaN       False     True   \n",
              "268848            NaN                       NaN        True     True   \n",
              "268849            NaN                       NaN       False     True   \n",
              "\n",
              "        picturecount  pricetrend  telekomUploadSpeed  ...  \\\n",
              "0                  6        4.62                10.0  ...   \n",
              "1                  8        3.47                10.0  ...   \n",
              "2                  8        2.72                 2.4  ...   \n",
              "3                  9        1.53                40.0  ...   \n",
              "4                 19        2.46                 NaN  ...   \n",
              "...              ...         ...                 ...  ...   \n",
              "268845             0        2.74                10.0  ...   \n",
              "268846            12        6.49                 NaN  ...   \n",
              "268847            21        2.90                40.0  ...   \n",
              "268848            16        4.39                 NaN  ...   \n",
              "268849             9        5.00                 NaN  ...   \n",
              "\n",
              "                         regio2                      regio3  \\\n",
              "0                      Dortmund                     Schüren   \n",
              "1             Rhein_Pfalz_Kreis              Böhl_Iggelheim   \n",
              "2                       Dresden  Äußere_Neustadt_Antonstadt   \n",
              "3           Mittelsachsen_Kreis                    Freiberg   \n",
              "4                        Bremen           Neu_Schwachhausen   \n",
              "...                         ...                         ...   \n",
              "268845  Weilheim_Schongau_Kreis                    Eberfing   \n",
              "268846         Bergstraße_Kreis                   Viernheim   \n",
              "268847   Limburg_Weilburg_Kreis         Limburg_an_der_Lahn   \n",
              "268848                     Köln                   Dellbrück   \n",
              "268849        Frankfurt_am_Main                  Sossenheim   \n",
              "\n",
              "                                              description  \\\n",
              "0       Die ebenerdig zu erreichende Erdgeschosswohnun...   \n",
              "1       Alles neu macht der Mai – so kann es auch für ...   \n",
              "2       Der Neubau entsteht im Herzen der Dresdner Neu...   \n",
              "3       Abseits von Lärm und Abgasen in Ihre neue Wohn...   \n",
              "4       Es handelt sich hier um ein saniertes Mehrfami...   \n",
              "...                                                   ...   \n",
              "268845  Diese schöne, neuwertige Wohnung im Dachgescho...   \n",
              "268846  Hier wird eine Wohnung im 2 Familienhaus angeb...   \n",
              "268847  gemütliche 4-Zimmer-Wohnung im Obergeschoss ei...   \n",
              "268848  Neubau Erstbezug, gehobener Standard, alle Ein...   \n",
              "268849  Schöne, helle, gut geschnittene und teilmöblie...   \n",
              "\n",
              "                                               facilities heatingCosts  \\\n",
              "0       Die Wohnung ist mit Laminat ausgelegt. Das Bad...          NaN   \n",
              "1                                                     NaN          NaN   \n",
              "2       * 9 m² Balkon\\n* Bad mit bodengleicher Dusche,...          NaN   \n",
              "3                                                     NaN        87.23   \n",
              "4       Diese Wohnung wurde neu saniert und ist wie fo...          NaN   \n",
              "...                                                   ...          ...   \n",
              "268845         Fliesen und Parkett. Sichtbarer Dachstuhl.          NaN   \n",
              "268846  Parkett, Kamin, Badewanne&Dusche\\nGroßer Balko...          NaN   \n",
              "268847  Böden: Wohn-/Schlafbereich = Laminat, Küche + ...          NaN   \n",
              "268848  Wände:\\nMaler­vlies, weiß gestrichen alter­nat...        40.00   \n",
              "268849  Balkon, Keller, Fahrstuhl, Vollbad, Einbauküch...          NaN   \n",
              "\n",
              "        energyEfficiencyClass lastRefurbish  electricityBasePrice  \\\n",
              "0                         NaN           NaN                   NaN   \n",
              "1                         NaN        2019.0                   NaN   \n",
              "2                         NaN           NaN                   NaN   \n",
              "3                         NaN           NaN                   NaN   \n",
              "4                         NaN           NaN                   NaN   \n",
              "...                       ...           ...                   ...   \n",
              "268845                    NaN           NaN                   NaN   \n",
              "268846                    NaN        2015.0                   NaN   \n",
              "268847                    NaN        2019.0                   NaN   \n",
              "268848         NO_INFORMATION        2019.0                   NaN   \n",
              "268849                    NaN           NaN                   NaN   \n",
              "\n",
              "        electricityKwhPrice   date  \n",
              "0                       NaN  May19  \n",
              "1                       NaN  May19  \n",
              "2                       NaN  Oct19  \n",
              "3                       NaN  May19  \n",
              "4                       NaN  Feb20  \n",
              "...                     ...    ...  \n",
              "268845                  NaN  Feb20  \n",
              "268846                  NaN  May19  \n",
              "268847                  NaN  Feb20  \n",
              "268848                  NaN  May19  \n",
              "268849                  NaN  Feb20  \n",
              "\n",
              "[268850 rows x 49 columns]>"
            ]
          },
          "metadata": {},
          "execution_count": 11
        }
      ]
    },
    {
      "cell_type": "markdown",
      "source": [
        "## Handle missing values"
      ],
      "metadata": {
        "id": "vEPvYT9i8hm4"
      }
    },
    {
      "cell_type": "code",
      "source": [
        "def fill_null_with_mean(df, columns):\n",
        "  for column in columns:\n",
        "    mean = df[column].mean()\n",
        "    df[column] = df[column].fillna(mean)\n",
        "\n",
        "def fill_null_with_mode(df, columns):\n",
        "  for column in columns:\n",
        "    mode = df.mode()[column][0]\n",
        "    print(mode)\n",
        "    df[column] = df[column].fillna(mode)\n",
        "\n"
      ],
      "metadata": {
        "id": "X6HvBQGN-2qj"
      },
      "execution_count": null,
      "outputs": []
    },
    {
      "cell_type": "code",
      "source": [
        "fill_null_with_mean(data2, ['thermalChar', 'telekomUploadSpeed'])\n",
        "fill_null_with_mode(data2, ['firingTypes', 'heatingType'])\n",
        "\n",
        "data2['floor'] = data2['floor'].fillna(1.0)\n",
        "data2['noParkSpaces'] = data2['noParkSpaces'].fillna(0.0)\n",
        "\n",
        "print(data2.isnull().sum())\n"
      ],
      "metadata": {
        "colab": {
          "base_uri": "https://localhost:8080/"
        },
        "id": "9mLs6jwbCMaw",
        "outputId": "1d0d9c50-c5a7-46e1-f2d5-db97a0054913"
      },
      "execution_count": null,
      "outputs": [
        {
          "output_type": "stream",
          "name": "stdout",
          "text": [
            "regio1                    0\n",
            "serviceCharge          6909\n",
            "heatingType               0\n",
            "pricetrend             1832\n",
            "telekomUploadSpeed        0\n",
            "totalRent             40517\n",
            "noParkSpaces              0\n",
            "firingTypes               0\n",
            "hasKitchen                0\n",
            "geo_bln                   0\n",
            "baseRent                  0\n",
            "livingSpace               0\n",
            "geo_krs                   0\n",
            "lift                      0\n",
            "noRooms                   0\n",
            "thermalChar               0\n",
            "floor                     0\n",
            "regio2                    0\n",
            "regio3                    0\n",
            "dtype: int64\n"
          ]
        }
      ]
    },
    {
      "cell_type": "code",
      "source": [
        "print(data2.isnull().sum())"
      ],
      "metadata": {
        "colab": {
          "base_uri": "https://localhost:8080/"
        },
        "id": "jNxdqoaHQYhL",
        "outputId": "7ceee827-9704-4e4c-c201-9c1cd1a866b2"
      },
      "execution_count": null,
      "outputs": [
        {
          "output_type": "stream",
          "name": "stdout",
          "text": [
            "regio1                    0\n",
            "serviceCharge          6909\n",
            "heatingType           44856\n",
            "pricetrend             1832\n",
            "telekomUploadSpeed        0\n",
            "totalRent             40517\n",
            "noParkSpaces              0\n",
            "firingTypes           56964\n",
            "hasKitchen                0\n",
            "geo_bln                   0\n",
            "baseRent                  0\n",
            "livingSpace               0\n",
            "geo_krs                   0\n",
            "lift                      0\n",
            "noRooms                   0\n",
            "thermalChar               0\n",
            "floor                     0\n",
            "regio2                    0\n",
            "regio3                    0\n",
            "dtype: int64\n"
          ]
        }
      ]
    },
    {
      "cell_type": "code",
      "source": [
        "def delete_missing_value_rows(data):\n",
        "  print(data.info)\n",
        "  print(data.isnull().sum())\n",
        "  data.dropna(inplace=True)\n",
        "  data.reset_index(drop=True, inplace=True)\n",
        "  print(data.info)\n",
        "  print(data.isnull().sum())\n",
        "  return data"
      ],
      "metadata": {
        "id": "huyFxPEa8h8S"
      },
      "execution_count": null,
      "outputs": []
    },
    {
      "cell_type": "code",
      "source": [
        "data = delete_missing_value_rows(data)"
      ],
      "metadata": {
        "colab": {
          "base_uri": "https://localhost:8080/"
        },
        "id": "n2-60mtD3OlQ",
        "outputId": "42f04b55-fc45-471c-89d3-6633428e1e57"
      },
      "execution_count": null,
      "outputs": [
        {
          "output_type": "stream",
          "name": "stdout",
          "text": [
            "<bound method DataFrame.info of         serviceCharge                     heatingType  telekomUploadSpeed  \\\n",
            "0              245.00                 central_heating                10.0   \n",
            "1              134.00  self_contained_central_heating                10.0   \n",
            "2              255.00                   floor_heating                 2.4   \n",
            "3               58.15                district_heating                40.0   \n",
            "4              138.00  self_contained_central_heating                 NaN   \n",
            "...               ...                             ...                 ...   \n",
            "268845          90.00                       heat_pump                10.0   \n",
            "268846         220.00                     gas_heating                 NaN   \n",
            "268847         220.00                 central_heating                40.0   \n",
            "268848         175.00                       heat_pump                 NaN   \n",
            "268849         315.00                 central_heating                 NaN   \n",
            "\n",
            "        baseRent  \n",
            "0          595.0  \n",
            "1          800.0  \n",
            "2          965.0  \n",
            "3          343.0  \n",
            "4          765.0  \n",
            "...          ...  \n",
            "268845     820.0  \n",
            "268846     930.0  \n",
            "268847     650.0  \n",
            "268848     840.0  \n",
            "268849     935.0  \n",
            "\n",
            "[268850 rows x 4 columns]>\n",
            "serviceCharge          6909\n",
            "heatingType           44856\n",
            "telekomUploadSpeed    33358\n",
            "baseRent                  0\n",
            "dtype: int64\n",
            "<bound method DataFrame.info of         serviceCharge                     heatingType  telekomUploadSpeed  \\\n",
            "0              245.00                 central_heating                10.0   \n",
            "1              134.00  self_contained_central_heating                10.0   \n",
            "2              255.00                   floor_heating                 2.4   \n",
            "3               58.15                district_heating                40.0   \n",
            "4              142.00                     gas_heating                 2.4   \n",
            "...               ...                             ...                 ...   \n",
            "193695          98.00                 central_heating                40.0   \n",
            "193696         120.00                 central_heating                40.0   \n",
            "193697          80.00                     gas_heating                 2.4   \n",
            "193698          90.00                       heat_pump                10.0   \n",
            "193699         220.00                 central_heating                40.0   \n",
            "\n",
            "        baseRent  \n",
            "0         595.00  \n",
            "1         800.00  \n",
            "2         965.00  \n",
            "3         343.00  \n",
            "4         315.20  \n",
            "...          ...  \n",
            "193695    302.52  \n",
            "193696    248.00  \n",
            "193697    590.00  \n",
            "193698    820.00  \n",
            "193699    650.00  \n",
            "\n",
            "[193700 rows x 4 columns]>\n",
            "serviceCharge         0\n",
            "heatingType           0\n",
            "telekomUploadSpeed    0\n",
            "baseRent              0\n",
            "dtype: int64\n"
          ]
        }
      ]
    },
    {
      "cell_type": "code",
      "source": [
        "delete_missing_value_rows(data2)"
      ],
      "metadata": {
        "colab": {
          "base_uri": "https://localhost:8080/",
          "height": 1000
        },
        "id": "EgV0kKfaSCoe",
        "outputId": "9bf848ad-bf83-4636-abe6-d587d2e3ef6e"
      },
      "execution_count": null,
      "outputs": [
        {
          "output_type": "stream",
          "name": "stdout",
          "text": [
            "<bound method DataFrame.info of                      regio1  serviceCharge                     heatingType  \\\n",
            "0       Nordrhein_Westfalen         245.00                 central_heating   \n",
            "1           Rheinland_Pfalz         134.00  self_contained_central_heating   \n",
            "2                   Sachsen         255.00                   floor_heating   \n",
            "3                   Sachsen          58.15                district_heating   \n",
            "4                    Bremen         138.00  self_contained_central_heating   \n",
            "...                     ...            ...                             ...   \n",
            "268845               Bayern          90.00                       heat_pump   \n",
            "268846               Hessen         220.00                     gas_heating   \n",
            "268847               Hessen         220.00                 central_heating   \n",
            "268848  Nordrhein_Westfalen         175.00                       heat_pump   \n",
            "268849               Hessen         315.00                 central_heating   \n",
            "\n",
            "        pricetrend  telekomUploadSpeed  totalRent  noParkSpaces  \\\n",
            "0             4.62           10.000000      840.0           1.0   \n",
            "1             3.47           10.000000        NaN           2.0   \n",
            "2             2.72            2.400000     1300.0           1.0   \n",
            "3             1.53           40.000000        NaN           0.0   \n",
            "4             2.46           28.804928      903.0           0.0   \n",
            "...            ...                 ...        ...           ...   \n",
            "268845        2.74           10.000000      910.0           1.0   \n",
            "268846        6.49           28.804928     1150.0           1.0   \n",
            "268847        2.90           40.000000      930.0           1.0   \n",
            "268848        4.39           28.804928     1015.0           1.0   \n",
            "268849        5.00           28.804928        NaN           1.0   \n",
            "\n",
            "             firingTypes  hasKitchen              geo_bln  baseRent  \\\n",
            "0                    oil       False  Nordrhein_Westfalen     595.0   \n",
            "1                    gas       False      Rheinland_Pfalz     800.0   \n",
            "2                    gas       False              Sachsen     965.0   \n",
            "3       district_heating       False              Sachsen     343.0   \n",
            "4                    gas       False               Bremen     765.0   \n",
            "...                  ...         ...                  ...       ...   \n",
            "268845        geothermal       False               Bayern     820.0   \n",
            "268846               gas        True               Hessen     930.0   \n",
            "268847               gas       False               Hessen     650.0   \n",
            "268848               gas       False  Nordrhein_Westfalen     840.0   \n",
            "268849  district_heating        True               Hessen     935.0   \n",
            "\n",
            "        livingSpace                  geo_krs   lift  noRooms  thermalChar  \\\n",
            "0             86.00                 Dortmund  False      4.0   181.400000   \n",
            "1             89.00        Rhein_Pfalz_Kreis  False      3.0   114.749533   \n",
            "2             83.80                  Dresden   True      3.0   114.749533   \n",
            "3             58.15      Mittelsachsen_Kreis  False      3.0    86.000000   \n",
            "4             84.97                   Bremen  False      3.0   188.900000   \n",
            "...             ...                      ...    ...      ...          ...   \n",
            "268845        90.00  Weilheim_Schongau_Kreis  False      3.0   114.749533   \n",
            "268846       115.00         Bergstraße_Kreis  False      3.5   114.749533   \n",
            "268847        95.00   Limburg_Weilburg_Kreis  False      4.0   160.770000   \n",
            "268848        70.00                     Köln   True      2.0    24.700000   \n",
            "268849        77.00        Frankfurt_am_Main   True      3.0   114.749533   \n",
            "\n",
            "        floor                   regio2                      regio3  \n",
            "0         1.0                 Dortmund                     Schüren  \n",
            "1         1.0        Rhein_Pfalz_Kreis              Böhl_Iggelheim  \n",
            "2         3.0                  Dresden  Äußere_Neustadt_Antonstadt  \n",
            "3         3.0      Mittelsachsen_Kreis                    Freiberg  \n",
            "4         1.0                   Bremen           Neu_Schwachhausen  \n",
            "...       ...                      ...                         ...  \n",
            "268845    1.0  Weilheim_Schongau_Kreis                    Eberfing  \n",
            "268846    1.0         Bergstraße_Kreis                   Viernheim  \n",
            "268847    1.0   Limburg_Weilburg_Kreis         Limburg_an_der_Lahn  \n",
            "268848    1.0                     Köln                   Dellbrück  \n",
            "268849    1.0        Frankfurt_am_Main                  Sossenheim  \n",
            "\n",
            "[268850 rows x 19 columns]>\n",
            "regio1                    0\n",
            "serviceCharge          6909\n",
            "heatingType               0\n",
            "pricetrend             1832\n",
            "telekomUploadSpeed        0\n",
            "totalRent             40517\n",
            "noParkSpaces              0\n",
            "firingTypes               0\n",
            "hasKitchen                0\n",
            "geo_bln                   0\n",
            "baseRent                  0\n",
            "livingSpace               0\n",
            "geo_krs                   0\n",
            "lift                      0\n",
            "noRooms                   0\n",
            "thermalChar               0\n",
            "floor                     0\n",
            "regio2                    0\n",
            "regio3                    0\n",
            "dtype: int64\n",
            "<bound method DataFrame.info of                      regio1  serviceCharge                     heatingType  \\\n",
            "0       Nordrhein_Westfalen          245.0                 central_heating   \n",
            "1                   Sachsen          255.0                   floor_heating   \n",
            "2                    Bremen          138.0  self_contained_central_heating   \n",
            "3                   Sachsen           70.0  self_contained_central_heating   \n",
            "4                    Bremen           88.0                 central_heating   \n",
            "...                     ...            ...                             ...   \n",
            "222649  Nordrhein_Westfalen           80.0                     gas_heating   \n",
            "222650               Bayern           90.0                       heat_pump   \n",
            "222651               Hessen          220.0                     gas_heating   \n",
            "222652               Hessen          220.0                 central_heating   \n",
            "222653  Nordrhein_Westfalen          175.0                       heat_pump   \n",
            "\n",
            "        pricetrend  telekomUploadSpeed  totalRent  noParkSpaces  \\\n",
            "0             4.62           10.000000     840.00           1.0   \n",
            "1             2.72            2.400000    1300.00           1.0   \n",
            "2             2.46           28.804928     903.00           0.0   \n",
            "3             1.01            2.400000     380.00           0.0   \n",
            "4             1.89            2.400000     584.25           0.0   \n",
            "...            ...                 ...        ...           ...   \n",
            "222649        2.58            2.400000     670.00           0.0   \n",
            "222650        2.74           10.000000     910.00           1.0   \n",
            "222651        6.49           28.804928    1150.00           1.0   \n",
            "222652        2.90           40.000000     930.00           1.0   \n",
            "222653        4.39           28.804928    1015.00           1.0   \n",
            "\n",
            "            firingTypes  hasKitchen              geo_bln  baseRent  \\\n",
            "0                   oil       False  Nordrhein_Westfalen    595.00   \n",
            "1                   gas       False              Sachsen    965.00   \n",
            "2                   gas       False               Bremen    765.00   \n",
            "3                   gas       False              Sachsen    310.00   \n",
            "4       gas:electricity       False               Bremen    452.25   \n",
            "...                 ...         ...                  ...       ...   \n",
            "222649              gas       False  Nordrhein_Westfalen    590.00   \n",
            "222650       geothermal       False               Bayern    820.00   \n",
            "222651              gas        True               Hessen    930.00   \n",
            "222652              gas       False               Hessen    650.00   \n",
            "222653              gas       False  Nordrhein_Westfalen    840.00   \n",
            "\n",
            "        livingSpace                  geo_krs   lift  noRooms  thermalChar  \\\n",
            "0             86.00                 Dortmund  False      4.0   181.400000   \n",
            "1             83.80                  Dresden   True      3.0   114.749533   \n",
            "2             84.97                   Bremen  False      3.0   188.900000   \n",
            "3             62.00      Mittelsachsen_Kreis  False      2.0   114.749533   \n",
            "4             60.30                   Bremen  False      3.0    63.000000   \n",
            "...             ...                      ...    ...      ...          ...   \n",
            "222649        85.00                    Essen  False      3.0   114.749533   \n",
            "222650        90.00  Weilheim_Schongau_Kreis  False      3.0   114.749533   \n",
            "222651       115.00         Bergstraße_Kreis  False      3.5   114.749533   \n",
            "222652        95.00   Limburg_Weilburg_Kreis  False      4.0   160.770000   \n",
            "222653        70.00                     Köln   True      2.0    24.700000   \n",
            "\n",
            "        floor                   regio2                      regio3  \n",
            "0         1.0                 Dortmund                     Schüren  \n",
            "1         3.0                  Dresden  Äußere_Neustadt_Antonstadt  \n",
            "2         1.0                   Bremen           Neu_Schwachhausen  \n",
            "3         1.0      Mittelsachsen_Kreis                    Freiberg  \n",
            "4         1.0                   Bremen                  St._Magnus  \n",
            "...       ...                      ...                         ...  \n",
            "222649    3.0                    Essen                       Horst  \n",
            "222650    1.0  Weilheim_Schongau_Kreis                    Eberfing  \n",
            "222651    1.0         Bergstraße_Kreis                   Viernheim  \n",
            "222652    1.0   Limburg_Weilburg_Kreis         Limburg_an_der_Lahn  \n",
            "222653    1.0                     Köln                   Dellbrück  \n",
            "\n",
            "[222654 rows x 19 columns]>\n",
            "regio1                0\n",
            "serviceCharge         0\n",
            "heatingType           0\n",
            "pricetrend            0\n",
            "telekomUploadSpeed    0\n",
            "totalRent             0\n",
            "noParkSpaces          0\n",
            "firingTypes           0\n",
            "hasKitchen            0\n",
            "geo_bln               0\n",
            "baseRent              0\n",
            "livingSpace           0\n",
            "geo_krs               0\n",
            "lift                  0\n",
            "noRooms               0\n",
            "thermalChar           0\n",
            "floor                 0\n",
            "regio2                0\n",
            "regio3                0\n",
            "dtype: int64\n"
          ]
        },
        {
          "output_type": "execute_result",
          "data": {
            "text/plain": [
              "                     regio1  serviceCharge                     heatingType  \\\n",
              "0       Nordrhein_Westfalen          245.0                 central_heating   \n",
              "1                   Sachsen          255.0                   floor_heating   \n",
              "2                    Bremen          138.0  self_contained_central_heating   \n",
              "3                   Sachsen           70.0  self_contained_central_heating   \n",
              "4                    Bremen           88.0                 central_heating   \n",
              "...                     ...            ...                             ...   \n",
              "222649  Nordrhein_Westfalen           80.0                     gas_heating   \n",
              "222650               Bayern           90.0                       heat_pump   \n",
              "222651               Hessen          220.0                     gas_heating   \n",
              "222652               Hessen          220.0                 central_heating   \n",
              "222653  Nordrhein_Westfalen          175.0                       heat_pump   \n",
              "\n",
              "        pricetrend  telekomUploadSpeed  totalRent  noParkSpaces  \\\n",
              "0             4.62           10.000000     840.00           1.0   \n",
              "1             2.72            2.400000    1300.00           1.0   \n",
              "2             2.46           28.804928     903.00           0.0   \n",
              "3             1.01            2.400000     380.00           0.0   \n",
              "4             1.89            2.400000     584.25           0.0   \n",
              "...            ...                 ...        ...           ...   \n",
              "222649        2.58            2.400000     670.00           0.0   \n",
              "222650        2.74           10.000000     910.00           1.0   \n",
              "222651        6.49           28.804928    1150.00           1.0   \n",
              "222652        2.90           40.000000     930.00           1.0   \n",
              "222653        4.39           28.804928    1015.00           1.0   \n",
              "\n",
              "            firingTypes  hasKitchen              geo_bln  baseRent  \\\n",
              "0                   oil       False  Nordrhein_Westfalen    595.00   \n",
              "1                   gas       False              Sachsen    965.00   \n",
              "2                   gas       False               Bremen    765.00   \n",
              "3                   gas       False              Sachsen    310.00   \n",
              "4       gas:electricity       False               Bremen    452.25   \n",
              "...                 ...         ...                  ...       ...   \n",
              "222649              gas       False  Nordrhein_Westfalen    590.00   \n",
              "222650       geothermal       False               Bayern    820.00   \n",
              "222651              gas        True               Hessen    930.00   \n",
              "222652              gas       False               Hessen    650.00   \n",
              "222653              gas       False  Nordrhein_Westfalen    840.00   \n",
              "\n",
              "        livingSpace                  geo_krs   lift  noRooms  thermalChar  \\\n",
              "0             86.00                 Dortmund  False      4.0   181.400000   \n",
              "1             83.80                  Dresden   True      3.0   114.749533   \n",
              "2             84.97                   Bremen  False      3.0   188.900000   \n",
              "3             62.00      Mittelsachsen_Kreis  False      2.0   114.749533   \n",
              "4             60.30                   Bremen  False      3.0    63.000000   \n",
              "...             ...                      ...    ...      ...          ...   \n",
              "222649        85.00                    Essen  False      3.0   114.749533   \n",
              "222650        90.00  Weilheim_Schongau_Kreis  False      3.0   114.749533   \n",
              "222651       115.00         Bergstraße_Kreis  False      3.5   114.749533   \n",
              "222652        95.00   Limburg_Weilburg_Kreis  False      4.0   160.770000   \n",
              "222653        70.00                     Köln   True      2.0    24.700000   \n",
              "\n",
              "        floor                   regio2                      regio3  \n",
              "0         1.0                 Dortmund                     Schüren  \n",
              "1         3.0                  Dresden  Äußere_Neustadt_Antonstadt  \n",
              "2         1.0                   Bremen           Neu_Schwachhausen  \n",
              "3         1.0      Mittelsachsen_Kreis                    Freiberg  \n",
              "4         1.0                   Bremen                  St._Magnus  \n",
              "...       ...                      ...                         ...  \n",
              "222649    3.0                    Essen                       Horst  \n",
              "222650    1.0  Weilheim_Schongau_Kreis                    Eberfing  \n",
              "222651    1.0         Bergstraße_Kreis                   Viernheim  \n",
              "222652    1.0   Limburg_Weilburg_Kreis         Limburg_an_der_Lahn  \n",
              "222653    1.0                     Köln                   Dellbrück  \n",
              "\n",
              "[222654 rows x 19 columns]"
            ],
            "text/html": [
              "\n",
              "  <div id=\"df-c4e5a4a7-44ed-4b6a-a3b9-1cbb0f3a44c5\">\n",
              "    <div class=\"colab-df-container\">\n",
              "      <div>\n",
              "<style scoped>\n",
              "    .dataframe tbody tr th:only-of-type {\n",
              "        vertical-align: middle;\n",
              "    }\n",
              "\n",
              "    .dataframe tbody tr th {\n",
              "        vertical-align: top;\n",
              "    }\n",
              "\n",
              "    .dataframe thead th {\n",
              "        text-align: right;\n",
              "    }\n",
              "</style>\n",
              "<table border=\"1\" class=\"dataframe\">\n",
              "  <thead>\n",
              "    <tr style=\"text-align: right;\">\n",
              "      <th></th>\n",
              "      <th>regio1</th>\n",
              "      <th>serviceCharge</th>\n",
              "      <th>heatingType</th>\n",
              "      <th>pricetrend</th>\n",
              "      <th>telekomUploadSpeed</th>\n",
              "      <th>totalRent</th>\n",
              "      <th>noParkSpaces</th>\n",
              "      <th>firingTypes</th>\n",
              "      <th>hasKitchen</th>\n",
              "      <th>geo_bln</th>\n",
              "      <th>baseRent</th>\n",
              "      <th>livingSpace</th>\n",
              "      <th>geo_krs</th>\n",
              "      <th>lift</th>\n",
              "      <th>noRooms</th>\n",
              "      <th>thermalChar</th>\n",
              "      <th>floor</th>\n",
              "      <th>regio2</th>\n",
              "      <th>regio3</th>\n",
              "    </tr>\n",
              "  </thead>\n",
              "  <tbody>\n",
              "    <tr>\n",
              "      <th>0</th>\n",
              "      <td>Nordrhein_Westfalen</td>\n",
              "      <td>245.0</td>\n",
              "      <td>central_heating</td>\n",
              "      <td>4.62</td>\n",
              "      <td>10.000000</td>\n",
              "      <td>840.00</td>\n",
              "      <td>1.0</td>\n",
              "      <td>oil</td>\n",
              "      <td>False</td>\n",
              "      <td>Nordrhein_Westfalen</td>\n",
              "      <td>595.00</td>\n",
              "      <td>86.00</td>\n",
              "      <td>Dortmund</td>\n",
              "      <td>False</td>\n",
              "      <td>4.0</td>\n",
              "      <td>181.400000</td>\n",
              "      <td>1.0</td>\n",
              "      <td>Dortmund</td>\n",
              "      <td>Schüren</td>\n",
              "    </tr>\n",
              "    <tr>\n",
              "      <th>1</th>\n",
              "      <td>Sachsen</td>\n",
              "      <td>255.0</td>\n",
              "      <td>floor_heating</td>\n",
              "      <td>2.72</td>\n",
              "      <td>2.400000</td>\n",
              "      <td>1300.00</td>\n",
              "      <td>1.0</td>\n",
              "      <td>gas</td>\n",
              "      <td>False</td>\n",
              "      <td>Sachsen</td>\n",
              "      <td>965.00</td>\n",
              "      <td>83.80</td>\n",
              "      <td>Dresden</td>\n",
              "      <td>True</td>\n",
              "      <td>3.0</td>\n",
              "      <td>114.749533</td>\n",
              "      <td>3.0</td>\n",
              "      <td>Dresden</td>\n",
              "      <td>Äußere_Neustadt_Antonstadt</td>\n",
              "    </tr>\n",
              "    <tr>\n",
              "      <th>2</th>\n",
              "      <td>Bremen</td>\n",
              "      <td>138.0</td>\n",
              "      <td>self_contained_central_heating</td>\n",
              "      <td>2.46</td>\n",
              "      <td>28.804928</td>\n",
              "      <td>903.00</td>\n",
              "      <td>0.0</td>\n",
              "      <td>gas</td>\n",
              "      <td>False</td>\n",
              "      <td>Bremen</td>\n",
              "      <td>765.00</td>\n",
              "      <td>84.97</td>\n",
              "      <td>Bremen</td>\n",
              "      <td>False</td>\n",
              "      <td>3.0</td>\n",
              "      <td>188.900000</td>\n",
              "      <td>1.0</td>\n",
              "      <td>Bremen</td>\n",
              "      <td>Neu_Schwachhausen</td>\n",
              "    </tr>\n",
              "    <tr>\n",
              "      <th>3</th>\n",
              "      <td>Sachsen</td>\n",
              "      <td>70.0</td>\n",
              "      <td>self_contained_central_heating</td>\n",
              "      <td>1.01</td>\n",
              "      <td>2.400000</td>\n",
              "      <td>380.00</td>\n",
              "      <td>0.0</td>\n",
              "      <td>gas</td>\n",
              "      <td>False</td>\n",
              "      <td>Sachsen</td>\n",
              "      <td>310.00</td>\n",
              "      <td>62.00</td>\n",
              "      <td>Mittelsachsen_Kreis</td>\n",
              "      <td>False</td>\n",
              "      <td>2.0</td>\n",
              "      <td>114.749533</td>\n",
              "      <td>1.0</td>\n",
              "      <td>Mittelsachsen_Kreis</td>\n",
              "      <td>Freiberg</td>\n",
              "    </tr>\n",
              "    <tr>\n",
              "      <th>4</th>\n",
              "      <td>Bremen</td>\n",
              "      <td>88.0</td>\n",
              "      <td>central_heating</td>\n",
              "      <td>1.89</td>\n",
              "      <td>2.400000</td>\n",
              "      <td>584.25</td>\n",
              "      <td>0.0</td>\n",
              "      <td>gas:electricity</td>\n",
              "      <td>False</td>\n",
              "      <td>Bremen</td>\n",
              "      <td>452.25</td>\n",
              "      <td>60.30</td>\n",
              "      <td>Bremen</td>\n",
              "      <td>False</td>\n",
              "      <td>3.0</td>\n",
              "      <td>63.000000</td>\n",
              "      <td>1.0</td>\n",
              "      <td>Bremen</td>\n",
              "      <td>St._Magnus</td>\n",
              "    </tr>\n",
              "    <tr>\n",
              "      <th>...</th>\n",
              "      <td>...</td>\n",
              "      <td>...</td>\n",
              "      <td>...</td>\n",
              "      <td>...</td>\n",
              "      <td>...</td>\n",
              "      <td>...</td>\n",
              "      <td>...</td>\n",
              "      <td>...</td>\n",
              "      <td>...</td>\n",
              "      <td>...</td>\n",
              "      <td>...</td>\n",
              "      <td>...</td>\n",
              "      <td>...</td>\n",
              "      <td>...</td>\n",
              "      <td>...</td>\n",
              "      <td>...</td>\n",
              "      <td>...</td>\n",
              "      <td>...</td>\n",
              "      <td>...</td>\n",
              "    </tr>\n",
              "    <tr>\n",
              "      <th>222649</th>\n",
              "      <td>Nordrhein_Westfalen</td>\n",
              "      <td>80.0</td>\n",
              "      <td>gas_heating</td>\n",
              "      <td>2.58</td>\n",
              "      <td>2.400000</td>\n",
              "      <td>670.00</td>\n",
              "      <td>0.0</td>\n",
              "      <td>gas</td>\n",
              "      <td>False</td>\n",
              "      <td>Nordrhein_Westfalen</td>\n",
              "      <td>590.00</td>\n",
              "      <td>85.00</td>\n",
              "      <td>Essen</td>\n",
              "      <td>False</td>\n",
              "      <td>3.0</td>\n",
              "      <td>114.749533</td>\n",
              "      <td>3.0</td>\n",
              "      <td>Essen</td>\n",
              "      <td>Horst</td>\n",
              "    </tr>\n",
              "    <tr>\n",
              "      <th>222650</th>\n",
              "      <td>Bayern</td>\n",
              "      <td>90.0</td>\n",
              "      <td>heat_pump</td>\n",
              "      <td>2.74</td>\n",
              "      <td>10.000000</td>\n",
              "      <td>910.00</td>\n",
              "      <td>1.0</td>\n",
              "      <td>geothermal</td>\n",
              "      <td>False</td>\n",
              "      <td>Bayern</td>\n",
              "      <td>820.00</td>\n",
              "      <td>90.00</td>\n",
              "      <td>Weilheim_Schongau_Kreis</td>\n",
              "      <td>False</td>\n",
              "      <td>3.0</td>\n",
              "      <td>114.749533</td>\n",
              "      <td>1.0</td>\n",
              "      <td>Weilheim_Schongau_Kreis</td>\n",
              "      <td>Eberfing</td>\n",
              "    </tr>\n",
              "    <tr>\n",
              "      <th>222651</th>\n",
              "      <td>Hessen</td>\n",
              "      <td>220.0</td>\n",
              "      <td>gas_heating</td>\n",
              "      <td>6.49</td>\n",
              "      <td>28.804928</td>\n",
              "      <td>1150.00</td>\n",
              "      <td>1.0</td>\n",
              "      <td>gas</td>\n",
              "      <td>True</td>\n",
              "      <td>Hessen</td>\n",
              "      <td>930.00</td>\n",
              "      <td>115.00</td>\n",
              "      <td>Bergstraße_Kreis</td>\n",
              "      <td>False</td>\n",
              "      <td>3.5</td>\n",
              "      <td>114.749533</td>\n",
              "      <td>1.0</td>\n",
              "      <td>Bergstraße_Kreis</td>\n",
              "      <td>Viernheim</td>\n",
              "    </tr>\n",
              "    <tr>\n",
              "      <th>222652</th>\n",
              "      <td>Hessen</td>\n",
              "      <td>220.0</td>\n",
              "      <td>central_heating</td>\n",
              "      <td>2.90</td>\n",
              "      <td>40.000000</td>\n",
              "      <td>930.00</td>\n",
              "      <td>1.0</td>\n",
              "      <td>gas</td>\n",
              "      <td>False</td>\n",
              "      <td>Hessen</td>\n",
              "      <td>650.00</td>\n",
              "      <td>95.00</td>\n",
              "      <td>Limburg_Weilburg_Kreis</td>\n",
              "      <td>False</td>\n",
              "      <td>4.0</td>\n",
              "      <td>160.770000</td>\n",
              "      <td>1.0</td>\n",
              "      <td>Limburg_Weilburg_Kreis</td>\n",
              "      <td>Limburg_an_der_Lahn</td>\n",
              "    </tr>\n",
              "    <tr>\n",
              "      <th>222653</th>\n",
              "      <td>Nordrhein_Westfalen</td>\n",
              "      <td>175.0</td>\n",
              "      <td>heat_pump</td>\n",
              "      <td>4.39</td>\n",
              "      <td>28.804928</td>\n",
              "      <td>1015.00</td>\n",
              "      <td>1.0</td>\n",
              "      <td>gas</td>\n",
              "      <td>False</td>\n",
              "      <td>Nordrhein_Westfalen</td>\n",
              "      <td>840.00</td>\n",
              "      <td>70.00</td>\n",
              "      <td>Köln</td>\n",
              "      <td>True</td>\n",
              "      <td>2.0</td>\n",
              "      <td>24.700000</td>\n",
              "      <td>1.0</td>\n",
              "      <td>Köln</td>\n",
              "      <td>Dellbrück</td>\n",
              "    </tr>\n",
              "  </tbody>\n",
              "</table>\n",
              "<p>222654 rows × 19 columns</p>\n",
              "</div>\n",
              "      <button class=\"colab-df-convert\" onclick=\"convertToInteractive('df-c4e5a4a7-44ed-4b6a-a3b9-1cbb0f3a44c5')\"\n",
              "              title=\"Convert this dataframe to an interactive table.\"\n",
              "              style=\"display:none;\">\n",
              "        \n",
              "  <svg xmlns=\"http://www.w3.org/2000/svg\" height=\"24px\"viewBox=\"0 0 24 24\"\n",
              "       width=\"24px\">\n",
              "    <path d=\"M0 0h24v24H0V0z\" fill=\"none\"/>\n",
              "    <path d=\"M18.56 5.44l.94 2.06.94-2.06 2.06-.94-2.06-.94-.94-2.06-.94 2.06-2.06.94zm-11 1L8.5 8.5l.94-2.06 2.06-.94-2.06-.94L8.5 2.5l-.94 2.06-2.06.94zm10 10l.94 2.06.94-2.06 2.06-.94-2.06-.94-.94-2.06-.94 2.06-2.06.94z\"/><path d=\"M17.41 7.96l-1.37-1.37c-.4-.4-.92-.59-1.43-.59-.52 0-1.04.2-1.43.59L10.3 9.45l-7.72 7.72c-.78.78-.78 2.05 0 2.83L4 21.41c.39.39.9.59 1.41.59.51 0 1.02-.2 1.41-.59l7.78-7.78 2.81-2.81c.8-.78.8-2.07 0-2.86zM5.41 20L4 18.59l7.72-7.72 1.47 1.35L5.41 20z\"/>\n",
              "  </svg>\n",
              "      </button>\n",
              "      \n",
              "  <style>\n",
              "    .colab-df-container {\n",
              "      display:flex;\n",
              "      flex-wrap:wrap;\n",
              "      gap: 12px;\n",
              "    }\n",
              "\n",
              "    .colab-df-convert {\n",
              "      background-color: #E8F0FE;\n",
              "      border: none;\n",
              "      border-radius: 50%;\n",
              "      cursor: pointer;\n",
              "      display: none;\n",
              "      fill: #1967D2;\n",
              "      height: 32px;\n",
              "      padding: 0 0 0 0;\n",
              "      width: 32px;\n",
              "    }\n",
              "\n",
              "    .colab-df-convert:hover {\n",
              "      background-color: #E2EBFA;\n",
              "      box-shadow: 0px 1px 2px rgba(60, 64, 67, 0.3), 0px 1px 3px 1px rgba(60, 64, 67, 0.15);\n",
              "      fill: #174EA6;\n",
              "    }\n",
              "\n",
              "    [theme=dark] .colab-df-convert {\n",
              "      background-color: #3B4455;\n",
              "      fill: #D2E3FC;\n",
              "    }\n",
              "\n",
              "    [theme=dark] .colab-df-convert:hover {\n",
              "      background-color: #434B5C;\n",
              "      box-shadow: 0px 1px 3px 1px rgba(0, 0, 0, 0.15);\n",
              "      filter: drop-shadow(0px 1px 2px rgba(0, 0, 0, 0.3));\n",
              "      fill: #FFFFFF;\n",
              "    }\n",
              "  </style>\n",
              "\n",
              "      <script>\n",
              "        const buttonEl =\n",
              "          document.querySelector('#df-c4e5a4a7-44ed-4b6a-a3b9-1cbb0f3a44c5 button.colab-df-convert');\n",
              "        buttonEl.style.display =\n",
              "          google.colab.kernel.accessAllowed ? 'block' : 'none';\n",
              "\n",
              "        async function convertToInteractive(key) {\n",
              "          const element = document.querySelector('#df-c4e5a4a7-44ed-4b6a-a3b9-1cbb0f3a44c5');\n",
              "          const dataTable =\n",
              "            await google.colab.kernel.invokeFunction('convertToInteractive',\n",
              "                                                     [key], {});\n",
              "          if (!dataTable) return;\n",
              "\n",
              "          const docLinkHtml = 'Like what you see? Visit the ' +\n",
              "            '<a target=\"_blank\" href=https://colab.research.google.com/notebooks/data_table.ipynb>data table notebook</a>'\n",
              "            + ' to learn more about interactive tables.';\n",
              "          element.innerHTML = '';\n",
              "          dataTable['output_type'] = 'display_data';\n",
              "          await google.colab.output.renderOutput(dataTable, element);\n",
              "          const docLink = document.createElement('div');\n",
              "          docLink.innerHTML = docLinkHtml;\n",
              "          element.appendChild(docLink);\n",
              "        }\n",
              "      </script>\n",
              "    </div>\n",
              "  </div>\n",
              "  "
            ]
          },
          "metadata": {},
          "execution_count": 100
        }
      ]
    },
    {
      "cell_type": "markdown",
      "source": [
        "## Convert string column to numeric\n"
      ],
      "metadata": {
        "id": "AHgcr4n4vDBf"
      }
    },
    {
      "cell_type": "code",
      "source": [
        "def column_to_numeric(dataset, column):\n",
        "  str_num_dict = {}\n",
        "  i = 0\n",
        "  for term in dataset[column].unique():\n",
        "    str_num_dict[term] = float(i)\n",
        "    i += 1\n",
        "  dataset[column].replace(str_num_dict, inplace=True)\n",
        "  return dataset\n",
        "\n",
        "def columns_to_numeric(dataset, columns):\n",
        "  for column in columns:\n",
        "    dataset = column_to_numeric(dataset, column)\n",
        "  return dataset"
      ],
      "metadata": {
        "id": "356wDVj3-ReA"
      },
      "execution_count": 1,
      "outputs": []
    },
    {
      "cell_type": "code",
      "source": [
        " data2 = column_to_numeric(data2, 'hasKitchen')\n",
        "data2.head()"
      ],
      "metadata": {
        "colab": {
          "base_uri": "https://localhost:8080/",
          "height": 183
        },
        "id": "Ric7rzi4TYXQ",
        "outputId": "b9454367-79e2-45a2-eb69-521c318b4906"
      },
      "execution_count": 4,
      "outputs": [
        {
          "output_type": "error",
          "ename": "NameError",
          "evalue": "ignored",
          "traceback": [
            "\u001b[0;31m---------------------------------------------------------------------------\u001b[0m",
            "\u001b[0;31mNameError\u001b[0m                                 Traceback (most recent call last)",
            "\u001b[0;32m<ipython-input-4-54e977bb70a5>\u001b[0m in \u001b[0;36m<module>\u001b[0;34m()\u001b[0m\n\u001b[0;32m----> 1\u001b[0;31m \u001b[0mdata2\u001b[0m \u001b[0;34m=\u001b[0m \u001b[0mcolumn_to_numeric\u001b[0m\u001b[0;34m(\u001b[0m\u001b[0mdata2\u001b[0m\u001b[0;34m,\u001b[0m \u001b[0;34m'hasKitchen'\u001b[0m\u001b[0;34m)\u001b[0m\u001b[0;34m\u001b[0m\u001b[0;34m\u001b[0m\u001b[0m\n\u001b[0m\u001b[1;32m      2\u001b[0m \u001b[0mdata2\u001b[0m\u001b[0;34m.\u001b[0m\u001b[0mhead\u001b[0m\u001b[0;34m(\u001b[0m\u001b[0;34m)\u001b[0m\u001b[0;34m\u001b[0m\u001b[0;34m\u001b[0m\u001b[0m\n",
            "\u001b[0;31mNameError\u001b[0m: name 'data2' is not defined"
          ]
        }
      ]
    },
    {
      "cell_type": "code",
      "source": [
        "data = column_to_numeric(data, 'heatingType')\n",
        "data.head()"
      ],
      "metadata": {
        "id": "yBq1fteYX1-Q"
      },
      "execution_count": null,
      "outputs": []
    },
    {
      "cell_type": "code",
      "source": [
        "columns_to_numeric(data2, [ 'regio1', 'heatingType', 'firingTypes', 'geo_bln', 'geo_krs', 'lift', 'regio2', 'regio3'])"
      ],
      "metadata": {
        "id": "YVryhUZpSdCo"
      },
      "execution_count": null,
      "outputs": []
    },
    {
      "cell_type": "markdown",
      "source": [
        "# Split a dataset into a train and test set\n"
      ],
      "metadata": {
        "id": "vg-o699CzU9H"
      }
    },
    {
      "cell_type": "markdown",
      "source": [
        "## Split function"
      ],
      "metadata": {
        "id": "C_E1zyyqIGvY"
      }
    },
    {
      "cell_type": "code",
      "source": [
        "def split(df, ratio):\n",
        "  # Shuffle your dataset \n",
        "  shuffle_df = df.sample(frac=1)\n",
        "\n",
        "    # Define a size for your train set \n",
        "  train_size = int(ratio * len(df))\n",
        "\n",
        "    # Split your dataset \n",
        "  train = shuffle_df[:train_size]\n",
        "  test = shuffle_df[train_size:]\n",
        "  return train, test\n"
      ],
      "metadata": {
        "id": "CRU4A2LxoupL"
      },
      "execution_count": null,
      "outputs": []
    },
    {
      "cell_type": "markdown",
      "source": [
        "## Split data"
      ],
      "metadata": {
        "id": "VotExTNnIP4z"
      }
    },
    {
      "cell_type": "code",
      "source": [
        "train, test = split(data, 0.7)\n",
        "test"
      ],
      "metadata": {
        "colab": {
          "base_uri": "https://localhost:8080/",
          "height": 424
        },
        "id": "vBU-EvG0o9dJ",
        "outputId": "762dddc8-000d-4df1-9018-88ce7760dba4"
      },
      "execution_count": null,
      "outputs": [
        {
          "output_type": "execute_result",
          "data": {
            "text/plain": [
              "        serviceCharge  heatingType  telekomUploadSpeed  baseRent\n",
              "188558           74.4          0.0                40.0     328.6\n",
              "56410           150.0          0.0                40.0     450.0\n",
              "127926          166.0          0.0                 2.4    1084.0\n",
              "98839           350.0          3.0                10.0    1200.0\n",
              "114631           80.0          1.0                40.0     565.0\n",
              "...               ...          ...                 ...       ...\n",
              "161952           90.0          0.0                40.0     349.0\n",
              "14851           315.0          2.0                 2.4    1145.0\n",
              "192998          180.0          0.0                40.0     600.0\n",
              "50676           120.0          0.0                40.0     519.0\n",
              "111732           65.0          0.0                40.0     297.0\n",
              "\n",
              "[58110 rows x 4 columns]"
            ],
            "text/html": [
              "\n",
              "  <div id=\"df-203fd741-f5e5-4dd5-9817-69064d95e11f\">\n",
              "    <div class=\"colab-df-container\">\n",
              "      <div>\n",
              "<style scoped>\n",
              "    .dataframe tbody tr th:only-of-type {\n",
              "        vertical-align: middle;\n",
              "    }\n",
              "\n",
              "    .dataframe tbody tr th {\n",
              "        vertical-align: top;\n",
              "    }\n",
              "\n",
              "    .dataframe thead th {\n",
              "        text-align: right;\n",
              "    }\n",
              "</style>\n",
              "<table border=\"1\" class=\"dataframe\">\n",
              "  <thead>\n",
              "    <tr style=\"text-align: right;\">\n",
              "      <th></th>\n",
              "      <th>serviceCharge</th>\n",
              "      <th>heatingType</th>\n",
              "      <th>telekomUploadSpeed</th>\n",
              "      <th>baseRent</th>\n",
              "    </tr>\n",
              "  </thead>\n",
              "  <tbody>\n",
              "    <tr>\n",
              "      <th>188558</th>\n",
              "      <td>74.4</td>\n",
              "      <td>0.0</td>\n",
              "      <td>40.0</td>\n",
              "      <td>328.6</td>\n",
              "    </tr>\n",
              "    <tr>\n",
              "      <th>56410</th>\n",
              "      <td>150.0</td>\n",
              "      <td>0.0</td>\n",
              "      <td>40.0</td>\n",
              "      <td>450.0</td>\n",
              "    </tr>\n",
              "    <tr>\n",
              "      <th>127926</th>\n",
              "      <td>166.0</td>\n",
              "      <td>0.0</td>\n",
              "      <td>2.4</td>\n",
              "      <td>1084.0</td>\n",
              "    </tr>\n",
              "    <tr>\n",
              "      <th>98839</th>\n",
              "      <td>350.0</td>\n",
              "      <td>3.0</td>\n",
              "      <td>10.0</td>\n",
              "      <td>1200.0</td>\n",
              "    </tr>\n",
              "    <tr>\n",
              "      <th>114631</th>\n",
              "      <td>80.0</td>\n",
              "      <td>1.0</td>\n",
              "      <td>40.0</td>\n",
              "      <td>565.0</td>\n",
              "    </tr>\n",
              "    <tr>\n",
              "      <th>...</th>\n",
              "      <td>...</td>\n",
              "      <td>...</td>\n",
              "      <td>...</td>\n",
              "      <td>...</td>\n",
              "    </tr>\n",
              "    <tr>\n",
              "      <th>161952</th>\n",
              "      <td>90.0</td>\n",
              "      <td>0.0</td>\n",
              "      <td>40.0</td>\n",
              "      <td>349.0</td>\n",
              "    </tr>\n",
              "    <tr>\n",
              "      <th>14851</th>\n",
              "      <td>315.0</td>\n",
              "      <td>2.0</td>\n",
              "      <td>2.4</td>\n",
              "      <td>1145.0</td>\n",
              "    </tr>\n",
              "    <tr>\n",
              "      <th>192998</th>\n",
              "      <td>180.0</td>\n",
              "      <td>0.0</td>\n",
              "      <td>40.0</td>\n",
              "      <td>600.0</td>\n",
              "    </tr>\n",
              "    <tr>\n",
              "      <th>50676</th>\n",
              "      <td>120.0</td>\n",
              "      <td>0.0</td>\n",
              "      <td>40.0</td>\n",
              "      <td>519.0</td>\n",
              "    </tr>\n",
              "    <tr>\n",
              "      <th>111732</th>\n",
              "      <td>65.0</td>\n",
              "      <td>0.0</td>\n",
              "      <td>40.0</td>\n",
              "      <td>297.0</td>\n",
              "    </tr>\n",
              "  </tbody>\n",
              "</table>\n",
              "<p>58110 rows × 4 columns</p>\n",
              "</div>\n",
              "      <button class=\"colab-df-convert\" onclick=\"convertToInteractive('df-203fd741-f5e5-4dd5-9817-69064d95e11f')\"\n",
              "              title=\"Convert this dataframe to an interactive table.\"\n",
              "              style=\"display:none;\">\n",
              "        \n",
              "  <svg xmlns=\"http://www.w3.org/2000/svg\" height=\"24px\"viewBox=\"0 0 24 24\"\n",
              "       width=\"24px\">\n",
              "    <path d=\"M0 0h24v24H0V0z\" fill=\"none\"/>\n",
              "    <path d=\"M18.56 5.44l.94 2.06.94-2.06 2.06-.94-2.06-.94-.94-2.06-.94 2.06-2.06.94zm-11 1L8.5 8.5l.94-2.06 2.06-.94-2.06-.94L8.5 2.5l-.94 2.06-2.06.94zm10 10l.94 2.06.94-2.06 2.06-.94-2.06-.94-.94-2.06-.94 2.06-2.06.94z\"/><path d=\"M17.41 7.96l-1.37-1.37c-.4-.4-.92-.59-1.43-.59-.52 0-1.04.2-1.43.59L10.3 9.45l-7.72 7.72c-.78.78-.78 2.05 0 2.83L4 21.41c.39.39.9.59 1.41.59.51 0 1.02-.2 1.41-.59l7.78-7.78 2.81-2.81c.8-.78.8-2.07 0-2.86zM5.41 20L4 18.59l7.72-7.72 1.47 1.35L5.41 20z\"/>\n",
              "  </svg>\n",
              "      </button>\n",
              "      \n",
              "  <style>\n",
              "    .colab-df-container {\n",
              "      display:flex;\n",
              "      flex-wrap:wrap;\n",
              "      gap: 12px;\n",
              "    }\n",
              "\n",
              "    .colab-df-convert {\n",
              "      background-color: #E8F0FE;\n",
              "      border: none;\n",
              "      border-radius: 50%;\n",
              "      cursor: pointer;\n",
              "      display: none;\n",
              "      fill: #1967D2;\n",
              "      height: 32px;\n",
              "      padding: 0 0 0 0;\n",
              "      width: 32px;\n",
              "    }\n",
              "\n",
              "    .colab-df-convert:hover {\n",
              "      background-color: #E2EBFA;\n",
              "      box-shadow: 0px 1px 2px rgba(60, 64, 67, 0.3), 0px 1px 3px 1px rgba(60, 64, 67, 0.15);\n",
              "      fill: #174EA6;\n",
              "    }\n",
              "\n",
              "    [theme=dark] .colab-df-convert {\n",
              "      background-color: #3B4455;\n",
              "      fill: #D2E3FC;\n",
              "    }\n",
              "\n",
              "    [theme=dark] .colab-df-convert:hover {\n",
              "      background-color: #434B5C;\n",
              "      box-shadow: 0px 1px 3px 1px rgba(0, 0, 0, 0.15);\n",
              "      filter: drop-shadow(0px 1px 2px rgba(0, 0, 0, 0.3));\n",
              "      fill: #FFFFFF;\n",
              "    }\n",
              "  </style>\n",
              "\n",
              "      <script>\n",
              "        const buttonEl =\n",
              "          document.querySelector('#df-203fd741-f5e5-4dd5-9817-69064d95e11f button.colab-df-convert');\n",
              "        buttonEl.style.display =\n",
              "          google.colab.kernel.accessAllowed ? 'block' : 'none';\n",
              "\n",
              "        async function convertToInteractive(key) {\n",
              "          const element = document.querySelector('#df-203fd741-f5e5-4dd5-9817-69064d95e11f');\n",
              "          const dataTable =\n",
              "            await google.colab.kernel.invokeFunction('convertToInteractive',\n",
              "                                                     [key], {});\n",
              "          if (!dataTable) return;\n",
              "\n",
              "          const docLinkHtml = 'Like what you see? Visit the ' +\n",
              "            '<a target=\"_blank\" href=https://colab.research.google.com/notebooks/data_table.ipynb>data table notebook</a>'\n",
              "            + ' to learn more about interactive tables.';\n",
              "          element.innerHTML = '';\n",
              "          dataTable['output_type'] = 'display_data';\n",
              "          await google.colab.output.renderOutput(dataTable, element);\n",
              "          const docLink = document.createElement('div');\n",
              "          docLink.innerHTML = docLinkHtml;\n",
              "          element.appendChild(docLink);\n",
              "        }\n",
              "      </script>\n",
              "    </div>\n",
              "  </div>\n",
              "  "
            ]
          },
          "metadata": {},
          "execution_count": 39
        }
      ]
    },
    {
      "cell_type": "code",
      "source": [
        "train2, test2 = split(data2, 0.7)\n",
        "test2 "
      ],
      "metadata": {
        "colab": {
          "base_uri": "https://localhost:8080/",
          "height": 488
        },
        "id": "mnOLVTWXU-vp",
        "outputId": "1c393d72-4892-474a-a978-086bf372d08a"
      },
      "execution_count": null,
      "outputs": [
        {
          "output_type": "execute_result",
          "data": {
            "text/plain": [
              "        regio1  serviceCharge  heatingType  pricetrend  telekomUploadSpeed  \\\n",
              "162177     3.0         160.00          0.0        3.19            2.400000   \n",
              "164194    14.0         170.00          5.0        3.96           28.804928   \n",
              "197828     6.0         250.00          6.0        5.65           28.804928   \n",
              "138323     8.0         145.00         11.0        4.80           40.000000   \n",
              "200277     1.0         142.00          0.0        1.43           40.000000   \n",
              "...        ...            ...          ...         ...                 ...   \n",
              "123040     0.0         350.00          0.0        2.63           10.000000   \n",
              "156966     0.0          80.00          0.0        4.30           10.000000   \n",
              "101216     0.0         179.00          0.0        2.90           28.804928   \n",
              "185421     0.0         257.43          0.0        2.91            2.400000   \n",
              "209303     9.0         350.00          4.0        4.74           40.000000   \n",
              "\n",
              "        totalRent  noParkSpaces  firingTypes  hasKitchen  geo_bln  baseRent  \\\n",
              "162177     890.00           1.0          0.0         0.0      3.0    690.00   \n",
              "164194     969.00           0.0          3.0         1.0     14.0    799.00   \n",
              "197828    1840.00          50.0         75.0         1.0      6.0   1590.00   \n",
              "138323     660.00           0.0          1.0         0.0      8.0    400.00   \n",
              "200277     560.50           0.0          1.0         0.0      1.0    418.50   \n",
              "...           ...           ...          ...         ...      ...       ...   \n",
              "123040    1450.00           1.0          0.0         0.0      0.0   1100.00   \n",
              "156966     400.00          48.0          1.0         1.0      0.0    320.00   \n",
              "101216     660.65           0.0          3.0         0.0      0.0    403.65   \n",
              "185421     966.43           0.0          1.0         0.0      0.0    709.00   \n",
              "209303    2650.00           1.0          1.0         1.0      9.0   2300.00   \n",
              "\n",
              "        livingSpace  geo_krs  lift  noRooms  thermalChar  floor  regio2  \\\n",
              "162177        71.35     69.0   1.0      3.0   136.000000    2.0    69.0   \n",
              "164194        74.27     57.0   0.0      3.0    96.000000    0.0    57.0   \n",
              "197828        92.00    228.0   0.0      3.0     0.250000    3.0   228.0   \n",
              "138323        81.60    374.0   0.0      4.0   114.749533    3.0   374.0   \n",
              "200277        62.00      1.0   0.0      2.0   136.500000    0.0     1.0   \n",
              "...             ...      ...   ...      ...          ...    ...     ...   \n",
              "123040       138.00     27.0   0.0      3.0   131.000000    1.0    27.0   \n",
              "156966        20.00     63.0   1.0      1.0   166.000000    0.0    63.0   \n",
              "101216        79.21     87.0   0.0      3.5   176.000000    1.0    87.0   \n",
              "185421       105.23    142.0   0.0      4.5    60.100000    2.0   142.0   \n",
              "209303       105.50    146.0   0.0      3.5   114.749533    1.0   146.0   \n",
              "\n",
              "        regio3  \n",
              "162177   103.0  \n",
              "164194  1501.0  \n",
              "197828  3183.0  \n",
              "138323  2490.0  \n",
              "200277  1045.0  \n",
              "...        ...  \n",
              "123040   149.0  \n",
              "156966   808.0  \n",
              "101216   279.0  \n",
              "185421   405.0  \n",
              "209303   932.0  \n",
              "\n",
              "[66797 rows x 19 columns]"
            ],
            "text/html": [
              "\n",
              "  <div id=\"df-b03330fe-004b-495c-b10e-e256dcee8273\">\n",
              "    <div class=\"colab-df-container\">\n",
              "      <div>\n",
              "<style scoped>\n",
              "    .dataframe tbody tr th:only-of-type {\n",
              "        vertical-align: middle;\n",
              "    }\n",
              "\n",
              "    .dataframe tbody tr th {\n",
              "        vertical-align: top;\n",
              "    }\n",
              "\n",
              "    .dataframe thead th {\n",
              "        text-align: right;\n",
              "    }\n",
              "</style>\n",
              "<table border=\"1\" class=\"dataframe\">\n",
              "  <thead>\n",
              "    <tr style=\"text-align: right;\">\n",
              "      <th></th>\n",
              "      <th>regio1</th>\n",
              "      <th>serviceCharge</th>\n",
              "      <th>heatingType</th>\n",
              "      <th>pricetrend</th>\n",
              "      <th>telekomUploadSpeed</th>\n",
              "      <th>totalRent</th>\n",
              "      <th>noParkSpaces</th>\n",
              "      <th>firingTypes</th>\n",
              "      <th>hasKitchen</th>\n",
              "      <th>geo_bln</th>\n",
              "      <th>baseRent</th>\n",
              "      <th>livingSpace</th>\n",
              "      <th>geo_krs</th>\n",
              "      <th>lift</th>\n",
              "      <th>noRooms</th>\n",
              "      <th>thermalChar</th>\n",
              "      <th>floor</th>\n",
              "      <th>regio2</th>\n",
              "      <th>regio3</th>\n",
              "    </tr>\n",
              "  </thead>\n",
              "  <tbody>\n",
              "    <tr>\n",
              "      <th>162177</th>\n",
              "      <td>3.0</td>\n",
              "      <td>160.00</td>\n",
              "      <td>0.0</td>\n",
              "      <td>3.19</td>\n",
              "      <td>2.400000</td>\n",
              "      <td>890.00</td>\n",
              "      <td>1.0</td>\n",
              "      <td>0.0</td>\n",
              "      <td>0.0</td>\n",
              "      <td>3.0</td>\n",
              "      <td>690.00</td>\n",
              "      <td>71.35</td>\n",
              "      <td>69.0</td>\n",
              "      <td>1.0</td>\n",
              "      <td>3.0</td>\n",
              "      <td>136.000000</td>\n",
              "      <td>2.0</td>\n",
              "      <td>69.0</td>\n",
              "      <td>103.0</td>\n",
              "    </tr>\n",
              "    <tr>\n",
              "      <th>164194</th>\n",
              "      <td>14.0</td>\n",
              "      <td>170.00</td>\n",
              "      <td>5.0</td>\n",
              "      <td>3.96</td>\n",
              "      <td>28.804928</td>\n",
              "      <td>969.00</td>\n",
              "      <td>0.0</td>\n",
              "      <td>3.0</td>\n",
              "      <td>1.0</td>\n",
              "      <td>14.0</td>\n",
              "      <td>799.00</td>\n",
              "      <td>74.27</td>\n",
              "      <td>57.0</td>\n",
              "      <td>0.0</td>\n",
              "      <td>3.0</td>\n",
              "      <td>96.000000</td>\n",
              "      <td>0.0</td>\n",
              "      <td>57.0</td>\n",
              "      <td>1501.0</td>\n",
              "    </tr>\n",
              "    <tr>\n",
              "      <th>197828</th>\n",
              "      <td>6.0</td>\n",
              "      <td>250.00</td>\n",
              "      <td>6.0</td>\n",
              "      <td>5.65</td>\n",
              "      <td>28.804928</td>\n",
              "      <td>1840.00</td>\n",
              "      <td>50.0</td>\n",
              "      <td>75.0</td>\n",
              "      <td>1.0</td>\n",
              "      <td>6.0</td>\n",
              "      <td>1590.00</td>\n",
              "      <td>92.00</td>\n",
              "      <td>228.0</td>\n",
              "      <td>0.0</td>\n",
              "      <td>3.0</td>\n",
              "      <td>0.250000</td>\n",
              "      <td>3.0</td>\n",
              "      <td>228.0</td>\n",
              "      <td>3183.0</td>\n",
              "    </tr>\n",
              "    <tr>\n",
              "      <th>138323</th>\n",
              "      <td>8.0</td>\n",
              "      <td>145.00</td>\n",
              "      <td>11.0</td>\n",
              "      <td>4.80</td>\n",
              "      <td>40.000000</td>\n",
              "      <td>660.00</td>\n",
              "      <td>0.0</td>\n",
              "      <td>1.0</td>\n",
              "      <td>0.0</td>\n",
              "      <td>8.0</td>\n",
              "      <td>400.00</td>\n",
              "      <td>81.60</td>\n",
              "      <td>374.0</td>\n",
              "      <td>0.0</td>\n",
              "      <td>4.0</td>\n",
              "      <td>114.749533</td>\n",
              "      <td>3.0</td>\n",
              "      <td>374.0</td>\n",
              "      <td>2490.0</td>\n",
              "    </tr>\n",
              "    <tr>\n",
              "      <th>200277</th>\n",
              "      <td>1.0</td>\n",
              "      <td>142.00</td>\n",
              "      <td>0.0</td>\n",
              "      <td>1.43</td>\n",
              "      <td>40.000000</td>\n",
              "      <td>560.50</td>\n",
              "      <td>0.0</td>\n",
              "      <td>1.0</td>\n",
              "      <td>0.0</td>\n",
              "      <td>1.0</td>\n",
              "      <td>418.50</td>\n",
              "      <td>62.00</td>\n",
              "      <td>1.0</td>\n",
              "      <td>0.0</td>\n",
              "      <td>2.0</td>\n",
              "      <td>136.500000</td>\n",
              "      <td>0.0</td>\n",
              "      <td>1.0</td>\n",
              "      <td>1045.0</td>\n",
              "    </tr>\n",
              "    <tr>\n",
              "      <th>...</th>\n",
              "      <td>...</td>\n",
              "      <td>...</td>\n",
              "      <td>...</td>\n",
              "      <td>...</td>\n",
              "      <td>...</td>\n",
              "      <td>...</td>\n",
              "      <td>...</td>\n",
              "      <td>...</td>\n",
              "      <td>...</td>\n",
              "      <td>...</td>\n",
              "      <td>...</td>\n",
              "      <td>...</td>\n",
              "      <td>...</td>\n",
              "      <td>...</td>\n",
              "      <td>...</td>\n",
              "      <td>...</td>\n",
              "      <td>...</td>\n",
              "      <td>...</td>\n",
              "      <td>...</td>\n",
              "    </tr>\n",
              "    <tr>\n",
              "      <th>123040</th>\n",
              "      <td>0.0</td>\n",
              "      <td>350.00</td>\n",
              "      <td>0.0</td>\n",
              "      <td>2.63</td>\n",
              "      <td>10.000000</td>\n",
              "      <td>1450.00</td>\n",
              "      <td>1.0</td>\n",
              "      <td>0.0</td>\n",
              "      <td>0.0</td>\n",
              "      <td>0.0</td>\n",
              "      <td>1100.00</td>\n",
              "      <td>138.00</td>\n",
              "      <td>27.0</td>\n",
              "      <td>0.0</td>\n",
              "      <td>3.0</td>\n",
              "      <td>131.000000</td>\n",
              "      <td>1.0</td>\n",
              "      <td>27.0</td>\n",
              "      <td>149.0</td>\n",
              "    </tr>\n",
              "    <tr>\n",
              "      <th>156966</th>\n",
              "      <td>0.0</td>\n",
              "      <td>80.00</td>\n",
              "      <td>0.0</td>\n",
              "      <td>4.30</td>\n",
              "      <td>10.000000</td>\n",
              "      <td>400.00</td>\n",
              "      <td>48.0</td>\n",
              "      <td>1.0</td>\n",
              "      <td>1.0</td>\n",
              "      <td>0.0</td>\n",
              "      <td>320.00</td>\n",
              "      <td>20.00</td>\n",
              "      <td>63.0</td>\n",
              "      <td>1.0</td>\n",
              "      <td>1.0</td>\n",
              "      <td>166.000000</td>\n",
              "      <td>0.0</td>\n",
              "      <td>63.0</td>\n",
              "      <td>808.0</td>\n",
              "    </tr>\n",
              "    <tr>\n",
              "      <th>101216</th>\n",
              "      <td>0.0</td>\n",
              "      <td>179.00</td>\n",
              "      <td>0.0</td>\n",
              "      <td>2.90</td>\n",
              "      <td>28.804928</td>\n",
              "      <td>660.65</td>\n",
              "      <td>0.0</td>\n",
              "      <td>3.0</td>\n",
              "      <td>0.0</td>\n",
              "      <td>0.0</td>\n",
              "      <td>403.65</td>\n",
              "      <td>79.21</td>\n",
              "      <td>87.0</td>\n",
              "      <td>0.0</td>\n",
              "      <td>3.5</td>\n",
              "      <td>176.000000</td>\n",
              "      <td>1.0</td>\n",
              "      <td>87.0</td>\n",
              "      <td>279.0</td>\n",
              "    </tr>\n",
              "    <tr>\n",
              "      <th>185421</th>\n",
              "      <td>0.0</td>\n",
              "      <td>257.43</td>\n",
              "      <td>0.0</td>\n",
              "      <td>2.91</td>\n",
              "      <td>2.400000</td>\n",
              "      <td>966.43</td>\n",
              "      <td>0.0</td>\n",
              "      <td>1.0</td>\n",
              "      <td>0.0</td>\n",
              "      <td>0.0</td>\n",
              "      <td>709.00</td>\n",
              "      <td>105.23</td>\n",
              "      <td>142.0</td>\n",
              "      <td>0.0</td>\n",
              "      <td>4.5</td>\n",
              "      <td>60.100000</td>\n",
              "      <td>2.0</td>\n",
              "      <td>142.0</td>\n",
              "      <td>405.0</td>\n",
              "    </tr>\n",
              "    <tr>\n",
              "      <th>209303</th>\n",
              "      <td>9.0</td>\n",
              "      <td>350.00</td>\n",
              "      <td>4.0</td>\n",
              "      <td>4.74</td>\n",
              "      <td>40.000000</td>\n",
              "      <td>2650.00</td>\n",
              "      <td>1.0</td>\n",
              "      <td>1.0</td>\n",
              "      <td>1.0</td>\n",
              "      <td>9.0</td>\n",
              "      <td>2300.00</td>\n",
              "      <td>105.50</td>\n",
              "      <td>146.0</td>\n",
              "      <td>0.0</td>\n",
              "      <td>3.5</td>\n",
              "      <td>114.749533</td>\n",
              "      <td>1.0</td>\n",
              "      <td>146.0</td>\n",
              "      <td>932.0</td>\n",
              "    </tr>\n",
              "  </tbody>\n",
              "</table>\n",
              "<p>66797 rows × 19 columns</p>\n",
              "</div>\n",
              "      <button class=\"colab-df-convert\" onclick=\"convertToInteractive('df-b03330fe-004b-495c-b10e-e256dcee8273')\"\n",
              "              title=\"Convert this dataframe to an interactive table.\"\n",
              "              style=\"display:none;\">\n",
              "        \n",
              "  <svg xmlns=\"http://www.w3.org/2000/svg\" height=\"24px\"viewBox=\"0 0 24 24\"\n",
              "       width=\"24px\">\n",
              "    <path d=\"M0 0h24v24H0V0z\" fill=\"none\"/>\n",
              "    <path d=\"M18.56 5.44l.94 2.06.94-2.06 2.06-.94-2.06-.94-.94-2.06-.94 2.06-2.06.94zm-11 1L8.5 8.5l.94-2.06 2.06-.94-2.06-.94L8.5 2.5l-.94 2.06-2.06.94zm10 10l.94 2.06.94-2.06 2.06-.94-2.06-.94-.94-2.06-.94 2.06-2.06.94z\"/><path d=\"M17.41 7.96l-1.37-1.37c-.4-.4-.92-.59-1.43-.59-.52 0-1.04.2-1.43.59L10.3 9.45l-7.72 7.72c-.78.78-.78 2.05 0 2.83L4 21.41c.39.39.9.59 1.41.59.51 0 1.02-.2 1.41-.59l7.78-7.78 2.81-2.81c.8-.78.8-2.07 0-2.86zM5.41 20L4 18.59l7.72-7.72 1.47 1.35L5.41 20z\"/>\n",
              "  </svg>\n",
              "      </button>\n",
              "      \n",
              "  <style>\n",
              "    .colab-df-container {\n",
              "      display:flex;\n",
              "      flex-wrap:wrap;\n",
              "      gap: 12px;\n",
              "    }\n",
              "\n",
              "    .colab-df-convert {\n",
              "      background-color: #E8F0FE;\n",
              "      border: none;\n",
              "      border-radius: 50%;\n",
              "      cursor: pointer;\n",
              "      display: none;\n",
              "      fill: #1967D2;\n",
              "      height: 32px;\n",
              "      padding: 0 0 0 0;\n",
              "      width: 32px;\n",
              "    }\n",
              "\n",
              "    .colab-df-convert:hover {\n",
              "      background-color: #E2EBFA;\n",
              "      box-shadow: 0px 1px 2px rgba(60, 64, 67, 0.3), 0px 1px 3px 1px rgba(60, 64, 67, 0.15);\n",
              "      fill: #174EA6;\n",
              "    }\n",
              "\n",
              "    [theme=dark] .colab-df-convert {\n",
              "      background-color: #3B4455;\n",
              "      fill: #D2E3FC;\n",
              "    }\n",
              "\n",
              "    [theme=dark] .colab-df-convert:hover {\n",
              "      background-color: #434B5C;\n",
              "      box-shadow: 0px 1px 3px 1px rgba(0, 0, 0, 0.15);\n",
              "      filter: drop-shadow(0px 1px 2px rgba(0, 0, 0, 0.3));\n",
              "      fill: #FFFFFF;\n",
              "    }\n",
              "  </style>\n",
              "\n",
              "      <script>\n",
              "        const buttonEl =\n",
              "          document.querySelector('#df-b03330fe-004b-495c-b10e-e256dcee8273 button.colab-df-convert');\n",
              "        buttonEl.style.display =\n",
              "          google.colab.kernel.accessAllowed ? 'block' : 'none';\n",
              "\n",
              "        async function convertToInteractive(key) {\n",
              "          const element = document.querySelector('#df-b03330fe-004b-495c-b10e-e256dcee8273');\n",
              "          const dataTable =\n",
              "            await google.colab.kernel.invokeFunction('convertToInteractive',\n",
              "                                                     [key], {});\n",
              "          if (!dataTable) return;\n",
              "\n",
              "          const docLinkHtml = 'Like what you see? Visit the ' +\n",
              "            '<a target=\"_blank\" href=https://colab.research.google.com/notebooks/data_table.ipynb>data table notebook</a>'\n",
              "            + ' to learn more about interactive tables.';\n",
              "          element.innerHTML = '';\n",
              "          dataTable['output_type'] = 'display_data';\n",
              "          await google.colab.output.renderOutput(dataTable, element);\n",
              "          const docLink = document.createElement('div');\n",
              "          docLink.innerHTML = docLinkHtml;\n",
              "          element.appendChild(docLink);\n",
              "        }\n",
              "      </script>\n",
              "    </div>\n",
              "  </div>\n",
              "  "
            ]
          },
          "metadata": {},
          "execution_count": 106
        }
      ]
    },
    {
      "cell_type": "markdown",
      "source": [
        "## Prepare train an test for model"
      ],
      "metadata": {
        "id": "Efel2XrNIdQQ"
      }
    },
    {
      "cell_type": "code",
      "source": [
        "def create_feature_matrix(x_df):\n",
        "  x_matrix = []\n",
        "  for row in x_df.iterrows():\n",
        "    l = [1]\n",
        "    for i in range(0, len(row[1])):\n",
        "      l.append(row[1][i])\n",
        "    x_matrix.append(l)\n",
        "  return x_matrix\n"
      ],
      "metadata": {
        "id": "kndBj1B-7X85"
      },
      "execution_count": null,
      "outputs": []
    },
    {
      "cell_type": "code",
      "source": [
        "def create_x_y_matrix(df, y_column):\n",
        "  y = np.array(df.pop(y_column))\n",
        "  x = np.array(create_feature_matrix(df))\n",
        "  return x, y"
      ],
      "metadata": {
        "id": "6BTFIulwOHHa"
      },
      "execution_count": null,
      "outputs": []
    },
    {
      "cell_type": "code",
      "source": [
        "x_train, y_train = create_x_y_matrix(train, 'baseRent')\n",
        "x_test, y_test = create_x_y_matrix(test, 'baseRent')\n",
        "x_test"
      ],
      "metadata": {
        "colab": {
          "base_uri": "https://localhost:8080/"
        },
        "id": "iC6LBg0v83J4",
        "outputId": "3a82c054-23ca-4c46-9123-4e8a6ea07436"
      },
      "execution_count": null,
      "outputs": [
        {
          "output_type": "execute_result",
          "data": {
            "text/plain": [
              "array([[  1. ,  74.4,   0. ,  40. ],\n",
              "       [  1. , 150. ,   0. ,  40. ],\n",
              "       [  1. , 166. ,   0. ,   2.4],\n",
              "       ...,\n",
              "       [  1. , 180. ,   0. ,  40. ],\n",
              "       [  1. , 120. ,   0. ,  40. ],\n",
              "       [  1. ,  65. ,   0. ,  40. ]])"
            ]
          },
          "metadata": {},
          "execution_count": 42
        }
      ]
    },
    {
      "cell_type": "code",
      "source": [
        "x_train2, y_train2 = create_x_y_matrix(train2, 'baseRent')\n",
        "x_test2, y_test2 = create_x_y_matrix(test2, 'baseRent')\n",
        "x_test2"
      ],
      "metadata": {
        "colab": {
          "base_uri": "https://localhost:8080/"
        },
        "id": "v8BftNfBVYlT",
        "outputId": "ed8d9c24-fad6-4eb9-d12d-d1afad75353b"
      },
      "execution_count": null,
      "outputs": [
        {
          "output_type": "execute_result",
          "data": {
            "text/plain": [
              "array([[1.0000e+00, 3.0000e+00, 1.6000e+02, ..., 2.0000e+00, 6.9000e+01,\n",
              "        1.0300e+02],\n",
              "       [1.0000e+00, 1.4000e+01, 1.7000e+02, ..., 0.0000e+00, 5.7000e+01,\n",
              "        1.5010e+03],\n",
              "       [1.0000e+00, 6.0000e+00, 2.5000e+02, ..., 3.0000e+00, 2.2800e+02,\n",
              "        3.1830e+03],\n",
              "       ...,\n",
              "       [1.0000e+00, 0.0000e+00, 1.7900e+02, ..., 1.0000e+00, 8.7000e+01,\n",
              "        2.7900e+02],\n",
              "       [1.0000e+00, 0.0000e+00, 2.5743e+02, ..., 2.0000e+00, 1.4200e+02,\n",
              "        4.0500e+02],\n",
              "       [1.0000e+00, 9.0000e+00, 3.5000e+02, ..., 1.0000e+00, 1.4600e+02,\n",
              "        9.3200e+02]])"
            ]
          },
          "metadata": {},
          "execution_count": 107
        }
      ]
    },
    {
      "cell_type": "markdown",
      "source": [
        "# My regression model"
      ],
      "metadata": {
        "id": "vm1pZxY-ImLX"
      }
    },
    {
      "cell_type": "markdown",
      "source": [
        "## MSE, gradiant ang regression functions"
      ],
      "metadata": {
        "id": "buYb1js9IsEM"
      }
    },
    {
      "cell_type": "code",
      "source": [
        "def mse(coef, x, y):\n",
        "    return np.mean((np.dot(x, coef) - y)**2)/2\n",
        " \n",
        "def gradients(coef, x, y):\n",
        "    return np.mean(x.transpose()*(np.dot(x, coef) - y), axis = 1)\n",
        " \n",
        "def multilinear_regression(coef, x, y, lr, b1 = 0.9, b2 = 0.999,\n",
        "                           epsilon = 1e-8, error_func=mse):\n",
        "    prev_error = 0\n",
        "    m_coef = np.zeros(coef.shape)\n",
        "    v_coef = np.zeros(coef.shape)\n",
        "    moment_m_coef = np.zeros(coef.shape)\n",
        "    moment_v_coef = np.zeros(coef.shape)\n",
        "    t = 0\n",
        " \n",
        "    while True:\n",
        "        error = error_func(coef, x, y)\n",
        "        if abs(error - prev_error) <= epsilon:\n",
        "            break\n",
        "        prev_error = error\n",
        "        grad = gradients(coef, x, y)\n",
        "        t += 1\n",
        "        m_coef = b1 * m_coef + (1-b1)*grad\n",
        "        v_coef = b2 * v_coef + (1-b2)*grad**2\n",
        "        moment_m_coef = m_coef / (1-b1**t)\n",
        "        moment_v_coef = v_coef / (1-b2**t)\n",
        " \n",
        "        delta = ((lr / moment_v_coef**0.5 + 1e-8) *\n",
        "                 (b1 * moment_m_coef + (1-b1)*grad/(1-b1**t)))\n",
        " \n",
        "        coef = np.subtract(coef, delta)\n",
        "    return coef\n",
        " "
      ],
      "metadata": {
        "id": "TzET1I3wN87R"
      },
      "execution_count": null,
      "outputs": []
    },
    {
      "cell_type": "markdown",
      "source": [
        "## Train my regression model"
      ],
      "metadata": {
        "id": "v795i3N2I7EW"
      }
    },
    {
      "cell_type": "code",
      "source": [
        "coef = np.array([0, 0, 0, 0])\n",
        "c = multilinear_regression(coef, x_train, y_train, 1e-1)\n",
        " "
      ],
      "metadata": {
        "id": "qZC-fn6YOiFm"
      },
      "execution_count": null,
      "outputs": []
    },
    {
      "cell_type": "code",
      "source": [
        "coef2 = np.array([0 for i in range(len(data2.columns))])\n",
        "c2 = multilinear_regression(coef2, x_train2, y_train2, 1e-1)\n"
      ],
      "metadata": {
        "colab": {
          "base_uri": "https://localhost:8080/",
          "height": 363
        },
        "id": "9-xnP78tWGuR",
        "outputId": "a0b23d28-b596-4a1d-ab33-7481e5f0bce8"
      },
      "execution_count": null,
      "outputs": [
        {
          "output_type": "error",
          "ename": "KeyboardInterrupt",
          "evalue": "ignored",
          "traceback": [
            "\u001b[0;31m---------------------------------------------------------------------------\u001b[0m",
            "\u001b[0;31mKeyboardInterrupt\u001b[0m                         Traceback (most recent call last)",
            "\u001b[0;32m<ipython-input-111-ae2be91a64a6>\u001b[0m in \u001b[0;36m<module>\u001b[0;34m()\u001b[0m\n\u001b[1;32m      1\u001b[0m \u001b[0mcoef2\u001b[0m \u001b[0;34m=\u001b[0m \u001b[0mnp\u001b[0m\u001b[0;34m.\u001b[0m\u001b[0marray\u001b[0m\u001b[0;34m(\u001b[0m\u001b[0;34m[\u001b[0m\u001b[0;36m0\u001b[0m \u001b[0;32mfor\u001b[0m \u001b[0mi\u001b[0m \u001b[0;32min\u001b[0m \u001b[0mrange\u001b[0m\u001b[0;34m(\u001b[0m\u001b[0mlen\u001b[0m\u001b[0;34m(\u001b[0m\u001b[0mdata2\u001b[0m\u001b[0;34m.\u001b[0m\u001b[0mcolumns\u001b[0m\u001b[0;34m)\u001b[0m\u001b[0;34m)\u001b[0m\u001b[0;34m]\u001b[0m\u001b[0;34m)\u001b[0m\u001b[0;34m\u001b[0m\u001b[0;34m\u001b[0m\u001b[0m\n\u001b[0;32m----> 2\u001b[0;31m \u001b[0mc2\u001b[0m \u001b[0;34m=\u001b[0m \u001b[0mmultilinear_regression\u001b[0m\u001b[0;34m(\u001b[0m\u001b[0mcoef2\u001b[0m\u001b[0;34m,\u001b[0m \u001b[0mx_train2\u001b[0m\u001b[0;34m,\u001b[0m \u001b[0my_train2\u001b[0m\u001b[0;34m,\u001b[0m \u001b[0;36m1e-1\u001b[0m\u001b[0;34m)\u001b[0m\u001b[0;34m\u001b[0m\u001b[0;34m\u001b[0m\u001b[0m\n\u001b[0m",
            "\u001b[0;32m<ipython-input-108-62a7d3c24d59>\u001b[0m in \u001b[0;36mmultilinear_regression\u001b[0;34m(coef, x, y, lr, b1, b2, epsilon, error_func)\u001b[0m\n\u001b[1;32m     19\u001b[0m             \u001b[0;32mbreak\u001b[0m\u001b[0;34m\u001b[0m\u001b[0;34m\u001b[0m\u001b[0m\n\u001b[1;32m     20\u001b[0m         \u001b[0mprev_error\u001b[0m \u001b[0;34m=\u001b[0m \u001b[0merror\u001b[0m\u001b[0;34m\u001b[0m\u001b[0;34m\u001b[0m\u001b[0m\n\u001b[0;32m---> 21\u001b[0;31m         \u001b[0mgrad\u001b[0m \u001b[0;34m=\u001b[0m \u001b[0mgradients\u001b[0m\u001b[0;34m(\u001b[0m\u001b[0mcoef\u001b[0m\u001b[0;34m,\u001b[0m \u001b[0mx\u001b[0m\u001b[0;34m,\u001b[0m \u001b[0my\u001b[0m\u001b[0;34m)\u001b[0m\u001b[0;34m\u001b[0m\u001b[0;34m\u001b[0m\u001b[0m\n\u001b[0m\u001b[1;32m     22\u001b[0m         \u001b[0mt\u001b[0m \u001b[0;34m+=\u001b[0m \u001b[0;36m1\u001b[0m\u001b[0;34m\u001b[0m\u001b[0;34m\u001b[0m\u001b[0m\n\u001b[1;32m     23\u001b[0m         \u001b[0mm_coef\u001b[0m \u001b[0;34m=\u001b[0m \u001b[0mb1\u001b[0m \u001b[0;34m*\u001b[0m \u001b[0mm_coef\u001b[0m \u001b[0;34m+\u001b[0m \u001b[0;34m(\u001b[0m\u001b[0;36m1\u001b[0m\u001b[0;34m-\u001b[0m\u001b[0mb1\u001b[0m\u001b[0;34m)\u001b[0m\u001b[0;34m*\u001b[0m\u001b[0mgrad\u001b[0m\u001b[0;34m\u001b[0m\u001b[0;34m\u001b[0m\u001b[0m\n",
            "\u001b[0;32m<ipython-input-108-62a7d3c24d59>\u001b[0m in \u001b[0;36mgradients\u001b[0;34m(coef, x, y)\u001b[0m\n\u001b[1;32m      3\u001b[0m \u001b[0;34m\u001b[0m\u001b[0m\n\u001b[1;32m      4\u001b[0m \u001b[0;32mdef\u001b[0m \u001b[0mgradients\u001b[0m\u001b[0;34m(\u001b[0m\u001b[0mcoef\u001b[0m\u001b[0;34m,\u001b[0m \u001b[0mx\u001b[0m\u001b[0;34m,\u001b[0m \u001b[0my\u001b[0m\u001b[0;34m)\u001b[0m\u001b[0;34m:\u001b[0m\u001b[0;34m\u001b[0m\u001b[0;34m\u001b[0m\u001b[0m\n\u001b[0;32m----> 5\u001b[0;31m     \u001b[0;32mreturn\u001b[0m \u001b[0mnp\u001b[0m\u001b[0;34m.\u001b[0m\u001b[0mmean\u001b[0m\u001b[0;34m(\u001b[0m\u001b[0mx\u001b[0m\u001b[0;34m.\u001b[0m\u001b[0mtranspose\u001b[0m\u001b[0;34m(\u001b[0m\u001b[0;34m)\u001b[0m\u001b[0;34m*\u001b[0m\u001b[0;34m(\u001b[0m\u001b[0mnp\u001b[0m\u001b[0;34m.\u001b[0m\u001b[0mdot\u001b[0m\u001b[0;34m(\u001b[0m\u001b[0mx\u001b[0m\u001b[0;34m,\u001b[0m \u001b[0mcoef\u001b[0m\u001b[0;34m)\u001b[0m \u001b[0;34m-\u001b[0m \u001b[0my\u001b[0m\u001b[0;34m)\u001b[0m\u001b[0;34m,\u001b[0m \u001b[0maxis\u001b[0m \u001b[0;34m=\u001b[0m \u001b[0;36m1\u001b[0m\u001b[0;34m)\u001b[0m\u001b[0;34m\u001b[0m\u001b[0;34m\u001b[0m\u001b[0m\n\u001b[0m\u001b[1;32m      6\u001b[0m \u001b[0;34m\u001b[0m\u001b[0m\n\u001b[1;32m      7\u001b[0m def multilinear_regression(coef, x, y, lr, b1 = 0.9, b2 = 0.999,\n",
            "\u001b[0;32m<__array_function__ internals>\u001b[0m in \u001b[0;36mmean\u001b[0;34m(*args, **kwargs)\u001b[0m\n",
            "\u001b[0;32m/usr/local/lib/python3.7/dist-packages/numpy/core/fromnumeric.py\u001b[0m in \u001b[0;36mmean\u001b[0;34m(a, axis, dtype, out, keepdims, where)\u001b[0m\n\u001b[1;32m   3439\u001b[0m \u001b[0;34m\u001b[0m\u001b[0m\n\u001b[1;32m   3440\u001b[0m     return _methods._mean(a, axis=axis, dtype=dtype,\n\u001b[0;32m-> 3441\u001b[0;31m                           out=out, **kwargs)\n\u001b[0m\u001b[1;32m   3442\u001b[0m \u001b[0;34m\u001b[0m\u001b[0m\n\u001b[1;32m   3443\u001b[0m \u001b[0;34m\u001b[0m\u001b[0m\n",
            "\u001b[0;32m/usr/local/lib/python3.7/dist-packages/numpy/core/_methods.py\u001b[0m in \u001b[0;36m_mean\u001b[0;34m(a, axis, dtype, out, keepdims, where)\u001b[0m\n\u001b[1;32m    177\u001b[0m             \u001b[0mis_float16_result\u001b[0m \u001b[0;34m=\u001b[0m \u001b[0;32mTrue\u001b[0m\u001b[0;34m\u001b[0m\u001b[0;34m\u001b[0m\u001b[0m\n\u001b[1;32m    178\u001b[0m \u001b[0;34m\u001b[0m\u001b[0m\n\u001b[0;32m--> 179\u001b[0;31m     \u001b[0mret\u001b[0m \u001b[0;34m=\u001b[0m \u001b[0mumr_sum\u001b[0m\u001b[0;34m(\u001b[0m\u001b[0marr\u001b[0m\u001b[0;34m,\u001b[0m \u001b[0maxis\u001b[0m\u001b[0;34m,\u001b[0m \u001b[0mdtype\u001b[0m\u001b[0;34m,\u001b[0m \u001b[0mout\u001b[0m\u001b[0;34m,\u001b[0m \u001b[0mkeepdims\u001b[0m\u001b[0;34m,\u001b[0m \u001b[0mwhere\u001b[0m\u001b[0;34m=\u001b[0m\u001b[0mwhere\u001b[0m\u001b[0;34m)\u001b[0m\u001b[0;34m\u001b[0m\u001b[0;34m\u001b[0m\u001b[0m\n\u001b[0m\u001b[1;32m    180\u001b[0m     \u001b[0;32mif\u001b[0m \u001b[0misinstance\u001b[0m\u001b[0;34m(\u001b[0m\u001b[0mret\u001b[0m\u001b[0;34m,\u001b[0m \u001b[0mmu\u001b[0m\u001b[0;34m.\u001b[0m\u001b[0mndarray\u001b[0m\u001b[0;34m)\u001b[0m\u001b[0;34m:\u001b[0m\u001b[0;34m\u001b[0m\u001b[0;34m\u001b[0m\u001b[0m\n\u001b[1;32m    181\u001b[0m         ret = um.true_divide(\n",
            "\u001b[0;31mKeyboardInterrupt\u001b[0m: "
          ]
        }
      ]
    },
    {
      "cell_type": "markdown",
      "source": [
        "## Predict with my model"
      ],
      "metadata": {
        "id": "uUH_2sYgJGgW"
      }
    },
    {
      "cell_type": "code",
      "source": [
        "y_pre = c[0] + c[1]*x_test[:, 1] + c[2]*x_test[:, 2] + c[3]*x_test[:, 3]\n",
        " \n",
        "y_pre"
      ],
      "metadata": {
        "colab": {
          "base_uri": "https://localhost:8080/"
        },
        "id": "A_MjEpt0JFlX",
        "outputId": "2ac22991-58a0-4eb6-d330-6550cba50836"
      },
      "execution_count": null,
      "outputs": [
        {
          "output_type": "execute_result",
          "data": {
            "text/plain": [
              "array([365.65500714, 606.99932294, 651.42569839, ..., 702.77087683,\n",
              "       511.22776905, 335.64658692])"
            ]
          },
          "metadata": {},
          "execution_count": 112
        }
      ]
    },
    {
      "cell_type": "code",
      "source": [
        "y_pre2 = c2[0] \n",
        "for i in range(len(data2.columns)):\n",
        "  y_pre2 += c2[i]*x_test2[:, i] \n",
        "y_pre2"
      ],
      "metadata": {
        "id": "VXJVB2KYXcBb"
      },
      "execution_count": null,
      "outputs": []
    },
    {
      "cell_type": "markdown",
      "source": [
        "# Sikit_learn Linear Regression"
      ],
      "metadata": {
        "id": "YBTFEPfsJRV2"
      }
    },
    {
      "cell_type": "markdown",
      "source": [
        "## Train regression model with sklearn"
      ],
      "metadata": {
        "id": "mnKpKJI9-h2w"
      }
    },
    {
      "cell_type": "code",
      "source": [
        "\n",
        "# creating an object of LinearRegression class\n",
        "LR = linear_model.LinearRegression()\n",
        "# fitting the training data\n",
        "LR.fit(x_train,y_train)\n"
      ],
      "metadata": {
        "colab": {
          "base_uri": "https://localhost:8080/"
        },
        "id": "qZspcWGqrM-f",
        "outputId": "7272fa54-44f2-4c07-8c4f-b3ae104a7e16"
      },
      "execution_count": null,
      "outputs": [
        {
          "output_type": "execute_result",
          "data": {
            "text/plain": [
              "LinearRegression()"
            ]
          },
          "metadata": {},
          "execution_count": 47
        }
      ]
    },
    {
      "cell_type": "markdown",
      "source": [
        "## Predict with sklearnrange_from,"
      ],
      "metadata": {
        "id": "4-w8KizVwarh"
      }
    },
    {
      "cell_type": "code",
      "source": [
        "y_skl =  LR.predict(x_test)\n",
        "y_skl"
      ],
      "metadata": {
        "colab": {
          "base_uri": "https://localhost:8080/"
        },
        "id": "Izfb7z_--f26",
        "outputId": "33de047c-ff8d-4818-992c-ab04462c1c2e"
      },
      "execution_count": null,
      "outputs": [
        {
          "output_type": "execute_result",
          "data": {
            "text/plain": [
              "array([365.65549272, 606.99943074, 651.42794393, ..., 702.77083471,\n",
              "       511.22802676, 335.64711947])"
            ]
          },
          "metadata": {},
          "execution_count": 48
        }
      ]
    },
    {
      "cell_type": "markdown",
      "source": [
        "# Plot results"
      ],
      "metadata": {
        "id": "uXtwazxbJclJ"
      }
    },
    {
      "cell_type": "markdown",
      "source": [
        "## Plot predictions"
      ],
      "metadata": {
        "id": "M1nO2NO5_FOY"
      }
    },
    {
      "cell_type": "code",
      "source": [
        "plt.figure()\n",
        "x_plot = test.index\n",
        "range_from = 0\n",
        "range_to = 100\n",
        "x_plot = list(range(range_from, range_to))\n",
        "\n",
        "plt.title('my regression vs sklearn', fontsize=14)\n",
        "plt.xlabel('x test data', fontsize=14)\n",
        "plt.ylabel('y', fontsize=14)\n",
        "plt.grid(True)\n",
        "plt.scatter(x_plot[range_from:range_to], y_test[range_from:range_to], label='real y')\n",
        "plt.scatter(x_plot[range_from:range_to], y_pre[range_from:range_to], label='my regression')\n",
        "plt.scatter(x_plot[range_from:range_to], y_skl[range_from:range_to], label='sklearn')\n",
        "plt.legend()\n",
        "plt.show()"
      ],
      "metadata": {
        "colab": {
          "base_uri": "https://localhost:8080/",
          "height": 300
        },
        "id": "MwrDc0zK_D9E",
        "outputId": "dd1d5d61-3a9b-4c0c-dcdf-a3706844c27d"
      },
      "execution_count": null,
      "outputs": [
        {
          "output_type": "display_data",
          "data": {
            "text/plain": [
              "<Figure size 432x288 with 1 Axes>"
            ],
            "image/png": "[encoded data removed]"
          },
          "metadata": {
            "needs_background": "light"
          }
        }
      ]
    },
    {
      "cell_type": "markdown",
      "source": [
        "## sklearn Linear Regression score"
      ],
      "metadata": {
        "id": "e0HZKHjMesLE"
      }
    },
    {
      "cell_type": "code",
      "source": [
        "LR.score(x_test, y_skl)"
      ],
      "metadata": {
        "id": "HElFLITPQQZM",
        "colab": {
          "base_uri": "https://localhost:8080/"
        },
        "outputId": "cf6c4397-fad5-449a-c3eb-5214762f3655"
      },
      "execution_count": null,
      "outputs": [
        {
          "output_type": "execute_result",
          "data": {
            "text/plain": [
              "1.0"
            ]
          },
          "metadata": {},
          "execution_count": 50
        }
      ]
    },
    {
      "cell_type": "markdown",
      "source": [
        "# Lasso and Ridge"
      ],
      "metadata": {
        "id": "K4Wh4YpBlo2_"
      }
    },
    {
      "cell_type": "markdown",
      "source": [
        "## Ridge regression"
      ],
      "metadata": {
        "id": "jm4H5ziqoJsU"
      }
    },
    {
      "cell_type": "code",
      "source": [
        "ridge_reg = linear_model.Ridge(alpha=0.5)\n",
        "ridge_reg.fit(x_train,y_train)\n",
        "y_ridge = ridge_reg.predict(x_test)"
      ],
      "metadata": {
        "id": "4nIahsJflm8o"
      },
      "execution_count": null,
      "outputs": []
    },
    {
      "cell_type": "code",
      "source": [
        "ridge_reg2 = linear_model.Ridge(alpha=0.5)\n",
        "ridge_reg2.fit(x_train2,y_train2)\n",
        "y_ridge2 = ridge_reg2.predict(x_test2)\n",
        "y_ridge2"
      ],
      "metadata": {
        "colab": {
          "base_uri": "https://localhost:8080/"
        },
        "id": "NAuwSPgAYpCs",
        "outputId": "81787497-05f9-4c22-aa87-4b5e6906150f"
      },
      "execution_count": null,
      "outputs": [
        {
          "output_type": "execute_result",
          "data": {
            "text/plain": [
              "array([ 710.58372806,  865.71144974, 1625.59187977, ...,  539.97333619,\n",
              "        746.36282802, 1180.58801228])"
            ]
          },
          "metadata": {},
          "execution_count": 118
        }
      ]
    },
    {
      "cell_type": "markdown",
      "source": [
        "## Lasso regression"
      ],
      "metadata": {
        "id": "32-1A1KdoN6B"
      }
    },
    {
      "cell_type": "code",
      "source": [
        "lasso_reg = linear_model.Lasso(alpha=0.1)\n",
        "lasso_reg.fit(x_train,y_train)\n",
        "y_lasso = lasso_reg.predict(x_test)"
      ],
      "metadata": {
        "id": "Uq1R-8b7oRTH"
      },
      "execution_count": null,
      "outputs": []
    },
    {
      "cell_type": "code",
      "source": [
        "lasso_reg2 = linear_model.Lasso(alpha=0.1)\n",
        "lasso_reg2.fit(x_train2,y_train2)\n",
        "y_lasso2 = lasso_reg2.predict(x_test2)\n",
        "y_lasso2"
      ],
      "metadata": {
        "colab": {
          "base_uri": "https://localhost:8080/"
        },
        "id": "h7J7lpJBY1gY",
        "outputId": "6fb0fdeb-f129-419a-c728-c9358fc4cc14"
      },
      "execution_count": null,
      "outputs": [
        {
          "output_type": "stream",
          "name": "stderr",
          "text": [
            "/usr/local/lib/python3.7/dist-packages/sklearn/linear_model/_coordinate_descent.py:648: ConvergenceWarning: Objective did not converge. You might want to increase the number of iterations, check the scale of the features or consider increasing regularisation. Duality gap: 9.701e+09, tolerance: 3.797e+06\n",
            "  coef_, l1_reg, l2_reg, X, y, max_iter, tol, rng, random, positive\n"
          ]
        },
        {
          "output_type": "execute_result",
          "data": {
            "text/plain": [
              "array([ 710.23045814,  865.60555611, 1625.37746239, ...,  540.10473976,\n",
              "        746.65101453, 1180.56740714])"
            ]
          },
          "metadata": {},
          "execution_count": 117
        }
      ]
    },
    {
      "cell_type": "code",
      "source": [
        "plt.figure()\n",
        "range_from = 0\n",
        "range_to = 100\n",
        "x_plot = list(range(range_from, range_to))\n",
        "\n",
        "plt.title('my regression vs sklearn', fontsize=14)\n",
        "plt.xlabel('x test data', fontsize=14)\n",
        "plt.ylabel('y', fontsize=14)\n",
        "plt.grid(True)\n",
        "plt.scatter(x_plot, y_test[range_from:range_to], label='real y')\n",
        "plt.scatter(x_plot, y_pre[range_from:range_to], label='my regression')\n",
        "plt.scatter(x_plot, y_skl[range_from:range_to], label='sklearn')\n",
        "plt.scatter(x_plot, y_ridge[range_from:range_to], label='ridge')\n",
        "plt.scatter(x_plot, y_lasso[range_from:range_to], label='lasso')\n",
        "\n",
        "\n",
        "plt.legend()\n",
        "plt.show()"
      ],
      "metadata": {
        "colab": {
          "base_uri": "https://localhost:8080/",
          "height": 300
        },
        "id": "rj_VJdcMbZU6",
        "outputId": "464dbb89-cb36-406f-d28a-5f0fdb146f76"
      },
      "execution_count": null,
      "outputs": [
        {
          "output_type": "display_data",
          "data": {
            "text/plain": [
              "<Figure size 432x288 with 1 Axes>"
            ],
            "image/png": "[encoded data removed]"
          },
          "metadata": {
            "needs_background": "light"
          }
        }
      ]
    },
    {
      "cell_type": "code",
      "source": [
        "plt.figure()\n",
        "range_from = 0\n",
        "range_to = 100\n",
        "x_plot = list(range(range_from, range_to))\n",
        "\n",
        "plt.title('my regression vs sklearn', fontsize=14)\n",
        "plt.xlabel('x test data', fontsize=14)\n",
        "plt.ylabel('y', fontsize=14)\n",
        "plt.grid(True)\n",
        "plt.scatter(x_plot, y_test2[range_from:range_to], label='real y')\n",
        "# plt.scatter(x_plot, y_pre[range_from:range_to], label='my regression')\n",
        "# plt.scatter(x_plot, y_skl[range_from:range_to], label='sklearn')\n",
        "plt.scatter(x_plot, y_ridge2[range_from:range_to], label='ridge')\n",
        "plt.scatter(x_plot, y_lasso2[range_from:range_to], label='lasso')\n",
        "\n",
        "\n",
        "plt.legend()\n",
        "plt.show()"
      ],
      "metadata": {
        "id": "TxixoYCnn5qt",
        "colab": {
          "base_uri": "https://localhost:8080/",
          "height": 300
        },
        "outputId": "ab1e4bc9-c062-4d6e-c5fe-b61eb6a6840e"
      },
      "execution_count": null,
      "outputs": [
        {
          "output_type": "display_data",
          "data": {
            "text/plain": [
              "<Figure size 432x288 with 1 Axes>"
            ],
            "image/png": "[encoded data removed]"
          },
          "metadata": {
            "needs_background": "light"
          }
        }
      ]
    },
    {
      "cell_type": "code",
      "source": [
        "def mae(coef, x, y):\n",
        "    return np.mean(abs(np.dot(x, coef) - y))/2\n",
        " \n",
        " "
      ],
      "metadata": {
        "id": "_P22K3uJb5OB"
      },
      "execution_count": null,
      "outputs": []
    },
    {
      "cell_type": "code",
      "source": [
        "c3 = multilinear_regression(coef, x_train, y_train, 1e-1, error_func=mae)\n"
      ],
      "metadata": {
        "id": "U5UvvK4fcxKZ"
      },
      "execution_count": null,
      "outputs": []
    },
    {
      "cell_type": "code",
      "source": [
        "y_pre3 = c3[0] + c3[1]*x_test[:, 1] + c3[2]*x_test[:, 2] + c3[3]*x_test[:, 3]\n",
        " \n",
        "y_pre3"
      ],
      "metadata": {
        "colab": {
          "base_uri": "https://localhost:8080/"
        },
        "id": "opcL1cEWdWSq",
        "outputId": "e3510e93-70dc-49c3-925f-bc9d38b7ef6d"
      },
      "execution_count": null,
      "outputs": [
        {
          "output_type": "execute_result",
          "data": {
            "text/plain": [
              "array([351.89841632, 604.74161361, 583.98258097, ..., 705.07621571,\n",
              "       504.40701151, 320.460241  ])"
            ]
          },
          "metadata": {},
          "execution_count": 129
        }
      ]
    },
    {
      "cell_type": "code",
      "source": [
        "plt.figure()\n",
        "range_from = 0\n",
        "range_to = 100\n",
        "x_plot = list(range(range_from, range_to))\n",
        "\n",
        "plt.title('my regression vs sklearn', fontsize=14)\n",
        "plt.xlabel('x test data', fontsize=14)\n",
        "plt.ylabel('y', fontsize=14)\n",
        "plt.grid(True)\n",
        "plt.scatter(x_plot, y_test[range_from:range_to], label='real y')\n",
        "plt.scatter(x_plot, y_pre[range_from:range_to], label='my regression')\n",
        "plt.scatter(x_plot, y_skl[range_from:range_to], label='sklearn')\n",
        "plt.scatter(x_plot, y_pre3[range_from:range_to], label='mean absolute error')\n",
        "\n",
        "\n",
        "plt.legend()\n",
        "plt.show()"
      ],
      "metadata": {
        "colab": {
          "base_uri": "https://localhost:8080/",
          "height": 300
        },
        "id": "5fyaUtw7dlSm",
        "outputId": "8f4a4a73-2a62-4c2b-d3da-4872028760dc"
      },
      "execution_count": null,
      "outputs": [
        {
          "output_type": "display_data",
          "data": {
            "text/plain": [
              "<Figure size 432x288 with 1 Axes>"
            ],
            "image/png": "[encoded data removed]"
          },
          "metadata": {
            "needs_background": "light"
          }
        }
      ]
    }
  ]
}