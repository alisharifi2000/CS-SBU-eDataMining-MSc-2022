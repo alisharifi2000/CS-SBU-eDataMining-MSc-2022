{
  "nbformat": 4,
  "nbformat_minor": 0,
  "metadata": {
    "colab": {
      "name": "Exercise1-Dataset2.ipynb",
      "provenance": [],
      "collapsed_sections": [],
      "toc_visible": true,
      "authorship_tag": "ABX9TyORGX8Uyoe0rpZoW4G3pfFp",
      "include_colab_link": true
    },
    "kernelspec": {
      "name": "python3",
      "display_name": "Python 3"
    },
    "language_info": {
      "name": "python"
    }
  },
  "cells": [
    {
      "cell_type": "markdown",
      "metadata": {
        "id": "view-in-github",
        "colab_type": "text"
      },
      "source": [
        "<a href=\"https://colab.research.google.com/github/rz-pb/CS-SBU-eDataMining-MSc-2022/blob/400422049/submits/400422049/project1/Exercise1_Dataset2.ipynb\" target=\"_parent\"><img src=\"https://colab.research.google.com/assets/colab-badge.svg\" alt=\"Open In Colab\"/></a>"
      ]
    },
    {
      "cell_type": "markdown",
      "source": [
        "# About Dataset"
      ],
      "metadata": {
        "id": "j75KQeNkM6qE"
      }
    },
    {
      "cell_type": "markdown",
      "source": [
        "## Where is the data from?\n",
        "The data was scraped from Immoscout24, the biggest real estate platform in Germany. Immoscout24 has listings for both rental properties and homes for sale, however, the data only contains offers for rental properties.\n",
        "The scraping process is described in this blog post and the corresponding code for scraping and minimal processing afterwards can be found in this Github repo.\n",
        "At a given time, all available offers were scraped from the site and saved. This process was repeated three times, so the data set contains offers from the dates 2018-09-22, 2019-05-10 and 2019-10-08."
      ],
      "metadata": {
        "id": "x3iOvOw-M_qO"
      }
    },
    {
      "cell_type": "markdown",
      "source": [
        "## Content\n",
        "The data set contains most of the important properties, such as living area size, the rent, both base rent as well as total rent (if applicable), the location (street and house number, if available, ZIP code and state), type of energy etc. It also has two variables containing longer free text descriptions: description with a text describing the offer and facilities describing all available facilities, newest renovation etc. The date column was added to give the time of scraping."
      ],
      "metadata": {
        "id": "8XdCb4d-NGeB"
      }
    },
    {
      "cell_type": "markdown",
      "source": [
        "# Getting Started\n",
        "In this section first we are going to import modules and then set up the connections to the kaggle in order to have access to the datasets and importing them to the google colab environment. "
      ],
      "metadata": {
        "id": "eq1aTlbIfO8n"
      }
    },
    {
      "cell_type": "markdown",
      "source": [
        "## Importing Modules"
      ],
      "metadata": {
        "id": "UVFnWNeohCCa"
      }
    },
    {
      "cell_type": "code",
      "source": [
        "import pandas as pd\n",
        "import numpy as np\n",
        "from numpy import NaN\n",
        "pd.set_option('display.max_columns', 500)\n",
        "pd.__version__"
      ],
      "metadata": {
        "colab": {
          "base_uri": "https://localhost:8080/",
          "height": 36
        },
        "id": "cEFKb2kR_UvB",
        "outputId": "06694918-ae3b-4de8-eeb7-4943deb4088e"
      },
      "execution_count": 76,
      "outputs": [
        {
          "output_type": "execute_result",
          "data": {
            "text/plain": [
              "'1.3.5'"
            ],
            "application/vnd.google.colaboratory.intrinsic+json": {
              "type": "string"
            }
          },
          "metadata": {},
          "execution_count": 76
        }
      ]
    },
    {
      "cell_type": "markdown",
      "source": [
        "## Installing the _kaggle_ Module\n",
        "In order to have access to kaggle API for fetching the datasets, we need to install the kaggle module inside the environment using bash commmad python package installer **pip**."
      ],
      "metadata": {
        "id": "ReRsZyNuhGGW"
      }
    },
    {
      "cell_type": "code",
      "execution_count": 2,
      "metadata": {
        "colab": {
          "base_uri": "https://localhost:8080/"
        },
        "id": "E1U3as-I6cA9",
        "outputId": "fe6ffef8-8863-4eef-c9bd-ce8ddbb0139f"
      },
      "outputs": [
        {
          "output_type": "stream",
          "name": "stdout",
          "text": [
            "Requirement already satisfied: kaggle in /usr/local/lib/python3.7/dist-packages (1.5.12)\n",
            "Requirement already satisfied: urllib3 in /usr/local/lib/python3.7/dist-packages (from kaggle) (1.24.3)\n",
            "Requirement already satisfied: python-slugify in /usr/local/lib/python3.7/dist-packages (from kaggle) (6.1.1)\n",
            "Requirement already satisfied: python-dateutil in /usr/local/lib/python3.7/dist-packages (from kaggle) (2.8.2)\n",
            "Requirement already satisfied: certifi in /usr/local/lib/python3.7/dist-packages (from kaggle) (2021.10.8)\n",
            "Requirement already satisfied: six>=1.10 in /usr/local/lib/python3.7/dist-packages (from kaggle) (1.15.0)\n",
            "Requirement already satisfied: requests in /usr/local/lib/python3.7/dist-packages (from kaggle) (2.23.0)\n",
            "Requirement already satisfied: tqdm in /usr/local/lib/python3.7/dist-packages (from kaggle) (4.63.0)\n",
            "Requirement already satisfied: text-unidecode>=1.3 in /usr/local/lib/python3.7/dist-packages (from python-slugify->kaggle) (1.3)\n",
            "Requirement already satisfied: idna<3,>=2.5 in /usr/local/lib/python3.7/dist-packages (from requests->kaggle) (2.10)\n",
            "Requirement already satisfied: chardet<4,>=3.0.2 in /usr/local/lib/python3.7/dist-packages (from requests->kaggle) (3.0.4)\n"
          ]
        }
      ],
      "source": [
        "!pip install kaggle"
      ]
    },
    {
      "cell_type": "code",
      "source": [
        "from google.colab import files\n",
        "files.upload()"
      ],
      "metadata": {
        "colab": {
          "resources": {
            "http://localhost:8080/nbextensions/google.colab/files.js": {
              "data": "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",
              "ok": true,
              "headers": [
                [
                  "content-type",
                  "application/javascript"
                ]
              ],
              "status": 200,
              "status_text": ""
            }
          },
          "base_uri": "https://localhost:8080/",
          "height": 92
        },
        "id": "zOTrVl4d8Qzr",
        "outputId": "213599f7-83bc-42b7-8417-7f44ef262d74"
      },
      "execution_count": 3,
      "outputs": [
        {
          "output_type": "display_data",
          "data": {
            "text/plain": [
              "<IPython.core.display.HTML object>"
            ],
            "text/html": [
              "\n",
              "     <input type=\"file\" id=\"files-e7ebc959-f1c5-4d37-b654-8889565c2d39\" name=\"files[]\" multiple disabled\n",
              "        style=\"border:none\" />\n",
              "     <output id=\"result-e7ebc959-f1c5-4d37-b654-8889565c2d39\">\n",
              "      Upload widget is only available when the cell has been executed in the\n",
              "      current browser session. Please rerun this cell to enable.\n",
              "      </output>\n",
              "      <script src=\"/nbextensions/google.colab/files.js\"></script> "
            ]
          },
          "metadata": {}
        },
        {
          "output_type": "stream",
          "name": "stdout",
          "text": [
            "Saving kaggle.json to kaggle.json\n"
          ]
        },
        {
          "output_type": "execute_result",
          "data": {
            "text/plain": [
              "{'kaggle.json': b'{\"username\":\"rezapourbahreini\",\"key\":\"218f7736c63d979f4a9458061d870c49\"}'}"
            ]
          },
          "metadata": {},
          "execution_count": 3
        }
      ]
    },
    {
      "cell_type": "code",
      "source": [
        "!mkdir -p ~/.kaggle\n",
        "!cp kaggle.json ~/.kaggle/\n",
        "!chmod 600 ~/.kaggle/kaggle.json"
      ],
      "metadata": {
        "id": "K_WFn-kH8tQd"
      },
      "execution_count": 4,
      "outputs": []
    },
    {
      "cell_type": "markdown",
      "source": [
        "## Importing the **Apartment rental offers in Germany** Dataset"
      ],
      "metadata": {
        "id": "xmmMpZLiiOoL"
      }
    },
    {
      "cell_type": "code",
      "source": [
        "!kaggle datasets download -d corrieaar/apartment-rental-offers-in-germany"
      ],
      "metadata": {
        "colab": {
          "base_uri": "https://localhost:8080/"
        },
        "id": "u_zNRAbU96oR",
        "outputId": "7a77d31d-8e07-4147-dd76-25ddc232feb7"
      },
      "execution_count": 5,
      "outputs": [
        {
          "output_type": "stream",
          "name": "stdout",
          "text": [
            "Downloading apartment-rental-offers-in-germany.zip to /content\n",
            " 87% 81.0M/93.0M [00:00<00:00, 156MB/s]\n",
            "100% 93.0M/93.0M [00:00<00:00, 174MB/s]\n"
          ]
        }
      ]
    },
    {
      "cell_type": "code",
      "source": [
        "!pwd"
      ],
      "metadata": {
        "colab": {
          "base_uri": "https://localhost:8080/"
        },
        "id": "YinmcgdA-QEO",
        "outputId": "19ebe4c8-c28d-416f-bdb9-02a6128be0d7"
      },
      "execution_count": 6,
      "outputs": [
        {
          "output_type": "stream",
          "name": "stdout",
          "text": [
            "/content\n"
          ]
        }
      ]
    },
    {
      "cell_type": "code",
      "source": [
        "!ls"
      ],
      "metadata": {
        "colab": {
          "base_uri": "https://localhost:8080/"
        },
        "id": "MhTHiDzX-Sev",
        "outputId": "821a0046-4956-4854-955f-b2b5f0123c97"
      },
      "execution_count": 7,
      "outputs": [
        {
          "output_type": "stream",
          "name": "stdout",
          "text": [
            "apartment-rental-offers-in-germany.zip\tkaggle.json  sample_data\n"
          ]
        }
      ]
    },
    {
      "cell_type": "code",
      "source": [
        "import zipfile\n",
        "zip_ref = zipfile.ZipFile('apartment-rental-offers-in-germany.zip', 'r')\n",
        "zip_ref.extractall()\n",
        "zip_ref.close()"
      ],
      "metadata": {
        "id": "h3ljj5Gd-Zdr"
      },
      "execution_count": 8,
      "outputs": []
    },
    {
      "cell_type": "code",
      "source": [
        "!ls"
      ],
      "metadata": {
        "colab": {
          "base_uri": "https://localhost:8080/"
        },
        "id": "mHJeb5Gn_RE4",
        "outputId": "33de6bac-85f4-45b9-9378-8b94a4de7128"
      },
      "execution_count": 9,
      "outputs": [
        {
          "output_type": "stream",
          "name": "stdout",
          "text": [
            "apartment-rental-offers-in-germany.zip\timmo_data.csv  kaggle.json  sample_data\n"
          ]
        }
      ]
    },
    {
      "cell_type": "markdown",
      "source": [
        "# 1. Reading the Dataset and Some Preliminary Checks\n",
        "The data was scraped from Immoscout24, the biggest real estate platform in Germany. Immoscout24 has listings for both rental properties and homes for sale, however, the data only contains offers for rental properties.\n",
        "\n",
        "In this section, after reading the dataset, we are going to do some preliminary checks and take a look at the outlines of the dataset; such as the columns, size of dataset, data-types to see what can we do to optimize the dataset for what's coming next."
      ],
      "metadata": {
        "id": "H9k88-Vtf6X7"
      }
    },
    {
      "cell_type": "code",
      "source": [
        "imm = pd.read_csv('immo_data.csv')"
      ],
      "metadata": {
        "id": "U1yb1hwN_TKU"
      },
      "execution_count": 83,
      "outputs": []
    },
    {
      "cell_type": "code",
      "source": [
        "imm.head()"
      ],
      "metadata": {
        "colab": {
          "base_uri": "https://localhost:8080/",
          "height": 548
        },
        "id": "bEpYvmaxAEhk",
        "outputId": "b66194c9-f70a-4055-92a4-6d63a8b0f06b"
      },
      "execution_count": 84,
      "outputs": [
        {
          "output_type": "execute_result",
          "data": {
            "text/plain": [
              "                regio1  serviceCharge                     heatingType  \\\n",
              "0  Nordrhein_Westfalen         245.00                 central_heating   \n",
              "1      Rheinland_Pfalz         134.00  self_contained_central_heating   \n",
              "2              Sachsen         255.00                   floor_heating   \n",
              "3              Sachsen          58.15                district_heating   \n",
              "4               Bremen         138.00  self_contained_central_heating   \n",
              "\n",
              "  telekomTvOffer  telekomHybridUploadSpeed  newlyConst  balcony  picturecount  \\\n",
              "0  ONE_YEAR_FREE                       NaN       False    False             6   \n",
              "1  ONE_YEAR_FREE                       NaN       False     True             8   \n",
              "2  ONE_YEAR_FREE                      10.0        True     True             8   \n",
              "3  ONE_YEAR_FREE                       NaN       False     True             9   \n",
              "4            NaN                       NaN       False     True            19   \n",
              "\n",
              "   pricetrend  telekomUploadSpeed  totalRent  yearConstructed    scoutId  \\\n",
              "0        4.62                10.0      840.0           1965.0   96107057   \n",
              "1        3.47                10.0        NaN           1871.0  111378734   \n",
              "2        2.72                 2.4     1300.0           2019.0  113147523   \n",
              "3        1.53                40.0        NaN           1964.0  108890903   \n",
              "4        2.46                 NaN      903.0           1950.0  114751222   \n",
              "\n",
              "   noParkSpaces       firingTypes  hasKitchen              geo_bln  cellar  \\\n",
              "0           1.0               oil       False  Nordrhein_Westfalen    True   \n",
              "1           2.0               gas       False      Rheinland_Pfalz   False   \n",
              "2           1.0               NaN       False              Sachsen    True   \n",
              "3           NaN  district_heating       False              Sachsen   False   \n",
              "4           NaN               gas       False               Bremen   False   \n",
              "\n",
              "   yearConstructedRange  baseRent houseNumber  livingSpace  \\\n",
              "0                   2.0     595.0         244        86.00   \n",
              "1                   1.0     800.0         NaN        89.00   \n",
              "2                   9.0     965.0           4        83.80   \n",
              "3                   2.0     343.0          35        58.15   \n",
              "4                   1.0     765.0          10        84.97   \n",
              "\n",
              "               geo_krs       condition   interiorQual petsAllowed  \\\n",
              "0             Dortmund       well_kept         normal         NaN   \n",
              "1    Rhein_Pfalz_Kreis     refurbished         normal          no   \n",
              "2              Dresden  first_time_use  sophisticated         NaN   \n",
              "3  Mittelsachsen_Kreis             NaN            NaN         NaN   \n",
              "4               Bremen     refurbished            NaN         NaN   \n",
              "\n",
              "                        street                  streetPlain   lift  \\\n",
              "0   Sch&uuml;ruferstra&szlig;e              Schüruferstraße  False   \n",
              "1               no_information                          NaN  False   \n",
              "2                    Turnerweg                    Turnerweg   True   \n",
              "3  Gl&uuml;ck-Auf-Stra&szlig;e             Glück-Auf-Straße  False   \n",
              "4  Hermann-Henrich-Meier-Allee  Hermann-Henrich-Meier-Allee  False   \n",
              "\n",
              "   baseRentRange    typeOfFlat  geo_plz  noRooms  thermalChar  floor  \\\n",
              "0              4  ground_floor    44269      4.0        181.4    1.0   \n",
              "1              5  ground_floor    67459      3.0          NaN    NaN   \n",
              "2              6     apartment     1097      3.0          NaN    3.0   \n",
              "3              2         other     9599      3.0         86.0    3.0   \n",
              "4              5     apartment    28213      3.0        188.9    1.0   \n",
              "\n",
              "   numberOfFloors  noRoomsRange  garden  livingSpaceRange  \\\n",
              "0             3.0             4    True                 4   \n",
              "1             NaN             3   False                 4   \n",
              "2             4.0             3   False                 4   \n",
              "3             NaN             3   False                 2   \n",
              "4             NaN             3   False                 4   \n",
              "\n",
              "                regio2                      regio3  \\\n",
              "0             Dortmund                     Schüren   \n",
              "1    Rhein_Pfalz_Kreis              Böhl_Iggelheim   \n",
              "2              Dresden  Äußere_Neustadt_Antonstadt   \n",
              "3  Mittelsachsen_Kreis                    Freiberg   \n",
              "4               Bremen           Neu_Schwachhausen   \n",
              "\n",
              "                                         description  \\\n",
              "0  Die ebenerdig zu erreichende Erdgeschosswohnun...   \n",
              "1  Alles neu macht der Mai – so kann es auch für ...   \n",
              "2  Der Neubau entsteht im Herzen der Dresdner Neu...   \n",
              "3  Abseits von Lärm und Abgasen in Ihre neue Wohn...   \n",
              "4  Es handelt sich hier um ein saniertes Mehrfami...   \n",
              "\n",
              "                                          facilities  heatingCosts  \\\n",
              "0  Die Wohnung ist mit Laminat ausgelegt. Das Bad...           NaN   \n",
              "1                                                NaN           NaN   \n",
              "2  * 9 m² Balkon\\n* Bad mit bodengleicher Dusche,...           NaN   \n",
              "3                                                NaN         87.23   \n",
              "4  Diese Wohnung wurde neu saniert und ist wie fo...           NaN   \n",
              "\n",
              "  energyEfficiencyClass  lastRefurbish  electricityBasePrice  \\\n",
              "0                   NaN            NaN                   NaN   \n",
              "1                   NaN         2019.0                   NaN   \n",
              "2                   NaN            NaN                   NaN   \n",
              "3                   NaN            NaN                   NaN   \n",
              "4                   NaN            NaN                   NaN   \n",
              "\n",
              "   electricityKwhPrice   date  \n",
              "0                  NaN  May19  \n",
              "1                  NaN  May19  \n",
              "2                  NaN  Oct19  \n",
              "3                  NaN  May19  \n",
              "4                  NaN  Feb20  "
            ],
            "text/html": [
              "\n",
              "  <div id=\"df-a03c8a1a-a4bf-4093-8a5f-0f845c1ab520\">\n",
              "    <div class=\"colab-df-container\">\n",
              "      <div>\n",
              "<style scoped>\n",
              "    .dataframe tbody tr th:only-of-type {\n",
              "        vertical-align: middle;\n",
              "    }\n",
              "\n",
              "    .dataframe tbody tr th {\n",
              "        vertical-align: top;\n",
              "    }\n",
              "\n",
              "    .dataframe thead th {\n",
              "        text-align: right;\n",
              "    }\n",
              "</style>\n",
              "<table border=\"1\" class=\"dataframe\">\n",
              "  <thead>\n",
              "    <tr style=\"text-align: right;\">\n",
              "      <th></th>\n",
              "      <th>regio1</th>\n",
              "      <th>serviceCharge</th>\n",
              "      <th>heatingType</th>\n",
              "      <th>telekomTvOffer</th>\n",
              "      <th>telekomHybridUploadSpeed</th>\n",
              "      <th>newlyConst</th>\n",
              "      <th>balcony</th>\n",
              "      <th>picturecount</th>\n",
              "      <th>pricetrend</th>\n",
              "      <th>telekomUploadSpeed</th>\n",
              "      <th>totalRent</th>\n",
              "      <th>yearConstructed</th>\n",
              "      <th>scoutId</th>\n",
              "      <th>noParkSpaces</th>\n",
              "      <th>firingTypes</th>\n",
              "      <th>hasKitchen</th>\n",
              "      <th>geo_bln</th>\n",
              "      <th>cellar</th>\n",
              "      <th>yearConstructedRange</th>\n",
              "      <th>baseRent</th>\n",
              "      <th>houseNumber</th>\n",
              "      <th>livingSpace</th>\n",
              "      <th>geo_krs</th>\n",
              "      <th>condition</th>\n",
              "      <th>interiorQual</th>\n",
              "      <th>petsAllowed</th>\n",
              "      <th>street</th>\n",
              "      <th>streetPlain</th>\n",
              "      <th>lift</th>\n",
              "      <th>baseRentRange</th>\n",
              "      <th>typeOfFlat</th>\n",
              "      <th>geo_plz</th>\n",
              "      <th>noRooms</th>\n",
              "      <th>thermalChar</th>\n",
              "      <th>floor</th>\n",
              "      <th>numberOfFloors</th>\n",
              "      <th>noRoomsRange</th>\n",
              "      <th>garden</th>\n",
              "      <th>livingSpaceRange</th>\n",
              "      <th>regio2</th>\n",
              "      <th>regio3</th>\n",
              "      <th>description</th>\n",
              "      <th>facilities</th>\n",
              "      <th>heatingCosts</th>\n",
              "      <th>energyEfficiencyClass</th>\n",
              "      <th>lastRefurbish</th>\n",
              "      <th>electricityBasePrice</th>\n",
              "      <th>electricityKwhPrice</th>\n",
              "      <th>date</th>\n",
              "    </tr>\n",
              "  </thead>\n",
              "  <tbody>\n",
              "    <tr>\n",
              "      <th>0</th>\n",
              "      <td>Nordrhein_Westfalen</td>\n",
              "      <td>245.00</td>\n",
              "      <td>central_heating</td>\n",
              "      <td>ONE_YEAR_FREE</td>\n",
              "      <td>NaN</td>\n",
              "      <td>False</td>\n",
              "      <td>False</td>\n",
              "      <td>6</td>\n",
              "      <td>4.62</td>\n",
              "      <td>10.0</td>\n",
              "      <td>840.0</td>\n",
              "      <td>1965.0</td>\n",
              "      <td>96107057</td>\n",
              "      <td>1.0</td>\n",
              "      <td>oil</td>\n",
              "      <td>False</td>\n",
              "      <td>Nordrhein_Westfalen</td>\n",
              "      <td>True</td>\n",
              "      <td>2.0</td>\n",
              "      <td>595.0</td>\n",
              "      <td>244</td>\n",
              "      <td>86.00</td>\n",
              "      <td>Dortmund</td>\n",
              "      <td>well_kept</td>\n",
              "      <td>normal</td>\n",
              "      <td>NaN</td>\n",
              "      <td>Sch&amp;uuml;ruferstra&amp;szlig;e</td>\n",
              "      <td>Schüruferstraße</td>\n",
              "      <td>False</td>\n",
              "      <td>4</td>\n",
              "      <td>ground_floor</td>\n",
              "      <td>44269</td>\n",
              "      <td>4.0</td>\n",
              "      <td>181.4</td>\n",
              "      <td>1.0</td>\n",
              "      <td>3.0</td>\n",
              "      <td>4</td>\n",
              "      <td>True</td>\n",
              "      <td>4</td>\n",
              "      <td>Dortmund</td>\n",
              "      <td>Schüren</td>\n",
              "      <td>Die ebenerdig zu erreichende Erdgeschosswohnun...</td>\n",
              "      <td>Die Wohnung ist mit Laminat ausgelegt. Das Bad...</td>\n",
              "      <td>NaN</td>\n",
              "      <td>NaN</td>\n",
              "      <td>NaN</td>\n",
              "      <td>NaN</td>\n",
              "      <td>NaN</td>\n",
              "      <td>May19</td>\n",
              "    </tr>\n",
              "    <tr>\n",
              "      <th>1</th>\n",
              "      <td>Rheinland_Pfalz</td>\n",
              "      <td>134.00</td>\n",
              "      <td>self_contained_central_heating</td>\n",
              "      <td>ONE_YEAR_FREE</td>\n",
              "      <td>NaN</td>\n",
              "      <td>False</td>\n",
              "      <td>True</td>\n",
              "      <td>8</td>\n",
              "      <td>3.47</td>\n",
              "      <td>10.0</td>\n",
              "      <td>NaN</td>\n",
              "      <td>1871.0</td>\n",
              "      <td>111378734</td>\n",
              "      <td>2.0</td>\n",
              "      <td>gas</td>\n",
              "      <td>False</td>\n",
              "      <td>Rheinland_Pfalz</td>\n",
              "      <td>False</td>\n",
              "      <td>1.0</td>\n",
              "      <td>800.0</td>\n",
              "      <td>NaN</td>\n",
              "      <td>89.00</td>\n",
              "      <td>Rhein_Pfalz_Kreis</td>\n",
              "      <td>refurbished</td>\n",
              "      <td>normal</td>\n",
              "      <td>no</td>\n",
              "      <td>no_information</td>\n",
              "      <td>NaN</td>\n",
              "      <td>False</td>\n",
              "      <td>5</td>\n",
              "      <td>ground_floor</td>\n",
              "      <td>67459</td>\n",
              "      <td>3.0</td>\n",
              "      <td>NaN</td>\n",
              "      <td>NaN</td>\n",
              "      <td>NaN</td>\n",
              "      <td>3</td>\n",
              "      <td>False</td>\n",
              "      <td>4</td>\n",
              "      <td>Rhein_Pfalz_Kreis</td>\n",
              "      <td>Böhl_Iggelheim</td>\n",
              "      <td>Alles neu macht der Mai – so kann es auch für ...</td>\n",
              "      <td>NaN</td>\n",
              "      <td>NaN</td>\n",
              "      <td>NaN</td>\n",
              "      <td>2019.0</td>\n",
              "      <td>NaN</td>\n",
              "      <td>NaN</td>\n",
              "      <td>May19</td>\n",
              "    </tr>\n",
              "    <tr>\n",
              "      <th>2</th>\n",
              "      <td>Sachsen</td>\n",
              "      <td>255.00</td>\n",
              "      <td>floor_heating</td>\n",
              "      <td>ONE_YEAR_FREE</td>\n",
              "      <td>10.0</td>\n",
              "      <td>True</td>\n",
              "      <td>True</td>\n",
              "      <td>8</td>\n",
              "      <td>2.72</td>\n",
              "      <td>2.4</td>\n",
              "      <td>1300.0</td>\n",
              "      <td>2019.0</td>\n",
              "      <td>113147523</td>\n",
              "      <td>1.0</td>\n",
              "      <td>NaN</td>\n",
              "      <td>False</td>\n",
              "      <td>Sachsen</td>\n",
              "      <td>True</td>\n",
              "      <td>9.0</td>\n",
              "      <td>965.0</td>\n",
              "      <td>4</td>\n",
              "      <td>83.80</td>\n",
              "      <td>Dresden</td>\n",
              "      <td>first_time_use</td>\n",
              "      <td>sophisticated</td>\n",
              "      <td>NaN</td>\n",
              "      <td>Turnerweg</td>\n",
              "      <td>Turnerweg</td>\n",
              "      <td>True</td>\n",
              "      <td>6</td>\n",
              "      <td>apartment</td>\n",
              "      <td>1097</td>\n",
              "      <td>3.0</td>\n",
              "      <td>NaN</td>\n",
              "      <td>3.0</td>\n",
              "      <td>4.0</td>\n",
              "      <td>3</td>\n",
              "      <td>False</td>\n",
              "      <td>4</td>\n",
              "      <td>Dresden</td>\n",
              "      <td>Äußere_Neustadt_Antonstadt</td>\n",
              "      <td>Der Neubau entsteht im Herzen der Dresdner Neu...</td>\n",
              "      <td>* 9 m² Balkon\\n* Bad mit bodengleicher Dusche,...</td>\n",
              "      <td>NaN</td>\n",
              "      <td>NaN</td>\n",
              "      <td>NaN</td>\n",
              "      <td>NaN</td>\n",
              "      <td>NaN</td>\n",
              "      <td>Oct19</td>\n",
              "    </tr>\n",
              "    <tr>\n",
              "      <th>3</th>\n",
              "      <td>Sachsen</td>\n",
              "      <td>58.15</td>\n",
              "      <td>district_heating</td>\n",
              "      <td>ONE_YEAR_FREE</td>\n",
              "      <td>NaN</td>\n",
              "      <td>False</td>\n",
              "      <td>True</td>\n",
              "      <td>9</td>\n",
              "      <td>1.53</td>\n",
              "      <td>40.0</td>\n",
              "      <td>NaN</td>\n",
              "      <td>1964.0</td>\n",
              "      <td>108890903</td>\n",
              "      <td>NaN</td>\n",
              "      <td>district_heating</td>\n",
              "      <td>False</td>\n",
              "      <td>Sachsen</td>\n",
              "      <td>False</td>\n",
              "      <td>2.0</td>\n",
              "      <td>343.0</td>\n",
              "      <td>35</td>\n",
              "      <td>58.15</td>\n",
              "      <td>Mittelsachsen_Kreis</td>\n",
              "      <td>NaN</td>\n",
              "      <td>NaN</td>\n",
              "      <td>NaN</td>\n",
              "      <td>Gl&amp;uuml;ck-Auf-Stra&amp;szlig;e</td>\n",
              "      <td>Glück-Auf-Straße</td>\n",
              "      <td>False</td>\n",
              "      <td>2</td>\n",
              "      <td>other</td>\n",
              "      <td>9599</td>\n",
              "      <td>3.0</td>\n",
              "      <td>86.0</td>\n",
              "      <td>3.0</td>\n",
              "      <td>NaN</td>\n",
              "      <td>3</td>\n",
              "      <td>False</td>\n",
              "      <td>2</td>\n",
              "      <td>Mittelsachsen_Kreis</td>\n",
              "      <td>Freiberg</td>\n",
              "      <td>Abseits von Lärm und Abgasen in Ihre neue Wohn...</td>\n",
              "      <td>NaN</td>\n",
              "      <td>87.23</td>\n",
              "      <td>NaN</td>\n",
              "      <td>NaN</td>\n",
              "      <td>NaN</td>\n",
              "      <td>NaN</td>\n",
              "      <td>May19</td>\n",
              "    </tr>\n",
              "    <tr>\n",
              "      <th>4</th>\n",
              "      <td>Bremen</td>\n",
              "      <td>138.00</td>\n",
              "      <td>self_contained_central_heating</td>\n",
              "      <td>NaN</td>\n",
              "      <td>NaN</td>\n",
              "      <td>False</td>\n",
              "      <td>True</td>\n",
              "      <td>19</td>\n",
              "      <td>2.46</td>\n",
              "      <td>NaN</td>\n",
              "      <td>903.0</td>\n",
              "      <td>1950.0</td>\n",
              "      <td>114751222</td>\n",
              "      <td>NaN</td>\n",
              "      <td>gas</td>\n",
              "      <td>False</td>\n",
              "      <td>Bremen</td>\n",
              "      <td>False</td>\n",
              "      <td>1.0</td>\n",
              "      <td>765.0</td>\n",
              "      <td>10</td>\n",
              "      <td>84.97</td>\n",
              "      <td>Bremen</td>\n",
              "      <td>refurbished</td>\n",
              "      <td>NaN</td>\n",
              "      <td>NaN</td>\n",
              "      <td>Hermann-Henrich-Meier-Allee</td>\n",
              "      <td>Hermann-Henrich-Meier-Allee</td>\n",
              "      <td>False</td>\n",
              "      <td>5</td>\n",
              "      <td>apartment</td>\n",
              "      <td>28213</td>\n",
              "      <td>3.0</td>\n",
              "      <td>188.9</td>\n",
              "      <td>1.0</td>\n",
              "      <td>NaN</td>\n",
              "      <td>3</td>\n",
              "      <td>False</td>\n",
              "      <td>4</td>\n",
              "      <td>Bremen</td>\n",
              "      <td>Neu_Schwachhausen</td>\n",
              "      <td>Es handelt sich hier um ein saniertes Mehrfami...</td>\n",
              "      <td>Diese Wohnung wurde neu saniert und ist wie fo...</td>\n",
              "      <td>NaN</td>\n",
              "      <td>NaN</td>\n",
              "      <td>NaN</td>\n",
              "      <td>NaN</td>\n",
              "      <td>NaN</td>\n",
              "      <td>Feb20</td>\n",
              "    </tr>\n",
              "  </tbody>\n",
              "</table>\n",
              "</div>\n",
              "      <button class=\"colab-df-convert\" onclick=\"convertToInteractive('df-a03c8a1a-a4bf-4093-8a5f-0f845c1ab520')\"\n",
              "              title=\"Convert this dataframe to an interactive table.\"\n",
              "              style=\"display:none;\">\n",
              "        \n",
              "  <svg xmlns=\"http://www.w3.org/2000/svg\" height=\"24px\"viewBox=\"0 0 24 24\"\n",
              "       width=\"24px\">\n",
              "    <path d=\"M0 0h24v24H0V0z\" fill=\"none\"/>\n",
              "    <path d=\"M18.56 5.44l.94 2.06.94-2.06 2.06-.94-2.06-.94-.94-2.06-.94 2.06-2.06.94zm-11 1L8.5 8.5l.94-2.06 2.06-.94-2.06-.94L8.5 2.5l-.94 2.06-2.06.94zm10 10l.94 2.06.94-2.06 2.06-.94-2.06-.94-.94-2.06-.94 2.06-2.06.94z\"/><path d=\"M17.41 7.96l-1.37-1.37c-.4-.4-.92-.59-1.43-.59-.52 0-1.04.2-1.43.59L10.3 9.45l-7.72 7.72c-.78.78-.78 2.05 0 2.83L4 21.41c.39.39.9.59 1.41.59.51 0 1.02-.2 1.41-.59l7.78-7.78 2.81-2.81c.8-.78.8-2.07 0-2.86zM5.41 20L4 18.59l7.72-7.72 1.47 1.35L5.41 20z\"/>\n",
              "  </svg>\n",
              "      </button>\n",
              "      \n",
              "  <style>\n",
              "    .colab-df-container {\n",
              "      display:flex;\n",
              "      flex-wrap:wrap;\n",
              "      gap: 12px;\n",
              "    }\n",
              "\n",
              "    .colab-df-convert {\n",
              "      background-color: #E8F0FE;\n",
              "      border: none;\n",
              "      border-radius: 50%;\n",
              "      cursor: pointer;\n",
              "      display: none;\n",
              "      fill: #1967D2;\n",
              "      height: 32px;\n",
              "      padding: 0 0 0 0;\n",
              "      width: 32px;\n",
              "    }\n",
              "\n",
              "    .colab-df-convert:hover {\n",
              "      background-color: #E2EBFA;\n",
              "      box-shadow: 0px 1px 2px rgba(60, 64, 67, 0.3), 0px 1px 3px 1px rgba(60, 64, 67, 0.15);\n",
              "      fill: #174EA6;\n",
              "    }\n",
              "\n",
              "    [theme=dark] .colab-df-convert {\n",
              "      background-color: #3B4455;\n",
              "      fill: #D2E3FC;\n",
              "    }\n",
              "\n",
              "    [theme=dark] .colab-df-convert:hover {\n",
              "      background-color: #434B5C;\n",
              "      box-shadow: 0px 1px 3px 1px rgba(0, 0, 0, 0.15);\n",
              "      filter: drop-shadow(0px 1px 2px rgba(0, 0, 0, 0.3));\n",
              "      fill: #FFFFFF;\n",
              "    }\n",
              "  </style>\n",
              "\n",
              "      <script>\n",
              "        const buttonEl =\n",
              "          document.querySelector('#df-a03c8a1a-a4bf-4093-8a5f-0f845c1ab520 button.colab-df-convert');\n",
              "        buttonEl.style.display =\n",
              "          google.colab.kernel.accessAllowed ? 'block' : 'none';\n",
              "\n",
              "        async function convertToInteractive(key) {\n",
              "          const element = document.querySelector('#df-a03c8a1a-a4bf-4093-8a5f-0f845c1ab520');\n",
              "          const dataTable =\n",
              "            await google.colab.kernel.invokeFunction('convertToInteractive',\n",
              "                                                     [key], {});\n",
              "          if (!dataTable) return;\n",
              "\n",
              "          const docLinkHtml = 'Like what you see? Visit the ' +\n",
              "            '<a target=\"_blank\" href=https://colab.research.google.com/notebooks/data_table.ipynb>data table notebook</a>'\n",
              "            + ' to learn more about interactive tables.';\n",
              "          element.innerHTML = '';\n",
              "          dataTable['output_type'] = 'display_data';\n",
              "          await google.colab.output.renderOutput(dataTable, element);\n",
              "          const docLink = document.createElement('div');\n",
              "          docLink.innerHTML = docLinkHtml;\n",
              "          element.appendChild(docLink);\n",
              "        }\n",
              "      </script>\n",
              "    </div>\n",
              "  </div>\n",
              "  "
            ]
          },
          "metadata": {},
          "execution_count": 84
        }
      ]
    },
    {
      "cell_type": "code",
      "source": [
        "imm.shape"
      ],
      "metadata": {
        "colab": {
          "base_uri": "https://localhost:8080/"
        },
        "id": "kHEeFg94_zgt",
        "outputId": "deaac501-26b7-4e88-89d0-24e6ad314b59"
      },
      "execution_count": 85,
      "outputs": [
        {
          "output_type": "execute_result",
          "data": {
            "text/plain": [
              "(268850, 49)"
            ]
          },
          "metadata": {},
          "execution_count": 85
        }
      ]
    },
    {
      "cell_type": "code",
      "source": [
        "imm.columns"
      ],
      "metadata": {
        "colab": {
          "base_uri": "https://localhost:8080/"
        },
        "id": "xRSfViVF4DnX",
        "outputId": "574d28de-c81f-4081-a6b7-9090bf00eab1"
      },
      "execution_count": 86,
      "outputs": [
        {
          "output_type": "execute_result",
          "data": {
            "text/plain": [
              "Index(['regio1', 'serviceCharge', 'heatingType', 'telekomTvOffer',\n",
              "       'telekomHybridUploadSpeed', 'newlyConst', 'balcony', 'picturecount',\n",
              "       'pricetrend', 'telekomUploadSpeed', 'totalRent', 'yearConstructed',\n",
              "       'scoutId', 'noParkSpaces', 'firingTypes', 'hasKitchen', 'geo_bln',\n",
              "       'cellar', 'yearConstructedRange', 'baseRent', 'houseNumber',\n",
              "       'livingSpace', 'geo_krs', 'condition', 'interiorQual', 'petsAllowed',\n",
              "       'street', 'streetPlain', 'lift', 'baseRentRange', 'typeOfFlat',\n",
              "       'geo_plz', 'noRooms', 'thermalChar', 'floor', 'numberOfFloors',\n",
              "       'noRoomsRange', 'garden', 'livingSpaceRange', 'regio2', 'regio3',\n",
              "       'description', 'facilities', 'heatingCosts', 'energyEfficiencyClass',\n",
              "       'lastRefurbish', 'electricityBasePrice', 'electricityKwhPrice', 'date'],\n",
              "      dtype='object')"
            ]
          },
          "metadata": {},
          "execution_count": 86
        }
      ]
    },
    {
      "cell_type": "markdown",
      "source": [
        "## Optimizing the Data-types : Any Candidates?\n",
        "As you might notice, mostly the datatypes are not set to `category`, whereas there are columns which could be revised in terms of datatype for better peformance and better readability. Following you may find the selected columns and the procedure of optimizing them in terms of datatypes. (Also the memory usage will do better after the changes) "
      ],
      "metadata": {
        "id": "UpN2BCWDjQVp"
      }
    },
    {
      "cell_type": "code",
      "source": [
        "imm.info()"
      ],
      "metadata": {
        "colab": {
          "base_uri": "https://localhost:8080/"
        },
        "id": "ZHarH1aKCV2m",
        "outputId": "a6df4624-ddbf-48e5-95ea-390a02749403"
      },
      "execution_count": 87,
      "outputs": [
        {
          "output_type": "stream",
          "name": "stdout",
          "text": [
            "<class 'pandas.core.frame.DataFrame'>\n",
            "RangeIndex: 268850 entries, 0 to 268849\n",
            "Data columns (total 49 columns):\n",
            " #   Column                    Non-Null Count   Dtype  \n",
            "---  ------                    --------------   -----  \n",
            " 0   regio1                    268850 non-null  object \n",
            " 1   serviceCharge             261941 non-null  float64\n",
            " 2   heatingType               223994 non-null  object \n",
            " 3   telekomTvOffer            236231 non-null  object \n",
            " 4   telekomHybridUploadSpeed  45020 non-null   float64\n",
            " 5   newlyConst                268850 non-null  bool   \n",
            " 6   balcony                   268850 non-null  bool   \n",
            " 7   picturecount              268850 non-null  int64  \n",
            " 8   pricetrend                267018 non-null  float64\n",
            " 9   telekomUploadSpeed        235492 non-null  float64\n",
            " 10  totalRent                 228333 non-null  float64\n",
            " 11  yearConstructed           211805 non-null  float64\n",
            " 12  scoutId                   268850 non-null  int64  \n",
            " 13  noParkSpaces              93052 non-null   float64\n",
            " 14  firingTypes               211886 non-null  object \n",
            " 15  hasKitchen                268850 non-null  bool   \n",
            " 16  geo_bln                   268850 non-null  object \n",
            " 17  cellar                    268850 non-null  bool   \n",
            " 18  yearConstructedRange      211805 non-null  float64\n",
            " 19  baseRent                  268850 non-null  float64\n",
            " 20  houseNumber               197832 non-null  object \n",
            " 21  livingSpace               268850 non-null  float64\n",
            " 22  geo_krs                   268850 non-null  object \n",
            " 23  condition                 200361 non-null  object \n",
            " 24  interiorQual              156185 non-null  object \n",
            " 25  petsAllowed               154277 non-null  object \n",
            " 26  street                    268850 non-null  object \n",
            " 27  streetPlain               197837 non-null  object \n",
            " 28  lift                      268850 non-null  bool   \n",
            " 29  baseRentRange             268850 non-null  int64  \n",
            " 30  typeOfFlat                232236 non-null  object \n",
            " 31  geo_plz                   268850 non-null  int64  \n",
            " 32  noRooms                   268850 non-null  float64\n",
            " 33  thermalChar               162344 non-null  float64\n",
            " 34  floor                     217541 non-null  float64\n",
            " 35  numberOfFloors            171118 non-null  float64\n",
            " 36  noRoomsRange              268850 non-null  int64  \n",
            " 37  garden                    268850 non-null  bool   \n",
            " 38  livingSpaceRange          268850 non-null  int64  \n",
            " 39  regio2                    268850 non-null  object \n",
            " 40  regio3                    268850 non-null  object \n",
            " 41  description               249103 non-null  object \n",
            " 42  facilities                215926 non-null  object \n",
            " 43  heatingCosts              85518 non-null   float64\n",
            " 44  energyEfficiencyClass     77787 non-null   object \n",
            " 45  lastRefurbish             80711 non-null   float64\n",
            " 46  electricityBasePrice      46846 non-null   float64\n",
            " 47  electricityKwhPrice       46846 non-null   float64\n",
            " 48  date                      268850 non-null  object \n",
            "dtypes: bool(6), float64(18), int64(6), object(19)\n",
            "memory usage: 89.7+ MB\n"
          ]
        }
      ]
    },
    {
      "cell_type": "markdown",
      "source": [
        "By checking the unique values in each column, we are going to filter the ones with less than 20 unique values. Thses columns are good candidates for going under an astype operation and transforming into `category` type."
      ],
      "metadata": {
        "id": "O91J1wtBP25C"
      }
    },
    {
      "cell_type": "code",
      "source": [
        "for cols in imm.nunique()[imm.nunique() < 20].index :\n",
        "  imm[cols] = imm[cols].astype('category')"
      ],
      "metadata": {
        "id": "UU9AQqrvZfDr"
      },
      "execution_count": 88,
      "outputs": []
    },
    {
      "cell_type": "code",
      "source": [
        "imm.info()"
      ],
      "metadata": {
        "colab": {
          "base_uri": "https://localhost:8080/"
        },
        "id": "ayBL_ZA3crVq",
        "outputId": "916fb075-befa-4904-831e-38889b4f19c7"
      },
      "execution_count": 89,
      "outputs": [
        {
          "output_type": "stream",
          "name": "stdout",
          "text": [
            "<class 'pandas.core.frame.DataFrame'>\n",
            "RangeIndex: 268850 entries, 0 to 268849\n",
            "Data columns (total 49 columns):\n",
            " #   Column                    Non-Null Count   Dtype   \n",
            "---  ------                    --------------   -----   \n",
            " 0   regio1                    268850 non-null  category\n",
            " 1   serviceCharge             261941 non-null  float64 \n",
            " 2   heatingType               223994 non-null  category\n",
            " 3   telekomTvOffer            236231 non-null  category\n",
            " 4   telekomHybridUploadSpeed  45020 non-null   category\n",
            " 5   newlyConst                268850 non-null  category\n",
            " 6   balcony                   268850 non-null  category\n",
            " 7   picturecount              268850 non-null  int64   \n",
            " 8   pricetrend                267018 non-null  float64 \n",
            " 9   telekomUploadSpeed        235492 non-null  category\n",
            " 10  totalRent                 228333 non-null  float64 \n",
            " 11  yearConstructed           211805 non-null  float64 \n",
            " 12  scoutId                   268850 non-null  int64   \n",
            " 13  noParkSpaces              93052 non-null   float64 \n",
            " 14  firingTypes               211886 non-null  object  \n",
            " 15  hasKitchen                268850 non-null  category\n",
            " 16  geo_bln                   268850 non-null  category\n",
            " 17  cellar                    268850 non-null  category\n",
            " 18  yearConstructedRange      211805 non-null  category\n",
            " 19  baseRent                  268850 non-null  float64 \n",
            " 20  houseNumber               197832 non-null  object  \n",
            " 21  livingSpace               268850 non-null  float64 \n",
            " 22  geo_krs                   268850 non-null  object  \n",
            " 23  condition                 200361 non-null  category\n",
            " 24  interiorQual              156185 non-null  category\n",
            " 25  petsAllowed               154277 non-null  category\n",
            " 26  street                    268850 non-null  object  \n",
            " 27  streetPlain               197837 non-null  object  \n",
            " 28  lift                      268850 non-null  category\n",
            " 29  baseRentRange             268850 non-null  category\n",
            " 30  typeOfFlat                232236 non-null  category\n",
            " 31  geo_plz                   268850 non-null  int64   \n",
            " 32  noRooms                   268850 non-null  float64 \n",
            " 33  thermalChar               162344 non-null  float64 \n",
            " 34  floor                     217541 non-null  float64 \n",
            " 35  numberOfFloors            171118 non-null  float64 \n",
            " 36  noRoomsRange              268850 non-null  category\n",
            " 37  garden                    268850 non-null  category\n",
            " 38  livingSpaceRange          268850 non-null  category\n",
            " 39  regio2                    268850 non-null  object  \n",
            " 40  regio3                    268850 non-null  object  \n",
            " 41  description               249103 non-null  object  \n",
            " 42  facilities                215926 non-null  object  \n",
            " 43  heatingCosts              85518 non-null   float64 \n",
            " 44  energyEfficiencyClass     77787 non-null   category\n",
            " 45  lastRefurbish             80711 non-null   float64 \n",
            " 46  electricityBasePrice      46846 non-null   category\n",
            " 47  electricityKwhPrice       46846 non-null   category\n",
            " 48  date                      268850 non-null  category\n",
            "dtypes: category(24), float64(13), int64(3), object(9)\n",
            "memory usage: 57.4+ MB\n"
          ]
        }
      ]
    },
    {
      "cell_type": "markdown",
      "source": [
        "## Handling Null Values\n",
        "Null values is an evitable aspect of any real dataset. So it would be better if we accept the existance of null values and do some work to handle them in the best way so that we can cover these caveats and also enrich our dataset with some proper data instead.\n",
        "\n",
        "Following you may find the same procedure in our dataset. First we need to have an aggregate report on how these null values are spreaded throughout the rows and columns. Then we need to choose the best approach based on the datatype to fill these values. "
      ],
      "metadata": {
        "id": "sPr2YKA1sYRW"
      }
    },
    {
      "cell_type": "code",
      "source": [
        "# how null data is spreaded throughout the dataframe\n",
        "\n",
        "nul_col_mask = imm.isnull().sum()/len(imm) > 0.5\n",
        "\n",
        "nul_col = imm.columns[nul_col_mask]\n",
        "\n",
        "imm.drop(columns=nul_col , inplace = True)"
      ],
      "metadata": {
        "id": "2A81US7LiNKB"
      },
      "execution_count": 90,
      "outputs": []
    },
    {
      "cell_type": "code",
      "source": [
        "imm.info()"
      ],
      "metadata": {
        "colab": {
          "base_uri": "https://localhost:8080/"
        },
        "id": "xxZQMVdEdat0",
        "outputId": "3703755b-53b0-40d0-f8d9-1f85bff1cbd6"
      },
      "execution_count": 91,
      "outputs": [
        {
          "output_type": "stream",
          "name": "stdout",
          "text": [
            "<class 'pandas.core.frame.DataFrame'>\n",
            "RangeIndex: 268850 entries, 0 to 268849\n",
            "Data columns (total 42 columns):\n",
            " #   Column                Non-Null Count   Dtype   \n",
            "---  ------                --------------   -----   \n",
            " 0   regio1                268850 non-null  category\n",
            " 1   serviceCharge         261941 non-null  float64 \n",
            " 2   heatingType           223994 non-null  category\n",
            " 3   telekomTvOffer        236231 non-null  category\n",
            " 4   newlyConst            268850 non-null  category\n",
            " 5   balcony               268850 non-null  category\n",
            " 6   picturecount          268850 non-null  int64   \n",
            " 7   pricetrend            267018 non-null  float64 \n",
            " 8   telekomUploadSpeed    235492 non-null  category\n",
            " 9   totalRent             228333 non-null  float64 \n",
            " 10  yearConstructed       211805 non-null  float64 \n",
            " 11  scoutId               268850 non-null  int64   \n",
            " 12  firingTypes           211886 non-null  object  \n",
            " 13  hasKitchen            268850 non-null  category\n",
            " 14  geo_bln               268850 non-null  category\n",
            " 15  cellar                268850 non-null  category\n",
            " 16  yearConstructedRange  211805 non-null  category\n",
            " 17  baseRent              268850 non-null  float64 \n",
            " 18  houseNumber           197832 non-null  object  \n",
            " 19  livingSpace           268850 non-null  float64 \n",
            " 20  geo_krs               268850 non-null  object  \n",
            " 21  condition             200361 non-null  category\n",
            " 22  interiorQual          156185 non-null  category\n",
            " 23  petsAllowed           154277 non-null  category\n",
            " 24  street                268850 non-null  object  \n",
            " 25  streetPlain           197837 non-null  object  \n",
            " 26  lift                  268850 non-null  category\n",
            " 27  baseRentRange         268850 non-null  category\n",
            " 28  typeOfFlat            232236 non-null  category\n",
            " 29  geo_plz               268850 non-null  int64   \n",
            " 30  noRooms               268850 non-null  float64 \n",
            " 31  thermalChar           162344 non-null  float64 \n",
            " 32  floor                 217541 non-null  float64 \n",
            " 33  numberOfFloors        171118 non-null  float64 \n",
            " 34  noRoomsRange          268850 non-null  category\n",
            " 35  garden                268850 non-null  category\n",
            " 36  livingSpaceRange      268850 non-null  category\n",
            " 37  regio2                268850 non-null  object  \n",
            " 38  regio3                268850 non-null  object  \n",
            " 39  description           249103 non-null  object  \n",
            " 40  facilities            215926 non-null  object  \n",
            " 41  date                  268850 non-null  category\n",
            "dtypes: category(20), float64(10), int64(3), object(9)\n",
            "memory usage: 50.3+ MB\n"
          ]
        }
      ]
    },
    {
      "cell_type": "code",
      "source": [
        "imm.dropna(axis=0, thresh=len(imm.columns)*0.8 , inplace = True)"
      ],
      "metadata": {
        "id": "kH7Vh_GFgAel"
      },
      "execution_count": 92,
      "outputs": []
    },
    {
      "cell_type": "code",
      "source": [
        "imm.isna().sum()"
      ],
      "metadata": {
        "colab": {
          "base_uri": "https://localhost:8080/"
        },
        "id": "DsM3rEWHhCmn",
        "outputId": "acc61dea-8e46-48a0-cf70-f976838a70a0"
      },
      "execution_count": 93,
      "outputs": [
        {
          "output_type": "execute_result",
          "data": {
            "text/plain": [
              "regio1                      0\n",
              "serviceCharge            3267\n",
              "heatingType             30656\n",
              "telekomTvOffer          26510\n",
              "newlyConst                  0\n",
              "balcony                     0\n",
              "picturecount                0\n",
              "pricetrend               1598\n",
              "telekomUploadSpeed      27145\n",
              "totalRent               33335\n",
              "yearConstructed         40679\n",
              "scoutId                     0\n",
              "firingTypes             40468\n",
              "hasKitchen                  0\n",
              "geo_bln                     0\n",
              "cellar                      0\n",
              "yearConstructedRange    40679\n",
              "baseRent                    0\n",
              "houseNumber             56636\n",
              "livingSpace                 0\n",
              "geo_krs                     0\n",
              "condition               51551\n",
              "interiorQual            93339\n",
              "petsAllowed             97291\n",
              "street                      0\n",
              "streetPlain             56633\n",
              "lift                        0\n",
              "baseRentRange               0\n",
              "typeOfFlat              29240\n",
              "geo_plz                     0\n",
              "noRooms                     0\n",
              "thermalChar             87916\n",
              "floor                   37821\n",
              "numberOfFloors          79037\n",
              "noRoomsRange                0\n",
              "garden                      0\n",
              "livingSpaceRange            0\n",
              "regio2                      0\n",
              "regio3                      0\n",
              "description             16439\n",
              "facilities              39237\n",
              "date                        0\n",
              "dtype: int64"
            ]
          },
          "metadata": {},
          "execution_count": 93
        }
      ]
    },
    {
      "cell_type": "markdown",
      "source": [
        "## Handling Outliers\n",
        "\n",
        "Outliers are records which have some anomalies in their values in comparison with some criteria, mostly from a statistical point of view.\n",
        "\n",
        "There are different methods on how to handle outliers and it's better to apply each method according to the nature of dataset."
      ],
      "metadata": {
        "id": "l_B7uonVZ1KG"
      }
    },
    {
      "cell_type": "code",
      "source": [
        "for cols in imm.columns:\n",
        "\n",
        "  if imm[cols].dtype == 'int64' or imm[cols].dtype == 'float64':\n",
        "      upper_range = imm[cols].mean() + 3 * imm[cols].std()\n",
        "      lower_range = imm[cols].mean() - 3 * imm[cols].std()\n",
        "      \n",
        "      indexs = imm[(imm[cols] > upper_range) | (imm[cols] < lower_range)].index\n",
        "      imm = imm.drop(indexs)"
      ],
      "metadata": {
        "id": "GjCj8jsijOgz"
      },
      "execution_count": 94,
      "outputs": []
    },
    {
      "cell_type": "code",
      "source": [
        "imm.shape"
      ],
      "metadata": {
        "colab": {
          "base_uri": "https://localhost:8080/"
        },
        "id": "pAtsfKyIkV8o",
        "outputId": "fccc2e96-f30a-44a5-ab7d-9ccdb536f4cb"
      },
      "execution_count": 95,
      "outputs": [
        {
          "output_type": "execute_result",
          "data": {
            "text/plain": [
              "(226151, 42)"
            ]
          },
          "metadata": {},
          "execution_count": 95
        }
      ]
    },
    {
      "cell_type": "markdown",
      "source": [
        "## Handling Duplicates\n",
        "\n",
        "Using the `scoutId` column, one is able to check if there are duplicated records in the dataset:\n",
        "\n",
        "we have found none based on `scoutId`"
      ],
      "metadata": {
        "id": "hMjPXgGxmAC9"
      }
    },
    {
      "cell_type": "code",
      "source": [
        "duplicated_rows = imm.duplicated(subset = 'scoutId',keep= 'first')\n",
        "duplicated_rows.sum()"
      ],
      "metadata": {
        "colab": {
          "base_uri": "https://localhost:8080/"
        },
        "id": "rkh0Sm4omP-8",
        "outputId": "48bdaa5e-00ac-4a3c-9992-ef5a5ab2aa72"
      },
      "execution_count": 96,
      "outputs": [
        {
          "output_type": "execute_result",
          "data": {
            "text/plain": [
              "0"
            ]
          },
          "metadata": {},
          "execution_count": 96
        }
      ]
    },
    {
      "cell_type": "code",
      "source": [
        "imm.info()"
      ],
      "metadata": {
        "colab": {
          "base_uri": "https://localhost:8080/"
        },
        "id": "HmfYmjTBqlxO",
        "outputId": "5a7284c5-02b1-4fee-85a3-83ac41555d41"
      },
      "execution_count": 99,
      "outputs": [
        {
          "output_type": "stream",
          "name": "stdout",
          "text": [
            "<class 'pandas.core.frame.DataFrame'>\n",
            "Int64Index: 226151 entries, 0 to 268849\n",
            "Data columns (total 42 columns):\n",
            " #   Column                Non-Null Count   Dtype   \n",
            "---  ------                --------------   -----   \n",
            " 0   regio1                226151 non-null  category\n",
            " 1   serviceCharge         223248 non-null  float64 \n",
            " 2   heatingType           197102 non-null  category\n",
            " 3   telekomTvOffer        201709 non-null  category\n",
            " 4   newlyConst            226151 non-null  category\n",
            " 5   balcony               226151 non-null  category\n",
            " 6   picturecount          226151 non-null  int64   \n",
            " 7   pricetrend            224739 non-null  float64 \n",
            " 8   telekomUploadSpeed    201147 non-null  category\n",
            " 9   totalRent             195412 non-null  float64 \n",
            " 10  yearConstructed       188302 non-null  float64 \n",
            " 11  scoutId               226151 non-null  int64   \n",
            " 12  firingTypes           188664 non-null  object  \n",
            " 13  hasKitchen            226151 non-null  category\n",
            " 14  geo_bln               226151 non-null  category\n",
            " 15  cellar                226151 non-null  category\n",
            " 16  yearConstructedRange  188302 non-null  category\n",
            " 17  baseRent              226151 non-null  float64 \n",
            " 18  houseNumber           174183 non-null  object  \n",
            " 19  livingSpace           226151 non-null  float64 \n",
            " 20  geo_krs               226151 non-null  object  \n",
            " 21  condition             177463 non-null  category\n",
            " 22  interiorQual          138053 non-null  category\n",
            " 23  petsAllowed           135623 non-null  category\n",
            " 24  street                226151 non-null  object  \n",
            " 25  streetPlain           174183 non-null  object  \n",
            " 26  lift                  226151 non-null  category\n",
            " 27  baseRentRange         226151 non-null  category\n",
            " 28  typeOfFlat            199142 non-null  category\n",
            " 29  geo_plz               226151 non-null  int64   \n",
            " 30  noRooms               226151 non-null  float64 \n",
            " 31  thermalChar           145939 non-null  float64 \n",
            " 32  floor                 190698 non-null  float64 \n",
            " 33  numberOfFloors        151336 non-null  float64 \n",
            " 34  noRoomsRange          226151 non-null  category\n",
            " 35  garden                226151 non-null  category\n",
            " 36  livingSpaceRange      226151 non-null  category\n",
            " 37  regio2                226151 non-null  object  \n",
            " 38  regio3                226151 non-null  object  \n",
            " 39  description           210484 non-null  object  \n",
            " 40  facilities            188868 non-null  object  \n",
            " 41  date                  226151 non-null  category\n",
            "dtypes: category(20), float64(10), int64(3), object(9)\n",
            "memory usage: 44.0+ MB\n"
          ]
        }
      ]
    },
    {
      "cell_type": "markdown",
      "source": [
        "# 2. Aggregate information \n",
        "Aggregate data refers to numerical or non-numerical information that is collected from multiple sources and/or on multiple measures, variables, or individuals and compiled into data summaries or summary reports, typically for the purposes of public reporting or statistical analysis."
      ],
      "metadata": {
        "id": "SLArWeVNmjbb"
      }
    },
    {
      "cell_type": "code",
      "source": [
        "import seaborn as sns\n",
        "import matplotlib.pyplot as plt\n",
        "sns.set(rc={'figure.figsize':(11.7,8.27)})"
      ],
      "metadata": {
        "id": "W2oq4uIfvrmm"
      },
      "execution_count": 97,
      "outputs": []
    },
    {
      "cell_type": "markdown",
      "source": [
        "## Total number of Ads"
      ],
      "metadata": {
        "id": "Wzi1R0eIqOwD"
      }
    },
    {
      "cell_type": "code",
      "source": [
        "len(imm)"
      ],
      "metadata": {
        "colab": {
          "base_uri": "https://localhost:8080/"
        },
        "id": "J5ThRReup3Pr",
        "outputId": "1f0fc22f-de73-4c95-b248-361f23d92936"
      },
      "execution_count": 98,
      "outputs": [
        {
          "output_type": "execute_result",
          "data": {
            "text/plain": [
              "226151"
            ]
          },
          "metadata": {},
          "execution_count": 98
        }
      ]
    }
  ]
}