{
  "nbformat": 4,
  "nbformat_minor": 0,
  "metadata": {
    "colab": {
      "name": "Untitled8.ipynb",
      "provenance": [],
      "collapsed_sections": []
    },
    "kernelspec": {
      "name": "python3",
      "display_name": "Python 3"
    },
    "language_info": {
      "name": "python"
    }
  },
  "cells": [
    {
      "cell_type": "code",
      "execution_count": 4,
      "metadata": {
        "colab": {
          "base_uri": "https://localhost:8080/"
        },
        "id": "DbpBg4t1WerM",
        "outputId": "bb3700b3-e9ed-4588-d6d3-fbf2863b89ae"
      },
      "outputs": [
        {
          "output_type": "stream",
          "name": "stdout",
          "text": [
            "Requirement already satisfied: kaggle in /usr/local/lib/python3.7/dist-packages (1.5.12)\n",
            "Requirement already satisfied: urllib3 in /usr/local/lib/python3.7/dist-packages (from kaggle) (1.24.3)\n",
            "Requirement already satisfied: tqdm in /usr/local/lib/python3.7/dist-packages (from kaggle) (4.63.0)\n",
            "Requirement already satisfied: python-slugify in /usr/local/lib/python3.7/dist-packages (from kaggle) (6.1.1)\n",
            "Requirement already satisfied: requests in /usr/local/lib/python3.7/dist-packages (from kaggle) (2.23.0)\n",
            "Requirement already satisfied: python-dateutil in /usr/local/lib/python3.7/dist-packages (from kaggle) (2.8.2)\n",
            "Requirement already satisfied: six>=1.10 in /usr/local/lib/python3.7/dist-packages (from kaggle) (1.15.0)\n",
            "Requirement already satisfied: certifi in /usr/local/lib/python3.7/dist-packages (from kaggle) (2021.10.8)\n",
            "Requirement already satisfied: text-unidecode>=1.3 in /usr/local/lib/python3.7/dist-packages (from python-slugify->kaggle) (1.3)\n",
            "Requirement already satisfied: chardet<4,>=3.0.2 in /usr/local/lib/python3.7/dist-packages (from requests->kaggle) (3.0.4)\n",
            "Requirement already satisfied: idna<3,>=2.5 in /usr/local/lib/python3.7/dist-packages (from requests->kaggle) (2.10)\n"
          ]
        }
      ],
      "source": [
        "! pip install kaggle\n"
      ]
    },
    {
      "cell_type": "code",
      "source": [
        "! mkdir ~/.kaggle"
      ],
      "metadata": {
        "colab": {
          "base_uri": "https://localhost:8080/"
        },
        "id": "htUyORTVYNMJ",
        "outputId": "44178a8d-566c-4720-f1c0-302a2aab47b7"
      },
      "execution_count": 5,
      "outputs": [
        {
          "output_type": "stream",
          "name": "stdout",
          "text": [
            "mkdir: cannot create directory ‘/root/.kaggle’: File exists\n"
          ]
        }
      ]
    },
    {
      "cell_type": "code",
      "source": [
        "! cp kaggle.json ~/.kaggle/"
      ],
      "metadata": {
        "id": "REygz8kVYReP"
      },
      "execution_count": 6,
      "outputs": []
    },
    {
      "cell_type": "code",
      "source": [
        "! chmod 600 ~/.kaggle/kaggle.json"
      ],
      "metadata": {
        "id": "Zt12am9nYV3F"
      },
      "execution_count": 7,
      "outputs": []
    },
    {
      "cell_type": "code",
      "source": [
        "! kaggle datasets download corrieaar/apartment-rental-offers-in-germany"
      ],
      "metadata": {
        "colab": {
          "base_uri": "https://localhost:8080/"
        },
        "id": "aVh8s_7aYegh",
        "outputId": "c722a22b-1ba7-40bc-c169-2f06eb531ca3"
      },
      "execution_count": 8,
      "outputs": [
        {
          "output_type": "stream",
          "name": "stdout",
          "text": [
            "Downloading apartment-rental-offers-in-germany.zip to /content\n",
            " 96% 89.0M/93.0M [00:03<00:00, 35.3MB/s]\n",
            "100% 93.0M/93.0M [00:03<00:00, 27.4MB/s]\n"
          ]
        }
      ]
    },
    {
      "cell_type": "code",
      "source": [
        "! unzip apartment-rental-offers-in-germany.zip"
      ],
      "metadata": {
        "colab": {
          "base_uri": "https://localhost:8080/"
        },
        "id": "A-jB8uvlYs5M",
        "outputId": "e85ee1a6-c4ac-4dfc-982e-1e4cc2a311e0"
      },
      "execution_count": 9,
      "outputs": [
        {
          "output_type": "stream",
          "name": "stdout",
          "text": [
            "Archive:  apartment-rental-offers-in-germany.zip\n",
            "  inflating: immo_data.csv           \n"
          ]
        }
      ]
    },
    {
      "cell_type": "markdown",
      "source": [
        "ایمپورت پکیج های مورد نیاز و خواندن دیتاست"
      ],
      "metadata": {
        "id": "sqOAHom9Zwhu"
      }
    },
    {
      "cell_type": "code",
      "source": [
        "import numpy as np\n",
        "import pandas as pd\n",
        "import matplotlib.pyplot as plt\n",
        "import seaborn as sns"
      ],
      "metadata": {
        "id": "79kgfDYhY90h"
      },
      "execution_count": 10,
      "outputs": []
    },
    {
      "cell_type": "code",
      "source": [
        "realstate = pd.read_csv(\"immo_data.csv\")\n",
        "realstate"
      ],
      "metadata": {
        "colab": {
          "base_uri": "https://localhost:8080/",
          "height": 834
        },
        "id": "PWKKpPmNZTDu",
        "outputId": "4464b240-ad7f-4999-f495-f2a134333573"
      },
      "execution_count": 13,
      "outputs": [
        {
          "output_type": "execute_result",
          "data": {
            "text/plain": [
              "                     regio1  serviceCharge                     heatingType  \\\n",
              "0       Nordrhein_Westfalen         245.00                 central_heating   \n",
              "1           Rheinland_Pfalz         134.00  self_contained_central_heating   \n",
              "2                   Sachsen         255.00                   floor_heating   \n",
              "3                   Sachsen          58.15                district_heating   \n",
              "4                    Bremen         138.00  self_contained_central_heating   \n",
              "...                     ...            ...                             ...   \n",
              "268845               Bayern          90.00                       heat_pump   \n",
              "268846               Hessen         220.00                     gas_heating   \n",
              "268847               Hessen         220.00                 central_heating   \n",
              "268848  Nordrhein_Westfalen         175.00                       heat_pump   \n",
              "268849               Hessen         315.00                 central_heating   \n",
              "\n",
              "       telekomTvOffer  telekomHybridUploadSpeed  newlyConst  balcony  \\\n",
              "0       ONE_YEAR_FREE                       NaN       False    False   \n",
              "1       ONE_YEAR_FREE                       NaN       False     True   \n",
              "2       ONE_YEAR_FREE                      10.0        True     True   \n",
              "3       ONE_YEAR_FREE                       NaN       False     True   \n",
              "4                 NaN                       NaN       False     True   \n",
              "...               ...                       ...         ...      ...   \n",
              "268845  ONE_YEAR_FREE                       NaN       False     True   \n",
              "268846            NaN                       NaN       False     True   \n",
              "268847  ONE_YEAR_FREE                       NaN       False     True   \n",
              "268848            NaN                       NaN        True     True   \n",
              "268849            NaN                       NaN       False     True   \n",
              "\n",
              "        picturecount  pricetrend  telekomUploadSpeed  ...  \\\n",
              "0                  6        4.62                10.0  ...   \n",
              "1                  8        3.47                10.0  ...   \n",
              "2                  8        2.72                 2.4  ...   \n",
              "3                  9        1.53                40.0  ...   \n",
              "4                 19        2.46                 NaN  ...   \n",
              "...              ...         ...                 ...  ...   \n",
              "268845             0        2.74                10.0  ...   \n",
              "268846            12        6.49                 NaN  ...   \n",
              "268847            21        2.90                40.0  ...   \n",
              "268848            16        4.39                 NaN  ...   \n",
              "268849             9        5.00                 NaN  ...   \n",
              "\n",
              "                         regio2                      regio3  \\\n",
              "0                      Dortmund                     Schüren   \n",
              "1             Rhein_Pfalz_Kreis              Böhl_Iggelheim   \n",
              "2                       Dresden  Äußere_Neustadt_Antonstadt   \n",
              "3           Mittelsachsen_Kreis                    Freiberg   \n",
              "4                        Bremen           Neu_Schwachhausen   \n",
              "...                         ...                         ...   \n",
              "268845  Weilheim_Schongau_Kreis                    Eberfing   \n",
              "268846         Bergstraße_Kreis                   Viernheim   \n",
              "268847   Limburg_Weilburg_Kreis         Limburg_an_der_Lahn   \n",
              "268848                     Köln                   Dellbrück   \n",
              "268849        Frankfurt_am_Main                  Sossenheim   \n",
              "\n",
              "                                              description  \\\n",
              "0       Die ebenerdig zu erreichende Erdgeschosswohnun...   \n",
              "1       Alles neu macht der Mai – so kann es auch für ...   \n",
              "2       Der Neubau entsteht im Herzen der Dresdner Neu...   \n",
              "3       Abseits von Lärm und Abgasen in Ihre neue Wohn...   \n",
              "4       Es handelt sich hier um ein saniertes Mehrfami...   \n",
              "...                                                   ...   \n",
              "268845  Diese schöne, neuwertige Wohnung im Dachgescho...   \n",
              "268846  Hier wird eine Wohnung im 2 Familienhaus angeb...   \n",
              "268847  gemütliche 4-Zimmer-Wohnung im Obergeschoss ei...   \n",
              "268848  Neubau Erstbezug, gehobener Standard, alle Ein...   \n",
              "268849  Schöne, helle, gut geschnittene und teilmöblie...   \n",
              "\n",
              "                                               facilities heatingCosts  \\\n",
              "0       Die Wohnung ist mit Laminat ausgelegt. Das Bad...          NaN   \n",
              "1                                                     NaN          NaN   \n",
              "2       * 9 m² Balkon\\n* Bad mit bodengleicher Dusche,...          NaN   \n",
              "3                                                     NaN        87.23   \n",
              "4       Diese Wohnung wurde neu saniert und ist wie fo...          NaN   \n",
              "...                                                   ...          ...   \n",
              "268845         Fliesen und Parkett. Sichtbarer Dachstuhl.          NaN   \n",
              "268846  Parkett, Kamin, Badewanne&Dusche\\nGroßer Balko...          NaN   \n",
              "268847  Böden: Wohn-/Schlafbereich = Laminat, Küche + ...          NaN   \n",
              "268848  Wände:\\nMaler­vlies, weiß gestrichen alter­nat...        40.00   \n",
              "268849  Balkon, Keller, Fahrstuhl, Vollbad, Einbauküch...          NaN   \n",
              "\n",
              "        energyEfficiencyClass lastRefurbish  electricityBasePrice  \\\n",
              "0                         NaN           NaN                   NaN   \n",
              "1                         NaN        2019.0                   NaN   \n",
              "2                         NaN           NaN                   NaN   \n",
              "3                         NaN           NaN                   NaN   \n",
              "4                         NaN           NaN                   NaN   \n",
              "...                       ...           ...                   ...   \n",
              "268845                    NaN           NaN                   NaN   \n",
              "268846                    NaN        2015.0                   NaN   \n",
              "268847                    NaN        2019.0                   NaN   \n",
              "268848         NO_INFORMATION        2019.0                   NaN   \n",
              "268849                    NaN           NaN                   NaN   \n",
              "\n",
              "        electricityKwhPrice   date  \n",
              "0                       NaN  May19  \n",
              "1                       NaN  May19  \n",
              "2                       NaN  Oct19  \n",
              "3                       NaN  May19  \n",
              "4                       NaN  Feb20  \n",
              "...                     ...    ...  \n",
              "268845                  NaN  Feb20  \n",
              "268846                  NaN  May19  \n",
              "268847                  NaN  Feb20  \n",
              "268848                  NaN  May19  \n",
              "268849                  NaN  Feb20  \n",
              "\n",
              "[268850 rows x 49 columns]"
            ],
            "text/html": [
              "\n",
              "  <div id=\"df-d321fc73-20bf-4afc-a655-f28d8cc8c9d0\">\n",
              "    <div class=\"colab-df-container\">\n",
              "      <div>\n",
              "<style scoped>\n",
              "    .dataframe tbody tr th:only-of-type {\n",
              "        vertical-align: middle;\n",
              "    }\n",
              "\n",
              "    .dataframe tbody tr th {\n",
              "        vertical-align: top;\n",
              "    }\n",
              "\n",
              "    .dataframe thead th {\n",
              "        text-align: right;\n",
              "    }\n",
              "</style>\n",
              "<table border=\"1\" class=\"dataframe\">\n",
              "  <thead>\n",
              "    <tr style=\"text-align: right;\">\n",
              "      <th></th>\n",
              "      <th>regio1</th>\n",
              "      <th>serviceCharge</th>\n",
              "      <th>heatingType</th>\n",
              "      <th>telekomTvOffer</th>\n",
              "      <th>telekomHybridUploadSpeed</th>\n",
              "      <th>newlyConst</th>\n",
              "      <th>balcony</th>\n",
              "      <th>picturecount</th>\n",
              "      <th>pricetrend</th>\n",
              "      <th>telekomUploadSpeed</th>\n",
              "      <th>...</th>\n",
              "      <th>regio2</th>\n",
              "      <th>regio3</th>\n",
              "      <th>description</th>\n",
              "      <th>facilities</th>\n",
              "      <th>heatingCosts</th>\n",
              "      <th>energyEfficiencyClass</th>\n",
              "      <th>lastRefurbish</th>\n",
              "      <th>electricityBasePrice</th>\n",
              "      <th>electricityKwhPrice</th>\n",
              "      <th>date</th>\n",
              "    </tr>\n",
              "  </thead>\n",
              "  <tbody>\n",
              "    <tr>\n",
              "      <th>0</th>\n",
              "      <td>Nordrhein_Westfalen</td>\n",
              "      <td>245.00</td>\n",
              "      <td>central_heating</td>\n",
              "      <td>ONE_YEAR_FREE</td>\n",
              "      <td>NaN</td>\n",
              "      <td>False</td>\n",
              "      <td>False</td>\n",
              "      <td>6</td>\n",
              "      <td>4.62</td>\n",
              "      <td>10.0</td>\n",
              "      <td>...</td>\n",
              "      <td>Dortmund</td>\n",
              "      <td>Schüren</td>\n",
              "      <td>Die ebenerdig zu erreichende Erdgeschosswohnun...</td>\n",
              "      <td>Die Wohnung ist mit Laminat ausgelegt. Das Bad...</td>\n",
              "      <td>NaN</td>\n",
              "      <td>NaN</td>\n",
              "      <td>NaN</td>\n",
              "      <td>NaN</td>\n",
              "      <td>NaN</td>\n",
              "      <td>May19</td>\n",
              "    </tr>\n",
              "    <tr>\n",
              "      <th>1</th>\n",
              "      <td>Rheinland_Pfalz</td>\n",
              "      <td>134.00</td>\n",
              "      <td>self_contained_central_heating</td>\n",
              "      <td>ONE_YEAR_FREE</td>\n",
              "      <td>NaN</td>\n",
              "      <td>False</td>\n",
              "      <td>True</td>\n",
              "      <td>8</td>\n",
              "      <td>3.47</td>\n",
              "      <td>10.0</td>\n",
              "      <td>...</td>\n",
              "      <td>Rhein_Pfalz_Kreis</td>\n",
              "      <td>Böhl_Iggelheim</td>\n",
              "      <td>Alles neu macht der Mai – so kann es auch für ...</td>\n",
              "      <td>NaN</td>\n",
              "      <td>NaN</td>\n",
              "      <td>NaN</td>\n",
              "      <td>2019.0</td>\n",
              "      <td>NaN</td>\n",
              "      <td>NaN</td>\n",
              "      <td>May19</td>\n",
              "    </tr>\n",
              "    <tr>\n",
              "      <th>2</th>\n",
              "      <td>Sachsen</td>\n",
              "      <td>255.00</td>\n",
              "      <td>floor_heating</td>\n",
              "      <td>ONE_YEAR_FREE</td>\n",
              "      <td>10.0</td>\n",
              "      <td>True</td>\n",
              "      <td>True</td>\n",
              "      <td>8</td>\n",
              "      <td>2.72</td>\n",
              "      <td>2.4</td>\n",
              "      <td>...</td>\n",
              "      <td>Dresden</td>\n",
              "      <td>Äußere_Neustadt_Antonstadt</td>\n",
              "      <td>Der Neubau entsteht im Herzen der Dresdner Neu...</td>\n",
              "      <td>* 9 m² Balkon\\n* Bad mit bodengleicher Dusche,...</td>\n",
              "      <td>NaN</td>\n",
              "      <td>NaN</td>\n",
              "      <td>NaN</td>\n",
              "      <td>NaN</td>\n",
              "      <td>NaN</td>\n",
              "      <td>Oct19</td>\n",
              "    </tr>\n",
              "    <tr>\n",
              "      <th>3</th>\n",
              "      <td>Sachsen</td>\n",
              "      <td>58.15</td>\n",
              "      <td>district_heating</td>\n",
              "      <td>ONE_YEAR_FREE</td>\n",
              "      <td>NaN</td>\n",
              "      <td>False</td>\n",
              "      <td>True</td>\n",
              "      <td>9</td>\n",
              "      <td>1.53</td>\n",
              "      <td>40.0</td>\n",
              "      <td>...</td>\n",
              "      <td>Mittelsachsen_Kreis</td>\n",
              "      <td>Freiberg</td>\n",
              "      <td>Abseits von Lärm und Abgasen in Ihre neue Wohn...</td>\n",
              "      <td>NaN</td>\n",
              "      <td>87.23</td>\n",
              "      <td>NaN</td>\n",
              "      <td>NaN</td>\n",
              "      <td>NaN</td>\n",
              "      <td>NaN</td>\n",
              "      <td>May19</td>\n",
              "    </tr>\n",
              "    <tr>\n",
              "      <th>4</th>\n",
              "      <td>Bremen</td>\n",
              "      <td>138.00</td>\n",
              "      <td>self_contained_central_heating</td>\n",
              "      <td>NaN</td>\n",
              "      <td>NaN</td>\n",
              "      <td>False</td>\n",
              "      <td>True</td>\n",
              "      <td>19</td>\n",
              "      <td>2.46</td>\n",
              "      <td>NaN</td>\n",
              "      <td>...</td>\n",
              "      <td>Bremen</td>\n",
              "      <td>Neu_Schwachhausen</td>\n",
              "      <td>Es handelt sich hier um ein saniertes Mehrfami...</td>\n",
              "      <td>Diese Wohnung wurde neu saniert und ist wie fo...</td>\n",
              "      <td>NaN</td>\n",
              "      <td>NaN</td>\n",
              "      <td>NaN</td>\n",
              "      <td>NaN</td>\n",
              "      <td>NaN</td>\n",
              "      <td>Feb20</td>\n",
              "    </tr>\n",
              "    <tr>\n",
              "      <th>...</th>\n",
              "      <td>...</td>\n",
              "      <td>...</td>\n",
              "      <td>...</td>\n",
              "      <td>...</td>\n",
              "      <td>...</td>\n",
              "      <td>...</td>\n",
              "      <td>...</td>\n",
              "      <td>...</td>\n",
              "      <td>...</td>\n",
              "      <td>...</td>\n",
              "      <td>...</td>\n",
              "      <td>...</td>\n",
              "      <td>...</td>\n",
              "      <td>...</td>\n",
              "      <td>...</td>\n",
              "      <td>...</td>\n",
              "      <td>...</td>\n",
              "      <td>...</td>\n",
              "      <td>...</td>\n",
              "      <td>...</td>\n",
              "      <td>...</td>\n",
              "    </tr>\n",
              "    <tr>\n",
              "      <th>268845</th>\n",
              "      <td>Bayern</td>\n",
              "      <td>90.00</td>\n",
              "      <td>heat_pump</td>\n",
              "      <td>ONE_YEAR_FREE</td>\n",
              "      <td>NaN</td>\n",
              "      <td>False</td>\n",
              "      <td>True</td>\n",
              "      <td>0</td>\n",
              "      <td>2.74</td>\n",
              "      <td>10.0</td>\n",
              "      <td>...</td>\n",
              "      <td>Weilheim_Schongau_Kreis</td>\n",
              "      <td>Eberfing</td>\n",
              "      <td>Diese schöne, neuwertige Wohnung im Dachgescho...</td>\n",
              "      <td>Fliesen und Parkett. Sichtbarer Dachstuhl.</td>\n",
              "      <td>NaN</td>\n",
              "      <td>NaN</td>\n",
              "      <td>NaN</td>\n",
              "      <td>NaN</td>\n",
              "      <td>NaN</td>\n",
              "      <td>Feb20</td>\n",
              "    </tr>\n",
              "    <tr>\n",
              "      <th>268846</th>\n",
              "      <td>Hessen</td>\n",
              "      <td>220.00</td>\n",
              "      <td>gas_heating</td>\n",
              "      <td>NaN</td>\n",
              "      <td>NaN</td>\n",
              "      <td>False</td>\n",
              "      <td>True</td>\n",
              "      <td>12</td>\n",
              "      <td>6.49</td>\n",
              "      <td>NaN</td>\n",
              "      <td>...</td>\n",
              "      <td>Bergstraße_Kreis</td>\n",
              "      <td>Viernheim</td>\n",
              "      <td>Hier wird eine Wohnung im 2 Familienhaus angeb...</td>\n",
              "      <td>Parkett, Kamin, Badewanne&amp;Dusche\\nGroßer Balko...</td>\n",
              "      <td>NaN</td>\n",
              "      <td>NaN</td>\n",
              "      <td>2015.0</td>\n",
              "      <td>NaN</td>\n",
              "      <td>NaN</td>\n",
              "      <td>May19</td>\n",
              "    </tr>\n",
              "    <tr>\n",
              "      <th>268847</th>\n",
              "      <td>Hessen</td>\n",
              "      <td>220.00</td>\n",
              "      <td>central_heating</td>\n",
              "      <td>ONE_YEAR_FREE</td>\n",
              "      <td>NaN</td>\n",
              "      <td>False</td>\n",
              "      <td>True</td>\n",
              "      <td>21</td>\n",
              "      <td>2.90</td>\n",
              "      <td>40.0</td>\n",
              "      <td>...</td>\n",
              "      <td>Limburg_Weilburg_Kreis</td>\n",
              "      <td>Limburg_an_der_Lahn</td>\n",
              "      <td>gemütliche 4-Zimmer-Wohnung im Obergeschoss ei...</td>\n",
              "      <td>Böden: Wohn-/Schlafbereich = Laminat, Küche + ...</td>\n",
              "      <td>NaN</td>\n",
              "      <td>NaN</td>\n",
              "      <td>2019.0</td>\n",
              "      <td>NaN</td>\n",
              "      <td>NaN</td>\n",
              "      <td>Feb20</td>\n",
              "    </tr>\n",
              "    <tr>\n",
              "      <th>268848</th>\n",
              "      <td>Nordrhein_Westfalen</td>\n",
              "      <td>175.00</td>\n",
              "      <td>heat_pump</td>\n",
              "      <td>NaN</td>\n",
              "      <td>NaN</td>\n",
              "      <td>True</td>\n",
              "      <td>True</td>\n",
              "      <td>16</td>\n",
              "      <td>4.39</td>\n",
              "      <td>NaN</td>\n",
              "      <td>...</td>\n",
              "      <td>Köln</td>\n",
              "      <td>Dellbrück</td>\n",
              "      <td>Neubau Erstbezug, gehobener Standard, alle Ein...</td>\n",
              "      <td>Wände:\\nMaler­vlies, weiß gestrichen alter­nat...</td>\n",
              "      <td>40.00</td>\n",
              "      <td>NO_INFORMATION</td>\n",
              "      <td>2019.0</td>\n",
              "      <td>NaN</td>\n",
              "      <td>NaN</td>\n",
              "      <td>May19</td>\n",
              "    </tr>\n",
              "    <tr>\n",
              "      <th>268849</th>\n",
              "      <td>Hessen</td>\n",
              "      <td>315.00</td>\n",
              "      <td>central_heating</td>\n",
              "      <td>NaN</td>\n",
              "      <td>NaN</td>\n",
              "      <td>False</td>\n",
              "      <td>True</td>\n",
              "      <td>9</td>\n",
              "      <td>5.00</td>\n",
              "      <td>NaN</td>\n",
              "      <td>...</td>\n",
              "      <td>Frankfurt_am_Main</td>\n",
              "      <td>Sossenheim</td>\n",
              "      <td>Schöne, helle, gut geschnittene und teilmöblie...</td>\n",
              "      <td>Balkon, Keller, Fahrstuhl, Vollbad, Einbauküch...</td>\n",
              "      <td>NaN</td>\n",
              "      <td>NaN</td>\n",
              "      <td>NaN</td>\n",
              "      <td>NaN</td>\n",
              "      <td>NaN</td>\n",
              "      <td>Feb20</td>\n",
              "    </tr>\n",
              "  </tbody>\n",
              "</table>\n",
              "<p>268850 rows × 49 columns</p>\n",
              "</div>\n",
              "      <button class=\"colab-df-convert\" onclick=\"convertToInteractive('df-d321fc73-20bf-4afc-a655-f28d8cc8c9d0')\"\n",
              "              title=\"Convert this dataframe to an interactive table.\"\n",
              "              style=\"display:none;\">\n",
              "        \n",
              "  <svg xmlns=\"http://www.w3.org/2000/svg\" height=\"24px\"viewBox=\"0 0 24 24\"\n",
              "       width=\"24px\">\n",
              "    <path d=\"M0 0h24v24H0V0z\" fill=\"none\"/>\n",
              "    <path d=\"M18.56 5.44l.94 2.06.94-2.06 2.06-.94-2.06-.94-.94-2.06-.94 2.06-2.06.94zm-11 1L8.5 8.5l.94-2.06 2.06-.94-2.06-.94L8.5 2.5l-.94 2.06-2.06.94zm10 10l.94 2.06.94-2.06 2.06-.94-2.06-.94-.94-2.06-.94 2.06-2.06.94z\"/><path d=\"M17.41 7.96l-1.37-1.37c-.4-.4-.92-.59-1.43-.59-.52 0-1.04.2-1.43.59L10.3 9.45l-7.72 7.72c-.78.78-.78 2.05 0 2.83L4 21.41c.39.39.9.59 1.41.59.51 0 1.02-.2 1.41-.59l7.78-7.78 2.81-2.81c.8-.78.8-2.07 0-2.86zM5.41 20L4 18.59l7.72-7.72 1.47 1.35L5.41 20z\"/>\n",
              "  </svg>\n",
              "      </button>\n",
              "      \n",
              "  <style>\n",
              "    .colab-df-container {\n",
              "      display:flex;\n",
              "      flex-wrap:wrap;\n",
              "      gap: 12px;\n",
              "    }\n",
              "\n",
              "    .colab-df-convert {\n",
              "      background-color: #E8F0FE;\n",
              "      border: none;\n",
              "      border-radius: 50%;\n",
              "      cursor: pointer;\n",
              "      display: none;\n",
              "      fill: #1967D2;\n",
              "      height: 32px;\n",
              "      padding: 0 0 0 0;\n",
              "      width: 32px;\n",
              "    }\n",
              "\n",
              "    .colab-df-convert:hover {\n",
              "      background-color: #E2EBFA;\n",
              "      box-shadow: 0px 1px 2px rgba(60, 64, 67, 0.3), 0px 1px 3px 1px rgba(60, 64, 67, 0.15);\n",
              "      fill: #174EA6;\n",
              "    }\n",
              "\n",
              "    [theme=dark] .colab-df-convert {\n",
              "      background-color: #3B4455;\n",
              "      fill: #D2E3FC;\n",
              "    }\n",
              "\n",
              "    [theme=dark] .colab-df-convert:hover {\n",
              "      background-color: #434B5C;\n",
              "      box-shadow: 0px 1px 3px 1px rgba(0, 0, 0, 0.15);\n",
              "      filter: drop-shadow(0px 1px 2px rgba(0, 0, 0, 0.3));\n",
              "      fill: #FFFFFF;\n",
              "    }\n",
              "  </style>\n",
              "\n",
              "      <script>\n",
              "        const buttonEl =\n",
              "          document.querySelector('#df-d321fc73-20bf-4afc-a655-f28d8cc8c9d0 button.colab-df-convert');\n",
              "        buttonEl.style.display =\n",
              "          google.colab.kernel.accessAllowed ? 'block' : 'none';\n",
              "\n",
              "        async function convertToInteractive(key) {\n",
              "          const element = document.querySelector('#df-d321fc73-20bf-4afc-a655-f28d8cc8c9d0');\n",
              "          const dataTable =\n",
              "            await google.colab.kernel.invokeFunction('convertToInteractive',\n",
              "                                                     [key], {});\n",
              "          if (!dataTable) return;\n",
              "\n",
              "          const docLinkHtml = 'Like what you see? Visit the ' +\n",
              "            '<a target=\"_blank\" href=https://colab.research.google.com/notebooks/data_table.ipynb>data table notebook</a>'\n",
              "            + ' to learn more about interactive tables.';\n",
              "          element.innerHTML = '';\n",
              "          dataTable['output_type'] = 'display_data';\n",
              "          await google.colab.output.renderOutput(dataTable, element);\n",
              "          const docLink = document.createElement('div');\n",
              "          docLink.innerHTML = docLinkHtml;\n",
              "          element.appendChild(docLink);\n",
              "        }\n",
              "      </script>\n",
              "    </div>\n",
              "  </div>\n",
              "  "
            ]
          },
          "metadata": {},
          "execution_count": 13
        }
      ]
    },
    {
      "cell_type": "markdown",
      "source": [
        "همانطور که مشاهده می کنیم دیتاست ما در کل دارای ۲۶۸۸۵۰ سطر و ۴۹ ستون می باشد."
      ],
      "metadata": {
        "id": "1aJSdxofaZ5B"
      }
    },
    {
      "cell_type": "code",
      "source": [
        "realstate.info()"
      ],
      "metadata": {
        "colab": {
          "base_uri": "https://localhost:8080/"
        },
        "id": "UOBCiDzCZhrY",
        "outputId": "1765065d-2682-4333-800b-40a7598ccd51"
      },
      "execution_count": 14,
      "outputs": [
        {
          "output_type": "stream",
          "name": "stdout",
          "text": [
            "<class 'pandas.core.frame.DataFrame'>\n",
            "RangeIndex: 268850 entries, 0 to 268849\n",
            "Data columns (total 49 columns):\n",
            " #   Column                    Non-Null Count   Dtype  \n",
            "---  ------                    --------------   -----  \n",
            " 0   regio1                    268850 non-null  object \n",
            " 1   serviceCharge             261941 non-null  float64\n",
            " 2   heatingType               223994 non-null  object \n",
            " 3   telekomTvOffer            236231 non-null  object \n",
            " 4   telekomHybridUploadSpeed  45020 non-null   float64\n",
            " 5   newlyConst                268850 non-null  bool   \n",
            " 6   balcony                   268850 non-null  bool   \n",
            " 7   picturecount              268850 non-null  int64  \n",
            " 8   pricetrend                267018 non-null  float64\n",
            " 9   telekomUploadSpeed        235492 non-null  float64\n",
            " 10  totalRent                 228333 non-null  float64\n",
            " 11  yearConstructed           211805 non-null  float64\n",
            " 12  scoutId                   268850 non-null  int64  \n",
            " 13  noParkSpaces              93052 non-null   float64\n",
            " 14  firingTypes               211886 non-null  object \n",
            " 15  hasKitchen                268850 non-null  bool   \n",
            " 16  geo_bln                   268850 non-null  object \n",
            " 17  cellar                    268850 non-null  bool   \n",
            " 18  yearConstructedRange      211805 non-null  float64\n",
            " 19  baseRent                  268850 non-null  float64\n",
            " 20  houseNumber               197832 non-null  object \n",
            " 21  livingSpace               268850 non-null  float64\n",
            " 22  geo_krs                   268850 non-null  object \n",
            " 23  condition                 200361 non-null  object \n",
            " 24  interiorQual              156185 non-null  object \n",
            " 25  petsAllowed               154277 non-null  object \n",
            " 26  street                    268850 non-null  object \n",
            " 27  streetPlain               197837 non-null  object \n",
            " 28  lift                      268850 non-null  bool   \n",
            " 29  baseRentRange             268850 non-null  int64  \n",
            " 30  typeOfFlat                232236 non-null  object \n",
            " 31  geo_plz                   268850 non-null  int64  \n",
            " 32  noRooms                   268850 non-null  float64\n",
            " 33  thermalChar               162344 non-null  float64\n",
            " 34  floor                     217541 non-null  float64\n",
            " 35  numberOfFloors            171118 non-null  float64\n",
            " 36  noRoomsRange              268850 non-null  int64  \n",
            " 37  garden                    268850 non-null  bool   \n",
            " 38  livingSpaceRange          268850 non-null  int64  \n",
            " 39  regio2                    268850 non-null  object \n",
            " 40  regio3                    268850 non-null  object \n",
            " 41  description               249103 non-null  object \n",
            " 42  facilities                215926 non-null  object \n",
            " 43  heatingCosts              85518 non-null   float64\n",
            " 44  energyEfficiencyClass     77787 non-null   object \n",
            " 45  lastRefurbish             80711 non-null   float64\n",
            " 46  electricityBasePrice      46846 non-null   float64\n",
            " 47  electricityKwhPrice       46846 non-null   float64\n",
            " 48  date                      268850 non-null  object \n",
            "dtypes: bool(6), float64(18), int64(6), object(19)\n",
            "memory usage: 89.7+ MB\n"
          ]
        }
      ]
    },
    {
      "cell_type": "markdown",
      "source": [
        "می توانیم عناوین جهل و نه ستون خود را و همینطور نوع داده متناظر هر ستون را دربالا ببینیم\n",
        "دارای ۲۴ ستون کمی و ۲۵ ستون کیفی می باشیم"
      ],
      "metadata": {
        "id": "azQG3SeLa6Qz"
      }
    },
    {
      "cell_type": "code",
      "source": [
        "realstate.isnull().sum()"
      ],
      "metadata": {
        "colab": {
          "base_uri": "https://localhost:8080/"
        },
        "id": "eeiSnjoEbHBV",
        "outputId": "a82e8b82-dc44-4bd2-9ab1-c830d358a735"
      },
      "execution_count": 15,
      "outputs": [
        {
          "output_type": "execute_result",
          "data": {
            "text/plain": [
              "regio1                           0\n",
              "serviceCharge                 6909\n",
              "heatingType                  44856\n",
              "telekomTvOffer               32619\n",
              "telekomHybridUploadSpeed    223830\n",
              "newlyConst                       0\n",
              "balcony                          0\n",
              "picturecount                     0\n",
              "pricetrend                    1832\n",
              "telekomUploadSpeed           33358\n",
              "totalRent                    40517\n",
              "yearConstructed              57045\n",
              "scoutId                          0\n",
              "noParkSpaces                175798\n",
              "firingTypes                  56964\n",
              "hasKitchen                       0\n",
              "geo_bln                          0\n",
              "cellar                           0\n",
              "yearConstructedRange         57045\n",
              "baseRent                         0\n",
              "houseNumber                  71018\n",
              "livingSpace                      0\n",
              "geo_krs                          0\n",
              "condition                    68489\n",
              "interiorQual                112665\n",
              "petsAllowed                 114573\n",
              "street                           0\n",
              "streetPlain                  71013\n",
              "lift                             0\n",
              "baseRentRange                    0\n",
              "typeOfFlat                   36614\n",
              "geo_plz                          0\n",
              "noRooms                          0\n",
              "thermalChar                 106506\n",
              "floor                        51309\n",
              "numberOfFloors               97732\n",
              "noRoomsRange                     0\n",
              "garden                           0\n",
              "livingSpaceRange                 0\n",
              "regio2                           0\n",
              "regio3                           0\n",
              "description                  19747\n",
              "facilities                   52924\n",
              "heatingCosts                183332\n",
              "energyEfficiencyClass       191063\n",
              "lastRefurbish               188139\n",
              "electricityBasePrice        222004\n",
              "electricityKwhPrice         222004\n",
              "date                             0\n",
              "dtype: int64"
            ]
          },
          "metadata": {},
          "execution_count": 15
        }
      ]
    },
    {
      "cell_type": "markdown",
      "source": [
        "می بینیم در دیتاست ما ستون های بسیاری هستند که شامل کمبود و عدم حضور داده هستند.\n",
        "در بعضی از ستون ها تعداد داده های مفقود نزدیک به تعداد کل سطرها یا رکوردها می باشد.\n",
        "خیلی از این ستون ها باتوجه به سوال هایی که با آن مواجه هستیم از اهمیت چندانی برخوردار نیستند و می توانیم از آن ها چشم پوشی کرد.\n",
        "بعضی از ستون ها را حذف و بعضی از ستون ها را با مقادیر دلخواه جایگذاری می کنیم."
      ],
      "metadata": {
        "id": "ofs1zjvPcPna"
      }
    },
    {
      "cell_type": "code",
      "source": [
        "realstate1 = realstate.drop(['telekomHybridUploadSpeed', 'noParkSpaces', 'interiorQual', 'petsAllowed', 'thermalChar', 'heatingCosts', 'energyEfficiencyClass', 'energyEfficiencyClass', 'electricityBasePrice', 'electricityKwhPrice', 'picturecount', 'description'], axis=1)\n",
        "realstate1.head()"
      ],
      "metadata": {
        "colab": {
          "base_uri": "https://localhost:8080/",
          "height": 507
        },
        "id": "3233qv78dOnk",
        "outputId": "6edf1308-a3d4-407b-e159-db7c1605131f"
      },
      "execution_count": 25,
      "outputs": [
        {
          "output_type": "execute_result",
          "data": {
            "text/plain": [
              "                regio1  serviceCharge                     heatingType  \\\n",
              "0  Nordrhein_Westfalen         245.00                 central_heating   \n",
              "1      Rheinland_Pfalz         134.00  self_contained_central_heating   \n",
              "2              Sachsen         255.00                   floor_heating   \n",
              "3              Sachsen          58.15                district_heating   \n",
              "4               Bremen         138.00  self_contained_central_heating   \n",
              "\n",
              "  telekomTvOffer  newlyConst  balcony  pricetrend  telekomUploadSpeed  \\\n",
              "0  ONE_YEAR_FREE       False    False        4.62                10.0   \n",
              "1  ONE_YEAR_FREE       False     True        3.47                10.0   \n",
              "2  ONE_YEAR_FREE        True     True        2.72                 2.4   \n",
              "3  ONE_YEAR_FREE       False     True        1.53                40.0   \n",
              "4            NaN       False     True        2.46                 NaN   \n",
              "\n",
              "   totalRent  yearConstructed  ...  floor numberOfFloors  noRoomsRange garden  \\\n",
              "0      840.0           1965.0  ...    1.0            3.0             4   True   \n",
              "1        NaN           1871.0  ...    NaN            NaN             3  False   \n",
              "2     1300.0           2019.0  ...    3.0            4.0             3  False   \n",
              "3        NaN           1964.0  ...    3.0            NaN             3  False   \n",
              "4      903.0           1950.0  ...    1.0            NaN             3  False   \n",
              "\n",
              "   livingSpaceRange               regio2                      regio3  \\\n",
              "0                 4             Dortmund                     Schüren   \n",
              "1                 4    Rhein_Pfalz_Kreis              Böhl_Iggelheim   \n",
              "2                 4              Dresden  Äußere_Neustadt_Antonstadt   \n",
              "3                 2  Mittelsachsen_Kreis                    Freiberg   \n",
              "4                 4               Bremen           Neu_Schwachhausen   \n",
              "\n",
              "                                          facilities  lastRefurbish   date  \n",
              "0  Die Wohnung ist mit Laminat ausgelegt. Das Bad...            NaN  May19  \n",
              "1                                                NaN         2019.0  May19  \n",
              "2  * 9 m² Balkon\\n* Bad mit bodengleicher Dusche,...            NaN  Oct19  \n",
              "3                                                NaN            NaN  May19  \n",
              "4  Diese Wohnung wurde neu saniert und ist wie fo...            NaN  Feb20  \n",
              "\n",
              "[5 rows x 38 columns]"
            ],
            "text/html": [
              "\n",
              "  <div id=\"df-d2dd54ed-b474-4593-a8c9-b567f20d9df8\">\n",
              "    <div class=\"colab-df-container\">\n",
              "      <div>\n",
              "<style scoped>\n",
              "    .dataframe tbody tr th:only-of-type {\n",
              "        vertical-align: middle;\n",
              "    }\n",
              "\n",
              "    .dataframe tbody tr th {\n",
              "        vertical-align: top;\n",
              "    }\n",
              "\n",
              "    .dataframe thead th {\n",
              "        text-align: right;\n",
              "    }\n",
              "</style>\n",
              "<table border=\"1\" class=\"dataframe\">\n",
              "  <thead>\n",
              "    <tr style=\"text-align: right;\">\n",
              "      <th></th>\n",
              "      <th>regio1</th>\n",
              "      <th>serviceCharge</th>\n",
              "      <th>heatingType</th>\n",
              "      <th>telekomTvOffer</th>\n",
              "      <th>newlyConst</th>\n",
              "      <th>balcony</th>\n",
              "      <th>pricetrend</th>\n",
              "      <th>telekomUploadSpeed</th>\n",
              "      <th>totalRent</th>\n",
              "      <th>yearConstructed</th>\n",
              "      <th>...</th>\n",
              "      <th>floor</th>\n",
              "      <th>numberOfFloors</th>\n",
              "      <th>noRoomsRange</th>\n",
              "      <th>garden</th>\n",
              "      <th>livingSpaceRange</th>\n",
              "      <th>regio2</th>\n",
              "      <th>regio3</th>\n",
              "      <th>facilities</th>\n",
              "      <th>lastRefurbish</th>\n",
              "      <th>date</th>\n",
              "    </tr>\n",
              "  </thead>\n",
              "  <tbody>\n",
              "    <tr>\n",
              "      <th>0</th>\n",
              "      <td>Nordrhein_Westfalen</td>\n",
              "      <td>245.00</td>\n",
              "      <td>central_heating</td>\n",
              "      <td>ONE_YEAR_FREE</td>\n",
              "      <td>False</td>\n",
              "      <td>False</td>\n",
              "      <td>4.62</td>\n",
              "      <td>10.0</td>\n",
              "      <td>840.0</td>\n",
              "      <td>1965.0</td>\n",
              "      <td>...</td>\n",
              "      <td>1.0</td>\n",
              "      <td>3.0</td>\n",
              "      <td>4</td>\n",
              "      <td>True</td>\n",
              "      <td>4</td>\n",
              "      <td>Dortmund</td>\n",
              "      <td>Schüren</td>\n",
              "      <td>Die Wohnung ist mit Laminat ausgelegt. Das Bad...</td>\n",
              "      <td>NaN</td>\n",
              "      <td>May19</td>\n",
              "    </tr>\n",
              "    <tr>\n",
              "      <th>1</th>\n",
              "      <td>Rheinland_Pfalz</td>\n",
              "      <td>134.00</td>\n",
              "      <td>self_contained_central_heating</td>\n",
              "      <td>ONE_YEAR_FREE</td>\n",
              "      <td>False</td>\n",
              "      <td>True</td>\n",
              "      <td>3.47</td>\n",
              "      <td>10.0</td>\n",
              "      <td>NaN</td>\n",
              "      <td>1871.0</td>\n",
              "      <td>...</td>\n",
              "      <td>NaN</td>\n",
              "      <td>NaN</td>\n",
              "      <td>3</td>\n",
              "      <td>False</td>\n",
              "      <td>4</td>\n",
              "      <td>Rhein_Pfalz_Kreis</td>\n",
              "      <td>Böhl_Iggelheim</td>\n",
              "      <td>NaN</td>\n",
              "      <td>2019.0</td>\n",
              "      <td>May19</td>\n",
              "    </tr>\n",
              "    <tr>\n",
              "      <th>2</th>\n",
              "      <td>Sachsen</td>\n",
              "      <td>255.00</td>\n",
              "      <td>floor_heating</td>\n",
              "      <td>ONE_YEAR_FREE</td>\n",
              "      <td>True</td>\n",
              "      <td>True</td>\n",
              "      <td>2.72</td>\n",
              "      <td>2.4</td>\n",
              "      <td>1300.0</td>\n",
              "      <td>2019.0</td>\n",
              "      <td>...</td>\n",
              "      <td>3.0</td>\n",
              "      <td>4.0</td>\n",
              "      <td>3</td>\n",
              "      <td>False</td>\n",
              "      <td>4</td>\n",
              "      <td>Dresden</td>\n",
              "      <td>Äußere_Neustadt_Antonstadt</td>\n",
              "      <td>* 9 m² Balkon\\n* Bad mit bodengleicher Dusche,...</td>\n",
              "      <td>NaN</td>\n",
              "      <td>Oct19</td>\n",
              "    </tr>\n",
              "    <tr>\n",
              "      <th>3</th>\n",
              "      <td>Sachsen</td>\n",
              "      <td>58.15</td>\n",
              "      <td>district_heating</td>\n",
              "      <td>ONE_YEAR_FREE</td>\n",
              "      <td>False</td>\n",
              "      <td>True</td>\n",
              "      <td>1.53</td>\n",
              "      <td>40.0</td>\n",
              "      <td>NaN</td>\n",
              "      <td>1964.0</td>\n",
              "      <td>...</td>\n",
              "      <td>3.0</td>\n",
              "      <td>NaN</td>\n",
              "      <td>3</td>\n",
              "      <td>False</td>\n",
              "      <td>2</td>\n",
              "      <td>Mittelsachsen_Kreis</td>\n",
              "      <td>Freiberg</td>\n",
              "      <td>NaN</td>\n",
              "      <td>NaN</td>\n",
              "      <td>May19</td>\n",
              "    </tr>\n",
              "    <tr>\n",
              "      <th>4</th>\n",
              "      <td>Bremen</td>\n",
              "      <td>138.00</td>\n",
              "      <td>self_contained_central_heating</td>\n",
              "      <td>NaN</td>\n",
              "      <td>False</td>\n",
              "      <td>True</td>\n",
              "      <td>2.46</td>\n",
              "      <td>NaN</td>\n",
              "      <td>903.0</td>\n",
              "      <td>1950.0</td>\n",
              "      <td>...</td>\n",
              "      <td>1.0</td>\n",
              "      <td>NaN</td>\n",
              "      <td>3</td>\n",
              "      <td>False</td>\n",
              "      <td>4</td>\n",
              "      <td>Bremen</td>\n",
              "      <td>Neu_Schwachhausen</td>\n",
              "      <td>Diese Wohnung wurde neu saniert und ist wie fo...</td>\n",
              "      <td>NaN</td>\n",
              "      <td>Feb20</td>\n",
              "    </tr>\n",
              "  </tbody>\n",
              "</table>\n",
              "<p>5 rows × 38 columns</p>\n",
              "</div>\n",
              "      <button class=\"colab-df-convert\" onclick=\"convertToInteractive('df-d2dd54ed-b474-4593-a8c9-b567f20d9df8')\"\n",
              "              title=\"Convert this dataframe to an interactive table.\"\n",
              "              style=\"display:none;\">\n",
              "        \n",
              "  <svg xmlns=\"http://www.w3.org/2000/svg\" height=\"24px\"viewBox=\"0 0 24 24\"\n",
              "       width=\"24px\">\n",
              "    <path d=\"M0 0h24v24H0V0z\" fill=\"none\"/>\n",
              "    <path d=\"M18.56 5.44l.94 2.06.94-2.06 2.06-.94-2.06-.94-.94-2.06-.94 2.06-2.06.94zm-11 1L8.5 8.5l.94-2.06 2.06-.94-2.06-.94L8.5 2.5l-.94 2.06-2.06.94zm10 10l.94 2.06.94-2.06 2.06-.94-2.06-.94-.94-2.06-.94 2.06-2.06.94z\"/><path d=\"M17.41 7.96l-1.37-1.37c-.4-.4-.92-.59-1.43-.59-.52 0-1.04.2-1.43.59L10.3 9.45l-7.72 7.72c-.78.78-.78 2.05 0 2.83L4 21.41c.39.39.9.59 1.41.59.51 0 1.02-.2 1.41-.59l7.78-7.78 2.81-2.81c.8-.78.8-2.07 0-2.86zM5.41 20L4 18.59l7.72-7.72 1.47 1.35L5.41 20z\"/>\n",
              "  </svg>\n",
              "      </button>\n",
              "      \n",
              "  <style>\n",
              "    .colab-df-container {\n",
              "      display:flex;\n",
              "      flex-wrap:wrap;\n",
              "      gap: 12px;\n",
              "    }\n",
              "\n",
              "    .colab-df-convert {\n",
              "      background-color: #E8F0FE;\n",
              "      border: none;\n",
              "      border-radius: 50%;\n",
              "      cursor: pointer;\n",
              "      display: none;\n",
              "      fill: #1967D2;\n",
              "      height: 32px;\n",
              "      padding: 0 0 0 0;\n",
              "      width: 32px;\n",
              "    }\n",
              "\n",
              "    .colab-df-convert:hover {\n",
              "      background-color: #E2EBFA;\n",
              "      box-shadow: 0px 1px 2px rgba(60, 64, 67, 0.3), 0px 1px 3px 1px rgba(60, 64, 67, 0.15);\n",
              "      fill: #174EA6;\n",
              "    }\n",
              "\n",
              "    [theme=dark] .colab-df-convert {\n",
              "      background-color: #3B4455;\n",
              "      fill: #D2E3FC;\n",
              "    }\n",
              "\n",
              "    [theme=dark] .colab-df-convert:hover {\n",
              "      background-color: #434B5C;\n",
              "      box-shadow: 0px 1px 3px 1px rgba(0, 0, 0, 0.15);\n",
              "      filter: drop-shadow(0px 1px 2px rgba(0, 0, 0, 0.3));\n",
              "      fill: #FFFFFF;\n",
              "    }\n",
              "  </style>\n",
              "\n",
              "      <script>\n",
              "        const buttonEl =\n",
              "          document.querySelector('#df-d2dd54ed-b474-4593-a8c9-b567f20d9df8 button.colab-df-convert');\n",
              "        buttonEl.style.display =\n",
              "          google.colab.kernel.accessAllowed ? 'block' : 'none';\n",
              "\n",
              "        async function convertToInteractive(key) {\n",
              "          const element = document.querySelector('#df-d2dd54ed-b474-4593-a8c9-b567f20d9df8');\n",
              "          const dataTable =\n",
              "            await google.colab.kernel.invokeFunction('convertToInteractive',\n",
              "                                                     [key], {});\n",
              "          if (!dataTable) return;\n",
              "\n",
              "          const docLinkHtml = 'Like what you see? Visit the ' +\n",
              "            '<a target=\"_blank\" href=https://colab.research.google.com/notebooks/data_table.ipynb>data table notebook</a>'\n",
              "            + ' to learn more about interactive tables.';\n",
              "          element.innerHTML = '';\n",
              "          dataTable['output_type'] = 'display_data';\n",
              "          await google.colab.output.renderOutput(dataTable, element);\n",
              "          const docLink = document.createElement('div');\n",
              "          docLink.innerHTML = docLinkHtml;\n",
              "          element.appendChild(docLink);\n",
              "        }\n",
              "      </script>\n",
              "    </div>\n",
              "  </div>\n",
              "  "
            ]
          },
          "metadata": {},
          "execution_count": 25
        }
      ]
    },
    {
      "cell_type": "markdown",
      "source": [
        "ستون هایی را که حاوی داده ی مفقود زیادی بودند و یا فاقد ارزش محاسباتی بودند را حذف کردیم"
      ],
      "metadata": {
        "id": "pQxaHOuaf1X7"
      }
    },
    {
      "cell_type": "code",
      "source": [
        "realstate1.duplicated().sum()"
      ],
      "metadata": {
        "colab": {
          "base_uri": "https://localhost:8080/"
        },
        "id": "mqh0NfNbf-ws",
        "outputId": "996329f3-b5d3-4a52-8c1b-9b85ca270b16"
      },
      "execution_count": 26,
      "outputs": [
        {
          "output_type": "execute_result",
          "data": {
            "text/plain": [
              "0"
            ]
          },
          "metadata": {},
          "execution_count": 26
        }
      ]
    },
    {
      "cell_type": "code",
      "source": [
        "realstate1.regio1.value_counts().plot(kind=\"bar\")"
      ],
      "metadata": {
        "colab": {
          "base_uri": "https://localhost:8080/",
          "height": 408
        },
        "id": "h_l8-RW-hEF-",
        "outputId": "f4821918-d0aa-4d2d-a250-21323b82bf17"
      },
      "execution_count": 27,
      "outputs": [
        {
          "output_type": "execute_result",
          "data": {
            "text/plain": [
              "<matplotlib.axes._subplots.AxesSubplot at 0x7fbdf51a0d10>"
            ]
          },
          "metadata": {},
          "execution_count": 27
        },
        {
          "output_type": "display_data",
          "data": {
            "text/plain": [
              "<Figure size 432x288 with 1 Axes>"
            ],
            "image/png": "[encoded data removed]"
          },
          "metadata": {
            "needs_background": "light"
          }
        }
      ]
    },
    {
      "cell_type": "markdown",
      "source": [
        "تعداد آگهی در مناطق مختلف"
      ],
      "metadata": {
        "id": "t1YK_uhzikwJ"
      }
    },
    {
      "cell_type": "code",
      "source": [
        "sns.catplot(x=\"regio1\",y='totalRent' ,kind=\"bar\", data=realstate1,ci=None, height=8, aspect=3)"
      ],
      "metadata": {
        "colab": {
          "base_uri": "https://localhost:8080/",
          "height": 588
        },
        "id": "EDQMau-3l9lu",
        "outputId": "1c0c0386-bf84-43f9-f4a5-a5b690e3f9b3"
      },
      "execution_count": 32,
      "outputs": [
        {
          "output_type": "execute_result",
          "data": {
            "text/plain": [
              "<seaborn.axisgrid.FacetGrid at 0x7fbdeb9c89d0>"
            ]
          },
          "metadata": {},
          "execution_count": 32
        },
        {
          "output_type": "display_data",
          "data": {
            "text/plain": [
              "<Figure size 1728x576 with 1 Axes>"
            ],
            "image/png": "[encoded data removed]"
          },
          "metadata": {
            "needs_background": "light"
          }
        }
      ]
    },
    {
      "cell_type": "markdown",
      "source": [
        "بررسی قیمت در مناطق مختلف جغرافیایی"
      ],
      "metadata": {
        "id": "3UX9aDUSnYNU"
      }
    },
    {
      "cell_type": "code",
      "source": [
        "realstate1.balcony.value_counts().plot(kind=\"pie\")"
      ],
      "metadata": {
        "colab": {
          "base_uri": "https://localhost:8080/",
          "height": 267
        },
        "id": "ffv0HunmitzC",
        "outputId": "78319e9a-ba55-41ec-be0f-bff9b8b081e9"
      },
      "execution_count": 24,
      "outputs": [
        {
          "output_type": "execute_result",
          "data": {
            "text/plain": [
              "<matplotlib.axes._subplots.AxesSubplot at 0x7fbdf49ae090>"
            ]
          },
          "metadata": {},
          "execution_count": 24
        },
        {
          "output_type": "display_data",
          "data": {
            "text/plain": [
              "<Figure size 432x288 with 1 Axes>"
            ],
            "image/png": "[encoded data removed]"
          },
          "metadata": {}
        }
      ]
    },
    {
      "cell_type": "markdown",
      "source": [
        "تعداد خانه هایی که بالکن دارند و تعداد خانه هایی که بالکن ندارند"
      ],
      "metadata": {
        "id": "TiEsqueAjeZA"
      }
    },
    {
      "cell_type": "code",
      "source": [
        "realstate1.lift.value_counts().plot(kind=\"pie\")"
      ],
      "metadata": {
        "colab": {
          "base_uri": "https://localhost:8080/",
          "height": 267
        },
        "id": "7hqXevuqjnpy",
        "outputId": "af5b0e1f-18fd-41ff-d0bc-6298191b4658"
      },
      "execution_count": 28,
      "outputs": [
        {
          "output_type": "execute_result",
          "data": {
            "text/plain": [
              "<matplotlib.axes._subplots.AxesSubplot at 0x7fbdf4820ed0>"
            ]
          },
          "metadata": {},
          "execution_count": 28
        },
        {
          "output_type": "display_data",
          "data": {
            "text/plain": [
              "<Figure size 432x288 with 1 Axes>"
            ],
            "image/png": "[encoded data removed]"
          },
          "metadata": {}
        }
      ]
    },
    {
      "cell_type": "markdown",
      "source": [
        "نسبت خانه هایی که آسانسور دارند و خانه هایی که آسانسور ندارند."
      ],
      "metadata": {
        "id": "bVX4tbcmlnd6"
      }
    },
    {
      "cell_type": "markdown",
      "source": [
        "نصب پکیج پای اسپارک و ایجاد سشن و خواندن دیتاست"
      ],
      "metadata": {
        "id": "kkNVqZbT5-Tu"
      }
    },
    {
      "cell_type": "code",
      "source": [
        "pip install pyspark"
      ],
      "metadata": {
        "colab": {
          "base_uri": "https://localhost:8080/"
        },
        "id": "c01BJz2slwAN",
        "outputId": "d9ddd23e-7140-41a9-a0ef-da6051661b61"
      },
      "execution_count": 36,
      "outputs": [
        {
          "output_type": "stream",
          "name": "stdout",
          "text": [
            "Collecting pyspark\n",
            "  Downloading pyspark-3.2.1.tar.gz (281.4 MB)\n",
            "\u001b[K     |████████████████████████████████| 281.4 MB 35 kB/s \n",
            "\u001b[?25hCollecting py4j==0.10.9.3\n",
            "  Downloading py4j-0.10.9.3-py2.py3-none-any.whl (198 kB)\n",
            "\u001b[K     |████████████████████████████████| 198 kB 67.7 MB/s \n",
            "\u001b[?25hBuilding wheels for collected packages: pyspark\n",
            "  Building wheel for pyspark (setup.py) ... \u001b[?25l\u001b[?25hdone\n",
            "  Created wheel for pyspark: filename=pyspark-3.2.1-py2.py3-none-any.whl size=281853642 sha256=6757b47d1c3b148b6c198cb08d884a47b6e98957c4833ebe0994d2f5b184ab18\n",
            "  Stored in directory: /root/.cache/pip/wheels/9f/f5/07/7cd8017084dce4e93e84e92efd1e1d5334db05f2e83bcef74f\n",
            "Successfully built pyspark\n",
            "Installing collected packages: py4j, pyspark\n",
            "Successfully installed py4j-0.10.9.3 pyspark-3.2.1\n"
          ]
        }
      ]
    },
    {
      "cell_type": "code",
      "source": [
        "from pyspark.sql import SparkSession\n",
        "spark = SparkSession.builder.getOrCreate()"
      ],
      "metadata": {
        "id": "UgId-a394wBe"
      },
      "execution_count": 37,
      "outputs": []
    },
    {
      "cell_type": "code",
      "source": [
        "from pyspark.sql.types import *\n",
        "Schema=StructType([\n",
        "  StructField('regio1',StringType(),nullable=True),\n",
        "  StructField('serviceCharge',FloatType(),nullable=True),\n",
        "  StructField('heatingType',StringType(),nullable=True),\n",
        "  StructField('telekomTvOffer',FloatType(),nullable=True),\n",
        "  StructField('newlyConst',BooleanType(),nullable=True),\n",
        "  StructField('balcony',BooleanType(),nullable=True),\n",
        "  StructField('pricetrend',FloatType(),nullable=True),\n",
        "  StructField('telekomUploadSpeed',FloatType(),nullable=True)\n",
        "])\n",
        "realstate2 = spark.read.option(\"header\",\"true\").schema(Schema).csv('immo_data.csv')\n",
        "realstate2.show(10,False)"
      ],
      "metadata": {
        "colab": {
          "base_uri": "https://localhost:8080/"
        },
        "id": "-OLhqrxD5K39",
        "outputId": "4c9ee68a-4972-4732-e8cd-3698f9b80258"
      },
      "execution_count": 47,
      "outputs": [
        {
          "output_type": "stream",
          "name": "stdout",
          "text": [
            "+-----------------------------------------------------------------------------------------------------------+-------------+---------------------------------------------------------------------------------------------------------------------------------------+--------------+----------+-------+----------+------------------+\n",
            "|regio1                                                                                                     |serviceCharge|heatingType                                                                                                                            |telekomTvOffer|newlyConst|balcony|pricetrend|telekomUploadSpeed|\n",
            "+-----------------------------------------------------------------------------------------------------------+-------------+---------------------------------------------------------------------------------------------------------------------------------------+--------------+----------+-------+----------+------------------+\n",
            "|Nordrhein_Westfalen                                                                                        |245.0        |central_heating                                                                                                                        |null          |null      |false  |null      |6.0               |\n",
            "|Zur Wohnung gehört ein 10 m großer Keller. Eine Garage kann optional mitgemietet werden.\"                  |null         |NA                                                                                                                                     |null          |null      |null   |null      |null              |\n",
            "|Rheinland_Pfalz                                                                                            |134.0        |self_contained_central_heating                                                                                                         |null          |null      |false  |null      |8.0               |\n",
            "|Sie verfügt über eine Wohnfläche von ca. 89 m² und einen äußerst gelungenen Grundriss.                     |null         |null                                                                                                                                   |null          |null      |null   |null      |null              |\n",
            "|Aufgeteilt ist die Wohnung in einen großzügigen Wohn-Essbereich                                            |null         | ein Schlafzimmer                                                                                                                      |null          |null      |null   |null      |null              |\n",
            "|Von der Küche aus haben Sie direkten Zugang zum Balkon                                                     |null         |null                                                                                                                                   |null          |null      |null   |null      |null              |\n",
            "|Das Badezimmer ist ausgestattet mit Dusche                                                                 |null         | Waschbecken und praktischem Handtuchheizkörper. Zudem gibt es hier jeweils einen Anschluss für die Waschmaschine und für den Trockner.|null          |null      |null   |null      |null              |\n",
            "|Sämtliche Räume in der Wohnung sind lichtdurchflutet                                                       |null         | verstärkt durch die weißen                                                                                                            |null          |null      |null   |null      |null              |\n",
            "|Die Böden sind mit pflegeleichtem Vinyl-Boden und Fliesen ausgelegt und somit auch für Allergiker geeignet.|null         |null                                                                                                                                   |null          |null      |null   |null      |null              |\n",
            "|Beheizt wird die Wohnung mittels einer neuen                                                               |null         |null                                                                                                                                   |null          |null      |null   |null      |null              |\n",
            "+-----------------------------------------------------------------------------------------------------------+-------------+---------------------------------------------------------------------------------------------------------------------------------------+--------------+----------+-------+----------+------------------+\n",
            "only showing top 10 rows\n",
            "\n"
          ]
        }
      ]
    },
    {
      "cell_type": "code",
      "source": [
        "realstate2.dtypes"
      ],
      "metadata": {
        "colab": {
          "base_uri": "https://localhost:8080/"
        },
        "id": "C-qkQMQD6LLF",
        "outputId": "fd22c75f-073a-4a2e-9ae8-6380b0eccb0d"
      },
      "execution_count": 48,
      "outputs": [
        {
          "output_type": "execute_result",
          "data": {
            "text/plain": [
              "[('regio1', 'string'),\n",
              " ('serviceCharge', 'float'),\n",
              " ('heatingType', 'string'),\n",
              " ('telekomTvOffer', 'float'),\n",
              " ('newlyConst', 'boolean'),\n",
              " ('balcony', 'boolean'),\n",
              " ('pricetrend', 'float'),\n",
              " ('telekomUploadSpeed', 'float')]"
            ]
          },
          "metadata": {},
          "execution_count": 48
        }
      ]
    },
    {
      "cell_type": "markdown",
      "source": [
        "با realstate2.drop('input') \n",
        "داده های نامطلوب و فاقد مقدار را حذف می کنیم"
      ],
      "metadata": {
        "id": "CGNWpCHKD33I"
      }
    },
    {
      "cell_type": "code",
      "source": [
        ""
      ],
      "metadata": {
        "id": "DMJ2r2nPCF6C"
      },
      "execution_count": null,
      "outputs": []
    }
  ]
}