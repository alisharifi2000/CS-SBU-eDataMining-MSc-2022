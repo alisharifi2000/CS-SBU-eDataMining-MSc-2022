{
  "cells": [
    {
      "cell_type": "code",
      "source": [
        "from google.colab import drive\n",
        "drive.mount('/gdrive')\n",
        "root='/gdrive/MyDrive/'"
      ],
      "metadata": {
        "colab": {
          "base_uri": "https://localhost:8080/"
        },
        "id": "ZkQbhwI7b7NS",
        "outputId": "9cce77d4-dc10-439a-ade5-b5b850f477c4"
      },
      "id": "ZkQbhwI7b7NS",
      "execution_count": 1,
      "outputs": [
        {
          "output_type": "stream",
          "name": "stdout",
          "text": [
            "Mounted at /gdrive\n"
          ]
        }
      ]
    },
    {
      "cell_type": "markdown",
      "metadata": {
        "id": "jZmCK1IjPuJ2"
      },
      "source": [
        "# Data Overview"
      ],
      "id": "jZmCK1IjPuJ2"
    },
    {
      "cell_type": "code",
      "execution_count": 2,
      "id": "3dccf4c9",
      "metadata": {
        "execution": {
          "iopub.execute_input": "2022-05-07T10:02:48.343529Z",
          "iopub.status.busy": "2022-05-07T10:02:48.343074Z",
          "iopub.status.idle": "2022-05-07T10:02:49.695742Z",
          "shell.execute_reply": "2022-05-07T10:02:49.695081Z"
        },
        "papermill": {
          "duration": 1.441317,
          "end_time": "2022-05-07T10:02:49.698182",
          "exception": false,
          "start_time": "2022-05-07T10:02:48.256865",
          "status": "completed"
        },
        "tags": [],
        "id": "3dccf4c9"
      },
      "outputs": [],
      "source": [
        "import pandas as pd\n",
        "import matplotlib.pyplot as plt\n",
        "import numpy as np\n",
        "from sklearn.preprocessing import OneHotEncoder\n",
        "from sklearn.preprocessing import StandardScaler\n",
        "from sklearn.model_selection import train_test_split\n",
        "from sklearn.linear_model import LinearRegression\n",
        "from sklearn.linear_model import Lasso\n",
        "from sklearn.linear_model import Ridge\n",
        "from sklearn.compose import ColumnTransformer\n",
        "from sklearn import metrics\n",
        "import seaborn as sns\n",
        "from sklearn.tree import DecisionTreeRegressor\n",
        "%matplotlib inline"
      ]
    },
    {
      "cell_type": "code",
      "source": [
        "pd.set_option('display.max_columns',None)  #to show all columns\n",
        "dfimmo=pd.read_csv(root+\"immo_data.csv\",usecols=['serviceCharge', 'heatingType', 'telekomUploadSpeed', 'totalRent'])  #reading dataset"
      ],
      "metadata": {
        "id": "KCfLlzOUcYlo"
      },
      "id": "KCfLlzOUcYlo",
      "execution_count": 3,
      "outputs": []
    },
    {
      "cell_type": "code",
      "execution_count": 4,
      "id": "1d866223",
      "metadata": {
        "execution": {
          "iopub.execute_input": "2022-05-07T10:02:56.128492Z",
          "iopub.status.busy": "2022-05-07T10:02:56.127564Z",
          "iopub.status.idle": "2022-05-07T10:02:56.138642Z",
          "shell.execute_reply": "2022-05-07T10:02:56.137802Z"
        },
        "papermill": {
          "duration": 0.103029,
          "end_time": "2022-05-07T10:02:56.140597",
          "exception": false,
          "start_time": "2022-05-07T10:02:56.037568",
          "status": "completed"
        },
        "tags": [],
        "id": "1d866223"
      },
      "outputs": [],
      "source": [
        "df = dfimmo.copy()"
      ]
    },
    {
      "cell_type": "code",
      "execution_count": 5,
      "id": "ed91188f",
      "metadata": {
        "execution": {
          "iopub.execute_input": "2022-05-07T10:02:56.311291Z",
          "iopub.status.busy": "2022-05-07T10:02:56.311013Z",
          "iopub.status.idle": "2022-05-07T10:02:56.318952Z",
          "shell.execute_reply": "2022-05-07T10:02:56.318159Z"
        },
        "papermill": {
          "duration": 0.097134,
          "end_time": "2022-05-07T10:02:56.321691",
          "exception": false,
          "start_time": "2022-05-07T10:02:56.224557",
          "status": "completed"
        },
        "tags": [],
        "colab": {
          "base_uri": "https://localhost:8080/"
        },
        "id": "ed91188f",
        "outputId": "cba36c59-51d0-4aaf-e374-7e6e8e2d9943"
      },
      "outputs": [
        {
          "output_type": "execute_result",
          "data": {
            "text/plain": [
              "Index(['serviceCharge', 'heatingType', 'telekomUploadSpeed', 'totalRent'], dtype='object')"
            ]
          },
          "metadata": {},
          "execution_count": 5
        }
      ],
      "source": [
        "df.columns"
      ]
    },
    {
      "cell_type": "code",
      "execution_count": 9,
      "id": "da155446",
      "metadata": {
        "execution": {
          "iopub.execute_input": "2022-05-07T10:02:56.495247Z",
          "iopub.status.busy": "2022-05-07T10:02:56.494957Z",
          "iopub.status.idle": "2022-05-07T10:02:56.511588Z",
          "shell.execute_reply": "2022-05-07T10:02:56.510803Z"
        },
        "papermill": {
          "duration": 0.105664,
          "end_time": "2022-05-07T10:02:56.513703",
          "exception": false,
          "start_time": "2022-05-07T10:02:56.408039",
          "status": "completed"
        },
        "tags": [],
        "colab": {
          "base_uri": "https://localhost:8080/",
          "height": 206
        },
        "id": "da155446",
        "outputId": "c17c677b-30d3-40cc-b5ad-867ac7fe4581"
      },
      "outputs": [
        {
          "output_type": "execute_result",
          "data": {
            "text/plain": [
              "   serviceCharge                     heatingType  telekomUploadSpeed  \\\n",
              "0         245.00                 central_heating                10.0   \n",
              "1         134.00  self_contained_central_heating                10.0   \n",
              "2         255.00                   floor_heating                 2.4   \n",
              "3          58.15                district_heating                40.0   \n",
              "4         138.00  self_contained_central_heating                 NaN   \n",
              "\n",
              "   totalRent  \n",
              "0      840.0  \n",
              "1        NaN  \n",
              "2     1300.0  \n",
              "3        NaN  \n",
              "4      903.0  "
            ],
            "text/html": [
              "\n",
              "  <div id=\"df-9eec79a6-21ab-49d4-9998-ce4ac69bea7f\">\n",
              "    <div class=\"colab-df-container\">\n",
              "      <div>\n",
              "<style scoped>\n",
              "    .dataframe tbody tr th:only-of-type {\n",
              "        vertical-align: middle;\n",
              "    }\n",
              "\n",
              "    .dataframe tbody tr th {\n",
              "        vertical-align: top;\n",
              "    }\n",
              "\n",
              "    .dataframe thead th {\n",
              "        text-align: right;\n",
              "    }\n",
              "</style>\n",
              "<table border=\"1\" class=\"dataframe\">\n",
              "  <thead>\n",
              "    <tr style=\"text-align: right;\">\n",
              "      <th></th>\n",
              "      <th>serviceCharge</th>\n",
              "      <th>heatingType</th>\n",
              "      <th>telekomUploadSpeed</th>\n",
              "      <th>totalRent</th>\n",
              "    </tr>\n",
              "  </thead>\n",
              "  <tbody>\n",
              "    <tr>\n",
              "      <th>0</th>\n",
              "      <td>245.00</td>\n",
              "      <td>central_heating</td>\n",
              "      <td>10.0</td>\n",
              "      <td>840.0</td>\n",
              "    </tr>\n",
              "    <tr>\n",
              "      <th>1</th>\n",
              "      <td>134.00</td>\n",
              "      <td>self_contained_central_heating</td>\n",
              "      <td>10.0</td>\n",
              "      <td>NaN</td>\n",
              "    </tr>\n",
              "    <tr>\n",
              "      <th>2</th>\n",
              "      <td>255.00</td>\n",
              "      <td>floor_heating</td>\n",
              "      <td>2.4</td>\n",
              "      <td>1300.0</td>\n",
              "    </tr>\n",
              "    <tr>\n",
              "      <th>3</th>\n",
              "      <td>58.15</td>\n",
              "      <td>district_heating</td>\n",
              "      <td>40.0</td>\n",
              "      <td>NaN</td>\n",
              "    </tr>\n",
              "    <tr>\n",
              "      <th>4</th>\n",
              "      <td>138.00</td>\n",
              "      <td>self_contained_central_heating</td>\n",
              "      <td>NaN</td>\n",
              "      <td>903.0</td>\n",
              "    </tr>\n",
              "  </tbody>\n",
              "</table>\n",
              "</div>\n",
              "      <button class=\"colab-df-convert\" onclick=\"convertToInteractive('df-9eec79a6-21ab-49d4-9998-ce4ac69bea7f')\"\n",
              "              title=\"Convert this dataframe to an interactive table.\"\n",
              "              style=\"display:none;\">\n",
              "        \n",
              "  <svg xmlns=\"http://www.w3.org/2000/svg\" height=\"24px\"viewBox=\"0 0 24 24\"\n",
              "       width=\"24px\">\n",
              "    <path d=\"M0 0h24v24H0V0z\" fill=\"none\"/>\n",
              "    <path d=\"M18.56 5.44l.94 2.06.94-2.06 2.06-.94-2.06-.94-.94-2.06-.94 2.06-2.06.94zm-11 1L8.5 8.5l.94-2.06 2.06-.94-2.06-.94L8.5 2.5l-.94 2.06-2.06.94zm10 10l.94 2.06.94-2.06 2.06-.94-2.06-.94-.94-2.06-.94 2.06-2.06.94z\"/><path d=\"M17.41 7.96l-1.37-1.37c-.4-.4-.92-.59-1.43-.59-.52 0-1.04.2-1.43.59L10.3 9.45l-7.72 7.72c-.78.78-.78 2.05 0 2.83L4 21.41c.39.39.9.59 1.41.59.51 0 1.02-.2 1.41-.59l7.78-7.78 2.81-2.81c.8-.78.8-2.07 0-2.86zM5.41 20L4 18.59l7.72-7.72 1.47 1.35L5.41 20z\"/>\n",
              "  </svg>\n",
              "      </button>\n",
              "      \n",
              "  <style>\n",
              "    .colab-df-container {\n",
              "      display:flex;\n",
              "      flex-wrap:wrap;\n",
              "      gap: 12px;\n",
              "    }\n",
              "\n",
              "    .colab-df-convert {\n",
              "      background-color: #E8F0FE;\n",
              "      border: none;\n",
              "      border-radius: 50%;\n",
              "      cursor: pointer;\n",
              "      display: none;\n",
              "      fill: #1967D2;\n",
              "      height: 32px;\n",
              "      padding: 0 0 0 0;\n",
              "      width: 32px;\n",
              "    }\n",
              "\n",
              "    .colab-df-convert:hover {\n",
              "      background-color: #E2EBFA;\n",
              "      box-shadow: 0px 1px 2px rgba(60, 64, 67, 0.3), 0px 1px 3px 1px rgba(60, 64, 67, 0.15);\n",
              "      fill: #174EA6;\n",
              "    }\n",
              "\n",
              "    [theme=dark] .colab-df-convert {\n",
              "      background-color: #3B4455;\n",
              "      fill: #D2E3FC;\n",
              "    }\n",
              "\n",
              "    [theme=dark] .colab-df-convert:hover {\n",
              "      background-color: #434B5C;\n",
              "      box-shadow: 0px 1px 3px 1px rgba(0, 0, 0, 0.15);\n",
              "      filter: drop-shadow(0px 1px 2px rgba(0, 0, 0, 0.3));\n",
              "      fill: #FFFFFF;\n",
              "    }\n",
              "  </style>\n",
              "\n",
              "      <script>\n",
              "        const buttonEl =\n",
              "          document.querySelector('#df-9eec79a6-21ab-49d4-9998-ce4ac69bea7f button.colab-df-convert');\n",
              "        buttonEl.style.display =\n",
              "          google.colab.kernel.accessAllowed ? 'block' : 'none';\n",
              "\n",
              "        async function convertToInteractive(key) {\n",
              "          const element = document.querySelector('#df-9eec79a6-21ab-49d4-9998-ce4ac69bea7f');\n",
              "          const dataTable =\n",
              "            await google.colab.kernel.invokeFunction('convertToInteractive',\n",
              "                                                     [key], {});\n",
              "          if (!dataTable) return;\n",
              "\n",
              "          const docLinkHtml = 'Like what you see? Visit the ' +\n",
              "            '<a target=\"_blank\" href=https://colab.research.google.com/notebooks/data_table.ipynb>data table notebook</a>'\n",
              "            + ' to learn more about interactive tables.';\n",
              "          element.innerHTML = '';\n",
              "          dataTable['output_type'] = 'display_data';\n",
              "          await google.colab.output.renderOutput(dataTable, element);\n",
              "          const docLink = document.createElement('div');\n",
              "          docLink.innerHTML = docLinkHtml;\n",
              "          element.appendChild(docLink);\n",
              "        }\n",
              "      </script>\n",
              "    </div>\n",
              "  </div>\n",
              "  "
            ]
          },
          "metadata": {},
          "execution_count": 9
        }
      ],
      "source": [
        "df.head(5)"
      ]
    },
    {
      "cell_type": "code",
      "execution_count": 10,
      "id": "5b013736",
      "metadata": {
        "execution": {
          "iopub.execute_input": "2022-05-07T10:02:56.683951Z",
          "iopub.status.busy": "2022-05-07T10:02:56.683690Z",
          "iopub.status.idle": "2022-05-07T10:02:56.689191Z",
          "shell.execute_reply": "2022-05-07T10:02:56.688403Z"
        },
        "papermill": {
          "duration": 0.093209,
          "end_time": "2022-05-07T10:02:56.691299",
          "exception": false,
          "start_time": "2022-05-07T10:02:56.598090",
          "status": "completed"
        },
        "tags": [],
        "colab": {
          "base_uri": "https://localhost:8080/"
        },
        "id": "5b013736",
        "outputId": "26a64910-8db3-4637-9b9b-c2211f2eaaa5"
      },
      "outputs": [
        {
          "output_type": "execute_result",
          "data": {
            "text/plain": [
              "(268850, 4)"
            ]
          },
          "metadata": {},
          "execution_count": 10
        }
      ],
      "source": [
        "df.shape"
      ]
    },
    {
      "cell_type": "code",
      "execution_count": 11,
      "id": "99b52e4b",
      "metadata": {
        "execution": {
          "iopub.execute_input": "2022-05-07T10:02:56.863002Z",
          "iopub.status.busy": "2022-05-07T10:02:56.862681Z",
          "iopub.status.idle": "2022-05-07T10:02:56.912815Z",
          "shell.execute_reply": "2022-05-07T10:02:56.912247Z"
        },
        "papermill": {
          "duration": 0.139107,
          "end_time": "2022-05-07T10:02:56.915369",
          "exception": false,
          "start_time": "2022-05-07T10:02:56.776262",
          "status": "completed"
        },
        "tags": [],
        "colab": {
          "base_uri": "https://localhost:8080/"
        },
        "id": "99b52e4b",
        "outputId": "1e7db73e-6334-4a3e-847f-52aef6059d49"
      },
      "outputs": [
        {
          "output_type": "stream",
          "name": "stdout",
          "text": [
            "<class 'pandas.core.frame.DataFrame'>\n",
            "RangeIndex: 268850 entries, 0 to 268849\n",
            "Data columns (total 4 columns):\n",
            " #   Column              Non-Null Count   Dtype  \n",
            "---  ------              --------------   -----  \n",
            " 0   serviceCharge       261941 non-null  float64\n",
            " 1   heatingType         223994 non-null  object \n",
            " 2   telekomUploadSpeed  235492 non-null  float64\n",
            " 3   totalRent           228333 non-null  float64\n",
            "dtypes: float64(3), object(1)\n",
            "memory usage: 8.2+ MB\n"
          ]
        }
      ],
      "source": [
        "df.info()"
      ]
    },
    {
      "cell_type": "markdown",
      "id": "9fd871c7",
      "metadata": {
        "papermill": {
          "duration": 0.085266,
          "end_time": "2022-05-07T10:02:57.097588",
          "exception": false,
          "start_time": "2022-05-07T10:02:57.012322",
          "status": "completed"
        },
        "tags": [],
        "id": "9fd871c7"
      },
      "source": [
        "# Data Cleaning"
      ]
    },
    {
      "cell_type": "code",
      "execution_count": 12,
      "id": "f7d04486",
      "metadata": {
        "execution": {
          "iopub.execute_input": "2022-05-07T10:02:57.273797Z",
          "iopub.status.busy": "2022-05-07T10:02:57.273516Z",
          "iopub.status.idle": "2022-05-07T10:02:57.310051Z",
          "shell.execute_reply": "2022-05-07T10:02:57.309200Z"
        },
        "papermill": {
          "duration": 0.127499,
          "end_time": "2022-05-07T10:02:57.312556",
          "exception": false,
          "start_time": "2022-05-07T10:02:57.185057",
          "status": "completed"
        },
        "tags": [],
        "colab": {
          "base_uri": "https://localhost:8080/"
        },
        "id": "f7d04486",
        "outputId": "d4db7cf3-8b8a-45c2-e2e0-61678e8e3cfd"
      },
      "outputs": [
        {
          "output_type": "stream",
          "name": "stdout",
          "text": [
            "NaN value percentage of each column:\n",
            "\n",
            "serviceCharge :\t 2.5698344801934163 %\n",
            "heatingType :\t 16.68439650362656 %\n",
            "telekomUploadSpeed :\t 12.407662265203644 %\n",
            "totalRent :\t 15.070485400781106 %\n"
          ]
        }
      ],
      "source": [
        "print('NaN value percentage of each column:\\n')\n",
        "for col in df.columns:\n",
        "    print(col,\":\\t\", df[col].isnull().sum()/len(df[col])*100,\"%\")   #null percents"
      ]
    },
    {
      "cell_type": "markdown",
      "source": [
        "**Filling NaN values**"
      ],
      "metadata": {
        "id": "9f8bTbz8i_dd"
      },
      "id": "9f8bTbz8i_dd"
    },
    {
      "cell_type": "code",
      "execution_count": 13,
      "id": "c8ea4934",
      "metadata": {
        "execution": {
          "iopub.execute_input": "2022-05-07T10:02:57.487029Z",
          "iopub.status.busy": "2022-05-07T10:02:57.486725Z",
          "iopub.status.idle": "2022-05-07T10:02:57.584848Z",
          "shell.execute_reply": "2022-05-07T10:02:57.583977Z"
        },
        "papermill": {
          "duration": 0.18761,
          "end_time": "2022-05-07T10:02:57.587150",
          "exception": false,
          "start_time": "2022-05-07T10:02:57.399540",
          "status": "completed"
        },
        "tags": [],
        "id": "c8ea4934"
      },
      "outputs": [],
      "source": [
        "df.serviceCharge.fillna(df.serviceCharge.median(), inplace=True)\n",
        "df.heatingType.fillna(df.heatingType.mode()[0], inplace=True)\n",
        "df.telekomUploadSpeed.fillna(df.telekomUploadSpeed.median(), inplace=True)\n",
        "df.totalRent.fillna(df.totalRent.median(), inplace=True)"
      ]
    },
    {
      "cell_type": "code",
      "execution_count": 14,
      "id": "6a47bb3d",
      "metadata": {
        "execution": {
          "iopub.execute_input": "2022-05-07T10:02:57.759983Z",
          "iopub.status.busy": "2022-05-07T10:02:57.759322Z",
          "iopub.status.idle": "2022-05-07T10:02:57.814592Z",
          "shell.execute_reply": "2022-05-07T10:02:57.813892Z"
        },
        "papermill": {
          "duration": 0.144947,
          "end_time": "2022-05-07T10:02:57.817030",
          "exception": false,
          "start_time": "2022-05-07T10:02:57.672083",
          "status": "completed"
        },
        "tags": [],
        "colab": {
          "base_uri": "https://localhost:8080/",
          "height": 206
        },
        "id": "6a47bb3d",
        "outputId": "5eeeb02c-641a-464d-e5e7-f3589fc0dc8b"
      },
      "outputs": [
        {
          "output_type": "execute_result",
          "data": {
            "text/plain": [
              "   serviceCharge                     heatingType  telekomUploadSpeed  \\\n",
              "0         245.00                 central_heating                10.0   \n",
              "1         134.00  self_contained_central_heating                10.0   \n",
              "2         255.00                   floor_heating                 2.4   \n",
              "3          58.15                district_heating                40.0   \n",
              "4         138.00  self_contained_central_heating                40.0   \n",
              "\n",
              "   totalRent  \n",
              "0      840.0  \n",
              "1      650.0  \n",
              "2     1300.0  \n",
              "3      650.0  \n",
              "4      903.0  "
            ],
            "text/html": [
              "\n",
              "  <div id=\"df-d2fd9eb2-0c59-4e87-8151-b04ac3a9183a\">\n",
              "    <div class=\"colab-df-container\">\n",
              "      <div>\n",
              "<style scoped>\n",
              "    .dataframe tbody tr th:only-of-type {\n",
              "        vertical-align: middle;\n",
              "    }\n",
              "\n",
              "    .dataframe tbody tr th {\n",
              "        vertical-align: top;\n",
              "    }\n",
              "\n",
              "    .dataframe thead th {\n",
              "        text-align: right;\n",
              "    }\n",
              "</style>\n",
              "<table border=\"1\" class=\"dataframe\">\n",
              "  <thead>\n",
              "    <tr style=\"text-align: right;\">\n",
              "      <th></th>\n",
              "      <th>serviceCharge</th>\n",
              "      <th>heatingType</th>\n",
              "      <th>telekomUploadSpeed</th>\n",
              "      <th>totalRent</th>\n",
              "    </tr>\n",
              "  </thead>\n",
              "  <tbody>\n",
              "    <tr>\n",
              "      <th>0</th>\n",
              "      <td>245.00</td>\n",
              "      <td>central_heating</td>\n",
              "      <td>10.0</td>\n",
              "      <td>840.0</td>\n",
              "    </tr>\n",
              "    <tr>\n",
              "      <th>1</th>\n",
              "      <td>134.00</td>\n",
              "      <td>self_contained_central_heating</td>\n",
              "      <td>10.0</td>\n",
              "      <td>650.0</td>\n",
              "    </tr>\n",
              "    <tr>\n",
              "      <th>2</th>\n",
              "      <td>255.00</td>\n",
              "      <td>floor_heating</td>\n",
              "      <td>2.4</td>\n",
              "      <td>1300.0</td>\n",
              "    </tr>\n",
              "    <tr>\n",
              "      <th>3</th>\n",
              "      <td>58.15</td>\n",
              "      <td>district_heating</td>\n",
              "      <td>40.0</td>\n",
              "      <td>650.0</td>\n",
              "    </tr>\n",
              "    <tr>\n",
              "      <th>4</th>\n",
              "      <td>138.00</td>\n",
              "      <td>self_contained_central_heating</td>\n",
              "      <td>40.0</td>\n",
              "      <td>903.0</td>\n",
              "    </tr>\n",
              "  </tbody>\n",
              "</table>\n",
              "</div>\n",
              "      <button class=\"colab-df-convert\" onclick=\"convertToInteractive('df-d2fd9eb2-0c59-4e87-8151-b04ac3a9183a')\"\n",
              "              title=\"Convert this dataframe to an interactive table.\"\n",
              "              style=\"display:none;\">\n",
              "        \n",
              "  <svg xmlns=\"http://www.w3.org/2000/svg\" height=\"24px\"viewBox=\"0 0 24 24\"\n",
              "       width=\"24px\">\n",
              "    <path d=\"M0 0h24v24H0V0z\" fill=\"none\"/>\n",
              "    <path d=\"M18.56 5.44l.94 2.06.94-2.06 2.06-.94-2.06-.94-.94-2.06-.94 2.06-2.06.94zm-11 1L8.5 8.5l.94-2.06 2.06-.94-2.06-.94L8.5 2.5l-.94 2.06-2.06.94zm10 10l.94 2.06.94-2.06 2.06-.94-2.06-.94-.94-2.06-.94 2.06-2.06.94z\"/><path d=\"M17.41 7.96l-1.37-1.37c-.4-.4-.92-.59-1.43-.59-.52 0-1.04.2-1.43.59L10.3 9.45l-7.72 7.72c-.78.78-.78 2.05 0 2.83L4 21.41c.39.39.9.59 1.41.59.51 0 1.02-.2 1.41-.59l7.78-7.78 2.81-2.81c.8-.78.8-2.07 0-2.86zM5.41 20L4 18.59l7.72-7.72 1.47 1.35L5.41 20z\"/>\n",
              "  </svg>\n",
              "      </button>\n",
              "      \n",
              "  <style>\n",
              "    .colab-df-container {\n",
              "      display:flex;\n",
              "      flex-wrap:wrap;\n",
              "      gap: 12px;\n",
              "    }\n",
              "\n",
              "    .colab-df-convert {\n",
              "      background-color: #E8F0FE;\n",
              "      border: none;\n",
              "      border-radius: 50%;\n",
              "      cursor: pointer;\n",
              "      display: none;\n",
              "      fill: #1967D2;\n",
              "      height: 32px;\n",
              "      padding: 0 0 0 0;\n",
              "      width: 32px;\n",
              "    }\n",
              "\n",
              "    .colab-df-convert:hover {\n",
              "      background-color: #E2EBFA;\n",
              "      box-shadow: 0px 1px 2px rgba(60, 64, 67, 0.3), 0px 1px 3px 1px rgba(60, 64, 67, 0.15);\n",
              "      fill: #174EA6;\n",
              "    }\n",
              "\n",
              "    [theme=dark] .colab-df-convert {\n",
              "      background-color: #3B4455;\n",
              "      fill: #D2E3FC;\n",
              "    }\n",
              "\n",
              "    [theme=dark] .colab-df-convert:hover {\n",
              "      background-color: #434B5C;\n",
              "      box-shadow: 0px 1px 3px 1px rgba(0, 0, 0, 0.15);\n",
              "      filter: drop-shadow(0px 1px 2px rgba(0, 0, 0, 0.3));\n",
              "      fill: #FFFFFF;\n",
              "    }\n",
              "  </style>\n",
              "\n",
              "      <script>\n",
              "        const buttonEl =\n",
              "          document.querySelector('#df-d2fd9eb2-0c59-4e87-8151-b04ac3a9183a button.colab-df-convert');\n",
              "        buttonEl.style.display =\n",
              "          google.colab.kernel.accessAllowed ? 'block' : 'none';\n",
              "\n",
              "        async function convertToInteractive(key) {\n",
              "          const element = document.querySelector('#df-d2fd9eb2-0c59-4e87-8151-b04ac3a9183a');\n",
              "          const dataTable =\n",
              "            await google.colab.kernel.invokeFunction('convertToInteractive',\n",
              "                                                     [key], {});\n",
              "          if (!dataTable) return;\n",
              "\n",
              "          const docLinkHtml = 'Like what you see? Visit the ' +\n",
              "            '<a target=\"_blank\" href=https://colab.research.google.com/notebooks/data_table.ipynb>data table notebook</a>'\n",
              "            + ' to learn more about interactive tables.';\n",
              "          element.innerHTML = '';\n",
              "          dataTable['output_type'] = 'display_data';\n",
              "          await google.colab.output.renderOutput(dataTable, element);\n",
              "          const docLink = document.createElement('div');\n",
              "          docLink.innerHTML = docLinkHtml;\n",
              "          element.appendChild(docLink);\n",
              "        }\n",
              "      </script>\n",
              "    </div>\n",
              "  </div>\n",
              "  "
            ]
          },
          "metadata": {},
          "execution_count": 14
        }
      ],
      "source": [
        "df.head(5)"
      ]
    },
    {
      "cell_type": "code",
      "source": [
        "df.describe()"
      ],
      "metadata": {
        "colab": {
          "base_uri": "https://localhost:8080/",
          "height": 300
        },
        "id": "PDLdDRgoJzPN",
        "outputId": "81366472-74e6-4d4e-a2d9-ba5ef2b368d0"
      },
      "id": "PDLdDRgoJzPN",
      "execution_count": 15,
      "outputs": [
        {
          "output_type": "execute_result",
          "data": {
            "text/plain": [
              "       serviceCharge  telekomUploadSpeed     totalRent\n",
              "count  268850.000000       268850.000000  2.688500e+05\n",
              "mean      150.789643           30.193975  8.634546e+02\n",
              "std       304.319451           15.729180  3.063164e+04\n",
              "min         0.000000            1.000000  0.000000e+00\n",
              "25%        96.000000           10.000000  4.950000e+02\n",
              "50%       135.000000           40.000000  6.500000e+02\n",
              "75%       185.000000           40.000000  9.000000e+02\n",
              "max    146118.000000          100.000000  1.575154e+07"
            ],
            "text/html": [
              "\n",
              "  <div id=\"df-2cca7c70-232b-4d4b-80d0-4de5a5893bfd\">\n",
              "    <div class=\"colab-df-container\">\n",
              "      <div>\n",
              "<style scoped>\n",
              "    .dataframe tbody tr th:only-of-type {\n",
              "        vertical-align: middle;\n",
              "    }\n",
              "\n",
              "    .dataframe tbody tr th {\n",
              "        vertical-align: top;\n",
              "    }\n",
              "\n",
              "    .dataframe thead th {\n",
              "        text-align: right;\n",
              "    }\n",
              "</style>\n",
              "<table border=\"1\" class=\"dataframe\">\n",
              "  <thead>\n",
              "    <tr style=\"text-align: right;\">\n",
              "      <th></th>\n",
              "      <th>serviceCharge</th>\n",
              "      <th>telekomUploadSpeed</th>\n",
              "      <th>totalRent</th>\n",
              "    </tr>\n",
              "  </thead>\n",
              "  <tbody>\n",
              "    <tr>\n",
              "      <th>count</th>\n",
              "      <td>268850.000000</td>\n",
              "      <td>268850.000000</td>\n",
              "      <td>2.688500e+05</td>\n",
              "    </tr>\n",
              "    <tr>\n",
              "      <th>mean</th>\n",
              "      <td>150.789643</td>\n",
              "      <td>30.193975</td>\n",
              "      <td>8.634546e+02</td>\n",
              "    </tr>\n",
              "    <tr>\n",
              "      <th>std</th>\n",
              "      <td>304.319451</td>\n",
              "      <td>15.729180</td>\n",
              "      <td>3.063164e+04</td>\n",
              "    </tr>\n",
              "    <tr>\n",
              "      <th>min</th>\n",
              "      <td>0.000000</td>\n",
              "      <td>1.000000</td>\n",
              "      <td>0.000000e+00</td>\n",
              "    </tr>\n",
              "    <tr>\n",
              "      <th>25%</th>\n",
              "      <td>96.000000</td>\n",
              "      <td>10.000000</td>\n",
              "      <td>4.950000e+02</td>\n",
              "    </tr>\n",
              "    <tr>\n",
              "      <th>50%</th>\n",
              "      <td>135.000000</td>\n",
              "      <td>40.000000</td>\n",
              "      <td>6.500000e+02</td>\n",
              "    </tr>\n",
              "    <tr>\n",
              "      <th>75%</th>\n",
              "      <td>185.000000</td>\n",
              "      <td>40.000000</td>\n",
              "      <td>9.000000e+02</td>\n",
              "    </tr>\n",
              "    <tr>\n",
              "      <th>max</th>\n",
              "      <td>146118.000000</td>\n",
              "      <td>100.000000</td>\n",
              "      <td>1.575154e+07</td>\n",
              "    </tr>\n",
              "  </tbody>\n",
              "</table>\n",
              "</div>\n",
              "      <button class=\"colab-df-convert\" onclick=\"convertToInteractive('df-2cca7c70-232b-4d4b-80d0-4de5a5893bfd')\"\n",
              "              title=\"Convert this dataframe to an interactive table.\"\n",
              "              style=\"display:none;\">\n",
              "        \n",
              "  <svg xmlns=\"http://www.w3.org/2000/svg\" height=\"24px\"viewBox=\"0 0 24 24\"\n",
              "       width=\"24px\">\n",
              "    <path d=\"M0 0h24v24H0V0z\" fill=\"none\"/>\n",
              "    <path d=\"M18.56 5.44l.94 2.06.94-2.06 2.06-.94-2.06-.94-.94-2.06-.94 2.06-2.06.94zm-11 1L8.5 8.5l.94-2.06 2.06-.94-2.06-.94L8.5 2.5l-.94 2.06-2.06.94zm10 10l.94 2.06.94-2.06 2.06-.94-2.06-.94-.94-2.06-.94 2.06-2.06.94z\"/><path d=\"M17.41 7.96l-1.37-1.37c-.4-.4-.92-.59-1.43-.59-.52 0-1.04.2-1.43.59L10.3 9.45l-7.72 7.72c-.78.78-.78 2.05 0 2.83L4 21.41c.39.39.9.59 1.41.59.51 0 1.02-.2 1.41-.59l7.78-7.78 2.81-2.81c.8-.78.8-2.07 0-2.86zM5.41 20L4 18.59l7.72-7.72 1.47 1.35L5.41 20z\"/>\n",
              "  </svg>\n",
              "      </button>\n",
              "      \n",
              "  <style>\n",
              "    .colab-df-container {\n",
              "      display:flex;\n",
              "      flex-wrap:wrap;\n",
              "      gap: 12px;\n",
              "    }\n",
              "\n",
              "    .colab-df-convert {\n",
              "      background-color: #E8F0FE;\n",
              "      border: none;\n",
              "      border-radius: 50%;\n",
              "      cursor: pointer;\n",
              "      display: none;\n",
              "      fill: #1967D2;\n",
              "      height: 32px;\n",
              "      padding: 0 0 0 0;\n",
              "      width: 32px;\n",
              "    }\n",
              "\n",
              "    .colab-df-convert:hover {\n",
              "      background-color: #E2EBFA;\n",
              "      box-shadow: 0px 1px 2px rgba(60, 64, 67, 0.3), 0px 1px 3px 1px rgba(60, 64, 67, 0.15);\n",
              "      fill: #174EA6;\n",
              "    }\n",
              "\n",
              "    [theme=dark] .colab-df-convert {\n",
              "      background-color: #3B4455;\n",
              "      fill: #D2E3FC;\n",
              "    }\n",
              "\n",
              "    [theme=dark] .colab-df-convert:hover {\n",
              "      background-color: #434B5C;\n",
              "      box-shadow: 0px 1px 3px 1px rgba(0, 0, 0, 0.15);\n",
              "      filter: drop-shadow(0px 1px 2px rgba(0, 0, 0, 0.3));\n",
              "      fill: #FFFFFF;\n",
              "    }\n",
              "  </style>\n",
              "\n",
              "      <script>\n",
              "        const buttonEl =\n",
              "          document.querySelector('#df-2cca7c70-232b-4d4b-80d0-4de5a5893bfd button.colab-df-convert');\n",
              "        buttonEl.style.display =\n",
              "          google.colab.kernel.accessAllowed ? 'block' : 'none';\n",
              "\n",
              "        async function convertToInteractive(key) {\n",
              "          const element = document.querySelector('#df-2cca7c70-232b-4d4b-80d0-4de5a5893bfd');\n",
              "          const dataTable =\n",
              "            await google.colab.kernel.invokeFunction('convertToInteractive',\n",
              "                                                     [key], {});\n",
              "          if (!dataTable) return;\n",
              "\n",
              "          const docLinkHtml = 'Like what you see? Visit the ' +\n",
              "            '<a target=\"_blank\" href=https://colab.research.google.com/notebooks/data_table.ipynb>data table notebook</a>'\n",
              "            + ' to learn more about interactive tables.';\n",
              "          element.innerHTML = '';\n",
              "          dataTable['output_type'] = 'display_data';\n",
              "          await google.colab.output.renderOutput(dataTable, element);\n",
              "          const docLink = document.createElement('div');\n",
              "          docLink.innerHTML = docLinkHtml;\n",
              "          element.appendChild(docLink);\n",
              "        }\n",
              "      </script>\n",
              "    </div>\n",
              "  </div>\n",
              "  "
            ]
          },
          "metadata": {},
          "execution_count": 15
        }
      ]
    },
    {
      "cell_type": "markdown",
      "id": "c97b4551",
      "metadata": {
        "papermill": {
          "duration": 0.087872,
          "end_time": "2022-05-07T10:02:57.992997",
          "exception": false,
          "start_time": "2022-05-07T10:02:57.905125",
          "status": "completed"
        },
        "tags": [],
        "id": "c97b4551"
      },
      "source": [
        "# Outliers"
      ]
    },
    {
      "cell_type": "code",
      "execution_count": 16,
      "id": "2a079668",
      "metadata": {
        "execution": {
          "iopub.execute_input": "2022-05-07T10:02:58.174376Z",
          "iopub.status.busy": "2022-05-07T10:02:58.173478Z",
          "iopub.status.idle": "2022-05-07T10:02:58.196533Z",
          "shell.execute_reply": "2022-05-07T10:02:58.195983Z"
        },
        "papermill": {
          "duration": 0.117524,
          "end_time": "2022-05-07T10:02:58.198219",
          "exception": false,
          "start_time": "2022-05-07T10:02:58.080695",
          "status": "completed"
        },
        "tags": [],
        "colab": {
          "base_uri": "https://localhost:8080/"
        },
        "id": "2a079668",
        "outputId": "62237c54-6708-4035-dca5-c8e5bd5bd0e8"
      },
      "outputs": [
        {
          "output_type": "execute_result",
          "data": {
            "text/plain": [
              "serviceCharge         197151.674512\n",
              "telekomUploadSpeed        -0.765917\n",
              "totalRent             260044.391607\n",
              "dtype: float64"
            ]
          },
          "metadata": {},
          "execution_count": 16
        }
      ],
      "source": [
        "# Return unbiased kurtosis over requested axis using Fisher's definition of kurtosis (kurtosis of normal == 0.0).\n",
        "# The result is normalized by N-1\n",
        "kurt = df.kurt(numeric_only=True)[:]\n",
        "kurt"
      ]
    },
    {
      "cell_type": "code",
      "execution_count": 17,
      "id": "ba1d4480",
      "metadata": {
        "execution": {
          "iopub.execute_input": "2022-05-07T10:02:58.375427Z",
          "iopub.status.busy": "2022-05-07T10:02:58.374916Z",
          "iopub.status.idle": "2022-05-07T10:02:58.378380Z",
          "shell.execute_reply": "2022-05-07T10:02:58.377628Z"
        },
        "papermill": {
          "duration": 0.094332,
          "end_time": "2022-05-07T10:02:58.380140",
          "exception": false,
          "start_time": "2022-05-07T10:02:58.285808",
          "status": "completed"
        },
        "tags": [],
        "id": "ba1d4480"
      },
      "outputs": [],
      "source": [
        "outliers = ['serviceCharge', 'totalRent']"
      ]
    },
    {
      "cell_type": "code",
      "execution_count": 18,
      "id": "3972dfb9",
      "metadata": {
        "execution": {
          "iopub.execute_input": "2022-05-07T10:02:58.557023Z",
          "iopub.status.busy": "2022-05-07T10:02:58.556747Z",
          "iopub.status.idle": "2022-05-07T10:02:59.949816Z",
          "shell.execute_reply": "2022-05-07T10:02:59.948905Z"
        },
        "papermill": {
          "duration": 1.484202,
          "end_time": "2022-05-07T10:02:59.951823",
          "exception": false,
          "start_time": "2022-05-07T10:02:58.467621",
          "status": "completed"
        },
        "tags": [],
        "colab": {
          "base_uri": "https://localhost:8080/",
          "height": 524
        },
        "id": "3972dfb9",
        "outputId": "22160567-5a08-4993-fae2-35ba083b3bdd"
      },
      "outputs": [
        {
          "output_type": "display_data",
          "data": {
            "text/plain": [
              "<Figure size 288x288 with 1 Axes>"
            ],
            "image/png": "[encoded data removed]"
          },
          "metadata": {
            "needs_background": "light"
          }
        },
        {
          "output_type": "display_data",
          "data": {
            "text/plain": [
              "<Figure size 288x288 with 1 Axes>"
            ],
            "image/png": "[encoded data removed]"
          },
          "metadata": {
            "needs_background": "light"
          }
        }
      ],
      "source": [
        "for col in outliers:\n",
        "    plt.figure(figsize=(4, 4))\n",
        "    df.boxplot(column=[col])"
      ]
    },
    {
      "cell_type": "markdown",
      "source": [
        "**Robust Scaler**\n",
        "\n",
        "IQR = Q3 – Q1   \n",
        "\n",
        "x scaled  = (x – Q1)/(Q3 – Q1)"
      ],
      "metadata": {
        "id": "BjzCXv_uKKNH"
      },
      "id": "BjzCXv_uKKNH"
    },
    {
      "cell_type": "markdown",
      "source": [
        "![image.png](data:image/png;base64,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)"
      ],
      "metadata": {
        "id": "a_McpmVQLMff"
      },
      "id": "a_McpmVQLMff"
    },
    {
      "cell_type": "code",
      "execution_count": 19,
      "id": "5a1c1d4c",
      "metadata": {
        "execution": {
          "iopub.execute_input": "2022-05-07T10:03:00.133380Z",
          "iopub.status.busy": "2022-05-07T10:03:00.133131Z",
          "iopub.status.idle": "2022-05-07T10:03:00.138332Z",
          "shell.execute_reply": "2022-05-07T10:03:00.137489Z"
        },
        "papermill": {
          "duration": 0.098932,
          "end_time": "2022-05-07T10:03:00.140240",
          "exception": false,
          "start_time": "2022-05-07T10:03:00.041308",
          "status": "completed"
        },
        "tags": [],
        "id": "5a1c1d4c"
      },
      "outputs": [],
      "source": [
        "def outliers_iqr(ys):\n",
        "    quartile_1, quartile_3 = np.percentile(ys, [25, 75])\n",
        "    iqr = quartile_3 - quartile_1\n",
        "    lower_bound = quartile_1 - (iqr * 1.5)\n",
        "    upper_bound = quartile_3 + (iqr * 1.5)\n",
        "    return np.where((ys > upper_bound) | (ys < lower_bound))"
      ]
    },
    {
      "cell_type": "code",
      "execution_count": 20,
      "id": "4f0e5870",
      "metadata": {
        "execution": {
          "iopub.execute_input": "2022-05-07T10:03:00.324502Z",
          "iopub.status.busy": "2022-05-07T10:03:00.323898Z",
          "iopub.status.idle": "2022-05-07T10:03:00.344572Z",
          "shell.execute_reply": "2022-05-07T10:03:00.343480Z"
        },
        "papermill": {
          "duration": 0.11409,
          "end_time": "2022-05-07T10:03:00.346651",
          "exception": false,
          "start_time": "2022-05-07T10:03:00.232561",
          "status": "completed"
        },
        "tags": [],
        "colab": {
          "base_uri": "https://localhost:8080/"
        },
        "id": "4f0e5870",
        "outputId": "b6aaeb25-cc04-42cf-8775-19216a1c1e0a"
      },
      "outputs": [
        {
          "output_type": "stream",
          "name": "stdout",
          "text": [
            "serviceCharge: 10271\n",
            "totalRent: 20025\n"
          ]
        }
      ],
      "source": [
        "for col in outliers:\n",
        "    print(f'{col}: {len(outliers_iqr(df[col])[0])}')"
      ]
    },
    {
      "cell_type": "code",
      "execution_count": 21,
      "id": "64c5bf8c",
      "metadata": {
        "execution": {
          "iopub.execute_input": "2022-05-07T10:03:00.528962Z",
          "iopub.status.busy": "2022-05-07T10:03:00.528391Z",
          "iopub.status.idle": "2022-05-07T10:03:00.533750Z",
          "shell.execute_reply": "2022-05-07T10:03:00.533185Z"
        },
        "papermill": {
          "duration": 0.098408,
          "end_time": "2022-05-07T10:03:00.535621",
          "exception": false,
          "start_time": "2022-05-07T10:03:00.437213",
          "status": "completed"
        },
        "tags": [],
        "id": "64c5bf8c"
      },
      "outputs": [],
      "source": [
        "def outliers_z_score(ys):\n",
        "    threshold = 3\n",
        "    mean_y = np.mean(ys)\n",
        "    stdev_y = np.std(ys)\n",
        "    z_scores = [(y - mean_y) / stdev_y for y in ys]\n",
        "    return np.where(np.abs(z_scores) > threshold)"
      ]
    },
    {
      "cell_type": "code",
      "execution_count": 22,
      "id": "b63bdde2",
      "metadata": {
        "execution": {
          "iopub.execute_input": "2022-05-07T10:03:00.717648Z",
          "iopub.status.busy": "2022-05-07T10:03:00.717193Z",
          "iopub.status.idle": "2022-05-07T10:03:00.979725Z",
          "shell.execute_reply": "2022-05-07T10:03:00.978894Z"
        },
        "papermill": {
          "duration": 0.356642,
          "end_time": "2022-05-07T10:03:00.982300",
          "exception": false,
          "start_time": "2022-05-07T10:03:00.625658",
          "status": "completed"
        },
        "tags": [],
        "colab": {
          "base_uri": "https://localhost:8080/"
        },
        "id": "b63bdde2",
        "outputId": "c223389b-47c1-4881-ddd9-f70769ec5d6c"
      },
      "outputs": [
        {
          "output_type": "stream",
          "name": "stdout",
          "text": [
            "serviceCharge: 98\n",
            "totalRent: 6\n"
          ]
        }
      ],
      "source": [
        "for col in outliers:\n",
        "    print(f'{col}: {len(outliers_z_score(df[col])[0])}')"
      ]
    },
    {
      "cell_type": "markdown",
      "source": [
        "deleting outliers"
      ],
      "metadata": {
        "id": "SimfAssXMb9D"
      },
      "id": "SimfAssXMb9D"
    },
    {
      "cell_type": "code",
      "execution_count": 23,
      "id": "1ae350e6",
      "metadata": {
        "execution": {
          "iopub.execute_input": "2022-05-07T10:03:01.164539Z",
          "iopub.status.busy": "2022-05-07T10:03:01.164240Z",
          "iopub.status.idle": "2022-05-07T10:03:01.215377Z",
          "shell.execute_reply": "2022-05-07T10:03:01.214611Z"
        },
        "papermill": {
          "duration": 0.144601,
          "end_time": "2022-05-07T10:03:01.217631",
          "exception": false,
          "start_time": "2022-05-07T10:03:01.073030",
          "status": "completed"
        },
        "tags": [],
        "id": "1ae350e6"
      },
      "outputs": [],
      "source": [
        "for i in outliers:\n",
        "    quartile_1, quartile_3 = np.percentile(df[i], [25, 75])\n",
        "    iqr = quartile_3 - quartile_1\n",
        "    lower_bound = quartile_1 - (iqr * 1.5)\n",
        "    upper_bound = quartile_3 + (iqr * 1.5)\n",
        "    df = df[df[i]<upper_bound]\n",
        "    df = df[df[i]>lower_bound]"
      ]
    },
    {
      "cell_type": "code",
      "execution_count": 162,
      "id": "def6d82c",
      "metadata": {
        "execution": {
          "iopub.execute_input": "2022-05-07T10:03:01.399436Z",
          "iopub.status.busy": "2022-05-07T10:03:01.399180Z",
          "iopub.status.idle": "2022-05-07T10:03:01.402634Z",
          "shell.execute_reply": "2022-05-07T10:03:01.401873Z"
        },
        "papermill": {
          "duration": 0.096199,
          "end_time": "2022-05-07T10:03:01.404591",
          "exception": false,
          "start_time": "2022-05-07T10:03:01.308392",
          "status": "completed"
        },
        "tags": [],
        "id": "def6d82c"
      },
      "outputs": [],
      "source": [
        "#for i in outliers:\n",
        "#     mean_y = np.mean(df[i])\n",
        "#     stdev_y = np.std(df[i])\n",
        "#     lower_bound = mean_y - (3 * stdev_y)\n",
        "#     upper_bound = mean_y + (3 * stdev_y)\n",
        "#     df = df[df[i]<upper_bound]\n",
        "#     df = df[df[i]>lower_bound]"
      ]
    },
    {
      "cell_type": "markdown",
      "id": "3b97ffcd",
      "metadata": {
        "papermill": {
          "duration": 0.089139,
          "end_time": "2022-05-07T10:03:01.584348",
          "exception": false,
          "start_time": "2022-05-07T10:03:01.495209",
          "status": "completed"
        },
        "tags": [],
        "id": "3b97ffcd"
      },
      "source": [
        "# Feature engineering"
      ]
    },
    {
      "cell_type": "code",
      "execution_count": 24,
      "id": "3ec765f2",
      "metadata": {
        "execution": {
          "iopub.execute_input": "2022-05-07T10:03:01.764445Z",
          "iopub.status.busy": "2022-05-07T10:03:01.763901Z",
          "iopub.status.idle": "2022-05-07T10:03:01.808218Z",
          "shell.execute_reply": "2022-05-07T10:03:01.807486Z"
        },
        "papermill": {
          "duration": 0.136387,
          "end_time": "2022-05-07T10:03:01.810120",
          "exception": false,
          "start_time": "2022-05-07T10:03:01.673733",
          "status": "completed"
        },
        "tags": [],
        "colab": {
          "base_uri": "https://localhost:8080/"
        },
        "id": "3ec765f2",
        "outputId": "1f23b07d-e1da-4500-9f0f-361e9408156d"
      },
      "outputs": [
        {
          "output_type": "execute_result",
          "data": {
            "text/plain": [
              "central_heating                   159389\n",
              "district_heating                   22260\n",
              "gas_heating                        18191\n",
              "self_contained_central_heating     18058\n",
              "floor_heating                      12100\n",
              "oil_heating                         4642\n",
              "heat_pump                           2175\n",
              "combined_heat_and_power_plant       1519\n",
              "night_storage_heater                1322\n",
              "electric_heating                     871\n",
              "wood_pellet_heating                  780\n",
              "stove_heating                        335\n",
              "solar_heating                        128\n",
              "Name: heatingType, dtype: int64"
            ]
          },
          "metadata": {},
          "execution_count": 24
        }
      ],
      "source": [
        "df.heatingType.value_counts()"
      ]
    },
    {
      "cell_type": "code",
      "execution_count": 25,
      "id": "ebb0840e",
      "metadata": {
        "execution": {
          "iopub.execute_input": "2022-05-07T10:03:01.994889Z",
          "iopub.status.busy": "2022-05-07T10:03:01.994596Z",
          "iopub.status.idle": "2022-05-07T10:03:02.269491Z",
          "shell.execute_reply": "2022-05-07T10:03:02.268881Z"
        },
        "papermill": {
          "duration": 0.370654,
          "end_time": "2022-05-07T10:03:02.271501",
          "exception": false,
          "start_time": "2022-05-07T10:03:01.900847",
          "status": "completed"
        },
        "tags": [],
        "colab": {
          "base_uri": "https://localhost:8080/",
          "height": 621
        },
        "id": "ebb0840e",
        "outputId": "14f58b26-6169-4cf5-d90c-fce5dc6eb2dc"
      },
      "outputs": [
        {
          "output_type": "display_data",
          "data": {
            "text/plain": [
              "<Figure size 720x720 with 1 Axes>"
            ],
            "image/png": "[encoded data removed]"
          },
          "metadata": {
            "needs_background": "light"
          }
        }
      ],
      "source": [
        "plt.figure(figsize=(10, 10))\n",
        "data = df.heatingType.value_counts()[:10]\n",
        "x = list(data.index)\n",
        "y = list(data.values)\n",
        "x.reverse()\n",
        "y.reverse()\n",
        "\n",
        "plt.title(\"heatingType\")\n",
        "plt.ylabel(\"heatingType\")\n",
        "plt.xlabel(\"Number\")\n",
        "\n",
        "plt.barh(x, y)\n",
        "plt.show()"
      ]
    },
    {
      "cell_type": "code",
      "execution_count": 26,
      "id": "b804293c",
      "metadata": {
        "execution": {
          "iopub.execute_input": "2022-05-07T10:03:02.453976Z",
          "iopub.status.busy": "2022-05-07T10:03:02.453502Z",
          "iopub.status.idle": "2022-05-07T10:03:02.540379Z",
          "shell.execute_reply": "2022-05-07T10:03:02.539469Z"
        },
        "papermill": {
          "duration": 0.180954,
          "end_time": "2022-05-07T10:03:02.542797",
          "exception": false,
          "start_time": "2022-05-07T10:03:02.361843",
          "status": "completed"
        },
        "tags": [],
        "id": "b804293c"
      },
      "outputs": [],
      "source": [
        "def filter(x):\n",
        "    if x in [\n",
        "    'oil_heating', 'combined_heat_and_power_plant', 'heat_pump', 'night_storage_heater', \n",
        "    'wood_pellet_heating', 'electric_heating', 'stove_heating', 'solar_heating'\n",
        "] :\n",
        "        x = 'other'\n",
        "        return x\n",
        "    else:\n",
        "        return x\n",
        "df.heatingType = df.heatingType.apply(filter)"
      ]
    },
    {
      "cell_type": "code",
      "execution_count": 27,
      "id": "9fe9bb70",
      "metadata": {
        "execution": {
          "iopub.execute_input": "2022-05-07T10:03:02.725613Z",
          "iopub.status.busy": "2022-05-07T10:03:02.724898Z",
          "iopub.status.idle": "2022-05-07T10:03:02.978358Z",
          "shell.execute_reply": "2022-05-07T10:03:02.977754Z"
        },
        "papermill": {
          "duration": 0.347025,
          "end_time": "2022-05-07T10:03:02.980085",
          "exception": false,
          "start_time": "2022-05-07T10:03:02.633060",
          "status": "completed"
        },
        "tags": [],
        "colab": {
          "base_uri": "https://localhost:8080/",
          "height": 621
        },
        "id": "9fe9bb70",
        "outputId": "8964bfab-df5f-4d03-bb92-a82fa92ffd3e"
      },
      "outputs": [
        {
          "output_type": "display_data",
          "data": {
            "text/plain": [
              "<Figure size 720x720 with 1 Axes>"
            ],
            "image/png": "[encoded data removed]"
          },
          "metadata": {
            "needs_background": "light"
          }
        }
      ],
      "source": [
        "plt.figure(figsize=(10, 10))\n",
        "data = df.heatingType.value_counts()[:10]\n",
        "x = list(data.index)\n",
        "y = list(data.values)\n",
        "x.reverse()\n",
        "y.reverse()\n",
        "\n",
        "plt.title(\"heatingType\")\n",
        "plt.ylabel(\"heatingType\")\n",
        "plt.xlabel(\"Number\")\n",
        "\n",
        "plt.barh(x, y)\n",
        "plt.show()"
      ]
    },
    {
      "cell_type": "code",
      "execution_count": 28,
      "id": "42bdaae8",
      "metadata": {
        "execution": {
          "iopub.execute_input": "2022-05-07T10:03:03.166313Z",
          "iopub.status.busy": "2022-05-07T10:03:03.165818Z",
          "iopub.status.idle": "2022-05-07T10:03:03.719043Z",
          "shell.execute_reply": "2022-05-07T10:03:03.718477Z"
        },
        "papermill": {
          "duration": 0.647674,
          "end_time": "2022-05-07T10:03:03.720797",
          "exception": false,
          "start_time": "2022-05-07T10:03:03.073123",
          "status": "completed"
        },
        "tags": [],
        "colab": {
          "base_uri": "https://localhost:8080/",
          "height": 608
        },
        "id": "42bdaae8",
        "outputId": "5345bec7-0ef9-4b46-f9d5-b76006387d43"
      },
      "outputs": [
        {
          "output_type": "display_data",
          "data": {
            "text/plain": [
              "<Figure size 720x720 with 4 Axes>"
            ],
            "image/png": "[encoded data removed]"
          },
          "metadata": {
            "needs_background": "light"
          }
        }
      ],
      "source": [
        "# Visualizing the distribution for every \"feature\"\n",
        "df.hist(edgecolor=\"black\", linewidth=1.2, figsize=(10, 10))\n",
        "plt.show()"
      ]
    },
    {
      "cell_type": "code",
      "source": [
        "import matplotlib.pyplot as plt\n",
        "# set a grey background (use sns.set_theme() if seaborn version 0.11.0 or above) \n",
        "#sns.set(style=\"darkgrid\")\n",
        "fig, axs = plt.subplots(1,3, figsize=(18,4), sharey=True)\n",
        "\n",
        "sns.histplot(data=df, x=\"serviceCharge\", kde=True, color=\"red\", ax=axs[0],stat='count', bins='auto',  \n",
        "            discrete=None, cumulative=True, common_bins=True )\n",
        "sns.histplot(data=df, x=\"telekomUploadSpeed\", kde=True, color=\"teal\", ax=axs[1],stat='count', bins='auto',  \n",
        "            discrete=None, cumulative=True, common_bins=True)\n",
        "sns.histplot(data=df, x=\"heatingType\", kde=True, color=\"skyblue\", ax=axs[2],stat='count', bins='auto',  \n",
        "            discrete=None, cumulative=True, common_bins=True)"
      ],
      "metadata": {
        "colab": {
          "base_uri": "https://localhost:8080/",
          "height": 298
        },
        "id": "x43kVSJLfWOZ",
        "outputId": "0b5ff9c3-2ce0-469f-ac24-aa9082b0b7b6"
      },
      "id": "x43kVSJLfWOZ",
      "execution_count": 29,
      "outputs": [
        {
          "output_type": "execute_result",
          "data": {
            "text/plain": [
              "<matplotlib.axes._subplots.AxesSubplot at 0x7f1dc92ef0d0>"
            ]
          },
          "metadata": {},
          "execution_count": 29
        },
        {
          "output_type": "display_data",
          "data": {
            "text/plain": [
              "<Figure size 1296x288 with 3 Axes>"
            ],
            "image/png": "[encoded data removed]"
          },
          "metadata": {
            "needs_background": "light"
          }
        }
      ]
    },
    {
      "cell_type": "code",
      "execution_count": 30,
      "id": "8b8672d3",
      "metadata": {
        "execution": {
          "iopub.execute_input": "2022-05-07T10:03:03.910395Z",
          "iopub.status.busy": "2022-05-07T10:03:03.909882Z",
          "iopub.status.idle": "2022-05-07T10:03:03.931425Z",
          "shell.execute_reply": "2022-05-07T10:03:03.930892Z"
        },
        "papermill": {
          "duration": 0.118819,
          "end_time": "2022-05-07T10:03:03.933103",
          "exception": false,
          "start_time": "2022-05-07T10:03:03.814284",
          "status": "completed"
        },
        "tags": [],
        "id": "8b8672d3"
      },
      "outputs": [],
      "source": [
        "corr=df.corr()"
      ]
    },
    {
      "cell_type": "code",
      "source": [
        "f,ax=plt.subplots(figsize=(5,5))\n",
        "sns.heatmap(corr, square = True ,annot = True)"
      ],
      "metadata": {
        "colab": {
          "base_uri": "https://localhost:8080/",
          "height": 413
        },
        "id": "nYo1zubPeioi",
        "outputId": "962f3602-6c90-46c0-de3a-6082b1f17863"
      },
      "id": "nYo1zubPeioi",
      "execution_count": 31,
      "outputs": [
        {
          "output_type": "execute_result",
          "data": {
            "text/plain": [
              "<matplotlib.axes._subplots.AxesSubplot at 0x7f1dc4804e90>"
            ]
          },
          "metadata": {},
          "execution_count": 31
        },
        {
          "output_type": "display_data",
          "data": {
            "text/plain": [
              "<Figure size 360x360 with 2 Axes>"
            ],
            "image/png": "[encoded data removed]"
          },
          "metadata": {
            "needs_background": "light"
          }
        }
      ]
    },
    {
      "cell_type": "code",
      "execution_count": 33,
      "id": "9d68cc23",
      "metadata": {
        "execution": {
          "iopub.execute_input": "2022-05-07T10:03:04.121364Z",
          "iopub.status.busy": "2022-05-07T10:03:04.120856Z",
          "iopub.status.idle": "2022-05-07T10:03:04.128572Z",
          "shell.execute_reply": "2022-05-07T10:03:04.127993Z"
        },
        "papermill": {
          "duration": 0.104347,
          "end_time": "2022-05-07T10:03:04.130507",
          "exception": false,
          "start_time": "2022-05-07T10:03:04.026160",
          "status": "completed"
        },
        "tags": [],
        "id": "9d68cc23"
      },
      "outputs": [],
      "source": [
        "df_copy = df.copy()"
      ]
    },
    {
      "cell_type": "code",
      "execution_count": 34,
      "id": "47594183",
      "metadata": {
        "execution": {
          "iopub.execute_input": "2022-05-07T10:03:04.322220Z",
          "iopub.status.busy": "2022-05-07T10:03:04.321447Z",
          "iopub.status.idle": "2022-05-07T10:03:04.348047Z",
          "shell.execute_reply": "2022-05-07T10:03:04.347376Z"
        },
        "papermill": {
          "duration": 0.124947,
          "end_time": "2022-05-07T10:03:04.350350",
          "exception": false,
          "start_time": "2022-05-07T10:03:04.225403",
          "status": "completed"
        },
        "tags": [],
        "id": "47594183"
      },
      "outputs": [],
      "source": [
        "df_copy['serviceCharge-2'] = df.serviceCharge ** 2\n",
        "df_copy['telekomUploadSpeed-2'] = df.telekomUploadSpeed ** 2\n",
        "df_copy['serviceCharge-3'] = df.serviceCharge ** 3\n",
        "df_copy['telekomUploadSpeed-3'] = df.telekomUploadSpeed ** 3"
      ]
    },
    {
      "cell_type": "code",
      "execution_count": 35,
      "id": "1c11a644",
      "metadata": {
        "execution": {
          "iopub.execute_input": "2022-05-07T10:03:04.540263Z",
          "iopub.status.busy": "2022-05-07T10:03:04.539466Z",
          "iopub.status.idle": "2022-05-07T10:03:04.607188Z",
          "shell.execute_reply": "2022-05-07T10:03:04.606383Z"
        },
        "papermill": {
          "duration": 0.164773,
          "end_time": "2022-05-07T10:03:04.609286",
          "exception": false,
          "start_time": "2022-05-07T10:03:04.444513",
          "status": "completed"
        },
        "tags": [],
        "id": "1c11a644"
      },
      "outputs": [],
      "source": [
        "corr2=df_copy.corr()"
      ]
    },
    {
      "cell_type": "code",
      "source": [
        "f,ax=plt.subplots(figsize=(15,15))\n",
        "sns.heatmap(corr2, square = True ,annot = True)"
      ],
      "metadata": {
        "colab": {
          "base_uri": "https://localhost:8080/",
          "height": 918
        },
        "id": "Y9cPzfQ6ezQM",
        "outputId": "86f7f542-45cb-4cb4-e998-5d8494f141d9"
      },
      "id": "Y9cPzfQ6ezQM",
      "execution_count": 36,
      "outputs": [
        {
          "output_type": "execute_result",
          "data": {
            "text/plain": [
              "<matplotlib.axes._subplots.AxesSubplot at 0x7f1dc92f92d0>"
            ]
          },
          "metadata": {},
          "execution_count": 36
        },
        {
          "output_type": "display_data",
          "data": {
            "text/plain": [
              "<Figure size 1080x1080 with 2 Axes>"
            ],
            "image/png": "[encoded data removed]"
          },
          "metadata": {
            "needs_background": "light"
          }
        }
      ]
    },
    {
      "cell_type": "code",
      "execution_count": 37,
      "id": "cdeba29e",
      "metadata": {
        "execution": {
          "iopub.execute_input": "2022-05-07T10:03:04.813588Z",
          "iopub.status.busy": "2022-05-07T10:03:04.813315Z",
          "iopub.status.idle": "2022-05-07T10:03:07.253940Z",
          "shell.execute_reply": "2022-05-07T10:03:07.253217Z"
        },
        "papermill": {
          "duration": 2.56229,
          "end_time": "2022-05-07T10:03:07.266905",
          "exception": false,
          "start_time": "2022-05-07T10:03:04.704615",
          "status": "completed"
        },
        "tags": [],
        "colab": {
          "base_uri": "https://localhost:8080/",
          "height": 651
        },
        "id": "cdeba29e",
        "outputId": "22c7e3fb-1441-4def-ef33-e1939f724a75"
      },
      "outputs": [
        {
          "output_type": "display_data",
          "data": {
            "text/plain": [
              "<Figure size 720x360 with 1 Axes>"
            ],
            "image/png": "[encoded data removed]"
          },
          "metadata": {
            "needs_background": "light"
          }
        },
        {
          "output_type": "display_data",
          "data": {
            "text/plain": [
              "<Figure size 720x360 with 1 Axes>"
            ],
            "image/png": "[encoded data removed]"
          },
          "metadata": {
            "needs_background": "light"
          }
        }
      ],
      "source": [
        "for col in [\"serviceCharge\", \"serviceCharge-2\"]:\n",
        "    plt.figure(figsize=(10,5))\n",
        "    sns.scatterplot(x=\"telekomUploadSpeed\", y=col, data=df_copy)"
      ]
    },
    {
      "cell_type": "code",
      "execution_count": 38,
      "id": "347602c6",
      "metadata": {
        "execution": {
          "iopub.execute_input": "2022-05-07T10:03:07.507745Z",
          "iopub.status.busy": "2022-05-07T10:03:07.506839Z",
          "iopub.status.idle": "2022-05-07T10:03:07.513589Z",
          "shell.execute_reply": "2022-05-07T10:03:07.512839Z"
        },
        "papermill": {
          "duration": 0.129046,
          "end_time": "2022-05-07T10:03:07.515541",
          "exception": false,
          "start_time": "2022-05-07T10:03:07.386495",
          "status": "completed"
        },
        "tags": [],
        "id": "347602c6"
      },
      "outputs": [],
      "source": [
        "df['serviceCharge'] = df.serviceCharge ** 2"
      ]
    },
    {
      "cell_type": "markdown",
      "id": "91d28262",
      "metadata": {
        "papermill": {
          "duration": 0.117613,
          "end_time": "2022-05-07T10:03:07.752327",
          "exception": false,
          "start_time": "2022-05-07T10:03:07.634714",
          "status": "completed"
        },
        "tags": [],
        "id": "91d28262"
      },
      "source": [
        "# Preprocessing"
      ]
    },
    {
      "cell_type": "code",
      "execution_count": 39,
      "id": "7c1b111c",
      "metadata": {
        "execution": {
          "iopub.execute_input": "2022-05-07T10:03:07.988637Z",
          "iopub.status.busy": "2022-05-07T10:03:07.988160Z",
          "iopub.status.idle": "2022-05-07T10:03:07.992840Z",
          "shell.execute_reply": "2022-05-07T10:03:07.992312Z"
        },
        "papermill": {
          "duration": 0.1259,
          "end_time": "2022-05-07T10:03:07.994752",
          "exception": false,
          "start_time": "2022-05-07T10:03:07.868852",
          "status": "completed"
        },
        "tags": [],
        "colab": {
          "base_uri": "https://localhost:8080/"
        },
        "id": "7c1b111c",
        "outputId": "71feddbe-92d4-4d93-9c66-dc79e7207734"
      },
      "outputs": [
        {
          "output_type": "execute_result",
          "data": {
            "text/plain": [
              "Index(['serviceCharge', 'heatingType', 'telekomUploadSpeed', 'totalRent'], dtype='object')"
            ]
          },
          "metadata": {},
          "execution_count": 39
        }
      ],
      "source": [
        "df.columns"
      ]
    },
    {
      "cell_type": "code",
      "execution_count": 40,
      "id": "f20c8da7",
      "metadata": {
        "execution": {
          "iopub.execute_input": "2022-05-07T10:03:08.236614Z",
          "iopub.status.busy": "2022-05-07T10:03:08.236143Z",
          "iopub.status.idle": "2022-05-07T10:03:08.240305Z",
          "shell.execute_reply": "2022-05-07T10:03:08.239542Z"
        },
        "papermill": {
          "duration": 0.128018,
          "end_time": "2022-05-07T10:03:08.242158",
          "exception": false,
          "start_time": "2022-05-07T10:03:08.114140",
          "status": "completed"
        },
        "tags": [],
        "id": "f20c8da7"
      },
      "outputs": [],
      "source": [
        "y = df.pop('totalRent')\n",
        "X = df"
      ]
    },
    {
      "cell_type": "code",
      "execution_count": 41,
      "id": "754c9aae",
      "metadata": {
        "execution": {
          "iopub.execute_input": "2022-05-07T10:03:08.480163Z",
          "iopub.status.busy": "2022-05-07T10:03:08.479591Z",
          "iopub.status.idle": "2022-05-07T10:03:08.484778Z",
          "shell.execute_reply": "2022-05-07T10:03:08.484046Z"
        },
        "papermill": {
          "duration": 0.126568,
          "end_time": "2022-05-07T10:03:08.486594",
          "exception": false,
          "start_time": "2022-05-07T10:03:08.360026",
          "status": "completed"
        },
        "tags": [],
        "colab": {
          "base_uri": "https://localhost:8080/"
        },
        "id": "754c9aae",
        "outputId": "b100db09-9a57-4512-be31-ca240a50ac17"
      },
      "outputs": [
        {
          "output_type": "execute_result",
          "data": {
            "text/plain": [
              "Index(['serviceCharge', 'heatingType', 'telekomUploadSpeed'], dtype='object')"
            ]
          },
          "metadata": {},
          "execution_count": 41
        }
      ],
      "source": [
        "X.columns"
      ]
    },
    {
      "cell_type": "code",
      "execution_count": 42,
      "id": "6009d0e5",
      "metadata": {
        "execution": {
          "iopub.execute_input": "2022-05-07T10:03:08.724473Z",
          "iopub.status.busy": "2022-05-07T10:03:08.723960Z",
          "iopub.status.idle": "2022-05-07T10:03:08.745313Z",
          "shell.execute_reply": "2022-05-07T10:03:08.744384Z"
        },
        "papermill": {
          "duration": 0.143394,
          "end_time": "2022-05-07T10:03:08.747793",
          "exception": false,
          "start_time": "2022-05-07T10:03:08.604399",
          "status": "completed"
        },
        "tags": [],
        "id": "6009d0e5"
      },
      "outputs": [],
      "source": [
        "y = pd.DataFrame(data=y, columns=['totalRent'])"
      ]
    },
    {
      "cell_type": "code",
      "execution_count": 43,
      "id": "e7f9623f",
      "metadata": {
        "execution": {
          "iopub.execute_input": "2022-05-07T10:03:08.988662Z",
          "iopub.status.busy": "2022-05-07T10:03:08.988371Z",
          "iopub.status.idle": "2022-05-07T10:03:09.023492Z",
          "shell.execute_reply": "2022-05-07T10:03:09.022684Z"
        },
        "papermill": {
          "duration": 0.157723,
          "end_time": "2022-05-07T10:03:09.025381",
          "exception": false,
          "start_time": "2022-05-07T10:03:08.867658",
          "status": "completed"
        },
        "tags": [],
        "colab": {
          "base_uri": "https://localhost:8080/",
          "height": 143
        },
        "id": "e7f9623f",
        "outputId": "5e26c6b6-ba1a-4139-810e-eaf6487d9639"
      },
      "outputs": [
        {
          "output_type": "execute_result",
          "data": {
            "text/plain": [
              "        totalRent\n",
              "50775      390.00\n",
              "208933     336.00\n",
              "83899      217.53"
            ],
            "text/html": [
              "\n",
              "  <div id=\"df-5aaa2468-6adc-46cc-bb3f-2465a029c94b\">\n",
              "    <div class=\"colab-df-container\">\n",
              "      <div>\n",
              "<style scoped>\n",
              "    .dataframe tbody tr th:only-of-type {\n",
              "        vertical-align: middle;\n",
              "    }\n",
              "\n",
              "    .dataframe tbody tr th {\n",
              "        vertical-align: top;\n",
              "    }\n",
              "\n",
              "    .dataframe thead th {\n",
              "        text-align: right;\n",
              "    }\n",
              "</style>\n",
              "<table border=\"1\" class=\"dataframe\">\n",
              "  <thead>\n",
              "    <tr style=\"text-align: right;\">\n",
              "      <th></th>\n",
              "      <th>totalRent</th>\n",
              "    </tr>\n",
              "  </thead>\n",
              "  <tbody>\n",
              "    <tr>\n",
              "      <th>50775</th>\n",
              "      <td>390.00</td>\n",
              "    </tr>\n",
              "    <tr>\n",
              "      <th>208933</th>\n",
              "      <td>336.00</td>\n",
              "    </tr>\n",
              "    <tr>\n",
              "      <th>83899</th>\n",
              "      <td>217.53</td>\n",
              "    </tr>\n",
              "  </tbody>\n",
              "</table>\n",
              "</div>\n",
              "      <button class=\"colab-df-convert\" onclick=\"convertToInteractive('df-5aaa2468-6adc-46cc-bb3f-2465a029c94b')\"\n",
              "              title=\"Convert this dataframe to an interactive table.\"\n",
              "              style=\"display:none;\">\n",
              "        \n",
              "  <svg xmlns=\"http://www.w3.org/2000/svg\" height=\"24px\"viewBox=\"0 0 24 24\"\n",
              "       width=\"24px\">\n",
              "    <path d=\"M0 0h24v24H0V0z\" fill=\"none\"/>\n",
              "    <path d=\"M18.56 5.44l.94 2.06.94-2.06 2.06-.94-2.06-.94-.94-2.06-.94 2.06-2.06.94zm-11 1L8.5 8.5l.94-2.06 2.06-.94-2.06-.94L8.5 2.5l-.94 2.06-2.06.94zm10 10l.94 2.06.94-2.06 2.06-.94-2.06-.94-.94-2.06-.94 2.06-2.06.94z\"/><path d=\"M17.41 7.96l-1.37-1.37c-.4-.4-.92-.59-1.43-.59-.52 0-1.04.2-1.43.59L10.3 9.45l-7.72 7.72c-.78.78-.78 2.05 0 2.83L4 21.41c.39.39.9.59 1.41.59.51 0 1.02-.2 1.41-.59l7.78-7.78 2.81-2.81c.8-.78.8-2.07 0-2.86zM5.41 20L4 18.59l7.72-7.72 1.47 1.35L5.41 20z\"/>\n",
              "  </svg>\n",
              "      </button>\n",
              "      \n",
              "  <style>\n",
              "    .colab-df-container {\n",
              "      display:flex;\n",
              "      flex-wrap:wrap;\n",
              "      gap: 12px;\n",
              "    }\n",
              "\n",
              "    .colab-df-convert {\n",
              "      background-color: #E8F0FE;\n",
              "      border: none;\n",
              "      border-radius: 50%;\n",
              "      cursor: pointer;\n",
              "      display: none;\n",
              "      fill: #1967D2;\n",
              "      height: 32px;\n",
              "      padding: 0 0 0 0;\n",
              "      width: 32px;\n",
              "    }\n",
              "\n",
              "    .colab-df-convert:hover {\n",
              "      background-color: #E2EBFA;\n",
              "      box-shadow: 0px 1px 2px rgba(60, 64, 67, 0.3), 0px 1px 3px 1px rgba(60, 64, 67, 0.15);\n",
              "      fill: #174EA6;\n",
              "    }\n",
              "\n",
              "    [theme=dark] .colab-df-convert {\n",
              "      background-color: #3B4455;\n",
              "      fill: #D2E3FC;\n",
              "    }\n",
              "\n",
              "    [theme=dark] .colab-df-convert:hover {\n",
              "      background-color: #434B5C;\n",
              "      box-shadow: 0px 1px 3px 1px rgba(0, 0, 0, 0.15);\n",
              "      filter: drop-shadow(0px 1px 2px rgba(0, 0, 0, 0.3));\n",
              "      fill: #FFFFFF;\n",
              "    }\n",
              "  </style>\n",
              "\n",
              "      <script>\n",
              "        const buttonEl =\n",
              "          document.querySelector('#df-5aaa2468-6adc-46cc-bb3f-2465a029c94b button.colab-df-convert');\n",
              "        buttonEl.style.display =\n",
              "          google.colab.kernel.accessAllowed ? 'block' : 'none';\n",
              "\n",
              "        async function convertToInteractive(key) {\n",
              "          const element = document.querySelector('#df-5aaa2468-6adc-46cc-bb3f-2465a029c94b');\n",
              "          const dataTable =\n",
              "            await google.colab.kernel.invokeFunction('convertToInteractive',\n",
              "                                                     [key], {});\n",
              "          if (!dataTable) return;\n",
              "\n",
              "          const docLinkHtml = 'Like what you see? Visit the ' +\n",
              "            '<a target=\"_blank\" href=https://colab.research.google.com/notebooks/data_table.ipynb>data table notebook</a>'\n",
              "            + ' to learn more about interactive tables.';\n",
              "          element.innerHTML = '';\n",
              "          dataTable['output_type'] = 'display_data';\n",
              "          await google.colab.output.renderOutput(dataTable, element);\n",
              "          const docLink = document.createElement('div');\n",
              "          docLink.innerHTML = docLinkHtml;\n",
              "          element.appendChild(docLink);\n",
              "        }\n",
              "      </script>\n",
              "    </div>\n",
              "  </div>\n",
              "  "
            ]
          },
          "metadata": {},
          "execution_count": 43
        }
      ],
      "source": [
        "X_train,X_test,y_train,y_test = train_test_split(X,y,test_size=0.2)\n",
        "\n",
        "y_train.head(3)"
      ]
    },
    {
      "cell_type": "code",
      "execution_count": 44,
      "id": "603f9471",
      "metadata": {
        "execution": {
          "iopub.execute_input": "2022-05-07T10:03:09.266546Z",
          "iopub.status.busy": "2022-05-07T10:03:09.266242Z",
          "iopub.status.idle": "2022-05-07T10:03:09.270762Z",
          "shell.execute_reply": "2022-05-07T10:03:09.269883Z"
        },
        "papermill": {
          "duration": 0.12787,
          "end_time": "2022-05-07T10:03:09.272670",
          "exception": false,
          "start_time": "2022-05-07T10:03:09.144800",
          "status": "completed"
        },
        "tags": [],
        "id": "603f9471"
      },
      "outputs": [],
      "source": [
        "ohe = OneHotEncoder(handle_unknown='ignore', sparse=False)   #onehot encoder\n",
        "ss = StandardScaler()"
      ]
    },
    {
      "cell_type": "code",
      "execution_count": 45,
      "id": "5e68396e",
      "metadata": {
        "execution": {
          "iopub.execute_input": "2022-05-07T10:03:09.512827Z",
          "iopub.status.busy": "2022-05-07T10:03:09.512265Z",
          "iopub.status.idle": "2022-05-07T10:03:09.517511Z",
          "shell.execute_reply": "2022-05-07T10:03:09.516686Z"
        },
        "papermill": {
          "duration": 0.126994,
          "end_time": "2022-05-07T10:03:09.519467",
          "exception": false,
          "start_time": "2022-05-07T10:03:09.392473",
          "status": "completed"
        },
        "tags": [],
        "id": "5e68396e"
      },
      "outputs": [],
      "source": [
        "preprocessor_x = ColumnTransformer(\n",
        "    transformers=[\n",
        "            ('serviceCharge', ss, ['serviceCharge']),\n",
        "            ('telekomUploadSpeed', ss, ['telekomUploadSpeed']),\n",
        "            ('heatingType', ohe, ['heatingType']),       \n",
        "])\n",
        "preprocessor_y = ColumnTransformer(\n",
        "    transformers=[\n",
        "            ('totalRent', ss, ['totalRent']),       \n",
        "])\n"
      ]
    },
    {
      "cell_type": "code",
      "execution_count": 46,
      "id": "645a66c9",
      "metadata": {
        "execution": {
          "iopub.execute_input": "2022-05-07T10:03:09.756991Z",
          "iopub.status.busy": "2022-05-07T10:03:09.756667Z",
          "iopub.status.idle": "2022-05-07T10:03:09.882772Z",
          "shell.execute_reply": "2022-05-07T10:03:09.881821Z"
        },
        "papermill": {
          "duration": 0.247708,
          "end_time": "2022-05-07T10:03:09.885305",
          "exception": false,
          "start_time": "2022-05-07T10:03:09.637597",
          "status": "completed"
        },
        "tags": [],
        "id": "645a66c9"
      },
      "outputs": [],
      "source": [
        "fitter_y = preprocessor_y.fit(y_train)\n",
        "fitter_x = preprocessor_x.fit(X_train)"
      ]
    },
    {
      "cell_type": "code",
      "execution_count": 47,
      "id": "2d433ff3",
      "metadata": {
        "execution": {
          "iopub.execute_input": "2022-05-07T10:03:10.128273Z",
          "iopub.status.busy": "2022-05-07T10:03:10.127975Z",
          "iopub.status.idle": "2022-05-07T10:03:10.278694Z",
          "shell.execute_reply": "2022-05-07T10:03:10.277977Z"
        },
        "papermill": {
          "duration": 0.275749,
          "end_time": "2022-05-07T10:03:10.281062",
          "exception": false,
          "start_time": "2022-05-07T10:03:10.005313",
          "status": "completed"
        },
        "tags": [],
        "id": "2d433ff3"
      },
      "outputs": [],
      "source": [
        "y_train = fitter_y.transform(y_train)\n",
        "y_test = fitter_y.transform(y_test)\n",
        "X_train = fitter_x.transform(X_train)\n",
        "X_test = fitter_x.transform(X_test)"
      ]
    },
    {
      "cell_type": "code",
      "execution_count": 48,
      "id": "b04229ba",
      "metadata": {
        "execution": {
          "iopub.execute_input": "2022-05-07T10:03:10.519460Z",
          "iopub.status.busy": "2022-05-07T10:03:10.518969Z",
          "iopub.status.idle": "2022-05-07T10:03:10.522958Z",
          "shell.execute_reply": "2022-05-07T10:03:10.522394Z"
        },
        "papermill": {
          "duration": 0.125363,
          "end_time": "2022-05-07T10:03:10.524712",
          "exception": false,
          "start_time": "2022-05-07T10:03:10.399349",
          "status": "completed"
        },
        "tags": [],
        "id": "b04229ba"
      },
      "outputs": [],
      "source": [
        "m, n = y_train.shape\n",
        "x, z = y_test.shape\n",
        "y_train = y_train.reshape(m, )\n",
        "y_test = y_test.reshape(x, )"
      ]
    },
    {
      "cell_type": "code",
      "execution_count": 49,
      "id": "f8109e11",
      "metadata": {
        "execution": {
          "iopub.execute_input": "2022-05-07T10:03:10.760702Z",
          "iopub.status.busy": "2022-05-07T10:03:10.760038Z",
          "iopub.status.idle": "2022-05-07T10:03:10.765637Z",
          "shell.execute_reply": "2022-05-07T10:03:10.764860Z"
        },
        "papermill": {
          "duration": 0.127097,
          "end_time": "2022-05-07T10:03:10.768165",
          "exception": false,
          "start_time": "2022-05-07T10:03:10.641068",
          "status": "completed"
        },
        "tags": [],
        "colab": {
          "base_uri": "https://localhost:8080/"
        },
        "id": "f8109e11",
        "outputId": "4951a9f3-3658-418c-a87d-7c7513999324"
      },
      "outputs": [
        {
          "output_type": "stream",
          "name": "stdout",
          "text": [
            "train x shape: (193416, 8)\n",
            "train y shape: (193416,)\n",
            "test x shape: (48354, 8)\n",
            "test y shape: (48354,)\n"
          ]
        }
      ],
      "source": [
        "print(f'train x shape: {X_train.shape}')\n",
        "print(f'train y shape: {y_train.shape}')\n",
        "print(f'test x shape: {X_test.shape}')\n",
        "print(f'test y shape: {y_test.shape}')"
      ]
    },
    {
      "cell_type": "markdown",
      "id": "4bd4c33b",
      "metadata": {
        "papermill": {
          "duration": 0.123956,
          "end_time": "2022-05-07T10:03:11.015444",
          "exception": false,
          "start_time": "2022-05-07T10:03:10.891488",
          "status": "completed"
        },
        "tags": [],
        "id": "4bd4c33b"
      },
      "source": [
        "# Scratch"
      ]
    },
    {
      "cell_type": "code",
      "execution_count": 50,
      "id": "94de1d1c",
      "metadata": {
        "execution": {
          "iopub.execute_input": "2022-05-07T10:03:11.256574Z",
          "iopub.status.busy": "2022-05-07T10:03:11.256007Z",
          "iopub.status.idle": "2022-05-07T10:03:11.269636Z",
          "shell.execute_reply": "2022-05-07T10:03:11.268991Z"
        },
        "papermill": {
          "duration": 0.137938,
          "end_time": "2022-05-07T10:03:11.271776",
          "exception": false,
          "start_time": "2022-05-07T10:03:11.133838",
          "status": "completed"
        },
        "tags": [],
        "id": "94de1d1c"
      },
      "outputs": [],
      "source": [
        "# Linear reggression\n",
        "class Net() :   \n",
        "    def __init__( self, learning_rate=0.01 , iterations=1000 , method='mse') :\n",
        "        self.learning_rate = learning_rate\n",
        "        self.iterations = iterations \n",
        "        self.method = method\n",
        "\n",
        "    \n",
        "    # Function for model training        \n",
        "    def fit( self, X, Y ) : \n",
        "        # no_of_training_examples, no_of_features\n",
        "        self.m, self.n = X.shape \n",
        "        # weight initialization \n",
        "        self.W = np.random.normal(loc=0.0, scale=0.001, size=self.n)\n",
        "        self.b = 0 \n",
        "        self.X = X\n",
        "        self.Y = Y \n",
        "        # gradient descent learning         \n",
        "        for i in range( self.iterations ) :\n",
        "            self.update_weights(X, Y)  \n",
        "        return self\n",
        "    \n",
        "    \n",
        "    # Helper function to update weights in gradient descent \n",
        "    def update_weights( self, X, Y ) :\n",
        "        Y_pred = self.predict( X )\n",
        "        # calculate gradients\n",
        "        \n",
        "        # Linear reggression with minimum square error\n",
        "        if self.method == 'mse':\n",
        "            error = (Y - Y_pred)\n",
        "            dW = - ( 2 * ( X.T ).dot( error )  ) / self.m\n",
        "            db = - 2 * np.sum( error ) / self.m\n",
        "    \n",
        "            \n",
        "        # Linear reggression with minimum absolute error\n",
        "        elif self.method == 'ae':\n",
        "            error = abs(Y - Y_pred)\n",
        "            error = np.where(error == 0, 0.01, error)\n",
        "            dW = ( np.sum( X.T, axis=1)/ 4)\n",
        "            print(dW.shape)\n",
        "            db = np.sum( error ) / 4\n",
        "        \n",
        "        # Linear reggression with Epsilon Sensitive Error\n",
        "        elif self.method == 'ese':\n",
        "            threshold = 0.00001\n",
        "            error = abs(Y - Y_pred)\n",
        "            error = np.where(error < threshold, 0.01, error)\n",
        "            dW = ( ( X.T ).dot( error )  )\n",
        "            db = np.sum( error ) \n",
        "        \n",
        "        self.W = self.W - self.learning_rate * dW\n",
        "        self.b = self.b - self.learning_rate * db \n",
        "        return self\n",
        "    \n",
        "    # Hypothetical function  h( x )  \n",
        "    def predict( self, X ) :\n",
        "        return (X.dot( self.W ) + self.b)"
      ]
    },
    {
      "cell_type": "markdown",
      "id": "ba601dea",
      "metadata": {
        "papermill": {
          "duration": 0.117119,
          "end_time": "2022-05-07T10:03:11.507470",
          "exception": false,
          "start_time": "2022-05-07T10:03:11.390351",
          "status": "completed"
        },
        "tags": [],
        "id": "ba601dea"
      },
      "source": [
        "# Linear reggression with minimum square error"
      ]
    },
    {
      "cell_type": "code",
      "execution_count": 51,
      "id": "d5269078",
      "metadata": {
        "execution": {
          "iopub.execute_input": "2022-05-07T10:03:11.744631Z",
          "iopub.status.busy": "2022-05-07T10:03:11.744166Z",
          "iopub.status.idle": "2022-05-07T10:03:11.747428Z",
          "shell.execute_reply": "2022-05-07T10:03:11.746901Z"
        },
        "papermill": {
          "duration": 0.123904,
          "end_time": "2022-05-07T10:03:11.749233",
          "exception": false,
          "start_time": "2022-05-07T10:03:11.625329",
          "status": "completed"
        },
        "tags": [],
        "id": "d5269078"
      },
      "outputs": [],
      "source": [
        "model_mse = Net(method='mse')"
      ]
    },
    {
      "cell_type": "code",
      "execution_count": 52,
      "id": "d2de3d22",
      "metadata": {
        "execution": {
          "iopub.execute_input": "2022-05-07T10:03:11.987011Z",
          "iopub.status.busy": "2022-05-07T10:03:11.986533Z",
          "iopub.status.idle": "2022-05-07T10:03:13.486167Z",
          "shell.execute_reply": "2022-05-07T10:03:13.485238Z"
        },
        "papermill": {
          "duration": 1.62181,
          "end_time": "2022-05-07T10:03:13.489499",
          "exception": false,
          "start_time": "2022-05-07T10:03:11.867689",
          "status": "completed"
        },
        "tags": [],
        "colab": {
          "base_uri": "https://localhost:8080/"
        },
        "id": "d2de3d22",
        "outputId": "e06a2dcf-0850-41f2-847b-2cac2d2ad07b"
      },
      "outputs": [
        {
          "output_type": "execute_result",
          "data": {
            "text/plain": [
              "<__main__.Net at 0x7f1dc9531f50>"
            ]
          },
          "metadata": {},
          "execution_count": 52
        }
      ],
      "source": [
        "model_mse.fit(X_train, y_train)"
      ]
    },
    {
      "cell_type": "code",
      "execution_count": 53,
      "id": "6c8558d3",
      "metadata": {
        "execution": {
          "iopub.execute_input": "2022-05-07T10:03:13.783978Z",
          "iopub.status.busy": "2022-05-07T10:03:13.783641Z",
          "iopub.status.idle": "2022-05-07T10:03:13.792304Z",
          "shell.execute_reply": "2022-05-07T10:03:13.791472Z"
        },
        "papermill": {
          "duration": 0.131665,
          "end_time": "2022-05-07T10:03:13.795908",
          "exception": false,
          "start_time": "2022-05-07T10:03:13.664243",
          "status": "completed"
        },
        "tags": [],
        "colab": {
          "base_uri": "https://localhost:8080/"
        },
        "id": "6c8558d3",
        "outputId": "35e45092-7969-450c-eac7-6608020778aa"
      },
      "outputs": [
        {
          "output_type": "stream",
          "name": "stdout",
          "text": [
            "[ 0.52071975  0.02735513 -0.19859947 -0.17100586  0.37834894 -0.01623345\n",
            "  0.10697415  0.01896497]\n",
            "0.12108049319616136\n",
            "linear reggression from scrach (MSE) R^2: test 0.32308239772313085\n"
          ]
        }
      ],
      "source": [
        "print(model_mse.W)\n",
        "print(model_mse.b)\n",
        "y_pre_test_mse = model_mse.predict(X_test)\n",
        "print('linear reggression from scrach (MSE) R^2: test', metrics.r2_score(y_test, y_pre_test_mse))"
      ]
    },
    {
      "cell_type": "markdown",
      "source": [
        "# MSE whithot package"
      ],
      "metadata": {
        "id": "eWLjXC-SlFEq"
      },
      "id": "eWLjXC-SlFEq"
    },
    {
      "cell_type": "markdown",
      "source": [
        "Steps to find the MSE\n",
        "\n",
        "Find the equation for the regression line.\n",
        "(1)    \\begin{equation*}   \\hat{Y}_i = \\hat{\\beta}_0 + \\hat{\\beta}_1 X_i + \\hat{\\epsilon}_i   \\end{equation*} \n",
        "\n",
        "Insert X values in the equation found in step 1 in order to get the respective Y values i.e.\n",
        "(2)  \\begin{equation*} \\hat{Y}_i \\end{equation*}  \n",
        "\n",
        "Now subtract the new Y values (i.e. \\hat{Y}_i) from the original Y values. Thus, found values are the error terms. It is also known as the vertical distance of the given point from the regression line.\n",
        "(3)   \\begin{equation*}  Y_i - \\hat{Y}_i  \\end{equation*} \n",
        "\n",
        "Square the errors found in step 3.\n",
        "(4)   \\begin{equation*}  {(Y_i - \\hat{Y}_i)}^2  \\end{equation*} \n",
        "\n",
        "Sum up all the squares.\n",
        "\n",
        "  \\begin{equation*}  \\sum_{i=1}^{N}(Y_i - \\hat{Y}_i)^2  \\end{equation*} \n",
        "Divide the value found in step 5 by the total number of observations.\n",
        "(6)   \\begin{equation*}  MSE = \\frac{1}{N}\\sum_{i=1}^{N}(Y_i - \\hat{Y}_i)^2  \\end{equation*} "
      ],
      "metadata": {
        "id": "NU12QozOT1DG"
      },
      "id": "NU12QozOT1DG"
    },
    {
      "cell_type": "markdown",
      "source": [
        "steps:\n",
        "1. define variable to store the sum of differences\n",
        "2. finding total number of items in list\n",
        "3. looping through each element of the list\n",
        "4. finding the difference between observed and predicted value\n",
        "5. taking square of the differene \n",
        "6. taking a sum of all the differences\n",
        "7. dividing summation by total values to obtain average"
      ],
      "metadata": {
        "id": "f69q04SBlwkC"
      },
      "id": "f69q04SBlwkC"
    },
    {
      "cell_type": "code",
      "source": [
        "y1 = X_train\n",
        "y_bar =  y_train\n",
        "sum = 0       \n",
        "n = len(y1)\n",
        "for i in range (0,n):  \n",
        "  difference = y1[i] - y_bar[i]   \n",
        "  squared_difference = difference**2  \n",
        "  sum = sum + squared_difference  \n",
        "MSE = sum/n  \n",
        "print(\"The Mean Square Error is: \" , MSE)"
      ],
      "metadata": {
        "id": "z7Q4RH4tlD66",
        "colab": {
          "base_uri": "https://localhost:8080/"
        },
        "outputId": "515e427a-20ac-4593-e98d-d4f51a22a916"
      },
      "execution_count": 54,
      "outputs": [
        {
          "output_type": "stream",
          "name": "stdout",
          "text": [
            "The Mean Square Error is:  [0.92930832 1.91846616 1.77658821 1.11589228 0.95136464 1.05678248\n",
            " 1.01253114 1.08684125]\n"
          ]
        }
      ],
      "id": "z7Q4RH4tlD66"
    },
    {
      "cell_type": "markdown",
      "source": [
        "# Absolute Error whitout package"
      ],
      "metadata": {
        "id": "wkO8qAMgm8BK"
      },
      "id": "wkO8qAMgm8BK"
    },
    {
      "cell_type": "markdown",
      "source": [
        "![Formula_MeanAbsoluteError.png](data:image/png;base64,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)"
      ],
      "metadata": {
        "id": "KEfWWwNnPthS"
      },
      "id": "KEfWWwNnPthS"
    },
    {
      "cell_type": "code",
      "source": [
        "y2 = X_train\n",
        "y_hat =  y_train\n",
        "sum = 0       \n",
        "n = len(y2)\n",
        "for i in range (0,n):  \n",
        "  difference = y2[i] - y_hat[i]   \n",
        "  squared_difference = np.abs(difference )\n",
        "  sum = sum + squared_difference  \n",
        "AE = sum/n  \n",
        "print(\"The Absolute Error is: \" , AE)"
      ],
      "metadata": {
        "colab": {
          "base_uri": "https://localhost:8080/"
        },
        "id": "IDjtWjr-nGHY",
        "outputId": "52cdeeff-12a8-45db-c780-e61611f593f8"
      },
      "id": "IDjtWjr-nGHY",
      "execution_count": 55,
      "outputs": [
        {
          "output_type": "stream",
          "name": "stdout",
          "text": [
            "The Absolute Error is:  [0.71265947 1.16942909 1.13325513 0.81149987 0.74558061 0.78690137\n",
            " 0.76787735 0.80419836]\n"
          ]
        }
      ]
    },
    {
      "cell_type": "markdown",
      "id": "9e8268bd",
      "metadata": {
        "papermill": {
          "duration": 0.144752,
          "end_time": "2022-05-07T10:03:16.132255",
          "exception": false,
          "start_time": "2022-05-07T10:03:15.987503",
          "status": "completed"
        },
        "tags": [],
        "id": "9e8268bd"
      },
      "source": [
        "# Sklearn pakage"
      ]
    },
    {
      "cell_type": "markdown",
      "id": "34de6f36",
      "metadata": {
        "papermill": {
          "duration": 0.144681,
          "end_time": "2022-05-07T10:03:16.421119",
          "exception": false,
          "start_time": "2022-05-07T10:03:16.276438",
          "status": "completed"
        },
        "tags": [],
        "id": "34de6f36"
      },
      "source": [
        "# LinearRegression"
      ]
    },
    {
      "cell_type": "code",
      "execution_count": 56,
      "id": "5e3c8a4a",
      "metadata": {
        "execution": {
          "iopub.execute_input": "2022-05-07T10:03:16.694079Z",
          "iopub.status.busy": "2022-05-07T10:03:16.693570Z",
          "iopub.status.idle": "2022-05-07T10:03:16.696817Z",
          "shell.execute_reply": "2022-05-07T10:03:16.696233Z"
        },
        "papermill": {
          "duration": 0.133607,
          "end_time": "2022-05-07T10:03:16.698789",
          "exception": false,
          "start_time": "2022-05-07T10:03:16.565182",
          "status": "completed"
        },
        "tags": [],
        "id": "5e3c8a4a"
      },
      "outputs": [],
      "source": [
        "model_lr = LinearRegression()"
      ]
    },
    {
      "cell_type": "code",
      "execution_count": 57,
      "id": "d2fd5da3",
      "metadata": {
        "execution": {
          "iopub.execute_input": "2022-05-07T10:03:16.940644Z",
          "iopub.status.busy": "2022-05-07T10:03:16.940150Z",
          "iopub.status.idle": "2022-05-07T10:03:16.999233Z",
          "shell.execute_reply": "2022-05-07T10:03:16.998615Z"
        },
        "papermill": {
          "duration": 0.184577,
          "end_time": "2022-05-07T10:03:17.002683",
          "exception": false,
          "start_time": "2022-05-07T10:03:16.818106",
          "status": "completed"
        },
        "tags": [],
        "colab": {
          "base_uri": "https://localhost:8080/"
        },
        "id": "d2fd5da3",
        "outputId": "f0e848d1-c125-4142-ae1b-913dd93dde08"
      },
      "outputs": [
        {
          "output_type": "execute_result",
          "data": {
            "text/plain": [
              "LinearRegression()"
            ]
          },
          "metadata": {},
          "execution_count": 57
        }
      ],
      "source": [
        "model_lr.fit(X_train, y_train)"
      ]
    },
    {
      "cell_type": "code",
      "execution_count": 58,
      "id": "6fdb068f",
      "metadata": {
        "execution": {
          "iopub.execute_input": "2022-05-07T10:03:17.248665Z",
          "iopub.status.busy": "2022-05-07T10:03:17.248414Z",
          "iopub.status.idle": "2022-05-07T10:03:17.254442Z",
          "shell.execute_reply": "2022-05-07T10:03:17.253608Z"
        },
        "papermill": {
          "duration": 0.127899,
          "end_time": "2022-05-07T10:03:17.257125",
          "exception": false,
          "start_time": "2022-05-07T10:03:17.129226",
          "status": "completed"
        },
        "tags": [],
        "id": "6fdb068f"
      },
      "outputs": [],
      "source": [
        "y_pred_test = model_lr.predict(X_test)"
      ]
    },
    {
      "cell_type": "code",
      "execution_count": 59,
      "id": "a375d6b6",
      "metadata": {
        "execution": {
          "iopub.execute_input": "2022-05-07T10:03:17.552297Z",
          "iopub.status.busy": "2022-05-07T10:03:17.552009Z",
          "iopub.status.idle": "2022-05-07T10:03:17.556640Z",
          "shell.execute_reply": "2022-05-07T10:03:17.556144Z"
        },
        "papermill": {
          "duration": 0.126871,
          "end_time": "2022-05-07T10:03:17.558789",
          "exception": false,
          "start_time": "2022-05-07T10:03:17.431918",
          "status": "completed"
        },
        "tags": [],
        "colab": {
          "base_uri": "https://localhost:8080/"
        },
        "id": "a375d6b6",
        "outputId": "c113805f-09ad-4d2e-b130-9f39302c7fb8"
      },
      "outputs": [
        {
          "output_type": "execute_result",
          "data": {
            "text/plain": [
              "array([ 0.51395341,  0.02647254, -0.24155738, -0.26543424,  0.52846628,\n",
              "       -0.08534544,  0.10260838, -0.0387376 ])"
            ]
          },
          "metadata": {},
          "execution_count": 59
        }
      ],
      "source": [
        "model_lr.coef_"
      ]
    },
    {
      "cell_type": "code",
      "execution_count": 60,
      "id": "179a2666",
      "metadata": {
        "execution": {
          "iopub.execute_input": "2022-05-07T10:03:17.799685Z",
          "iopub.status.busy": "2022-05-07T10:03:17.799177Z",
          "iopub.status.idle": "2022-05-07T10:03:17.813187Z",
          "shell.execute_reply": "2022-05-07T10:03:17.812377Z"
        },
        "papermill": {
          "duration": 0.137909,
          "end_time": "2022-05-07T10:03:17.816423",
          "exception": false,
          "start_time": "2022-05-07T10:03:17.678514",
          "status": "completed"
        },
        "tags": [],
        "colab": {
          "base_uri": "https://localhost:8080/"
        },
        "id": "179a2666",
        "outputId": "a911929e-46bf-49d4-da13-273108e0a449"
      },
      "outputs": [
        {
          "output_type": "stream",
          "name": "stdout",
          "text": [
            "linear reggression score train: 0.3209083319148923\n",
            "linear reggression R^2: test 0.3245789506734953\n"
          ]
        }
      ],
      "source": [
        "print('linear reggression score train:', model_lr.score(X_train, y_train))\n",
        "print('linear reggression R^2: test', metrics.r2_score(y_test, y_pred_test))"
      ]
    },
    {
      "cell_type": "markdown",
      "id": "4a204ef1",
      "metadata": {
        "papermill": {
          "duration": 0.122223,
          "end_time": "2022-05-07T10:03:18.117754",
          "exception": false,
          "start_time": "2022-05-07T10:03:17.995531",
          "status": "completed"
        },
        "tags": [],
        "id": "4a204ef1"
      },
      "source": [
        "# Ridge"
      ]
    },
    {
      "cell_type": "code",
      "execution_count": 61,
      "id": "e2d78199",
      "metadata": {
        "execution": {
          "iopub.execute_input": "2022-05-07T10:03:18.362286Z",
          "iopub.status.busy": "2022-05-07T10:03:18.361997Z",
          "iopub.status.idle": "2022-05-07T10:03:18.365308Z",
          "shell.execute_reply": "2022-05-07T10:03:18.364757Z"
        },
        "papermill": {
          "duration": 0.128988,
          "end_time": "2022-05-07T10:03:18.367004",
          "exception": false,
          "start_time": "2022-05-07T10:03:18.238016",
          "status": "completed"
        },
        "tags": [],
        "id": "e2d78199"
      },
      "outputs": [],
      "source": [
        "model_ridge = Ridge(alpha=1)"
      ]
    },
    {
      "cell_type": "code",
      "execution_count": 62,
      "id": "3aa3b433",
      "metadata": {
        "execution": {
          "iopub.execute_input": "2022-05-07T10:03:18.610110Z",
          "iopub.status.busy": "2022-05-07T10:03:18.609597Z",
          "iopub.status.idle": "2022-05-07T10:03:18.637763Z",
          "shell.execute_reply": "2022-05-07T10:03:18.636764Z"
        },
        "papermill": {
          "duration": 0.153082,
          "end_time": "2022-05-07T10:03:18.640644",
          "exception": false,
          "start_time": "2022-05-07T10:03:18.487562",
          "status": "completed"
        },
        "tags": [],
        "colab": {
          "base_uri": "https://localhost:8080/"
        },
        "id": "3aa3b433",
        "outputId": "dd96406c-e6c4-44c2-c7db-e9690b29024f"
      },
      "outputs": [
        {
          "output_type": "execute_result",
          "data": {
            "text/plain": [
              "Ridge(alpha=1)"
            ]
          },
          "metadata": {},
          "execution_count": 62
        }
      ],
      "source": [
        "model_ridge.fit(X_train, y_train)"
      ]
    },
    {
      "cell_type": "code",
      "execution_count": 63,
      "id": "6e906ba7",
      "metadata": {
        "execution": {
          "iopub.execute_input": "2022-05-07T10:03:18.939264Z",
          "iopub.status.busy": "2022-05-07T10:03:18.938969Z",
          "iopub.status.idle": "2022-05-07T10:03:18.946740Z",
          "shell.execute_reply": "2022-05-07T10:03:18.945837Z"
        },
        "papermill": {
          "duration": 0.133724,
          "end_time": "2022-05-07T10:03:18.949605",
          "exception": false,
          "start_time": "2022-05-07T10:03:18.815881",
          "status": "completed"
        },
        "tags": [],
        "id": "6e906ba7"
      },
      "outputs": [],
      "source": [
        "y_pred_test_ridge = model_ridge.predict(X_test)"
      ]
    },
    {
      "cell_type": "code",
      "execution_count": 64,
      "id": "44972177",
      "metadata": {
        "execution": {
          "iopub.execute_input": "2022-05-07T10:03:19.248036Z",
          "iopub.status.busy": "2022-05-07T10:03:19.247737Z",
          "iopub.status.idle": "2022-05-07T10:03:19.254001Z",
          "shell.execute_reply": "2022-05-07T10:03:19.253078Z"
        },
        "papermill": {
          "duration": 0.130332,
          "end_time": "2022-05-07T10:03:19.256385",
          "exception": false,
          "start_time": "2022-05-07T10:03:19.126053",
          "status": "completed"
        },
        "tags": [],
        "colab": {
          "base_uri": "https://localhost:8080/"
        },
        "id": "44972177",
        "outputId": "6794cb63-c41d-43bd-c77b-a4d45129b210"
      },
      "outputs": [
        {
          "output_type": "execute_result",
          "data": {
            "text/plain": [
              "array([ 0.51395253,  0.0264727 , -0.24154884, -0.26541266,  0.52841866,\n",
              "       -0.08533284,  0.10260431, -0.03872862])"
            ]
          },
          "metadata": {},
          "execution_count": 64
        }
      ],
      "source": [
        "model_ridge.coef_"
      ]
    },
    {
      "cell_type": "code",
      "execution_count": 65,
      "id": "f974878a",
      "metadata": {
        "execution": {
          "iopub.execute_input": "2022-05-07T10:03:19.503030Z",
          "iopub.status.busy": "2022-05-07T10:03:19.502512Z",
          "iopub.status.idle": "2022-05-07T10:03:19.516226Z",
          "shell.execute_reply": "2022-05-07T10:03:19.515336Z"
        },
        "papermill": {
          "duration": 0.140238,
          "end_time": "2022-05-07T10:03:19.519712",
          "exception": false,
          "start_time": "2022-05-07T10:03:19.379474",
          "status": "completed"
        },
        "tags": [],
        "colab": {
          "base_uri": "https://localhost:8080/"
        },
        "id": "f974878a",
        "outputId": "8a3c0ef8-3100-4152-a68b-edef1a641193"
      },
      "outputs": [
        {
          "output_type": "stream",
          "name": "stdout",
          "text": [
            "ridge reggression score train: 0.32090833173270017\n",
            "ridge reggression R^2: test 0.324579149990356\n"
          ]
        }
      ],
      "source": [
        "print('ridge reggression score train:', model_ridge.score(X_train, y_train))\n",
        "print('ridge reggression R^2: test', metrics.r2_score(y_test, y_pred_test_ridge))"
      ]
    },
    {
      "cell_type": "markdown",
      "id": "9e08a2c8",
      "metadata": {
        "papermill": {
          "duration": 0.122064,
          "end_time": "2022-05-07T10:03:19.816783",
          "exception": false,
          "start_time": "2022-05-07T10:03:19.694719",
          "status": "completed"
        },
        "tags": [],
        "id": "9e08a2c8"
      },
      "source": [
        "# Lasso"
      ]
    },
    {
      "cell_type": "code",
      "execution_count": 66,
      "id": "438f1ceb",
      "metadata": {
        "execution": {
          "iopub.execute_input": "2022-05-07T10:03:20.064892Z",
          "iopub.status.busy": "2022-05-07T10:03:20.064639Z",
          "iopub.status.idle": "2022-05-07T10:03:20.068805Z",
          "shell.execute_reply": "2022-05-07T10:03:20.068005Z"
        },
        "papermill": {
          "duration": 0.130341,
          "end_time": "2022-05-07T10:03:20.070909",
          "exception": false,
          "start_time": "2022-05-07T10:03:19.940568",
          "status": "completed"
        },
        "tags": [],
        "id": "438f1ceb"
      },
      "outputs": [],
      "source": [
        "model_lasso = Lasso(alpha=0.1)"
      ]
    },
    {
      "cell_type": "code",
      "execution_count": 67,
      "id": "bb6800b5",
      "metadata": {
        "execution": {
          "iopub.execute_input": "2022-05-07T10:03:20.318062Z",
          "iopub.status.busy": "2022-05-07T10:03:20.317556Z",
          "iopub.status.idle": "2022-05-07T10:03:20.346278Z",
          "shell.execute_reply": "2022-05-07T10:03:20.345468Z"
        },
        "papermill": {
          "duration": 0.154328,
          "end_time": "2022-05-07T10:03:20.349073",
          "exception": false,
          "start_time": "2022-05-07T10:03:20.194745",
          "status": "completed"
        },
        "tags": [],
        "colab": {
          "base_uri": "https://localhost:8080/"
        },
        "id": "bb6800b5",
        "outputId": "259ede69-d147-4fcb-9544-89e764cf1ae6"
      },
      "outputs": [
        {
          "output_type": "execute_result",
          "data": {
            "text/plain": [
              "Lasso(alpha=0.1)"
            ]
          },
          "metadata": {},
          "execution_count": 67
        }
      ],
      "source": [
        "model_lasso.fit(X_train, y_train)"
      ]
    },
    {
      "cell_type": "code",
      "execution_count": 68,
      "id": "2f551f83",
      "metadata": {
        "execution": {
          "iopub.execute_input": "2022-05-07T10:03:20.647487Z",
          "iopub.status.busy": "2022-05-07T10:03:20.647184Z",
          "iopub.status.idle": "2022-05-07T10:03:20.652591Z",
          "shell.execute_reply": "2022-05-07T10:03:20.651717Z"
        },
        "papermill": {
          "duration": 0.132605,
          "end_time": "2022-05-07T10:03:20.657565",
          "exception": false,
          "start_time": "2022-05-07T10:03:20.524960",
          "status": "completed"
        },
        "tags": [],
        "id": "2f551f83"
      },
      "outputs": [],
      "source": [
        "y_pred_test_lasso = model_lasso.predict(X_test)"
      ]
    },
    {
      "cell_type": "code",
      "execution_count": 69,
      "id": "84e26e62",
      "metadata": {
        "execution": {
          "iopub.execute_input": "2022-05-07T10:03:20.975970Z",
          "iopub.status.busy": "2022-05-07T10:03:20.975695Z",
          "iopub.status.idle": "2022-05-07T10:03:20.980498Z",
          "shell.execute_reply": "2022-05-07T10:03:20.979975Z"
        },
        "papermill": {
          "duration": 0.133233,
          "end_time": "2022-05-07T10:03:20.982788",
          "exception": false,
          "start_time": "2022-05-07T10:03:20.849555",
          "status": "completed"
        },
        "tags": [],
        "colab": {
          "base_uri": "https://localhost:8080/"
        },
        "id": "84e26e62",
        "outputId": "baa69279-fe00-41f6-bab6-3ff0afd68493"
      },
      "outputs": [
        {
          "output_type": "execute_result",
          "data": {
            "text/plain": [
              "array([ 0.43534584,  0.        , -0.        , -0.        ,  0.        ,\n",
              "        0.        ,  0.        ,  0.        ])"
            ]
          },
          "metadata": {},
          "execution_count": 69
        }
      ],
      "source": [
        "model_lasso.coef_"
      ]
    },
    {
      "cell_type": "code",
      "execution_count": 70,
      "id": "545c9425",
      "metadata": {
        "execution": {
          "iopub.execute_input": "2022-05-07T10:03:21.255490Z",
          "iopub.status.busy": "2022-05-07T10:03:21.254946Z",
          "iopub.status.idle": "2022-05-07T10:03:21.269311Z",
          "shell.execute_reply": "2022-05-07T10:03:21.268347Z"
        },
        "papermill": {
          "duration": 0.163958,
          "end_time": "2022-05-07T10:03:21.272321",
          "exception": false,
          "start_time": "2022-05-07T10:03:21.108363",
          "status": "completed"
        },
        "tags": [],
        "colab": {
          "base_uri": "https://localhost:8080/"
        },
        "id": "545c9425",
        "outputId": "596c0a23-644e-485e-86b0-48c5481915e7"
      },
      "outputs": [
        {
          "output_type": "stream",
          "name": "stdout",
          "text": [
            "lasso reggression score train: 0.2765951683582323\n",
            "lasso reggression R^2: test 0.2812011973379386\n"
          ]
        }
      ],
      "source": [
        "print('lasso reggression score train:', model_lasso.score(X_train, y_train))\n",
        "print('lasso reggression R^2: test', metrics.r2_score(y_test, y_pred_test_lasso))"
      ]
    },
    {
      "cell_type": "markdown",
      "id": "b6200163",
      "metadata": {
        "papermill": {
          "duration": 0.121994,
          "end_time": "2022-05-07T10:03:21.571026",
          "exception": false,
          "start_time": "2022-05-07T10:03:21.449032",
          "status": "completed"
        },
        "tags": [],
        "id": "b6200163"
      },
      "source": [
        "# Just servicecharge"
      ]
    },
    {
      "cell_type": "code",
      "execution_count": 71,
      "id": "dcb934e5",
      "metadata": {
        "execution": {
          "iopub.execute_input": "2022-05-07T10:03:21.816837Z",
          "iopub.status.busy": "2022-05-07T10:03:21.816567Z",
          "iopub.status.idle": "2022-05-07T10:03:21.820031Z",
          "shell.execute_reply": "2022-05-07T10:03:21.819472Z"
        },
        "papermill": {
          "duration": 0.128957,
          "end_time": "2022-05-07T10:03:21.822028",
          "exception": false,
          "start_time": "2022-05-07T10:03:21.693071",
          "status": "completed"
        },
        "tags": [],
        "id": "dcb934e5"
      },
      "outputs": [],
      "source": [
        "X2 = X['serviceCharge']"
      ]
    },
    {
      "cell_type": "code",
      "execution_count": 72,
      "id": "150b6a0c",
      "metadata": {
        "execution": {
          "iopub.execute_input": "2022-05-07T10:03:22.068631Z",
          "iopub.status.busy": "2022-05-07T10:03:22.068336Z",
          "iopub.status.idle": "2022-05-07T10:03:22.089676Z",
          "shell.execute_reply": "2022-05-07T10:03:22.088989Z"
        },
        "papermill": {
          "duration": 0.146923,
          "end_time": "2022-05-07T10:03:22.091740",
          "exception": false,
          "start_time": "2022-05-07T10:03:21.944817",
          "status": "completed"
        },
        "tags": [],
        "id": "150b6a0c"
      },
      "outputs": [],
      "source": [
        "y = pd.DataFrame(data=y, columns=['totalRent'])\n",
        "X2 = pd.DataFrame(data=X2, columns=['serviceCharge'])"
      ]
    },
    {
      "cell_type": "code",
      "execution_count": 73,
      "id": "73622d56",
      "metadata": {
        "execution": {
          "iopub.execute_input": "2022-05-07T10:03:22.341462Z",
          "iopub.status.busy": "2022-05-07T10:03:22.340666Z",
          "iopub.status.idle": "2022-05-07T10:03:22.390303Z",
          "shell.execute_reply": "2022-05-07T10:03:22.389515Z"
        },
        "papermill": {
          "duration": 0.176501,
          "end_time": "2022-05-07T10:03:22.392548",
          "exception": false,
          "start_time": "2022-05-07T10:03:22.216047",
          "status": "completed"
        },
        "tags": [],
        "id": "73622d56"
      },
      "outputs": [],
      "source": [
        "X_train2,X_test2,y_train2,y_test2 = train_test_split(X2,y,test_size=0.2)\n",
        "ss = StandardScaler()\n",
        "preprocessor_x2 = ColumnTransformer(\n",
        "    transformers=[\n",
        "            ('serviceCharge', ss, ['serviceCharge']),\n",
        "])\n",
        "preprocessor_y2 = ColumnTransformer(\n",
        "    transformers=[\n",
        "            ('totalRent', ss, ['totalRent']),       \n",
        "])\n",
        "fitter_y2 = preprocessor_y2.fit(y_train2)\n",
        "fitter_x2 = preprocessor_x2.fit(X_train2)\n",
        "y_train2 = fitter_y2.transform(y_train2)\n",
        "y_test2 = fitter_y2.transform(y_test2)\n",
        "X_train2 = fitter_x2.transform(X_train2)\n",
        "X_test2 = fitter_x2.transform(X_test2)"
      ]
    },
    {
      "cell_type": "code",
      "execution_count": 74,
      "id": "a216f127",
      "metadata": {
        "execution": {
          "iopub.execute_input": "2022-05-07T10:03:22.639355Z",
          "iopub.status.busy": "2022-05-07T10:03:22.639093Z",
          "iopub.status.idle": "2022-05-07T10:03:22.642774Z",
          "shell.execute_reply": "2022-05-07T10:03:22.641969Z"
        },
        "papermill": {
          "duration": 0.12948,
          "end_time": "2022-05-07T10:03:22.644778",
          "exception": false,
          "start_time": "2022-05-07T10:03:22.515298",
          "status": "completed"
        },
        "tags": [],
        "id": "a216f127"
      },
      "outputs": [],
      "source": [
        "model_lr_ser = LinearRegression()"
      ]
    },
    {
      "cell_type": "code",
      "execution_count": 75,
      "id": "3485cc35",
      "metadata": {
        "execution": {
          "iopub.execute_input": "2022-05-07T10:03:22.896252Z",
          "iopub.status.busy": "2022-05-07T10:03:22.895956Z",
          "iopub.status.idle": "2022-05-07T10:03:22.907933Z",
          "shell.execute_reply": "2022-05-07T10:03:22.907040Z"
        },
        "papermill": {
          "duration": 0.139778,
          "end_time": "2022-05-07T10:03:22.910083",
          "exception": false,
          "start_time": "2022-05-07T10:03:22.770305",
          "status": "completed"
        },
        "tags": [],
        "colab": {
          "base_uri": "https://localhost:8080/"
        },
        "id": "3485cc35",
        "outputId": "1fa25fd3-985b-44cb-b479-d19af4a20c16"
      },
      "outputs": [
        {
          "output_type": "execute_result",
          "data": {
            "text/plain": [
              "LinearRegression()"
            ]
          },
          "metadata": {},
          "execution_count": 75
        }
      ],
      "source": [
        "model_lr_ser.fit(X_train2, y_train2)"
      ]
    },
    {
      "cell_type": "code",
      "execution_count": 76,
      "id": "1ffd8a82",
      "metadata": {
        "execution": {
          "iopub.execute_input": "2022-05-07T10:03:23.183260Z",
          "iopub.status.busy": "2022-05-07T10:03:23.182961Z",
          "iopub.status.idle": "2022-05-07T10:03:23.187343Z",
          "shell.execute_reply": "2022-05-07T10:03:23.186525Z"
        },
        "papermill": {
          "duration": 0.14198,
          "end_time": "2022-05-07T10:03:23.189276",
          "exception": false,
          "start_time": "2022-05-07T10:03:23.047296",
          "status": "completed"
        },
        "tags": [],
        "id": "1ffd8a82"
      },
      "outputs": [],
      "source": [
        "y_pred_test2 = model_lr_ser.predict(X_test2)"
      ]
    },
    {
      "cell_type": "code",
      "execution_count": 77,
      "id": "1b5d54e8",
      "metadata": {
        "execution": {
          "iopub.execute_input": "2022-05-07T10:03:23.439534Z",
          "iopub.status.busy": "2022-05-07T10:03:23.439265Z",
          "iopub.status.idle": "2022-05-07T10:03:23.444146Z",
          "shell.execute_reply": "2022-05-07T10:03:23.443634Z"
        },
        "papermill": {
          "duration": 0.132252,
          "end_time": "2022-05-07T10:03:23.445812",
          "exception": false,
          "start_time": "2022-05-07T10:03:23.313560",
          "status": "completed"
        },
        "tags": [],
        "colab": {
          "base_uri": "https://localhost:8080/"
        },
        "id": "1b5d54e8",
        "outputId": "706a058c-8cae-4b71-851d-8b677770c27d"
      },
      "outputs": [
        {
          "output_type": "execute_result",
          "data": {
            "text/plain": [
              "array([[0.53613911]])"
            ]
          },
          "metadata": {},
          "execution_count": 77
        }
      ],
      "source": [
        "model_lr_ser.coef_"
      ]
    },
    {
      "cell_type": "code",
      "execution_count": 78,
      "id": "d0492d80",
      "metadata": {
        "execution": {
          "iopub.execute_input": "2022-05-07T10:03:23.694530Z",
          "iopub.status.busy": "2022-05-07T10:03:23.693880Z",
          "iopub.status.idle": "2022-05-07T10:03:23.704083Z",
          "shell.execute_reply": "2022-05-07T10:03:23.703204Z"
        },
        "papermill": {
          "duration": 0.136915,
          "end_time": "2022-05-07T10:03:23.706010",
          "exception": false,
          "start_time": "2022-05-07T10:03:23.569095",
          "status": "completed"
        },
        "tags": [],
        "colab": {
          "base_uri": "https://localhost:8080/"
        },
        "id": "d0492d80",
        "outputId": "4175e3a9-3a85-4c5c-e844-c76354a18916"
      },
      "outputs": [
        {
          "output_type": "stream",
          "name": "stdout",
          "text": [
            "linear reggression serviceCharge score train: 0.2874451406558619\n",
            "linear reggression serviceCharge R^2: test 0.28793048050113523\n"
          ]
        }
      ],
      "source": [
        "print('linear reggression serviceCharge score train:', model_lr_ser.score(X_train2, y_train2))\n",
        "print('linear reggression serviceCharge R^2: test', metrics.r2_score(y_test2, y_pred_test2))"
      ]
    },
    {
      "cell_type": "markdown",
      "id": "778c3009",
      "metadata": {
        "papermill": {
          "duration": 0.128142,
          "end_time": "2022-05-07T10:03:23.957220",
          "exception": false,
          "start_time": "2022-05-07T10:03:23.829078",
          "status": "completed"
        },
        "tags": [],
        "id": "778c3009"
      },
      "source": [
        "# DecisionTreeRegressor"
      ]
    },
    {
      "cell_type": "code",
      "execution_count": 79,
      "id": "1e7e0e0e",
      "metadata": {
        "execution": {
          "iopub.execute_input": "2022-05-07T10:03:24.204886Z",
          "iopub.status.busy": "2022-05-07T10:03:24.204298Z",
          "iopub.status.idle": "2022-05-07T10:03:24.207723Z",
          "shell.execute_reply": "2022-05-07T10:03:24.207212Z"
        },
        "papermill": {
          "duration": 0.129971,
          "end_time": "2022-05-07T10:03:24.209491",
          "exception": false,
          "start_time": "2022-05-07T10:03:24.079520",
          "status": "completed"
        },
        "tags": [],
        "id": "1e7e0e0e"
      },
      "outputs": [],
      "source": [
        "tree = DecisionTreeRegressor()"
      ]
    },
    {
      "cell_type": "code",
      "execution_count": 80,
      "id": "c740933f",
      "metadata": {
        "execution": {
          "iopub.execute_input": "2022-05-07T10:03:24.458665Z",
          "iopub.status.busy": "2022-05-07T10:03:24.458031Z",
          "iopub.status.idle": "2022-05-07T10:03:24.683884Z",
          "shell.execute_reply": "2022-05-07T10:03:24.683309Z"
        },
        "papermill": {
          "duration": 0.352616,
          "end_time": "2022-05-07T10:03:24.685559",
          "exception": false,
          "start_time": "2022-05-07T10:03:24.332943",
          "status": "completed"
        },
        "tags": [],
        "colab": {
          "base_uri": "https://localhost:8080/"
        },
        "id": "c740933f",
        "outputId": "4b38adbc-2c5a-4e25-b2b7-718d6e2131d7"
      },
      "outputs": [
        {
          "output_type": "execute_result",
          "data": {
            "text/plain": [
              "DecisionTreeRegressor()"
            ]
          },
          "metadata": {},
          "execution_count": 80
        }
      ],
      "source": [
        "tree.fit(X_train, y_train)"
      ]
    },
    {
      "cell_type": "code",
      "execution_count": 81,
      "id": "14042eb4",
      "metadata": {
        "execution": {
          "iopub.execute_input": "2022-05-07T10:03:24.936954Z",
          "iopub.status.busy": "2022-05-07T10:03:24.936096Z",
          "iopub.status.idle": "2022-05-07T10:03:24.952854Z",
          "shell.execute_reply": "2022-05-07T10:03:24.952247Z"
        },
        "papermill": {
          "duration": 0.144632,
          "end_time": "2022-05-07T10:03:24.954873",
          "exception": false,
          "start_time": "2022-05-07T10:03:24.810241",
          "status": "completed"
        },
        "tags": [],
        "id": "14042eb4"
      },
      "outputs": [],
      "source": [
        "y_pred_tree = tree.predict(X_test)"
      ]
    },
    {
      "cell_type": "code",
      "execution_count": 82,
      "id": "5485eb6a",
      "metadata": {
        "execution": {
          "iopub.execute_input": "2022-05-07T10:03:25.201566Z",
          "iopub.status.busy": "2022-05-07T10:03:25.201049Z",
          "iopub.status.idle": "2022-05-07T10:03:25.256355Z",
          "shell.execute_reply": "2022-05-07T10:03:25.255443Z"
        },
        "papermill": {
          "duration": 0.18112,
          "end_time": "2022-05-07T10:03:25.258491",
          "exception": false,
          "start_time": "2022-05-07T10:03:25.077371",
          "status": "completed"
        },
        "tags": [],
        "colab": {
          "base_uri": "https://localhost:8080/"
        },
        "id": "5485eb6a",
        "outputId": "770ce4cd-c84a-4805-d1eb-24077cf2ce3a"
      },
      "outputs": [
        {
          "output_type": "stream",
          "name": "stdout",
          "text": [
            "DecisionTreeRegressor: train 0.44162459445130076\n",
            "DecisionTreeRegressor R^2: test 0.34687859595220993\n"
          ]
        }
      ],
      "source": [
        "print('DecisionTreeRegressor: train', tree.score(X_train, y_train))\n",
        "print('DecisionTreeRegressor R^2: test', metrics.r2_score(y_test, y_pred_tree))"
      ]
    }
  ],
  "metadata": {
    "kernelspec": {
      "display_name": "Python 3",
      "language": "python",
      "name": "python3"
    },
    "language_info": {
      "codemirror_mode": {
        "name": "ipython",
        "version": 3
      },
      "file_extension": ".py",
      "mimetype": "text/x-python",
      "name": "python",
      "nbconvert_exporter": "python",
      "pygments_lexer": "ipython3",
      "version": "3.7.12"
    },
    "papermill": {
      "default_parameters": {},
      "duration": 47.949836,
      "end_time": "2022-05-07T10:03:26.102437",
      "environment_variables": {},
      "exception": null,
      "input_path": "__notebook__.ipynb",
      "output_path": "__notebook__.ipynb",
      "parameters": {},
      "start_time": "2022-05-07T10:02:38.152601",
      "version": "2.3.4"
    },
    "colab": {
      "name": "homework2-part2.ipynb",
      "provenance": [],
      "collapsed_sections": [
        "9e8268bd"
      ]
    }
  },
  "nbformat": 4,
  "nbformat_minor": 5
}