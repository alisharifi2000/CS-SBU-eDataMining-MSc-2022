{
  "nbformat": 4,
  "nbformat_minor": 0,
  "metadata": {
    "colab": {
      "name": "SBU_DataMining_ds3.ipynb",
      "provenance": [],
      "collapsed_sections": []
    },
    "kernelspec": {
      "name": "python3",
      "display_name": "Python 3"
    },
    "language_info": {
      "name": "python"
    }
  },
  "cells": [
    {
      "cell_type": "markdown",
      "source": [
        "# Dataset 1: Mobile Price Dataset\n",
        "In this data set we will run forward feature selection, PCA, data transformation."
      ],
      "metadata": {
        "id": "cHaBxXfV6rsA"
      }
    },
    {
      "cell_type": "code",
      "execution_count": null,
      "metadata": {
        "colab": {
          "base_uri": "https://localhost:8080/"
        },
        "id": "XNOxb4Z1uWaI",
        "outputId": "75b660e2-c1d3-4212-caff-aedc005223ed"
      },
      "outputs": [
        {
          "output_type": "stream",
          "name": "stdout",
          "text": [
            "Looking in indexes: https://pypi.org/simple, https://us-python.pkg.dev/colab-wheels/public/simple/\n",
            "Requirement already satisfied: kaggle in /usr/local/lib/python3.7/dist-packages (1.5.12)\n",
            "Requirement already satisfied: python-dateutil in /usr/local/lib/python3.7/dist-packages (from kaggle) (2.8.2)\n",
            "Requirement already satisfied: certifi in /usr/local/lib/python3.7/dist-packages (from kaggle) (2022.5.18.1)\n",
            "Requirement already satisfied: python-slugify in /usr/local/lib/python3.7/dist-packages (from kaggle) (6.1.2)\n",
            "Requirement already satisfied: six>=1.10 in /usr/local/lib/python3.7/dist-packages (from kaggle) (1.15.0)\n",
            "Requirement already satisfied: requests in /usr/local/lib/python3.7/dist-packages (from kaggle) (2.23.0)\n",
            "Requirement already satisfied: urllib3 in /usr/local/lib/python3.7/dist-packages (from kaggle) (1.24.3)\n",
            "Requirement already satisfied: tqdm in /usr/local/lib/python3.7/dist-packages (from kaggle) (4.64.0)\n",
            "Requirement already satisfied: text-unidecode>=1.3 in /usr/local/lib/python3.7/dist-packages (from python-slugify->kaggle) (1.3)\n",
            "Requirement already satisfied: chardet<4,>=3.0.2 in /usr/local/lib/python3.7/dist-packages (from requests->kaggle) (3.0.4)\n",
            "Requirement already satisfied: idna<3,>=2.5 in /usr/local/lib/python3.7/dist-packages (from requests->kaggle) (2.10)\n"
          ]
        }
      ],
      "source": [
        "#indtaling needed library for reading data from kaggle\n",
        "! pip install kaggle"
      ]
    },
    {
      "cell_type": "code",
      "source": [
        "#Importing API\n",
        "from google.colab import files\n",
        "files.upload()"
      ],
      "metadata": {
        "colab": {
          "resources": {
            "http://localhost:8080/nbextensions/google.colab/files.js": {
              "data": "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",
              "ok": true,
              "headers": [
                [
                  "content-type",
                  "application/javascript"
                ]
              ],
              "status": 200,
              "status_text": ""
            }
          },
          "base_uri": "https://localhost:8080/",
          "height": 90
        },
        "id": "4VxcGjiTueJU",
        "outputId": "88d3f0dc-b1f5-47e6-d121-6fc205b3f004"
      },
      "execution_count": null,
      "outputs": [
        {
          "output_type": "display_data",
          "data": {
            "text/plain": [
              "<IPython.core.display.HTML object>"
            ],
            "text/html": [
              "\n",
              "     <input type=\"file\" id=\"files-15b0df99-83a3-4502-be4e-4ff525376a38\" name=\"files[]\" multiple disabled\n",
              "        style=\"border:none\" />\n",
              "     <output id=\"result-15b0df99-83a3-4502-be4e-4ff525376a38\">\n",
              "      Upload widget is only available when the cell has been executed in the\n",
              "      current browser session. Please rerun this cell to enable.\n",
              "      </output>\n",
              "      <script src=\"/nbextensions/google.colab/files.js\"></script> "
            ]
          },
          "metadata": {}
        },
        {
          "output_type": "stream",
          "name": "stdout",
          "text": [
            "Saving kaggle.json to kaggle.json\n"
          ]
        },
        {
          "output_type": "execute_result",
          "data": {
            "text/plain": [
              "{'kaggle.json': b'{\"username\":\"hamidrezafirooze\",\"key\":\"41885072a44c13f97976c4e4e26ef886\"}'}"
            ]
          },
          "metadata": {},
          "execution_count": 2
        }
      ]
    },
    {
      "cell_type": "code",
      "source": [
        "!mkdir -p ~/.kaggle\n",
        "!cp kaggle.json ~/.kaggle/\n",
        "!chmod 600 ~/.kaggle/kaggle.json"
      ],
      "metadata": {
        "id": "Em_ZdC8dwO4R"
      },
      "execution_count": null,
      "outputs": []
    },
    {
      "cell_type": "code",
      "source": [
        "! kaggle datasets download -d iabhishekofficial/mobile-price-classification"
      ],
      "metadata": {
        "colab": {
          "base_uri": "https://localhost:8080/"
        },
        "id": "eVGqGh6IwYXj",
        "outputId": "6df7d812-c4cd-448b-b878-76d6a9883896"
      },
      "execution_count": null,
      "outputs": [
        {
          "output_type": "stream",
          "name": "stdout",
          "text": [
            "Downloading mobile-price-classification.zip to /content\n",
            "\r  0% 0.00/70.6k [00:00<?, ?B/s]\n",
            "\r100% 70.6k/70.6k [00:00<00:00, 23.9MB/s]\n"
          ]
        }
      ]
    },
    {
      "cell_type": "code",
      "source": [
        "! ls"
      ],
      "metadata": {
        "colab": {
          "base_uri": "https://localhost:8080/"
        },
        "id": "sMJEwUE8wvL_",
        "outputId": "2a22521b-3056-4554-d402-c8cefa218535"
      },
      "execution_count": null,
      "outputs": [
        {
          "output_type": "stream",
          "name": "stdout",
          "text": [
            "kaggle.json  mobile-price-classification.zip  sample_data\n"
          ]
        }
      ]
    },
    {
      "cell_type": "code",
      "source": [
        "#Reading data\n",
        "import zipfile\n",
        "zip_ref = zipfile.ZipFile(\"mobile-price-classification.zip\", \"r\")\n",
        "zip_ref.extractall(\"files\")\n",
        "zip_ref.close()\n",
        "import pandas as pd\n",
        "test=pd.read_csv(\"/content/files/test.csv\")\n",
        "train=pd.read_csv(\"/content/files/train.csv\")"
      ],
      "metadata": {
        "id": "DAPYNsq-w9qe"
      },
      "execution_count": null,
      "outputs": []
    },
    {
      "cell_type": "code",
      "source": [
        "train.head()"
      ],
      "metadata": {
        "colab": {
          "base_uri": "https://localhost:8080/",
          "height": 300
        },
        "id": "Vv1rGZX0yMdt",
        "outputId": "d3f8cc57-488a-48b2-8463-029100168f5c"
      },
      "execution_count": null,
      "outputs": [
        {
          "output_type": "execute_result",
          "data": {
            "text/plain": [
              "   battery_power  blue  clock_speed  dual_sim  fc  four_g  int_memory  m_dep  \\\n",
              "0            842     0          2.2         0   1       0           7    0.6   \n",
              "1           1021     1          0.5         1   0       1          53    0.7   \n",
              "2            563     1          0.5         1   2       1          41    0.9   \n",
              "3            615     1          2.5         0   0       0          10    0.8   \n",
              "4           1821     1          1.2         0  13       1          44    0.6   \n",
              "\n",
              "   mobile_wt  n_cores  ...  px_height  px_width   ram  sc_h  sc_w  talk_time  \\\n",
              "0        188        2  ...         20       756  2549     9     7         19   \n",
              "1        136        3  ...        905      1988  2631    17     3          7   \n",
              "2        145        5  ...       1263      1716  2603    11     2          9   \n",
              "3        131        6  ...       1216      1786  2769    16     8         11   \n",
              "4        141        2  ...       1208      1212  1411     8     2         15   \n",
              "\n",
              "   three_g  touch_screen  wifi  price_range  \n",
              "0        0             0     1            1  \n",
              "1        1             1     0            2  \n",
              "2        1             1     0            2  \n",
              "3        1             0     0            2  \n",
              "4        1             1     0            1  \n",
              "\n",
              "[5 rows x 21 columns]"
            ],
            "text/html": [
              "\n",
              "  <div id=\"df-ddb356be-cc69-4b36-82f4-e74bf47388ee\">\n",
              "    <div class=\"colab-df-container\">\n",
              "      <div>\n",
              "<style scoped>\n",
              "    .dataframe tbody tr th:only-of-type {\n",
              "        vertical-align: middle;\n",
              "    }\n",
              "\n",
              "    .dataframe tbody tr th {\n",
              "        vertical-align: top;\n",
              "    }\n",
              "\n",
              "    .dataframe thead th {\n",
              "        text-align: right;\n",
              "    }\n",
              "</style>\n",
              "<table border=\"1\" class=\"dataframe\">\n",
              "  <thead>\n",
              "    <tr style=\"text-align: right;\">\n",
              "      <th></th>\n",
              "      <th>battery_power</th>\n",
              "      <th>blue</th>\n",
              "      <th>clock_speed</th>\n",
              "      <th>dual_sim</th>\n",
              "      <th>fc</th>\n",
              "      <th>four_g</th>\n",
              "      <th>int_memory</th>\n",
              "      <th>m_dep</th>\n",
              "      <th>mobile_wt</th>\n",
              "      <th>n_cores</th>\n",
              "      <th>...</th>\n",
              "      <th>px_height</th>\n",
              "      <th>px_width</th>\n",
              "      <th>ram</th>\n",
              "      <th>sc_h</th>\n",
              "      <th>sc_w</th>\n",
              "      <th>talk_time</th>\n",
              "      <th>three_g</th>\n",
              "      <th>touch_screen</th>\n",
              "      <th>wifi</th>\n",
              "      <th>price_range</th>\n",
              "    </tr>\n",
              "  </thead>\n",
              "  <tbody>\n",
              "    <tr>\n",
              "      <th>0</th>\n",
              "      <td>842</td>\n",
              "      <td>0</td>\n",
              "      <td>2.2</td>\n",
              "      <td>0</td>\n",
              "      <td>1</td>\n",
              "      <td>0</td>\n",
              "      <td>7</td>\n",
              "      <td>0.6</td>\n",
              "      <td>188</td>\n",
              "      <td>2</td>\n",
              "      <td>...</td>\n",
              "      <td>20</td>\n",
              "      <td>756</td>\n",
              "      <td>2549</td>\n",
              "      <td>9</td>\n",
              "      <td>7</td>\n",
              "      <td>19</td>\n",
              "      <td>0</td>\n",
              "      <td>0</td>\n",
              "      <td>1</td>\n",
              "      <td>1</td>\n",
              "    </tr>\n",
              "    <tr>\n",
              "      <th>1</th>\n",
              "      <td>1021</td>\n",
              "      <td>1</td>\n",
              "      <td>0.5</td>\n",
              "      <td>1</td>\n",
              "      <td>0</td>\n",
              "      <td>1</td>\n",
              "      <td>53</td>\n",
              "      <td>0.7</td>\n",
              "      <td>136</td>\n",
              "      <td>3</td>\n",
              "      <td>...</td>\n",
              "      <td>905</td>\n",
              "      <td>1988</td>\n",
              "      <td>2631</td>\n",
              "      <td>17</td>\n",
              "      <td>3</td>\n",
              "      <td>7</td>\n",
              "      <td>1</td>\n",
              "      <td>1</td>\n",
              "      <td>0</td>\n",
              "      <td>2</td>\n",
              "    </tr>\n",
              "    <tr>\n",
              "      <th>2</th>\n",
              "      <td>563</td>\n",
              "      <td>1</td>\n",
              "      <td>0.5</td>\n",
              "      <td>1</td>\n",
              "      <td>2</td>\n",
              "      <td>1</td>\n",
              "      <td>41</td>\n",
              "      <td>0.9</td>\n",
              "      <td>145</td>\n",
              "      <td>5</td>\n",
              "      <td>...</td>\n",
              "      <td>1263</td>\n",
              "      <td>1716</td>\n",
              "      <td>2603</td>\n",
              "      <td>11</td>\n",
              "      <td>2</td>\n",
              "      <td>9</td>\n",
              "      <td>1</td>\n",
              "      <td>1</td>\n",
              "      <td>0</td>\n",
              "      <td>2</td>\n",
              "    </tr>\n",
              "    <tr>\n",
              "      <th>3</th>\n",
              "      <td>615</td>\n",
              "      <td>1</td>\n",
              "      <td>2.5</td>\n",
              "      <td>0</td>\n",
              "      <td>0</td>\n",
              "      <td>0</td>\n",
              "      <td>10</td>\n",
              "      <td>0.8</td>\n",
              "      <td>131</td>\n",
              "      <td>6</td>\n",
              "      <td>...</td>\n",
              "      <td>1216</td>\n",
              "      <td>1786</td>\n",
              "      <td>2769</td>\n",
              "      <td>16</td>\n",
              "      <td>8</td>\n",
              "      <td>11</td>\n",
              "      <td>1</td>\n",
              "      <td>0</td>\n",
              "      <td>0</td>\n",
              "      <td>2</td>\n",
              "    </tr>\n",
              "    <tr>\n",
              "      <th>4</th>\n",
              "      <td>1821</td>\n",
              "      <td>1</td>\n",
              "      <td>1.2</td>\n",
              "      <td>0</td>\n",
              "      <td>13</td>\n",
              "      <td>1</td>\n",
              "      <td>44</td>\n",
              "      <td>0.6</td>\n",
              "      <td>141</td>\n",
              "      <td>2</td>\n",
              "      <td>...</td>\n",
              "      <td>1208</td>\n",
              "      <td>1212</td>\n",
              "      <td>1411</td>\n",
              "      <td>8</td>\n",
              "      <td>2</td>\n",
              "      <td>15</td>\n",
              "      <td>1</td>\n",
              "      <td>1</td>\n",
              "      <td>0</td>\n",
              "      <td>1</td>\n",
              "    </tr>\n",
              "  </tbody>\n",
              "</table>\n",
              "<p>5 rows × 21 columns</p>\n",
              "</div>\n",
              "      <button class=\"colab-df-convert\" onclick=\"convertToInteractive('df-ddb356be-cc69-4b36-82f4-e74bf47388ee')\"\n",
              "              title=\"Convert this dataframe to an interactive table.\"\n",
              "              style=\"display:none;\">\n",
              "        \n",
              "  <svg xmlns=\"http://www.w3.org/2000/svg\" height=\"24px\"viewBox=\"0 0 24 24\"\n",
              "       width=\"24px\">\n",
              "    <path d=\"M0 0h24v24H0V0z\" fill=\"none\"/>\n",
              "    <path d=\"M18.56 5.44l.94 2.06.94-2.06 2.06-.94-2.06-.94-.94-2.06-.94 2.06-2.06.94zm-11 1L8.5 8.5l.94-2.06 2.06-.94-2.06-.94L8.5 2.5l-.94 2.06-2.06.94zm10 10l.94 2.06.94-2.06 2.06-.94-2.06-.94-.94-2.06-.94 2.06-2.06.94z\"/><path d=\"M17.41 7.96l-1.37-1.37c-.4-.4-.92-.59-1.43-.59-.52 0-1.04.2-1.43.59L10.3 9.45l-7.72 7.72c-.78.78-.78 2.05 0 2.83L4 21.41c.39.39.9.59 1.41.59.51 0 1.02-.2 1.41-.59l7.78-7.78 2.81-2.81c.8-.78.8-2.07 0-2.86zM5.41 20L4 18.59l7.72-7.72 1.47 1.35L5.41 20z\"/>\n",
              "  </svg>\n",
              "      </button>\n",
              "      \n",
              "  <style>\n",
              "    .colab-df-container {\n",
              "      display:flex;\n",
              "      flex-wrap:wrap;\n",
              "      gap: 12px;\n",
              "    }\n",
              "\n",
              "    .colab-df-convert {\n",
              "      background-color: #E8F0FE;\n",
              "      border: none;\n",
              "      border-radius: 50%;\n",
              "      cursor: pointer;\n",
              "      display: none;\n",
              "      fill: #1967D2;\n",
              "      height: 32px;\n",
              "      padding: 0 0 0 0;\n",
              "      width: 32px;\n",
              "    }\n",
              "\n",
              "    .colab-df-convert:hover {\n",
              "      background-color: #E2EBFA;\n",
              "      box-shadow: 0px 1px 2px rgba(60, 64, 67, 0.3), 0px 1px 3px 1px rgba(60, 64, 67, 0.15);\n",
              "      fill: #174EA6;\n",
              "    }\n",
              "\n",
              "    [theme=dark] .colab-df-convert {\n",
              "      background-color: #3B4455;\n",
              "      fill: #D2E3FC;\n",
              "    }\n",
              "\n",
              "    [theme=dark] .colab-df-convert:hover {\n",
              "      background-color: #434B5C;\n",
              "      box-shadow: 0px 1px 3px 1px rgba(0, 0, 0, 0.15);\n",
              "      filter: drop-shadow(0px 1px 2px rgba(0, 0, 0, 0.3));\n",
              "      fill: #FFFFFF;\n",
              "    }\n",
              "  </style>\n",
              "\n",
              "      <script>\n",
              "        const buttonEl =\n",
              "          document.querySelector('#df-ddb356be-cc69-4b36-82f4-e74bf47388ee button.colab-df-convert');\n",
              "        buttonEl.style.display =\n",
              "          google.colab.kernel.accessAllowed ? 'block' : 'none';\n",
              "\n",
              "        async function convertToInteractive(key) {\n",
              "          const element = document.querySelector('#df-ddb356be-cc69-4b36-82f4-e74bf47388ee');\n",
              "          const dataTable =\n",
              "            await google.colab.kernel.invokeFunction('convertToInteractive',\n",
              "                                                     [key], {});\n",
              "          if (!dataTable) return;\n",
              "\n",
              "          const docLinkHtml = 'Like what you see? Visit the ' +\n",
              "            '<a target=\"_blank\" href=https://colab.research.google.com/notebooks/data_table.ipynb>data table notebook</a>'\n",
              "            + ' to learn more about interactive tables.';\n",
              "          element.innerHTML = '';\n",
              "          dataTable['output_type'] = 'display_data';\n",
              "          await google.colab.output.renderOutput(dataTable, element);\n",
              "          const docLink = document.createElement('div');\n",
              "          docLink.innerHTML = docLinkHtml;\n",
              "          element.appendChild(docLink);\n",
              "        }\n",
              "      </script>\n",
              "    </div>\n",
              "  </div>\n",
              "  "
            ]
          },
          "metadata": {},
          "execution_count": 15
        }
      ]
    },
    {
      "cell_type": "code",
      "source": [
        "train[\"price_range\"].value_counts()"
      ],
      "metadata": {
        "colab": {
          "base_uri": "https://localhost:8080/"
        },
        "id": "TTEGgFs5yk6t",
        "outputId": "7f200be1-8ae8-41dc-b77b-9d5656557854"
      },
      "execution_count": null,
      "outputs": [
        {
          "output_type": "execute_result",
          "data": {
            "text/plain": [
              "1    500\n",
              "2    500\n",
              "3    500\n",
              "0    500\n",
              "Name: price_range, dtype: int64"
            ]
          },
          "metadata": {},
          "execution_count": 18
        }
      ]
    },
    {
      "cell_type": "markdown",
      "source": [
        "## Task1"
      ],
      "metadata": {
        "id": "h_v7mVTEoC-e"
      }
    },
    {
      "cell_type": "code",
      "source": [
        "#Defining new column with two classes for mobile with low and high price\n",
        "train[\"price_class\"]=(train[\"price_range\"]/2).astype(int)\n",
        "train.drop(\"price_range\", axis=1, inplace=True)"
      ],
      "metadata": {
        "id": "bJET9y_51e8O"
      },
      "execution_count": null,
      "outputs": []
    },
    {
      "cell_type": "code",
      "source": [
        "#Importing needed library\n",
        "from sklearn.linear_model import LogisticRegression\n",
        "from sklearn.metrics import roc_auc_score, f1_score, precision_score, recall_score"
      ],
      "metadata": {
        "id": "IdXUu-_B6q8q"
      },
      "execution_count": null,
      "outputs": []
    },
    {
      "cell_type": "code",
      "source": [
        "#Defining function for logistic regression model\n",
        "def log_reg(X, y):\n",
        "  '''\n",
        "  In this function we get X datframe as feature and y dataframe as classes.\n",
        "  This gunction returns the AUC score\n",
        "  '''\n",
        "  \n",
        "  clf=LogisticRegression(random_state=0, max_iter=400).fit(X, y)\n",
        "  y_pred=clf.predict(X)\n",
        "  AUC_score=roc_auc_score(y, y_pred)\n",
        "  return AUC_score"
      ],
      "metadata": {
        "id": "h8yeevkA40DG"
      },
      "execution_count": null,
      "outputs": []
    },
    {
      "cell_type": "code",
      "source": [
        "#Defining a function for forward selection\n",
        "def forward_selection(current_featurs_data_set, new_featres_list,score):\n",
        "  '''\n",
        "  \n",
        "  '''\n",
        "  best_ft=\"\"\n",
        "  for new_ft in new_featres_list:\n",
        "    X=current_featurs_data_set\n",
        "    X[new_ft]=train[new_ft]\n",
        "    new_ft_score=log_reg(X, y)\n",
        "    if new_ft_score>score:\n",
        "      best_ft=new_ft\n",
        "      score=new_ft_score\n",
        "    X.drop(new_ft, axis=1, inplace=True)\n",
        "  print(best_ft, new_ft_score)\n",
        "  return best_ft, score"
      ],
      "metadata": {
        "id": "uxKOy7RH9Tau"
      },
      "execution_count": null,
      "outputs": []
    },
    {
      "cell_type": "code",
      "source": [
        "y=train[\"price_class\"]\n",
        "score=0\n",
        "current_features_data_set=pd.DataFrame()\n",
        "new_features_list=list(train.drop(\"price_class\", axis=1))\n",
        "stoppoing_rule=False\n",
        "while stoppoing_rule==False:\n",
        "  new_best_ft,  score=forward_selection(current_features_data_set, new_features_list,score)\n",
        "  if new_best_ft!=\"\":\n",
        "    current_features_data_set[new_best_ft]=train[new_best_ft]\n",
        "    new_features_list.remove(new_best_ft)\n",
        "    print(len(current_features_data_set.dtypes))\n",
        "  else:\n",
        "    stoppoing_rule=True"
      ],
      "metadata": {
        "colab": {
          "base_uri": "https://localhost:8080/"
        },
        "id": "U5gDconP9U6o",
        "outputId": "1926a81a-8e67-4112-b92b-427eba7c5c68"
      },
      "execution_count": null,
      "outputs": [
        {
          "output_type": "stream",
          "name": "stdout",
          "text": [
            "ram 0.507\n",
            "1\n",
            "battery_power 0.912\n",
            "2\n",
            "px_height 0.9355\n",
            "3\n",
            "px_width 0.9674999999999999\n",
            "4\n",
            "mobile_wt 0.988\n",
            "5\n",
            "four_g 0.992\n",
            "6\n",
            "talk_time 0.9930000000000001\n",
            "7\n",
            " 0.9935\n"
          ]
        }
      ]
    },
    {
      "cell_type": "markdown",
      "source": [
        "## Task2"
      ],
      "metadata": {
        "id": "CjFrwznqoIUl"
      }
    },
    {
      "cell_type": "code",
      "source": [
        "#Reporting score for current selected features\n",
        "clf=LogisticRegression(random_state=0, max_iter=400)\n",
        "clf.fit(current_features_data_set, y)\n",
        "y_preds=clf.predict(current_features_data_set)\n",
        "print(f\"f1_score = {f1_score(y, y_preds)}, recall = {recall_score(y, y_preds)}, percision_score = {precision_score(y, y_preds)}\")"
      ],
      "metadata": {
        "colab": {
          "base_uri": "https://localhost:8080/"
        },
        "id": "l5L7wleR98nn",
        "outputId": "6dec3ee4-4736-4485-8860-01d4b0e809f2"
      },
      "execution_count": null,
      "outputs": [
        {
          "output_type": "stream",
          "name": "stdout",
          "text": [
            "f1_score = 0.9945027486256871, recall = 0.995, percision_score = 0.994005994005994\n"
          ]
        }
      ]
    },
    {
      "cell_type": "markdown",
      "source": [
        "## Task3"
      ],
      "metadata": {
        "id": "Z2Pz33pUoNVs"
      }
    },
    {
      "cell_type": "code",
      "source": [
        "from sklearn.decomposition import PCA"
      ],
      "metadata": {
        "id": "_8W5w6769_l9"
      },
      "execution_count": null,
      "outputs": []
    },
    {
      "cell_type": "code",
      "source": [
        "pca=PCA(n_components=len(current_features_data_set.dtypes))\n",
        "principal_component=pca.fit_transform(train.drop(\"price_class\", axis=1))\n",
        "principalDf = pd.DataFrame(principal_component)\n",
        "principalDf.dtypes"
      ],
      "metadata": {
        "colab": {
          "base_uri": "https://localhost:8080/"
        },
        "id": "Y-RdNJJEFEuP",
        "outputId": "7e381c14-6a1c-4fd7-9b29-0d4572efc173"
      },
      "execution_count": null,
      "outputs": [
        {
          "output_type": "execute_result",
          "data": {
            "text/plain": [
              "0    float64\n",
              "1    float64\n",
              "2    float64\n",
              "3    float64\n",
              "4    float64\n",
              "5    float64\n",
              "6    float64\n",
              "dtype: object"
            ]
          },
          "metadata": {},
          "execution_count": 15
        }
      ]
    },
    {
      "cell_type": "markdown",
      "source": [
        "## Task 4"
      ],
      "metadata": {
        "id": "-nw0zDZtpERK"
      }
    },
    {
      "cell_type": "code",
      "source": [
        "clf=LogisticRegression(random_state=0, max_iter=400)\n",
        "clf.fit(principalDf, y)\n",
        "y_preds=clf.predict(principalDf)\n",
        "print(f\"f1_score = {f1_score(y, y_preds)}, recall = {recall_score(y, y_preds)}, percision_score = {precision_score(y, y_preds)}\")"
      ],
      "metadata": {
        "colab": {
          "base_uri": "https://localhost:8080/"
        },
        "id": "h9qY2KxhUwWx",
        "outputId": "d386fb93-ec8f-4112-ecef-14416ad3b882"
      },
      "execution_count": null,
      "outputs": [
        {
          "output_type": "stream",
          "name": "stdout",
          "text": [
            "f1_score = 0.9924962481240621, recall = 0.992, percision_score = 0.992992992992993\n"
          ]
        }
      ]
    },
    {
      "cell_type": "markdown",
      "source": [
        "## Task 5\n",
        "\n",
        "### Task 5-a"
      ],
      "metadata": {
        "id": "pz_WLXEyqfmF"
      }
    },
    {
      "cell_type": "code",
      "source": [
        "train[\"battery_power\"].describe()"
      ],
      "metadata": {
        "colab": {
          "base_uri": "https://localhost:8080/"
        },
        "id": "qkOCM25jWX4Y",
        "outputId": "baba3246-801b-4566-f04c-0405dcc65e52"
      },
      "execution_count": null,
      "outputs": [
        {
          "output_type": "execute_result",
          "data": {
            "text/plain": [
              "count    2000.000000\n",
              "mean     1238.518500\n",
              "std       439.418206\n",
              "min       501.000000\n",
              "25%       851.750000\n",
              "50%      1226.000000\n",
              "75%      1615.250000\n",
              "max      1998.000000\n",
              "Name: battery_power, dtype: float64"
            ]
          },
          "metadata": {},
          "execution_count": 17
        }
      ]
    },
    {
      "cell_type": "code",
      "source": [
        "import matplotlib.pyplot as plt\n",
        "import numpy as np"
      ],
      "metadata": {
        "id": "LFWKHfngYaAI"
      },
      "execution_count": null,
      "outputs": []
    },
    {
      "cell_type": "code",
      "source": [
        "plt.hist(train[\"battery_power\"])"
      ],
      "metadata": {
        "colab": {
          "base_uri": "https://localhost:8080/",
          "height": 334
        },
        "id": "4MQx8H4sX0Zc",
        "outputId": "4ae53e9c-fd7d-4e09-bf40-59da7ccfc4cf"
      },
      "execution_count": null,
      "outputs": [
        {
          "output_type": "execute_result",
          "data": {
            "text/plain": [
              "(array([223., 199., 210., 199., 190., 185., 193., 201., 197., 203.]),\n",
              " array([ 501. ,  650.7,  800.4,  950.1, 1099.8, 1249.5, 1399.2, 1548.9,\n",
              "        1698.6, 1848.3, 1998. ]),\n",
              " <a list of 10 Patch objects>)"
            ]
          },
          "metadata": {},
          "execution_count": 21
        },
        {
          "output_type": "display_data",
          "data": {
            "text/plain": [
              "<Figure size 432x288 with 1 Axes>"
            ],
            "image/png": "[encoded data removed]"
          },
          "metadata": {
            "needs_background": "light"
          }
        }
      ]
    },
    {
      "cell_type": "code",
      "source": [
        "conditions=[(train[\"battery_power\"]<=852), (train[\"battery_power\"]>852) & (train[\"battery_power\"]<=1615), (train[\"battery_power\"]>1615)]\n",
        "values=[0, 1, 2]\n",
        "train[\"bat_pow_bined\"]=np.select(conditions, values)\n"
      ],
      "metadata": {
        "id": "ii3JT4WFYGjv"
      },
      "execution_count": null,
      "outputs": []
    },
    {
      "cell_type": "markdown",
      "source": [
        "## Task 6"
      ],
      "metadata": {
        "id": "zCcHGGkxugKP"
      }
    },
    {
      "cell_type": "code",
      "source": [
        "X=train.drop([\"battery_power\", \"price_class\"], axis=1)\n",
        "y=train[\"price_class\"]\n",
        "print(log_reg(X,y))"
      ],
      "metadata": {
        "colab": {
          "base_uri": "https://localhost:8080/"
        },
        "id": "gdcxiBapaExy",
        "outputId": "d557e2d4-371e-4202-ca45-6a534322bead"
      },
      "execution_count": null,
      "outputs": [
        {
          "output_type": "stream",
          "name": "stdout",
          "text": [
            "0.904\n"
          ]
        },
        {
          "output_type": "stream",
          "name": "stderr",
          "text": [
            "/usr/local/lib/python3.7/dist-packages/sklearn/linear_model/_logistic.py:818: ConvergenceWarning: lbfgs failed to converge (status=1):\n",
            "STOP: TOTAL NO. of ITERATIONS REACHED LIMIT.\n",
            "\n",
            "Increase the number of iterations (max_iter) or scale the data as shown in:\n",
            "    https://scikit-learn.org/stable/modules/preprocessing.html\n",
            "Please also refer to the documentation for alternative solver options:\n",
            "    https://scikit-learn.org/stable/modules/linear_model.html#logistic-regression\n",
            "  extra_warning_msg=_LOGISTIC_SOLVER_CONVERGENCE_MSG,\n"
          ]
        }
      ]
    },
    {
      "cell_type": "code",
      "source": [
        "# Task 5-b"
      ],
      "metadata": {
        "id": "YU2paQGMurPD"
      },
      "execution_count": null,
      "outputs": []
    },
    {
      "cell_type": "code",
      "source": [
        "from sklearn.preprocessing import OneHotEncoder\n",
        "from sklearn.compose import ColumnTransformer\n",
        "from sklearn.pipeline import Pipeline"
      ],
      "metadata": {
        "id": "6ESvdU4JaZ0f"
      },
      "execution_count": null,
      "outputs": []
    },
    {
      "cell_type": "code",
      "source": [
        "categorical_features = [\"bat_pow_bined\"]\n",
        "categorical_transformer = OneHotEncoder(handle_unknown=\"ignore\")\n",
        "preprocessor = ColumnTransformer(\n",
        "    transformers=[(\"cat\", categorical_transformer, categorical_features),\n",
        "    ]\n",
        ")"
      ],
      "metadata": {
        "id": "5YsjVaXtazuz"
      },
      "execution_count": null,
      "outputs": []
    },
    {
      "cell_type": "markdown",
      "source": [
        "## Task 6"
      ],
      "metadata": {
        "id": "T-drLz7kuyp0"
      }
    },
    {
      "cell_type": "code",
      "source": [
        "clf = Pipeline(\n",
        "    steps=[(\"preprocessor\", preprocessor), (\"classifier\", LogisticRegression(random_state=0, max_iter=400))]\n",
        ")\n",
        "clf.fit(X, y)\n",
        "y_preds=clf.predict(X)\n",
        "roc_auc_score(y, y_preds)"
      ],
      "metadata": {
        "colab": {
          "base_uri": "https://localhost:8080/"
        },
        "id": "vySFpnFXbRpr",
        "outputId": "ec2c5404-8f50-48c6-a455-934b889c5cf3"
      },
      "execution_count": null,
      "outputs": [
        {
          "output_type": "execute_result",
          "data": {
            "text/plain": [
              "0.5529999999999999"
            ]
          },
          "metadata": {},
          "execution_count": 28
        }
      ]
    },
    {
      "cell_type": "markdown",
      "source": [
        "## Task 6"
      ],
      "metadata": {
        "id": "Hw4HVoZPu5g4"
      }
    },
    {
      "cell_type": "code",
      "source": [
        "train[\"area\"]=train[\"px_width\"]*train[\"px_height\"]\n",
        "X=train.drop([\"price_class\", \"bat_pow_bined\"], axis=1)\n",
        "print(log_reg(X, y))"
      ],
      "metadata": {
        "colab": {
          "base_uri": "https://localhost:8080/"
        },
        "id": "aGkDulZ1bTA0",
        "outputId": "88113aaa-2a84-40e6-a8ac-db682bc12cbf"
      },
      "execution_count": null,
      "outputs": [
        {
          "output_type": "stream",
          "name": "stdout",
          "text": [
            "0.8955\n"
          ]
        }
      ]
    },
    {
      "cell_type": "markdown",
      "source": [
        "## Task 10"
      ],
      "metadata": {
        "id": "yZwomloN6SBb"
      }
    },
    {
      "cell_type": "code",
      "source": [
        "from sklearn.tree import DecisionTreeClassifier\n",
        "from sklearn.model_selection import cross_val_score\n",
        "from sklearn import tree"
      ],
      "metadata": {
        "id": "kLon4nVlbfTj"
      },
      "execution_count": null,
      "outputs": []
    },
    {
      "cell_type": "code",
      "source": [
        "clf = DecisionTreeClassifier(random_state=0)\n",
        "clf.fit(X, y)"
      ],
      "metadata": {
        "colab": {
          "base_uri": "https://localhost:8080/"
        },
        "id": "iMxN66H7hHQw",
        "outputId": "eac81a08-9e5d-4295-d498-184c8f882a7f"
      },
      "execution_count": 47,
      "outputs": [
        {
          "output_type": "execute_result",
          "data": {
            "text/plain": [
              "DecisionTreeClassifier(random_state=0)"
            ]
          },
          "metadata": {},
          "execution_count": 47
        }
      ]
    },
    {
      "cell_type": "markdown",
      "source": [
        "## Task 11"
      ],
      "metadata": {
        "id": "8EntXSQjCYvk"
      }
    },
    {
      "cell_type": "code",
      "source": [
        "tree.export_text(clf)"
      ],
      "metadata": {
        "id": "76Q0L9PGhZo3",
        "colab": {
          "base_uri": "https://localhost:8080/",
          "height": 140
        },
        "outputId": "df53a089-e963-4e1b-8bbf-ef22492c5a48"
      },
      "execution_count": 48,
      "outputs": [
        {
          "output_type": "execute_result",
          "data": {
            "text/plain": [
              "'|--- feature_13 <= 2235.50\\n|   |--- feature_13 <= 1569.50\\n|   |   |--- feature_20 <= 2369522.00\\n|   |   |   |--- feature_13 <= 1481.00\\n|   |   |   |   |--- class: 0\\n|   |   |   |--- feature_13 >  1481.00\\n|   |   |   |   |--- feature_20 <= 1711768.00\\n|   |   |   |   |   |--- class: 0\\n|   |   |   |   |--- feature_20 >  1711768.00\\n|   |   |   |   |   |--- class: 1\\n|   |   |--- feature_20 >  2369522.00\\n|   |   |   |--- feature_13 <= 1180.00\\n|   |   |   |   |--- class: 0\\n|   |   |   |--- feature_13 >  1180.00\\n|   |   |   |   |--- feature_0 <= 1434.00\\n|   |   |   |   |   |--- class: 0\\n|   |   |   |   |--- feature_0 >  1434.00\\n|   |   |   |   |   |--- feature_2 <= 2.25\\n|   |   |   |   |   |   |--- feature_2 <= 0.60\\n|   |   |   |   |   |   |   |--- feature_7 <= 0.30\\n|   |   |   |   |   |   |   |   |--- class: 1\\n|   |   |   |   |   |   |   |--- feature_7 >  0.30\\n|   |   |   |   |   |   |   |   |--- class: 0\\n|   |   |   |   |   |   |--- feature_2 >  0.60\\n|   |   |   |   |   |   |   |--- class: 1\\n|   |   |   |   |   |--- feature_2 >  2.25\\n|   |   |   |   |   |   |--- class: 0\\n|   |--- feature_13 >  1569.50\\n|   |   |--- feature_0 <= 1484.00\\n|   |   |   |--- feature_20 <= 2020519.00\\n|   |   |   |   |--- feature_20 <= 1423251.50\\n|   |   |   |   |   |--- feature_13 <= 2045.50\\n|   |   |   |   |   |   |--- class: 0\\n|   |   |   |   |   |--- feature_13 >  2045.50\\n|   |   |   |   |   |   |--- feature_20 <= 787525.00\\n|   |   |   |   |   |   |   |--- feature_13 <= 2048.50\\n|   |   |   |   |   |   |   |   |--- class: 1\\n|   |   |   |   |   |   |   |--- feature_13 >  2048.50\\n|   |   |   |   |   |   |   |   |--- class: 0\\n|   |   |   |   |   |   |--- feature_20 >  787525.00\\n|   |   |   |   |   |   |   |--- feature_13 <= 2090.50\\n|   |   |   |   |   |   |   |   |--- class: 0\\n|   |   |   |   |   |   |   |--- feature_13 >  2090.50\\n|   |   |   |   |   |   |   |   |--- feature_11 <= 953.00\\n|   |   |   |   |   |   |   |   |   |--- class: 1\\n|   |   |   |   |   |   |   |   |--- feature_11 >  953.00\\n|   |   |   |   |   |   |   |   |   |--- class: 0\\n|   |   |   |   |--- feature_20 >  1423251.50\\n|   |   |   |   |   |--- feature_13 <= 2039.50\\n|   |   |   |   |   |   |--- feature_0 <= 1240.50\\n|   |   |   |   |   |   |   |--- class: 0\\n|   |   |   |   |   |   |--- feature_0 >  1240.50\\n|   |   |   |   |   |   |   |--- feature_20 <= 1657004.00\\n|   |   |   |   |   |   |   |   |--- class: 1\\n|   |   |   |   |   |   |   |--- feature_20 >  1657004.00\\n|   |   |   |   |   |   |   |   |--- class: 0\\n|   |   |   |   |   |--- feature_13 >  2039.50\\n|   |   |   |   |   |   |--- feature_13 <= 2223.00\\n|   |   |   |   |   |   |   |--- class: 1\\n|   |   |   |   |   |   |--- feature_13 >  2223.00\\n|   |   |   |   |   |   |   |--- class: 0\\n|   |   |   |--- feature_20 >  2020519.00\\n|   |   |   |   |--- feature_0 <= 1078.00\\n|   |   |   |   |   |--- feature_12 <= 1772.00\\n|   |   |   |   |   |   |--- feature_7 <= 0.25\\n|   |   |   |   |   |   |   |--- class: 0\\n|   |   |   |   |   |   |--- feature_7 >  0.25\\n|   |   |   |   |   |   |   |--- class: 1\\n|   |   |   |   |   |--- feature_12 >  1772.00\\n|   |   |   |   |   |   |--- class: 0\\n|   |   |   |   |--- feature_0 >  1078.00\\n|   |   |   |   |   |--- class: 1\\n|   |   |--- feature_0 >  1484.00\\n|   |   |   |--- feature_12 <= 1102.50\\n|   |   |   |   |--- feature_13 <= 1954.50\\n|   |   |   |   |   |--- feature_10 <= 15.50\\n|   |   |   |   |   |   |--- class: 0\\n|   |   |   |   |   |--- feature_10 >  15.50\\n|   |   |   |   |   |   |--- feature_2 <= 1.30\\n|   |   |   |   |   |   |   |--- class: 1\\n|   |   |   |   |   |   |--- feature_2 >  1.30\\n|   |   |   |   |   |   |   |--- class: 0\\n|   |   |   |   |--- feature_13 >  1954.50\\n|   |   |   |   |   |--- feature_20 <= 297168.00\\n|   |   |   |   |   |   |--- class: 0\\n|   |   |   |   |   |--- feature_20 >  297168.00\\n|   |   |   |   |   |   |--- class: 1\\n|   |   |   |--- feature_12 >  1102.50\\n|   |   |   |   |--- feature_13 <= 1834.00\\n|   |   |   |   |   |--- feature_7 <= 0.55\\n|   |   |   |   |   |   |--- feature_20 <= 1837490.50\\n|   |   |   |   |   |   |   |--- feature_4 <= 8.50\\n|   |   |   |   |   |   |   |   |--- feature_16 <= 14.50\\n|   |   |   |   |   |   |   |   |   |--- class: 0\\n|   |   |   |   |   |   |   |   |--- feature_16 >  14.50\\n|   |   |   |   |   |   |   |   |   |--- class: 1\\n|   |   |   |   |   |   |   |--- feature_4 >  8.50\\n|   |   |   |   |   |   |   |   |--- class: 1\\n|   |   |   |   |   |   |--- feature_20 >  1837490.50\\n|   |   |   |   |   |   |   |--- class: 1\\n|   |   |   |   |   |--- feature_7 >  0.55\\n|   |   |   |   |   |   |--- class: 1\\n|   |   |   |   |--- feature_13 >  1834.00\\n|   |   |   |   |   |--- class: 1\\n|--- feature_13 >  2235.50\\n|   |--- feature_13 <= 2653.00\\n|   |   |--- feature_0 <= 1176.50\\n|   |   |   |--- feature_12 <= 1374.50\\n|   |   |   |   |--- feature_20 <= 626023.50\\n|   |   |   |   |   |--- feature_0 <= 947.00\\n|   |   |   |   |   |   |--- class: 0\\n|   |   |   |   |   |--- feature_0 >  947.00\\n|   |   |   |   |   |   |--- feature_13 <= 2472.00\\n|   |   |   |   |   |   |   |--- class: 0\\n|   |   |   |   |   |   |--- feature_13 >  2472.00\\n|   |   |   |   |   |   |   |--- class: 1\\n|   |   |   |   |--- feature_20 >  626023.50\\n|   |   |   |   |   |--- feature_12 <= 1075.50\\n|   |   |   |   |   |   |--- feature_16 <= 4.00\\n|   |   |   |   |   |   |   |--- class: 1\\n|   |   |   |   |   |   |--- feature_16 >  4.00\\n|   |   |   |   |   |   |   |--- class: 0\\n|   |   |   |   |   |--- feature_12 >  1075.50\\n|   |   |   |   |   |   |--- feature_13 <= 2309.50\\n|   |   |   |   |   |   |   |--- class: 0\\n|   |   |   |   |   |   |--- feature_13 >  2309.50\\n|   |   |   |   |   |   |   |--- class: 1\\n|   |   |   |--- feature_12 >  1374.50\\n|   |   |   |   |--- feature_20 <= 279552.50\\n|   |   |   |   |   |--- feature_2 <= 1.80\\n|   |   |   |   |   |   |--- class: 0\\n|   |   |   |   |   |--- feature_2 >  1.80\\n|   |   |   |   |   |   |--- class: 1\\n|   |   |   |   |--- feature_20 >  279552.50\\n|   |   |   |   |   |--- feature_4 <= 13.00\\n|   |   |   |   |   |   |--- feature_10 <= 2.50\\n|   |   |   |   |   |   |   |--- feature_20 <= 1250527.00\\n|   |   |   |   |   |   |   |   |--- class: 0\\n|   |   |   |   |   |   |   |--- feature_20 >  1250527.00\\n|   |   |   |   |   |   |   |   |--- class: 1\\n|   |   |   |   |   |   |--- feature_10 >  2.50\\n|   |   |   |   |   |   |   |--- class: 1\\n|   |   |   |   |   |--- feature_4 >  13.00\\n|   |   |   |   |   |   |--- class: 0\\n|   |   |--- feature_0 >  1176.50\\n|   |   |   |--- feature_12 <= 646.00\\n|   |   |   |   |--- feature_13 <= 2395.50\\n|   |   |   |   |   |--- feature_0 <= 1530.50\\n|   |   |   |   |   |   |--- class: 0\\n|   |   |   |   |   |--- feature_0 >  1530.50\\n|   |   |   |   |   |   |--- class: 1\\n|   |   |   |   |--- feature_13 >  2395.50\\n|   |   |   |   |   |--- class: 1\\n|   |   |   |--- feature_12 >  646.00\\n|   |   |   |   |--- feature_13 <= 2309.50\\n|   |   |   |   |   |--- feature_13 <= 2306.00\\n|   |   |   |   |   |   |--- feature_15 <= 0.50\\n|   |   |   |   |   |   |   |--- class: 0\\n|   |   |   |   |   |   |--- feature_15 >  0.50\\n|   |   |   |   |   |   |   |--- class: 1\\n|   |   |   |   |   |--- feature_13 >  2306.00\\n|   |   |   |   |   |   |--- class: 0\\n|   |   |   |   |--- feature_13 >  2309.50\\n|   |   |   |   |   |--- class: 1\\n|   |--- feature_13 >  2653.00\\n|   |   |--- feature_0 <= 569.50\\n|   |   |   |--- feature_12 <= 570.00\\n|   |   |   |   |--- class: 0\\n|   |   |   |--- feature_12 >  570.00\\n|   |   |   |   |--- feature_0 <= 566.00\\n|   |   |   |   |   |--- class: 1\\n|   |   |   |   |--- feature_0 >  566.00\\n|   |   |   |   |   |--- class: 0\\n|   |   |--- feature_0 >  569.50\\n|   |   |   |--- class: 1\\n'"
            ],
            "application/vnd.google.colaboratory.intrinsic+json": {
              "type": "string"
            }
          },
          "metadata": {},
          "execution_count": 48
        }
      ]
    },
    {
      "cell_type": "code",
      "source": [
        "clf.get_depth()"
      ],
      "metadata": {
        "colab": {
          "base_uri": "https://localhost:8080/"
        },
        "id": "jYgE5As4DQ-e",
        "outputId": "239ef468-2857-4b92-8c30-bdac1495fc27"
      },
      "execution_count": 49,
      "outputs": [
        {
          "output_type": "execute_result",
          "data": {
            "text/plain": [
              "9"
            ]
          },
          "metadata": {},
          "execution_count": 49
        }
      ]
    },
    {
      "cell_type": "code",
      "source": [
        "clf.get_n_leaves()"
      ],
      "metadata": {
        "colab": {
          "base_uri": "https://localhost:8080/"
        },
        "id": "EhKZz-6mD99E",
        "outputId": "b335e5cd-8d52-4cd0-9c48-c094ca5abe97"
      },
      "execution_count": 50,
      "outputs": [
        {
          "output_type": "execute_result",
          "data": {
            "text/plain": [
              "59"
            ]
          },
          "metadata": {},
          "execution_count": 50
        }
      ]
    },
    {
      "cell_type": "code",
      "source": [
        "clf.get_params()"
      ],
      "metadata": {
        "colab": {
          "base_uri": "https://localhost:8080/"
        },
        "id": "5RsufhWYEHgm",
        "outputId": "dc11a825-9af7-4e2b-9db3-f8eda8eb317c"
      },
      "execution_count": 51,
      "outputs": [
        {
          "output_type": "execute_result",
          "data": {
            "text/plain": [
              "{'ccp_alpha': 0.0,\n",
              " 'class_weight': None,\n",
              " 'criterion': 'gini',\n",
              " 'max_depth': None,\n",
              " 'max_features': None,\n",
              " 'max_leaf_nodes': None,\n",
              " 'min_impurity_decrease': 0.0,\n",
              " 'min_samples_leaf': 1,\n",
              " 'min_samples_split': 2,\n",
              " 'min_weight_fraction_leaf': 0.0,\n",
              " 'random_state': 0,\n",
              " 'splitter': 'best'}"
            ]
          },
          "metadata": {},
          "execution_count": 51
        }
      ]
    },
    {
      "cell_type": "markdown",
      "source": [
        "## Task 12"
      ],
      "metadata": {
        "id": "DPvgGLSHCks9"
      }
    },
    {
      "cell_type": "code",
      "source": [
        "clf = DecisionTreeClassifier(random_state=0, max_depth=5)\n",
        "clf.fit(X, y)\n",
        "clf.score(X, y)"
      ],
      "metadata": {
        "id": "2iwfdb7V6kbs",
        "colab": {
          "base_uri": "https://localhost:8080/"
        },
        "outputId": "9c281e60-fd80-494f-a763-fe273c417b4f"
      },
      "execution_count": 44,
      "outputs": [
        {
          "output_type": "execute_result",
          "data": {
            "text/plain": [
              "0.9745"
            ]
          },
          "metadata": {},
          "execution_count": 44
        }
      ]
    },
    {
      "cell_type": "code",
      "source": [
        ""
      ],
      "metadata": {
        "id": "RqJCm2rI--qN"
      },
      "execution_count": null,
      "outputs": []
    }
  ]
}