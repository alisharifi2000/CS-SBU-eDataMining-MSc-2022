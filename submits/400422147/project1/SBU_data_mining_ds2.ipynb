{
  "nbformat": 4,
  "nbformat_minor": 0,
  "metadata": {
    "colab": {
      "name": "SBU_DataMining_DS2",
      "provenance": [],
      "collapsed_sections": [],
      "toc_visible": true
    },
    "kernelspec": {
      "name": "python3",
      "display_name": "Python 3"
    },
    "language_info": {
      "name": "python"
    }
  },
  "cells": [
    {
      "cell_type": "code",
      "source": [
        "import pandas as pd\n",
        "import numpy as np\n",
        "import matplotlib.pyplot as plt\n",
        "from google.colab import drive \n",
        "import seaborn as sns\n",
        "import time\n",
        "from sklearn.metrics import r2_score, mean_squared_error\n",
        "import dask\n",
        "from sklearn.model_selection import train_test_split\n",
        "from sklearn.ensemble import RandomForestRegressor"
      ],
      "metadata": {
        "id": "UwsgepIjUVri"
      },
      "execution_count": 105,
      "outputs": []
    },
    {
      "cell_type": "code",
      "source": [
        "drive.mount('/content/gdrive')\n",
        "raw_data = pd.read_csv('gdrive/MyDrive/Data Mining SBU DS/immo_data.csv')"
      ],
      "metadata": {
        "colab": {
          "base_uri": "https://localhost:8080/"
        },
        "id": "YSBZ03ZkUw78",
        "outputId": "5d0dbc36-58b7-4999-9ffd-5af4bd92ddaa"
      },
      "execution_count": 42,
      "outputs": [
        {
          "output_type": "stream",
          "name": "stdout",
          "text": [
            "Drive already mounted at /content/gdrive; to attempt to forcibly remount, call drive.mount(\"/content/gdrive\", force_remount=True).\n"
          ]
        }
      ]
    },
    {
      "cell_type": "markdown",
      "source": [
        "# Task 1: Data Cleaning"
      ],
      "metadata": {
        "id": "j8DmB2Owts-9"
      }
    },
    {
      "cell_type": "code",
      "source": [
        "raw_data.head()"
      ],
      "metadata": {
        "colab": {
          "base_uri": "https://localhost:8080/",
          "height": 576
        },
        "id": "zM5lFsY1Vvfq",
        "outputId": "a5410446-f6b0-4334-e392-480220f38889"
      },
      "execution_count": 43,
      "outputs": [
        {
          "output_type": "execute_result",
          "data": {
            "text/plain": [
              "                regio1  serviceCharge                     heatingType  \\\n",
              "0  Nordrhein_Westfalen         245.00                 central_heating   \n",
              "1      Rheinland_Pfalz         134.00  self_contained_central_heating   \n",
              "2              Sachsen         255.00                   floor_heating   \n",
              "3              Sachsen          58.15                district_heating   \n",
              "4               Bremen         138.00  self_contained_central_heating   \n",
              "\n",
              "  telekomTvOffer  telekomHybridUploadSpeed  newlyConst  balcony  picturecount  \\\n",
              "0  ONE_YEAR_FREE                       NaN       False    False             6   \n",
              "1  ONE_YEAR_FREE                       NaN       False     True             8   \n",
              "2  ONE_YEAR_FREE                      10.0        True     True             8   \n",
              "3  ONE_YEAR_FREE                       NaN       False     True             9   \n",
              "4            NaN                       NaN       False     True            19   \n",
              "\n",
              "   pricetrend  telekomUploadSpeed  ...               regio2  \\\n",
              "0        4.62                10.0  ...             Dortmund   \n",
              "1        3.47                10.0  ...    Rhein_Pfalz_Kreis   \n",
              "2        2.72                 2.4  ...              Dresden   \n",
              "3        1.53                40.0  ...  Mittelsachsen_Kreis   \n",
              "4        2.46                 NaN  ...               Bremen   \n",
              "\n",
              "                       regio3  \\\n",
              "0                     Schüren   \n",
              "1              Böhl_Iggelheim   \n",
              "2  Äußere_Neustadt_Antonstadt   \n",
              "3                    Freiberg   \n",
              "4           Neu_Schwachhausen   \n",
              "\n",
              "                                         description  \\\n",
              "0  Die ebenerdig zu erreichende Erdgeschosswohnun...   \n",
              "1  Alles neu macht der Mai – so kann es auch für ...   \n",
              "2  Der Neubau entsteht im Herzen der Dresdner Neu...   \n",
              "3  Abseits von Lärm und Abgasen in Ihre neue Wohn...   \n",
              "4  Es handelt sich hier um ein saniertes Mehrfami...   \n",
              "\n",
              "                                          facilities heatingCosts  \\\n",
              "0  Die Wohnung ist mit Laminat ausgelegt. Das Bad...          NaN   \n",
              "1                                                NaN          NaN   \n",
              "2  * 9 m² Balkon\\n* Bad mit bodengleicher Dusche,...          NaN   \n",
              "3                                                NaN        87.23   \n",
              "4  Diese Wohnung wurde neu saniert und ist wie fo...          NaN   \n",
              "\n",
              "   energyEfficiencyClass lastRefurbish  electricityBasePrice  \\\n",
              "0                    NaN           NaN                   NaN   \n",
              "1                    NaN        2019.0                   NaN   \n",
              "2                    NaN           NaN                   NaN   \n",
              "3                    NaN           NaN                   NaN   \n",
              "4                    NaN           NaN                   NaN   \n",
              "\n",
              "   electricityKwhPrice   date  \n",
              "0                  NaN  May19  \n",
              "1                  NaN  May19  \n",
              "2                  NaN  Oct19  \n",
              "3                  NaN  May19  \n",
              "4                  NaN  Feb20  \n",
              "\n",
              "[5 rows x 49 columns]"
            ],
            "text/html": [
              "\n",
              "  <div id=\"df-e2511b80-2647-4850-86fe-e0992ffdaed0\">\n",
              "    <div class=\"colab-df-container\">\n",
              "      <div>\n",
              "<style scoped>\n",
              "    .dataframe tbody tr th:only-of-type {\n",
              "        vertical-align: middle;\n",
              "    }\n",
              "\n",
              "    .dataframe tbody tr th {\n",
              "        vertical-align: top;\n",
              "    }\n",
              "\n",
              "    .dataframe thead th {\n",
              "        text-align: right;\n",
              "    }\n",
              "</style>\n",
              "<table border=\"1\" class=\"dataframe\">\n",
              "  <thead>\n",
              "    <tr style=\"text-align: right;\">\n",
              "      <th></th>\n",
              "      <th>regio1</th>\n",
              "      <th>serviceCharge</th>\n",
              "      <th>heatingType</th>\n",
              "      <th>telekomTvOffer</th>\n",
              "      <th>telekomHybridUploadSpeed</th>\n",
              "      <th>newlyConst</th>\n",
              "      <th>balcony</th>\n",
              "      <th>picturecount</th>\n",
              "      <th>pricetrend</th>\n",
              "      <th>telekomUploadSpeed</th>\n",
              "      <th>...</th>\n",
              "      <th>regio2</th>\n",
              "      <th>regio3</th>\n",
              "      <th>description</th>\n",
              "      <th>facilities</th>\n",
              "      <th>heatingCosts</th>\n",
              "      <th>energyEfficiencyClass</th>\n",
              "      <th>lastRefurbish</th>\n",
              "      <th>electricityBasePrice</th>\n",
              "      <th>electricityKwhPrice</th>\n",
              "      <th>date</th>\n",
              "    </tr>\n",
              "  </thead>\n",
              "  <tbody>\n",
              "    <tr>\n",
              "      <th>0</th>\n",
              "      <td>Nordrhein_Westfalen</td>\n",
              "      <td>245.00</td>\n",
              "      <td>central_heating</td>\n",
              "      <td>ONE_YEAR_FREE</td>\n",
              "      <td>NaN</td>\n",
              "      <td>False</td>\n",
              "      <td>False</td>\n",
              "      <td>6</td>\n",
              "      <td>4.62</td>\n",
              "      <td>10.0</td>\n",
              "      <td>...</td>\n",
              "      <td>Dortmund</td>\n",
              "      <td>Schüren</td>\n",
              "      <td>Die ebenerdig zu erreichende Erdgeschosswohnun...</td>\n",
              "      <td>Die Wohnung ist mit Laminat ausgelegt. Das Bad...</td>\n",
              "      <td>NaN</td>\n",
              "      <td>NaN</td>\n",
              "      <td>NaN</td>\n",
              "      <td>NaN</td>\n",
              "      <td>NaN</td>\n",
              "      <td>May19</td>\n",
              "    </tr>\n",
              "    <tr>\n",
              "      <th>1</th>\n",
              "      <td>Rheinland_Pfalz</td>\n",
              "      <td>134.00</td>\n",
              "      <td>self_contained_central_heating</td>\n",
              "      <td>ONE_YEAR_FREE</td>\n",
              "      <td>NaN</td>\n",
              "      <td>False</td>\n",
              "      <td>True</td>\n",
              "      <td>8</td>\n",
              "      <td>3.47</td>\n",
              "      <td>10.0</td>\n",
              "      <td>...</td>\n",
              "      <td>Rhein_Pfalz_Kreis</td>\n",
              "      <td>Böhl_Iggelheim</td>\n",
              "      <td>Alles neu macht der Mai – so kann es auch für ...</td>\n",
              "      <td>NaN</td>\n",
              "      <td>NaN</td>\n",
              "      <td>NaN</td>\n",
              "      <td>2019.0</td>\n",
              "      <td>NaN</td>\n",
              "      <td>NaN</td>\n",
              "      <td>May19</td>\n",
              "    </tr>\n",
              "    <tr>\n",
              "      <th>2</th>\n",
              "      <td>Sachsen</td>\n",
              "      <td>255.00</td>\n",
              "      <td>floor_heating</td>\n",
              "      <td>ONE_YEAR_FREE</td>\n",
              "      <td>10.0</td>\n",
              "      <td>True</td>\n",
              "      <td>True</td>\n",
              "      <td>8</td>\n",
              "      <td>2.72</td>\n",
              "      <td>2.4</td>\n",
              "      <td>...</td>\n",
              "      <td>Dresden</td>\n",
              "      <td>Äußere_Neustadt_Antonstadt</td>\n",
              "      <td>Der Neubau entsteht im Herzen der Dresdner Neu...</td>\n",
              "      <td>* 9 m² Balkon\\n* Bad mit bodengleicher Dusche,...</td>\n",
              "      <td>NaN</td>\n",
              "      <td>NaN</td>\n",
              "      <td>NaN</td>\n",
              "      <td>NaN</td>\n",
              "      <td>NaN</td>\n",
              "      <td>Oct19</td>\n",
              "    </tr>\n",
              "    <tr>\n",
              "      <th>3</th>\n",
              "      <td>Sachsen</td>\n",
              "      <td>58.15</td>\n",
              "      <td>district_heating</td>\n",
              "      <td>ONE_YEAR_FREE</td>\n",
              "      <td>NaN</td>\n",
              "      <td>False</td>\n",
              "      <td>True</td>\n",
              "      <td>9</td>\n",
              "      <td>1.53</td>\n",
              "      <td>40.0</td>\n",
              "      <td>...</td>\n",
              "      <td>Mittelsachsen_Kreis</td>\n",
              "      <td>Freiberg</td>\n",
              "      <td>Abseits von Lärm und Abgasen in Ihre neue Wohn...</td>\n",
              "      <td>NaN</td>\n",
              "      <td>87.23</td>\n",
              "      <td>NaN</td>\n",
              "      <td>NaN</td>\n",
              "      <td>NaN</td>\n",
              "      <td>NaN</td>\n",
              "      <td>May19</td>\n",
              "    </tr>\n",
              "    <tr>\n",
              "      <th>4</th>\n",
              "      <td>Bremen</td>\n",
              "      <td>138.00</td>\n",
              "      <td>self_contained_central_heating</td>\n",
              "      <td>NaN</td>\n",
              "      <td>NaN</td>\n",
              "      <td>False</td>\n",
              "      <td>True</td>\n",
              "      <td>19</td>\n",
              "      <td>2.46</td>\n",
              "      <td>NaN</td>\n",
              "      <td>...</td>\n",
              "      <td>Bremen</td>\n",
              "      <td>Neu_Schwachhausen</td>\n",
              "      <td>Es handelt sich hier um ein saniertes Mehrfami...</td>\n",
              "      <td>Diese Wohnung wurde neu saniert und ist wie fo...</td>\n",
              "      <td>NaN</td>\n",
              "      <td>NaN</td>\n",
              "      <td>NaN</td>\n",
              "      <td>NaN</td>\n",
              "      <td>NaN</td>\n",
              "      <td>Feb20</td>\n",
              "    </tr>\n",
              "  </tbody>\n",
              "</table>\n",
              "<p>5 rows × 49 columns</p>\n",
              "</div>\n",
              "      <button class=\"colab-df-convert\" onclick=\"convertToInteractive('df-e2511b80-2647-4850-86fe-e0992ffdaed0')\"\n",
              "              title=\"Convert this dataframe to an interactive table.\"\n",
              "              style=\"display:none;\">\n",
              "        \n",
              "  <svg xmlns=\"http://www.w3.org/2000/svg\" height=\"24px\"viewBox=\"0 0 24 24\"\n",
              "       width=\"24px\">\n",
              "    <path d=\"M0 0h24v24H0V0z\" fill=\"none\"/>\n",
              "    <path d=\"M18.56 5.44l.94 2.06.94-2.06 2.06-.94-2.06-.94-.94-2.06-.94 2.06-2.06.94zm-11 1L8.5 8.5l.94-2.06 2.06-.94-2.06-.94L8.5 2.5l-.94 2.06-2.06.94zm10 10l.94 2.06.94-2.06 2.06-.94-2.06-.94-.94-2.06-.94 2.06-2.06.94z\"/><path d=\"M17.41 7.96l-1.37-1.37c-.4-.4-.92-.59-1.43-.59-.52 0-1.04.2-1.43.59L10.3 9.45l-7.72 7.72c-.78.78-.78 2.05 0 2.83L4 21.41c.39.39.9.59 1.41.59.51 0 1.02-.2 1.41-.59l7.78-7.78 2.81-2.81c.8-.78.8-2.07 0-2.86zM5.41 20L4 18.59l7.72-7.72 1.47 1.35L5.41 20z\"/>\n",
              "  </svg>\n",
              "      </button>\n",
              "      \n",
              "  <style>\n",
              "    .colab-df-container {\n",
              "      display:flex;\n",
              "      flex-wrap:wrap;\n",
              "      gap: 12px;\n",
              "    }\n",
              "\n",
              "    .colab-df-convert {\n",
              "      background-color: #E8F0FE;\n",
              "      border: none;\n",
              "      border-radius: 50%;\n",
              "      cursor: pointer;\n",
              "      display: none;\n",
              "      fill: #1967D2;\n",
              "      height: 32px;\n",
              "      padding: 0 0 0 0;\n",
              "      width: 32px;\n",
              "    }\n",
              "\n",
              "    .colab-df-convert:hover {\n",
              "      background-color: #E2EBFA;\n",
              "      box-shadow: 0px 1px 2px rgba(60, 64, 67, 0.3), 0px 1px 3px 1px rgba(60, 64, 67, 0.15);\n",
              "      fill: #174EA6;\n",
              "    }\n",
              "\n",
              "    [theme=dark] .colab-df-convert {\n",
              "      background-color: #3B4455;\n",
              "      fill: #D2E3FC;\n",
              "    }\n",
              "\n",
              "    [theme=dark] .colab-df-convert:hover {\n",
              "      background-color: #434B5C;\n",
              "      box-shadow: 0px 1px 3px 1px rgba(0, 0, 0, 0.15);\n",
              "      filter: drop-shadow(0px 1px 2px rgba(0, 0, 0, 0.3));\n",
              "      fill: #FFFFFF;\n",
              "    }\n",
              "  </style>\n",
              "\n",
              "      <script>\n",
              "        const buttonEl =\n",
              "          document.querySelector('#df-e2511b80-2647-4850-86fe-e0992ffdaed0 button.colab-df-convert');\n",
              "        buttonEl.style.display =\n",
              "          google.colab.kernel.accessAllowed ? 'block' : 'none';\n",
              "\n",
              "        async function convertToInteractive(key) {\n",
              "          const element = document.querySelector('#df-e2511b80-2647-4850-86fe-e0992ffdaed0');\n",
              "          const dataTable =\n",
              "            await google.colab.kernel.invokeFunction('convertToInteractive',\n",
              "                                                     [key], {});\n",
              "          if (!dataTable) return;\n",
              "\n",
              "          const docLinkHtml = 'Like what you see? Visit the ' +\n",
              "            '<a target=\"_blank\" href=https://colab.research.google.com/notebooks/data_table.ipynb>data table notebook</a>'\n",
              "            + ' to learn more about interactive tables.';\n",
              "          element.innerHTML = '';\n",
              "          dataTable['output_type'] = 'display_data';\n",
              "          await google.colab.output.renderOutput(dataTable, element);\n",
              "          const docLink = document.createElement('div');\n",
              "          docLink.innerHTML = docLinkHtml;\n",
              "          element.appendChild(docLink);\n",
              "        }\n",
              "      </script>\n",
              "    </div>\n",
              "  </div>\n",
              "  "
            ]
          },
          "metadata": {},
          "execution_count": 43
        }
      ]
    },
    {
      "cell_type": "code",
      "source": [
        "raw_data.drop_duplicates(inplace=True)"
      ],
      "metadata": {
        "id": "rAOsTaxowcFD"
      },
      "execution_count": 44,
      "outputs": []
    },
    {
      "cell_type": "code",
      "source": [
        "(raw_data.isnull().sum()/len(raw_data)*100).round(2)"
      ],
      "metadata": {
        "colab": {
          "base_uri": "https://localhost:8080/"
        },
        "id": "olwql7wtV1qo",
        "outputId": "87659f76-8a28-4816-9730-555e75c3d639"
      },
      "execution_count": 45,
      "outputs": [
        {
          "output_type": "execute_result",
          "data": {
            "text/plain": [
              "regio1                       0.00\n",
              "serviceCharge                2.57\n",
              "heatingType                 16.68\n",
              "telekomTvOffer              12.13\n",
              "telekomHybridUploadSpeed    83.25\n",
              "newlyConst                   0.00\n",
              "balcony                      0.00\n",
              "picturecount                 0.00\n",
              "pricetrend                   0.68\n",
              "telekomUploadSpeed          12.41\n",
              "totalRent                   15.07\n",
              "yearConstructed             21.22\n",
              "scoutId                      0.00\n",
              "noParkSpaces                65.39\n",
              "firingTypes                 21.19\n",
              "hasKitchen                   0.00\n",
              "geo_bln                      0.00\n",
              "cellar                       0.00\n",
              "yearConstructedRange        21.22\n",
              "baseRent                     0.00\n",
              "houseNumber                 26.42\n",
              "livingSpace                  0.00\n",
              "geo_krs                      0.00\n",
              "condition                   25.47\n",
              "interiorQual                41.91\n",
              "petsAllowed                 42.62\n",
              "street                       0.00\n",
              "streetPlain                 26.41\n",
              "lift                         0.00\n",
              "baseRentRange                0.00\n",
              "typeOfFlat                  13.62\n",
              "geo_plz                      0.00\n",
              "noRooms                      0.00\n",
              "thermalChar                 39.62\n",
              "floor                       19.08\n",
              "numberOfFloors              36.35\n",
              "noRoomsRange                 0.00\n",
              "garden                       0.00\n",
              "livingSpaceRange             0.00\n",
              "regio2                       0.00\n",
              "regio3                       0.00\n",
              "description                  7.34\n",
              "facilities                  19.69\n",
              "heatingCosts                68.19\n",
              "energyEfficiencyClass       71.07\n",
              "lastRefurbish               69.98\n",
              "electricityBasePrice        82.58\n",
              "electricityKwhPrice         82.58\n",
              "date                         0.00\n",
              "dtype: float64"
            ]
          },
          "metadata": {},
          "execution_count": 45
        }
      ]
    },
    {
      "cell_type": "code",
      "source": [
        "for col in raw_data.columns:\n",
        "  if raw_data[col].isnull().sum()/len(raw_data)>0.15:\n",
        "    raw_data.drop(columns={col}, axis=1, inplace=True)\n",
        "(raw_data.isnull().sum()/len(raw_data)*100).round(2)"
      ],
      "metadata": {
        "colab": {
          "base_uri": "https://localhost:8080/"
        },
        "id": "448tikEnV_0P",
        "outputId": "d5be0367-a118-4501-a963-de34ce7c2bb8"
      },
      "execution_count": 46,
      "outputs": [
        {
          "output_type": "execute_result",
          "data": {
            "text/plain": [
              "regio1                 0.00\n",
              "serviceCharge          2.57\n",
              "telekomTvOffer        12.13\n",
              "newlyConst             0.00\n",
              "balcony                0.00\n",
              "picturecount           0.00\n",
              "pricetrend             0.68\n",
              "telekomUploadSpeed    12.41\n",
              "scoutId                0.00\n",
              "hasKitchen             0.00\n",
              "geo_bln                0.00\n",
              "cellar                 0.00\n",
              "baseRent               0.00\n",
              "livingSpace            0.00\n",
              "geo_krs                0.00\n",
              "street                 0.00\n",
              "lift                   0.00\n",
              "baseRentRange          0.00\n",
              "typeOfFlat            13.62\n",
              "geo_plz                0.00\n",
              "noRooms                0.00\n",
              "noRoomsRange           0.00\n",
              "garden                 0.00\n",
              "livingSpaceRange       0.00\n",
              "regio2                 0.00\n",
              "regio3                 0.00\n",
              "description            7.34\n",
              "date                   0.00\n",
              "dtype: float64"
            ]
          },
          "metadata": {},
          "execution_count": 46
        }
      ]
    },
    {
      "cell_type": "code",
      "source": [
        "raw_data[\"serviceCharge\"].describe()"
      ],
      "metadata": {
        "colab": {
          "base_uri": "https://localhost:8080/"
        },
        "id": "aLsppIkwW5fl",
        "outputId": "dbe682fd-a12e-46d0-baf7-88af2779b128"
      },
      "execution_count": 47,
      "outputs": [
        {
          "output_type": "execute_result",
          "data": {
            "text/plain": [
              "count    261941.000000\n",
              "mean        151.206113\n",
              "std         308.295790\n",
              "min           0.000000\n",
              "25%          95.000000\n",
              "50%         135.000000\n",
              "75%         190.000000\n",
              "max      146118.000000\n",
              "Name: serviceCharge, dtype: float64"
            ]
          },
          "metadata": {},
          "execution_count": 47
        }
      ]
    },
    {
      "cell_type": "code",
      "source": [
        "mean=raw_data[\"serviceCharge\"].mean()\n",
        "std=raw_data[\"serviceCharge\"].std()\n",
        "raw_data=raw_data[raw_data[\"serviceCharge\"]<mean+3*std]\n",
        "plt.hist(raw_data[\"serviceCharge\"]);"
      ],
      "metadata": {
        "colab": {
          "base_uri": "https://localhost:8080/",
          "height": 264
        },
        "id": "Fitm67F9atwQ",
        "outputId": "090c2282-5800-4188-9df9-f4cf4226d63c"
      },
      "execution_count": 48,
      "outputs": [
        {
          "output_type": "display_data",
          "data": {
            "text/plain": [
              "<Figure size 432x288 with 1 Axes>"
            ],
            "image/png": "[encoded data removed]"
          },
          "metadata": {
            "needs_background": "light"
          }
        }
      ]
    },
    {
      "cell_type": "code",
      "source": [
        "raw_data[\"typeOfFlat\"].isnull().sum()"
      ],
      "metadata": {
        "colab": {
          "base_uri": "https://localhost:8080/"
        },
        "id": "vIXnePO0ujpV",
        "outputId": "e7e50f34-0915-4fcb-a418-9346f641eb8c"
      },
      "execution_count": 49,
      "outputs": [
        {
          "output_type": "execute_result",
          "data": {
            "text/plain": [
              "35412"
            ]
          },
          "metadata": {},
          "execution_count": 49
        }
      ]
    },
    {
      "cell_type": "code",
      "source": [
        "raw_data=raw_data[raw_data[\"typeOfFlat\"].notna()]\n",
        "raw_data.isnull().sum()"
      ],
      "metadata": {
        "colab": {
          "base_uri": "https://localhost:8080/"
        },
        "id": "u8y-0ahEupYD",
        "outputId": "8fc06ded-a81c-4757-bcd0-e486312f8f25"
      },
      "execution_count": 50,
      "outputs": [
        {
          "output_type": "execute_result",
          "data": {
            "text/plain": [
              "regio1                    0\n",
              "serviceCharge             0\n",
              "telekomTvOffer        27197\n",
              "newlyConst                0\n",
              "balcony                   0\n",
              "picturecount              0\n",
              "pricetrend             1617\n",
              "telekomUploadSpeed    27832\n",
              "scoutId                   0\n",
              "hasKitchen                0\n",
              "geo_bln                   0\n",
              "cellar                    0\n",
              "baseRent                  0\n",
              "livingSpace               0\n",
              "geo_krs                   0\n",
              "street                    0\n",
              "lift                      0\n",
              "baseRentRange             0\n",
              "typeOfFlat                0\n",
              "geo_plz                   0\n",
              "noRooms                   0\n",
              "noRoomsRange              0\n",
              "garden                    0\n",
              "livingSpaceRange          0\n",
              "regio2                    0\n",
              "regio3                    0\n",
              "description           14282\n",
              "date                      0\n",
              "dtype: int64"
            ]
          },
          "metadata": {},
          "execution_count": 50
        }
      ]
    },
    {
      "cell_type": "code",
      "source": [
        "raw_data=raw_data[raw_data[\"telekomTvOffer\"].notna()]\n",
        "raw_data.isnull().sum()     "
      ],
      "metadata": {
        "colab": {
          "base_uri": "https://localhost:8080/"
        },
        "id": "LpPOol67z8rY",
        "outputId": "06f6a1d5-26c3-4260-a132-280dd10fa232"
      },
      "execution_count": 51,
      "outputs": [
        {
          "output_type": "execute_result",
          "data": {
            "text/plain": [
              "regio1                    0\n",
              "serviceCharge             0\n",
              "telekomTvOffer            0\n",
              "newlyConst                0\n",
              "balcony                   0\n",
              "picturecount              0\n",
              "pricetrend              621\n",
              "telekomUploadSpeed      635\n",
              "scoutId                   0\n",
              "hasKitchen                0\n",
              "geo_bln                   0\n",
              "cellar                    0\n",
              "baseRent                  0\n",
              "livingSpace               0\n",
              "geo_krs                   0\n",
              "street                    0\n",
              "lift                      0\n",
              "baseRentRange             0\n",
              "typeOfFlat                0\n",
              "geo_plz                   0\n",
              "noRooms                   0\n",
              "noRoomsRange              0\n",
              "garden                    0\n",
              "livingSpaceRange          0\n",
              "regio2                    0\n",
              "regio3                    0\n",
              "description           13001\n",
              "date                      0\n",
              "dtype: int64"
            ]
          },
          "metadata": {},
          "execution_count": 51
        }
      ]
    },
    {
      "cell_type": "code",
      "source": [
        "raw_data.drop(columns={\"description\"}, inplace=True, axis=1)"
      ],
      "metadata": {
        "id": "neS3GFyc0L_C"
      },
      "execution_count": 52,
      "outputs": []
    },
    {
      "cell_type": "code",
      "source": [
        "raw_data[\"pricetrend\"].interpolate(method='linear', limit_direction='forward', axis=0,inplace=True)"
      ],
      "metadata": {
        "id": "D9WBZ9Mg2MQQ"
      },
      "execution_count": 53,
      "outputs": []
    },
    {
      "cell_type": "code",
      "source": [
        "raw_data.isnull().sum()"
      ],
      "metadata": {
        "colab": {
          "base_uri": "https://localhost:8080/"
        },
        "id": "COoDBbfF5Eh-",
        "outputId": "642d6bb8-5e2d-4aa2-cc3e-8889e7875e37"
      },
      "execution_count": 54,
      "outputs": [
        {
          "output_type": "execute_result",
          "data": {
            "text/plain": [
              "regio1                  0\n",
              "serviceCharge           0\n",
              "telekomTvOffer          0\n",
              "newlyConst              0\n",
              "balcony                 0\n",
              "picturecount            0\n",
              "pricetrend              0\n",
              "telekomUploadSpeed    635\n",
              "scoutId                 0\n",
              "hasKitchen              0\n",
              "geo_bln                 0\n",
              "cellar                  0\n",
              "baseRent                0\n",
              "livingSpace             0\n",
              "geo_krs                 0\n",
              "street                  0\n",
              "lift                    0\n",
              "baseRentRange           0\n",
              "typeOfFlat              0\n",
              "geo_plz                 0\n",
              "noRooms                 0\n",
              "noRoomsRange            0\n",
              "garden                  0\n",
              "livingSpaceRange        0\n",
              "regio2                  0\n",
              "regio3                  0\n",
              "date                    0\n",
              "dtype: int64"
            ]
          },
          "metadata": {},
          "execution_count": 54
        }
      ]
    },
    {
      "cell_type": "code",
      "source": [
        "raw_data[\"telekomUploadSpeed\"].describe()"
      ],
      "metadata": {
        "colab": {
          "base_uri": "https://localhost:8080/"
        },
        "id": "Z6JP79SU5Jr7",
        "outputId": "caa071c4-e79f-4a96-947f-003ea72a5123"
      },
      "execution_count": 55,
      "outputs": [
        {
          "output_type": "execute_result",
          "data": {
            "text/plain": [
              "count    198601.00000\n",
              "mean         28.92705\n",
              "std          16.26003\n",
              "min           1.00000\n",
              "25%          10.00000\n",
              "50%          40.00000\n",
              "75%          40.00000\n",
              "max         100.00000\n",
              "Name: telekomUploadSpeed, dtype: float64"
            ]
          },
          "metadata": {},
          "execution_count": 55
        }
      ]
    },
    {
      "cell_type": "code",
      "source": [
        "raw_data[\"telekomUploadSpeed\"].interpolate(method='linear', limit_direction='forward', axis=0,inplace=True)"
      ],
      "metadata": {
        "id": "lBc8glid60vw"
      },
      "execution_count": 56,
      "outputs": []
    },
    {
      "cell_type": "code",
      "source": [
        "raw_data.isnull().sum()"
      ],
      "metadata": {
        "colab": {
          "base_uri": "https://localhost:8080/"
        },
        "id": "vb1D3JdC78Y0",
        "outputId": "330d2bec-53cb-4e30-9bbd-2878be073cef"
      },
      "execution_count": 57,
      "outputs": [
        {
          "output_type": "execute_result",
          "data": {
            "text/plain": [
              "regio1                0\n",
              "serviceCharge         0\n",
              "telekomTvOffer        0\n",
              "newlyConst            0\n",
              "balcony               0\n",
              "picturecount          0\n",
              "pricetrend            0\n",
              "telekomUploadSpeed    0\n",
              "scoutId               0\n",
              "hasKitchen            0\n",
              "geo_bln               0\n",
              "cellar                0\n",
              "baseRent              0\n",
              "livingSpace           0\n",
              "geo_krs               0\n",
              "street                0\n",
              "lift                  0\n",
              "baseRentRange         0\n",
              "typeOfFlat            0\n",
              "geo_plz               0\n",
              "noRooms               0\n",
              "noRoomsRange          0\n",
              "garden                0\n",
              "livingSpaceRange      0\n",
              "regio2                0\n",
              "regio3                0\n",
              "date                  0\n",
              "dtype: int64"
            ]
          },
          "metadata": {},
          "execution_count": 57
        }
      ]
    },
    {
      "cell_type": "markdown",
      "source": [
        "# Task 2: Descriptive Statisitcs and Visulizatio"
      ],
      "metadata": {
        "id": "A3Qbo-mwt3f3"
      }
    },
    {
      "cell_type": "code",
      "source": [
        "x=raw_data[\"regio1\"].value_counts(sort=False)"
      ],
      "metadata": {
        "id": "ARA0kbvj8Vvk"
      },
      "execution_count": 58,
      "outputs": []
    },
    {
      "cell_type": "code",
      "source": [
        "plt.figure(figsize=(10, 7))\n",
        "plt.pie(x, labels=x.index, autopct='%.0f%%')\n",
        "plt.legend(title=\"region 1 frequency\",bbox_to_anchor=(1.7, 1));"
      ],
      "metadata": {
        "colab": {
          "base_uri": "https://localhost:8080/",
          "height": 411
        },
        "id": "5W0Gd8108nP9",
        "outputId": "6523f60b-67bd-450d-8445-d95427c5b3e7"
      },
      "execution_count": 59,
      "outputs": [
        {
          "output_type": "display_data",
          "data": {
            "text/plain": [
              "<Figure size 720x504 with 1 Axes>"
            ],
            "image/png": "[encoded data removed]"
          },
          "metadata": {}
        }
      ]
    },
    {
      "cell_type": "code",
      "source": [
        "raw_data.head()"
      ],
      "metadata": {
        "colab": {
          "base_uri": "https://localhost:8080/",
          "height": 300
        },
        "id": "IM0oCr7A-GXw",
        "outputId": "b2db9ecd-db7d-4286-83a8-8dc546c7bea3"
      },
      "execution_count": 60,
      "outputs": [
        {
          "output_type": "execute_result",
          "data": {
            "text/plain": [
              "                regio1  serviceCharge telekomTvOffer  newlyConst  balcony  \\\n",
              "0  Nordrhein_Westfalen         245.00  ONE_YEAR_FREE       False    False   \n",
              "1      Rheinland_Pfalz         134.00  ONE_YEAR_FREE       False     True   \n",
              "2              Sachsen         255.00  ONE_YEAR_FREE        True     True   \n",
              "3              Sachsen          58.15  ONE_YEAR_FREE       False     True   \n",
              "5   Schleswig_Holstein         142.00           NONE       False     True   \n",
              "\n",
              "   picturecount  pricetrend  telekomUploadSpeed    scoutId  hasKitchen  ...  \\\n",
              "0             6        4.62                10.0   96107057       False  ...   \n",
              "1             8        3.47                10.0  111378734       False  ...   \n",
              "2             8        2.72                 2.4  113147523       False  ...   \n",
              "3             9        1.53                40.0  108890903       False  ...   \n",
              "5             5        4.48                 2.4  115531145        True  ...   \n",
              "\n",
              "  baseRentRange    typeOfFlat  geo_plz  noRooms noRoomsRange garden  \\\n",
              "0             4  ground_floor    44269      4.0            4   True   \n",
              "1             5  ground_floor    67459      3.0            3  False   \n",
              "2             6     apartment     1097      3.0            3  False   \n",
              "3             2         other     9599      3.0            3  False   \n",
              "5             2     apartment    24891      2.0            2  False   \n",
              "\n",
              "   livingSpaceRange                     regio2                      regio3  \\\n",
              "0                 4                   Dortmund                     Schüren   \n",
              "1                 4          Rhein_Pfalz_Kreis              Böhl_Iggelheim   \n",
              "2                 4                    Dresden  Äußere_Neustadt_Antonstadt   \n",
              "3                 2        Mittelsachsen_Kreis                    Freiberg   \n",
              "5                 2  Schleswig_Flensburg_Kreis                   Struxdorf   \n",
              "\n",
              "    date  \n",
              "0  May19  \n",
              "1  May19  \n",
              "2  Oct19  \n",
              "3  May19  \n",
              "5  Feb20  \n",
              "\n",
              "[5 rows x 27 columns]"
            ],
            "text/html": [
              "\n",
              "  <div id=\"df-8a32f294-d5e4-4281-9a28-9ef00ac63f3b\">\n",
              "    <div class=\"colab-df-container\">\n",
              "      <div>\n",
              "<style scoped>\n",
              "    .dataframe tbody tr th:only-of-type {\n",
              "        vertical-align: middle;\n",
              "    }\n",
              "\n",
              "    .dataframe tbody tr th {\n",
              "        vertical-align: top;\n",
              "    }\n",
              "\n",
              "    .dataframe thead th {\n",
              "        text-align: right;\n",
              "    }\n",
              "</style>\n",
              "<table border=\"1\" class=\"dataframe\">\n",
              "  <thead>\n",
              "    <tr style=\"text-align: right;\">\n",
              "      <th></th>\n",
              "      <th>regio1</th>\n",
              "      <th>serviceCharge</th>\n",
              "      <th>telekomTvOffer</th>\n",
              "      <th>newlyConst</th>\n",
              "      <th>balcony</th>\n",
              "      <th>picturecount</th>\n",
              "      <th>pricetrend</th>\n",
              "      <th>telekomUploadSpeed</th>\n",
              "      <th>scoutId</th>\n",
              "      <th>hasKitchen</th>\n",
              "      <th>...</th>\n",
              "      <th>baseRentRange</th>\n",
              "      <th>typeOfFlat</th>\n",
              "      <th>geo_plz</th>\n",
              "      <th>noRooms</th>\n",
              "      <th>noRoomsRange</th>\n",
              "      <th>garden</th>\n",
              "      <th>livingSpaceRange</th>\n",
              "      <th>regio2</th>\n",
              "      <th>regio3</th>\n",
              "      <th>date</th>\n",
              "    </tr>\n",
              "  </thead>\n",
              "  <tbody>\n",
              "    <tr>\n",
              "      <th>0</th>\n",
              "      <td>Nordrhein_Westfalen</td>\n",
              "      <td>245.00</td>\n",
              "      <td>ONE_YEAR_FREE</td>\n",
              "      <td>False</td>\n",
              "      <td>False</td>\n",
              "      <td>6</td>\n",
              "      <td>4.62</td>\n",
              "      <td>10.0</td>\n",
              "      <td>96107057</td>\n",
              "      <td>False</td>\n",
              "      <td>...</td>\n",
              "      <td>4</td>\n",
              "      <td>ground_floor</td>\n",
              "      <td>44269</td>\n",
              "      <td>4.0</td>\n",
              "      <td>4</td>\n",
              "      <td>True</td>\n",
              "      <td>4</td>\n",
              "      <td>Dortmund</td>\n",
              "      <td>Schüren</td>\n",
              "      <td>May19</td>\n",
              "    </tr>\n",
              "    <tr>\n",
              "      <th>1</th>\n",
              "      <td>Rheinland_Pfalz</td>\n",
              "      <td>134.00</td>\n",
              "      <td>ONE_YEAR_FREE</td>\n",
              "      <td>False</td>\n",
              "      <td>True</td>\n",
              "      <td>8</td>\n",
              "      <td>3.47</td>\n",
              "      <td>10.0</td>\n",
              "      <td>111378734</td>\n",
              "      <td>False</td>\n",
              "      <td>...</td>\n",
              "      <td>5</td>\n",
              "      <td>ground_floor</td>\n",
              "      <td>67459</td>\n",
              "      <td>3.0</td>\n",
              "      <td>3</td>\n",
              "      <td>False</td>\n",
              "      <td>4</td>\n",
              "      <td>Rhein_Pfalz_Kreis</td>\n",
              "      <td>Böhl_Iggelheim</td>\n",
              "      <td>May19</td>\n",
              "    </tr>\n",
              "    <tr>\n",
              "      <th>2</th>\n",
              "      <td>Sachsen</td>\n",
              "      <td>255.00</td>\n",
              "      <td>ONE_YEAR_FREE</td>\n",
              "      <td>True</td>\n",
              "      <td>True</td>\n",
              "      <td>8</td>\n",
              "      <td>2.72</td>\n",
              "      <td>2.4</td>\n",
              "      <td>113147523</td>\n",
              "      <td>False</td>\n",
              "      <td>...</td>\n",
              "      <td>6</td>\n",
              "      <td>apartment</td>\n",
              "      <td>1097</td>\n",
              "      <td>3.0</td>\n",
              "      <td>3</td>\n",
              "      <td>False</td>\n",
              "      <td>4</td>\n",
              "      <td>Dresden</td>\n",
              "      <td>Äußere_Neustadt_Antonstadt</td>\n",
              "      <td>Oct19</td>\n",
              "    </tr>\n",
              "    <tr>\n",
              "      <th>3</th>\n",
              "      <td>Sachsen</td>\n",
              "      <td>58.15</td>\n",
              "      <td>ONE_YEAR_FREE</td>\n",
              "      <td>False</td>\n",
              "      <td>True</td>\n",
              "      <td>9</td>\n",
              "      <td>1.53</td>\n",
              "      <td>40.0</td>\n",
              "      <td>108890903</td>\n",
              "      <td>False</td>\n",
              "      <td>...</td>\n",
              "      <td>2</td>\n",
              "      <td>other</td>\n",
              "      <td>9599</td>\n",
              "      <td>3.0</td>\n",
              "      <td>3</td>\n",
              "      <td>False</td>\n",
              "      <td>2</td>\n",
              "      <td>Mittelsachsen_Kreis</td>\n",
              "      <td>Freiberg</td>\n",
              "      <td>May19</td>\n",
              "    </tr>\n",
              "    <tr>\n",
              "      <th>5</th>\n",
              "      <td>Schleswig_Holstein</td>\n",
              "      <td>142.00</td>\n",
              "      <td>NONE</td>\n",
              "      <td>False</td>\n",
              "      <td>True</td>\n",
              "      <td>5</td>\n",
              "      <td>4.48</td>\n",
              "      <td>2.4</td>\n",
              "      <td>115531145</td>\n",
              "      <td>True</td>\n",
              "      <td>...</td>\n",
              "      <td>2</td>\n",
              "      <td>apartment</td>\n",
              "      <td>24891</td>\n",
              "      <td>2.0</td>\n",
              "      <td>2</td>\n",
              "      <td>False</td>\n",
              "      <td>2</td>\n",
              "      <td>Schleswig_Flensburg_Kreis</td>\n",
              "      <td>Struxdorf</td>\n",
              "      <td>Feb20</td>\n",
              "    </tr>\n",
              "  </tbody>\n",
              "</table>\n",
              "<p>5 rows × 27 columns</p>\n",
              "</div>\n",
              "      <button class=\"colab-df-convert\" onclick=\"convertToInteractive('df-8a32f294-d5e4-4281-9a28-9ef00ac63f3b')\"\n",
              "              title=\"Convert this dataframe to an interactive table.\"\n",
              "              style=\"display:none;\">\n",
              "        \n",
              "  <svg xmlns=\"http://www.w3.org/2000/svg\" height=\"24px\"viewBox=\"0 0 24 24\"\n",
              "       width=\"24px\">\n",
              "    <path d=\"M0 0h24v24H0V0z\" fill=\"none\"/>\n",
              "    <path d=\"M18.56 5.44l.94 2.06.94-2.06 2.06-.94-2.06-.94-.94-2.06-.94 2.06-2.06.94zm-11 1L8.5 8.5l.94-2.06 2.06-.94-2.06-.94L8.5 2.5l-.94 2.06-2.06.94zm10 10l.94 2.06.94-2.06 2.06-.94-2.06-.94-.94-2.06-.94 2.06-2.06.94z\"/><path d=\"M17.41 7.96l-1.37-1.37c-.4-.4-.92-.59-1.43-.59-.52 0-1.04.2-1.43.59L10.3 9.45l-7.72 7.72c-.78.78-.78 2.05 0 2.83L4 21.41c.39.39.9.59 1.41.59.51 0 1.02-.2 1.41-.59l7.78-7.78 2.81-2.81c.8-.78.8-2.07 0-2.86zM5.41 20L4 18.59l7.72-7.72 1.47 1.35L5.41 20z\"/>\n",
              "  </svg>\n",
              "      </button>\n",
              "      \n",
              "  <style>\n",
              "    .colab-df-container {\n",
              "      display:flex;\n",
              "      flex-wrap:wrap;\n",
              "      gap: 12px;\n",
              "    }\n",
              "\n",
              "    .colab-df-convert {\n",
              "      background-color: #E8F0FE;\n",
              "      border: none;\n",
              "      border-radius: 50%;\n",
              "      cursor: pointer;\n",
              "      display: none;\n",
              "      fill: #1967D2;\n",
              "      height: 32px;\n",
              "      padding: 0 0 0 0;\n",
              "      width: 32px;\n",
              "    }\n",
              "\n",
              "    .colab-df-convert:hover {\n",
              "      background-color: #E2EBFA;\n",
              "      box-shadow: 0px 1px 2px rgba(60, 64, 67, 0.3), 0px 1px 3px 1px rgba(60, 64, 67, 0.15);\n",
              "      fill: #174EA6;\n",
              "    }\n",
              "\n",
              "    [theme=dark] .colab-df-convert {\n",
              "      background-color: #3B4455;\n",
              "      fill: #D2E3FC;\n",
              "    }\n",
              "\n",
              "    [theme=dark] .colab-df-convert:hover {\n",
              "      background-color: #434B5C;\n",
              "      box-shadow: 0px 1px 3px 1px rgba(0, 0, 0, 0.15);\n",
              "      filter: drop-shadow(0px 1px 2px rgba(0, 0, 0, 0.3));\n",
              "      fill: #FFFFFF;\n",
              "    }\n",
              "  </style>\n",
              "\n",
              "      <script>\n",
              "        const buttonEl =\n",
              "          document.querySelector('#df-8a32f294-d5e4-4281-9a28-9ef00ac63f3b button.colab-df-convert');\n",
              "        buttonEl.style.display =\n",
              "          google.colab.kernel.accessAllowed ? 'block' : 'none';\n",
              "\n",
              "        async function convertToInteractive(key) {\n",
              "          const element = document.querySelector('#df-8a32f294-d5e4-4281-9a28-9ef00ac63f3b');\n",
              "          const dataTable =\n",
              "            await google.colab.kernel.invokeFunction('convertToInteractive',\n",
              "                                                     [key], {});\n",
              "          if (!dataTable) return;\n",
              "\n",
              "          const docLinkHtml = 'Like what you see? Visit the ' +\n",
              "            '<a target=\"_blank\" href=https://colab.research.google.com/notebooks/data_table.ipynb>data table notebook</a>'\n",
              "            + ' to learn more about interactive tables.';\n",
              "          element.innerHTML = '';\n",
              "          dataTable['output_type'] = 'display_data';\n",
              "          await google.colab.output.renderOutput(dataTable, element);\n",
              "          const docLink = document.createElement('div');\n",
              "          docLink.innerHTML = docLinkHtml;\n",
              "          element.appendChild(docLink);\n",
              "        }\n",
              "      </script>\n",
              "    </div>\n",
              "  </div>\n",
              "  "
            ]
          },
          "metadata": {},
          "execution_count": 60
        }
      ]
    },
    {
      "cell_type": "code",
      "source": [
        "serviceCharge_regio=raw_data[[\"regio1\", \"serviceCharge\"]].groupby(raw_data[\"regio1\"]).describe().round(2)\n",
        "serviceCharge_regio"
      ],
      "metadata": {
        "colab": {
          "base_uri": "https://localhost:8080/",
          "height": 613
        },
        "id": "LSzyFpudAvFm",
        "outputId": "bf1c50dd-e81f-4d34-8279-d9d0975b3482"
      },
      "execution_count": 61,
      "outputs": [
        {
          "output_type": "execute_result",
          "data": {
            "text/plain": [
              "                       serviceCharge                                      \\\n",
              "                               count    mean     std  min     25%    50%   \n",
              "regio1                                                                     \n",
              "Baden_Württemberg            11683.0  170.42   90.91  0.0  110.00  160.0   \n",
              "Bayern                       14870.0  171.52   89.62  0.0  110.00  160.0   \n",
              "Berlin                        8081.0  194.09  125.25  0.0  111.00  164.0   \n",
              "Brandenburg                   4567.0  132.99   73.59  0.0   80.00  120.0   \n",
              "Bremen                        2005.0  159.95   74.32  0.0  104.00  150.0   \n",
              "Hamburg                       2763.0  202.36  123.98  0.0  115.00  175.0   \n",
              "Hessen                       12784.0  198.26   97.91  0.0  134.00  189.0   \n",
              "Mecklenburg_Vorpommern        4606.0  118.80   61.50  0.0   73.61  110.0   \n",
              "Niedersachsen                12510.0  143.21   68.49  0.0   95.00  130.0   \n",
              "Nordrhein_Westfalen          51616.0  152.82   76.88  0.0  100.00  137.0   \n",
              "Rheinland_Pfalz               5989.0  155.25   70.39  0.0  100.00  150.0   \n",
              "Saarland                      1080.0  158.42   69.72  0.0  100.00  150.0   \n",
              "Sachsen                      41704.0  132.70   69.46  0.0   87.21  121.0   \n",
              "Sachsen_Anhalt               13613.0  112.91   57.56  0.0   70.00  100.0   \n",
              "Schleswig_Holstein            5223.0  137.02   68.16  0.0   90.00  120.0   \n",
              "Thüringen                     6142.0  124.39   61.51  0.0   80.00  120.0   \n",
              "\n",
              "                                         \n",
              "                           75%      max  \n",
              "regio1                                   \n",
              "Baden_Württemberg       220.00   830.00  \n",
              "Bayern                  210.00   980.00  \n",
              "Berlin                  236.00  1070.00  \n",
              "Brandenburg             165.00   960.00  \n",
              "Bremen                  200.00   670.00  \n",
              "Hamburg                 250.00  1040.00  \n",
              "Hessen                  250.00  1000.00  \n",
              "Mecklenburg_Vorpommern  150.00   603.13  \n",
              "Niedersachsen           180.00  1000.00  \n",
              "Nordrhein_Westfalen     185.00  1050.00  \n",
              "Rheinland_Pfalz         200.00   950.00  \n",
              "Saarland                200.00   500.00  \n",
              "Sachsen                 160.00  1009.56  \n",
              "Sachsen_Anhalt          146.00   923.72  \n",
              "Schleswig_Holstein      171.00   800.00  \n",
              "Thüringen               150.17   992.25  "
            ],
            "text/html": [
              "\n",
              "  <div id=\"df-7afdb0ee-a7bc-461c-80d6-d9542c7808de\">\n",
              "    <div class=\"colab-df-container\">\n",
              "      <div>\n",
              "<style scoped>\n",
              "    .dataframe tbody tr th:only-of-type {\n",
              "        vertical-align: middle;\n",
              "    }\n",
              "\n",
              "    .dataframe tbody tr th {\n",
              "        vertical-align: top;\n",
              "    }\n",
              "\n",
              "    .dataframe thead tr th {\n",
              "        text-align: left;\n",
              "    }\n",
              "\n",
              "    .dataframe thead tr:last-of-type th {\n",
              "        text-align: right;\n",
              "    }\n",
              "</style>\n",
              "<table border=\"1\" class=\"dataframe\">\n",
              "  <thead>\n",
              "    <tr>\n",
              "      <th></th>\n",
              "      <th colspan=\"8\" halign=\"left\">serviceCharge</th>\n",
              "    </tr>\n",
              "    <tr>\n",
              "      <th></th>\n",
              "      <th>count</th>\n",
              "      <th>mean</th>\n",
              "      <th>std</th>\n",
              "      <th>min</th>\n",
              "      <th>25%</th>\n",
              "      <th>50%</th>\n",
              "      <th>75%</th>\n",
              "      <th>max</th>\n",
              "    </tr>\n",
              "    <tr>\n",
              "      <th>regio1</th>\n",
              "      <th></th>\n",
              "      <th></th>\n",
              "      <th></th>\n",
              "      <th></th>\n",
              "      <th></th>\n",
              "      <th></th>\n",
              "      <th></th>\n",
              "      <th></th>\n",
              "    </tr>\n",
              "  </thead>\n",
              "  <tbody>\n",
              "    <tr>\n",
              "      <th>Baden_Württemberg</th>\n",
              "      <td>11683.0</td>\n",
              "      <td>170.42</td>\n",
              "      <td>90.91</td>\n",
              "      <td>0.0</td>\n",
              "      <td>110.00</td>\n",
              "      <td>160.0</td>\n",
              "      <td>220.00</td>\n",
              "      <td>830.00</td>\n",
              "    </tr>\n",
              "    <tr>\n",
              "      <th>Bayern</th>\n",
              "      <td>14870.0</td>\n",
              "      <td>171.52</td>\n",
              "      <td>89.62</td>\n",
              "      <td>0.0</td>\n",
              "      <td>110.00</td>\n",
              "      <td>160.0</td>\n",
              "      <td>210.00</td>\n",
              "      <td>980.00</td>\n",
              "    </tr>\n",
              "    <tr>\n",
              "      <th>Berlin</th>\n",
              "      <td>8081.0</td>\n",
              "      <td>194.09</td>\n",
              "      <td>125.25</td>\n",
              "      <td>0.0</td>\n",
              "      <td>111.00</td>\n",
              "      <td>164.0</td>\n",
              "      <td>236.00</td>\n",
              "      <td>1070.00</td>\n",
              "    </tr>\n",
              "    <tr>\n",
              "      <th>Brandenburg</th>\n",
              "      <td>4567.0</td>\n",
              "      <td>132.99</td>\n",
              "      <td>73.59</td>\n",
              "      <td>0.0</td>\n",
              "      <td>80.00</td>\n",
              "      <td>120.0</td>\n",
              "      <td>165.00</td>\n",
              "      <td>960.00</td>\n",
              "    </tr>\n",
              "    <tr>\n",
              "      <th>Bremen</th>\n",
              "      <td>2005.0</td>\n",
              "      <td>159.95</td>\n",
              "      <td>74.32</td>\n",
              "      <td>0.0</td>\n",
              "      <td>104.00</td>\n",
              "      <td>150.0</td>\n",
              "      <td>200.00</td>\n",
              "      <td>670.00</td>\n",
              "    </tr>\n",
              "    <tr>\n",
              "      <th>Hamburg</th>\n",
              "      <td>2763.0</td>\n",
              "      <td>202.36</td>\n",
              "      <td>123.98</td>\n",
              "      <td>0.0</td>\n",
              "      <td>115.00</td>\n",
              "      <td>175.0</td>\n",
              "      <td>250.00</td>\n",
              "      <td>1040.00</td>\n",
              "    </tr>\n",
              "    <tr>\n",
              "      <th>Hessen</th>\n",
              "      <td>12784.0</td>\n",
              "      <td>198.26</td>\n",
              "      <td>97.91</td>\n",
              "      <td>0.0</td>\n",
              "      <td>134.00</td>\n",
              "      <td>189.0</td>\n",
              "      <td>250.00</td>\n",
              "      <td>1000.00</td>\n",
              "    </tr>\n",
              "    <tr>\n",
              "      <th>Mecklenburg_Vorpommern</th>\n",
              "      <td>4606.0</td>\n",
              "      <td>118.80</td>\n",
              "      <td>61.50</td>\n",
              "      <td>0.0</td>\n",
              "      <td>73.61</td>\n",
              "      <td>110.0</td>\n",
              "      <td>150.00</td>\n",
              "      <td>603.13</td>\n",
              "    </tr>\n",
              "    <tr>\n",
              "      <th>Niedersachsen</th>\n",
              "      <td>12510.0</td>\n",
              "      <td>143.21</td>\n",
              "      <td>68.49</td>\n",
              "      <td>0.0</td>\n",
              "      <td>95.00</td>\n",
              "      <td>130.0</td>\n",
              "      <td>180.00</td>\n",
              "      <td>1000.00</td>\n",
              "    </tr>\n",
              "    <tr>\n",
              "      <th>Nordrhein_Westfalen</th>\n",
              "      <td>51616.0</td>\n",
              "      <td>152.82</td>\n",
              "      <td>76.88</td>\n",
              "      <td>0.0</td>\n",
              "      <td>100.00</td>\n",
              "      <td>137.0</td>\n",
              "      <td>185.00</td>\n",
              "      <td>1050.00</td>\n",
              "    </tr>\n",
              "    <tr>\n",
              "      <th>Rheinland_Pfalz</th>\n",
              "      <td>5989.0</td>\n",
              "      <td>155.25</td>\n",
              "      <td>70.39</td>\n",
              "      <td>0.0</td>\n",
              "      <td>100.00</td>\n",
              "      <td>150.0</td>\n",
              "      <td>200.00</td>\n",
              "      <td>950.00</td>\n",
              "    </tr>\n",
              "    <tr>\n",
              "      <th>Saarland</th>\n",
              "      <td>1080.0</td>\n",
              "      <td>158.42</td>\n",
              "      <td>69.72</td>\n",
              "      <td>0.0</td>\n",
              "      <td>100.00</td>\n",
              "      <td>150.0</td>\n",
              "      <td>200.00</td>\n",
              "      <td>500.00</td>\n",
              "    </tr>\n",
              "    <tr>\n",
              "      <th>Sachsen</th>\n",
              "      <td>41704.0</td>\n",
              "      <td>132.70</td>\n",
              "      <td>69.46</td>\n",
              "      <td>0.0</td>\n",
              "      <td>87.21</td>\n",
              "      <td>121.0</td>\n",
              "      <td>160.00</td>\n",
              "      <td>1009.56</td>\n",
              "    </tr>\n",
              "    <tr>\n",
              "      <th>Sachsen_Anhalt</th>\n",
              "      <td>13613.0</td>\n",
              "      <td>112.91</td>\n",
              "      <td>57.56</td>\n",
              "      <td>0.0</td>\n",
              "      <td>70.00</td>\n",
              "      <td>100.0</td>\n",
              "      <td>146.00</td>\n",
              "      <td>923.72</td>\n",
              "    </tr>\n",
              "    <tr>\n",
              "      <th>Schleswig_Holstein</th>\n",
              "      <td>5223.0</td>\n",
              "      <td>137.02</td>\n",
              "      <td>68.16</td>\n",
              "      <td>0.0</td>\n",
              "      <td>90.00</td>\n",
              "      <td>120.0</td>\n",
              "      <td>171.00</td>\n",
              "      <td>800.00</td>\n",
              "    </tr>\n",
              "    <tr>\n",
              "      <th>Thüringen</th>\n",
              "      <td>6142.0</td>\n",
              "      <td>124.39</td>\n",
              "      <td>61.51</td>\n",
              "      <td>0.0</td>\n",
              "      <td>80.00</td>\n",
              "      <td>120.0</td>\n",
              "      <td>150.17</td>\n",
              "      <td>992.25</td>\n",
              "    </tr>\n",
              "  </tbody>\n",
              "</table>\n",
              "</div>\n",
              "      <button class=\"colab-df-convert\" onclick=\"convertToInteractive('df-7afdb0ee-a7bc-461c-80d6-d9542c7808de')\"\n",
              "              title=\"Convert this dataframe to an interactive table.\"\n",
              "              style=\"display:none;\">\n",
              "        \n",
              "  <svg xmlns=\"http://www.w3.org/2000/svg\" height=\"24px\"viewBox=\"0 0 24 24\"\n",
              "       width=\"24px\">\n",
              "    <path d=\"M0 0h24v24H0V0z\" fill=\"none\"/>\n",
              "    <path d=\"M18.56 5.44l.94 2.06.94-2.06 2.06-.94-2.06-.94-.94-2.06-.94 2.06-2.06.94zm-11 1L8.5 8.5l.94-2.06 2.06-.94-2.06-.94L8.5 2.5l-.94 2.06-2.06.94zm10 10l.94 2.06.94-2.06 2.06-.94-2.06-.94-.94-2.06-.94 2.06-2.06.94z\"/><path d=\"M17.41 7.96l-1.37-1.37c-.4-.4-.92-.59-1.43-.59-.52 0-1.04.2-1.43.59L10.3 9.45l-7.72 7.72c-.78.78-.78 2.05 0 2.83L4 21.41c.39.39.9.59 1.41.59.51 0 1.02-.2 1.41-.59l7.78-7.78 2.81-2.81c.8-.78.8-2.07 0-2.86zM5.41 20L4 18.59l7.72-7.72 1.47 1.35L5.41 20z\"/>\n",
              "  </svg>\n",
              "      </button>\n",
              "      \n",
              "  <style>\n",
              "    .colab-df-container {\n",
              "      display:flex;\n",
              "      flex-wrap:wrap;\n",
              "      gap: 12px;\n",
              "    }\n",
              "\n",
              "    .colab-df-convert {\n",
              "      background-color: #E8F0FE;\n",
              "      border: none;\n",
              "      border-radius: 50%;\n",
              "      cursor: pointer;\n",
              "      display: none;\n",
              "      fill: #1967D2;\n",
              "      height: 32px;\n",
              "      padding: 0 0 0 0;\n",
              "      width: 32px;\n",
              "    }\n",
              "\n",
              "    .colab-df-convert:hover {\n",
              "      background-color: #E2EBFA;\n",
              "      box-shadow: 0px 1px 2px rgba(60, 64, 67, 0.3), 0px 1px 3px 1px rgba(60, 64, 67, 0.15);\n",
              "      fill: #174EA6;\n",
              "    }\n",
              "\n",
              "    [theme=dark] .colab-df-convert {\n",
              "      background-color: #3B4455;\n",
              "      fill: #D2E3FC;\n",
              "    }\n",
              "\n",
              "    [theme=dark] .colab-df-convert:hover {\n",
              "      background-color: #434B5C;\n",
              "      box-shadow: 0px 1px 3px 1px rgba(0, 0, 0, 0.15);\n",
              "      filter: drop-shadow(0px 1px 2px rgba(0, 0, 0, 0.3));\n",
              "      fill: #FFFFFF;\n",
              "    }\n",
              "  </style>\n",
              "\n",
              "      <script>\n",
              "        const buttonEl =\n",
              "          document.querySelector('#df-7afdb0ee-a7bc-461c-80d6-d9542c7808de button.colab-df-convert');\n",
              "        buttonEl.style.display =\n",
              "          google.colab.kernel.accessAllowed ? 'block' : 'none';\n",
              "\n",
              "        async function convertToInteractive(key) {\n",
              "          const element = document.querySelector('#df-7afdb0ee-a7bc-461c-80d6-d9542c7808de');\n",
              "          const dataTable =\n",
              "            await google.colab.kernel.invokeFunction('convertToInteractive',\n",
              "                                                     [key], {});\n",
              "          if (!dataTable) return;\n",
              "\n",
              "          const docLinkHtml = 'Like what you see? Visit the ' +\n",
              "            '<a target=\"_blank\" href=https://colab.research.google.com/notebooks/data_table.ipynb>data table notebook</a>'\n",
              "            + ' to learn more about interactive tables.';\n",
              "          element.innerHTML = '';\n",
              "          dataTable['output_type'] = 'display_data';\n",
              "          await google.colab.output.renderOutput(dataTable, element);\n",
              "          const docLink = document.createElement('div');\n",
              "          docLink.innerHTML = docLinkHtml;\n",
              "          element.appendChild(docLink);\n",
              "        }\n",
              "      </script>\n",
              "    </div>\n",
              "  </div>\n",
              "  "
            ]
          },
          "metadata": {},
          "execution_count": 61
        }
      ]
    },
    {
      "cell_type": "code",
      "source": [
        "def gradientbars(bars):\n",
        "    grad = np.atleast_2d(np.linspace(0,1,256)).T\n",
        "    ax = bars[0].axes\n",
        "    lim = ax.get_xlim()+ax.get_ylim()\n",
        "    for bar in bars:\n",
        "        bar.set_zorder(1)\n",
        "        bar.set_facecolor(\"none\")\n",
        "        x,y = bar.get_xy()\n",
        "        w, h = bar.get_width(), bar.get_height()\n",
        "        ax.imshow(grad, extent=[x,x+w,y,y+h], aspect=\"auto\", zorder=0)\n",
        "    ax.axis(lim)\n"
      ],
      "metadata": {
        "id": "ox-nvhLdBk7e"
      },
      "execution_count": 62,
      "outputs": []
    },
    {
      "cell_type": "code",
      "source": [
        "fig, ax1=plt.subplots(figsize=(10,7))\n",
        "ax2=ax1.twinx()\n",
        "plt1=ax1.bar(serviceCharge_regio.index, serviceCharge_regio[\"serviceCharge\",\"mean\"])\n",
        "ax2.plot(serviceCharge_regio.index, serviceCharge_regio[\"serviceCharge\",\"count\"], c=\"r\", marker=\"o\", linestyle=\"dashed\")\n",
        "\n",
        "gradientbars(plt1);\n",
        "ax1.tick_params(labelrotation=90);\n",
        "ax1.set_xlabel(\"Region 1\", weight=\"bold\");\n",
        "ax1.set_ylabel(\"Service Charge Mean\", c=\"b\",weight=\"bold\");\n",
        "ax2.set_ylabel(\"Region Count\",c=\"r\",weight=\"bold\");\n",
        "plt.title(\"Service charge mean and number of recorde per region\", c=\"g\", weight=\"bold\", fontsize=18);\n"
      ],
      "metadata": {
        "colab": {
          "base_uri": "https://localhost:8080/",
          "height": 585
        },
        "id": "E4Ul6BxPB6tb",
        "outputId": "b15ca249-d284-4862-c5b6-f92b14f310fd"
      },
      "execution_count": 63,
      "outputs": [
        {
          "output_type": "display_data",
          "data": {
            "text/plain": [
              "<Figure size 720x504 with 2 Axes>"
            ],
            "image/png": "[encoded data removed]"
          },
          "metadata": {
            "needs_background": "light"
          }
        }
      ]
    },
    {
      "cell_type": "code",
      "source": [
        "raw_data.dtypes"
      ],
      "metadata": {
        "colab": {
          "base_uri": "https://localhost:8080/"
        },
        "id": "T1WCrMBfCVxN",
        "outputId": "99b3a145-d66f-4990-80e1-2862e7864b25"
      },
      "execution_count": 64,
      "outputs": [
        {
          "output_type": "execute_result",
          "data": {
            "text/plain": [
              "regio1                 object\n",
              "serviceCharge         float64\n",
              "telekomTvOffer         object\n",
              "newlyConst               bool\n",
              "balcony                  bool\n",
              "picturecount            int64\n",
              "pricetrend            float64\n",
              "telekomUploadSpeed    float64\n",
              "scoutId                 int64\n",
              "hasKitchen               bool\n",
              "geo_bln                object\n",
              "cellar                   bool\n",
              "baseRent              float64\n",
              "livingSpace           float64\n",
              "geo_krs                object\n",
              "street                 object\n",
              "lift                     bool\n",
              "baseRentRange           int64\n",
              "typeOfFlat             object\n",
              "geo_plz                 int64\n",
              "noRooms               float64\n",
              "noRoomsRange            int64\n",
              "garden                   bool\n",
              "livingSpaceRange        int64\n",
              "regio2                 object\n",
              "regio3                 object\n",
              "date                   object\n",
              "dtype: object"
            ]
          },
          "metadata": {},
          "execution_count": 64
        }
      ]
    },
    {
      "cell_type": "code",
      "source": [
        "x1=raw_data[\"telekomTvOffer\"].value_counts()\n",
        "x2=raw_data[\"typeOfFlat\"].value_counts()\n",
        "x3=raw_data[\"hasKitchen\"].value_counts()\n",
        "x4=raw_data[\"cellar\"].value_counts()\n",
        "x5=raw_data[\"lift\"].value_counts()\n",
        "x6=raw_data[\"garden\"].value_counts()"
      ],
      "metadata": {
        "id": "vx9RTx12E76t"
      },
      "execution_count": 65,
      "outputs": []
    },
    {
      "cell_type": "code",
      "source": [
        "fig, ax=plt.subplots(2,3, figsize=(20,10))\n",
        "# Telekom TV offer\n",
        "ax[0,0].pie(x1, autopct='%.0f%%')\n",
        "ax[0,0].set_title(\"Telekom TV Offer Frequency\", weight=\"bold\")\n",
        "ax[0,0].legend(bbox_to_anchor=(1.7, 1),labels=x1.index);\n",
        "# Type of flat\n",
        "ax[0,1].pie(x2, autopct='%.0f%%')\n",
        "ax[0,1].set_title(\"Type of flat frequency\",weight=\"bold\")\n",
        "ax[0,1].legend(bbox_to_anchor=(1.7, 1),labels=x2.index);\n",
        "# Has Kitchen\n",
        "ax[0,2].pie(x3, autopct='%.0f%%')\n",
        "ax[0,2].set_title(\"Cases with Kitchen frequency\",weight=\"bold\")\n",
        "ax[0,2].legend(bbox_to_anchor=(1.7, 1),labels=x3.index);\n",
        "# With Cellar\n",
        "ax[1,0].pie(x4, autopct='%.0f%%')\n",
        "ax[1,0].set_title(\"Cases with cellar frequency\",weight=\"bold\")\n",
        "ax[1,0].legend(bbox_to_anchor=(1, 1),labels=x4.index);\n",
        "# With lift\n",
        "ax[1,1].pie(x5, autopct='%.0f%%')\n",
        "ax[1,1].set_title(\"Cases with lift frequency\",weight=\"bold\")\n",
        "ax[1,1].legend(bbox_to_anchor=(1.7, 1),labels=x5.index);\n",
        "# With graden\n",
        "ax[1,2].pie(x6, autopct='%.0f%%')\n",
        "ax[1,2].set_title(\"Cases with lift frequency\",weight=\"bold\")\n",
        "ax[1,2].legend(bbox_to_anchor=(1.7, 1),labels=x6.index);"
      ],
      "metadata": {
        "colab": {
          "base_uri": "https://localhost:8080/",
          "height": 533
        },
        "id": "WidoCuphKtNW",
        "outputId": "6a98bf4c-17e4-46d7-83d5-7b71f157c268"
      },
      "execution_count": 66,
      "outputs": [
        {
          "output_type": "display_data",
          "data": {
            "text/plain": [
              "<Figure size 1440x720 with 6 Axes>"
            ],
            "image/png": "[encoded data removed]"
          },
          "metadata": {}
        }
      ]
    },
    {
      "cell_type": "code",
      "source": [
        "regio_flatType=pd.crosstab(raw_data[\"regio1\"], [raw_data[\"typeOfFlat\"]])\n",
        "regio_flatType"
      ],
      "metadata": {
        "colab": {
          "base_uri": "https://localhost:8080/",
          "height": 646
        },
        "id": "P3Y15PQENtga",
        "outputId": "1e18f5b5-5e32-4290-9083-5c42b2f4e892"
      },
      "execution_count": 67,
      "outputs": [
        {
          "output_type": "execute_result",
          "data": {
            "text/plain": [
              "typeOfFlat              apartment  ground_floor  half_basement  loft  \\\n",
              "regio1                                                                 \n",
              "Baden_Württemberg            5233          1724            220    83   \n",
              "Bayern                       7319          2101            151   108   \n",
              "Berlin                       5544           810             18    49   \n",
              "Brandenburg                  2692           625             22    15   \n",
              "Bremen                       1357           207              9     6   \n",
              "Hamburg                      1668           302             18    11   \n",
              "Hessen                       6447          1732            260    54   \n",
              "Mecklenburg_Vorpommern       3031           495             14     3   \n",
              "Niedersachsen                6853          2030            108    30   \n",
              "Nordrhein_Westfalen         30385          7047            504   155   \n",
              "Rheinland_Pfalz              2763          1009            139    59   \n",
              "Saarland                      579           146             11    10   \n",
              "Sachsen                     24115          5252            113    93   \n",
              "Sachsen_Anhalt               8676          1617             40    38   \n",
              "Schleswig_Holstein           3094           771             46    15   \n",
              "Thüringen                    3776           723             26     7   \n",
              "\n",
              "typeOfFlat              maisonette  other  penthouse  raised_ground_floor  \\\n",
              "regio1                                                                      \n",
              "Baden_Württemberg              874    745        377                  287   \n",
              "Bayern                         709    871        370                  297   \n",
              "Berlin                         228    204        138                  175   \n",
              "Brandenburg                    134    270         14                  133   \n",
              "Bremen                          84     22         20                   65   \n",
              "Hamburg                        133     93         89                   78   \n",
              "Hessen                         800    592        451                  372   \n",
              "Mecklenburg_Vorpommern         111    246          9                   59   \n",
              "Niedersachsen                  435    371        183                  292   \n",
              "Nordrhein_Westfalen           1966   1264        648                  673   \n",
              "Rheinland_Pfalz                381    331        130                  108   \n",
              "Saarland                        44     68         13                   25   \n",
              "Sachsen                       1372   1685         85                 1826   \n",
              "Sachsen_Anhalt                 246    768         27                  306   \n",
              "Schleswig_Holstein             156    114         64                  138   \n",
              "Thüringen                      177    394          4                  137   \n",
              "\n",
              "typeOfFlat              roof_storey  terraced_flat  \n",
              "regio1                                              \n",
              "Baden_Württemberg              1861            279  \n",
              "Bayern                         2501            443  \n",
              "Berlin                          811            104  \n",
              "Brandenburg                     603             59  \n",
              "Bremen                          221             14  \n",
              "Hamburg                         313             58  \n",
              "Hessen                         1817            259  \n",
              "Mecklenburg_Vorpommern          597             41  \n",
              "Niedersachsen                  2029            179  \n",
              "Nordrhein_Westfalen            8430            544  \n",
              "Rheinland_Pfalz                 974             95  \n",
              "Saarland                        165             19  \n",
              "Sachsen                        6809            354  \n",
              "Sachsen_Anhalt                 1823             72  \n",
              "Schleswig_Holstein              738             87  \n",
              "Thüringen                       872             26  "
            ],
            "text/html": [
              "\n",
              "  <div id=\"df-c72f1718-0627-4c20-a7df-8b5ce49cbec1\">\n",
              "    <div class=\"colab-df-container\">\n",
              "      <div>\n",
              "<style scoped>\n",
              "    .dataframe tbody tr th:only-of-type {\n",
              "        vertical-align: middle;\n",
              "    }\n",
              "\n",
              "    .dataframe tbody tr th {\n",
              "        vertical-align: top;\n",
              "    }\n",
              "\n",
              "    .dataframe thead th {\n",
              "        text-align: right;\n",
              "    }\n",
              "</style>\n",
              "<table border=\"1\" class=\"dataframe\">\n",
              "  <thead>\n",
              "    <tr style=\"text-align: right;\">\n",
              "      <th>typeOfFlat</th>\n",
              "      <th>apartment</th>\n",
              "      <th>ground_floor</th>\n",
              "      <th>half_basement</th>\n",
              "      <th>loft</th>\n",
              "      <th>maisonette</th>\n",
              "      <th>other</th>\n",
              "      <th>penthouse</th>\n",
              "      <th>raised_ground_floor</th>\n",
              "      <th>roof_storey</th>\n",
              "      <th>terraced_flat</th>\n",
              "    </tr>\n",
              "    <tr>\n",
              "      <th>regio1</th>\n",
              "      <th></th>\n",
              "      <th></th>\n",
              "      <th></th>\n",
              "      <th></th>\n",
              "      <th></th>\n",
              "      <th></th>\n",
              "      <th></th>\n",
              "      <th></th>\n",
              "      <th></th>\n",
              "      <th></th>\n",
              "    </tr>\n",
              "  </thead>\n",
              "  <tbody>\n",
              "    <tr>\n",
              "      <th>Baden_Württemberg</th>\n",
              "      <td>5233</td>\n",
              "      <td>1724</td>\n",
              "      <td>220</td>\n",
              "      <td>83</td>\n",
              "      <td>874</td>\n",
              "      <td>745</td>\n",
              "      <td>377</td>\n",
              "      <td>287</td>\n",
              "      <td>1861</td>\n",
              "      <td>279</td>\n",
              "    </tr>\n",
              "    <tr>\n",
              "      <th>Bayern</th>\n",
              "      <td>7319</td>\n",
              "      <td>2101</td>\n",
              "      <td>151</td>\n",
              "      <td>108</td>\n",
              "      <td>709</td>\n",
              "      <td>871</td>\n",
              "      <td>370</td>\n",
              "      <td>297</td>\n",
              "      <td>2501</td>\n",
              "      <td>443</td>\n",
              "    </tr>\n",
              "    <tr>\n",
              "      <th>Berlin</th>\n",
              "      <td>5544</td>\n",
              "      <td>810</td>\n",
              "      <td>18</td>\n",
              "      <td>49</td>\n",
              "      <td>228</td>\n",
              "      <td>204</td>\n",
              "      <td>138</td>\n",
              "      <td>175</td>\n",
              "      <td>811</td>\n",
              "      <td>104</td>\n",
              "    </tr>\n",
              "    <tr>\n",
              "      <th>Brandenburg</th>\n",
              "      <td>2692</td>\n",
              "      <td>625</td>\n",
              "      <td>22</td>\n",
              "      <td>15</td>\n",
              "      <td>134</td>\n",
              "      <td>270</td>\n",
              "      <td>14</td>\n",
              "      <td>133</td>\n",
              "      <td>603</td>\n",
              "      <td>59</td>\n",
              "    </tr>\n",
              "    <tr>\n",
              "      <th>Bremen</th>\n",
              "      <td>1357</td>\n",
              "      <td>207</td>\n",
              "      <td>9</td>\n",
              "      <td>6</td>\n",
              "      <td>84</td>\n",
              "      <td>22</td>\n",
              "      <td>20</td>\n",
              "      <td>65</td>\n",
              "      <td>221</td>\n",
              "      <td>14</td>\n",
              "    </tr>\n",
              "    <tr>\n",
              "      <th>Hamburg</th>\n",
              "      <td>1668</td>\n",
              "      <td>302</td>\n",
              "      <td>18</td>\n",
              "      <td>11</td>\n",
              "      <td>133</td>\n",
              "      <td>93</td>\n",
              "      <td>89</td>\n",
              "      <td>78</td>\n",
              "      <td>313</td>\n",
              "      <td>58</td>\n",
              "    </tr>\n",
              "    <tr>\n",
              "      <th>Hessen</th>\n",
              "      <td>6447</td>\n",
              "      <td>1732</td>\n",
              "      <td>260</td>\n",
              "      <td>54</td>\n",
              "      <td>800</td>\n",
              "      <td>592</td>\n",
              "      <td>451</td>\n",
              "      <td>372</td>\n",
              "      <td>1817</td>\n",
              "      <td>259</td>\n",
              "    </tr>\n",
              "    <tr>\n",
              "      <th>Mecklenburg_Vorpommern</th>\n",
              "      <td>3031</td>\n",
              "      <td>495</td>\n",
              "      <td>14</td>\n",
              "      <td>3</td>\n",
              "      <td>111</td>\n",
              "      <td>246</td>\n",
              "      <td>9</td>\n",
              "      <td>59</td>\n",
              "      <td>597</td>\n",
              "      <td>41</td>\n",
              "    </tr>\n",
              "    <tr>\n",
              "      <th>Niedersachsen</th>\n",
              "      <td>6853</td>\n",
              "      <td>2030</td>\n",
              "      <td>108</td>\n",
              "      <td>30</td>\n",
              "      <td>435</td>\n",
              "      <td>371</td>\n",
              "      <td>183</td>\n",
              "      <td>292</td>\n",
              "      <td>2029</td>\n",
              "      <td>179</td>\n",
              "    </tr>\n",
              "    <tr>\n",
              "      <th>Nordrhein_Westfalen</th>\n",
              "      <td>30385</td>\n",
              "      <td>7047</td>\n",
              "      <td>504</td>\n",
              "      <td>155</td>\n",
              "      <td>1966</td>\n",
              "      <td>1264</td>\n",
              "      <td>648</td>\n",
              "      <td>673</td>\n",
              "      <td>8430</td>\n",
              "      <td>544</td>\n",
              "    </tr>\n",
              "    <tr>\n",
              "      <th>Rheinland_Pfalz</th>\n",
              "      <td>2763</td>\n",
              "      <td>1009</td>\n",
              "      <td>139</td>\n",
              "      <td>59</td>\n",
              "      <td>381</td>\n",
              "      <td>331</td>\n",
              "      <td>130</td>\n",
              "      <td>108</td>\n",
              "      <td>974</td>\n",
              "      <td>95</td>\n",
              "    </tr>\n",
              "    <tr>\n",
              "      <th>Saarland</th>\n",
              "      <td>579</td>\n",
              "      <td>146</td>\n",
              "      <td>11</td>\n",
              "      <td>10</td>\n",
              "      <td>44</td>\n",
              "      <td>68</td>\n",
              "      <td>13</td>\n",
              "      <td>25</td>\n",
              "      <td>165</td>\n",
              "      <td>19</td>\n",
              "    </tr>\n",
              "    <tr>\n",
              "      <th>Sachsen</th>\n",
              "      <td>24115</td>\n",
              "      <td>5252</td>\n",
              "      <td>113</td>\n",
              "      <td>93</td>\n",
              "      <td>1372</td>\n",
              "      <td>1685</td>\n",
              "      <td>85</td>\n",
              "      <td>1826</td>\n",
              "      <td>6809</td>\n",
              "      <td>354</td>\n",
              "    </tr>\n",
              "    <tr>\n",
              "      <th>Sachsen_Anhalt</th>\n",
              "      <td>8676</td>\n",
              "      <td>1617</td>\n",
              "      <td>40</td>\n",
              "      <td>38</td>\n",
              "      <td>246</td>\n",
              "      <td>768</td>\n",
              "      <td>27</td>\n",
              "      <td>306</td>\n",
              "      <td>1823</td>\n",
              "      <td>72</td>\n",
              "    </tr>\n",
              "    <tr>\n",
              "      <th>Schleswig_Holstein</th>\n",
              "      <td>3094</td>\n",
              "      <td>771</td>\n",
              "      <td>46</td>\n",
              "      <td>15</td>\n",
              "      <td>156</td>\n",
              "      <td>114</td>\n",
              "      <td>64</td>\n",
              "      <td>138</td>\n",
              "      <td>738</td>\n",
              "      <td>87</td>\n",
              "    </tr>\n",
              "    <tr>\n",
              "      <th>Thüringen</th>\n",
              "      <td>3776</td>\n",
              "      <td>723</td>\n",
              "      <td>26</td>\n",
              "      <td>7</td>\n",
              "      <td>177</td>\n",
              "      <td>394</td>\n",
              "      <td>4</td>\n",
              "      <td>137</td>\n",
              "      <td>872</td>\n",
              "      <td>26</td>\n",
              "    </tr>\n",
              "  </tbody>\n",
              "</table>\n",
              "</div>\n",
              "      <button class=\"colab-df-convert\" onclick=\"convertToInteractive('df-c72f1718-0627-4c20-a7df-8b5ce49cbec1')\"\n",
              "              title=\"Convert this dataframe to an interactive table.\"\n",
              "              style=\"display:none;\">\n",
              "        \n",
              "  <svg xmlns=\"http://www.w3.org/2000/svg\" height=\"24px\"viewBox=\"0 0 24 24\"\n",
              "       width=\"24px\">\n",
              "    <path d=\"M0 0h24v24H0V0z\" fill=\"none\"/>\n",
              "    <path d=\"M18.56 5.44l.94 2.06.94-2.06 2.06-.94-2.06-.94-.94-2.06-.94 2.06-2.06.94zm-11 1L8.5 8.5l.94-2.06 2.06-.94-2.06-.94L8.5 2.5l-.94 2.06-2.06.94zm10 10l.94 2.06.94-2.06 2.06-.94-2.06-.94-.94-2.06-.94 2.06-2.06.94z\"/><path d=\"M17.41 7.96l-1.37-1.37c-.4-.4-.92-.59-1.43-.59-.52 0-1.04.2-1.43.59L10.3 9.45l-7.72 7.72c-.78.78-.78 2.05 0 2.83L4 21.41c.39.39.9.59 1.41.59.51 0 1.02-.2 1.41-.59l7.78-7.78 2.81-2.81c.8-.78.8-2.07 0-2.86zM5.41 20L4 18.59l7.72-7.72 1.47 1.35L5.41 20z\"/>\n",
              "  </svg>\n",
              "      </button>\n",
              "      \n",
              "  <style>\n",
              "    .colab-df-container {\n",
              "      display:flex;\n",
              "      flex-wrap:wrap;\n",
              "      gap: 12px;\n",
              "    }\n",
              "\n",
              "    .colab-df-convert {\n",
              "      background-color: #E8F0FE;\n",
              "      border: none;\n",
              "      border-radius: 50%;\n",
              "      cursor: pointer;\n",
              "      display: none;\n",
              "      fill: #1967D2;\n",
              "      height: 32px;\n",
              "      padding: 0 0 0 0;\n",
              "      width: 32px;\n",
              "    }\n",
              "\n",
              "    .colab-df-convert:hover {\n",
              "      background-color: #E2EBFA;\n",
              "      box-shadow: 0px 1px 2px rgba(60, 64, 67, 0.3), 0px 1px 3px 1px rgba(60, 64, 67, 0.15);\n",
              "      fill: #174EA6;\n",
              "    }\n",
              "\n",
              "    [theme=dark] .colab-df-convert {\n",
              "      background-color: #3B4455;\n",
              "      fill: #D2E3FC;\n",
              "    }\n",
              "\n",
              "    [theme=dark] .colab-df-convert:hover {\n",
              "      background-color: #434B5C;\n",
              "      box-shadow: 0px 1px 3px 1px rgba(0, 0, 0, 0.15);\n",
              "      filter: drop-shadow(0px 1px 2px rgba(0, 0, 0, 0.3));\n",
              "      fill: #FFFFFF;\n",
              "    }\n",
              "  </style>\n",
              "\n",
              "      <script>\n",
              "        const buttonEl =\n",
              "          document.querySelector('#df-c72f1718-0627-4c20-a7df-8b5ce49cbec1 button.colab-df-convert');\n",
              "        buttonEl.style.display =\n",
              "          google.colab.kernel.accessAllowed ? 'block' : 'none';\n",
              "\n",
              "        async function convertToInteractive(key) {\n",
              "          const element = document.querySelector('#df-c72f1718-0627-4c20-a7df-8b5ce49cbec1');\n",
              "          const dataTable =\n",
              "            await google.colab.kernel.invokeFunction('convertToInteractive',\n",
              "                                                     [key], {});\n",
              "          if (!dataTable) return;\n",
              "\n",
              "          const docLinkHtml = 'Like what you see? Visit the ' +\n",
              "            '<a target=\"_blank\" href=https://colab.research.google.com/notebooks/data_table.ipynb>data table notebook</a>'\n",
              "            + ' to learn more about interactive tables.';\n",
              "          element.innerHTML = '';\n",
              "          dataTable['output_type'] = 'display_data';\n",
              "          await google.colab.output.renderOutput(dataTable, element);\n",
              "          const docLink = document.createElement('div');\n",
              "          docLink.innerHTML = docLinkHtml;\n",
              "          element.appendChild(docLink);\n",
              "        }\n",
              "      </script>\n",
              "    </div>\n",
              "  </div>\n",
              "  "
            ]
          },
          "metadata": {},
          "execution_count": 67
        }
      ]
    },
    {
      "cell_type": "code",
      "source": [
        "fig, ax=plt.subplots(figsize=(10,7))\n",
        "for col in regio_flatType.columns:\n",
        "  ax.bar(regio_flatType.index, regio_flatType[col], label=col)\n",
        "ax.tick_params(labelrotation=90)\n",
        "ax.set_title(\"Flat Type frequency in each region\", weight=\"bold\", fontsize=17)\n",
        "plt.legend();"
      ],
      "metadata": {
        "colab": {
          "base_uri": "https://localhost:8080/",
          "height": 572
        },
        "id": "8s-TwlI8SX4S",
        "outputId": "a1afe4a0-a155-4dee-b446-a9c9354191dc"
      },
      "execution_count": 68,
      "outputs": [
        {
          "output_type": "display_data",
          "data": {
            "text/plain": [
              "<Figure size 720x504 with 1 Axes>"
            ],
            "image/png": "[encoded data removed]"
          },
          "metadata": {
            "needs_background": "light"
          }
        }
      ]
    },
    {
      "cell_type": "code",
      "source": [
        "raw_data.dtypes"
      ],
      "metadata": {
        "colab": {
          "base_uri": "https://localhost:8080/"
        },
        "id": "hakbJuMDTGb8",
        "outputId": "217f0290-9e73-4e2a-a530-900dd09fabbe"
      },
      "execution_count": 69,
      "outputs": [
        {
          "output_type": "execute_result",
          "data": {
            "text/plain": [
              "regio1                 object\n",
              "serviceCharge         float64\n",
              "telekomTvOffer         object\n",
              "newlyConst               bool\n",
              "balcony                  bool\n",
              "picturecount            int64\n",
              "pricetrend            float64\n",
              "telekomUploadSpeed    float64\n",
              "scoutId                 int64\n",
              "hasKitchen               bool\n",
              "geo_bln                object\n",
              "cellar                   bool\n",
              "baseRent              float64\n",
              "livingSpace           float64\n",
              "geo_krs                object\n",
              "street                 object\n",
              "lift                     bool\n",
              "baseRentRange           int64\n",
              "typeOfFlat             object\n",
              "geo_plz                 int64\n",
              "noRooms               float64\n",
              "noRoomsRange            int64\n",
              "garden                   bool\n",
              "livingSpaceRange        int64\n",
              "regio2                 object\n",
              "regio3                 object\n",
              "date                   object\n",
              "dtype: object"
            ]
          },
          "metadata": {},
          "execution_count": 69
        }
      ]
    },
    {
      "cell_type": "markdown",
      "source": [
        "# Task 3: Price Modeling Based on Other Features"
      ],
      "metadata": {
        "id": "pn16kiItuDd2"
      }
    },
    {
      "cell_type": "code",
      "source": [
        "reg_data=raw_data\n",
        "reg_data.drop(\"street\", axis=1, inplace=True)\n",
        "boolean_feature=reg_data.select_dtypes(include=['bool']).columns\n",
        "categorical_feature=reg_data.select_dtypes(include=['object']).columns\n",
        "float_feature=reg_data.select_dtypes(include=['float64']).columns\n",
        "int_feature=reg_data.select_dtypes(include=['int64']).columns"
      ],
      "metadata": {
        "id": "75akVs8NT_OP"
      },
      "execution_count": 70,
      "outputs": []
    },
    {
      "cell_type": "code",
      "source": [
        "s_time=time.time()\n",
        "for ct_ft in categorical_feature:\n",
        "  reg_data =pd.concat([reg_data, pd.get_dummies(reg_data[ct_ft], prefix=ct_ft)], axis=1)\n",
        "  reg_data.drop(ct_ft, axis=1, inplace=True)\n",
        "pre_processing_time=time.time()-s_time"
      ],
      "metadata": {
        "id": "bIhIxj4LWlQl"
      },
      "execution_count": 33,
      "outputs": []
    },
    {
      "cell_type": "code",
      "source": [
        "for bl_ft in boolean_feature:\n",
        "  reg_data[bl_ft]=reg_data[bl_ft].astype(int)\n"
      ],
      "metadata": {
        "id": "uFycpAhDeWY9"
      },
      "execution_count": 34,
      "outputs": []
    },
    {
      "cell_type": "code",
      "source": [
        "# Importing Spliting library\n",
        "from sklearn.model_selection import train_test_split"
      ],
      "metadata": {
        "id": "Bi4C3nHkY3n8"
      },
      "execution_count": 35,
      "outputs": []
    },
    {
      "cell_type": "code",
      "source": [
        "#Defining X and y\n",
        "X=reg_data.drop(\"serviceCharge\", axis=1)\n",
        "y=reg_data[\"serviceCharge\"]"
      ],
      "metadata": {
        "id": "ZXfjpp3jffKt"
      },
      "execution_count": 36,
      "outputs": []
    },
    {
      "cell_type": "code",
      "source": [
        "#Spliting Data\n",
        "X_train, X_test, y_train, y_test=train_test_split(X, y, test_size=0.2)"
      ],
      "metadata": {
        "id": "iwCt2TjbalAR"
      },
      "execution_count": 37,
      "outputs": []
    },
    {
      "cell_type": "code",
      "source": [
        "reg_data.dtypes"
      ],
      "metadata": {
        "colab": {
          "base_uri": "https://localhost:8080/"
        },
        "id": "Dpgg6u73a44A",
        "outputId": "c0e61127-3669-4a54-967b-0d898fb862d4"
      },
      "execution_count": 38,
      "outputs": [
        {
          "output_type": "execute_result",
          "data": {
            "text/plain": [
              "serviceCharge    float64\n",
              "newlyConst         int64\n",
              "balcony            int64\n",
              "picturecount       int64\n",
              "pricetrend       float64\n",
              "                  ...   \n",
              "regio3_Ürzig       uint8\n",
              "date_Feb20         uint8\n",
              "date_May19         uint8\n",
              "date_Oct19         uint8\n",
              "date_Sep18         uint8\n",
              "Length: 8926, dtype: object"
            ]
          },
          "metadata": {},
          "execution_count": 38
        }
      ]
    },
    {
      "cell_type": "code",
      "source": [
        "from sklearn.ensemble import RandomForestRegressor"
      ],
      "metadata": {
        "id": "KB0xxeP6e98w"
      },
      "execution_count": 1,
      "outputs": []
    },
    {
      "cell_type": "code",
      "source": [
        "reg_model= RandomForestRegressor()\n",
        "reg_model.fit(X_train, y_train)\n",
        "y_pred_rgm=reg_model.predict(X_test)\n",
        "r2_score(y_pred_rgm, y_test)"
      ],
      "metadata": {
        "id": "dYL9RcDnaxwM"
      },
      "execution_count": null,
      "outputs": []
    },
    {
      "cell_type": "markdown",
      "source": [
        "# Bonus Task 1: Feature Engineering"
      ],
      "metadata": {
        "id": "pY0cVoMtuwfi"
      }
    },
    {
      "cell_type": "code",
      "source": [
        "reg_data_numerical=pd.DataFrame()\n",
        "for ft in float_feature:\n",
        "  reg_data_numerical[ft] =reg_data[ft]\n",
        "for ft in int_feature:\n",
        "  reg_data_numerical[ft] =reg_data[ft]"
      ],
      "metadata": {
        "id": "nI9ouZuahvK3"
      },
      "execution_count": 98,
      "outputs": []
    },
    {
      "cell_type": "code",
      "source": [
        "# Drawing corrolation matrix\n",
        "corr_mat=reg_data_numerical.corr()\n",
        "plt.figure(figsize=(20,10))\n",
        "sns.heatmap(corr_mat, annot=True)\n",
        "plt.show()"
      ],
      "metadata": {
        "colab": {
          "base_uri": "https://localhost:8080/",
          "height": 674
        },
        "id": "hM8hx7FRhom_",
        "outputId": "bb97e56e-04dd-4cf9-9f4c-1c594fb7c52c"
      },
      "execution_count": 99,
      "outputs": [
        {
          "output_type": "display_data",
          "data": {
            "text/plain": [
              "<Figure size 1440x720 with 2 Axes>"
            ],
            "image/png": "[encoded data removed]"
          },
          "metadata": {
            "needs_background": "light"
          }
        }
      ]
    },
    {
      "cell_type": "code",
      "source": [
        "X=reg_data_numerical.drop(\"serviceCharge\", axis=1)\n",
        "y=reg_data_numerical[\"serviceCharge\"]"
      ],
      "metadata": {
        "id": "DGwpglCha-_2"
      },
      "execution_count": 93,
      "outputs": []
    },
    {
      "cell_type": "code",
      "source": [
        "X_train, X_test, y_train, y_test=train_test_split(X, y, test_size=0.2)"
      ],
      "metadata": {
        "id": "15fJXxY2pWNj"
      },
      "execution_count": 94,
      "outputs": []
    },
    {
      "cell_type": "code",
      "source": [
        "reg_model_dist=RandomForestRegressor(max_depth=10, random_state=1)\n",
        "reg_model_dist.fit(X_train, y_train)\n",
        "y_pred_rgm_dist=reg_model_dist.predict(X_test)\n"
      ],
      "metadata": {
        "colab": {
          "base_uri": "https://localhost:8080/",
          "height": 208
        },
        "id": "nkBOAYSupdPE",
        "outputId": "6e1d2abf-5f98-4afb-b2a4-0b0bc2764312"
      },
      "execution_count": 79,
      "outputs": [
        {
          "output_type": "error",
          "ename": "NameError",
          "evalue": "ignored",
          "traceback": [
            "\u001b[0;31m---------------------------------------------------------------------------\u001b[0m",
            "\u001b[0;31mNameError\u001b[0m                                 Traceback (most recent call last)",
            "\u001b[0;32m<ipython-input-79-8fed35038584>\u001b[0m in \u001b[0;36m<module>\u001b[0;34m()\u001b[0m\n\u001b[1;32m      2\u001b[0m \u001b[0mreg_model_dist\u001b[0m\u001b[0;34m.\u001b[0m\u001b[0mfit\u001b[0m\u001b[0;34m(\u001b[0m\u001b[0mX_train\u001b[0m\u001b[0;34m,\u001b[0m \u001b[0my_train\u001b[0m\u001b[0;34m)\u001b[0m\u001b[0;34m\u001b[0m\u001b[0;34m\u001b[0m\u001b[0m\n\u001b[1;32m      3\u001b[0m \u001b[0my_pred_rgm_dist\u001b[0m\u001b[0;34m=\u001b[0m\u001b[0mreg_model_dist\u001b[0m\u001b[0;34m.\u001b[0m\u001b[0mpredict\u001b[0m\u001b[0;34m(\u001b[0m\u001b[0mX_test\u001b[0m\u001b[0;34m)\u001b[0m\u001b[0;34m\u001b[0m\u001b[0;34m\u001b[0m\u001b[0m\n\u001b[0;32m----> 4\u001b[0;31m \u001b[0mr2_score\u001b[0m\u001b[0;34m(\u001b[0m\u001b[0my_test\u001b[0m\u001b[0;34m,\u001b[0m \u001b[0my_pred_rgm_dist\u001b[0m\u001b[0;34m)\u001b[0m\u001b[0;34m\u001b[0m\u001b[0;34m\u001b[0m\u001b[0m\n\u001b[0m",
            "\u001b[0;31mNameError\u001b[0m: name 'r2_score' is not defined"
          ]
        }
      ]
    },
    {
      "cell_type": "code",
      "source": [
        "mean_squared_error(y_test, y_pred_rgm_dist)"
      ],
      "metadata": {
        "colab": {
          "base_uri": "https://localhost:8080/"
        },
        "id": "qbDxvViwpjK5",
        "outputId": "9fd7afad-c602-4c21-974f-d494799b96fb"
      },
      "execution_count": 83,
      "outputs": [
        {
          "output_type": "execute_result",
          "data": {
            "text/plain": [
              "2725.6516653732424"
            ]
          },
          "metadata": {},
          "execution_count": 83
        }
      ]
    },
    {
      "cell_type": "code",
      "source": [
        "reg_data_notcorrlated=reg_data_numerical.drop(columns={\"livingSpaceRange\"}, axis=1)"
      ],
      "metadata": {
        "id": "a8RfRuUXqEYI"
      },
      "execution_count": 100,
      "outputs": []
    },
    {
      "cell_type": "code",
      "source": [
        "X=reg_data_notcorrlated.drop(\"serviceCharge\", axis=1)\n",
        "y=reg_data_notcorrlated[\"serviceCharge\"]\n",
        "X_train, X_test, y_train, y_test=train_test_split(X, y, test_size=0.2)\n",
        "reg_model_dist=RandomForestRegressor(max_depth=10, random_state=1)\n",
        "reg_model_dist.fit(X_train, y_train)\n",
        "y_pred_rgm_dist=reg_model_dist.predict(X_test)\n",
        "mean_squared_error(y_test, y_pred_rgm_dist)"
      ],
      "metadata": {
        "colab": {
          "base_uri": "https://localhost:8080/"
        },
        "id": "0dkK_hXurYIh",
        "outputId": "c86c4634-d94e-4ee8-881f-1ed299ac9fca"
      },
      "execution_count": 101,
      "outputs": [
        {
          "output_type": "execute_result",
          "data": {
            "text/plain": [
              "2848.921124108785"
            ]
          },
          "metadata": {},
          "execution_count": 101
        }
      ]
    },
    {
      "cell_type": "code",
      "source": [
        ""
      ],
      "metadata": {
        "id": "QtnUmUOJs-83"
      },
      "execution_count": null,
      "outputs": []
    }
  ]
}