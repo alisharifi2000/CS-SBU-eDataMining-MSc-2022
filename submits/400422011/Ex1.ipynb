{
  "cells": [
    {
      "cell_type": "code",
      "execution_count": null,
      "metadata": {},
      "outputs": [],
      "source": [
        "import json\n",
        "import pandas as pd\n",
        "\n",
        "# فایل ورودی را از آدرس مشخصی میخوانیم\n",
        "with open('service1/input.json') as file:\n",
        "    data = json.load(file)\n",
        "\n",
        "#فایل خوانده شده را از حالت جیسون خارج می‌کنیم و فرمت ورودی تاریخ را درست میکنیم\n",
        "def read_json_time_series(dict_data):\n",
        "    j_data = json.dumps(dict_data)\n",
        "    data = pd.read_json(j_data)\n",
        "    data.time = pd.to_datetime(data.time, unit='ms')\n",
        "    return data\n",
        "#داده‌ی خوانده شده چند بخش دارد. این بخش‌ها را از هم جدا می‌کنیم.\n",
        "df = read_json_time_series(data['data'])\n",
        "config = data['config']\n",
        "\n",
        "#یک تابه تعریف میکنیم تا براساس ماهیت ورودی بتوانیم درون‌یابی را انجام دهیم\n",
        "def linear_interpolation(data, config):\n",
        "    if config['time'] == 'daily':\n",
        "        data = data.set_index('time')\n",
        "        data = data.resample('D')\n",
        "        data = data.interpolate(method=config['interpolation'])\n",
        "        data.reset_index(inplace=True)\n",
        "\n",
        "    elif config['time'] == 'monthly':\n",
        "        data = data.set_index('time')\n",
        "        data = data.resample('M')\n",
        "        data = data.interpolate(method=config['interpolation'])\n",
        "        data.reset_index(inplace=True)\n",
        "\n",
        "    else:\n",
        "        data = None\n",
        "\n",
        "    return data\n",
        "\n",
        "# با استفاده از تابعی که بالا تعریف کردیم با دادن ورودی و کانفیگ، داده‌های میس شده را درون یابی می‌کنیم و سپس به جیسون تبدیل می‌کنیم\n",
        "result = linear_interpolation(df, config)\n",
        "result = result.to_json()\n",
        "\n",
        "#داده‌ی جیسون شده را در همان آدرس به صورت فایل ذخیره می‌کنیم\n",
        "with open('service1/output.json', \"w\") as outfile:\n",
        "    outfile.write(result)"
      ]
    }
  ],
  "metadata": {
    "kernelspec": {
      "display_name": "Pyolite",
      "language": "python",
      "name": "python"
    },
    "language_info": {
      "codemirror_mode": {
        "name": "python",
        "version": 3
      },
      "file_extension": ".py",
      "mimetype": "text/x-python",
      "name": "python",
      "nbconvert_exporter": "python",
      "pygments_lexer": "ipython3",
      "version": "3.8"
    }
  },
  "nbformat": 4,
  "nbformat_minor": 4
}
