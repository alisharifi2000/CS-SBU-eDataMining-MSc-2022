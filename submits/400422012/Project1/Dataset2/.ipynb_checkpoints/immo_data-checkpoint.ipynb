{
 "cells": [
  {
   "cell_type": "code",
   "execution_count": 1,
   "metadata": {
    "colab": {
     "base_uri": "https://localhost:8080/"
    },
    "id": "M4crteR1aQZg",
    "outputId": "8645812a-2e86-4553-c503-84fdb0ad24bf"
   },
   "outputs": [
    {
     "name": "stdout",
     "output_type": "stream",
     "text": [
      "Mounted at /gdrive\n"
     ]
    }
   ],
   "source": [
    "from google.colab import drive\n",
    "drive.mount('/gdrive')"
   ]
  },
  {
   "cell_type": "code",
   "execution_count": 2,
   "metadata": {
    "colab": {
     "base_uri": "https://localhost:8080/"
    },
    "id": "R8QpyFOyaXmD",
    "outputId": "a5470a36-9037-4697-8594-2432d6ea0207"
   },
   "outputs": [
    {
     "name": "stdout",
     "output_type": "stream",
     "text": [
      "immo_data.csv\n"
     ]
    }
   ],
   "source": [
    "! ls '/gdrive/MyDrive/Data-Mining/immo'"
   ]
  },
  {
   "cell_type": "code",
   "execution_count": 3,
   "metadata": {
    "id": "Ha-aZMc7a80u"
   },
   "outputs": [],
   "source": [
    "import pandas as pd\n",
    "import numpy as np\n",
    "import matplotlib.pyplot as plt\n",
    "import seaborn as sns"
   ]
  },
  {
   "cell_type": "markdown",
   "metadata": {
    "id": "lK_Z40gNbHZZ"
   },
   "source": [
    "## Preview data"
   ]
  },
  {
   "cell_type": "code",
   "execution_count": 4,
   "metadata": {
    "id": "ECY15PhEbECW"
   },
   "outputs": [],
   "source": [
    "#load and preview data\n",
    "root = '/gdrive/MyDrive/Data-Mining/immo/'\n",
    "immo= pd.read_csv(root + \"immo_data.csv\")"
   ]
  },
  {
   "cell_type": "code",
   "execution_count": 5,
   "metadata": {
    "colab": {
     "base_uri": "https://localhost:8080/",
     "height": 456
    },
    "id": "29LKN9-ibLiT",
    "outputId": "12a62d3c-beb8-4de5-e880-2ed932a88541"
   },
   "outputs": [
    {
     "data": {
      "text/html": [
       "\n",
       "  <div id=\"df-68bf5bbe-b8f6-4f99-ab95-b1ff66535910\">\n",
       "    <div class=\"colab-df-container\">\n",
       "      <div>\n",
       "<style scoped>\n",
       "    .dataframe tbody tr th:only-of-type {\n",
       "        vertical-align: middle;\n",
       "    }\n",
       "\n",
       "    .dataframe tbody tr th {\n",
       "        vertical-align: top;\n",
       "    }\n",
       "\n",
       "    .dataframe thead th {\n",
       "        text-align: right;\n",
       "    }\n",
       "</style>\n",
       "<table border=\"1\" class=\"dataframe\">\n",
       "  <thead>\n",
       "    <tr style=\"text-align: right;\">\n",
       "      <th></th>\n",
       "      <th>regio1</th>\n",
       "      <th>serviceCharge</th>\n",
       "      <th>heatingType</th>\n",
       "      <th>telekomTvOffer</th>\n",
       "      <th>telekomHybridUploadSpeed</th>\n",
       "      <th>newlyConst</th>\n",
       "      <th>balcony</th>\n",
       "      <th>picturecount</th>\n",
       "      <th>pricetrend</th>\n",
       "      <th>telekomUploadSpeed</th>\n",
       "      <th>...</th>\n",
       "      <th>regio2</th>\n",
       "      <th>regio3</th>\n",
       "      <th>description</th>\n",
       "      <th>facilities</th>\n",
       "      <th>heatingCosts</th>\n",
       "      <th>energyEfficiencyClass</th>\n",
       "      <th>lastRefurbish</th>\n",
       "      <th>electricityBasePrice</th>\n",
       "      <th>electricityKwhPrice</th>\n",
       "      <th>date</th>\n",
       "    </tr>\n",
       "  </thead>\n",
       "  <tbody>\n",
       "    <tr>\n",
       "      <th>158625</th>\n",
       "      <td>Nordrhein_Westfalen</td>\n",
       "      <td>105.00</td>\n",
       "      <td>central_heating</td>\n",
       "      <td>ONE_YEAR_FREE</td>\n",
       "      <td>NaN</td>\n",
       "      <td>False</td>\n",
       "      <td>True</td>\n",
       "      <td>7</td>\n",
       "      <td>2.87</td>\n",
       "      <td>40.0</td>\n",
       "      <td>...</td>\n",
       "      <td>Recklinghausen_Kreis</td>\n",
       "      <td>Herten</td>\n",
       "      <td>Sie suchen eine schöne Wohnung in Herten? Dann...</td>\n",
       "      <td>Kabelanschluss; Gartennutzung; Türsprechanlage...</td>\n",
       "      <td>63.00</td>\n",
       "      <td>NaN</td>\n",
       "      <td>NaN</td>\n",
       "      <td>NaN</td>\n",
       "      <td>NaN</td>\n",
       "      <td>Oct19</td>\n",
       "    </tr>\n",
       "    <tr>\n",
       "      <th>19295</th>\n",
       "      <td>Sachsen</td>\n",
       "      <td>90.05</td>\n",
       "      <td>central_heating</td>\n",
       "      <td>ONE_YEAR_FREE</td>\n",
       "      <td>NaN</td>\n",
       "      <td>False</td>\n",
       "      <td>True</td>\n",
       "      <td>2</td>\n",
       "      <td>3.85</td>\n",
       "      <td>40.0</td>\n",
       "      <td>...</td>\n",
       "      <td>Leipzig</td>\n",
       "      <td>Paunsdorf</td>\n",
       "      <td>In Paunsdorf ist alles ganz nah. Wohnen, Shopp...</td>\n",
       "      <td>NaN</td>\n",
       "      <td>83.12</td>\n",
       "      <td>NaN</td>\n",
       "      <td>NaN</td>\n",
       "      <td>90.76</td>\n",
       "      <td>0.2055</td>\n",
       "      <td>Sep18</td>\n",
       "    </tr>\n",
       "    <tr>\n",
       "      <th>137409</th>\n",
       "      <td>Nordrhein_Westfalen</td>\n",
       "      <td>95.00</td>\n",
       "      <td>central_heating</td>\n",
       "      <td>ONE_YEAR_FREE</td>\n",
       "      <td>NaN</td>\n",
       "      <td>False</td>\n",
       "      <td>False</td>\n",
       "      <td>10</td>\n",
       "      <td>3.49</td>\n",
       "      <td>40.0</td>\n",
       "      <td>...</td>\n",
       "      <td>Aachen</td>\n",
       "      <td>Marschiertor</td>\n",
       "      <td>Diese Wohnung ist perfekt für Studenten und Si...</td>\n",
       "      <td>Die Wohnung ist renoviert.\\nIn der Küche sind ...</td>\n",
       "      <td>NaN</td>\n",
       "      <td>NaN</td>\n",
       "      <td>NaN</td>\n",
       "      <td>NaN</td>\n",
       "      <td>NaN</td>\n",
       "      <td>May19</td>\n",
       "    </tr>\n",
       "    <tr>\n",
       "      <th>166031</th>\n",
       "      <td>Bayern</td>\n",
       "      <td>150.00</td>\n",
       "      <td>central_heating</td>\n",
       "      <td>ONE_YEAR_FREE</td>\n",
       "      <td>NaN</td>\n",
       "      <td>False</td>\n",
       "      <td>True</td>\n",
       "      <td>12</td>\n",
       "      <td>3.59</td>\n",
       "      <td>40.0</td>\n",
       "      <td>...</td>\n",
       "      <td>Pfaffenhofen_an_der_Ilm_Kreis</td>\n",
       "      <td>Reichertshofen</td>\n",
       "      <td>Sonnige, gemütliche Dachgeschosswohnung in Lan...</td>\n",
       "      <td>Weiße freundliche Fliesen in Diele, Küche,Bad ...</td>\n",
       "      <td>NaN</td>\n",
       "      <td>NaN</td>\n",
       "      <td>NaN</td>\n",
       "      <td>NaN</td>\n",
       "      <td>NaN</td>\n",
       "      <td>Oct19</td>\n",
       "    </tr>\n",
       "    <tr>\n",
       "      <th>152884</th>\n",
       "      <td>Niedersachsen</td>\n",
       "      <td>143.00</td>\n",
       "      <td>central_heating</td>\n",
       "      <td>NaN</td>\n",
       "      <td>NaN</td>\n",
       "      <td>True</td>\n",
       "      <td>False</td>\n",
       "      <td>8</td>\n",
       "      <td>3.61</td>\n",
       "      <td>NaN</td>\n",
       "      <td>...</td>\n",
       "      <td>Hannover</td>\n",
       "      <td>Calenberger_Neustadt</td>\n",
       "      <td>VORMERKUNG FÜR BESICHTIGUNGSTERMIN\\nMit dem un...</td>\n",
       "      <td>WE 116</td>\n",
       "      <td>0.00</td>\n",
       "      <td>NaN</td>\n",
       "      <td>NaN</td>\n",
       "      <td>NaN</td>\n",
       "      <td>NaN</td>\n",
       "      <td>Feb20</td>\n",
       "    </tr>\n",
       "  </tbody>\n",
       "</table>\n",
       "<p>5 rows × 49 columns</p>\n",
       "</div>\n",
       "      <button class=\"colab-df-convert\" onclick=\"convertToInteractive('df-68bf5bbe-b8f6-4f99-ab95-b1ff66535910')\"\n",
       "              title=\"Convert this dataframe to an interactive table.\"\n",
       "              style=\"display:none;\">\n",
       "        \n",
       "  <svg xmlns=\"http://www.w3.org/2000/svg\" height=\"24px\"viewBox=\"0 0 24 24\"\n",
       "       width=\"24px\">\n",
       "    <path d=\"M0 0h24v24H0V0z\" fill=\"none\"/>\n",
       "    <path d=\"M18.56 5.44l.94 2.06.94-2.06 2.06-.94-2.06-.94-.94-2.06-.94 2.06-2.06.94zm-11 1L8.5 8.5l.94-2.06 2.06-.94-2.06-.94L8.5 2.5l-.94 2.06-2.06.94zm10 10l.94 2.06.94-2.06 2.06-.94-2.06-.94-.94-2.06-.94 2.06-2.06.94z\"/><path d=\"M17.41 7.96l-1.37-1.37c-.4-.4-.92-.59-1.43-.59-.52 0-1.04.2-1.43.59L10.3 9.45l-7.72 7.72c-.78.78-.78 2.05 0 2.83L4 21.41c.39.39.9.59 1.41.59.51 0 1.02-.2 1.41-.59l7.78-7.78 2.81-2.81c.8-.78.8-2.07 0-2.86zM5.41 20L4 18.59l7.72-7.72 1.47 1.35L5.41 20z\"/>\n",
       "  </svg>\n",
       "      </button>\n",
       "      \n",
       "  <style>\n",
       "    .colab-df-container {\n",
       "      display:flex;\n",
       "      flex-wrap:wrap;\n",
       "      gap: 12px;\n",
       "    }\n",
       "\n",
       "    .colab-df-convert {\n",
       "      background-color: #E8F0FE;\n",
       "      border: none;\n",
       "      border-radius: 50%;\n",
       "      cursor: pointer;\n",
       "      display: none;\n",
       "      fill: #1967D2;\n",
       "      height: 32px;\n",
       "      padding: 0 0 0 0;\n",
       "      width: 32px;\n",
       "    }\n",
       "\n",
       "    .colab-df-convert:hover {\n",
       "      background-color: #E2EBFA;\n",
       "      box-shadow: 0px 1px 2px rgba(60, 64, 67, 0.3), 0px 1px 3px 1px rgba(60, 64, 67, 0.15);\n",
       "      fill: #174EA6;\n",
       "    }\n",
       "\n",
       "    [theme=dark] .colab-df-convert {\n",
       "      background-color: #3B4455;\n",
       "      fill: #D2E3FC;\n",
       "    }\n",
       "\n",
       "    [theme=dark] .colab-df-convert:hover {\n",
       "      background-color: #434B5C;\n",
       "      box-shadow: 0px 1px 3px 1px rgba(0, 0, 0, 0.15);\n",
       "      filter: drop-shadow(0px 1px 2px rgba(0, 0, 0, 0.3));\n",
       "      fill: #FFFFFF;\n",
       "    }\n",
       "  </style>\n",
       "\n",
       "      <script>\n",
       "        const buttonEl =\n",
       "          document.querySelector('#df-68bf5bbe-b8f6-4f99-ab95-b1ff66535910 button.colab-df-convert');\n",
       "        buttonEl.style.display =\n",
       "          google.colab.kernel.accessAllowed ? 'block' : 'none';\n",
       "\n",
       "        async function convertToInteractive(key) {\n",
       "          const element = document.querySelector('#df-68bf5bbe-b8f6-4f99-ab95-b1ff66535910');\n",
       "          const dataTable =\n",
       "            await google.colab.kernel.invokeFunction('convertToInteractive',\n",
       "                                                     [key], {});\n",
       "          if (!dataTable) return;\n",
       "\n",
       "          const docLinkHtml = 'Like what you see? Visit the ' +\n",
       "            '<a target=\"_blank\" href=https://colab.research.google.com/notebooks/data_table.ipynb>data table notebook</a>'\n",
       "            + ' to learn more about interactive tables.';\n",
       "          element.innerHTML = '';\n",
       "          dataTable['output_type'] = 'display_data';\n",
       "          await google.colab.output.renderOutput(dataTable, element);\n",
       "          const docLink = document.createElement('div');\n",
       "          docLink.innerHTML = docLinkHtml;\n",
       "          element.appendChild(docLink);\n",
       "        }\n",
       "      </script>\n",
       "    </div>\n",
       "  </div>\n",
       "  "
      ],
      "text/plain": [
       "                     regio1  serviceCharge      heatingType telekomTvOffer  \\\n",
       "158625  Nordrhein_Westfalen         105.00  central_heating  ONE_YEAR_FREE   \n",
       "19295               Sachsen          90.05  central_heating  ONE_YEAR_FREE   \n",
       "137409  Nordrhein_Westfalen          95.00  central_heating  ONE_YEAR_FREE   \n",
       "166031               Bayern         150.00  central_heating  ONE_YEAR_FREE   \n",
       "152884        Niedersachsen         143.00  central_heating            NaN   \n",
       "\n",
       "        telekomHybridUploadSpeed  newlyConst  balcony  picturecount  \\\n",
       "158625                       NaN       False     True             7   \n",
       "19295                        NaN       False     True             2   \n",
       "137409                       NaN       False    False            10   \n",
       "166031                       NaN       False     True            12   \n",
       "152884                       NaN        True    False             8   \n",
       "\n",
       "        pricetrend  telekomUploadSpeed  ...                         regio2  \\\n",
       "158625        2.87                40.0  ...           Recklinghausen_Kreis   \n",
       "19295         3.85                40.0  ...                        Leipzig   \n",
       "137409        3.49                40.0  ...                         Aachen   \n",
       "166031        3.59                40.0  ...  Pfaffenhofen_an_der_Ilm_Kreis   \n",
       "152884        3.61                 NaN  ...                       Hannover   \n",
       "\n",
       "                      regio3  \\\n",
       "158625                Herten   \n",
       "19295              Paunsdorf   \n",
       "137409          Marschiertor   \n",
       "166031        Reichertshofen   \n",
       "152884  Calenberger_Neustadt   \n",
       "\n",
       "                                              description  \\\n",
       "158625  Sie suchen eine schöne Wohnung in Herten? Dann...   \n",
       "19295   In Paunsdorf ist alles ganz nah. Wohnen, Shopp...   \n",
       "137409  Diese Wohnung ist perfekt für Studenten und Si...   \n",
       "166031  Sonnige, gemütliche Dachgeschosswohnung in Lan...   \n",
       "152884  VORMERKUNG FÜR BESICHTIGUNGSTERMIN\\nMit dem un...   \n",
       "\n",
       "                                               facilities heatingCosts  \\\n",
       "158625  Kabelanschluss; Gartennutzung; Türsprechanlage...        63.00   \n",
       "19295                                                 NaN        83.12   \n",
       "137409  Die Wohnung ist renoviert.\\nIn der Küche sind ...          NaN   \n",
       "166031  Weiße freundliche Fliesen in Diele, Küche,Bad ...          NaN   \n",
       "152884                                             WE 116         0.00   \n",
       "\n",
       "        energyEfficiencyClass lastRefurbish  electricityBasePrice  \\\n",
       "158625                    NaN           NaN                   NaN   \n",
       "19295                     NaN           NaN                 90.76   \n",
       "137409                    NaN           NaN                   NaN   \n",
       "166031                    NaN           NaN                   NaN   \n",
       "152884                    NaN           NaN                   NaN   \n",
       "\n",
       "        electricityKwhPrice   date  \n",
       "158625                  NaN  Oct19  \n",
       "19295                0.2055  Sep18  \n",
       "137409                  NaN  May19  \n",
       "166031                  NaN  Oct19  \n",
       "152884                  NaN  Feb20  \n",
       "\n",
       "[5 rows x 49 columns]"
      ]
     },
     "execution_count": 5,
     "metadata": {},
     "output_type": "execute_result"
    }
   ],
   "source": [
    "immo.sample(5)"
   ]
  },
  {
   "cell_type": "code",
   "execution_count": 6,
   "metadata": {
    "colab": {
     "base_uri": "https://localhost:8080/"
    },
    "id": "mKvtrZM7bYOD",
    "outputId": "1d6dbd90-b177-408d-d9c8-9a105e074ebd"
   },
   "outputs": [
    {
     "data": {
      "text/plain": [
       "(268850, 49)"
      ]
     },
     "execution_count": 6,
     "metadata": {},
     "output_type": "execute_result"
    }
   ],
   "source": [
    "immo.shape"
   ]
  },
  {
   "cell_type": "code",
   "execution_count": 7,
   "metadata": {
    "colab": {
     "base_uri": "https://localhost:8080/",
     "height": 393
    },
    "id": "RqA24ge0bhBF",
    "outputId": "efdae760-1333-406e-de86-6a2dbb7574a3"
   },
   "outputs": [
    {
     "data": {
      "text/html": [
       "\n",
       "  <div id=\"df-370bee54-24a0-4488-b924-b9fd77852802\">\n",
       "    <div class=\"colab-df-container\">\n",
       "      <div>\n",
       "<style scoped>\n",
       "    .dataframe tbody tr th:only-of-type {\n",
       "        vertical-align: middle;\n",
       "    }\n",
       "\n",
       "    .dataframe tbody tr th {\n",
       "        vertical-align: top;\n",
       "    }\n",
       "\n",
       "    .dataframe thead th {\n",
       "        text-align: right;\n",
       "    }\n",
       "</style>\n",
       "<table border=\"1\" class=\"dataframe\">\n",
       "  <thead>\n",
       "    <tr style=\"text-align: right;\">\n",
       "      <th></th>\n",
       "      <th>serviceCharge</th>\n",
       "      <th>telekomHybridUploadSpeed</th>\n",
       "      <th>picturecount</th>\n",
       "      <th>pricetrend</th>\n",
       "      <th>telekomUploadSpeed</th>\n",
       "      <th>totalRent</th>\n",
       "      <th>yearConstructed</th>\n",
       "      <th>scoutId</th>\n",
       "      <th>noParkSpaces</th>\n",
       "      <th>yearConstructedRange</th>\n",
       "      <th>...</th>\n",
       "      <th>noRooms</th>\n",
       "      <th>thermalChar</th>\n",
       "      <th>floor</th>\n",
       "      <th>numberOfFloors</th>\n",
       "      <th>noRoomsRange</th>\n",
       "      <th>livingSpaceRange</th>\n",
       "      <th>heatingCosts</th>\n",
       "      <th>lastRefurbish</th>\n",
       "      <th>electricityBasePrice</th>\n",
       "      <th>electricityKwhPrice</th>\n",
       "    </tr>\n",
       "  </thead>\n",
       "  <tbody>\n",
       "    <tr>\n",
       "      <th>count</th>\n",
       "      <td>261941.000000</td>\n",
       "      <td>45020.0</td>\n",
       "      <td>268850.000000</td>\n",
       "      <td>267018.000000</td>\n",
       "      <td>235492.000000</td>\n",
       "      <td>2.283330e+05</td>\n",
       "      <td>211805.000000</td>\n",
       "      <td>2.688500e+05</td>\n",
       "      <td>93052.000000</td>\n",
       "      <td>211805.000000</td>\n",
       "      <td>...</td>\n",
       "      <td>268850.000000</td>\n",
       "      <td>162344.000000</td>\n",
       "      <td>217541.000000</td>\n",
       "      <td>171118.000000</td>\n",
       "      <td>268850.000000</td>\n",
       "      <td>268850.000000</td>\n",
       "      <td>85518.000000</td>\n",
       "      <td>80711.000000</td>\n",
       "      <td>46846.000000</td>\n",
       "      <td>46846.000000</td>\n",
       "    </tr>\n",
       "    <tr>\n",
       "      <th>mean</th>\n",
       "      <td>151.206113</td>\n",
       "      <td>10.0</td>\n",
       "      <td>9.791958</td>\n",
       "      <td>3.389001</td>\n",
       "      <td>28.804928</td>\n",
       "      <td>9.013315e+02</td>\n",
       "      <td>1966.400590</td>\n",
       "      <td>1.069697e+08</td>\n",
       "      <td>1.327634</td>\n",
       "      <td>3.714544</td>\n",
       "      <td>...</td>\n",
       "      <td>2.641261</td>\n",
       "      <td>114.749533</td>\n",
       "      <td>2.122405</td>\n",
       "      <td>3.572319</td>\n",
       "      <td>2.571542</td>\n",
       "      <td>3.070790</td>\n",
       "      <td>76.990866</td>\n",
       "      <td>2013.904536</td>\n",
       "      <td>89.113612</td>\n",
       "      <td>0.199769</td>\n",
       "    </tr>\n",
       "    <tr>\n",
       "      <th>std</th>\n",
       "      <td>308.295790</td>\n",
       "      <td>0.0</td>\n",
       "      <td>6.408399</td>\n",
       "      <td>1.964874</td>\n",
       "      <td>16.337151</td>\n",
       "      <td>3.323833e+04</td>\n",
       "      <td>46.992207</td>\n",
       "      <td>1.250093e+07</td>\n",
       "      <td>8.361403</td>\n",
       "      <td>2.738134</td>\n",
       "      <td>...</td>\n",
       "      <td>2.633440</td>\n",
       "      <td>61.653663</td>\n",
       "      <td>3.634934</td>\n",
       "      <td>6.375496</td>\n",
       "      <td>0.937594</td>\n",
       "      <td>1.407127</td>\n",
       "      <td>147.716278</td>\n",
       "      <td>10.963125</td>\n",
       "      <td>5.395805</td>\n",
       "      <td>0.009667</td>\n",
       "    </tr>\n",
       "    <tr>\n",
       "      <th>min</th>\n",
       "      <td>0.000000</td>\n",
       "      <td>10.0</td>\n",
       "      <td>0.000000</td>\n",
       "      <td>-12.330000</td>\n",
       "      <td>1.000000</td>\n",
       "      <td>0.000000e+00</td>\n",
       "      <td>1000.000000</td>\n",
       "      <td>2.887174e+07</td>\n",
       "      <td>0.000000</td>\n",
       "      <td>1.000000</td>\n",
       "      <td>...</td>\n",
       "      <td>1.000000</td>\n",
       "      <td>0.100000</td>\n",
       "      <td>-1.000000</td>\n",
       "      <td>0.000000</td>\n",
       "      <td>1.000000</td>\n",
       "      <td>1.000000</td>\n",
       "      <td>0.000000</td>\n",
       "      <td>1015.000000</td>\n",
       "      <td>71.430000</td>\n",
       "      <td>0.170500</td>\n",
       "    </tr>\n",
       "    <tr>\n",
       "      <th>25%</th>\n",
       "      <td>95.000000</td>\n",
       "      <td>10.0</td>\n",
       "      <td>6.000000</td>\n",
       "      <td>2.000000</td>\n",
       "      <td>10.000000</td>\n",
       "      <td>4.698000e+02</td>\n",
       "      <td>1950.000000</td>\n",
       "      <td>1.066910e+08</td>\n",
       "      <td>1.000000</td>\n",
       "      <td>1.000000</td>\n",
       "      <td>...</td>\n",
       "      <td>2.000000</td>\n",
       "      <td>79.000000</td>\n",
       "      <td>1.000000</td>\n",
       "      <td>2.000000</td>\n",
       "      <td>2.000000</td>\n",
       "      <td>2.000000</td>\n",
       "      <td>54.000000</td>\n",
       "      <td>2012.000000</td>\n",
       "      <td>90.760000</td>\n",
       "      <td>0.191500</td>\n",
       "    </tr>\n",
       "    <tr>\n",
       "      <th>50%</th>\n",
       "      <td>135.000000</td>\n",
       "      <td>10.0</td>\n",
       "      <td>9.000000</td>\n",
       "      <td>3.390000</td>\n",
       "      <td>40.000000</td>\n",
       "      <td>6.500000e+02</td>\n",
       "      <td>1973.000000</td>\n",
       "      <td>1.111584e+08</td>\n",
       "      <td>1.000000</td>\n",
       "      <td>3.000000</td>\n",
       "      <td>...</td>\n",
       "      <td>3.000000</td>\n",
       "      <td>107.000000</td>\n",
       "      <td>2.000000</td>\n",
       "      <td>3.000000</td>\n",
       "      <td>3.000000</td>\n",
       "      <td>3.000000</td>\n",
       "      <td>70.000000</td>\n",
       "      <td>2017.000000</td>\n",
       "      <td>90.760000</td>\n",
       "      <td>0.198500</td>\n",
       "    </tr>\n",
       "    <tr>\n",
       "      <th>75%</th>\n",
       "      <td>190.000000</td>\n",
       "      <td>10.0</td>\n",
       "      <td>13.000000</td>\n",
       "      <td>4.570000</td>\n",
       "      <td>40.000000</td>\n",
       "      <td>9.850000e+02</td>\n",
       "      <td>1996.000000</td>\n",
       "      <td>1.137688e+08</td>\n",
       "      <td>1.000000</td>\n",
       "      <td>5.000000</td>\n",
       "      <td>...</td>\n",
       "      <td>3.000000</td>\n",
       "      <td>140.300000</td>\n",
       "      <td>3.000000</td>\n",
       "      <td>4.000000</td>\n",
       "      <td>3.000000</td>\n",
       "      <td>4.000000</td>\n",
       "      <td>90.000000</td>\n",
       "      <td>2019.000000</td>\n",
       "      <td>90.760000</td>\n",
       "      <td>0.205500</td>\n",
       "    </tr>\n",
       "    <tr>\n",
       "      <th>max</th>\n",
       "      <td>146118.000000</td>\n",
       "      <td>10.0</td>\n",
       "      <td>121.000000</td>\n",
       "      <td>14.920000</td>\n",
       "      <td>100.000000</td>\n",
       "      <td>1.575154e+07</td>\n",
       "      <td>2090.000000</td>\n",
       "      <td>1.157117e+08</td>\n",
       "      <td>2241.000000</td>\n",
       "      <td>9.000000</td>\n",
       "      <td>...</td>\n",
       "      <td>999.990000</td>\n",
       "      <td>1996.000000</td>\n",
       "      <td>999.000000</td>\n",
       "      <td>999.000000</td>\n",
       "      <td>5.000000</td>\n",
       "      <td>7.000000</td>\n",
       "      <td>12613.000000</td>\n",
       "      <td>2919.000000</td>\n",
       "      <td>90.760000</td>\n",
       "      <td>0.227600</td>\n",
       "    </tr>\n",
       "  </tbody>\n",
       "</table>\n",
       "<p>8 rows × 24 columns</p>\n",
       "</div>\n",
       "      <button class=\"colab-df-convert\" onclick=\"convertToInteractive('df-370bee54-24a0-4488-b924-b9fd77852802')\"\n",
       "              title=\"Convert this dataframe to an interactive table.\"\n",
       "              style=\"display:none;\">\n",
       "        \n",
       "  <svg xmlns=\"http://www.w3.org/2000/svg\" height=\"24px\"viewBox=\"0 0 24 24\"\n",
       "       width=\"24px\">\n",
       "    <path d=\"M0 0h24v24H0V0z\" fill=\"none\"/>\n",
       "    <path d=\"M18.56 5.44l.94 2.06.94-2.06 2.06-.94-2.06-.94-.94-2.06-.94 2.06-2.06.94zm-11 1L8.5 8.5l.94-2.06 2.06-.94-2.06-.94L8.5 2.5l-.94 2.06-2.06.94zm10 10l.94 2.06.94-2.06 2.06-.94-2.06-.94-.94-2.06-.94 2.06-2.06.94z\"/><path d=\"M17.41 7.96l-1.37-1.37c-.4-.4-.92-.59-1.43-.59-.52 0-1.04.2-1.43.59L10.3 9.45l-7.72 7.72c-.78.78-.78 2.05 0 2.83L4 21.41c.39.39.9.59 1.41.59.51 0 1.02-.2 1.41-.59l7.78-7.78 2.81-2.81c.8-.78.8-2.07 0-2.86zM5.41 20L4 18.59l7.72-7.72 1.47 1.35L5.41 20z\"/>\n",
       "  </svg>\n",
       "      </button>\n",
       "      \n",
       "  <style>\n",
       "    .colab-df-container {\n",
       "      display:flex;\n",
       "      flex-wrap:wrap;\n",
       "      gap: 12px;\n",
       "    }\n",
       "\n",
       "    .colab-df-convert {\n",
       "      background-color: #E8F0FE;\n",
       "      border: none;\n",
       "      border-radius: 50%;\n",
       "      cursor: pointer;\n",
       "      display: none;\n",
       "      fill: #1967D2;\n",
       "      height: 32px;\n",
       "      padding: 0 0 0 0;\n",
       "      width: 32px;\n",
       "    }\n",
       "\n",
       "    .colab-df-convert:hover {\n",
       "      background-color: #E2EBFA;\n",
       "      box-shadow: 0px 1px 2px rgba(60, 64, 67, 0.3), 0px 1px 3px 1px rgba(60, 64, 67, 0.15);\n",
       "      fill: #174EA6;\n",
       "    }\n",
       "\n",
       "    [theme=dark] .colab-df-convert {\n",
       "      background-color: #3B4455;\n",
       "      fill: #D2E3FC;\n",
       "    }\n",
       "\n",
       "    [theme=dark] .colab-df-convert:hover {\n",
       "      background-color: #434B5C;\n",
       "      box-shadow: 0px 1px 3px 1px rgba(0, 0, 0, 0.15);\n",
       "      filter: drop-shadow(0px 1px 2px rgba(0, 0, 0, 0.3));\n",
       "      fill: #FFFFFF;\n",
       "    }\n",
       "  </style>\n",
       "\n",
       "      <script>\n",
       "        const buttonEl =\n",
       "          document.querySelector('#df-370bee54-24a0-4488-b924-b9fd77852802 button.colab-df-convert');\n",
       "        buttonEl.style.display =\n",
       "          google.colab.kernel.accessAllowed ? 'block' : 'none';\n",
       "\n",
       "        async function convertToInteractive(key) {\n",
       "          const element = document.querySelector('#df-370bee54-24a0-4488-b924-b9fd77852802');\n",
       "          const dataTable =\n",
       "            await google.colab.kernel.invokeFunction('convertToInteractive',\n",
       "                                                     [key], {});\n",
       "          if (!dataTable) return;\n",
       "\n",
       "          const docLinkHtml = 'Like what you see? Visit the ' +\n",
       "            '<a target=\"_blank\" href=https://colab.research.google.com/notebooks/data_table.ipynb>data table notebook</a>'\n",
       "            + ' to learn more about interactive tables.';\n",
       "          element.innerHTML = '';\n",
       "          dataTable['output_type'] = 'display_data';\n",
       "          await google.colab.output.renderOutput(dataTable, element);\n",
       "          const docLink = document.createElement('div');\n",
       "          docLink.innerHTML = docLinkHtml;\n",
       "          element.appendChild(docLink);\n",
       "        }\n",
       "      </script>\n",
       "    </div>\n",
       "  </div>\n",
       "  "
      ],
      "text/plain": [
       "       serviceCharge  telekomHybridUploadSpeed   picturecount     pricetrend  \\\n",
       "count  261941.000000                   45020.0  268850.000000  267018.000000   \n",
       "mean      151.206113                      10.0       9.791958       3.389001   \n",
       "std       308.295790                       0.0       6.408399       1.964874   \n",
       "min         0.000000                      10.0       0.000000     -12.330000   \n",
       "25%        95.000000                      10.0       6.000000       2.000000   \n",
       "50%       135.000000                      10.0       9.000000       3.390000   \n",
       "75%       190.000000                      10.0      13.000000       4.570000   \n",
       "max    146118.000000                      10.0     121.000000      14.920000   \n",
       "\n",
       "       telekomUploadSpeed     totalRent  yearConstructed       scoutId  \\\n",
       "count       235492.000000  2.283330e+05    211805.000000  2.688500e+05   \n",
       "mean            28.804928  9.013315e+02      1966.400590  1.069697e+08   \n",
       "std             16.337151  3.323833e+04        46.992207  1.250093e+07   \n",
       "min              1.000000  0.000000e+00      1000.000000  2.887174e+07   \n",
       "25%             10.000000  4.698000e+02      1950.000000  1.066910e+08   \n",
       "50%             40.000000  6.500000e+02      1973.000000  1.111584e+08   \n",
       "75%             40.000000  9.850000e+02      1996.000000  1.137688e+08   \n",
       "max            100.000000  1.575154e+07      2090.000000  1.157117e+08   \n",
       "\n",
       "       noParkSpaces  yearConstructedRange  ...        noRooms    thermalChar  \\\n",
       "count  93052.000000         211805.000000  ...  268850.000000  162344.000000   \n",
       "mean       1.327634              3.714544  ...       2.641261     114.749533   \n",
       "std        8.361403              2.738134  ...       2.633440      61.653663   \n",
       "min        0.000000              1.000000  ...       1.000000       0.100000   \n",
       "25%        1.000000              1.000000  ...       2.000000      79.000000   \n",
       "50%        1.000000              3.000000  ...       3.000000     107.000000   \n",
       "75%        1.000000              5.000000  ...       3.000000     140.300000   \n",
       "max     2241.000000              9.000000  ...     999.990000    1996.000000   \n",
       "\n",
       "               floor  numberOfFloors   noRoomsRange  livingSpaceRange  \\\n",
       "count  217541.000000   171118.000000  268850.000000     268850.000000   \n",
       "mean        2.122405        3.572319       2.571542          3.070790   \n",
       "std         3.634934        6.375496       0.937594          1.407127   \n",
       "min        -1.000000        0.000000       1.000000          1.000000   \n",
       "25%         1.000000        2.000000       2.000000          2.000000   \n",
       "50%         2.000000        3.000000       3.000000          3.000000   \n",
       "75%         3.000000        4.000000       3.000000          4.000000   \n",
       "max       999.000000      999.000000       5.000000          7.000000   \n",
       "\n",
       "       heatingCosts  lastRefurbish  electricityBasePrice  electricityKwhPrice  \n",
       "count  85518.000000   80711.000000          46846.000000         46846.000000  \n",
       "mean      76.990866    2013.904536             89.113612             0.199769  \n",
       "std      147.716278      10.963125              5.395805             0.009667  \n",
       "min        0.000000    1015.000000             71.430000             0.170500  \n",
       "25%       54.000000    2012.000000             90.760000             0.191500  \n",
       "50%       70.000000    2017.000000             90.760000             0.198500  \n",
       "75%       90.000000    2019.000000             90.760000             0.205500  \n",
       "max    12613.000000    2919.000000             90.760000             0.227600  \n",
       "\n",
       "[8 rows x 24 columns]"
      ]
     },
     "execution_count": 7,
     "metadata": {},
     "output_type": "execute_result"
    }
   ],
   "source": [
    "#An overview to numerical features\n",
    "immo.describe()"
   ]
  },
  {
   "cell_type": "code",
   "execution_count": 8,
   "metadata": {
    "colab": {
     "base_uri": "https://localhost:8080/"
    },
    "id": "4edMoLcLbjhV",
    "outputId": "6547db43-ab93-4f21-e8ad-afbf9b945a4b"
   },
   "outputs": [
    {
     "name": "stdout",
     "output_type": "stream",
     "text": [
      "<class 'pandas.core.frame.DataFrame'>\n",
      "RangeIndex: 268850 entries, 0 to 268849\n",
      "Data columns (total 49 columns):\n",
      " #   Column                    Non-Null Count   Dtype  \n",
      "---  ------                    --------------   -----  \n",
      " 0   regio1                    268850 non-null  object \n",
      " 1   serviceCharge             261941 non-null  float64\n",
      " 2   heatingType               223994 non-null  object \n",
      " 3   telekomTvOffer            236231 non-null  object \n",
      " 4   telekomHybridUploadSpeed  45020 non-null   float64\n",
      " 5   newlyConst                268850 non-null  bool   \n",
      " 6   balcony                   268850 non-null  bool   \n",
      " 7   picturecount              268850 non-null  int64  \n",
      " 8   pricetrend                267018 non-null  float64\n",
      " 9   telekomUploadSpeed        235492 non-null  float64\n",
      " 10  totalRent                 228333 non-null  float64\n",
      " 11  yearConstructed           211805 non-null  float64\n",
      " 12  scoutId                   268850 non-null  int64  \n",
      " 13  noParkSpaces              93052 non-null   float64\n",
      " 14  firingTypes               211886 non-null  object \n",
      " 15  hasKitchen                268850 non-null  bool   \n",
      " 16  geo_bln                   268850 non-null  object \n",
      " 17  cellar                    268850 non-null  bool   \n",
      " 18  yearConstructedRange      211805 non-null  float64\n",
      " 19  baseRent                  268850 non-null  float64\n",
      " 20  houseNumber               197832 non-null  object \n",
      " 21  livingSpace               268850 non-null  float64\n",
      " 22  geo_krs                   268850 non-null  object \n",
      " 23  condition                 200361 non-null  object \n",
      " 24  interiorQual              156185 non-null  object \n",
      " 25  petsAllowed               154277 non-null  object \n",
      " 26  street                    268850 non-null  object \n",
      " 27  streetPlain               197837 non-null  object \n",
      " 28  lift                      268850 non-null  bool   \n",
      " 29  baseRentRange             268850 non-null  int64  \n",
      " 30  typeOfFlat                232236 non-null  object \n",
      " 31  geo_plz                   268850 non-null  int64  \n",
      " 32  noRooms                   268850 non-null  float64\n",
      " 33  thermalChar               162344 non-null  float64\n",
      " 34  floor                     217541 non-null  float64\n",
      " 35  numberOfFloors            171118 non-null  float64\n",
      " 36  noRoomsRange              268850 non-null  int64  \n",
      " 37  garden                    268850 non-null  bool   \n",
      " 38  livingSpaceRange          268850 non-null  int64  \n",
      " 39  regio2                    268850 non-null  object \n",
      " 40  regio3                    268850 non-null  object \n",
      " 41  description               249103 non-null  object \n",
      " 42  facilities                215926 non-null  object \n",
      " 43  heatingCosts              85518 non-null   float64\n",
      " 44  energyEfficiencyClass     77787 non-null   object \n",
      " 45  lastRefurbish             80711 non-null   float64\n",
      " 46  electricityBasePrice      46846 non-null   float64\n",
      " 47  electricityKwhPrice       46846 non-null   float64\n",
      " 48  date                      268850 non-null  object \n",
      "dtypes: bool(6), float64(18), int64(6), object(19)\n",
      "memory usage: 89.7+ MB\n"
     ]
    }
   ],
   "source": [
    "immo.info()"
   ]
  },
  {
   "cell_type": "code",
   "execution_count": 9,
   "metadata": {
    "colab": {
     "base_uri": "https://localhost:8080/"
    },
    "id": "fMxGftBJboK9",
    "outputId": "8ec821fa-3412-47c7-fb8f-141ae89c8743"
   },
   "outputs": [
    {
     "data": {
      "text/plain": [
       "regio1                       object\n",
       "serviceCharge               float64\n",
       "heatingType                  object\n",
       "telekomTvOffer               object\n",
       "telekomHybridUploadSpeed    float64\n",
       "newlyConst                     bool\n",
       "balcony                        bool\n",
       "picturecount                  int64\n",
       "pricetrend                  float64\n",
       "telekomUploadSpeed          float64\n",
       "totalRent                   float64\n",
       "yearConstructed             float64\n",
       "scoutId                       int64\n",
       "noParkSpaces                float64\n",
       "firingTypes                  object\n",
       "hasKitchen                     bool\n",
       "geo_bln                      object\n",
       "cellar                         bool\n",
       "yearConstructedRange        float64\n",
       "baseRent                    float64\n",
       "houseNumber                  object\n",
       "livingSpace                 float64\n",
       "geo_krs                      object\n",
       "condition                    object\n",
       "interiorQual                 object\n",
       "petsAllowed                  object\n",
       "street                       object\n",
       "streetPlain                  object\n",
       "lift                           bool\n",
       "baseRentRange                 int64\n",
       "typeOfFlat                   object\n",
       "geo_plz                       int64\n",
       "noRooms                     float64\n",
       "thermalChar                 float64\n",
       "floor                       float64\n",
       "numberOfFloors              float64\n",
       "noRoomsRange                  int64\n",
       "garden                         bool\n",
       "livingSpaceRange              int64\n",
       "regio2                       object\n",
       "regio3                       object\n",
       "description                  object\n",
       "facilities                   object\n",
       "heatingCosts                float64\n",
       "energyEfficiencyClass        object\n",
       "lastRefurbish               float64\n",
       "electricityBasePrice        float64\n",
       "electricityKwhPrice         float64\n",
       "date                         object\n",
       "dtype: object"
      ]
     },
     "execution_count": 9,
     "metadata": {},
     "output_type": "execute_result"
    }
   ],
   "source": [
    "immo.dtypes"
   ]
  },
  {
   "cell_type": "markdown",
   "metadata": {
    "id": "AH58ikb3bwPw"
   },
   "source": [
    "Renaming columns"
   ]
  },
  {
   "cell_type": "code",
   "execution_count": 10,
   "metadata": {
    "id": "quitD7vzbrg0"
   },
   "outputs": [],
   "source": [
    "# Renaming columns\n",
    "immo.rename(columns = {\"regio1\": \"state\", \"regio2\": \"city\"}, inplace = True)"
   ]
  },
  {
   "cell_type": "markdown",
   "metadata": {
    "id": "25FoCrACb2UN"
   },
   "source": [
    "##Data cleaning"
   ]
  },
  {
   "cell_type": "code",
   "execution_count": 11,
   "metadata": {
    "colab": {
     "base_uri": "https://localhost:8080/"
    },
    "id": "PKI5ec90b0Rn",
    "outputId": "924e552a-3e7c-42d5-bad1-850e6bf43f32"
   },
   "outputs": [
    {
     "data": {
      "text/plain": [
       "state                        0.000000\n",
       "serviceCharge                2.569834\n",
       "heatingType                 16.684397\n",
       "telekomTvOffer              12.132788\n",
       "telekomHybridUploadSpeed    83.254603\n",
       "newlyConst                   0.000000\n",
       "balcony                      0.000000\n",
       "picturecount                 0.000000\n",
       "pricetrend                   0.681421\n",
       "telekomUploadSpeed          12.407662\n",
       "totalRent                   15.070485\n",
       "yearConstructed             21.218151\n",
       "scoutId                      0.000000\n",
       "noParkSpaces                65.388879\n",
       "firingTypes                 21.188023\n",
       "hasKitchen                   0.000000\n",
       "geo_bln                      0.000000\n",
       "cellar                       0.000000\n",
       "yearConstructedRange        21.218151\n",
       "baseRent                     0.000000\n",
       "houseNumber                 26.415473\n",
       "livingSpace                  0.000000\n",
       "geo_krs                      0.000000\n",
       "condition                   25.474800\n",
       "interiorQual                41.906267\n",
       "petsAllowed                 42.615957\n",
       "street                       0.000000\n",
       "streetPlain                 26.413614\n",
       "lift                         0.000000\n",
       "baseRentRange                0.000000\n",
       "typeOfFlat                  13.618747\n",
       "geo_plz                      0.000000\n",
       "noRooms                      0.000000\n",
       "thermalChar                 39.615399\n",
       "floor                       19.084620\n",
       "numberOfFloors              36.351869\n",
       "noRoomsRange                 0.000000\n",
       "garden                       0.000000\n",
       "livingSpaceRange             0.000000\n",
       "city                         0.000000\n",
       "regio3                       0.000000\n",
       "description                  7.344988\n",
       "facilities                  19.685326\n",
       "heatingCosts                68.191185\n",
       "energyEfficiencyClass       71.066766\n",
       "lastRefurbish               69.979171\n",
       "electricityBasePrice        82.575414\n",
       "electricityKwhPrice         82.575414\n",
       "date                         0.000000\n",
       "dtype: float64"
      ]
     },
     "execution_count": 11,
     "metadata": {},
     "output_type": "execute_result"
    }
   ],
   "source": [
    "#checking for missing value\n",
    "immo.isna().sum()/len(immo) * 100"
   ]
  },
  {
   "cell_type": "code",
   "execution_count": 12,
   "metadata": {
    "colab": {
     "base_uri": "https://localhost:8080/"
    },
    "id": "v7VjLBYhb49b",
    "outputId": "57251c09-3e29-4040-aedb-daaaeb09932f"
   },
   "outputs": [
    {
     "data": {
      "text/plain": [
       "Index(['state', 'serviceCharge', 'heatingType', 'telekomTvOffer', 'newlyConst',\n",
       "       'balcony', 'picturecount', 'pricetrend', 'telekomUploadSpeed',\n",
       "       'totalRent', 'yearConstructed', 'scoutId', 'firingTypes', 'hasKitchen',\n",
       "       'geo_bln', 'cellar', 'yearConstructedRange', 'baseRent', 'houseNumber',\n",
       "       'livingSpace', 'geo_krs', 'condition', 'street', 'streetPlain', 'lift',\n",
       "       'baseRentRange', 'typeOfFlat', 'geo_plz', 'noRooms', 'floor',\n",
       "       'noRoomsRange', 'garden', 'livingSpaceRange', 'city', 'regio3',\n",
       "       'description', 'facilities', 'date'],\n",
       "      dtype='object')"
      ]
     },
     "execution_count": 12,
     "metadata": {},
     "output_type": "execute_result"
    }
   ],
   "source": [
    "# Delete columns with more than 30% null data\n",
    "immo = immo.drop(columns=immo.columns[((immo.isna().sum()/len(immo)*100) > 30.0)])\n",
    "immo.columns"
   ]
  },
  {
   "cell_type": "code",
   "execution_count": 13,
   "metadata": {
    "id": "Msoc4hNjcCjF"
   },
   "outputs": [],
   "source": [
    "#Delete irrelevant columns \n",
    "immo.drop(columns=['livingSpaceRange','street','description','facilities','geo_krs','geo_plz','scoutId','telekomUploadSpeed',\n",
    "                   'telekomTvOffer','pricetrend','noRoomsRange','picturecount','geo_bln','date',\n",
    "                  'houseNumber','streetPlain','firingTypes','yearConstructedRange',\"regio3\"],inplace=True)"
   ]
  },
  {
   "cell_type": "markdown",
   "metadata": {
    "id": "PDijKH7CcL-0"
   },
   "source": [
    "Deleting columns with not appropriate value.(Properties with zero livingSpace or zero totalRent)"
   ]
  },
  {
   "cell_type": "code",
   "execution_count": 14,
   "metadata": {
    "colab": {
     "base_uri": "https://localhost:8080/"
    },
    "id": "QIVmJnlxcIcw",
    "outputId": "16e4304e-1537-4cf2-dfc0-1c76946e551f"
   },
   "outputs": [
    {
     "data": {
      "text/plain": [
       "75"
      ]
     },
     "execution_count": 14,
     "metadata": {},
     "output_type": "execute_result"
    }
   ],
   "source": [
    "immo[immo['livingSpace'] == 0.0].shape[0]"
   ]
  },
  {
   "cell_type": "code",
   "execution_count": 15,
   "metadata": {
    "colab": {
     "base_uri": "https://localhost:8080/"
    },
    "id": "Zo9z3D82cQWv",
    "outputId": "4ef09f31-1c1b-4b1f-ed10-9270c8f529ca"
   },
   "outputs": [
    {
     "data": {
      "text/plain": [
       "236"
      ]
     },
     "execution_count": 15,
     "metadata": {},
     "output_type": "execute_result"
    }
   ],
   "source": [
    "immo[immo['totalRent']== 0.0].shape[0]"
   ]
  },
  {
   "cell_type": "code",
   "execution_count": 16,
   "metadata": {
    "colab": {
     "base_uri": "https://localhost:8080/"
    },
    "id": "4C4uk1PJcSxL",
    "outputId": "5410ac92-14f4-4368-847b-90670a8ffd4a"
   },
   "outputs": [
    {
     "data": {
      "text/plain": [
       "(268544, 19)"
      ]
     },
     "execution_count": 16,
     "metadata": {},
     "output_type": "execute_result"
    }
   ],
   "source": [
    "immo = immo.drop(immo[immo['livingSpace'] == 0.0].index)\n",
    "immo = immo.drop(immo[immo['totalRent'] == 0.0].index)\n",
    "immo.shape"
   ]
  },
  {
   "cell_type": "markdown",
   "metadata": {
    "id": "4PzfErjc7u-M"
   },
   "source": [
    "Because I want to predict rental price ('totalRent') so I should drop all the rows that doesn't consist totalRent"
   ]
  },
  {
   "cell_type": "code",
   "execution_count": 17,
   "metadata": {
    "id": "WqfEH8YD7j-L"
   },
   "outputs": [],
   "source": [
    "immo.dropna(subset=['totalRent'],inplace=True)"
   ]
  },
  {
   "cell_type": "markdown",
   "metadata": {
    "id": "3oocj_hqd_7u"
   },
   "source": [
    "Checking for the duplications"
   ]
  },
  {
   "cell_type": "code",
   "execution_count": 18,
   "metadata": {
    "colab": {
     "base_uri": "https://localhost:8080/"
    },
    "id": "CBJ1L0LMcVM8",
    "outputId": "caf86cbc-5ab8-4afb-bd63-af488b93fdf2"
   },
   "outputs": [
    {
     "data": {
      "text/plain": [
       "5833"
      ]
     },
     "execution_count": 18,
     "metadata": {},
     "output_type": "execute_result"
    }
   ],
   "source": [
    "immo.duplicated().sum()"
   ]
  },
  {
   "cell_type": "markdown",
   "metadata": {
    "id": "mC_PibODgFF8"
   },
   "source": [
    "Getting rid of duplicates"
   ]
  },
  {
   "cell_type": "code",
   "execution_count": 19,
   "metadata": {
    "colab": {
     "base_uri": "https://localhost:8080/"
    },
    "id": "iXycm-7ZeKHG",
    "outputId": "c5b6547c-c8dd-4959-dfa6-9dbfc7075f4b"
   },
   "outputs": [
    {
     "data": {
      "text/plain": [
       "(222211, 19)"
      ]
     },
     "execution_count": 19,
     "metadata": {},
     "output_type": "execute_result"
    }
   ],
   "source": [
    "immo= immo.drop_duplicates()\n",
    "immo.shape"
   ]
  },
  {
   "cell_type": "markdown",
   "metadata": {
    "id": "aeOP77KCgZxF"
   },
   "source": [
    "\n",
    "\n",
    "---\n",
    "\n",
    "\n",
    "Outlier treatment\n",
    "\n",
    "In this method, the mean and standard deviation of the residuals are calculated and compared. If a value is a 3 of standard deviations away from the mean, that data point is identified as an outlier."
   ]
  },
  {
   "cell_type": "code",
   "execution_count": 20,
   "metadata": {
    "id": "GGu4ygVofrHF"
   },
   "outputs": [],
   "source": [
    "from re import I\n",
    "for cols in immo.columns:\n",
    "    if immo[cols].dtype == 'int64' or immo[cols].dtype == 'float64':\n",
    "        upper_range = immo[cols].mean() + 3 * immo[cols].std()\n",
    "        lower_range = immo[cols].mean() - 3 * immo[cols].std()\n",
    "        \n",
    "        indexs = immo[(immo[cols] > upper_range) | (immo[cols] < lower_range)].index\n",
    "        immo = immo.drop(indexs)"
   ]
  },
  {
   "cell_type": "code",
   "execution_count": 21,
   "metadata": {
    "colab": {
     "base_uri": "https://localhost:8080/"
    },
    "id": "CylBWxJagg-2",
    "outputId": "5b51b242-5270-4910-d9d6-23ad80fe7f01"
   },
   "outputs": [
    {
     "data": {
      "text/plain": [
       "(217098, 19)"
      ]
     },
     "execution_count": 21,
     "metadata": {},
     "output_type": "execute_result"
    }
   ],
   "source": [
    "immo.shape"
   ]
  },
  {
   "cell_type": "markdown",
   "metadata": {
    "id": "039acKWLgoyw"
   },
   "source": [
    "\n",
    "\n",
    "---\n",
    "\n",
    "\n",
    "Dealing with missing value\n",
    "* Fillna numeric data \n",
    "* Fillna categorical data"
   ]
  },
  {
   "cell_type": "code",
   "execution_count": 22,
   "metadata": {
    "colab": {
     "base_uri": "https://localhost:8080/"
    },
    "id": "D0NOeH_9gkPo",
    "outputId": "957a8512-88e1-4238-94c0-a073dddd9df1"
   },
   "outputs": [
    {
     "data": {
      "text/plain": [
       "serviceCharge       146.769537\n",
       "newlyConst            0.073879\n",
       "balcony               0.615528\n",
       "totalRent           773.206130\n",
       "yearConstructed    1967.182693\n",
       "hasKitchen            0.345733\n",
       "cellar                0.649352\n",
       "baseRent            605.405406\n",
       "livingSpace          71.371320\n",
       "lift                  0.230361\n",
       "baseRentRange         3.671112\n",
       "noRooms               2.586231\n",
       "floor                 2.060264\n",
       "garden                0.202508\n",
       "dtype: float64"
      ]
     },
     "execution_count": 22,
     "metadata": {},
     "output_type": "execute_result"
    }
   ],
   "source": [
    "#Fill NaN values in numeric data by the mean\n",
    "immo._get_numeric_data().mean()"
   ]
  },
  {
   "cell_type": "code",
   "execution_count": 23,
   "metadata": {
    "id": "x54v-uShg3tE"
   },
   "outputs": [],
   "source": [
    "immo.fillna(immo._get_numeric_data().mean(),inplace = True)"
   ]
  },
  {
   "cell_type": "code",
   "execution_count": 24,
   "metadata": {
    "id": "Qf3g2m9whCSL"
   },
   "outputs": [],
   "source": [
    "#Fill NaN values in \"heatingType\" and \"typeOfFlat\" by the mode\n",
    "immo['heatingType'].fillna(immo['heatingType'].mode()[0], inplace=True)\n",
    "immo['typeOfFlat'].fillna(immo['typeOfFlat'].mode()[0], inplace=True)"
   ]
  },
  {
   "cell_type": "code",
   "execution_count": 25,
   "metadata": {
    "colab": {
     "base_uri": "https://localhost:8080/"
    },
    "id": "6pQn9ZathKBd",
    "outputId": "85399a3f-f764-4323-f071-ef159d5ace29"
   },
   "outputs": [
    {
     "data": {
      "text/plain": [
       "other                                 54206\n",
       "well_kept                             53687\n",
       "refurbished                           23218\n",
       "fully_renovated                       21520\n",
       "mint_condition                        17643\n",
       "first_time_use                        16750\n",
       "modernized                            14304\n",
       "first_time_use_after_refurbishment    12933\n",
       "negotiable                             1719\n",
       "need_of_renovation                     1114\n",
       "ripe_for_demolition                       4\n",
       "Name: condition, dtype: int64"
      ]
     },
     "execution_count": 25,
     "metadata": {},
     "output_type": "execute_result"
    }
   ],
   "source": [
    "#Fill NAN values in \"condition\" by other\n",
    "immo['condition'].fillna(\"other\", inplace=True) # fill the NA by other\n",
    "immo['condition'].value_counts()"
   ]
  },
  {
   "cell_type": "markdown",
   "metadata": {
    "id": "nu5ssWeEx67B"
   },
   "source": [
    "To reduce number of categories, the last 3 conditions which are not good conditions for the apartment will be grouped in 'other'"
   ]
  },
  {
   "cell_type": "code",
   "execution_count": 26,
   "metadata": {
    "colab": {
     "base_uri": "https://localhost:8080/"
    },
    "id": "0TymyG5JxQ6C",
    "outputId": "6acdc30b-e2ab-4a35-9b96-76311da49c2e"
   },
   "outputs": [
    {
     "data": {
      "text/plain": [
       "other                                 57043\n",
       "well_kept                             53687\n",
       "refurbished                           23218\n",
       "fully_renovated                       21520\n",
       "mint_condition                        17643\n",
       "first_time_use                        16750\n",
       "modernized                            14304\n",
       "first_time_use_after_refurbishment    12933\n",
       "Name: condition, dtype: int64"
      ]
     },
     "execution_count": 26,
     "metadata": {},
     "output_type": "execute_result"
    }
   ],
   "source": [
    "otherscondition = immo['condition'].value_counts().tail(3).index\n",
    "\n",
    "def editcondition(dflist):\n",
    "    if dflist in otherscondition:\n",
    "        return 'other'\n",
    "    else:\n",
    "        return dflist\n",
    "\n",
    "immo['condition'] =immo['condition'].apply(editcondition)\n",
    "immo['condition'].value_counts()"
   ]
  },
  {
   "cell_type": "code",
   "execution_count": 27,
   "metadata": {
    "colab": {
     "base_uri": "https://localhost:8080/"
    },
    "id": "pYr1aN1GhM0u",
    "outputId": "613d360e-ef94-4f46-c53a-adbef4f2f297"
   },
   "outputs": [
    {
     "data": {
      "text/plain": [
       "state              0\n",
       "serviceCharge      0\n",
       "heatingType        0\n",
       "newlyConst         0\n",
       "balcony            0\n",
       "totalRent          0\n",
       "yearConstructed    0\n",
       "hasKitchen         0\n",
       "cellar             0\n",
       "baseRent           0\n",
       "livingSpace        0\n",
       "condition          0\n",
       "lift               0\n",
       "baseRentRange      0\n",
       "typeOfFlat         0\n",
       "noRooms            0\n",
       "floor              0\n",
       "garden             0\n",
       "city               0\n",
       "dtype: int64"
      ]
     },
     "execution_count": 27,
     "metadata": {},
     "output_type": "execute_result"
    }
   ],
   "source": [
    "#checking for missing value\n",
    "immo.isna().sum()"
   ]
  },
  {
   "cell_type": "markdown",
   "metadata": {
    "id": "6Ar2WjN1hV_d"
   },
   "source": [
    "Cleaned data:"
   ]
  },
  {
   "cell_type": "code",
   "execution_count": 28,
   "metadata": {
    "colab": {
     "base_uri": "https://localhost:8080/",
     "height": 427
    },
    "id": "-vFeCkpChSsX",
    "outputId": "87ed75a6-9dff-4bc2-8765-703e85f6febc"
   },
   "outputs": [
    {
     "data": {
      "text/html": [
       "\n",
       "  <div id=\"df-2ba5ca47-962f-4fbd-87e5-9fcfc31dfcc1\">\n",
       "    <div class=\"colab-df-container\">\n",
       "      <div>\n",
       "<style scoped>\n",
       "    .dataframe tbody tr th:only-of-type {\n",
       "        vertical-align: middle;\n",
       "    }\n",
       "\n",
       "    .dataframe tbody tr th {\n",
       "        vertical-align: top;\n",
       "    }\n",
       "\n",
       "    .dataframe thead th {\n",
       "        text-align: right;\n",
       "    }\n",
       "</style>\n",
       "<table border=\"1\" class=\"dataframe\">\n",
       "  <thead>\n",
       "    <tr style=\"text-align: right;\">\n",
       "      <th></th>\n",
       "      <th>state</th>\n",
       "      <th>serviceCharge</th>\n",
       "      <th>heatingType</th>\n",
       "      <th>newlyConst</th>\n",
       "      <th>balcony</th>\n",
       "      <th>totalRent</th>\n",
       "      <th>yearConstructed</th>\n",
       "      <th>hasKitchen</th>\n",
       "      <th>cellar</th>\n",
       "      <th>baseRent</th>\n",
       "      <th>livingSpace</th>\n",
       "      <th>condition</th>\n",
       "      <th>lift</th>\n",
       "      <th>baseRentRange</th>\n",
       "      <th>typeOfFlat</th>\n",
       "      <th>noRooms</th>\n",
       "      <th>floor</th>\n",
       "      <th>garden</th>\n",
       "      <th>city</th>\n",
       "    </tr>\n",
       "  </thead>\n",
       "  <tbody>\n",
       "    <tr>\n",
       "      <th>0</th>\n",
       "      <td>Nordrhein_Westfalen</td>\n",
       "      <td>245.0</td>\n",
       "      <td>central_heating</td>\n",
       "      <td>False</td>\n",
       "      <td>False</td>\n",
       "      <td>840.00</td>\n",
       "      <td>1965.000000</td>\n",
       "      <td>False</td>\n",
       "      <td>True</td>\n",
       "      <td>595.00</td>\n",
       "      <td>86.00</td>\n",
       "      <td>well_kept</td>\n",
       "      <td>False</td>\n",
       "      <td>4</td>\n",
       "      <td>ground_floor</td>\n",
       "      <td>4.0</td>\n",
       "      <td>1.000000</td>\n",
       "      <td>True</td>\n",
       "      <td>Dortmund</td>\n",
       "    </tr>\n",
       "    <tr>\n",
       "      <th>2</th>\n",
       "      <td>Sachsen</td>\n",
       "      <td>255.0</td>\n",
       "      <td>floor_heating</td>\n",
       "      <td>True</td>\n",
       "      <td>True</td>\n",
       "      <td>1300.00</td>\n",
       "      <td>2019.000000</td>\n",
       "      <td>False</td>\n",
       "      <td>True</td>\n",
       "      <td>965.00</td>\n",
       "      <td>83.80</td>\n",
       "      <td>first_time_use</td>\n",
       "      <td>True</td>\n",
       "      <td>6</td>\n",
       "      <td>apartment</td>\n",
       "      <td>3.0</td>\n",
       "      <td>3.000000</td>\n",
       "      <td>False</td>\n",
       "      <td>Dresden</td>\n",
       "    </tr>\n",
       "    <tr>\n",
       "      <th>4</th>\n",
       "      <td>Bremen</td>\n",
       "      <td>138.0</td>\n",
       "      <td>self_contained_central_heating</td>\n",
       "      <td>False</td>\n",
       "      <td>True</td>\n",
       "      <td>903.00</td>\n",
       "      <td>1950.000000</td>\n",
       "      <td>False</td>\n",
       "      <td>False</td>\n",
       "      <td>765.00</td>\n",
       "      <td>84.97</td>\n",
       "      <td>refurbished</td>\n",
       "      <td>False</td>\n",
       "      <td>5</td>\n",
       "      <td>apartment</td>\n",
       "      <td>3.0</td>\n",
       "      <td>1.000000</td>\n",
       "      <td>False</td>\n",
       "      <td>Bremen</td>\n",
       "    </tr>\n",
       "    <tr>\n",
       "      <th>6</th>\n",
       "      <td>Sachsen</td>\n",
       "      <td>70.0</td>\n",
       "      <td>self_contained_central_heating</td>\n",
       "      <td>False</td>\n",
       "      <td>False</td>\n",
       "      <td>380.00</td>\n",
       "      <td>1967.182693</td>\n",
       "      <td>False</td>\n",
       "      <td>True</td>\n",
       "      <td>310.00</td>\n",
       "      <td>62.00</td>\n",
       "      <td>fully_renovated</td>\n",
       "      <td>False</td>\n",
       "      <td>2</td>\n",
       "      <td>apartment</td>\n",
       "      <td>2.0</td>\n",
       "      <td>1.000000</td>\n",
       "      <td>True</td>\n",
       "      <td>Mittelsachsen_Kreis</td>\n",
       "    </tr>\n",
       "    <tr>\n",
       "      <th>7</th>\n",
       "      <td>Bremen</td>\n",
       "      <td>88.0</td>\n",
       "      <td>central_heating</td>\n",
       "      <td>False</td>\n",
       "      <td>True</td>\n",
       "      <td>584.25</td>\n",
       "      <td>1959.000000</td>\n",
       "      <td>False</td>\n",
       "      <td>True</td>\n",
       "      <td>452.25</td>\n",
       "      <td>60.30</td>\n",
       "      <td>other</td>\n",
       "      <td>False</td>\n",
       "      <td>3</td>\n",
       "      <td>ground_floor</td>\n",
       "      <td>3.0</td>\n",
       "      <td>2.060264</td>\n",
       "      <td>False</td>\n",
       "      <td>Bremen</td>\n",
       "    </tr>\n",
       "    <tr>\n",
       "      <th>8</th>\n",
       "      <td>Baden_Württemberg</td>\n",
       "      <td>110.0</td>\n",
       "      <td>oil_heating</td>\n",
       "      <td>False</td>\n",
       "      <td>False</td>\n",
       "      <td>690.00</td>\n",
       "      <td>1970.000000</td>\n",
       "      <td>True</td>\n",
       "      <td>True</td>\n",
       "      <td>580.00</td>\n",
       "      <td>53.00</td>\n",
       "      <td>well_kept</td>\n",
       "      <td>False</td>\n",
       "      <td>4</td>\n",
       "      <td>roof_storey</td>\n",
       "      <td>2.0</td>\n",
       "      <td>2.000000</td>\n",
       "      <td>False</td>\n",
       "      <td>Emmendingen_Kreis</td>\n",
       "    </tr>\n",
       "    <tr>\n",
       "      <th>10</th>\n",
       "      <td>Sachsen</td>\n",
       "      <td>88.0</td>\n",
       "      <td>central_heating</td>\n",
       "      <td>False</td>\n",
       "      <td>True</td>\n",
       "      <td>307.00</td>\n",
       "      <td>1930.000000</td>\n",
       "      <td>False</td>\n",
       "      <td>True</td>\n",
       "      <td>219.00</td>\n",
       "      <td>40.20</td>\n",
       "      <td>other</td>\n",
       "      <td>False</td>\n",
       "      <td>1</td>\n",
       "      <td>apartment</td>\n",
       "      <td>2.0</td>\n",
       "      <td>3.000000</td>\n",
       "      <td>False</td>\n",
       "      <td>Chemnitz</td>\n",
       "    </tr>\n",
       "    <tr>\n",
       "      <th>11</th>\n",
       "      <td>Sachsen</td>\n",
       "      <td>155.0</td>\n",
       "      <td>central_heating</td>\n",
       "      <td>False</td>\n",
       "      <td>False</td>\n",
       "      <td>555.00</td>\n",
       "      <td>1892.000000</td>\n",
       "      <td>False</td>\n",
       "      <td>True</td>\n",
       "      <td>400.00</td>\n",
       "      <td>80.00</td>\n",
       "      <td>well_kept</td>\n",
       "      <td>False</td>\n",
       "      <td>2</td>\n",
       "      <td>apartment</td>\n",
       "      <td>3.0</td>\n",
       "      <td>1.000000</td>\n",
       "      <td>True</td>\n",
       "      <td>Mittelsachsen_Kreis</td>\n",
       "    </tr>\n",
       "    <tr>\n",
       "      <th>12</th>\n",
       "      <td>Rheinland_Pfalz</td>\n",
       "      <td>270.0</td>\n",
       "      <td>oil_heating</td>\n",
       "      <td>False</td>\n",
       "      <td>False</td>\n",
       "      <td>920.00</td>\n",
       "      <td>1912.000000</td>\n",
       "      <td>False</td>\n",
       "      <td>False</td>\n",
       "      <td>650.00</td>\n",
       "      <td>100.00</td>\n",
       "      <td>mint_condition</td>\n",
       "      <td>False</td>\n",
       "      <td>5</td>\n",
       "      <td>ground_floor</td>\n",
       "      <td>4.0</td>\n",
       "      <td>2.060264</td>\n",
       "      <td>True</td>\n",
       "      <td>Südliche_Weinstraße_Kreis</td>\n",
       "    </tr>\n",
       "    <tr>\n",
       "      <th>13</th>\n",
       "      <td>Nordrhein_Westfalen</td>\n",
       "      <td>200.0</td>\n",
       "      <td>central_heating</td>\n",
       "      <td>False</td>\n",
       "      <td>False</td>\n",
       "      <td>1150.00</td>\n",
       "      <td>1951.000000</td>\n",
       "      <td>False</td>\n",
       "      <td>False</td>\n",
       "      <td>950.00</td>\n",
       "      <td>123.44</td>\n",
       "      <td>first_time_use_after_refurbishment</td>\n",
       "      <td>False</td>\n",
       "      <td>6</td>\n",
       "      <td>apartment</td>\n",
       "      <td>4.0</td>\n",
       "      <td>4.000000</td>\n",
       "      <td>False</td>\n",
       "      <td>Hamm</td>\n",
       "    </tr>\n",
       "  </tbody>\n",
       "</table>\n",
       "</div>\n",
       "      <button class=\"colab-df-convert\" onclick=\"convertToInteractive('df-2ba5ca47-962f-4fbd-87e5-9fcfc31dfcc1')\"\n",
       "              title=\"Convert this dataframe to an interactive table.\"\n",
       "              style=\"display:none;\">\n",
       "        \n",
       "  <svg xmlns=\"http://www.w3.org/2000/svg\" height=\"24px\"viewBox=\"0 0 24 24\"\n",
       "       width=\"24px\">\n",
       "    <path d=\"M0 0h24v24H0V0z\" fill=\"none\"/>\n",
       "    <path d=\"M18.56 5.44l.94 2.06.94-2.06 2.06-.94-2.06-.94-.94-2.06-.94 2.06-2.06.94zm-11 1L8.5 8.5l.94-2.06 2.06-.94-2.06-.94L8.5 2.5l-.94 2.06-2.06.94zm10 10l.94 2.06.94-2.06 2.06-.94-2.06-.94-.94-2.06-.94 2.06-2.06.94z\"/><path d=\"M17.41 7.96l-1.37-1.37c-.4-.4-.92-.59-1.43-.59-.52 0-1.04.2-1.43.59L10.3 9.45l-7.72 7.72c-.78.78-.78 2.05 0 2.83L4 21.41c.39.39.9.59 1.41.59.51 0 1.02-.2 1.41-.59l7.78-7.78 2.81-2.81c.8-.78.8-2.07 0-2.86zM5.41 20L4 18.59l7.72-7.72 1.47 1.35L5.41 20z\"/>\n",
       "  </svg>\n",
       "      </button>\n",
       "      \n",
       "  <style>\n",
       "    .colab-df-container {\n",
       "      display:flex;\n",
       "      flex-wrap:wrap;\n",
       "      gap: 12px;\n",
       "    }\n",
       "\n",
       "    .colab-df-convert {\n",
       "      background-color: #E8F0FE;\n",
       "      border: none;\n",
       "      border-radius: 50%;\n",
       "      cursor: pointer;\n",
       "      display: none;\n",
       "      fill: #1967D2;\n",
       "      height: 32px;\n",
       "      padding: 0 0 0 0;\n",
       "      width: 32px;\n",
       "    }\n",
       "\n",
       "    .colab-df-convert:hover {\n",
       "      background-color: #E2EBFA;\n",
       "      box-shadow: 0px 1px 2px rgba(60, 64, 67, 0.3), 0px 1px 3px 1px rgba(60, 64, 67, 0.15);\n",
       "      fill: #174EA6;\n",
       "    }\n",
       "\n",
       "    [theme=dark] .colab-df-convert {\n",
       "      background-color: #3B4455;\n",
       "      fill: #D2E3FC;\n",
       "    }\n",
       "\n",
       "    [theme=dark] .colab-df-convert:hover {\n",
       "      background-color: #434B5C;\n",
       "      box-shadow: 0px 1px 3px 1px rgba(0, 0, 0, 0.15);\n",
       "      filter: drop-shadow(0px 1px 2px rgba(0, 0, 0, 0.3));\n",
       "      fill: #FFFFFF;\n",
       "    }\n",
       "  </style>\n",
       "\n",
       "      <script>\n",
       "        const buttonEl =\n",
       "          document.querySelector('#df-2ba5ca47-962f-4fbd-87e5-9fcfc31dfcc1 button.colab-df-convert');\n",
       "        buttonEl.style.display =\n",
       "          google.colab.kernel.accessAllowed ? 'block' : 'none';\n",
       "\n",
       "        async function convertToInteractive(key) {\n",
       "          const element = document.querySelector('#df-2ba5ca47-962f-4fbd-87e5-9fcfc31dfcc1');\n",
       "          const dataTable =\n",
       "            await google.colab.kernel.invokeFunction('convertToInteractive',\n",
       "                                                     [key], {});\n",
       "          if (!dataTable) return;\n",
       "\n",
       "          const docLinkHtml = 'Like what you see? Visit the ' +\n",
       "            '<a target=\"_blank\" href=https://colab.research.google.com/notebooks/data_table.ipynb>data table notebook</a>'\n",
       "            + ' to learn more about interactive tables.';\n",
       "          element.innerHTML = '';\n",
       "          dataTable['output_type'] = 'display_data';\n",
       "          await google.colab.output.renderOutput(dataTable, element);\n",
       "          const docLink = document.createElement('div');\n",
       "          docLink.innerHTML = docLinkHtml;\n",
       "          element.appendChild(docLink);\n",
       "        }\n",
       "      </script>\n",
       "    </div>\n",
       "  </div>\n",
       "  "
      ],
      "text/plain": [
       "                  state  serviceCharge                     heatingType  \\\n",
       "0   Nordrhein_Westfalen          245.0                 central_heating   \n",
       "2               Sachsen          255.0                   floor_heating   \n",
       "4                Bremen          138.0  self_contained_central_heating   \n",
       "6               Sachsen           70.0  self_contained_central_heating   \n",
       "7                Bremen           88.0                 central_heating   \n",
       "8     Baden_Württemberg          110.0                     oil_heating   \n",
       "10              Sachsen           88.0                 central_heating   \n",
       "11              Sachsen          155.0                 central_heating   \n",
       "12      Rheinland_Pfalz          270.0                     oil_heating   \n",
       "13  Nordrhein_Westfalen          200.0                 central_heating   \n",
       "\n",
       "    newlyConst  balcony  totalRent  yearConstructed  hasKitchen  cellar  \\\n",
       "0        False    False     840.00      1965.000000       False    True   \n",
       "2         True     True    1300.00      2019.000000       False    True   \n",
       "4        False     True     903.00      1950.000000       False   False   \n",
       "6        False    False     380.00      1967.182693       False    True   \n",
       "7        False     True     584.25      1959.000000       False    True   \n",
       "8        False    False     690.00      1970.000000        True    True   \n",
       "10       False     True     307.00      1930.000000       False    True   \n",
       "11       False    False     555.00      1892.000000       False    True   \n",
       "12       False    False     920.00      1912.000000       False   False   \n",
       "13       False    False    1150.00      1951.000000       False   False   \n",
       "\n",
       "    baseRent  livingSpace                           condition   lift  \\\n",
       "0     595.00        86.00                           well_kept  False   \n",
       "2     965.00        83.80                      first_time_use   True   \n",
       "4     765.00        84.97                         refurbished  False   \n",
       "6     310.00        62.00                     fully_renovated  False   \n",
       "7     452.25        60.30                               other  False   \n",
       "8     580.00        53.00                           well_kept  False   \n",
       "10    219.00        40.20                               other  False   \n",
       "11    400.00        80.00                           well_kept  False   \n",
       "12    650.00       100.00                      mint_condition  False   \n",
       "13    950.00       123.44  first_time_use_after_refurbishment  False   \n",
       "\n",
       "    baseRentRange    typeOfFlat  noRooms     floor  garden  \\\n",
       "0               4  ground_floor      4.0  1.000000    True   \n",
       "2               6     apartment      3.0  3.000000   False   \n",
       "4               5     apartment      3.0  1.000000   False   \n",
       "6               2     apartment      2.0  1.000000    True   \n",
       "7               3  ground_floor      3.0  2.060264   False   \n",
       "8               4   roof_storey      2.0  2.000000   False   \n",
       "10              1     apartment      2.0  3.000000   False   \n",
       "11              2     apartment      3.0  1.000000    True   \n",
       "12              5  ground_floor      4.0  2.060264    True   \n",
       "13              6     apartment      4.0  4.000000   False   \n",
       "\n",
       "                         city  \n",
       "0                    Dortmund  \n",
       "2                     Dresden  \n",
       "4                      Bremen  \n",
       "6         Mittelsachsen_Kreis  \n",
       "7                      Bremen  \n",
       "8           Emmendingen_Kreis  \n",
       "10                   Chemnitz  \n",
       "11        Mittelsachsen_Kreis  \n",
       "12  Südliche_Weinstraße_Kreis  \n",
       "13                       Hamm  "
      ]
     },
     "execution_count": 28,
     "metadata": {},
     "output_type": "execute_result"
    }
   ],
   "source": [
    "immo.head(10)"
   ]
  },
  {
   "cell_type": "markdown",
   "metadata": {
    "id": "7a8GFxFkhs3N"
   },
   "source": [
    "## Data visualization\n",
    "\n",
    "\n",
    "1.   TotalRent range distribution\n",
    "2.   Living space distribution\n",
    "3. How many properties are there in each state?\n",
    "4. Top 10 cities having the most property\n",
    "5.  Top 10 cities having the most total rent"
   ]
  },
  {
   "cell_type": "markdown",
   "metadata": {
    "id": "FXNZclWgkAjt"
   },
   "source": [
    "1. TotalRent range distribution"
   ]
  },
  {
   "cell_type": "code",
   "execution_count": 29,
   "metadata": {
    "colab": {
     "base_uri": "https://localhost:8080/",
     "height": 460
    },
    "id": "Nh5f44shixrL",
    "outputId": "0449f21a-8d73-42cf-bdcb-870cb60f9aff"
   },
   "outputs": [
    {
     "name": "stderr",
     "output_type": "stream",
     "text": [
      "/usr/local/lib/python3.7/dist-packages/seaborn/distributions.py:2619: FutureWarning: `distplot` is a deprecated function and will be removed in a future version. Please adapt your code to use either `displot` (a figure-level function with similar flexibility) or `histplot` (an axes-level function for histograms).\n",
      "  warnings.warn(msg, FutureWarning)\n"
     ]
    },
    {
     "data": {
      "text/plain": [
       "<matplotlib.axes._subplots.AxesSubplot at 0x7fc9163b2850>"
      ]
     },
     "execution_count": 29,
     "metadata": {},
     "output_type": "execute_result"
    },
    {
     "data": {
      "image/png": "[encoded data removed]",
      "text/plain": [
       "<Figure size 720x432 with 1 Axes>"
      ]
     },
     "metadata": {
      "needs_background": "light"
     },
     "output_type": "display_data"
    }
   ],
   "source": [
    "#TotalRent range distribution plot\n",
    "from scipy.stats import norm\n",
    "fig,ax = plt.subplots(figsize=(10,6))\n",
    "sns.distplot(a=immo.totalRent,kde= False, fit=norm)"
   ]
  },
  {
   "cell_type": "code",
   "execution_count": 30,
   "metadata": {
    "colab": {
     "base_uri": "https://localhost:8080/",
     "height": 460
    },
    "id": "BoKLQuYohZKq",
    "outputId": "bd04f463-165f-4c80-892f-0b7f56c91327"
   },
   "outputs": [
    {
     "name": "stderr",
     "output_type": "stream",
     "text": [
      "/usr/local/lib/python3.7/dist-packages/seaborn/distributions.py:2619: FutureWarning: `distplot` is a deprecated function and will be removed in a future version. Please adapt your code to use either `displot` (a figure-level function with similar flexibility) or `histplot` (an axes-level function for histograms).\n",
      "  warnings.warn(msg, FutureWarning)\n"
     ]
    },
    {
     "data": {
      "text/plain": [
       "(0.0, 2500.0)"
      ]
     },
     "execution_count": 30,
     "metadata": {},
     "output_type": "execute_result"
    },
    {
     "data": {
      "image/png": "[encoded data removed]",
      "text/plain": [
       "<Figure size 720x432 with 1 Axes>"
      ]
     },
     "metadata": {
      "needs_background": "light"
     },
     "output_type": "display_data"
    }
   ],
   "source": [
    "#totalRent in range (0, 2500) distribution  \n",
    "from scipy.stats import norm\n",
    "fig,ax = plt.subplots(figsize=(10,6))\n",
    "sns.distplot(immo['totalRent'],fit=norm, bins=2000)\n",
    "ax.set_xlim(0, 2500)"
   ]
  },
  {
   "cell_type": "markdown",
   "metadata": {
    "id": "PdRznnshjMB5"
   },
   "source": [
    "The plot shows that:\n",
    "\n",
    "There is a right-skewed distribution on totalRent\n",
    "\n",
    "TotalRent factor has an unstable distribution"
   ]
  },
  {
   "cell_type": "code",
   "execution_count": 31,
   "metadata": {
    "id": "vwE0_yvjjT9a"
   },
   "outputs": [],
   "source": [
    "#Log transformation\n",
    "immo['TRent_log'] = np.log(immo.totalRent+1)"
   ]
  },
  {
   "cell_type": "code",
   "execution_count": 32,
   "metadata": {
    "colab": {
     "base_uri": "https://localhost:8080/",
     "height": 479
    },
    "id": "UwpLQSEHjh8Q",
    "outputId": "69e38283-d41a-484d-eb6c-2f795394ebba"
   },
   "outputs": [
    {
     "name": "stderr",
     "output_type": "stream",
     "text": [
      "/usr/local/lib/python3.7/dist-packages/seaborn/distributions.py:2619: FutureWarning: `distplot` is a deprecated function and will be removed in a future version. Please adapt your code to use either `displot` (a figure-level function with similar flexibility) or `histplot` (an axes-level function for histograms).\n",
      "  warnings.warn(msg, FutureWarning)\n"
     ]
    },
    {
     "data": {
      "text/plain": [
       "Text(0.5, 1.0, 'Log-TotalPrice  Distribution Plot')"
      ]
     },
     "execution_count": 32,
     "metadata": {},
     "output_type": "execute_result"
    },
    {
     "data": {
      "image/png": "[encoded data removed]",
      "text/plain": [
       "<Figure size 720x432 with 1 Axes>"
      ]
     },
     "metadata": {
      "needs_background": "light"
     },
     "output_type": "display_data"
    }
   ],
   "source": [
    "plt.figure(figsize=(10,6))\n",
    "sns.distplot(immo['TRent_log'], fit=norm)\n",
    "plt.title(\"Log-TotalPrice  Distribution Plot\",size=15, weight='bold')"
   ]
  },
  {
   "cell_type": "markdown",
   "metadata": {
    "id": "5QOzRcejj23d"
   },
   "source": [
    "With log transformation, TotalRent feature has normal distribution."
   ]
  },
  {
   "cell_type": "markdown",
   "metadata": {
    "id": "-Rf6b05iwpy0"
   },
   "source": [
    "2. Living space distribution\n"
   ]
  },
  {
   "cell_type": "code",
   "execution_count": 33,
   "metadata": {
    "colab": {
     "base_uri": "https://localhost:8080/",
     "height": 460
    },
    "id": "5ebcS3MuiDfg",
    "outputId": "66502e03-1867-41bb-9702-37f6872b1639"
   },
   "outputs": [
    {
     "name": "stderr",
     "output_type": "stream",
     "text": [
      "/usr/local/lib/python3.7/dist-packages/seaborn/distributions.py:2619: FutureWarning: `distplot` is a deprecated function and will be removed in a future version. Please adapt your code to use either `displot` (a figure-level function with similar flexibility) or `histplot` (an axes-level function for histograms).\n",
      "  warnings.warn(msg, FutureWarning)\n"
     ]
    },
    {
     "data": {
      "text/plain": [
       "(0.0, 300.0)"
      ]
     },
     "execution_count": 33,
     "metadata": {},
     "output_type": "execute_result"
    },
    {
     "data": {
      "image/png": "[encoded data removed]",
      "text/plain": [
       "<Figure size 720x432 with 1 Axes>"
      ]
     },
     "metadata": {
      "needs_background": "light"
     },
     "output_type": "display_data"
    }
   ],
   "source": [
    "fig,ax = plt.subplots(figsize=(10,6))\n",
    "sns.distplot(immo['livingSpace'],fit=norm)\n",
    "ax.set_xlim(0, 300)"
   ]
  },
  {
   "cell_type": "markdown",
   "metadata": {
    "id": "7U3M4Yfzj8pc"
   },
   "source": [
    "3. How many properties are there in each state?"
   ]
  },
  {
   "cell_type": "code",
   "execution_count": 34,
   "metadata": {
    "colab": {
     "base_uri": "https://localhost:8080/"
    },
    "id": "549xJsiIiw1m",
    "outputId": "eb647c93-57b5-4164-baaa-b4a06612b2b6"
   },
   "outputs": [
    {
     "data": {
      "text/plain": [
       "array(['Nordrhein_Westfalen', 'Sachsen', 'Bremen', 'Baden_Württemberg',\n",
       "       'Rheinland_Pfalz', 'Thüringen', 'Hessen', 'Niedersachsen',\n",
       "       'Schleswig_Holstein', 'Bayern', 'Hamburg', 'Sachsen_Anhalt',\n",
       "       'Mecklenburg_Vorpommern', 'Berlin', 'Brandenburg', 'Saarland'],\n",
       "      dtype=object)"
      ]
     },
     "execution_count": 34,
     "metadata": {},
     "output_type": "execute_result"
    }
   ],
   "source": [
    "#How many states are there?\n",
    "immo.state.unique()"
   ]
  },
  {
   "cell_type": "code",
   "execution_count": 35,
   "metadata": {
    "colab": {
     "base_uri": "https://localhost:8080/",
     "height": 551
    },
    "id": "YWkmKN3NjnAB",
    "outputId": "6d303728-f24d-40ab-a0e9-3a26a66a3c06"
   },
   "outputs": [
    {
     "data": {
      "text/html": [
       "\n",
       "  <div id=\"df-468ecc35-84d3-45bb-9fa9-a54b36a9af9e\">\n",
       "    <div class=\"colab-df-container\">\n",
       "      <div>\n",
       "<style scoped>\n",
       "    .dataframe tbody tr th:only-of-type {\n",
       "        vertical-align: middle;\n",
       "    }\n",
       "\n",
       "    .dataframe tbody tr th {\n",
       "        vertical-align: top;\n",
       "    }\n",
       "\n",
       "    .dataframe thead th {\n",
       "        text-align: right;\n",
       "    }\n",
       "</style>\n",
       "<table border=\"1\" class=\"dataframe\">\n",
       "  <thead>\n",
       "    <tr style=\"text-align: right;\">\n",
       "      <th></th>\n",
       "      <th>state</th>\n",
       "      <th>count</th>\n",
       "    </tr>\n",
       "  </thead>\n",
       "  <tbody>\n",
       "    <tr>\n",
       "      <th>0</th>\n",
       "      <td>Baden_Württemberg</td>\n",
       "      <td>12670</td>\n",
       "    </tr>\n",
       "    <tr>\n",
       "      <th>1</th>\n",
       "      <td>Bayern</td>\n",
       "      <td>17058</td>\n",
       "    </tr>\n",
       "    <tr>\n",
       "      <th>2</th>\n",
       "      <td>Berlin</td>\n",
       "      <td>8632</td>\n",
       "    </tr>\n",
       "    <tr>\n",
       "      <th>3</th>\n",
       "      <td>Brandenburg</td>\n",
       "      <td>6175</td>\n",
       "    </tr>\n",
       "    <tr>\n",
       "      <th>4</th>\n",
       "      <td>Bremen</td>\n",
       "      <td>2455</td>\n",
       "    </tr>\n",
       "    <tr>\n",
       "      <th>5</th>\n",
       "      <td>Hamburg</td>\n",
       "      <td>3069</td>\n",
       "    </tr>\n",
       "    <tr>\n",
       "      <th>6</th>\n",
       "      <td>Hessen</td>\n",
       "      <td>13562</td>\n",
       "    </tr>\n",
       "    <tr>\n",
       "      <th>7</th>\n",
       "      <td>Mecklenburg_Vorpommern</td>\n",
       "      <td>5751</td>\n",
       "    </tr>\n",
       "    <tr>\n",
       "      <th>8</th>\n",
       "      <td>Niedersachsen</td>\n",
       "      <td>11983</td>\n",
       "    </tr>\n",
       "    <tr>\n",
       "      <th>9</th>\n",
       "      <td>Nordrhein_Westfalen</td>\n",
       "      <td>49315</td>\n",
       "    </tr>\n",
       "    <tr>\n",
       "      <th>10</th>\n",
       "      <td>Rheinland_Pfalz</td>\n",
       "      <td>6411</td>\n",
       "    </tr>\n",
       "    <tr>\n",
       "      <th>11</th>\n",
       "      <td>Saarland</td>\n",
       "      <td>1008</td>\n",
       "    </tr>\n",
       "    <tr>\n",
       "      <th>12</th>\n",
       "      <td>Sachsen</td>\n",
       "      <td>49307</td>\n",
       "    </tr>\n",
       "    <tr>\n",
       "      <th>13</th>\n",
       "      <td>Sachsen_Anhalt</td>\n",
       "      <td>16931</td>\n",
       "    </tr>\n",
       "    <tr>\n",
       "      <th>14</th>\n",
       "      <td>Schleswig_Holstein</td>\n",
       "      <td>5707</td>\n",
       "    </tr>\n",
       "    <tr>\n",
       "      <th>15</th>\n",
       "      <td>Thüringen</td>\n",
       "      <td>7064</td>\n",
       "    </tr>\n",
       "  </tbody>\n",
       "</table>\n",
       "</div>\n",
       "      <button class=\"colab-df-convert\" onclick=\"convertToInteractive('df-468ecc35-84d3-45bb-9fa9-a54b36a9af9e')\"\n",
       "              title=\"Convert this dataframe to an interactive table.\"\n",
       "              style=\"display:none;\">\n",
       "        \n",
       "  <svg xmlns=\"http://www.w3.org/2000/svg\" height=\"24px\"viewBox=\"0 0 24 24\"\n",
       "       width=\"24px\">\n",
       "    <path d=\"M0 0h24v24H0V0z\" fill=\"none\"/>\n",
       "    <path d=\"M18.56 5.44l.94 2.06.94-2.06 2.06-.94-2.06-.94-.94-2.06-.94 2.06-2.06.94zm-11 1L8.5 8.5l.94-2.06 2.06-.94-2.06-.94L8.5 2.5l-.94 2.06-2.06.94zm10 10l.94 2.06.94-2.06 2.06-.94-2.06-.94-.94-2.06-.94 2.06-2.06.94z\"/><path d=\"M17.41 7.96l-1.37-1.37c-.4-.4-.92-.59-1.43-.59-.52 0-1.04.2-1.43.59L10.3 9.45l-7.72 7.72c-.78.78-.78 2.05 0 2.83L4 21.41c.39.39.9.59 1.41.59.51 0 1.02-.2 1.41-.59l7.78-7.78 2.81-2.81c.8-.78.8-2.07 0-2.86zM5.41 20L4 18.59l7.72-7.72 1.47 1.35L5.41 20z\"/>\n",
       "  </svg>\n",
       "      </button>\n",
       "      \n",
       "  <style>\n",
       "    .colab-df-container {\n",
       "      display:flex;\n",
       "      flex-wrap:wrap;\n",
       "      gap: 12px;\n",
       "    }\n",
       "\n",
       "    .colab-df-convert {\n",
       "      background-color: #E8F0FE;\n",
       "      border: none;\n",
       "      border-radius: 50%;\n",
       "      cursor: pointer;\n",
       "      display: none;\n",
       "      fill: #1967D2;\n",
       "      height: 32px;\n",
       "      padding: 0 0 0 0;\n",
       "      width: 32px;\n",
       "    }\n",
       "\n",
       "    .colab-df-convert:hover {\n",
       "      background-color: #E2EBFA;\n",
       "      box-shadow: 0px 1px 2px rgba(60, 64, 67, 0.3), 0px 1px 3px 1px rgba(60, 64, 67, 0.15);\n",
       "      fill: #174EA6;\n",
       "    }\n",
       "\n",
       "    [theme=dark] .colab-df-convert {\n",
       "      background-color: #3B4455;\n",
       "      fill: #D2E3FC;\n",
       "    }\n",
       "\n",
       "    [theme=dark] .colab-df-convert:hover {\n",
       "      background-color: #434B5C;\n",
       "      box-shadow: 0px 1px 3px 1px rgba(0, 0, 0, 0.15);\n",
       "      filter: drop-shadow(0px 1px 2px rgba(0, 0, 0, 0.3));\n",
       "      fill: #FFFFFF;\n",
       "    }\n",
       "  </style>\n",
       "\n",
       "      <script>\n",
       "        const buttonEl =\n",
       "          document.querySelector('#df-468ecc35-84d3-45bb-9fa9-a54b36a9af9e button.colab-df-convert');\n",
       "        buttonEl.style.display =\n",
       "          google.colab.kernel.accessAllowed ? 'block' : 'none';\n",
       "\n",
       "        async function convertToInteractive(key) {\n",
       "          const element = document.querySelector('#df-468ecc35-84d3-45bb-9fa9-a54b36a9af9e');\n",
       "          const dataTable =\n",
       "            await google.colab.kernel.invokeFunction('convertToInteractive',\n",
       "                                                     [key], {});\n",
       "          if (!dataTable) return;\n",
       "\n",
       "          const docLinkHtml = 'Like what you see? Visit the ' +\n",
       "            '<a target=\"_blank\" href=https://colab.research.google.com/notebooks/data_table.ipynb>data table notebook</a>'\n",
       "            + ' to learn more about interactive tables.';\n",
       "          element.innerHTML = '';\n",
       "          dataTable['output_type'] = 'display_data';\n",
       "          await google.colab.output.renderOutput(dataTable, element);\n",
       "          const docLink = document.createElement('div');\n",
       "          docLink.innerHTML = docLinkHtml;\n",
       "          element.appendChild(docLink);\n",
       "        }\n",
       "      </script>\n",
       "    </div>\n",
       "  </div>\n",
       "  "
      ],
      "text/plain": [
       "                     state  count\n",
       "0        Baden_Württemberg  12670\n",
       "1                   Bayern  17058\n",
       "2                   Berlin   8632\n",
       "3              Brandenburg   6175\n",
       "4                   Bremen   2455\n",
       "5                  Hamburg   3069\n",
       "6                   Hessen  13562\n",
       "7   Mecklenburg_Vorpommern   5751\n",
       "8            Niedersachsen  11983\n",
       "9      Nordrhein_Westfalen  49315\n",
       "10         Rheinland_Pfalz   6411\n",
       "11                Saarland   1008\n",
       "12                 Sachsen  49307\n",
       "13          Sachsen_Anhalt  16931\n",
       "14      Schleswig_Holstein   5707\n",
       "15               Thüringen   7064"
      ]
     },
     "execution_count": 35,
     "metadata": {},
     "output_type": "execute_result"
    }
   ],
   "source": [
    "# How many properties are there in each state?\n",
    "statecount = immo.groupby('state').size()\n",
    "state_count = pd.DataFrame({'count' : statecount}).reset_index()\n",
    "state_count"
   ]
  },
  {
   "cell_type": "code",
   "execution_count": 36,
   "metadata": {
    "colab": {
     "base_uri": "https://localhost:8080/",
     "height": 569
    },
    "id": "xoy_LK0VkMWP",
    "outputId": "fc546451-f3fd-4752-db27-521f6e8de78b"
   },
   "outputs": [
    {
     "name": "stderr",
     "output_type": "stream",
     "text": [
      "/usr/local/lib/python3.7/dist-packages/seaborn/_decorators.py:43: FutureWarning: Pass the following variable as a keyword arg: x. From version 0.12, the only valid positional argument will be `data`, and passing other arguments without an explicit keyword will result in an error or misinterpretation.\n",
      "  FutureWarning\n"
     ]
    },
    {
     "data": {
      "text/plain": [
       "(array([ 0,  1,  2,  3,  4,  5,  6,  7,  8,  9, 10, 11, 12, 13, 14, 15]),\n",
       " <a list of 16 Text major ticklabel objects>)"
      ]
     },
     "execution_count": 36,
     "metadata": {},
     "output_type": "execute_result"
    },
    {
     "data": {
      "image/png": "[encoded data removed]",
      "text/plain": [
       "<Figure size 864x432 with 1 Axes>"
      ]
     },
     "metadata": {
      "needs_background": "light"
     },
     "output_type": "display_data"
    }
   ],
   "source": [
    "from IPython.core.pylabtools import figsize\n",
    "plt.figure(figsize=(12, 6))\n",
    "#sns.catplot(x='state', kind=\"count\", data= immo)\n",
    "\n",
    "sns.countplot(immo[\"state\"] ,order = immo['state'].value_counts().index )\n",
    "plt.xticks(rotation = 45)\n"
   ]
  },
  {
   "cell_type": "markdown",
   "metadata": {
    "id": "IXAFHpnmmDsi"
   },
   "source": [
    "The plot shows that Nordrhein_ Westfalen is the state having the most properties in immo."
   ]
  },
  {
   "cell_type": "markdown",
   "metadata": {
    "id": "ADkF8dLqnb3I"
   },
   "source": [
    "4. Top 10 cities having the most property"
   ]
  },
  {
   "cell_type": "code",
   "execution_count": 37,
   "metadata": {
    "colab": {
     "base_uri": "https://localhost:8080/"
    },
    "id": "w1HR2nbYkUq8",
    "outputId": "2d84c625-1851-4c30-ac11-2d495cc16181"
   },
   "outputs": [
    {
     "data": {
      "text/plain": [
       "Leipzig              11985\n",
       "Chemnitz             10703\n",
       "Berlin                8632\n",
       "Dresden               6074\n",
       "Magdeburg             4380\n",
       "Halle_Saale           3714\n",
       "Essen                 3488\n",
       "Frankfurt_am_Main     3077\n",
       "Hamburg               3069\n",
       "München               2965\n",
       "Name: city, dtype: int64"
      ]
     },
     "execution_count": 37,
     "metadata": {},
     "output_type": "execute_result"
    }
   ],
   "source": [
    "#Top 10 cities having the most property \n",
    "top_city=immo.city.value_counts().head(10)\n",
    "top_city"
   ]
  },
  {
   "cell_type": "code",
   "execution_count": 38,
   "metadata": {
    "colab": {
     "base_uri": "https://localhost:8080/",
     "height": 363
    },
    "id": "mDS9bsCGp-m3",
    "outputId": "39d64e10-011e-4b13-94c2-76d699fbc49b"
   },
   "outputs": [
    {
     "data": {
      "text/html": [
       "\n",
       "  <div id=\"df-0671ae55-aca9-47ed-9662-4a62ce11ac79\">\n",
       "    <div class=\"colab-df-container\">\n",
       "      <div>\n",
       "<style scoped>\n",
       "    .dataframe tbody tr th:only-of-type {\n",
       "        vertical-align: middle;\n",
       "    }\n",
       "\n",
       "    .dataframe tbody tr th {\n",
       "        vertical-align: top;\n",
       "    }\n",
       "\n",
       "    .dataframe thead th {\n",
       "        text-align: right;\n",
       "    }\n",
       "</style>\n",
       "<table border=\"1\" class=\"dataframe\">\n",
       "  <thead>\n",
       "    <tr style=\"text-align: right;\">\n",
       "      <th></th>\n",
       "      <th>City</th>\n",
       "      <th>Count</th>\n",
       "    </tr>\n",
       "  </thead>\n",
       "  <tbody>\n",
       "    <tr>\n",
       "      <th>0</th>\n",
       "      <td>Leipzig</td>\n",
       "      <td>11985</td>\n",
       "    </tr>\n",
       "    <tr>\n",
       "      <th>1</th>\n",
       "      <td>Chemnitz</td>\n",
       "      <td>10703</td>\n",
       "    </tr>\n",
       "    <tr>\n",
       "      <th>2</th>\n",
       "      <td>Berlin</td>\n",
       "      <td>8632</td>\n",
       "    </tr>\n",
       "    <tr>\n",
       "      <th>3</th>\n",
       "      <td>Dresden</td>\n",
       "      <td>6074</td>\n",
       "    </tr>\n",
       "    <tr>\n",
       "      <th>4</th>\n",
       "      <td>Magdeburg</td>\n",
       "      <td>4380</td>\n",
       "    </tr>\n",
       "    <tr>\n",
       "      <th>5</th>\n",
       "      <td>Halle_Saale</td>\n",
       "      <td>3714</td>\n",
       "    </tr>\n",
       "    <tr>\n",
       "      <th>6</th>\n",
       "      <td>Essen</td>\n",
       "      <td>3488</td>\n",
       "    </tr>\n",
       "    <tr>\n",
       "      <th>7</th>\n",
       "      <td>Frankfurt_am_Main</td>\n",
       "      <td>3077</td>\n",
       "    </tr>\n",
       "    <tr>\n",
       "      <th>8</th>\n",
       "      <td>Hamburg</td>\n",
       "      <td>3069</td>\n",
       "    </tr>\n",
       "    <tr>\n",
       "      <th>9</th>\n",
       "      <td>München</td>\n",
       "      <td>2965</td>\n",
       "    </tr>\n",
       "  </tbody>\n",
       "</table>\n",
       "</div>\n",
       "      <button class=\"colab-df-convert\" onclick=\"convertToInteractive('df-0671ae55-aca9-47ed-9662-4a62ce11ac79')\"\n",
       "              title=\"Convert this dataframe to an interactive table.\"\n",
       "              style=\"display:none;\">\n",
       "        \n",
       "  <svg xmlns=\"http://www.w3.org/2000/svg\" height=\"24px\"viewBox=\"0 0 24 24\"\n",
       "       width=\"24px\">\n",
       "    <path d=\"M0 0h24v24H0V0z\" fill=\"none\"/>\n",
       "    <path d=\"M18.56 5.44l.94 2.06.94-2.06 2.06-.94-2.06-.94-.94-2.06-.94 2.06-2.06.94zm-11 1L8.5 8.5l.94-2.06 2.06-.94-2.06-.94L8.5 2.5l-.94 2.06-2.06.94zm10 10l.94 2.06.94-2.06 2.06-.94-2.06-.94-.94-2.06-.94 2.06-2.06.94z\"/><path d=\"M17.41 7.96l-1.37-1.37c-.4-.4-.92-.59-1.43-.59-.52 0-1.04.2-1.43.59L10.3 9.45l-7.72 7.72c-.78.78-.78 2.05 0 2.83L4 21.41c.39.39.9.59 1.41.59.51 0 1.02-.2 1.41-.59l7.78-7.78 2.81-2.81c.8-.78.8-2.07 0-2.86zM5.41 20L4 18.59l7.72-7.72 1.47 1.35L5.41 20z\"/>\n",
       "  </svg>\n",
       "      </button>\n",
       "      \n",
       "  <style>\n",
       "    .colab-df-container {\n",
       "      display:flex;\n",
       "      flex-wrap:wrap;\n",
       "      gap: 12px;\n",
       "    }\n",
       "\n",
       "    .colab-df-convert {\n",
       "      background-color: #E8F0FE;\n",
       "      border: none;\n",
       "      border-radius: 50%;\n",
       "      cursor: pointer;\n",
       "      display: none;\n",
       "      fill: #1967D2;\n",
       "      height: 32px;\n",
       "      padding: 0 0 0 0;\n",
       "      width: 32px;\n",
       "    }\n",
       "\n",
       "    .colab-df-convert:hover {\n",
       "      background-color: #E2EBFA;\n",
       "      box-shadow: 0px 1px 2px rgba(60, 64, 67, 0.3), 0px 1px 3px 1px rgba(60, 64, 67, 0.15);\n",
       "      fill: #174EA6;\n",
       "    }\n",
       "\n",
       "    [theme=dark] .colab-df-convert {\n",
       "      background-color: #3B4455;\n",
       "      fill: #D2E3FC;\n",
       "    }\n",
       "\n",
       "    [theme=dark] .colab-df-convert:hover {\n",
       "      background-color: #434B5C;\n",
       "      box-shadow: 0px 1px 3px 1px rgba(0, 0, 0, 0.15);\n",
       "      filter: drop-shadow(0px 1px 2px rgba(0, 0, 0, 0.3));\n",
       "      fill: #FFFFFF;\n",
       "    }\n",
       "  </style>\n",
       "\n",
       "      <script>\n",
       "        const buttonEl =\n",
       "          document.querySelector('#df-0671ae55-aca9-47ed-9662-4a62ce11ac79 button.colab-df-convert');\n",
       "        buttonEl.style.display =\n",
       "          google.colab.kernel.accessAllowed ? 'block' : 'none';\n",
       "\n",
       "        async function convertToInteractive(key) {\n",
       "          const element = document.querySelector('#df-0671ae55-aca9-47ed-9662-4a62ce11ac79');\n",
       "          const dataTable =\n",
       "            await google.colab.kernel.invokeFunction('convertToInteractive',\n",
       "                                                     [key], {});\n",
       "          if (!dataTable) return;\n",
       "\n",
       "          const docLinkHtml = 'Like what you see? Visit the ' +\n",
       "            '<a target=\"_blank\" href=https://colab.research.google.com/notebooks/data_table.ipynb>data table notebook</a>'\n",
       "            + ' to learn more about interactive tables.';\n",
       "          element.innerHTML = '';\n",
       "          dataTable['output_type'] = 'display_data';\n",
       "          await google.colab.output.renderOutput(dataTable, element);\n",
       "          const docLink = document.createElement('div');\n",
       "          docLink.innerHTML = docLinkHtml;\n",
       "          element.appendChild(docLink);\n",
       "        }\n",
       "      </script>\n",
       "    </div>\n",
       "  </div>\n",
       "  "
      ],
      "text/plain": [
       "                City  Count\n",
       "0            Leipzig  11985\n",
       "1           Chemnitz  10703\n",
       "2             Berlin   8632\n",
       "3            Dresden   6074\n",
       "4          Magdeburg   4380\n",
       "5        Halle_Saale   3714\n",
       "6              Essen   3488\n",
       "7  Frankfurt_am_Main   3077\n",
       "8            Hamburg   3069\n",
       "9            München   2965"
      ]
     },
     "execution_count": 38,
     "metadata": {},
     "output_type": "execute_result"
    }
   ],
   "source": [
    "# turning to data frame\n",
    "top_city_df=pd.DataFrame(top_city)\n",
    "top_city_df.reset_index(inplace=True)\n",
    "top_city_df.rename(columns={'index':'City', 'city':'Count'}, inplace=True)\n",
    "top_city_df"
   ]
  },
  {
   "cell_type": "code",
   "execution_count": 39,
   "metadata": {
    "colab": {
     "base_uri": "https://localhost:8080/",
     "height": 488
    },
    "id": "VP_nWISNsKps",
    "outputId": "aabea5f8-637f-440e-84bd-9142a0b83a12"
   },
   "outputs": [
    {
     "data": {
      "text/plain": [
       "(array([0, 1, 2, 3, 4, 5, 6, 7, 8, 9]),\n",
       " <a list of 10 Text major ticklabel objects>)"
      ]
     },
     "execution_count": 39,
     "metadata": {},
     "output_type": "execute_result"
    },
    {
     "data": {
      "image/png": "[encoded data removed]",
      "text/plain": [
       "<Figure size 864x432 with 1 Axes>"
      ]
     },
     "metadata": {
      "needs_background": "light"
     },
     "output_type": "display_data"
    }
   ],
   "source": [
    "#Histogram\n",
    "plt.figure(figsize=(12, 6))\n",
    "sns.barplot(x='City',y='Count', data=top_city_df , order=top_city_df.sort_values('Count',ascending = False).City)\n",
    "plt.xticks(rotation = 45)\n"
   ]
  },
  {
   "cell_type": "markdown",
   "metadata": {
    "id": "pfoALbw2nY8c"
   },
   "source": [
    "The plot shows the top 10 cities having the most properties in immo.\n",
    "\n",
    "Leipzing is the city having the most properties in immo."
   ]
  },
  {
   "cell_type": "markdown",
   "metadata": {
    "id": "bLOAGGaJw-NJ"
   },
   "source": [
    "5.  Top 10 cities having the most total rent"
   ]
  },
  {
   "cell_type": "code",
   "execution_count": 40,
   "metadata": {
    "colab": {
     "base_uri": "https://localhost:8080/"
    },
    "id": "FGZloiFZuLqu",
    "outputId": "b1292b7f-5749-4b84-b480-23d8e86d42e2"
   },
   "outputs": [
    {
     "data": {
      "text/plain": [
       "city\n",
       "München                   1508.230614\n",
       "Freiburg_im_Breisgau      1425.895500\n",
       "München_Kreis             1415.663138\n",
       "Starnberg_Kreis           1400.007814\n",
       "Frankfurt_am_Main         1334.584478\n",
       "Miesbach_Kreis            1323.147500\n",
       "Stuttgart                 1309.311071\n",
       "Ebersberg_Kreis           1270.423081\n",
       "Fürstenfeldbruck_Kreis    1265.542338\n",
       "Hamburg                   1252.689677\n",
       "Name: totalRent, dtype: float64"
      ]
     },
     "execution_count": 40,
     "metadata": {},
     "output_type": "execute_result"
    }
   ],
   "source": [
    "topCityPrice= immo[['city', 'totalRent']]\n",
    "topCityPrice = immo.groupby(['city'])[['totalRent']].mean()\n",
    "topCityPrice.totalRent.sort_values(ascending=False).head(10)"
   ]
  },
  {
   "cell_type": "code",
   "execution_count": 41,
   "metadata": {
    "colab": {
     "base_uri": "https://localhost:8080/",
     "height": 363
    },
    "id": "ZFjNeiwEyIwO",
    "outputId": "4ad3c511-2941-484e-a34b-df87f1713f56"
   },
   "outputs": [
    {
     "data": {
      "text/html": [
       "\n",
       "  <div id=\"df-2b0daf4c-08c7-463d-8322-669715cbfd62\">\n",
       "    <div class=\"colab-df-container\">\n",
       "      <div>\n",
       "<style scoped>\n",
       "    .dataframe tbody tr th:only-of-type {\n",
       "        vertical-align: middle;\n",
       "    }\n",
       "\n",
       "    .dataframe tbody tr th {\n",
       "        vertical-align: top;\n",
       "    }\n",
       "\n",
       "    .dataframe thead th {\n",
       "        text-align: right;\n",
       "    }\n",
       "</style>\n",
       "<table border=\"1\" class=\"dataframe\">\n",
       "  <thead>\n",
       "    <tr style=\"text-align: right;\">\n",
       "      <th></th>\n",
       "      <th>city</th>\n",
       "      <th>totalRent</th>\n",
       "    </tr>\n",
       "  </thead>\n",
       "  <tbody>\n",
       "    <tr>\n",
       "      <th>0</th>\n",
       "      <td>München</td>\n",
       "      <td>1508.230614</td>\n",
       "    </tr>\n",
       "    <tr>\n",
       "      <th>1</th>\n",
       "      <td>Freiburg_im_Breisgau</td>\n",
       "      <td>1425.895500</td>\n",
       "    </tr>\n",
       "    <tr>\n",
       "      <th>2</th>\n",
       "      <td>München_Kreis</td>\n",
       "      <td>1415.663138</td>\n",
       "    </tr>\n",
       "    <tr>\n",
       "      <th>3</th>\n",
       "      <td>Starnberg_Kreis</td>\n",
       "      <td>1400.007814</td>\n",
       "    </tr>\n",
       "    <tr>\n",
       "      <th>4</th>\n",
       "      <td>Frankfurt_am_Main</td>\n",
       "      <td>1334.584478</td>\n",
       "    </tr>\n",
       "    <tr>\n",
       "      <th>5</th>\n",
       "      <td>Miesbach_Kreis</td>\n",
       "      <td>1323.147500</td>\n",
       "    </tr>\n",
       "    <tr>\n",
       "      <th>6</th>\n",
       "      <td>Stuttgart</td>\n",
       "      <td>1309.311071</td>\n",
       "    </tr>\n",
       "    <tr>\n",
       "      <th>7</th>\n",
       "      <td>Ebersberg_Kreis</td>\n",
       "      <td>1270.423081</td>\n",
       "    </tr>\n",
       "    <tr>\n",
       "      <th>8</th>\n",
       "      <td>Fürstenfeldbruck_Kreis</td>\n",
       "      <td>1265.542338</td>\n",
       "    </tr>\n",
       "    <tr>\n",
       "      <th>9</th>\n",
       "      <td>Hamburg</td>\n",
       "      <td>1252.689677</td>\n",
       "    </tr>\n",
       "  </tbody>\n",
       "</table>\n",
       "</div>\n",
       "      <button class=\"colab-df-convert\" onclick=\"convertToInteractive('df-2b0daf4c-08c7-463d-8322-669715cbfd62')\"\n",
       "              title=\"Convert this dataframe to an interactive table.\"\n",
       "              style=\"display:none;\">\n",
       "        \n",
       "  <svg xmlns=\"http://www.w3.org/2000/svg\" height=\"24px\"viewBox=\"0 0 24 24\"\n",
       "       width=\"24px\">\n",
       "    <path d=\"M0 0h24v24H0V0z\" fill=\"none\"/>\n",
       "    <path d=\"M18.56 5.44l.94 2.06.94-2.06 2.06-.94-2.06-.94-.94-2.06-.94 2.06-2.06.94zm-11 1L8.5 8.5l.94-2.06 2.06-.94-2.06-.94L8.5 2.5l-.94 2.06-2.06.94zm10 10l.94 2.06.94-2.06 2.06-.94-2.06-.94-.94-2.06-.94 2.06-2.06.94z\"/><path d=\"M17.41 7.96l-1.37-1.37c-.4-.4-.92-.59-1.43-.59-.52 0-1.04.2-1.43.59L10.3 9.45l-7.72 7.72c-.78.78-.78 2.05 0 2.83L4 21.41c.39.39.9.59 1.41.59.51 0 1.02-.2 1.41-.59l7.78-7.78 2.81-2.81c.8-.78.8-2.07 0-2.86zM5.41 20L4 18.59l7.72-7.72 1.47 1.35L5.41 20z\"/>\n",
       "  </svg>\n",
       "      </button>\n",
       "      \n",
       "  <style>\n",
       "    .colab-df-container {\n",
       "      display:flex;\n",
       "      flex-wrap:wrap;\n",
       "      gap: 12px;\n",
       "    }\n",
       "\n",
       "    .colab-df-convert {\n",
       "      background-color: #E8F0FE;\n",
       "      border: none;\n",
       "      border-radius: 50%;\n",
       "      cursor: pointer;\n",
       "      display: none;\n",
       "      fill: #1967D2;\n",
       "      height: 32px;\n",
       "      padding: 0 0 0 0;\n",
       "      width: 32px;\n",
       "    }\n",
       "\n",
       "    .colab-df-convert:hover {\n",
       "      background-color: #E2EBFA;\n",
       "      box-shadow: 0px 1px 2px rgba(60, 64, 67, 0.3), 0px 1px 3px 1px rgba(60, 64, 67, 0.15);\n",
       "      fill: #174EA6;\n",
       "    }\n",
       "\n",
       "    [theme=dark] .colab-df-convert {\n",
       "      background-color: #3B4455;\n",
       "      fill: #D2E3FC;\n",
       "    }\n",
       "\n",
       "    [theme=dark] .colab-df-convert:hover {\n",
       "      background-color: #434B5C;\n",
       "      box-shadow: 0px 1px 3px 1px rgba(0, 0, 0, 0.15);\n",
       "      filter: drop-shadow(0px 1px 2px rgba(0, 0, 0, 0.3));\n",
       "      fill: #FFFFFF;\n",
       "    }\n",
       "  </style>\n",
       "\n",
       "      <script>\n",
       "        const buttonEl =\n",
       "          document.querySelector('#df-2b0daf4c-08c7-463d-8322-669715cbfd62 button.colab-df-convert');\n",
       "        buttonEl.style.display =\n",
       "          google.colab.kernel.accessAllowed ? 'block' : 'none';\n",
       "\n",
       "        async function convertToInteractive(key) {\n",
       "          const element = document.querySelector('#df-2b0daf4c-08c7-463d-8322-669715cbfd62');\n",
       "          const dataTable =\n",
       "            await google.colab.kernel.invokeFunction('convertToInteractive',\n",
       "                                                     [key], {});\n",
       "          if (!dataTable) return;\n",
       "\n",
       "          const docLinkHtml = 'Like what you see? Visit the ' +\n",
       "            '<a target=\"_blank\" href=https://colab.research.google.com/notebooks/data_table.ipynb>data table notebook</a>'\n",
       "            + ' to learn more about interactive tables.';\n",
       "          element.innerHTML = '';\n",
       "          dataTable['output_type'] = 'display_data';\n",
       "          await google.colab.output.renderOutput(dataTable, element);\n",
       "          const docLink = document.createElement('div');\n",
       "          docLink.innerHTML = docLinkHtml;\n",
       "          element.appendChild(docLink);\n",
       "        }\n",
       "      </script>\n",
       "    </div>\n",
       "  </div>\n",
       "  "
      ],
      "text/plain": [
       "                     city    totalRent\n",
       "0                 München  1508.230614\n",
       "1    Freiburg_im_Breisgau  1425.895500\n",
       "2           München_Kreis  1415.663138\n",
       "3         Starnberg_Kreis  1400.007814\n",
       "4       Frankfurt_am_Main  1334.584478\n",
       "5          Miesbach_Kreis  1323.147500\n",
       "6               Stuttgart  1309.311071\n",
       "7         Ebersberg_Kreis  1270.423081\n",
       "8  Fürstenfeldbruck_Kreis  1265.542338\n",
       "9                 Hamburg  1252.689677"
      ]
     },
     "execution_count": 41,
     "metadata": {},
     "output_type": "execute_result"
    }
   ],
   "source": [
    "#Turn to data frame\n",
    "topCityPrice_df=pd.DataFrame(topCityPrice.totalRent.sort_values(ascending=False).head(10))\n",
    "topCityPrice_df.reset_index(inplace=True)\n",
    "topCityPrice_df.rename(columns={'index':'City'}, inplace=True)\n",
    "topCityPrice_df"
   ]
  },
  {
   "cell_type": "code",
   "execution_count": 42,
   "metadata": {
    "colab": {
     "base_uri": "https://localhost:8080/",
     "height": 501
    },
    "id": "RsG-5Xb-zgOk",
    "outputId": "739ed36b-aa8a-497d-9782-2a3d19140e6b"
   },
   "outputs": [
    {
     "data": {
      "text/plain": [
       "(array([0, 1, 2, 3, 4, 5, 6, 7, 8, 9]),\n",
       " <a list of 10 Text major ticklabel objects>)"
      ]
     },
     "execution_count": 42,
     "metadata": {},
     "output_type": "execute_result"
    },
    {
     "data": {
      "image/png": "[encoded data removed]",
      "text/plain": [
       "<Figure size 864x432 with 1 Axes>"
      ]
     },
     "metadata": {
      "needs_background": "light"
     },
     "output_type": "display_data"
    }
   ],
   "source": [
    "# Histogram\n",
    "plt.figure(figsize=(12, 6))\n",
    "sns.barplot(x='city',y='totalRent', data = topCityPrice_df)\n",
    "plt.xticks(rotation = 45)"
   ]
  },
  {
   "cell_type": "markdown",
   "metadata": {
    "id": "JFj5v_YLoMSC"
   },
   "source": [
    "The plot shows the 10 cities having the most expensive properties in immo in descending order.\n",
    "\n",
    "Munchen is the city with the most expensive properties in immo."
   ]
  },
  {
   "cell_type": "code",
   "execution_count": 43,
   "metadata": {
    "colab": {
     "base_uri": "https://localhost:8080/",
     "height": 551
    },
    "id": "6eHf7OQLzv2X",
    "outputId": "d8ec0ff7-bc78-4a19-e3f0-558589b605fa"
   },
   "outputs": [
    {
     "data": {
      "text/html": [
       "\n",
       "  <div id=\"df-b755fc17-ea61-469d-8010-32bd6b1a74cd\">\n",
       "    <div class=\"colab-df-container\">\n",
       "      <div>\n",
       "<style scoped>\n",
       "    .dataframe tbody tr th:only-of-type {\n",
       "        vertical-align: middle;\n",
       "    }\n",
       "\n",
       "    .dataframe tbody tr th {\n",
       "        vertical-align: top;\n",
       "    }\n",
       "\n",
       "    .dataframe thead th {\n",
       "        text-align: right;\n",
       "    }\n",
       "</style>\n",
       "<table border=\"1\" class=\"dataframe\">\n",
       "  <thead>\n",
       "    <tr style=\"text-align: right;\">\n",
       "      <th></th>\n",
       "      <th>state</th>\n",
       "      <th>totalRent</th>\n",
       "    </tr>\n",
       "  </thead>\n",
       "  <tbody>\n",
       "    <tr>\n",
       "      <th>0</th>\n",
       "      <td>Baden_Württemberg</td>\n",
       "      <td>1066.514131</td>\n",
       "    </tr>\n",
       "    <tr>\n",
       "      <th>1</th>\n",
       "      <td>Bayern</td>\n",
       "      <td>1062.311375</td>\n",
       "    </tr>\n",
       "    <tr>\n",
       "      <th>2</th>\n",
       "      <td>Berlin</td>\n",
       "      <td>1170.526045</td>\n",
       "    </tr>\n",
       "    <tr>\n",
       "      <th>3</th>\n",
       "      <td>Brandenburg</td>\n",
       "      <td>667.153338</td>\n",
       "    </tr>\n",
       "    <tr>\n",
       "      <th>4</th>\n",
       "      <td>Bremen</td>\n",
       "      <td>764.048705</td>\n",
       "    </tr>\n",
       "    <tr>\n",
       "      <th>5</th>\n",
       "      <td>Hamburg</td>\n",
       "      <td>1252.689677</td>\n",
       "    </tr>\n",
       "    <tr>\n",
       "      <th>6</th>\n",
       "      <td>Hessen</td>\n",
       "      <td>1068.476896</td>\n",
       "    </tr>\n",
       "    <tr>\n",
       "      <th>7</th>\n",
       "      <td>Mecklenburg_Vorpommern</td>\n",
       "      <td>568.522203</td>\n",
       "    </tr>\n",
       "    <tr>\n",
       "      <th>8</th>\n",
       "      <td>Niedersachsen</td>\n",
       "      <td>765.903618</td>\n",
       "    </tr>\n",
       "    <tr>\n",
       "      <th>9</th>\n",
       "      <td>Nordrhein_Westfalen</td>\n",
       "      <td>761.005055</td>\n",
       "    </tr>\n",
       "    <tr>\n",
       "      <th>10</th>\n",
       "      <td>Rheinland_Pfalz</td>\n",
       "      <td>841.537849</td>\n",
       "    </tr>\n",
       "    <tr>\n",
       "      <th>11</th>\n",
       "      <td>Saarland</td>\n",
       "      <td>719.303552</td>\n",
       "    </tr>\n",
       "    <tr>\n",
       "      <th>12</th>\n",
       "      <td>Sachsen</td>\n",
       "      <td>578.029478</td>\n",
       "    </tr>\n",
       "    <tr>\n",
       "      <th>13</th>\n",
       "      <td>Sachsen_Anhalt</td>\n",
       "      <td>518.882384</td>\n",
       "    </tr>\n",
       "    <tr>\n",
       "      <th>14</th>\n",
       "      <td>Schleswig_Holstein</td>\n",
       "      <td>822.161116</td>\n",
       "    </tr>\n",
       "    <tr>\n",
       "      <th>15</th>\n",
       "      <td>Thüringen</td>\n",
       "      <td>526.415089</td>\n",
       "    </tr>\n",
       "  </tbody>\n",
       "</table>\n",
       "</div>\n",
       "      <button class=\"colab-df-convert\" onclick=\"convertToInteractive('df-b755fc17-ea61-469d-8010-32bd6b1a74cd')\"\n",
       "              title=\"Convert this dataframe to an interactive table.\"\n",
       "              style=\"display:none;\">\n",
       "        \n",
       "  <svg xmlns=\"http://www.w3.org/2000/svg\" height=\"24px\"viewBox=\"0 0 24 24\"\n",
       "       width=\"24px\">\n",
       "    <path d=\"M0 0h24v24H0V0z\" fill=\"none\"/>\n",
       "    <path d=\"M18.56 5.44l.94 2.06.94-2.06 2.06-.94-2.06-.94-.94-2.06-.94 2.06-2.06.94zm-11 1L8.5 8.5l.94-2.06 2.06-.94-2.06-.94L8.5 2.5l-.94 2.06-2.06.94zm10 10l.94 2.06.94-2.06 2.06-.94-2.06-.94-.94-2.06-.94 2.06-2.06.94z\"/><path d=\"M17.41 7.96l-1.37-1.37c-.4-.4-.92-.59-1.43-.59-.52 0-1.04.2-1.43.59L10.3 9.45l-7.72 7.72c-.78.78-.78 2.05 0 2.83L4 21.41c.39.39.9.59 1.41.59.51 0 1.02-.2 1.41-.59l7.78-7.78 2.81-2.81c.8-.78.8-2.07 0-2.86zM5.41 20L4 18.59l7.72-7.72 1.47 1.35L5.41 20z\"/>\n",
       "  </svg>\n",
       "      </button>\n",
       "      \n",
       "  <style>\n",
       "    .colab-df-container {\n",
       "      display:flex;\n",
       "      flex-wrap:wrap;\n",
       "      gap: 12px;\n",
       "    }\n",
       "\n",
       "    .colab-df-convert {\n",
       "      background-color: #E8F0FE;\n",
       "      border: none;\n",
       "      border-radius: 50%;\n",
       "      cursor: pointer;\n",
       "      display: none;\n",
       "      fill: #1967D2;\n",
       "      height: 32px;\n",
       "      padding: 0 0 0 0;\n",
       "      width: 32px;\n",
       "    }\n",
       "\n",
       "    .colab-df-convert:hover {\n",
       "      background-color: #E2EBFA;\n",
       "      box-shadow: 0px 1px 2px rgba(60, 64, 67, 0.3), 0px 1px 3px 1px rgba(60, 64, 67, 0.15);\n",
       "      fill: #174EA6;\n",
       "    }\n",
       "\n",
       "    [theme=dark] .colab-df-convert {\n",
       "      background-color: #3B4455;\n",
       "      fill: #D2E3FC;\n",
       "    }\n",
       "\n",
       "    [theme=dark] .colab-df-convert:hover {\n",
       "      background-color: #434B5C;\n",
       "      box-shadow: 0px 1px 3px 1px rgba(0, 0, 0, 0.15);\n",
       "      filter: drop-shadow(0px 1px 2px rgba(0, 0, 0, 0.3));\n",
       "      fill: #FFFFFF;\n",
       "    }\n",
       "  </style>\n",
       "\n",
       "      <script>\n",
       "        const buttonEl =\n",
       "          document.querySelector('#df-b755fc17-ea61-469d-8010-32bd6b1a74cd button.colab-df-convert');\n",
       "        buttonEl.style.display =\n",
       "          google.colab.kernel.accessAllowed ? 'block' : 'none';\n",
       "\n",
       "        async function convertToInteractive(key) {\n",
       "          const element = document.querySelector('#df-b755fc17-ea61-469d-8010-32bd6b1a74cd');\n",
       "          const dataTable =\n",
       "            await google.colab.kernel.invokeFunction('convertToInteractive',\n",
       "                                                     [key], {});\n",
       "          if (!dataTable) return;\n",
       "\n",
       "          const docLinkHtml = 'Like what you see? Visit the ' +\n",
       "            '<a target=\"_blank\" href=https://colab.research.google.com/notebooks/data_table.ipynb>data table notebook</a>'\n",
       "            + ' to learn more about interactive tables.';\n",
       "          element.innerHTML = '';\n",
       "          dataTable['output_type'] = 'display_data';\n",
       "          await google.colab.output.renderOutput(dataTable, element);\n",
       "          const docLink = document.createElement('div');\n",
       "          docLink.innerHTML = docLinkHtml;\n",
       "          element.appendChild(docLink);\n",
       "        }\n",
       "      </script>\n",
       "    </div>\n",
       "  </div>\n",
       "  "
      ],
      "text/plain": [
       "                     state    totalRent\n",
       "0        Baden_Württemberg  1066.514131\n",
       "1                   Bayern  1062.311375\n",
       "2                   Berlin  1170.526045\n",
       "3              Brandenburg   667.153338\n",
       "4                   Bremen   764.048705\n",
       "5                  Hamburg  1252.689677\n",
       "6                   Hessen  1068.476896\n",
       "7   Mecklenburg_Vorpommern   568.522203\n",
       "8            Niedersachsen   765.903618\n",
       "9      Nordrhein_Westfalen   761.005055\n",
       "10         Rheinland_Pfalz   841.537849\n",
       "11                Saarland   719.303552\n",
       "12                 Sachsen   578.029478\n",
       "13          Sachsen_Anhalt   518.882384\n",
       "14      Schleswig_Holstein   822.161116\n",
       "15               Thüringen   526.415089"
      ]
     },
     "execution_count": 43,
     "metadata": {},
     "output_type": "execute_result"
    }
   ],
   "source": [
    "state_rent= immo[['state', 'totalRent']]\n",
    "state_rent = immo.groupby(['state'], as_index=False)[['totalRent']].mean()\n",
    "state_rent"
   ]
  },
  {
   "cell_type": "code",
   "execution_count": 44,
   "metadata": {
    "colab": {
     "base_uri": "https://localhost:8080/",
     "height": 515
    },
    "id": "8sLQTYsh1Xm8",
    "outputId": "17d7ca3e-6f8d-4156-d5cb-ba564a18dd8f"
   },
   "outputs": [
    {
     "data": {
      "text/plain": [
       "(array([ 0,  1,  2,  3,  4,  5,  6,  7,  8,  9, 10, 11, 12, 13, 14, 15]),\n",
       " <a list of 16 Text major ticklabel objects>)"
      ]
     },
     "execution_count": 44,
     "metadata": {},
     "output_type": "execute_result"
    },
    {
     "data": {
      "image/png": "[encoded data removed]",
      "text/plain": [
       "<Figure size 864x432 with 1 Axes>"
      ]
     },
     "metadata": {
      "needs_background": "light"
     },
     "output_type": "display_data"
    }
   ],
   "source": [
    "#Histogram\n",
    "plt.figure(figsize=(12, 6))\n",
    "sns.barplot(x=\"state\",y=\"totalRent\", data=state_rent, order=state_rent.sort_values('totalRent',ascending = False).state)\n",
    "plt.xticks(rotation = 45)"
   ]
  },
  {
   "cell_type": "markdown",
   "metadata": {
    "id": "jyOeSiTco9-W"
   },
   "source": [
    "The plot shows the distribution of totalRent across the states.\n",
    "\n",
    "Hamborg is the state with the most expensive properties in immo."
   ]
  },
  {
   "cell_type": "markdown",
   "metadata": {
    "id": "VSlJWda-uhrc"
   },
   "source": [
    "##Model building"
   ]
  },
  {
   "cell_type": "code",
   "execution_count": 45,
   "metadata": {
    "id": "80KsmfRG1YOg"
   },
   "outputs": [],
   "source": [
    "# Import usefull libraries\n",
    "from sklearn import metrics\n",
    "from sklearn.linear_model import LinearRegression\n",
    "from sklearn.linear_model import Lasso\n",
    "from sklearn.model_selection import train_test_split\n",
    "from sklearn.metrics import r2_score, mean_squared_error"
   ]
  },
  {
   "cell_type": "code",
   "execution_count": 46,
   "metadata": {
    "colab": {
     "base_uri": "https://localhost:8080/",
     "height": 270
    },
    "id": "XgNBlIwz0v0i",
    "outputId": "c006676e-459b-43d5-a193-36b820246add"
   },
   "outputs": [
    {
     "data": {
      "text/html": [
       "\n",
       "  <div id=\"df-dfa8002c-7aa0-4dc7-9ea8-3cb566738922\">\n",
       "    <div class=\"colab-df-container\">\n",
       "      <div>\n",
       "<style scoped>\n",
       "    .dataframe tbody tr th:only-of-type {\n",
       "        vertical-align: middle;\n",
       "    }\n",
       "\n",
       "    .dataframe tbody tr th {\n",
       "        vertical-align: top;\n",
       "    }\n",
       "\n",
       "    .dataframe thead th {\n",
       "        text-align: right;\n",
       "    }\n",
       "</style>\n",
       "<table border=\"1\" class=\"dataframe\">\n",
       "  <thead>\n",
       "    <tr style=\"text-align: right;\">\n",
       "      <th></th>\n",
       "      <th>state</th>\n",
       "      <th>serviceCharge</th>\n",
       "      <th>heatingType</th>\n",
       "      <th>newlyConst</th>\n",
       "      <th>balcony</th>\n",
       "      <th>totalRent</th>\n",
       "      <th>yearConstructed</th>\n",
       "      <th>hasKitchen</th>\n",
       "      <th>cellar</th>\n",
       "      <th>baseRent</th>\n",
       "      <th>livingSpace</th>\n",
       "      <th>condition</th>\n",
       "      <th>lift</th>\n",
       "      <th>baseRentRange</th>\n",
       "      <th>typeOfFlat</th>\n",
       "      <th>noRooms</th>\n",
       "      <th>floor</th>\n",
       "      <th>garden</th>\n",
       "      <th>city</th>\n",
       "      <th>TRent_log</th>\n",
       "    </tr>\n",
       "  </thead>\n",
       "  <tbody>\n",
       "    <tr>\n",
       "      <th>0</th>\n",
       "      <td>Nordrhein_Westfalen</td>\n",
       "      <td>245.0</td>\n",
       "      <td>central_heating</td>\n",
       "      <td>False</td>\n",
       "      <td>False</td>\n",
       "      <td>840.00</td>\n",
       "      <td>1965.000000</td>\n",
       "      <td>False</td>\n",
       "      <td>True</td>\n",
       "      <td>595.00</td>\n",
       "      <td>86.00</td>\n",
       "      <td>well_kept</td>\n",
       "      <td>False</td>\n",
       "      <td>4</td>\n",
       "      <td>ground_floor</td>\n",
       "      <td>4.0</td>\n",
       "      <td>1.000000</td>\n",
       "      <td>True</td>\n",
       "      <td>Dortmund</td>\n",
       "      <td>6.734592</td>\n",
       "    </tr>\n",
       "    <tr>\n",
       "      <th>2</th>\n",
       "      <td>Sachsen</td>\n",
       "      <td>255.0</td>\n",
       "      <td>floor_heating</td>\n",
       "      <td>True</td>\n",
       "      <td>True</td>\n",
       "      <td>1300.00</td>\n",
       "      <td>2019.000000</td>\n",
       "      <td>False</td>\n",
       "      <td>True</td>\n",
       "      <td>965.00</td>\n",
       "      <td>83.80</td>\n",
       "      <td>first_time_use</td>\n",
       "      <td>True</td>\n",
       "      <td>6</td>\n",
       "      <td>apartment</td>\n",
       "      <td>3.0</td>\n",
       "      <td>3.000000</td>\n",
       "      <td>False</td>\n",
       "      <td>Dresden</td>\n",
       "      <td>7.170888</td>\n",
       "    </tr>\n",
       "    <tr>\n",
       "      <th>4</th>\n",
       "      <td>Bremen</td>\n",
       "      <td>138.0</td>\n",
       "      <td>self_contained_central_heating</td>\n",
       "      <td>False</td>\n",
       "      <td>True</td>\n",
       "      <td>903.00</td>\n",
       "      <td>1950.000000</td>\n",
       "      <td>False</td>\n",
       "      <td>False</td>\n",
       "      <td>765.00</td>\n",
       "      <td>84.97</td>\n",
       "      <td>refurbished</td>\n",
       "      <td>False</td>\n",
       "      <td>5</td>\n",
       "      <td>apartment</td>\n",
       "      <td>3.0</td>\n",
       "      <td>1.000000</td>\n",
       "      <td>False</td>\n",
       "      <td>Bremen</td>\n",
       "      <td>6.806829</td>\n",
       "    </tr>\n",
       "    <tr>\n",
       "      <th>6</th>\n",
       "      <td>Sachsen</td>\n",
       "      <td>70.0</td>\n",
       "      <td>self_contained_central_heating</td>\n",
       "      <td>False</td>\n",
       "      <td>False</td>\n",
       "      <td>380.00</td>\n",
       "      <td>1967.182693</td>\n",
       "      <td>False</td>\n",
       "      <td>True</td>\n",
       "      <td>310.00</td>\n",
       "      <td>62.00</td>\n",
       "      <td>fully_renovated</td>\n",
       "      <td>False</td>\n",
       "      <td>2</td>\n",
       "      <td>apartment</td>\n",
       "      <td>2.0</td>\n",
       "      <td>1.000000</td>\n",
       "      <td>True</td>\n",
       "      <td>Mittelsachsen_Kreis</td>\n",
       "      <td>5.942799</td>\n",
       "    </tr>\n",
       "    <tr>\n",
       "      <th>7</th>\n",
       "      <td>Bremen</td>\n",
       "      <td>88.0</td>\n",
       "      <td>central_heating</td>\n",
       "      <td>False</td>\n",
       "      <td>True</td>\n",
       "      <td>584.25</td>\n",
       "      <td>1959.000000</td>\n",
       "      <td>False</td>\n",
       "      <td>True</td>\n",
       "      <td>452.25</td>\n",
       "      <td>60.30</td>\n",
       "      <td>other</td>\n",
       "      <td>False</td>\n",
       "      <td>3</td>\n",
       "      <td>ground_floor</td>\n",
       "      <td>3.0</td>\n",
       "      <td>2.060264</td>\n",
       "      <td>False</td>\n",
       "      <td>Bremen</td>\n",
       "      <td>6.372039</td>\n",
       "    </tr>\n",
       "  </tbody>\n",
       "</table>\n",
       "</div>\n",
       "      <button class=\"colab-df-convert\" onclick=\"convertToInteractive('df-dfa8002c-7aa0-4dc7-9ea8-3cb566738922')\"\n",
       "              title=\"Convert this dataframe to an interactive table.\"\n",
       "              style=\"display:none;\">\n",
       "        \n",
       "  <svg xmlns=\"http://www.w3.org/2000/svg\" height=\"24px\"viewBox=\"0 0 24 24\"\n",
       "       width=\"24px\">\n",
       "    <path d=\"M0 0h24v24H0V0z\" fill=\"none\"/>\n",
       "    <path d=\"M18.56 5.44l.94 2.06.94-2.06 2.06-.94-2.06-.94-.94-2.06-.94 2.06-2.06.94zm-11 1L8.5 8.5l.94-2.06 2.06-.94-2.06-.94L8.5 2.5l-.94 2.06-2.06.94zm10 10l.94 2.06.94-2.06 2.06-.94-2.06-.94-.94-2.06-.94 2.06-2.06.94z\"/><path d=\"M17.41 7.96l-1.37-1.37c-.4-.4-.92-.59-1.43-.59-.52 0-1.04.2-1.43.59L10.3 9.45l-7.72 7.72c-.78.78-.78 2.05 0 2.83L4 21.41c.39.39.9.59 1.41.59.51 0 1.02-.2 1.41-.59l7.78-7.78 2.81-2.81c.8-.78.8-2.07 0-2.86zM5.41 20L4 18.59l7.72-7.72 1.47 1.35L5.41 20z\"/>\n",
       "  </svg>\n",
       "      </button>\n",
       "      \n",
       "  <style>\n",
       "    .colab-df-container {\n",
       "      display:flex;\n",
       "      flex-wrap:wrap;\n",
       "      gap: 12px;\n",
       "    }\n",
       "\n",
       "    .colab-df-convert {\n",
       "      background-color: #E8F0FE;\n",
       "      border: none;\n",
       "      border-radius: 50%;\n",
       "      cursor: pointer;\n",
       "      display: none;\n",
       "      fill: #1967D2;\n",
       "      height: 32px;\n",
       "      padding: 0 0 0 0;\n",
       "      width: 32px;\n",
       "    }\n",
       "\n",
       "    .colab-df-convert:hover {\n",
       "      background-color: #E2EBFA;\n",
       "      box-shadow: 0px 1px 2px rgba(60, 64, 67, 0.3), 0px 1px 3px 1px rgba(60, 64, 67, 0.15);\n",
       "      fill: #174EA6;\n",
       "    }\n",
       "\n",
       "    [theme=dark] .colab-df-convert {\n",
       "      background-color: #3B4455;\n",
       "      fill: #D2E3FC;\n",
       "    }\n",
       "\n",
       "    [theme=dark] .colab-df-convert:hover {\n",
       "      background-color: #434B5C;\n",
       "      box-shadow: 0px 1px 3px 1px rgba(0, 0, 0, 0.15);\n",
       "      filter: drop-shadow(0px 1px 2px rgba(0, 0, 0, 0.3));\n",
       "      fill: #FFFFFF;\n",
       "    }\n",
       "  </style>\n",
       "\n",
       "      <script>\n",
       "        const buttonEl =\n",
       "          document.querySelector('#df-dfa8002c-7aa0-4dc7-9ea8-3cb566738922 button.colab-df-convert');\n",
       "        buttonEl.style.display =\n",
       "          google.colab.kernel.accessAllowed ? 'block' : 'none';\n",
       "\n",
       "        async function convertToInteractive(key) {\n",
       "          const element = document.querySelector('#df-dfa8002c-7aa0-4dc7-9ea8-3cb566738922');\n",
       "          const dataTable =\n",
       "            await google.colab.kernel.invokeFunction('convertToInteractive',\n",
       "                                                     [key], {});\n",
       "          if (!dataTable) return;\n",
       "\n",
       "          const docLinkHtml = 'Like what you see? Visit the ' +\n",
       "            '<a target=\"_blank\" href=https://colab.research.google.com/notebooks/data_table.ipynb>data table notebook</a>'\n",
       "            + ' to learn more about interactive tables.';\n",
       "          element.innerHTML = '';\n",
       "          dataTable['output_type'] = 'display_data';\n",
       "          await google.colab.output.renderOutput(dataTable, element);\n",
       "          const docLink = document.createElement('div');\n",
       "          docLink.innerHTML = docLinkHtml;\n",
       "          element.appendChild(docLink);\n",
       "        }\n",
       "      </script>\n",
       "    </div>\n",
       "  </div>\n",
       "  "
      ],
      "text/plain": [
       "                 state  serviceCharge                     heatingType  \\\n",
       "0  Nordrhein_Westfalen          245.0                 central_heating   \n",
       "2              Sachsen          255.0                   floor_heating   \n",
       "4               Bremen          138.0  self_contained_central_heating   \n",
       "6              Sachsen           70.0  self_contained_central_heating   \n",
       "7               Bremen           88.0                 central_heating   \n",
       "\n",
       "   newlyConst  balcony  totalRent  yearConstructed  hasKitchen  cellar  \\\n",
       "0       False    False     840.00      1965.000000       False    True   \n",
       "2        True     True    1300.00      2019.000000       False    True   \n",
       "4       False     True     903.00      1950.000000       False   False   \n",
       "6       False    False     380.00      1967.182693       False    True   \n",
       "7       False     True     584.25      1959.000000       False    True   \n",
       "\n",
       "   baseRent  livingSpace        condition   lift  baseRentRange    typeOfFlat  \\\n",
       "0    595.00        86.00        well_kept  False              4  ground_floor   \n",
       "2    965.00        83.80   first_time_use   True              6     apartment   \n",
       "4    765.00        84.97      refurbished  False              5     apartment   \n",
       "6    310.00        62.00  fully_renovated  False              2     apartment   \n",
       "7    452.25        60.30            other  False              3  ground_floor   \n",
       "\n",
       "   noRooms     floor  garden                 city  TRent_log  \n",
       "0      4.0  1.000000    True             Dortmund   6.734592  \n",
       "2      3.0  3.000000   False              Dresden   7.170888  \n",
       "4      3.0  1.000000   False               Bremen   6.806829  \n",
       "6      2.0  1.000000    True  Mittelsachsen_Kreis   5.942799  \n",
       "7      3.0  2.060264   False               Bremen   6.372039  "
      ]
     },
     "execution_count": 46,
     "metadata": {},
     "output_type": "execute_result"
    }
   ],
   "source": [
    "# copy the DataFrame for building model\n",
    "dfModel = immo.copy()\n",
    "dfModel.head()"
   ]
  },
  {
   "cell_type": "markdown",
   "metadata": {
    "id": "uWB6Key2yfTU"
   },
   "source": [
    "**Feature engineering:** (Bonus task)"
   ]
  },
  {
   "cell_type": "markdown",
   "metadata": {
    "id": "ri24ySIKylGi"
   },
   "source": [
    "* Reduce number of categories:\n"
   ]
  },
  {
   "cell_type": "markdown",
   "metadata": {
    "id": "RfCFbHUclelH"
   },
   "source": [
    "\n",
    "Selecting only highest 20 city by quantity of data"
   ]
  },
  {
   "cell_type": "code",
   "execution_count": 47,
   "metadata": {
    "colab": {
     "base_uri": "https://localhost:8080/"
    },
    "id": "8DzkiVCZuoS7",
    "outputId": "e95c77e2-1d6d-4623-c56d-40f3054468a2"
   },
   "outputs": [
    {
     "data": {
      "text/plain": [
       "Other                   135468\n",
       "Leipzig                  11985\n",
       "Chemnitz                 10703\n",
       "Berlin                    8632\n",
       "Dresden                   6074\n",
       "Magdeburg                 4380\n",
       "Halle_Saale               3714\n",
       "Essen                     3488\n",
       "Frankfurt_am_Main         3077\n",
       "Hamburg                   3069\n",
       "München                   2965\n",
       "Düsseldorf                2934\n",
       "Duisburg                  2756\n",
       "Dortmund                  2531\n",
       "Gelsenkirchen             2404\n",
       "Mittelsachsen_Kreis       2364\n",
       "Recklinghausen_Kreis      2235\n",
       "Köln                      2148\n",
       "Zwickau                   2145\n",
       "Zwickau_Kreis             2105\n",
       "Leipzig_Kreis             1921\n",
       "Name: city, dtype: int64"
      ]
     },
     "execution_count": 47,
     "metadata": {},
     "output_type": "execute_result"
    }
   ],
   "source": [
    "othersregion = list(dfModel['city'].value_counts().iloc[20:,].index)\n",
    "def edit_region(dflist):\n",
    "    if dflist in othersregion:\n",
    "        return 'Other'\n",
    "    else:\n",
    "        return dflist\n",
    "\n",
    "dfModel['city'] =dfModel['city'].apply(edit_region)\n",
    "dfModel['city'].value_counts()"
   ]
  },
  {
   "cell_type": "markdown",
   "metadata": {
    "id": "O_vZ5eXS4Ck7"
   },
   "source": [
    "* Create new columns:"
   ]
  },
  {
   "cell_type": "markdown",
   "metadata": {
    "id": "We23T5pR3wS6"
   },
   "source": [
    "Creating a new variable to tell the duration since last renovated till today"
   ]
  },
  {
   "cell_type": "code",
   "execution_count": 48,
   "metadata": {
    "id": "MbskPtnN12bF"
   },
   "outputs": [],
   "source": [
    "import time\n",
    "import datetime\n",
    "from datetime import date\n",
    "dfModel['numberOfYear'] = date.today().year - dfModel[\"yearConstructed\"]"
   ]
  },
  {
   "cell_type": "markdown",
   "metadata": {
    "id": "Xy8IWkyr4OOy"
   },
   "source": [
    "Create new columns for the price per square meter and addition cost  (utilities)."
   ]
  },
  {
   "cell_type": "code",
   "execution_count": 49,
   "metadata": {
    "id": "p6igva9s3QUQ"
   },
   "outputs": [],
   "source": [
    "dfModel['Price_m2'] = dfModel['baseRent'] / dfModel['livingSpace']\n",
    "dfModel['additioncost'] = dfModel['totalRent'] - dfModel['baseRent']"
   ]
  },
  {
   "cell_type": "code",
   "execution_count": 50,
   "metadata": {
    "id": "eu0W_oIT45Dk"
   },
   "outputs": [],
   "source": [
    "dfModel.drop(columns=['baseRent','yearConstructed'],axis=1,inplace=True)\n"
   ]
  },
  {
   "cell_type": "code",
   "execution_count": 51,
   "metadata": {
    "colab": {
     "base_uri": "https://localhost:8080/",
     "height": 299
    },
    "id": "EQuoFJb95euG",
    "outputId": "a12b93b8-d733-49da-d7af-69cfa501f951"
   },
   "outputs": [
    {
     "data": {
      "text/html": [
       "\n",
       "  <div id=\"df-400c9875-50ca-4b25-abbf-12d3cef08352\">\n",
       "    <div class=\"colab-df-container\">\n",
       "      <div>\n",
       "<style scoped>\n",
       "    .dataframe tbody tr th:only-of-type {\n",
       "        vertical-align: middle;\n",
       "    }\n",
       "\n",
       "    .dataframe tbody tr th {\n",
       "        vertical-align: top;\n",
       "    }\n",
       "\n",
       "    .dataframe thead th {\n",
       "        text-align: right;\n",
       "    }\n",
       "</style>\n",
       "<table border=\"1\" class=\"dataframe\">\n",
       "  <thead>\n",
       "    <tr style=\"text-align: right;\">\n",
       "      <th></th>\n",
       "      <th>state</th>\n",
       "      <th>serviceCharge</th>\n",
       "      <th>heatingType</th>\n",
       "      <th>newlyConst</th>\n",
       "      <th>balcony</th>\n",
       "      <th>totalRent</th>\n",
       "      <th>hasKitchen</th>\n",
       "      <th>cellar</th>\n",
       "      <th>livingSpace</th>\n",
       "      <th>condition</th>\n",
       "      <th>...</th>\n",
       "      <th>baseRentRange</th>\n",
       "      <th>typeOfFlat</th>\n",
       "      <th>noRooms</th>\n",
       "      <th>floor</th>\n",
       "      <th>garden</th>\n",
       "      <th>city</th>\n",
       "      <th>TRent_log</th>\n",
       "      <th>numberOfYear</th>\n",
       "      <th>Price_m2</th>\n",
       "      <th>additioncost</th>\n",
       "    </tr>\n",
       "  </thead>\n",
       "  <tbody>\n",
       "    <tr>\n",
       "      <th>0</th>\n",
       "      <td>Nordrhein_Westfalen</td>\n",
       "      <td>245.0</td>\n",
       "      <td>central_heating</td>\n",
       "      <td>False</td>\n",
       "      <td>False</td>\n",
       "      <td>840.00</td>\n",
       "      <td>False</td>\n",
       "      <td>True</td>\n",
       "      <td>86.00</td>\n",
       "      <td>well_kept</td>\n",
       "      <td>...</td>\n",
       "      <td>4</td>\n",
       "      <td>ground_floor</td>\n",
       "      <td>4.0</td>\n",
       "      <td>1.000000</td>\n",
       "      <td>True</td>\n",
       "      <td>Dortmund</td>\n",
       "      <td>6.734592</td>\n",
       "      <td>57.000000</td>\n",
       "      <td>6.918605</td>\n",
       "      <td>245.0</td>\n",
       "    </tr>\n",
       "    <tr>\n",
       "      <th>2</th>\n",
       "      <td>Sachsen</td>\n",
       "      <td>255.0</td>\n",
       "      <td>floor_heating</td>\n",
       "      <td>True</td>\n",
       "      <td>True</td>\n",
       "      <td>1300.00</td>\n",
       "      <td>False</td>\n",
       "      <td>True</td>\n",
       "      <td>83.80</td>\n",
       "      <td>first_time_use</td>\n",
       "      <td>...</td>\n",
       "      <td>6</td>\n",
       "      <td>apartment</td>\n",
       "      <td>3.0</td>\n",
       "      <td>3.000000</td>\n",
       "      <td>False</td>\n",
       "      <td>Dresden</td>\n",
       "      <td>7.170888</td>\n",
       "      <td>3.000000</td>\n",
       "      <td>11.515513</td>\n",
       "      <td>335.0</td>\n",
       "    </tr>\n",
       "    <tr>\n",
       "      <th>4</th>\n",
       "      <td>Bremen</td>\n",
       "      <td>138.0</td>\n",
       "      <td>self_contained_central_heating</td>\n",
       "      <td>False</td>\n",
       "      <td>True</td>\n",
       "      <td>903.00</td>\n",
       "      <td>False</td>\n",
       "      <td>False</td>\n",
       "      <td>84.97</td>\n",
       "      <td>refurbished</td>\n",
       "      <td>...</td>\n",
       "      <td>5</td>\n",
       "      <td>apartment</td>\n",
       "      <td>3.0</td>\n",
       "      <td>1.000000</td>\n",
       "      <td>False</td>\n",
       "      <td>Other</td>\n",
       "      <td>6.806829</td>\n",
       "      <td>72.000000</td>\n",
       "      <td>9.003178</td>\n",
       "      <td>138.0</td>\n",
       "    </tr>\n",
       "    <tr>\n",
       "      <th>6</th>\n",
       "      <td>Sachsen</td>\n",
       "      <td>70.0</td>\n",
       "      <td>self_contained_central_heating</td>\n",
       "      <td>False</td>\n",
       "      <td>False</td>\n",
       "      <td>380.00</td>\n",
       "      <td>False</td>\n",
       "      <td>True</td>\n",
       "      <td>62.00</td>\n",
       "      <td>fully_renovated</td>\n",
       "      <td>...</td>\n",
       "      <td>2</td>\n",
       "      <td>apartment</td>\n",
       "      <td>2.0</td>\n",
       "      <td>1.000000</td>\n",
       "      <td>True</td>\n",
       "      <td>Mittelsachsen_Kreis</td>\n",
       "      <td>5.942799</td>\n",
       "      <td>54.817307</td>\n",
       "      <td>5.000000</td>\n",
       "      <td>70.0</td>\n",
       "    </tr>\n",
       "    <tr>\n",
       "      <th>7</th>\n",
       "      <td>Bremen</td>\n",
       "      <td>88.0</td>\n",
       "      <td>central_heating</td>\n",
       "      <td>False</td>\n",
       "      <td>True</td>\n",
       "      <td>584.25</td>\n",
       "      <td>False</td>\n",
       "      <td>True</td>\n",
       "      <td>60.30</td>\n",
       "      <td>other</td>\n",
       "      <td>...</td>\n",
       "      <td>3</td>\n",
       "      <td>ground_floor</td>\n",
       "      <td>3.0</td>\n",
       "      <td>2.060264</td>\n",
       "      <td>False</td>\n",
       "      <td>Other</td>\n",
       "      <td>6.372039</td>\n",
       "      <td>63.000000</td>\n",
       "      <td>7.500000</td>\n",
       "      <td>132.0</td>\n",
       "    </tr>\n",
       "  </tbody>\n",
       "</table>\n",
       "<p>5 rows × 21 columns</p>\n",
       "</div>\n",
       "      <button class=\"colab-df-convert\" onclick=\"convertToInteractive('df-400c9875-50ca-4b25-abbf-12d3cef08352')\"\n",
       "              title=\"Convert this dataframe to an interactive table.\"\n",
       "              style=\"display:none;\">\n",
       "        \n",
       "  <svg xmlns=\"http://www.w3.org/2000/svg\" height=\"24px\"viewBox=\"0 0 24 24\"\n",
       "       width=\"24px\">\n",
       "    <path d=\"M0 0h24v24H0V0z\" fill=\"none\"/>\n",
       "    <path d=\"M18.56 5.44l.94 2.06.94-2.06 2.06-.94-2.06-.94-.94-2.06-.94 2.06-2.06.94zm-11 1L8.5 8.5l.94-2.06 2.06-.94-2.06-.94L8.5 2.5l-.94 2.06-2.06.94zm10 10l.94 2.06.94-2.06 2.06-.94-2.06-.94-.94-2.06-.94 2.06-2.06.94z\"/><path d=\"M17.41 7.96l-1.37-1.37c-.4-.4-.92-.59-1.43-.59-.52 0-1.04.2-1.43.59L10.3 9.45l-7.72 7.72c-.78.78-.78 2.05 0 2.83L4 21.41c.39.39.9.59 1.41.59.51 0 1.02-.2 1.41-.59l7.78-7.78 2.81-2.81c.8-.78.8-2.07 0-2.86zM5.41 20L4 18.59l7.72-7.72 1.47 1.35L5.41 20z\"/>\n",
       "  </svg>\n",
       "      </button>\n",
       "      \n",
       "  <style>\n",
       "    .colab-df-container {\n",
       "      display:flex;\n",
       "      flex-wrap:wrap;\n",
       "      gap: 12px;\n",
       "    }\n",
       "\n",
       "    .colab-df-convert {\n",
       "      background-color: #E8F0FE;\n",
       "      border: none;\n",
       "      border-radius: 50%;\n",
       "      cursor: pointer;\n",
       "      display: none;\n",
       "      fill: #1967D2;\n",
       "      height: 32px;\n",
       "      padding: 0 0 0 0;\n",
       "      width: 32px;\n",
       "    }\n",
       "\n",
       "    .colab-df-convert:hover {\n",
       "      background-color: #E2EBFA;\n",
       "      box-shadow: 0px 1px 2px rgba(60, 64, 67, 0.3), 0px 1px 3px 1px rgba(60, 64, 67, 0.15);\n",
       "      fill: #174EA6;\n",
       "    }\n",
       "\n",
       "    [theme=dark] .colab-df-convert {\n",
       "      background-color: #3B4455;\n",
       "      fill: #D2E3FC;\n",
       "    }\n",
       "\n",
       "    [theme=dark] .colab-df-convert:hover {\n",
       "      background-color: #434B5C;\n",
       "      box-shadow: 0px 1px 3px 1px rgba(0, 0, 0, 0.15);\n",
       "      filter: drop-shadow(0px 1px 2px rgba(0, 0, 0, 0.3));\n",
       "      fill: #FFFFFF;\n",
       "    }\n",
       "  </style>\n",
       "\n",
       "      <script>\n",
       "        const buttonEl =\n",
       "          document.querySelector('#df-400c9875-50ca-4b25-abbf-12d3cef08352 button.colab-df-convert');\n",
       "        buttonEl.style.display =\n",
       "          google.colab.kernel.accessAllowed ? 'block' : 'none';\n",
       "\n",
       "        async function convertToInteractive(key) {\n",
       "          const element = document.querySelector('#df-400c9875-50ca-4b25-abbf-12d3cef08352');\n",
       "          const dataTable =\n",
       "            await google.colab.kernel.invokeFunction('convertToInteractive',\n",
       "                                                     [key], {});\n",
       "          if (!dataTable) return;\n",
       "\n",
       "          const docLinkHtml = 'Like what you see? Visit the ' +\n",
       "            '<a target=\"_blank\" href=https://colab.research.google.com/notebooks/data_table.ipynb>data table notebook</a>'\n",
       "            + ' to learn more about interactive tables.';\n",
       "          element.innerHTML = '';\n",
       "          dataTable['output_type'] = 'display_data';\n",
       "          await google.colab.output.renderOutput(dataTable, element);\n",
       "          const docLink = document.createElement('div');\n",
       "          docLink.innerHTML = docLinkHtml;\n",
       "          element.appendChild(docLink);\n",
       "        }\n",
       "      </script>\n",
       "    </div>\n",
       "  </div>\n",
       "  "
      ],
      "text/plain": [
       "                 state  serviceCharge                     heatingType  \\\n",
       "0  Nordrhein_Westfalen          245.0                 central_heating   \n",
       "2              Sachsen          255.0                   floor_heating   \n",
       "4               Bremen          138.0  self_contained_central_heating   \n",
       "6              Sachsen           70.0  self_contained_central_heating   \n",
       "7               Bremen           88.0                 central_heating   \n",
       "\n",
       "   newlyConst  balcony  totalRent  hasKitchen  cellar  livingSpace  \\\n",
       "0       False    False     840.00       False    True        86.00   \n",
       "2        True     True    1300.00       False    True        83.80   \n",
       "4       False     True     903.00       False   False        84.97   \n",
       "6       False    False     380.00       False    True        62.00   \n",
       "7       False     True     584.25       False    True        60.30   \n",
       "\n",
       "         condition  ...  baseRentRange    typeOfFlat noRooms     floor  \\\n",
       "0        well_kept  ...              4  ground_floor     4.0  1.000000   \n",
       "2   first_time_use  ...              6     apartment     3.0  3.000000   \n",
       "4      refurbished  ...              5     apartment     3.0  1.000000   \n",
       "6  fully_renovated  ...              2     apartment     2.0  1.000000   \n",
       "7            other  ...              3  ground_floor     3.0  2.060264   \n",
       "\n",
       "   garden                 city TRent_log  numberOfYear   Price_m2  \\\n",
       "0    True             Dortmund  6.734592     57.000000   6.918605   \n",
       "2   False              Dresden  7.170888      3.000000  11.515513   \n",
       "4   False                Other  6.806829     72.000000   9.003178   \n",
       "6    True  Mittelsachsen_Kreis  5.942799     54.817307   5.000000   \n",
       "7   False                Other  6.372039     63.000000   7.500000   \n",
       "\n",
       "   additioncost  \n",
       "0         245.0  \n",
       "2         335.0  \n",
       "4         138.0  \n",
       "6          70.0  \n",
       "7         132.0  \n",
       "\n",
       "[5 rows x 21 columns]"
      ]
     },
     "execution_count": 51,
     "metadata": {},
     "output_type": "execute_result"
    }
   ],
   "source": [
    "dfModel.head()"
   ]
  },
  {
   "cell_type": "markdown",
   "metadata": {
    "id": "3QGna2NTjzTC"
   },
   "source": [
    "Normalizing numeric data"
   ]
  },
  {
   "cell_type": "code",
   "execution_count": 53,
   "metadata": {
    "colab": {
     "base_uri": "https://localhost:8080/",
     "height": 386
    },
    "id": "-sk9QRJm5YzP",
    "outputId": "82749c86-0b06-46e0-ab29-b497cf56150a"
   },
   "outputs": [
    {
     "data": {
      "text/html": [
       "\n",
       "  <div id=\"df-b0d74234-ce4b-4570-9561-4600f7b52e27\">\n",
       "    <div class=\"colab-df-container\">\n",
       "      <div>\n",
       "<style scoped>\n",
       "    .dataframe tbody tr th:only-of-type {\n",
       "        vertical-align: middle;\n",
       "    }\n",
       "\n",
       "    .dataframe tbody tr th {\n",
       "        vertical-align: top;\n",
       "    }\n",
       "\n",
       "    .dataframe thead th {\n",
       "        text-align: right;\n",
       "    }\n",
       "</style>\n",
       "<table border=\"1\" class=\"dataframe\">\n",
       "  <thead>\n",
       "    <tr style=\"text-align: right;\">\n",
       "      <th></th>\n",
       "      <th>state</th>\n",
       "      <th>serviceCharge</th>\n",
       "      <th>heatingType</th>\n",
       "      <th>newlyConst</th>\n",
       "      <th>balcony</th>\n",
       "      <th>totalRent</th>\n",
       "      <th>hasKitchen</th>\n",
       "      <th>cellar</th>\n",
       "      <th>livingSpace</th>\n",
       "      <th>condition</th>\n",
       "      <th>...</th>\n",
       "      <th>baseRentRange</th>\n",
       "      <th>typeOfFlat</th>\n",
       "      <th>noRooms</th>\n",
       "      <th>floor</th>\n",
       "      <th>garden</th>\n",
       "      <th>city</th>\n",
       "      <th>TRent_log</th>\n",
       "      <th>numberOfYear</th>\n",
       "      <th>Price_m2</th>\n",
       "      <th>additioncost</th>\n",
       "    </tr>\n",
       "  </thead>\n",
       "  <tbody>\n",
       "    <tr>\n",
       "      <th>0</th>\n",
       "      <td>Nordrhein_Westfalen</td>\n",
       "      <td>1.319944</td>\n",
       "      <td>central_heating</td>\n",
       "      <td>False</td>\n",
       "      <td>False</td>\n",
       "      <td>840.00</td>\n",
       "      <td>False</td>\n",
       "      <td>True</td>\n",
       "      <td>0.516404</td>\n",
       "      <td>well_kept</td>\n",
       "      <td>...</td>\n",
       "      <td>0.155208</td>\n",
       "      <td>ground_floor</td>\n",
       "      <td>1.500857</td>\n",
       "      <td>-7.611405e-01</td>\n",
       "      <td>True</td>\n",
       "      <td>Dortmund</td>\n",
       "      <td>0.423552</td>\n",
       "      <td>6.411628e-02</td>\n",
       "      <td>-0.284916</td>\n",
       "      <td>0.302900</td>\n",
       "    </tr>\n",
       "    <tr>\n",
       "      <th>2</th>\n",
       "      <td>Sachsen</td>\n",
       "      <td>1.454316</td>\n",
       "      <td>floor_heating</td>\n",
       "      <td>True</td>\n",
       "      <td>True</td>\n",
       "      <td>1300.00</td>\n",
       "      <td>False</td>\n",
       "      <td>True</td>\n",
       "      <td>0.438742</td>\n",
       "      <td>first_time_use</td>\n",
       "      <td>...</td>\n",
       "      <td>1.099042</td>\n",
       "      <td>apartment</td>\n",
       "      <td>0.439257</td>\n",
       "      <td>6.746163e-01</td>\n",
       "      <td>False</td>\n",
       "      <td>Dresden</td>\n",
       "      <td>1.292326</td>\n",
       "      <td>-1.522125e+00</td>\n",
       "      <td>0.483649</td>\n",
       "      <td>0.656025</td>\n",
       "    </tr>\n",
       "    <tr>\n",
       "      <th>4</th>\n",
       "      <td>Bremen</td>\n",
       "      <td>-0.117838</td>\n",
       "      <td>self_contained_central_heating</td>\n",
       "      <td>False</td>\n",
       "      <td>True</td>\n",
       "      <td>903.00</td>\n",
       "      <td>False</td>\n",
       "      <td>False</td>\n",
       "      <td>0.480044</td>\n",
       "      <td>refurbished</td>\n",
       "      <td>...</td>\n",
       "      <td>0.627125</td>\n",
       "      <td>apartment</td>\n",
       "      <td>0.439257</td>\n",
       "      <td>-7.611405e-01</td>\n",
       "      <td>False</td>\n",
       "      <td>Other</td>\n",
       "      <td>0.567395</td>\n",
       "      <td>5.047390e-01</td>\n",
       "      <td>0.063607</td>\n",
       "      <td>-0.116926</td>\n",
       "    </tr>\n",
       "    <tr>\n",
       "      <th>6</th>\n",
       "      <td>Sachsen</td>\n",
       "      <td>-1.031569</td>\n",
       "      <td>self_contained_central_heating</td>\n",
       "      <td>False</td>\n",
       "      <td>False</td>\n",
       "      <td>380.00</td>\n",
       "      <td>False</td>\n",
       "      <td>True</td>\n",
       "      <td>-0.330815</td>\n",
       "      <td>fully_renovated</td>\n",
       "      <td>...</td>\n",
       "      <td>-0.788626</td>\n",
       "      <td>apartment</td>\n",
       "      <td>-0.622343</td>\n",
       "      <td>-7.611405e-01</td>\n",
       "      <td>True</td>\n",
       "      <td>Mittelsachsen_Kreis</td>\n",
       "      <td>-1.153102</td>\n",
       "      <td>-1.165276e-15</td>\n",
       "      <td>-0.605690</td>\n",
       "      <td>-0.383732</td>\n",
       "    </tr>\n",
       "    <tr>\n",
       "      <th>7</th>\n",
       "      <td>Bremen</td>\n",
       "      <td>-0.789699</td>\n",
       "      <td>central_heating</td>\n",
       "      <td>False</td>\n",
       "      <td>True</td>\n",
       "      <td>584.25</td>\n",
       "      <td>False</td>\n",
       "      <td>True</td>\n",
       "      <td>-0.390826</td>\n",
       "      <td>other</td>\n",
       "      <td>...</td>\n",
       "      <td>-0.316709</td>\n",
       "      <td>ground_floor</td>\n",
       "      <td>0.439257</td>\n",
       "      <td>1.448146e-14</td>\n",
       "      <td>False</td>\n",
       "      <td>Other</td>\n",
       "      <td>-0.298380</td>\n",
       "      <td>2.403654e-01</td>\n",
       "      <td>-0.187711</td>\n",
       "      <td>-0.140468</td>\n",
       "    </tr>\n",
       "  </tbody>\n",
       "</table>\n",
       "<p>5 rows × 21 columns</p>\n",
       "</div>\n",
       "      <button class=\"colab-df-convert\" onclick=\"convertToInteractive('df-b0d74234-ce4b-4570-9561-4600f7b52e27')\"\n",
       "              title=\"Convert this dataframe to an interactive table.\"\n",
       "              style=\"display:none;\">\n",
       "        \n",
       "  <svg xmlns=\"http://www.w3.org/2000/svg\" height=\"24px\"viewBox=\"0 0 24 24\"\n",
       "       width=\"24px\">\n",
       "    <path d=\"M0 0h24v24H0V0z\" fill=\"none\"/>\n",
       "    <path d=\"M18.56 5.44l.94 2.06.94-2.06 2.06-.94-2.06-.94-.94-2.06-.94 2.06-2.06.94zm-11 1L8.5 8.5l.94-2.06 2.06-.94-2.06-.94L8.5 2.5l-.94 2.06-2.06.94zm10 10l.94 2.06.94-2.06 2.06-.94-2.06-.94-.94-2.06-.94 2.06-2.06.94z\"/><path d=\"M17.41 7.96l-1.37-1.37c-.4-.4-.92-.59-1.43-.59-.52 0-1.04.2-1.43.59L10.3 9.45l-7.72 7.72c-.78.78-.78 2.05 0 2.83L4 21.41c.39.39.9.59 1.41.59.51 0 1.02-.2 1.41-.59l7.78-7.78 2.81-2.81c.8-.78.8-2.07 0-2.86zM5.41 20L4 18.59l7.72-7.72 1.47 1.35L5.41 20z\"/>\n",
       "  </svg>\n",
       "      </button>\n",
       "      \n",
       "  <style>\n",
       "    .colab-df-container {\n",
       "      display:flex;\n",
       "      flex-wrap:wrap;\n",
       "      gap: 12px;\n",
       "    }\n",
       "\n",
       "    .colab-df-convert {\n",
       "      background-color: #E8F0FE;\n",
       "      border: none;\n",
       "      border-radius: 50%;\n",
       "      cursor: pointer;\n",
       "      display: none;\n",
       "      fill: #1967D2;\n",
       "      height: 32px;\n",
       "      padding: 0 0 0 0;\n",
       "      width: 32px;\n",
       "    }\n",
       "\n",
       "    .colab-df-convert:hover {\n",
       "      background-color: #E2EBFA;\n",
       "      box-shadow: 0px 1px 2px rgba(60, 64, 67, 0.3), 0px 1px 3px 1px rgba(60, 64, 67, 0.15);\n",
       "      fill: #174EA6;\n",
       "    }\n",
       "\n",
       "    [theme=dark] .colab-df-convert {\n",
       "      background-color: #3B4455;\n",
       "      fill: #D2E3FC;\n",
       "    }\n",
       "\n",
       "    [theme=dark] .colab-df-convert:hover {\n",
       "      background-color: #434B5C;\n",
       "      box-shadow: 0px 1px 3px 1px rgba(0, 0, 0, 0.15);\n",
       "      filter: drop-shadow(0px 1px 2px rgba(0, 0, 0, 0.3));\n",
       "      fill: #FFFFFF;\n",
       "    }\n",
       "  </style>\n",
       "\n",
       "      <script>\n",
       "        const buttonEl =\n",
       "          document.querySelector('#df-b0d74234-ce4b-4570-9561-4600f7b52e27 button.colab-df-convert');\n",
       "        buttonEl.style.display =\n",
       "          google.colab.kernel.accessAllowed ? 'block' : 'none';\n",
       "\n",
       "        async function convertToInteractive(key) {\n",
       "          const element = document.querySelector('#df-b0d74234-ce4b-4570-9561-4600f7b52e27');\n",
       "          const dataTable =\n",
       "            await google.colab.kernel.invokeFunction('convertToInteractive',\n",
       "                                                     [key], {});\n",
       "          if (!dataTable) return;\n",
       "\n",
       "          const docLinkHtml = 'Like what you see? Visit the ' +\n",
       "            '<a target=\"_blank\" href=https://colab.research.google.com/notebooks/data_table.ipynb>data table notebook</a>'\n",
       "            + ' to learn more about interactive tables.';\n",
       "          element.innerHTML = '';\n",
       "          dataTable['output_type'] = 'display_data';\n",
       "          await google.colab.output.renderOutput(dataTable, element);\n",
       "          const docLink = document.createElement('div');\n",
       "          docLink.innerHTML = docLinkHtml;\n",
       "          element.appendChild(docLink);\n",
       "        }\n",
       "      </script>\n",
       "    </div>\n",
       "  </div>\n",
       "  "
      ],
      "text/plain": [
       "                 state  serviceCharge                     heatingType  \\\n",
       "0  Nordrhein_Westfalen       1.319944                 central_heating   \n",
       "2              Sachsen       1.454316                   floor_heating   \n",
       "4               Bremen      -0.117838  self_contained_central_heating   \n",
       "6              Sachsen      -1.031569  self_contained_central_heating   \n",
       "7               Bremen      -0.789699                 central_heating   \n",
       "\n",
       "   newlyConst  balcony  totalRent  hasKitchen  cellar  livingSpace  \\\n",
       "0       False    False     840.00       False    True     0.516404   \n",
       "2        True     True    1300.00       False    True     0.438742   \n",
       "4       False     True     903.00       False   False     0.480044   \n",
       "6       False    False     380.00       False    True    -0.330815   \n",
       "7       False     True     584.25       False    True    -0.390826   \n",
       "\n",
       "         condition  ...  baseRentRange    typeOfFlat   noRooms         floor  \\\n",
       "0        well_kept  ...       0.155208  ground_floor  1.500857 -7.611405e-01   \n",
       "2   first_time_use  ...       1.099042     apartment  0.439257  6.746163e-01   \n",
       "4      refurbished  ...       0.627125     apartment  0.439257 -7.611405e-01   \n",
       "6  fully_renovated  ...      -0.788626     apartment -0.622343 -7.611405e-01   \n",
       "7            other  ...      -0.316709  ground_floor  0.439257  1.448146e-14   \n",
       "\n",
       "   garden                 city TRent_log  numberOfYear  Price_m2  additioncost  \n",
       "0    True             Dortmund  0.423552  6.411628e-02 -0.284916      0.302900  \n",
       "2   False              Dresden  1.292326 -1.522125e+00  0.483649      0.656025  \n",
       "4   False                Other  0.567395  5.047390e-01  0.063607     -0.116926  \n",
       "6    True  Mittelsachsen_Kreis -1.153102 -1.165276e-15 -0.605690     -0.383732  \n",
       "7   False                Other -0.298380  2.403654e-01 -0.187711     -0.140468  \n",
       "\n",
       "[5 rows x 21 columns]"
      ]
     },
     "execution_count": 53,
     "metadata": {},
     "output_type": "execute_result"
    }
   ],
   "source": [
    "for cols in dfModel.columns:\n",
    "    if dfModel[cols].dtype == 'int64' or dfModel[cols].dtype == 'float64':\n",
    "        if cols != 'totalRent':\n",
    "            dfModel[cols] = ((dfModel[cols] - dfModel[cols].mean())/(dfModel[cols].std()))\n",
    "\n",
    "dfModel.head()"
   ]
  },
  {
   "cell_type": "markdown",
   "metadata": {
    "id": "P2AXoe0k8tua"
   },
   "source": [
    "Convert categorical data to dummies variables"
   ]
  },
  {
   "cell_type": "code",
   "execution_count": 54,
   "metadata": {
    "colab": {
     "base_uri": "https://localhost:8080/",
     "height": 386
    },
    "id": "5CoXNdiv6xCp",
    "outputId": "16449f94-7da0-4389-9de1-3ce335b91896"
   },
   "outputs": [
    {
     "data": {
      "text/html": [
       "\n",
       "  <div id=\"df-a059e288-b692-41bc-b96e-6aae166e6ff4\">\n",
       "    <div class=\"colab-df-container\">\n",
       "      <div>\n",
       "<style scoped>\n",
       "    .dataframe tbody tr th:only-of-type {\n",
       "        vertical-align: middle;\n",
       "    }\n",
       "\n",
       "    .dataframe tbody tr th {\n",
       "        vertical-align: top;\n",
       "    }\n",
       "\n",
       "    .dataframe thead th {\n",
       "        text-align: right;\n",
       "    }\n",
       "</style>\n",
       "<table border=\"1\" class=\"dataframe\">\n",
       "  <thead>\n",
       "    <tr style=\"text-align: right;\">\n",
       "      <th></th>\n",
       "      <th>serviceCharge</th>\n",
       "      <th>totalRent</th>\n",
       "      <th>livingSpace</th>\n",
       "      <th>baseRentRange</th>\n",
       "      <th>noRooms</th>\n",
       "      <th>floor</th>\n",
       "      <th>TRent_log</th>\n",
       "      <th>numberOfYear</th>\n",
       "      <th>Price_m2</th>\n",
       "      <th>additioncost</th>\n",
       "      <th>...</th>\n",
       "      <th>city_Köln</th>\n",
       "      <th>city_Leipzig</th>\n",
       "      <th>city_Leipzig_Kreis</th>\n",
       "      <th>city_Magdeburg</th>\n",
       "      <th>city_Mittelsachsen_Kreis</th>\n",
       "      <th>city_München</th>\n",
       "      <th>city_Other</th>\n",
       "      <th>city_Recklinghausen_Kreis</th>\n",
       "      <th>city_Zwickau</th>\n",
       "      <th>city_Zwickau_Kreis</th>\n",
       "    </tr>\n",
       "  </thead>\n",
       "  <tbody>\n",
       "    <tr>\n",
       "      <th>0</th>\n",
       "      <td>1.319944</td>\n",
       "      <td>840.00</td>\n",
       "      <td>0.516404</td>\n",
       "      <td>0.155208</td>\n",
       "      <td>1.500857</td>\n",
       "      <td>-7.611405e-01</td>\n",
       "      <td>0.423552</td>\n",
       "      <td>6.411628e-02</td>\n",
       "      <td>-0.284916</td>\n",
       "      <td>0.302900</td>\n",
       "      <td>...</td>\n",
       "      <td>0</td>\n",
       "      <td>0</td>\n",
       "      <td>0</td>\n",
       "      <td>0</td>\n",
       "      <td>0</td>\n",
       "      <td>0</td>\n",
       "      <td>0</td>\n",
       "      <td>0</td>\n",
       "      <td>0</td>\n",
       "      <td>0</td>\n",
       "    </tr>\n",
       "    <tr>\n",
       "      <th>2</th>\n",
       "      <td>1.454316</td>\n",
       "      <td>1300.00</td>\n",
       "      <td>0.438742</td>\n",
       "      <td>1.099042</td>\n",
       "      <td>0.439257</td>\n",
       "      <td>6.746163e-01</td>\n",
       "      <td>1.292326</td>\n",
       "      <td>-1.522125e+00</td>\n",
       "      <td>0.483649</td>\n",
       "      <td>0.656025</td>\n",
       "      <td>...</td>\n",
       "      <td>0</td>\n",
       "      <td>0</td>\n",
       "      <td>0</td>\n",
       "      <td>0</td>\n",
       "      <td>0</td>\n",
       "      <td>0</td>\n",
       "      <td>0</td>\n",
       "      <td>0</td>\n",
       "      <td>0</td>\n",
       "      <td>0</td>\n",
       "    </tr>\n",
       "    <tr>\n",
       "      <th>4</th>\n",
       "      <td>-0.117838</td>\n",
       "      <td>903.00</td>\n",
       "      <td>0.480044</td>\n",
       "      <td>0.627125</td>\n",
       "      <td>0.439257</td>\n",
       "      <td>-7.611405e-01</td>\n",
       "      <td>0.567395</td>\n",
       "      <td>5.047390e-01</td>\n",
       "      <td>0.063607</td>\n",
       "      <td>-0.116926</td>\n",
       "      <td>...</td>\n",
       "      <td>0</td>\n",
       "      <td>0</td>\n",
       "      <td>0</td>\n",
       "      <td>0</td>\n",
       "      <td>0</td>\n",
       "      <td>0</td>\n",
       "      <td>1</td>\n",
       "      <td>0</td>\n",
       "      <td>0</td>\n",
       "      <td>0</td>\n",
       "    </tr>\n",
       "    <tr>\n",
       "      <th>6</th>\n",
       "      <td>-1.031569</td>\n",
       "      <td>380.00</td>\n",
       "      <td>-0.330815</td>\n",
       "      <td>-0.788626</td>\n",
       "      <td>-0.622343</td>\n",
       "      <td>-7.611405e-01</td>\n",
       "      <td>-1.153102</td>\n",
       "      <td>-1.165276e-15</td>\n",
       "      <td>-0.605690</td>\n",
       "      <td>-0.383732</td>\n",
       "      <td>...</td>\n",
       "      <td>0</td>\n",
       "      <td>0</td>\n",
       "      <td>0</td>\n",
       "      <td>0</td>\n",
       "      <td>1</td>\n",
       "      <td>0</td>\n",
       "      <td>0</td>\n",
       "      <td>0</td>\n",
       "      <td>0</td>\n",
       "      <td>0</td>\n",
       "    </tr>\n",
       "    <tr>\n",
       "      <th>7</th>\n",
       "      <td>-0.789699</td>\n",
       "      <td>584.25</td>\n",
       "      <td>-0.390826</td>\n",
       "      <td>-0.316709</td>\n",
       "      <td>0.439257</td>\n",
       "      <td>1.448146e-14</td>\n",
       "      <td>-0.298380</td>\n",
       "      <td>2.403654e-01</td>\n",
       "      <td>-0.187711</td>\n",
       "      <td>-0.140468</td>\n",
       "      <td>...</td>\n",
       "      <td>0</td>\n",
       "      <td>0</td>\n",
       "      <td>0</td>\n",
       "      <td>0</td>\n",
       "      <td>0</td>\n",
       "      <td>0</td>\n",
       "      <td>1</td>\n",
       "      <td>0</td>\n",
       "      <td>0</td>\n",
       "      <td>0</td>\n",
       "    </tr>\n",
       "  </tbody>\n",
       "</table>\n",
       "<p>5 rows × 90 columns</p>\n",
       "</div>\n",
       "      <button class=\"colab-df-convert\" onclick=\"convertToInteractive('df-a059e288-b692-41bc-b96e-6aae166e6ff4')\"\n",
       "              title=\"Convert this dataframe to an interactive table.\"\n",
       "              style=\"display:none;\">\n",
       "        \n",
       "  <svg xmlns=\"http://www.w3.org/2000/svg\" height=\"24px\"viewBox=\"0 0 24 24\"\n",
       "       width=\"24px\">\n",
       "    <path d=\"M0 0h24v24H0V0z\" fill=\"none\"/>\n",
       "    <path d=\"M18.56 5.44l.94 2.06.94-2.06 2.06-.94-2.06-.94-.94-2.06-.94 2.06-2.06.94zm-11 1L8.5 8.5l.94-2.06 2.06-.94-2.06-.94L8.5 2.5l-.94 2.06-2.06.94zm10 10l.94 2.06.94-2.06 2.06-.94-2.06-.94-.94-2.06-.94 2.06-2.06.94z\"/><path d=\"M17.41 7.96l-1.37-1.37c-.4-.4-.92-.59-1.43-.59-.52 0-1.04.2-1.43.59L10.3 9.45l-7.72 7.72c-.78.78-.78 2.05 0 2.83L4 21.41c.39.39.9.59 1.41.59.51 0 1.02-.2 1.41-.59l7.78-7.78 2.81-2.81c.8-.78.8-2.07 0-2.86zM5.41 20L4 18.59l7.72-7.72 1.47 1.35L5.41 20z\"/>\n",
       "  </svg>\n",
       "      </button>\n",
       "      \n",
       "  <style>\n",
       "    .colab-df-container {\n",
       "      display:flex;\n",
       "      flex-wrap:wrap;\n",
       "      gap: 12px;\n",
       "    }\n",
       "\n",
       "    .colab-df-convert {\n",
       "      background-color: #E8F0FE;\n",
       "      border: none;\n",
       "      border-radius: 50%;\n",
       "      cursor: pointer;\n",
       "      display: none;\n",
       "      fill: #1967D2;\n",
       "      height: 32px;\n",
       "      padding: 0 0 0 0;\n",
       "      width: 32px;\n",
       "    }\n",
       "\n",
       "    .colab-df-convert:hover {\n",
       "      background-color: #E2EBFA;\n",
       "      box-shadow: 0px 1px 2px rgba(60, 64, 67, 0.3), 0px 1px 3px 1px rgba(60, 64, 67, 0.15);\n",
       "      fill: #174EA6;\n",
       "    }\n",
       "\n",
       "    [theme=dark] .colab-df-convert {\n",
       "      background-color: #3B4455;\n",
       "      fill: #D2E3FC;\n",
       "    }\n",
       "\n",
       "    [theme=dark] .colab-df-convert:hover {\n",
       "      background-color: #434B5C;\n",
       "      box-shadow: 0px 1px 3px 1px rgba(0, 0, 0, 0.15);\n",
       "      filter: drop-shadow(0px 1px 2px rgba(0, 0, 0, 0.3));\n",
       "      fill: #FFFFFF;\n",
       "    }\n",
       "  </style>\n",
       "\n",
       "      <script>\n",
       "        const buttonEl =\n",
       "          document.querySelector('#df-a059e288-b692-41bc-b96e-6aae166e6ff4 button.colab-df-convert');\n",
       "        buttonEl.style.display =\n",
       "          google.colab.kernel.accessAllowed ? 'block' : 'none';\n",
       "\n",
       "        async function convertToInteractive(key) {\n",
       "          const element = document.querySelector('#df-a059e288-b692-41bc-b96e-6aae166e6ff4');\n",
       "          const dataTable =\n",
       "            await google.colab.kernel.invokeFunction('convertToInteractive',\n",
       "                                                     [key], {});\n",
       "          if (!dataTable) return;\n",
       "\n",
       "          const docLinkHtml = 'Like what you see? Visit the ' +\n",
       "            '<a target=\"_blank\" href=https://colab.research.google.com/notebooks/data_table.ipynb>data table notebook</a>'\n",
       "            + ' to learn more about interactive tables.';\n",
       "          element.innerHTML = '';\n",
       "          dataTable['output_type'] = 'display_data';\n",
       "          await google.colab.output.renderOutput(dataTable, element);\n",
       "          const docLink = document.createElement('div');\n",
       "          docLink.innerHTML = docLinkHtml;\n",
       "          element.appendChild(docLink);\n",
       "        }\n",
       "      </script>\n",
       "    </div>\n",
       "  </div>\n",
       "  "
      ],
      "text/plain": [
       "   serviceCharge  totalRent  livingSpace  baseRentRange   noRooms  \\\n",
       "0       1.319944     840.00     0.516404       0.155208  1.500857   \n",
       "2       1.454316    1300.00     0.438742       1.099042  0.439257   \n",
       "4      -0.117838     903.00     0.480044       0.627125  0.439257   \n",
       "6      -1.031569     380.00    -0.330815      -0.788626 -0.622343   \n",
       "7      -0.789699     584.25    -0.390826      -0.316709  0.439257   \n",
       "\n",
       "          floor  TRent_log  numberOfYear  Price_m2  additioncost  ...  \\\n",
       "0 -7.611405e-01   0.423552  6.411628e-02 -0.284916      0.302900  ...   \n",
       "2  6.746163e-01   1.292326 -1.522125e+00  0.483649      0.656025  ...   \n",
       "4 -7.611405e-01   0.567395  5.047390e-01  0.063607     -0.116926  ...   \n",
       "6 -7.611405e-01  -1.153102 -1.165276e-15 -0.605690     -0.383732  ...   \n",
       "7  1.448146e-14  -0.298380  2.403654e-01 -0.187711     -0.140468  ...   \n",
       "\n",
       "   city_Köln  city_Leipzig  city_Leipzig_Kreis  city_Magdeburg  \\\n",
       "0          0             0                   0               0   \n",
       "2          0             0                   0               0   \n",
       "4          0             0                   0               0   \n",
       "6          0             0                   0               0   \n",
       "7          0             0                   0               0   \n",
       "\n",
       "   city_Mittelsachsen_Kreis  city_München  city_Other  \\\n",
       "0                         0             0           0   \n",
       "2                         0             0           0   \n",
       "4                         0             0           1   \n",
       "6                         1             0           0   \n",
       "7                         0             0           1   \n",
       "\n",
       "   city_Recklinghausen_Kreis  city_Zwickau  city_Zwickau_Kreis  \n",
       "0                          0             0                   0  \n",
       "2                          0             0                   0  \n",
       "4                          0             0                   0  \n",
       "6                          0             0                   0  \n",
       "7                          0             0                   0  \n",
       "\n",
       "[5 rows x 90 columns]"
      ]
     },
     "execution_count": 54,
     "metadata": {},
     "output_type": "execute_result"
    }
   ],
   "source": [
    "dfmodel_new = pd.get_dummies(dfModel, columns=['state', 'heatingType', 'newlyConst',\n",
    "                                               'balcony', 'hasKitchen', 'cellar', 'condition', 'lift', 'typeOfFlat', 'garden', 'city'])\n",
    "dfmodel_new.head()"
   ]
  },
  {
   "cell_type": "code",
   "execution_count": 55,
   "metadata": {
    "colab": {
     "base_uri": "https://localhost:8080/"
    },
    "id": "PghtoTiy-NYy",
    "outputId": "10ef4d02-1c78-4ca1-e70a-ae9653ae1d30"
   },
   "outputs": [
    {
     "name": "stdout",
     "output_type": "stream",
     "text": [
      "(217098, 89)\n",
      "(217098,)\n"
     ]
    }
   ],
   "source": [
    "# Split dataset into test and training data\n",
    "y = dfmodel_new['totalRent']\n",
    "x = dfmodel_new.drop(columns = ['totalRent'])\n",
    "print(x.shape)\n",
    "print(y.shape)"
   ]
  },
  {
   "cell_type": "code",
   "execution_count": 56,
   "metadata": {
    "id": "RpsIIPdGA0FD"
   },
   "outputs": [],
   "source": [
    "x_train, x_test, y_train, y_test = train_test_split(x, y, test_size=0.20, random_state=0)"
   ]
  },
  {
   "cell_type": "code",
   "execution_count": 57,
   "metadata": {
    "id": "QdkIc6GREHdU"
   },
   "outputs": [],
   "source": [
    "from sklearn.preprocessing import StandardScaler\n",
    "scaler = StandardScaler()\n",
    "x_train = scaler.fit_transform(x_train)\n",
    "x_test = scaler.fit_transform(x_test)"
   ]
  },
  {
   "cell_type": "markdown",
   "metadata": {
    "id": "kePIkUQNJGOW"
   },
   "source": [
    "###Tree Regression"
   ]
  },
  {
   "cell_type": "code",
   "execution_count": 58,
   "metadata": {
    "id": "4IB1nuO0EMDh"
   },
   "outputs": [],
   "source": [
    "#Preparing a Decision Tree Regression\n",
    "from sklearn.tree import DecisionTreeRegressor\n",
    "DTree=DecisionTreeRegressor(min_samples_leaf=.0001)\n",
    "DTree.fit(x_train,y_train)\n",
    "y_pred=DTree.predict(x_test)\n"
   ]
  },
  {
   "cell_type": "code",
   "execution_count": 59,
   "metadata": {
    "colab": {
     "base_uri": "https://localhost:8080/"
    },
    "id": "hYZsc3CoGjWZ",
    "outputId": "6e91cf47-d79c-491d-aa15-81170506e88d"
   },
   "outputs": [
    {
     "name": "stdout",
     "output_type": "stream",
     "text": [
      "R2 score:  71.18140938439608\n",
      "RMSE:  277.3495559228842\n"
     ]
    }
   ],
   "source": [
    "from sklearn.metrics import r2_score\n",
    "print(\"R2 score: \",r2_score(y_test,y_pred)*100)\n",
    "print(\"RMSE: \",np.sqrt(mean_squared_error(y_test,y_pred)))\n"
   ]
  },
  {
   "cell_type": "code",
   "execution_count": 60,
   "metadata": {
    "colab": {
     "base_uri": "https://localhost:8080/"
    },
    "id": "lePE4672Glna",
    "outputId": "cb2389c8-d195-40b8-a582-76d99ae5413f"
   },
   "outputs": [
    {
     "name": "stdout",
     "output_type": "stream",
     "text": [
      "   Actual Values  Predicted Values\n",
      "0         2001.0       1994.319091\n",
      "1          490.0        489.604333\n",
      "2          395.0        394.567778\n",
      "3         1650.0       1644.938800\n",
      "4         1328.9       1325.060526\n"
     ]
    }
   ],
   "source": [
    "#Error\n",
    "errordf2 = pd.DataFrame({'Actual Values': np.array(y_test).flatten(), 'Predicted Values': y_pred.flatten()})\n",
    "print(errordf2.head(5))"
   ]
  },
  {
   "cell_type": "code",
   "execution_count": 61,
   "metadata": {
    "colab": {
     "base_uri": "https://localhost:8080/",
     "height": 431
    },
    "id": "McLa89tPGoqC",
    "outputId": "7e35be48-f33e-4702-9f30-edbd8ea1ecd2"
   },
   "outputs": [
    {
     "data": {
      "image/png": "[encoded data removed]",
      "text/plain": [
       "<Figure size 720x504 with 1 Axes>"
      ]
     },
     "metadata": {
      "needs_background": "light"
     },
     "output_type": "display_data"
    }
   ],
   "source": [
    "#Error visualization\n",
    "df2 = errordf2.head(25)\n",
    "df2.plot(kind='bar',figsize=(10,7))\n",
    "plt.grid(which='major', linestyle='-', linewidth='0.5', color='green')\n",
    "plt.grid(which='minor', linestyle=':', linewidth='0.5', color='black')\n",
    "plt.show()"
   ]
  },
  {
   "cell_type": "markdown",
   "metadata": {
    "id": "qtVn4JvmVQ8A"
   },
   "source": [
    "The plot shows the relationship between Actual Values and Predicted Values in tree regression\n",
    "model.In this model R squared equals to 0.71 which shows accuracy is almost good.\n"
   ]
  },
  {
   "cell_type": "markdown",
   "metadata": {
    "id": "2h3lpeV7JMpY"
   },
   "source": [
    "###Lasso regression"
   ]
  },
  {
   "cell_type": "code",
   "execution_count": 62,
   "metadata": {
    "id": "E9v0k32pGzJ9"
   },
   "outputs": [],
   "source": [
    "regL1 = Lasso(alpha=0.01)\n",
    "regL1.fit(x_train, y_train) \n",
    "\n",
    "y_pred=regL1.predict(x_test)"
   ]
  },
  {
   "cell_type": "code",
   "execution_count": 63,
   "metadata": {
    "colab": {
     "base_uri": "https://localhost:8080/"
    },
    "id": "WQR6U60KHpLQ",
    "outputId": "5106d67e-820f-41d6-ef0d-39d66604e147"
   },
   "outputs": [
    {
     "name": "stdout",
     "output_type": "stream",
     "text": [
      "R2 score:  93.95143511703841\n",
      "RMSE:  127.06246544119904\n"
     ]
    }
   ],
   "source": [
    "from sklearn.metrics import r2_score\n",
    "print(\"R2 score: \",r2_score(y_test,y_pred)*100)\n",
    "print(\"RMSE: \",np.sqrt(mean_squared_error(y_test,y_pred)))"
   ]
  },
  {
   "cell_type": "code",
   "execution_count": 64,
   "metadata": {
    "colab": {
     "base_uri": "https://localhost:8080/"
    },
    "id": "5tAecRDRHwyW",
    "outputId": "a26d4e3d-5d1e-4833-eb5b-9463d2745444"
   },
   "outputs": [
    {
     "name": "stdout",
     "output_type": "stream",
     "text": [
      "   Actual Values  Predicted Values\n",
      "0         2001.0       1753.739166\n",
      "1          490.0        430.324166\n",
      "2          395.0        330.581171\n",
      "3         1650.0       1429.570368\n",
      "4         1328.9       1287.655961\n"
     ]
    }
   ],
   "source": [
    "#Error\n",
    "errordf3 = pd.DataFrame({'Actual Values': np.array(y_test).flatten(), 'Predicted Values': y_pred.flatten()})\n",
    "print(errordf3.head(5))\n"
   ]
  },
  {
   "cell_type": "code",
   "execution_count": 65,
   "metadata": {
    "colab": {
     "base_uri": "https://localhost:8080/",
     "height": 431
    },
    "id": "_Xwk6Qy-H1vO",
    "outputId": "f49525c4-7f8a-490a-b7bd-6fe836a8ff36"
   },
   "outputs": [
    {
     "data": {
      "image/png": "[encoded data removed]",
      "text/plain": [
       "<Figure size 720x504 with 1 Axes>"
      ]
     },
     "metadata": {
      "needs_background": "light"
     },
     "output_type": "display_data"
    }
   ],
   "source": [
    "#Error visualization\n",
    "df2 = errordf2.head(25)\n",
    "df2.plot(kind='bar',figsize=(10,7))\n",
    "plt.grid(which='major', linestyle='-', linewidth='0.5', color='green')\n",
    "plt.grid(which='minor', linestyle=':', linewidth='0.5', color='black')\n",
    "plt.show()"
   ]
  },
  {
   "cell_type": "markdown",
   "metadata": {
    "id": "WBYGuQbuVEny"
   },
   "source": [
    "The plot shows the relationship between Actual Values and Predicted Values in lasso regression\n",
    "model.In this model R squared equals to 0.93 which shows accuracy is pretty good.\n"
   ]
  },
  {
   "cell_type": "markdown",
   "metadata": {
    "id": "ZQMJUbQfUtid"
   },
   "source": [
    "**Conclusion**: lasso regression is the best prediction model, in compare to tree regression model, as its\n",
    "R2 is 0.93"
   ]
  }
 ],
 "metadata": {
  "colab": {
   "collapsed_sections": [],
   "name": "immo_data.ipynb",
   "provenance": []
  },
  "kernelspec": {
   "display_name": "Python 3",
   "language": "python",
   "name": "python3"
  },
  "language_info": {
   "codemirror_mode": {
    "name": "ipython",
    "version": 3
   },
   "file_extension": ".py",
   "mimetype": "text/x-python",
   "name": "python",
   "nbconvert_exporter": "python",
   "pygments_lexer": "ipython3",
   "version": "3.8.3"
  }
 },
 "nbformat": 4,
 "nbformat_minor": 1
}
