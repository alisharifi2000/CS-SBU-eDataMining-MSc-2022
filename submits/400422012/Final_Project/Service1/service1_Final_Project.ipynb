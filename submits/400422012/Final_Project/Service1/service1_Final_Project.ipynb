{
  "nbformat": 4,
  "nbformat_minor": 0,
  "metadata": {
    "colab": {
      "name": "service1_Final_Project",
      "provenance": [],
      "collapsed_sections": []
    },
    "kernelspec": {
      "name": "python3",
      "display_name": "Python 3"
    }
  },
  "cells": [
    {
      "cell_type": "markdown",
      "source": [
        "# Install dependencies\n"
      ],
      "metadata": {
        "id": "8dty2qbOe-qZ"
      }
    },
    {
      "cell_type": "code",
      "source": [
        "!pip install persiantools\n",
        "import json\n",
        "from google.colab import files\n",
        "import pandas as pd\n",
        "import io\n",
        "from persiantools.jdatetime import JalaliDate\n",
        "import datetime"
      ],
      "metadata": {
        "id": "4VJFjvpOwF3u",
        "outputId": "9797cb84-4b58-4ca0-fa95-c8489b4cd8e9",
        "colab": {
          "base_uri": "https://localhost:8080/"
        }
      },
      "execution_count": null,
      "outputs": [
        {
          "output_type": "stream",
          "name": "stdout",
          "text": [
            "Looking in indexes: https://pypi.org/simple, https://us-python.pkg.dev/colab-wheels/public/simple/\n",
            "Collecting persiantools\n",
            "  Downloading persiantools-3.0.1-py3-none-any.whl (15 kB)\n",
            "Installing collected packages: persiantools\n",
            "Successfully installed persiantools-3.0.1\n"
          ]
        }
      ]
    },
    {
      "cell_type": "markdown",
      "source": [
        "# Upload Json file \n",
        "\n",
        "\n",
        "**Sample structure**\n",
        "```\n",
        "{\n",
        "  \"data\": {\n",
        "    \"1400/01/01\": \"100\",\n",
        "    \"1400/01/02\": \"150\",\n",
        "    \"1400/01/03\": \"200\",\n",
        "    \"1400/01/22\": \"800\"\n",
        "  },\n",
        "  \"config\": {\n",
        "    \"type\": \"shamsi\",\n",
        "    \"time\": \"daily\",\n",
        "    \"interpolation\": \"linear\"\n",
        "  }\n",
        "}\n",
        "```\n",
        "\n"
      ],
      "metadata": {
        "id": "jyr0GQxFfHkw"
      }
    },
    {
      "cell_type": "code",
      "source": [
        "#choose your json file to be uploaded\n",
        "uploaded = files.upload()"
      ],
      "metadata": {
        "id": "1j-WAy6A75j4",
        "outputId": "f64d6af6-d028-4484-9211-1a2a4693582d",
        "colab": {
          "resources": {
            "http://localhost:8080/nbextensions/google.colab/files.js": {
              "data": "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",
              "ok": true,
              "headers": [
                [
                  "content-type",
                  "application/javascript"
                ]
              ],
              "status": 200,
              "status_text": ""
            }
          },
          "base_uri": "https://localhost:8080/",
          "height": 73
        }
      },
      "execution_count": null,
      "outputs": [
        {
          "output_type": "display_data",
          "data": {
            "text/plain": [
              "<IPython.core.display.HTML object>"
            ],
            "text/html": [
              "\n",
              "     <input type=\"file\" id=\"files-0e89b205-a9ca-44e0-b439-95c6bb0db1d3\" name=\"files[]\" multiple disabled\n",
              "        style=\"border:none\" />\n",
              "     <output id=\"result-0e89b205-a9ca-44e0-b439-95c6bb0db1d3\">\n",
              "      Upload widget is only available when the cell has been executed in the\n",
              "      current browser session. Please rerun this cell to enable.\n",
              "      </output>\n",
              "      <script src=\"/nbextensions/google.colab/files.js\"></script> "
            ]
          },
          "metadata": {}
        },
        {
          "output_type": "stream",
          "name": "stdout",
          "text": [
            "Saving sample.json to sample.json\n"
          ]
        }
      ]
    },
    {
      "cell_type": "markdown",
      "source": [
        "# Read each data and config from uploaded Json seprately into Pandas Dataframes\n",
        "\n",
        "\n",
        "\n"
      ],
      "metadata": {
        "id": "GloBfH-UgHOK"
      }
    },
    {
      "cell_type": "code",
      "metadata": {
        "id": "9vnVzMeKXe5U",
        "outputId": "edb71c0e-0430-444a-9cb6-9bac6aa8f044",
        "colab": {
          "base_uri": "https://localhost:8080/"
        }
      },
      "source": [
        "# replace your file_name by your own file name. (ex: 'sample.json')\n",
        "data = json.loads(uploaded['file_name'].decode(\"utf-8\"))\n",
        "input_time_series = pd.DataFrame(data[\"data\"].items(), columns=['Date', 'price'])\n",
        "\n",
        "config = pd.DataFrame(data[\"config\"].items())\n",
        "config.columns=['params', 'option']\n",
        "config = config.set_index('params')\n",
        "print(input_time_series)\n",
        "print(config)"
      ],
      "execution_count": null,
      "outputs": [
        {
          "output_type": "stream",
          "name": "stdout",
          "text": [
            "         Date price\n",
            "0  1400/01/01   100\n",
            "1  1400/01/02   150\n",
            "2  1400/01/03   200\n",
            "3  1400/01/22   800\n",
            "               option\n",
            "params               \n",
            "type           shamsi\n",
            "time            daily\n",
            "interpolation  linear\n"
          ]
        }
      ]
    },
    {
      "cell_type": "markdown",
      "source": [
        "# To simplify the process we convert the Shamsi date to gregorian (if needed)"
      ],
      "metadata": {
        "id": "cz-rCt4NganD"
      }
    },
    {
      "cell_type": "code",
      "source": [
        "# function that get the data and convert\n",
        "def to_gregorian_date(x):\n",
        "  year, month, day=x.split('/', 3)\n",
        "\n",
        "  return JalaliDate(int(year), int(month), int(day)).to_gregorian()"
      ],
      "metadata": {
        "id": "30Zmw8wT7_EN"
      },
      "execution_count": null,
      "outputs": []
    },
    {
      "cell_type": "code",
      "source": [
        "date_type =  config.iloc[config.index=='type']['option'].values[0]\n",
        "ts=input_time_series\n",
        "if date_type == 'shamsi':\n",
        "  ts['Date'] = ts['Date'].apply(to_gregorian_date)\n",
        "ts['Date'] = ts['Date'].astype('datetime64[ns]')\n",
        "data = ts.sort_values(by=['Date'], ascending=[True])\n",
        "ts = ts.set_index('Date')\n",
        "ts['price']= ts['price'].astype('int')\n",
        "print(ts)"
      ],
      "metadata": {
        "id": "Khgitihr4Mjj",
        "colab": {
          "base_uri": "https://localhost:8080/"
        },
        "outputId": "7c4e2ede-20af-4e6f-eaf2-6b4a369025c2"
      },
      "execution_count": null,
      "outputs": [
        {
          "output_type": "stream",
          "name": "stdout",
          "text": [
            "            price\n",
            "Date             \n",
            "2021-03-21    100\n",
            "2021-03-22    150\n",
            "2021-03-23    200\n",
            "2021-04-11    800\n"
          ]
        }
      ]
    },
    {
      "cell_type": "markdown",
      "source": [
        "# Generate the missing dates based on defined frequency"
      ],
      "metadata": {
        "id": "8_jEJ-1zgrSI"
      }
    },
    {
      "cell_type": "code",
      "source": [
        "time_type =  config.iloc[config.index=='time']['option'].values[0]\n",
        "\n",
        "if time_type == 'daily':\n",
        "  time_type = 'd'\n",
        "elif time_type == 'monthly':\n",
        "  time_type = 'm'\n",
        "elif time_type == 'yearly':\n",
        "  time_type = 'y'\n",
        "\n",
        "ts = ts.asfreq(time_type)\n",
        "print(ts)"
      ],
      "metadata": {
        "id": "OsGBfCImT0hH",
        "colab": {
          "base_uri": "https://localhost:8080/"
        },
        "outputId": "91007a8b-c232-4e3c-bf6b-479f00d6c860"
      },
      "execution_count": null,
      "outputs": [
        {
          "output_type": "stream",
          "name": "stdout",
          "text": [
            "            price\n",
            "Date             \n",
            "2021-03-21  100.0\n",
            "2021-03-22  150.0\n",
            "2021-03-23  200.0\n",
            "2021-03-24    NaN\n",
            "2021-03-25    NaN\n",
            "2021-03-26    NaN\n",
            "2021-03-27    NaN\n",
            "2021-03-28    NaN\n",
            "2021-03-29    NaN\n",
            "2021-03-30    NaN\n",
            "2021-03-31    NaN\n",
            "2021-04-01    NaN\n",
            "2021-04-02    NaN\n",
            "2021-04-03    NaN\n",
            "2021-04-04    NaN\n",
            "2021-04-05    NaN\n",
            "2021-04-06    NaN\n",
            "2021-04-07    NaN\n",
            "2021-04-08    NaN\n",
            "2021-04-09    NaN\n",
            "2021-04-10    NaN\n",
            "2021-04-11  800.0\n"
          ]
        }
      ]
    },
    {
      "cell_type": "markdown",
      "source": [
        "1. *Interpolation*"
      ],
      "metadata": {
        "id": "vwHbqP9iGqJs"
      }
    },
    {
      "cell_type": "markdown",
      "source": [
        "# Interpolate the missing values \n",
        "(Bonus task) Diffrent type of interpolation can be run"
      ],
      "metadata": {
        "id": "GwTDkyltg08m"
      }
    },
    {
      "cell_type": "code",
      "source": [
        "interpolation_type =  config.iloc[config.index=='interpolation']['option'].values[0]\n",
        "print(interpolation_type)\n",
        "def interpolation_f(input_data, Interpolation_type):\n",
        "  if interpolation_type == 'linear':\n",
        "    return input_data.interpolate(method='linear')\n",
        "  elif interpolation_type == 'spline':\n",
        "    return input_data.interpolate(method='spline', order=3)\n",
        "  elif interpolation_type == 'polynomial':\n",
        "    return input_data.interpolate(method='polynomial', order=2)\n",
        "  else:\n",
        "    return input_data\n",
        "\n",
        "\n",
        "ts['price'] = interpolation_f(ts['price'], interpolation_type)\n",
        "print(ts)"
      ],
      "metadata": {
        "id": "9fUYLxtoGrNz",
        "colab": {
          "base_uri": "https://localhost:8080/"
        },
        "outputId": "45f14328-4177-4165-fb04-6047a1fcadf7"
      },
      "execution_count": null,
      "outputs": [
        {
          "output_type": "stream",
          "name": "stdout",
          "text": [
            "linear\n",
            "                 price\n",
            "Date                  \n",
            "2021-03-21  100.000000\n",
            "2021-03-22  150.000000\n",
            "2021-03-23  200.000000\n",
            "2021-03-24  231.578947\n",
            "2021-03-25  263.157895\n",
            "2021-03-26  294.736842\n",
            "2021-03-27  326.315789\n",
            "2021-03-28  357.894737\n",
            "2021-03-29  389.473684\n",
            "2021-03-30  421.052632\n",
            "2021-03-31  452.631579\n",
            "2021-04-01  484.210526\n",
            "2021-04-02  515.789474\n",
            "2021-04-03  547.368421\n",
            "2021-04-04  578.947368\n",
            "2021-04-05  610.526316\n",
            "2021-04-06  642.105263\n",
            "2021-04-07  673.684211\n",
            "2021-04-08  705.263158\n",
            "2021-04-09  736.842105\n",
            "2021-04-10  768.421053\n",
            "2021-04-11  800.000000\n"
          ]
        }
      ]
    },
    {
      "cell_type": "markdown",
      "source": [
        "# Return the miladi to Shami date if needed"
      ],
      "metadata": {
        "id": "TjFz42FthFeI"
      }
    },
    {
      "cell_type": "code",
      "source": [
        "# function that convert miladi to shamsi\n",
        "def to_jalaly_date(x):\n",
        "  x = x.strftime(\"%Y-%m-%d\")\n",
        "  year, month, day=x.split('-', 3)\n",
        "\n",
        "  return JalaliDate.to_jalali(int(year), int(month), int(day)).strftime(\"%Y/%m/%d\")"
      ],
      "metadata": {
        "id": "H3XjWHTRZf2-"
      },
      "execution_count": null,
      "outputs": []
    },
    {
      "cell_type": "code",
      "source": [
        "if date_type == 'shamsi':\n",
        "  ts = ts.reset_index()\n",
        "  ts['Date'] = ts['Date'].apply(to_jalaly_date)\n",
        "  \n",
        "\n"
      ],
      "metadata": {
        "id": "QPpUF3uUZrhl"
      },
      "execution_count": null,
      "outputs": []
    },
    {
      "cell_type": "markdown",
      "source": [
        "# Print the output JSON"
      ],
      "metadata": {
        "id": "7b0XaT37hNGT"
      }
    },
    {
      "cell_type": "code",
      "source": [
        "ts.set_index('Date')['price'].to_dict()\n"
      ],
      "metadata": {
        "id": "CXagjBwBd23B",
        "colab": {
          "base_uri": "https://localhost:8080/"
        },
        "outputId": "eef5eb1c-5545-42cc-df70-f3500fef2a28"
      },
      "execution_count": null,
      "outputs": [
        {
          "output_type": "execute_result",
          "data": {
            "text/plain": [
              "{'1400/01/01': 100.0,\n",
              " '1400/01/02': 150.0,\n",
              " '1400/01/03': 200.0,\n",
              " '1400/01/04': 231.57894736842104,\n",
              " '1400/01/05': 263.1578947368421,\n",
              " '1400/01/06': 294.7368421052631,\n",
              " '1400/01/07': 326.3157894736842,\n",
              " '1400/01/08': 357.89473684210526,\n",
              " '1400/01/09': 389.4736842105263,\n",
              " '1400/01/10': 421.0526315789474,\n",
              " '1400/01/11': 452.63157894736844,\n",
              " '1400/01/12': 484.2105263157895,\n",
              " '1400/01/13': 515.7894736842105,\n",
              " '1400/01/14': 547.3684210526316,\n",
              " '1400/01/15': 578.9473684210526,\n",
              " '1400/01/16': 610.5263157894736,\n",
              " '1400/01/17': 642.1052631578948,\n",
              " '1400/01/18': 673.6842105263158,\n",
              " '1400/01/19': 705.2631578947369,\n",
              " '1400/01/20': 736.8421052631579,\n",
              " '1400/01/21': 768.421052631579,\n",
              " '1400/01/22': 800.0}"
            ]
          },
          "metadata": {},
          "execution_count": 24
        }
      ]
    },
    {
      "cell_type": "markdown",
      "source": [
        "## Writing data into a file"
      ],
      "metadata": {
        "id": "WhGIt2Xrnnn-"
      }
    },
    {
      "cell_type": "code",
      "source": [
        "#we can also write the result into a Json file \n",
        "dictionary = ts.set_index('Date')['price'].to_dict()\n",
        "with open('json_data.json', 'w') as outfile:\n",
        "    json.dump(dictionary, outfile)"
      ],
      "metadata": {
        "id": "Ds3gZ4i9icrB"
      },
      "execution_count": null,
      "outputs": []
    },
    {
      "cell_type": "code",
      "source": [
        ""
      ],
      "metadata": {
        "id": "k59Ek2KGn7S3"
      },
      "execution_count": null,
      "outputs": []
    }
  ]
}