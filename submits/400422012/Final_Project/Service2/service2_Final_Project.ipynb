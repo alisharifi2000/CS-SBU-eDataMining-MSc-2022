{
  "nbformat": 4,
  "nbformat_minor": 0,
  "metadata": {
    "colab": {
      "name": "service2_Final_Project",
      "provenance": [],
      "collapsed_sections": []
    },
    "kernelspec": {
      "name": "python3",
      "display_name": "Python 3"
    }
  },
  "cells": [
    {
      "cell_type": "markdown",
      "source": [
        "# Install dependencies\n"
      ],
      "metadata": {
        "id": "8dty2qbOe-qZ"
      }
    },
    {
      "cell_type": "code",
      "source": [
        "!pip install persiantools\n",
        "import json\n",
        "from google.colab import files\n",
        "import pandas as pd\n",
        "import io\n",
        "from persiantools.jdatetime import JalaliDate\n",
        "import datetime"
      ],
      "metadata": {
        "id": "4VJFjvpOwF3u"
      },
      "execution_count": null,
      "outputs": []
    },
    {
      "cell_type": "markdown",
      "source": [
        "# Upload Json file \n",
        "\n",
        "\n",
        "**Sample structure**\n",
        "```\n",
        "{\n",
        "  \"data\": {\n",
        "    \"2022/01/01\": \"100\",\n",
        "    \"2022/01/02\": \"150\",\n",
        "    \"2022/01/03\": \"200\",\n",
        "    \"2022/01/22\": \"800\"\n",
        "  },\n",
        "  \"config\": {\n",
        "    \"type\": \"miladi\",\n",
        "    \"time\": \"daily\",\n",
        "    \"interpolation\": \"linear\"\n",
        "  }\n",
        "}\n",
        "```\n",
        "\n"
      ],
      "metadata": {
        "id": "jyr0GQxFfHkw"
      }
    },
    {
      "cell_type": "code",
      "source": [
        "#choose your json file to be uploaded\n",
        "uploaded = files.upload()"
      ],
      "metadata": {
        "id": "1j-WAy6A75j4"
      },
      "execution_count": null,
      "outputs": []
    },
    {
      "cell_type": "markdown",
      "source": [
        "# Read each data and config from uploaded Json seprately into Pandas Dataframes\n",
        "\n",
        "\n",
        "\n"
      ],
      "metadata": {
        "id": "GloBfH-UgHOK"
      }
    },
    {
      "cell_type": "code",
      "metadata": {
        "id": "9vnVzMeKXe5U"
      },
      "source": [
        "# replace your file_name by your own file name. (ex: 'sample.json')\n",
        "data = json.loads(uploaded[file_name].decode(\"utf-8\"))\n",
        "\n",
        "input_time_series = pd.DataFrame(data[\"data\"].items(), columns=['Date', 'price'])\n",
        "\n",
        "config = pd.DataFrame(data[\"config\"].items())\n",
        "config.columns=['params', 'option']\n",
        "config = config.set_index('params')\n",
        "print(input_time_series)\n",
        "print(config)"
      ],
      "execution_count": null,
      "outputs": []
    },
    {
      "cell_type": "markdown",
      "source": [
        "## Convert Gregorian to Shamsi"
      ],
      "metadata": {
        "id": "Yo70Pv3m9fOe"
      }
    },
    {
      "cell_type": "code",
      "source": [
        "# function that get the data and convert\n",
        "def to_jalali_date(x):\n",
        "  year, month, day=x.split('-', 3)\n",
        "\n",
        "  return GregorianDate(int(year), int(month), int(day)).to_jalali_date()"
      ],
      "metadata": {
        "id": "G0kmQIyc96QS"
      },
      "execution_count": null,
      "outputs": []
    },
    {
      "cell_type": "code",
      "source": [
        "date_type =  config.iloc[config.index=='type']['option'].values[0]\n",
        "ts=input_time_series\n",
        "if date_type == 'miladi':\n",
        "  ts['Date'] = ts['Date'].apply(to_gregorian_date)\n",
        "ts['Date'] = ts['Date'].astype('datetime64[ns]')\n",
        "data = ts.sort_values(by=['Date'], ascending=[True])\n",
        "ts = ts.set_index('Date')\n",
        "ts['price']= ts['price'].astype('int')\n",
        "print(ts)"
      ],
      "metadata": {
        "id": "mJmYjDa_9mNM"
      },
      "execution_count": null,
      "outputs": []
    },
    {
      "cell_type": "markdown",
      "source": [
        "# Generate the missing dates based on defined frequency"
      ],
      "metadata": {
        "id": "8_jEJ-1zgrSI"
      }
    },
    {
      "cell_type": "code",
      "source": [
        "time_type =  config.iloc[config.index=='time']['option'].values[0]\n",
        "\n",
        "if time_type == 'daily':\n",
        "  time_type = 'd'\n",
        "elif time_type == 'monthly':\n",
        "  time_type = 'm'\n",
        "elif time_type == 'yearly':\n",
        "  time_type = 'y'\n",
        "\n",
        "ts = ts.asfreq(time_type)\n",
        "print(ts)"
      ],
      "metadata": {
        "id": "OsGBfCImT0hH"
      },
      "execution_count": null,
      "outputs": []
    },
    {
      "cell_type": "markdown",
      "source": [
        "1. *Interpolation*"
      ],
      "metadata": {
        "id": "vwHbqP9iGqJs"
      }
    },
    {
      "cell_type": "markdown",
      "source": [
        "# Interpolate the missing values \n",
        "(Bonus task) Diffrent type of interpolation can be run"
      ],
      "metadata": {
        "id": "GwTDkyltg08m"
      }
    },
    {
      "cell_type": "code",
      "source": [
        "interpolation_type =  config.iloc[config.index=='interpolation']['option'].values[0]\n",
        "print(interpolation_type)\n",
        "def interpolation_f(input_data, Interpolation_type):\n",
        "  if interpolation_type == 'linear':\n",
        "    return input_data.interpolate(method='linear')\n",
        "  elif interpolation_type == 'spline':\n",
        "    return input_data.interpolate(method='spline', order=3)\n",
        "  elif interpolation_type == 'polynomial':\n",
        "    return input_data.interpolate(method='polynomial', order=2)\n",
        "  else:\n",
        "    return input_data\n",
        "\n",
        "\n",
        "ts['price'] = interpolation_f(ts['price'], interpolation_type)\n",
        "print(ts)"
      ],
      "metadata": {
        "id": "9fUYLxtoGrNz"
      },
      "execution_count": null,
      "outputs": []
    },
    {
      "cell_type": "markdown",
      "source": [
        "# Print the output JSON"
      ],
      "metadata": {
        "id": "7b0XaT37hNGT"
      }
    },
    {
      "cell_type": "code",
      "source": [
        "ts.set_index('Date')['price'].to_dict()"
      ],
      "metadata": {
        "id": "CXagjBwBd23B"
      },
      "execution_count": null,
      "outputs": []
    }
  ]
}