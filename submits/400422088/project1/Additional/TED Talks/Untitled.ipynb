{
 "cells": [
  {
   "cell_type": "markdown",
   "id": "48118a5e-e62e-4927-81de-6a6b042432cd",
   "metadata": {},
   "source": [
    "### Visualization in Jupyter Lab"
   ]
  },
  {
   "cell_type": "code",
   "execution_count": 192,
   "id": "091bfe26-9ec7-4d45-90e7-1fc7b1448512",
   "metadata": {},
   "outputs": [],
   "source": [
    "%matplotlib inline"
   ]
  },
  {
   "cell_type": "markdown",
   "id": "71d59733-0593-4542-95ee-67eeed204bfd",
   "metadata": {},
   "source": [
    "### Import libararies"
   ]
  },
  {
   "cell_type": "code",
   "execution_count": 193,
   "id": "ff53e1aa-3269-4eae-95a2-6c5f4b358c4a",
   "metadata": {},
   "outputs": [],
   "source": [
    "import pandas as pd\n",
    "import seaborn as sns\n",
    "import matplotlib.pyplot as plt\n",
    "import ast"
   ]
  },
  {
   "cell_type": "markdown",
   "id": "49d4ce4d-b76d-434a-ac54-cb02a765a1b5",
   "metadata": {},
   "source": [
    "### Load data"
   ]
  },
  {
   "cell_type": "code",
   "execution_count": 194,
   "id": "faf799d1-1ca1-4f6d-b209-98cb0f665d7e",
   "metadata": {},
   "outputs": [],
   "source": [
    "main_data = pd.read_csv('dataset/ted_main.csv')\n",
    "trans_data = pd.read_csv('dataset/transcripts.csv')"
   ]
  },
  {
   "cell_type": "code",
   "execution_count": 195,
   "id": "21fa6811-cd98-463e-810a-9358ce6d145a",
   "metadata": {},
   "outputs": [],
   "source": [
    "md = main_data.copy()\n",
    "td = trans_data.copy()"
   ]
  },
  {
   "cell_type": "markdown",
   "id": "4a43e349-e70e-402b-aef0-ab8fc27e5432",
   "metadata": {},
   "source": [
    "## Transcripts.csv"
   ]
  },
  {
   "cell_type": "code",
   "execution_count": 196,
   "id": "572956fd-ec37-45e0-9bbf-5cdd3ec58171",
   "metadata": {},
   "outputs": [
    {
     "name": "stdout",
     "output_type": "stream",
     "text": [
      "<class 'pandas.core.frame.DataFrame'>\n",
      "RangeIndex: 2471 entries, 0 to 2470\n",
      "Columns: 253 entries, transcript to Unnamed: 252\n",
      "dtypes: object(253)\n",
      "memory usage: 4.8+ MB\n"
     ]
    }
   ],
   "source": [
    "td.info()"
   ]
  },
  {
   "cell_type": "code",
   "execution_count": 197,
   "id": "7abe9c5c-8596-4564-9d9a-0a788b0b94d0",
   "metadata": {},
   "outputs": [
    {
     "data": {
      "text/html": [
       "<div>\n",
       "<style scoped>\n",
       "    .dataframe tbody tr th:only-of-type {\n",
       "        vertical-align: middle;\n",
       "    }\n",
       "\n",
       "    .dataframe tbody tr th {\n",
       "        vertical-align: top;\n",
       "    }\n",
       "\n",
       "    .dataframe thead th {\n",
       "        text-align: right;\n",
       "    }\n",
       "</style>\n",
       "<table border=\"1\" class=\"dataframe\">\n",
       "  <thead>\n",
       "    <tr style=\"text-align: right;\">\n",
       "      <th></th>\n",
       "      <th>transcript</th>\n",
       "      <th>url</th>\n",
       "      <th>Unnamed: 2</th>\n",
       "      <th>Unnamed: 3</th>\n",
       "      <th>Unnamed: 4</th>\n",
       "      <th>Unnamed: 5</th>\n",
       "      <th>Unnamed: 6</th>\n",
       "      <th>Unnamed: 7</th>\n",
       "      <th>Unnamed: 8</th>\n",
       "      <th>Unnamed: 9</th>\n",
       "      <th>...</th>\n",
       "      <th>Unnamed: 243</th>\n",
       "      <th>Unnamed: 244</th>\n",
       "      <th>Unnamed: 245</th>\n",
       "      <th>Unnamed: 246</th>\n",
       "      <th>Unnamed: 247</th>\n",
       "      <th>Unnamed: 248</th>\n",
       "      <th>Unnamed: 249</th>\n",
       "      <th>Unnamed: 250</th>\n",
       "      <th>Unnamed: 251</th>\n",
       "      <th>Unnamed: 252</th>\n",
       "    </tr>\n",
       "  </thead>\n",
       "  <tbody>\n",
       "    <tr>\n",
       "      <th>0</th>\n",
       "      <td>Good morning. How are you?(Laughter)It's been ...</td>\n",
       "      <td>https://www.ted.com/talks/ken_robinson_says_sc...</td>\n",
       "      <td>NaN</td>\n",
       "      <td>NaN</td>\n",
       "      <td>NaN</td>\n",
       "      <td>NaN</td>\n",
       "      <td>NaN</td>\n",
       "      <td>NaN</td>\n",
       "      <td>NaN</td>\n",
       "      <td>NaN</td>\n",
       "      <td>...</td>\n",
       "      <td>NaN</td>\n",
       "      <td>NaN</td>\n",
       "      <td>NaN</td>\n",
       "      <td>NaN</td>\n",
       "      <td>NaN</td>\n",
       "      <td>NaN</td>\n",
       "      <td>NaN</td>\n",
       "      <td>NaN</td>\n",
       "      <td>NaN</td>\n",
       "      <td>NaN</td>\n",
       "    </tr>\n",
       "    <tr>\n",
       "      <th>1</th>\n",
       "      <td>Thank you so much, Chris. And it's truly a gre...</td>\n",
       "      <td>https://www.ted.com/talks/al_gore_on_averting_...</td>\n",
       "      <td>NaN</td>\n",
       "      <td>NaN</td>\n",
       "      <td>NaN</td>\n",
       "      <td>NaN</td>\n",
       "      <td>NaN</td>\n",
       "      <td>NaN</td>\n",
       "      <td>NaN</td>\n",
       "      <td>NaN</td>\n",
       "      <td>...</td>\n",
       "      <td>NaN</td>\n",
       "      <td>NaN</td>\n",
       "      <td>NaN</td>\n",
       "      <td>NaN</td>\n",
       "      <td>NaN</td>\n",
       "      <td>NaN</td>\n",
       "      <td>NaN</td>\n",
       "      <td>NaN</td>\n",
       "      <td>NaN</td>\n",
       "      <td>NaN</td>\n",
       "    </tr>\n",
       "  </tbody>\n",
       "</table>\n",
       "<p>2 rows × 253 columns</p>\n",
       "</div>"
      ],
      "text/plain": [
       "                                          transcript  \\\n",
       "0  Good morning. How are you?(Laughter)It's been ...   \n",
       "1  Thank you so much, Chris. And it's truly a gre...   \n",
       "\n",
       "                                                 url Unnamed: 2 Unnamed: 3  \\\n",
       "0  https://www.ted.com/talks/ken_robinson_says_sc...        NaN        NaN   \n",
       "1  https://www.ted.com/talks/al_gore_on_averting_...        NaN        NaN   \n",
       "\n",
       "  Unnamed: 4 Unnamed: 5 Unnamed: 6 Unnamed: 7 Unnamed: 8 Unnamed: 9  ...  \\\n",
       "0        NaN        NaN        NaN        NaN        NaN        NaN  ...   \n",
       "1        NaN        NaN        NaN        NaN        NaN        NaN  ...   \n",
       "\n",
       "  Unnamed: 243 Unnamed: 244 Unnamed: 245 Unnamed: 246 Unnamed: 247  \\\n",
       "0          NaN          NaN          NaN          NaN          NaN   \n",
       "1          NaN          NaN          NaN          NaN          NaN   \n",
       "\n",
       "  Unnamed: 248 Unnamed: 249 Unnamed: 250 Unnamed: 251 Unnamed: 252  \n",
       "0          NaN          NaN          NaN          NaN          NaN  \n",
       "1          NaN          NaN          NaN          NaN          NaN  \n",
       "\n",
       "[2 rows x 253 columns]"
      ]
     },
     "execution_count": 197,
     "metadata": {},
     "output_type": "execute_result"
    }
   ],
   "source": [
    "td.head(2)"
   ]
  },
  {
   "cell_type": "code",
   "execution_count": 198,
   "id": "4f289fb3-0f64-4df5-83d2-902c6d1820b3",
   "metadata": {},
   "outputs": [],
   "source": [
    "use_full_columns = [\"transcript\",\"url\"]"
   ]
  },
  {
   "cell_type": "code",
   "execution_count": 199,
   "id": "899ae35c-ccba-44fa-91bf-b58923334a9c",
   "metadata": {},
   "outputs": [],
   "source": [
    "#Selecting usefull columns decreased memory usage.\n",
    "#It was: 4.8 MB\n",
    "#Now: 38.7 KB\n",
    "td = td[use_full_columns]"
   ]
  },
  {
   "cell_type": "code",
   "execution_count": 200,
   "id": "0ad6ab64-5b18-4376-a0b3-33c43a116408",
   "metadata": {},
   "outputs": [
    {
     "name": "stdout",
     "output_type": "stream",
     "text": [
      "<class 'pandas.core.frame.DataFrame'>\n",
      "RangeIndex: 2471 entries, 0 to 2470\n",
      "Data columns (total 2 columns):\n",
      " #   Column      Non-Null Count  Dtype \n",
      "---  ------      --------------  ----- \n",
      " 0   transcript  2471 non-null   object\n",
      " 1   url         2467 non-null   object\n",
      "dtypes: object(2)\n",
      "memory usage: 38.7+ KB\n"
     ]
    }
   ],
   "source": [
    "td.info()"
   ]
  },
  {
   "cell_type": "code",
   "execution_count": 201,
   "id": "72a74448-4d7d-4984-b08b-0fadd1dcb870",
   "metadata": {},
   "outputs": [
    {
     "data": {
      "text/html": [
       "<div>\n",
       "<style scoped>\n",
       "    .dataframe tbody tr th:only-of-type {\n",
       "        vertical-align: middle;\n",
       "    }\n",
       "\n",
       "    .dataframe tbody tr th {\n",
       "        vertical-align: top;\n",
       "    }\n",
       "\n",
       "    .dataframe thead th {\n",
       "        text-align: right;\n",
       "    }\n",
       "</style>\n",
       "<table border=\"1\" class=\"dataframe\">\n",
       "  <thead>\n",
       "    <tr style=\"text-align: right;\">\n",
       "      <th></th>\n",
       "      <th>transcript</th>\n",
       "      <th>url</th>\n",
       "    </tr>\n",
       "  </thead>\n",
       "  <tbody>\n",
       "    <tr>\n",
       "      <th>0</th>\n",
       "      <td>Good morning. How are you?(Laughter)It's been ...</td>\n",
       "      <td>https://www.ted.com/talks/ken_robinson_says_sc...</td>\n",
       "    </tr>\n",
       "    <tr>\n",
       "      <th>1</th>\n",
       "      <td>Thank you so much, Chris. And it's truly a gre...</td>\n",
       "      <td>https://www.ted.com/talks/al_gore_on_averting_...</td>\n",
       "    </tr>\n",
       "  </tbody>\n",
       "</table>\n",
       "</div>"
      ],
      "text/plain": [
       "                                          transcript  \\\n",
       "0  Good morning. How are you?(Laughter)It's been ...   \n",
       "1  Thank you so much, Chris. And it's truly a gre...   \n",
       "\n",
       "                                                 url  \n",
       "0  https://www.ted.com/talks/ken_robinson_says_sc...  \n",
       "1  https://www.ted.com/talks/al_gore_on_averting_...  "
      ]
     },
     "execution_count": 201,
     "metadata": {},
     "output_type": "execute_result"
    }
   ],
   "source": [
    "td.head(2)"
   ]
  },
  {
   "cell_type": "markdown",
   "id": "c01b9e5e-f4dc-44a8-9704-327304ca0590",
   "metadata": {},
   "source": [
    "## Ted_main.csv"
   ]
  },
  {
   "cell_type": "code",
   "execution_count": 202,
   "id": "064f82a3-2d11-47a1-ba88-568e93d99ac9",
   "metadata": {},
   "outputs": [
    {
     "data": {
      "text/html": [
       "<div>\n",
       "<style scoped>\n",
       "    .dataframe tbody tr th:only-of-type {\n",
       "        vertical-align: middle;\n",
       "    }\n",
       "\n",
       "    .dataframe tbody tr th {\n",
       "        vertical-align: top;\n",
       "    }\n",
       "\n",
       "    .dataframe thead th {\n",
       "        text-align: right;\n",
       "    }\n",
       "</style>\n",
       "<table border=\"1\" class=\"dataframe\">\n",
       "  <thead>\n",
       "    <tr style=\"text-align: right;\">\n",
       "      <th></th>\n",
       "      <th>comments</th>\n",
       "      <th>description</th>\n",
       "      <th>duration</th>\n",
       "      <th>event</th>\n",
       "      <th>film_date</th>\n",
       "      <th>languages</th>\n",
       "      <th>main_speaker</th>\n",
       "      <th>name</th>\n",
       "      <th>num_speaker</th>\n",
       "      <th>published_date</th>\n",
       "      <th>ratings</th>\n",
       "      <th>related_talks</th>\n",
       "      <th>speaker_occupation</th>\n",
       "      <th>tags</th>\n",
       "      <th>title</th>\n",
       "      <th>url</th>\n",
       "      <th>views</th>\n",
       "    </tr>\n",
       "  </thead>\n",
       "  <tbody>\n",
       "    <tr>\n",
       "      <th>0</th>\n",
       "      <td>4553</td>\n",
       "      <td>Sir Ken Robinson makes an entertaining and pro...</td>\n",
       "      <td>1164</td>\n",
       "      <td>TED2006</td>\n",
       "      <td>1140825600</td>\n",
       "      <td>60</td>\n",
       "      <td>Ken Robinson</td>\n",
       "      <td>Ken Robinson: Do schools kill creativity?</td>\n",
       "      <td>1</td>\n",
       "      <td>1151367060</td>\n",
       "      <td>[{'id': 7, 'name': 'Funny', 'count': 19645}, {...</td>\n",
       "      <td>[{'id': 865, 'hero': 'https://pe.tedcdn.com/im...</td>\n",
       "      <td>Author/educator</td>\n",
       "      <td>['children', 'creativity', 'culture', 'dance',...</td>\n",
       "      <td>Do schools kill creativity?</td>\n",
       "      <td>https://www.ted.com/talks/ken_robinson_says_sc...</td>\n",
       "      <td>47227110</td>\n",
       "    </tr>\n",
       "    <tr>\n",
       "      <th>1</th>\n",
       "      <td>265</td>\n",
       "      <td>With the same humor and humanity he exuded in ...</td>\n",
       "      <td>977</td>\n",
       "      <td>TED2006</td>\n",
       "      <td>1140825600</td>\n",
       "      <td>43</td>\n",
       "      <td>Al Gore</td>\n",
       "      <td>Al Gore: Averting the climate crisis</td>\n",
       "      <td>1</td>\n",
       "      <td>1151367060</td>\n",
       "      <td>[{'id': 7, 'name': 'Funny', 'count': 544}, {'i...</td>\n",
       "      <td>[{'id': 243, 'hero': 'https://pe.tedcdn.com/im...</td>\n",
       "      <td>Climate advocate</td>\n",
       "      <td>['alternative energy', 'cars', 'climate change...</td>\n",
       "      <td>Averting the climate crisis</td>\n",
       "      <td>https://www.ted.com/talks/al_gore_on_averting_...</td>\n",
       "      <td>3200520</td>\n",
       "    </tr>\n",
       "  </tbody>\n",
       "</table>\n",
       "</div>"
      ],
      "text/plain": [
       "   comments                                        description  duration  \\\n",
       "0      4553  Sir Ken Robinson makes an entertaining and pro...      1164   \n",
       "1       265  With the same humor and humanity he exuded in ...       977   \n",
       "\n",
       "     event   film_date  languages  main_speaker  \\\n",
       "0  TED2006  1140825600         60  Ken Robinson   \n",
       "1  TED2006  1140825600         43       Al Gore   \n",
       "\n",
       "                                        name  num_speaker  published_date  \\\n",
       "0  Ken Robinson: Do schools kill creativity?            1      1151367060   \n",
       "1       Al Gore: Averting the climate crisis            1      1151367060   \n",
       "\n",
       "                                             ratings  \\\n",
       "0  [{'id': 7, 'name': 'Funny', 'count': 19645}, {...   \n",
       "1  [{'id': 7, 'name': 'Funny', 'count': 544}, {'i...   \n",
       "\n",
       "                                       related_talks speaker_occupation  \\\n",
       "0  [{'id': 865, 'hero': 'https://pe.tedcdn.com/im...    Author/educator   \n",
       "1  [{'id': 243, 'hero': 'https://pe.tedcdn.com/im...   Climate advocate   \n",
       "\n",
       "                                                tags  \\\n",
       "0  ['children', 'creativity', 'culture', 'dance',...   \n",
       "1  ['alternative energy', 'cars', 'climate change...   \n",
       "\n",
       "                         title  \\\n",
       "0  Do schools kill creativity?   \n",
       "1  Averting the climate crisis   \n",
       "\n",
       "                                                 url     views  \n",
       "0  https://www.ted.com/talks/ken_robinson_says_sc...  47227110  \n",
       "1  https://www.ted.com/talks/al_gore_on_averting_...   3200520  "
      ]
     },
     "execution_count": 202,
     "metadata": {},
     "output_type": "execute_result"
    }
   ],
   "source": [
    "md.head(2)"
   ]
  },
  {
   "cell_type": "code",
   "execution_count": 203,
   "id": "37adc02c-ffd3-4ead-be17-18fde4b416b7",
   "metadata": {},
   "outputs": [
    {
     "name": "stdout",
     "output_type": "stream",
     "text": [
      "<class 'pandas.core.frame.DataFrame'>\n",
      "RangeIndex: 2550 entries, 0 to 2549\n",
      "Data columns (total 17 columns):\n",
      " #   Column              Non-Null Count  Dtype \n",
      "---  ------              --------------  ----- \n",
      " 0   comments            2550 non-null   int64 \n",
      " 1   description         2550 non-null   object\n",
      " 2   duration            2550 non-null   int64 \n",
      " 3   event               2550 non-null   object\n",
      " 4   film_date           2550 non-null   int64 \n",
      " 5   languages           2550 non-null   int64 \n",
      " 6   main_speaker        2550 non-null   object\n",
      " 7   name                2550 non-null   object\n",
      " 8   num_speaker         2550 non-null   int64 \n",
      " 9   published_date      2550 non-null   int64 \n",
      " 10  ratings             2550 non-null   object\n",
      " 11  related_talks       2550 non-null   object\n",
      " 12  speaker_occupation  2544 non-null   object\n",
      " 13  tags                2550 non-null   object\n",
      " 14  title               2550 non-null   object\n",
      " 15  url                 2550 non-null   object\n",
      " 16  views               2550 non-null   int64 \n",
      "dtypes: int64(7), object(10)\n",
      "memory usage: 338.8+ KB\n"
     ]
    }
   ],
   "source": [
    "md.info()"
   ]
  },
  {
   "cell_type": "markdown",
   "id": "8dc07830-2016-4c4d-a17e-d921fdae4b16",
   "metadata": {},
   "source": [
    "### Change types"
   ]
  },
  {
   "cell_type": "code",
   "execution_count": 204,
   "id": "db67097a-14b7-4e81-a71a-dbed2dae241d",
   "metadata": {},
   "outputs": [],
   "source": [
    "md['comments'] = md['comments'].astype('int32')\n",
    "md['description'] = md['description'].str.lower().str.strip()\n",
    "md['duration'] = md['duration'].astype('int32')\n",
    "md['event'] = md['event'].astype('category').str.lower().str.strip()\n",
    "md['film_date'] = pd.to_datetime(md['film_date'], unit='s')\n",
    "md['languages'] = md['languages'].astype('int32')\n",
    "md['main_speaker'] = md['main_speaker'].str.lower().str.strip()\n",
    "md['name'] = md['name'].str.lower().str.strip()\n",
    "md['num_speaker'] = md['num_speaker'].astype('int32')\n",
    "md['published_date'] = pd.to_datetime(md['published_date'], unit='s')\n",
    "md['speaker_occupation'] = md['speaker_occupation'].astype('category').str.lower().str.strip()\n",
    "md['title'] = md['title'].str.lower().str.strip()"
   ]
  },
  {
   "cell_type": "code",
   "execution_count": 205,
   "id": "b24b5c17-102e-47bf-be80-9ed942f6e701",
   "metadata": {},
   "outputs": [
    {
     "name": "stdout",
     "output_type": "stream",
     "text": [
      "<class 'pandas.core.frame.DataFrame'>\n",
      "RangeIndex: 2550 entries, 0 to 2549\n",
      "Data columns (total 17 columns):\n",
      " #   Column              Non-Null Count  Dtype         \n",
      "---  ------              --------------  -----         \n",
      " 0   comments            2550 non-null   int32         \n",
      " 1   description         2550 non-null   object        \n",
      " 2   duration            2550 non-null   int32         \n",
      " 3   event               2550 non-null   object        \n",
      " 4   film_date           2550 non-null   datetime64[ns]\n",
      " 5   languages           2550 non-null   int32         \n",
      " 6   main_speaker        2550 non-null   object        \n",
      " 7   name                2550 non-null   object        \n",
      " 8   num_speaker         2550 non-null   int32         \n",
      " 9   published_date      2550 non-null   datetime64[ns]\n",
      " 10  ratings             2550 non-null   object        \n",
      " 11  related_talks       2550 non-null   object        \n",
      " 12  speaker_occupation  2544 non-null   object        \n",
      " 13  tags                2550 non-null   object        \n",
      " 14  title               2550 non-null   object        \n",
      " 15  url                 2550 non-null   object        \n",
      " 16  views               2550 non-null   int64         \n",
      "dtypes: datetime64[ns](2), int32(4), int64(1), object(10)\n",
      "memory usage: 299.0+ KB\n"
     ]
    }
   ],
   "source": [
    "md.info()"
   ]
  },
  {
   "cell_type": "code",
   "execution_count": 206,
   "id": "835e8b59-2ce6-46da-9e4a-daa9a614e68e",
   "metadata": {},
   "outputs": [],
   "source": [
    "#Don't need film_date,  published_date is enough\n",
    "md.drop('film_date', axis=1, inplace= True)"
   ]
  },
  {
   "cell_type": "markdown",
   "id": "39ff8e25-c189-45aa-84b4-b802a9a0a4e4",
   "metadata": {},
   "source": [
    "### Unpack ratings, related talks, tags"
   ]
  },
  {
   "cell_type": "code",
   "execution_count": 207,
   "id": "723c9440-4acb-42d6-a603-a98e4ae69833",
   "metadata": {},
   "outputs": [
    {
     "data": {
      "text/plain": [
       "[{'id': 7, 'name': 'Funny', 'count': 19645},\n",
       " {'id': 1, 'name': 'Beautiful', 'count': 4573},\n",
       " {'id': 9, 'name': 'Ingenious', 'count': 6073},\n",
       " {'id': 3, 'name': 'Courageous', 'count': 3253},\n",
       " {'id': 11, 'name': 'Longwinded', 'count': 387},\n",
       " {'id': 2, 'name': 'Confusing', 'count': 242},\n",
       " {'id': 8, 'name': 'Informative', 'count': 7346},\n",
       " {'id': 22, 'name': 'Fascinating', 'count': 10581},\n",
       " {'id': 21, 'name': 'Unconvincing', 'count': 300},\n",
       " {'id': 24, 'name': 'Persuasive', 'count': 10704},\n",
       " {'id': 23, 'name': 'Jaw-dropping', 'count': 4439},\n",
       " {'id': 25, 'name': 'OK', 'count': 1174},\n",
       " {'id': 26, 'name': 'Obnoxious', 'count': 209},\n",
       " {'id': 10, 'name': 'Inspiring', 'count': 24924}]"
      ]
     },
     "execution_count": 207,
     "metadata": {},
     "output_type": "execute_result"
    }
   ],
   "source": [
    "#unpack ratings\n",
    "md.ratings = md.ratings.apply(ast.literal_eval)\n",
    "md.ratings[0]"
   ]
  },
  {
   "cell_type": "code",
   "execution_count": 208,
   "id": "e32b94d4-78a9-4aab-9936-84ac4f6587d3",
   "metadata": {},
   "outputs": [],
   "source": [
    "def co(i):\n",
    "    counts = 0\n",
    "    for item in i:\n",
    "        counts += item[\"count\"]\n",
    "    return counts"
   ]
  },
  {
   "cell_type": "code",
   "execution_count": 209,
   "id": "41f052a9-845f-4bf6-abf9-fd37f7c44316",
   "metadata": {},
   "outputs": [],
   "source": [
    "#Add new columns\n",
    "for i, rate in enumerate(md.ratings):\n",
    "    maximum = [\"\", 0]\n",
    "    for item in rate:\n",
    "        md.loc[i, item['name'].lower()] = item['count']\n",
    "        #Add a column which shows which rated object has the most value\n",
    "        if item['count'] > maximum[1]:   \n",
    "            maximum = [item['name'].lower(), item['count']]\n",
    "    md.loc[i, 'maximum-rated'] = maximum[0]"
   ]
  },
  {
   "cell_type": "code",
   "execution_count": 210,
   "id": "26a3c8fb-25c0-4d7a-b724-4460b67f1213",
   "metadata": {},
   "outputs": [
    {
     "data": {
      "text/html": [
       "<div>\n",
       "<style scoped>\n",
       "    .dataframe tbody tr th:only-of-type {\n",
       "        vertical-align: middle;\n",
       "    }\n",
       "\n",
       "    .dataframe tbody tr th {\n",
       "        vertical-align: top;\n",
       "    }\n",
       "\n",
       "    .dataframe thead th {\n",
       "        text-align: right;\n",
       "    }\n",
       "</style>\n",
       "<table border=\"1\" class=\"dataframe\">\n",
       "  <thead>\n",
       "    <tr style=\"text-align: right;\">\n",
       "      <th></th>\n",
       "      <th>comments</th>\n",
       "      <th>description</th>\n",
       "      <th>duration</th>\n",
       "      <th>event</th>\n",
       "      <th>languages</th>\n",
       "      <th>main_speaker</th>\n",
       "      <th>name</th>\n",
       "      <th>num_speaker</th>\n",
       "      <th>published_date</th>\n",
       "      <th>ratings</th>\n",
       "      <th>...</th>\n",
       "      <th>informative</th>\n",
       "      <th>fascinating</th>\n",
       "      <th>unconvincing</th>\n",
       "      <th>persuasive</th>\n",
       "      <th>jaw-dropping</th>\n",
       "      <th>ok</th>\n",
       "      <th>obnoxious</th>\n",
       "      <th>inspiring</th>\n",
       "      <th>maximum-rated</th>\n",
       "      <th>rating-count</th>\n",
       "    </tr>\n",
       "  </thead>\n",
       "  <tbody>\n",
       "    <tr>\n",
       "      <th>0</th>\n",
       "      <td>4553</td>\n",
       "      <td>sir ken robinson makes an entertaining and pro...</td>\n",
       "      <td>1164</td>\n",
       "      <td>ted2006</td>\n",
       "      <td>60</td>\n",
       "      <td>ken robinson</td>\n",
       "      <td>ken robinson: do schools kill creativity?</td>\n",
       "      <td>1</td>\n",
       "      <td>2006-06-27 00:11:00</td>\n",
       "      <td>[{'id': 7, 'name': 'Funny', 'count': 19645}, {...</td>\n",
       "      <td>...</td>\n",
       "      <td>7346.0</td>\n",
       "      <td>10581.0</td>\n",
       "      <td>300.0</td>\n",
       "      <td>10704.0</td>\n",
       "      <td>4439.0</td>\n",
       "      <td>1174.0</td>\n",
       "      <td>209.0</td>\n",
       "      <td>24924.0</td>\n",
       "      <td>inspiring</td>\n",
       "      <td>93850</td>\n",
       "    </tr>\n",
       "    <tr>\n",
       "      <th>1</th>\n",
       "      <td>265</td>\n",
       "      <td>with the same humor and humanity he exuded in ...</td>\n",
       "      <td>977</td>\n",
       "      <td>ted2006</td>\n",
       "      <td>43</td>\n",
       "      <td>al gore</td>\n",
       "      <td>al gore: averting the climate crisis</td>\n",
       "      <td>1</td>\n",
       "      <td>2006-06-27 00:11:00</td>\n",
       "      <td>[{'id': 7, 'name': 'Funny', 'count': 544}, {'i...</td>\n",
       "      <td>...</td>\n",
       "      <td>443.0</td>\n",
       "      <td>132.0</td>\n",
       "      <td>258.0</td>\n",
       "      <td>268.0</td>\n",
       "      <td>116.0</td>\n",
       "      <td>203.0</td>\n",
       "      <td>131.0</td>\n",
       "      <td>413.0</td>\n",
       "      <td>funny</td>\n",
       "      <td>2936</td>\n",
       "    </tr>\n",
       "  </tbody>\n",
       "</table>\n",
       "<p>2 rows × 32 columns</p>\n",
       "</div>"
      ],
      "text/plain": [
       "   comments                                        description  duration  \\\n",
       "0      4553  sir ken robinson makes an entertaining and pro...      1164   \n",
       "1       265  with the same humor and humanity he exuded in ...       977   \n",
       "\n",
       "     event  languages  main_speaker  \\\n",
       "0  ted2006         60  ken robinson   \n",
       "1  ted2006         43       al gore   \n",
       "\n",
       "                                        name  num_speaker      published_date  \\\n",
       "0  ken robinson: do schools kill creativity?            1 2006-06-27 00:11:00   \n",
       "1       al gore: averting the climate crisis            1 2006-06-27 00:11:00   \n",
       "\n",
       "                                             ratings  ... informative  \\\n",
       "0  [{'id': 7, 'name': 'Funny', 'count': 19645}, {...  ...      7346.0   \n",
       "1  [{'id': 7, 'name': 'Funny', 'count': 544}, {'i...  ...       443.0   \n",
       "\n",
       "  fascinating unconvincing persuasive jaw-dropping      ok  obnoxious  \\\n",
       "0     10581.0        300.0    10704.0       4439.0  1174.0      209.0   \n",
       "1       132.0        258.0      268.0        116.0   203.0      131.0   \n",
       "\n",
       "   inspiring  maximum-rated  rating-count  \n",
       "0    24924.0      inspiring         93850  \n",
       "1      413.0          funny          2936  \n",
       "\n",
       "[2 rows x 32 columns]"
      ]
     },
     "execution_count": 210,
     "metadata": {},
     "output_type": "execute_result"
    }
   ],
   "source": [
    "#Add total rating count\n",
    "md[\"rating-count\"] = md.ratings.apply(lambda x: co(x))\n",
    "md.head(2)"
   ]
  },
  {
   "cell_type": "code",
   "execution_count": 211,
   "id": "3bb4797b-1f4e-451e-b8b5-65993557b5b1",
   "metadata": {},
   "outputs": [
    {
     "data": {
      "text/plain": [
       "[{'id': 865,\n",
       "  'hero': 'https://pe.tedcdn.com/images/ted/172559_800x600.jpg',\n",
       "  'speaker': 'Ken Robinson',\n",
       "  'title': 'Bring on the learning revolution!',\n",
       "  'duration': 1008,\n",
       "  'slug': 'sir_ken_robinson_bring_on_the_revolution',\n",
       "  'viewed_count': 7266103},\n",
       " {'id': 1738,\n",
       "  'hero': 'https://pe.tedcdn.com/images/ted/de98b161ad1434910ff4b56c89de71af04b8b873_1600x1200.jpg',\n",
       "  'speaker': 'Ken Robinson',\n",
       "  'title': \"How to escape education's death valley\",\n",
       "  'duration': 1151,\n",
       "  'slug': 'ken_robinson_how_to_escape_education_s_death_valley',\n",
       "  'viewed_count': 6657572},\n",
       " {'id': 2276,\n",
       "  'hero': 'https://pe.tedcdn.com/images/ted/3821f3728e0b755c7b9aea2e69cc093eca41abe1_2880x1620.jpg',\n",
       "  'speaker': 'Linda Cliatt-Wayman',\n",
       "  'title': 'How to fix a broken school? Lead fearlessly, love hard',\n",
       "  'duration': 1027,\n",
       "  'slug': 'linda_cliatt_wayman_how_to_fix_a_broken_school_lead_fearlessly_love_hard',\n",
       "  'viewed_count': 1617101},\n",
       " {'id': 892,\n",
       "  'hero': 'https://pe.tedcdn.com/images/ted/e79958940573cc610ccb583619a54866c41ef303_2880x1620.jpg',\n",
       "  'speaker': 'Charles Leadbeater',\n",
       "  'title': 'Education innovation in the slums',\n",
       "  'duration': 1138,\n",
       "  'slug': 'charles_leadbeater_on_education',\n",
       "  'viewed_count': 772296},\n",
       " {'id': 1232,\n",
       "  'hero': 'https://pe.tedcdn.com/images/ted/0e3e4e92d5ee8ae0e43962d447d3f790b31099b8_800x600.jpg',\n",
       "  'speaker': 'Geoff Mulgan',\n",
       "  'title': 'A short intro to the Studio School',\n",
       "  'duration': 376,\n",
       "  'slug': 'geoff_mulgan_a_short_intro_to_the_studio_school',\n",
       "  'viewed_count': 667971},\n",
       " {'id': 2616,\n",
       "  'hero': 'https://pe.tedcdn.com/images/ted/71cde5a6fa6c717488fb55eff9eef939a9241761_2880x1620.jpg',\n",
       "  'speaker': 'Kandice Sumner',\n",
       "  'title': \"How America's public schools keep kids in poverty\",\n",
       "  'duration': 830,\n",
       "  'slug': 'kandice_sumner_how_america_s_public_schools_keep_kids_in_poverty',\n",
       "  'viewed_count': 1181333}]"
      ]
     },
     "execution_count": 211,
     "metadata": {},
     "output_type": "execute_result"
    }
   ],
   "source": [
    "#unpack related_talks\n",
    "md.related_talks = md.related_talks.apply(ast.literal_eval)\n",
    "md.related_talks[0]"
   ]
  },
  {
   "cell_type": "code",
   "execution_count": 212,
   "id": "21396cbf-97ce-4305-958f-504d194c9a0b",
   "metadata": {},
   "outputs": [
    {
     "data": {
      "text/plain": [
       "['children',\n",
       " 'creativity',\n",
       " 'culture',\n",
       " 'dance',\n",
       " 'education',\n",
       " 'parenting',\n",
       " 'teaching']"
      ]
     },
     "execution_count": 212,
     "metadata": {},
     "output_type": "execute_result"
    }
   ],
   "source": [
    "#unpack tags\n",
    "md.tags = md.tags.apply(ast.literal_eval)\n",
    "md.tags[0]"
   ]
  },
  {
   "cell_type": "markdown",
   "id": "5a5fabfa-fd00-44bf-9bf8-51fa48ca8394",
   "metadata": {},
   "source": [
    "### Which TED Talk has the most rating?"
   ]
  },
  {
   "cell_type": "code",
   "execution_count": 225,
   "id": "2903aa2a-e1f4-495c-800d-5adae5d45061",
   "metadata": {},
   "outputs": [],
   "source": [
    "columns = ['title', 'rating-count', 'maximum-rated', 'speaker_occupation']"
   ]
  },
  {
   "cell_type": "code",
   "execution_count": 226,
   "id": "3334ff23-4a9d-42f6-a300-8a181c9825f9",
   "metadata": {},
   "outputs": [
    {
     "data": {
      "text/html": [
       "<div>\n",
       "<style scoped>\n",
       "    .dataframe tbody tr th:only-of-type {\n",
       "        vertical-align: middle;\n",
       "    }\n",
       "\n",
       "    .dataframe tbody tr th {\n",
       "        vertical-align: top;\n",
       "    }\n",
       "\n",
       "    .dataframe thead th {\n",
       "        text-align: right;\n",
       "    }\n",
       "</style>\n",
       "<table border=\"1\" class=\"dataframe\">\n",
       "  <thead>\n",
       "    <tr style=\"text-align: right;\">\n",
       "      <th></th>\n",
       "      <th>title</th>\n",
       "      <th>rating-count</th>\n",
       "      <th>maximum-rated</th>\n",
       "      <th>speaker_occupation</th>\n",
       "    </tr>\n",
       "  </thead>\n",
       "  <tbody>\n",
       "    <tr>\n",
       "      <th>0</th>\n",
       "      <td>do schools kill creativity?</td>\n",
       "      <td>93850</td>\n",
       "      <td>inspiring</td>\n",
       "      <td>author/educator</td>\n",
       "    </tr>\n",
       "    <tr>\n",
       "      <th>201</th>\n",
       "      <td>my stroke of insight</td>\n",
       "      <td>70665</td>\n",
       "      <td>inspiring</td>\n",
       "      <td>neuroanatomist</td>\n",
       "    </tr>\n",
       "    <tr>\n",
       "      <th>1346</th>\n",
       "      <td>your body language may shape who you are</td>\n",
       "      <td>65968</td>\n",
       "      <td>inspiring</td>\n",
       "      <td>social psychologist</td>\n",
       "    </tr>\n",
       "    <tr>\n",
       "      <th>837</th>\n",
       "      <td>the power of vulnerability</td>\n",
       "      <td>60078</td>\n",
       "      <td>inspiring</td>\n",
       "      <td>vulnerability researcher</td>\n",
       "    </tr>\n",
       "    <tr>\n",
       "      <th>677</th>\n",
       "      <td>how great leaders inspire action</td>\n",
       "      <td>56779</td>\n",
       "      <td>inspiring</td>\n",
       "      <td>leadership expert</td>\n",
       "    </tr>\n",
       "    <tr>\n",
       "      <th>1030</th>\n",
       "      <td>how to live before you die</td>\n",
       "      <td>38158</td>\n",
       "      <td>inspiring</td>\n",
       "      <td>visionary</td>\n",
       "    </tr>\n",
       "    <tr>\n",
       "      <th>1129</th>\n",
       "      <td>the happy secret to better work</td>\n",
       "      <td>32180</td>\n",
       "      <td>inspiring</td>\n",
       "      <td>psychologist</td>\n",
       "    </tr>\n",
       "    <tr>\n",
       "      <th>1163</th>\n",
       "      <td>the power of introverts</td>\n",
       "      <td>30037</td>\n",
       "      <td>inspiring</td>\n",
       "      <td>quiet revolutionary</td>\n",
       "    </tr>\n",
       "    <tr>\n",
       "      <th>176</th>\n",
       "      <td>underwater astonishments</td>\n",
       "      <td>30011</td>\n",
       "      <td>fascinating</td>\n",
       "      <td>oceanographer</td>\n",
       "    </tr>\n",
       "    <tr>\n",
       "      <th>530</th>\n",
       "      <td>the danger of a single story</td>\n",
       "      <td>29775</td>\n",
       "      <td>inspiring</td>\n",
       "      <td>novelist</td>\n",
       "    </tr>\n",
       "  </tbody>\n",
       "</table>\n",
       "</div>"
      ],
      "text/plain": [
       "                                         title  rating-count maximum-rated  \\\n",
       "0                  do schools kill creativity?         93850     inspiring   \n",
       "201                       my stroke of insight         70665     inspiring   \n",
       "1346  your body language may shape who you are         65968     inspiring   \n",
       "837                 the power of vulnerability         60078     inspiring   \n",
       "677           how great leaders inspire action         56779     inspiring   \n",
       "1030                how to live before you die         38158     inspiring   \n",
       "1129           the happy secret to better work         32180     inspiring   \n",
       "1163                   the power of introverts         30037     inspiring   \n",
       "176                   underwater astonishments         30011   fascinating   \n",
       "530               the danger of a single story         29775     inspiring   \n",
       "\n",
       "            speaker_occupation  \n",
       "0              author/educator  \n",
       "201             neuroanatomist  \n",
       "1346       social psychologist  \n",
       "837   vulnerability researcher  \n",
       "677          leadership expert  \n",
       "1030                 visionary  \n",
       "1129              psychologist  \n",
       "1163       quiet revolutionary  \n",
       "176              oceanographer  \n",
       "530                   novelist  "
      ]
     },
     "execution_count": 226,
     "metadata": {},
     "output_type": "execute_result"
    }
   ],
   "source": [
    "rating_count = md.sort_values(by='rating-count',ascending=False)\n",
    "rating_count[columns].head(10)"
   ]
  },
  {
   "cell_type": "markdown",
   "id": "7c2253e2-4744-4348-bde2-01872f0d4928",
   "metadata": {},
   "source": [
    "### Which TED Talk is funniest?"
   ]
  },
  {
   "cell_type": "code",
   "execution_count": 228,
   "id": "ddc3cf57-2ee2-4713-b7ea-6b1486c2445e",
   "metadata": {},
   "outputs": [
    {
     "data": {
      "text/html": [
       "<div>\n",
       "<style scoped>\n",
       "    .dataframe tbody tr th:only-of-type {\n",
       "        vertical-align: middle;\n",
       "    }\n",
       "\n",
       "    .dataframe tbody tr th {\n",
       "        vertical-align: top;\n",
       "    }\n",
       "\n",
       "    .dataframe thead th {\n",
       "        text-align: right;\n",
       "    }\n",
       "</style>\n",
       "<table border=\"1\" class=\"dataframe\">\n",
       "  <thead>\n",
       "    <tr style=\"text-align: right;\">\n",
       "      <th></th>\n",
       "      <th>title</th>\n",
       "      <th>rating-count</th>\n",
       "      <th>maximum-rated</th>\n",
       "      <th>funny</th>\n",
       "      <th>speaker_occupation</th>\n",
       "    </tr>\n",
       "  </thead>\n",
       "  <tbody>\n",
       "    <tr>\n",
       "      <th>0</th>\n",
       "      <td>do schools kill creativity?</td>\n",
       "      <td>93850</td>\n",
       "      <td>inspiring</td>\n",
       "      <td>19645.0</td>\n",
       "      <td>author/educator</td>\n",
       "    </tr>\n",
       "    <tr>\n",
       "      <th>2114</th>\n",
       "      <td>this is what happens when you reply to spam email</td>\n",
       "      <td>12366</td>\n",
       "      <td>funny</td>\n",
       "      <td>7731.0</td>\n",
       "      <td>comedian and writer</td>\n",
       "    </tr>\n",
       "    <tr>\n",
       "      <th>2161</th>\n",
       "      <td>inside the mind of a master procrastinator</td>\n",
       "      <td>22309</td>\n",
       "      <td>funny</td>\n",
       "      <td>7445.0</td>\n",
       "      <td>blogger</td>\n",
       "    </tr>\n",
       "    <tr>\n",
       "      <th>1129</th>\n",
       "      <td>the happy secret to better work</td>\n",
       "      <td>32180</td>\n",
       "      <td>inspiring</td>\n",
       "      <td>7315.0</td>\n",
       "      <td>psychologist</td>\n",
       "    </tr>\n",
       "    <tr>\n",
       "      <th>675</th>\n",
       "      <td>lies, damned lies and statistics (about tedtalks)</td>\n",
       "      <td>10527</td>\n",
       "      <td>funny</td>\n",
       "      <td>5552.0</td>\n",
       "      <td>data scientist</td>\n",
       "    </tr>\n",
       "  </tbody>\n",
       "</table>\n",
       "</div>"
      ],
      "text/plain": [
       "                                                  title  rating-count  \\\n",
       "0                           do schools kill creativity?         93850   \n",
       "2114  this is what happens when you reply to spam email         12366   \n",
       "2161         inside the mind of a master procrastinator         22309   \n",
       "1129                    the happy secret to better work         32180   \n",
       "675   lies, damned lies and statistics (about tedtalks)         10527   \n",
       "\n",
       "     maximum-rated    funny   speaker_occupation  \n",
       "0        inspiring  19645.0      author/educator  \n",
       "2114         funny   7731.0  comedian and writer  \n",
       "2161         funny   7445.0              blogger  \n",
       "1129     inspiring   7315.0         psychologist  \n",
       "675          funny   5552.0       data scientist  "
      ]
     },
     "execution_count": 228,
     "metadata": {},
     "output_type": "execute_result"
    }
   ],
   "source": [
    "#By unpacking rate, we can fine the funniest or other kind of rating\n",
    "columns = ['title', 'rating-count', 'maximum-rated','funny', \"speaker_occupation\"]\n",
    "md[columns].sort_values(by=\"funny\", ascending=False).head()"
   ]
  },
  {
   "cell_type": "markdown",
   "id": "354d1a7c-e1cb-40ff-b31a-3d4af2fad303",
   "metadata": {},
   "source": [
    "### Which TED Talk has the most discussion?"
   ]
  },
  {
   "cell_type": "code",
   "execution_count": 229,
   "id": "ae338093-1006-4f87-946c-729f3142bdb7",
   "metadata": {},
   "outputs": [],
   "source": [
    "#As published_date is diffrenet, it's a good measure to find a TED Talk which have most dsicussions\n",
    "md['views-per-comment'] = md ['views'] / md['comments'] "
   ]
  },
  {
   "cell_type": "code",
   "execution_count": 230,
   "id": "9709d35a-8079-4a46-b9d5-e25f830757fb",
   "metadata": {},
   "outputs": [
    {
     "data": {
      "text/html": [
       "<div>\n",
       "<style scoped>\n",
       "    .dataframe tbody tr th:only-of-type {\n",
       "        vertical-align: middle;\n",
       "    }\n",
       "\n",
       "    .dataframe tbody tr th {\n",
       "        vertical-align: top;\n",
       "    }\n",
       "\n",
       "    .dataframe thead th {\n",
       "        text-align: right;\n",
       "    }\n",
       "</style>\n",
       "<table border=\"1\" class=\"dataframe\">\n",
       "  <thead>\n",
       "    <tr style=\"text-align: right;\">\n",
       "      <th></th>\n",
       "      <th>comments</th>\n",
       "      <th>description</th>\n",
       "      <th>duration</th>\n",
       "      <th>event</th>\n",
       "      <th>languages</th>\n",
       "      <th>main_speaker</th>\n",
       "      <th>name</th>\n",
       "      <th>num_speaker</th>\n",
       "      <th>published_date</th>\n",
       "      <th>ratings</th>\n",
       "      <th>...</th>\n",
       "      <th>persuasive</th>\n",
       "      <th>jaw-dropping</th>\n",
       "      <th>ok</th>\n",
       "      <th>obnoxious</th>\n",
       "      <th>inspiring</th>\n",
       "      <th>maximum-rated</th>\n",
       "      <th>rating-count</th>\n",
       "      <th>views-per-comment</th>\n",
       "      <th>months</th>\n",
       "      <th>year</th>\n",
       "    </tr>\n",
       "  </thead>\n",
       "  <tbody>\n",
       "    <tr>\n",
       "      <th>0</th>\n",
       "      <td>4553</td>\n",
       "      <td>sir ken robinson makes an entertaining and pro...</td>\n",
       "      <td>1164</td>\n",
       "      <td>ted2006</td>\n",
       "      <td>60</td>\n",
       "      <td>ken robinson</td>\n",
       "      <td>ken robinson: do schools kill creativity?</td>\n",
       "      <td>1</td>\n",
       "      <td>2006-06-27 00:11:00</td>\n",
       "      <td>[{'id': 7, 'name': 'Funny', 'count': 19645}, {...</td>\n",
       "      <td>...</td>\n",
       "      <td>10704.0</td>\n",
       "      <td>4439.0</td>\n",
       "      <td>1174.0</td>\n",
       "      <td>209.0</td>\n",
       "      <td>24924.0</td>\n",
       "      <td>inspiring</td>\n",
       "      <td>93850</td>\n",
       "      <td>10372.745443</td>\n",
       "      <td>6</td>\n",
       "      <td>2006</td>\n",
       "    </tr>\n",
       "  </tbody>\n",
       "</table>\n",
       "<p>1 rows × 35 columns</p>\n",
       "</div>"
      ],
      "text/plain": [
       "   comments                                        description  duration  \\\n",
       "0      4553  sir ken robinson makes an entertaining and pro...      1164   \n",
       "\n",
       "     event  languages  main_speaker  \\\n",
       "0  ted2006         60  ken robinson   \n",
       "\n",
       "                                        name  num_speaker      published_date  \\\n",
       "0  ken robinson: do schools kill creativity?            1 2006-06-27 00:11:00   \n",
       "\n",
       "                                             ratings  ... persuasive  \\\n",
       "0  [{'id': 7, 'name': 'Funny', 'count': 19645}, {...  ...    10704.0   \n",
       "\n",
       "  jaw-dropping      ok obnoxious inspiring  maximum-rated  rating-count  \\\n",
       "0       4439.0  1174.0     209.0   24924.0      inspiring         93850   \n",
       "\n",
       "   views-per-comment  months  year  \n",
       "0       10372.745443       6  2006  \n",
       "\n",
       "[1 rows x 35 columns]"
      ]
     },
     "execution_count": 230,
     "metadata": {},
     "output_type": "execute_result"
    }
   ],
   "source": [
    "md.head(1)"
   ]
  },
  {
   "cell_type": "code",
   "execution_count": 231,
   "id": "79972d79-2723-4e51-b135-6be4a5095039",
   "metadata": {},
   "outputs": [
    {
     "data": {
      "text/html": [
       "<div>\n",
       "<style scoped>\n",
       "    .dataframe tbody tr th:only-of-type {\n",
       "        vertical-align: middle;\n",
       "    }\n",
       "\n",
       "    .dataframe tbody tr th {\n",
       "        vertical-align: top;\n",
       "    }\n",
       "\n",
       "    .dataframe thead th {\n",
       "        text-align: right;\n",
       "    }\n",
       "</style>\n",
       "<table border=\"1\" class=\"dataframe\">\n",
       "  <thead>\n",
       "    <tr style=\"text-align: right;\">\n",
       "      <th></th>\n",
       "      <th>comments</th>\n",
       "      <th>description</th>\n",
       "      <th>duration</th>\n",
       "      <th>event</th>\n",
       "      <th>languages</th>\n",
       "      <th>main_speaker</th>\n",
       "      <th>name</th>\n",
       "      <th>num_speaker</th>\n",
       "      <th>published_date</th>\n",
       "      <th>ratings</th>\n",
       "      <th>...</th>\n",
       "      <th>persuasive</th>\n",
       "      <th>jaw-dropping</th>\n",
       "      <th>ok</th>\n",
       "      <th>obnoxious</th>\n",
       "      <th>inspiring</th>\n",
       "      <th>maximum-rated</th>\n",
       "      <th>rating-count</th>\n",
       "      <th>views-per-comment</th>\n",
       "      <th>months</th>\n",
       "      <th>year</th>\n",
       "    </tr>\n",
       "  </thead>\n",
       "  <tbody>\n",
       "    <tr>\n",
       "      <th>2534</th>\n",
       "      <td>2</td>\n",
       "      <td>what the astronauts felt when they saw earth f...</td>\n",
       "      <td>725</td>\n",
       "      <td>tedxskoll</td>\n",
       "      <td>1</td>\n",
       "      <td>benjamin grant</td>\n",
       "      <td>benjamin grant: what it feels like to see eart...</td>\n",
       "      <td>1</td>\n",
       "      <td>2017-09-07 20:00:38</td>\n",
       "      <td>[{'id': 10, 'name': 'Inspiring', 'count': 46},...</td>\n",
       "      <td>...</td>\n",
       "      <td>18.0</td>\n",
       "      <td>17.0</td>\n",
       "      <td>3.0</td>\n",
       "      <td>3.0</td>\n",
       "      <td>46.0</td>\n",
       "      <td>informative</td>\n",
       "      <td>221</td>\n",
       "      <td>323087.0</td>\n",
       "      <td>9</td>\n",
       "      <td>2017</td>\n",
       "    </tr>\n",
       "    <tr>\n",
       "      <th>2501</th>\n",
       "      <td>3</td>\n",
       "      <td>meet françoise mouly, the new yorker's art dir...</td>\n",
       "      <td>509</td>\n",
       "      <td>tednyc</td>\n",
       "      <td>12</td>\n",
       "      <td>françoise mouly</td>\n",
       "      <td>françoise mouly: the stories behind the new yo...</td>\n",
       "      <td>1</td>\n",
       "      <td>2017-08-03 14:24:04</td>\n",
       "      <td>[{'id': 7, 'name': 'Funny', 'count': 10}, {'id...</td>\n",
       "      <td>...</td>\n",
       "      <td>9.0</td>\n",
       "      <td>2.0</td>\n",
       "      <td>1.0</td>\n",
       "      <td>1.0</td>\n",
       "      <td>13.0</td>\n",
       "      <td>informative</td>\n",
       "      <td>97</td>\n",
       "      <td>279680.0</td>\n",
       "      <td>8</td>\n",
       "      <td>2017</td>\n",
       "    </tr>\n",
       "  </tbody>\n",
       "</table>\n",
       "<p>2 rows × 35 columns</p>\n",
       "</div>"
      ],
      "text/plain": [
       "      comments                                        description  duration  \\\n",
       "2534         2  what the astronauts felt when they saw earth f...       725   \n",
       "2501         3  meet françoise mouly, the new yorker's art dir...       509   \n",
       "\n",
       "          event  languages     main_speaker  \\\n",
       "2534  tedxskoll          1   benjamin grant   \n",
       "2501     tednyc         12  françoise mouly   \n",
       "\n",
       "                                                   name  num_speaker  \\\n",
       "2534  benjamin grant: what it feels like to see eart...            1   \n",
       "2501  françoise mouly: the stories behind the new yo...            1   \n",
       "\n",
       "          published_date                                            ratings  \\\n",
       "2534 2017-09-07 20:00:38  [{'id': 10, 'name': 'Inspiring', 'count': 46},...   \n",
       "2501 2017-08-03 14:24:04  [{'id': 7, 'name': 'Funny', 'count': 10}, {'id...   \n",
       "\n",
       "      ... persuasive jaw-dropping   ok obnoxious inspiring  maximum-rated  \\\n",
       "2534  ...       18.0         17.0  3.0       3.0      46.0    informative   \n",
       "2501  ...        9.0          2.0  1.0       1.0      13.0    informative   \n",
       "\n",
       "      rating-count  views-per-comment  months  year  \n",
       "2534           221           323087.0       9  2017  \n",
       "2501            97           279680.0       8  2017  \n",
       "\n",
       "[2 rows x 35 columns]"
      ]
     },
     "execution_count": 231,
     "metadata": {},
     "output_type": "execute_result"
    }
   ],
   "source": [
    "#Sort by views-per-comment\n",
    "v_p_c = md.sort_values(by='views-per-comment',ascending=False)\n",
    "v_p_c.head(2)"
   ]
  },
  {
   "cell_type": "code",
   "execution_count": 232,
   "id": "6cf60767-542f-42f6-91fc-75152486e531",
   "metadata": {},
   "outputs": [
    {
     "data": {
      "text/html": [
       "<div>\n",
       "<style scoped>\n",
       "    .dataframe tbody tr th:only-of-type {\n",
       "        vertical-align: middle;\n",
       "    }\n",
       "\n",
       "    .dataframe tbody tr th {\n",
       "        vertical-align: top;\n",
       "    }\n",
       "\n",
       "    .dataframe thead th {\n",
       "        text-align: right;\n",
       "    }\n",
       "</style>\n",
       "<table border=\"1\" class=\"dataframe\">\n",
       "  <thead>\n",
       "    <tr style=\"text-align: right;\">\n",
       "      <th></th>\n",
       "      <th>title</th>\n",
       "      <th>views-per-comment</th>\n",
       "      <th>rating-count</th>\n",
       "      <th>maximum-rated</th>\n",
       "      <th>speaker_occupation</th>\n",
       "    </tr>\n",
       "  </thead>\n",
       "  <tbody>\n",
       "    <tr>\n",
       "      <th>2534</th>\n",
       "      <td>what it feels like to see earth from space</td>\n",
       "      <td>323087.0</td>\n",
       "      <td>221</td>\n",
       "      <td>informative</td>\n",
       "      <td>author</td>\n",
       "    </tr>\n",
       "    <tr>\n",
       "      <th>2501</th>\n",
       "      <td>the stories behind the new yorker's iconic covers</td>\n",
       "      <td>279680.0</td>\n",
       "      <td>97</td>\n",
       "      <td>informative</td>\n",
       "      <td>art editor</td>\n",
       "    </tr>\n",
       "    <tr>\n",
       "      <th>2542</th>\n",
       "      <td>living sculptures that stand for history's truths</td>\n",
       "      <td>180696.0</td>\n",
       "      <td>181</td>\n",
       "      <td>courageous</td>\n",
       "      <td>artist</td>\n",
       "    </tr>\n",
       "  </tbody>\n",
       "</table>\n",
       "</div>"
      ],
      "text/plain": [
       "                                                  title  views-per-comment  \\\n",
       "2534         what it feels like to see earth from space           323087.0   \n",
       "2501  the stories behind the new yorker's iconic covers           279680.0   \n",
       "2542  living sculptures that stand for history's truths           180696.0   \n",
       "\n",
       "      rating-count maximum-rated speaker_occupation  \n",
       "2534           221   informative             author  \n",
       "2501            97   informative         art editor  \n",
       "2542           181    courageous             artist  "
      ]
     },
     "execution_count": 232,
     "metadata": {},
     "output_type": "execute_result"
    }
   ],
   "source": [
    "columns = ['title', 'views-per-comment', 'rating-count', 'maximum-rated', 'speaker_occupation']\n",
    "v_p_c[columns].head(3)"
   ]
  },
  {
   "cell_type": "markdown",
   "id": "759aea45-f143-45a2-85d3-7fcace8faaa3",
   "metadata": {},
   "source": [
    "### Split year and month"
   ]
  },
  {
   "cell_type": "code",
   "execution_count": 233,
   "id": "862ef95a-d755-4a57-973d-d3ac37e13d70",
   "metadata": {},
   "outputs": [],
   "source": [
    "#split year and month\n",
    "md['months']=md['published_date'].dt.month\n",
    "md['year']=md['published_date'].dt.year"
   ]
  },
  {
   "cell_type": "code",
   "execution_count": 234,
   "id": "bdfc2b4c-f651-4a60-9455-9d745aa9fceb",
   "metadata": {},
   "outputs": [
    {
     "data": {
      "text/plain": [
       "4     256\n",
       "9     232\n",
       "5     229\n",
       "6     228\n",
       "3     228\n",
       "10    224\n",
       "1     215\n",
       "7     204\n",
       "2     203\n",
       "11    189\n",
       "8     178\n",
       "12    164\n",
       "Name: months, dtype: int64"
      ]
     },
     "execution_count": 234,
     "metadata": {},
     "output_type": "execute_result"
    }
   ],
   "source": [
    "#Which months are most popular among TED and TEDx chapters?\n",
    "md.months.value_counts()"
   ]
  },
  {
   "cell_type": "code",
   "execution_count": 235,
   "id": "8a989004-82f2-4b33-919d-d764613adf28",
   "metadata": {},
   "outputs": [
    {
     "name": "stderr",
     "output_type": "stream",
     "text": [
      "/home/tweet/anaconda3/lib/python3.8/site-packages/seaborn/_decorators.py:36: FutureWarning: Pass the following variable as a keyword arg: x. From version 0.12, the only valid positional argument will be `data`, and passing other arguments without an explicit keyword will result in an error or misinterpretation.\n",
      "  warnings.warn(\n"
     ]
    },
    {
     "data": {
      "text/plain": [
       "<AxesSubplot:xlabel='months', ylabel='count'>"
      ]
     },
     "execution_count": 235,
     "metadata": {},
     "output_type": "execute_result"
    },
    {
     "data": {
      "image/png": "[encoded data removed]",
      "text/plain": [
       "<Figure size 1080x360 with 1 Axes>"
      ]
     },
     "metadata": {
      "needs_background": "light"
     },
     "output_type": "display_data"
    }
   ],
   "source": [
    "fig, ax = plt.subplots(figsize=(15,5))\n",
    "sns.countplot(md['months'])"
   ]
  },
  {
   "cell_type": "code",
   "execution_count": 236,
   "id": "aa41dbe6-f099-441c-98e0-008d6d241ad6",
   "metadata": {},
   "outputs": [
    {
     "data": {
      "text/plain": [
       "2012    306\n",
       "2011    261\n",
       "2010    257\n",
       "2013    244\n",
       "2016    243\n",
       "2014    240\n",
       "2009    222\n",
       "2015    220\n",
       "2017    197\n",
       "2008    188\n",
       "2007    122\n",
       "2006     50\n",
       "Name: year, dtype: int64"
      ]
     },
     "execution_count": 236,
     "metadata": {},
     "output_type": "execute_result"
    }
   ],
   "source": [
    "#Which year are most popular among TED and TEDx chapters?\n",
    "md['year'].value_counts()"
   ]
  },
  {
   "cell_type": "code",
   "execution_count": 237,
   "id": "39b3b22b-0ee3-4e97-bb03-1bbfd5b9d2ca",
   "metadata": {},
   "outputs": [
    {
     "name": "stderr",
     "output_type": "stream",
     "text": [
      "/home/tweet/anaconda3/lib/python3.8/site-packages/seaborn/_decorators.py:36: FutureWarning: Pass the following variable as a keyword arg: x. From version 0.12, the only valid positional argument will be `data`, and passing other arguments without an explicit keyword will result in an error or misinterpretation.\n",
      "  warnings.warn(\n"
     ]
    },
    {
     "data": {
      "text/plain": [
       "<AxesSubplot:xlabel='year', ylabel='count'>"
      ]
     },
     "execution_count": 237,
     "metadata": {},
     "output_type": "execute_result"
    },
    {
     "data": {
      "image/png": "[encoded data removed]",
      "text/plain": [
       "<Figure size 1080x360 with 1 Axes>"
      ]
     },
     "metadata": {
      "needs_background": "light"
     },
     "output_type": "display_data"
    }
   ],
   "source": [
    "fig, ax = plt.subplots(figsize=(15,5))\n",
    "sns.countplot(md['year'])"
   ]
  },
  {
   "cell_type": "code",
   "execution_count": 238,
   "id": "f24e37b3-d1e6-4de3-8a54-bea0e48c7f23",
   "metadata": {},
   "outputs": [
    {
     "data": {
      "text/html": [
       "<div>\n",
       "<style scoped>\n",
       "    .dataframe tbody tr th:only-of-type {\n",
       "        vertical-align: middle;\n",
       "    }\n",
       "\n",
       "    .dataframe tbody tr th {\n",
       "        vertical-align: top;\n",
       "    }\n",
       "\n",
       "    .dataframe thead th {\n",
       "        text-align: right;\n",
       "    }\n",
       "</style>\n",
       "<table border=\"1\" class=\"dataframe\">\n",
       "  <thead>\n",
       "    <tr style=\"text-align: right;\">\n",
       "      <th></th>\n",
       "      <th>comments</th>\n",
       "      <th>description</th>\n",
       "      <th>duration</th>\n",
       "      <th>event</th>\n",
       "      <th>languages</th>\n",
       "      <th>main_speaker</th>\n",
       "      <th>name</th>\n",
       "      <th>num_speaker</th>\n",
       "      <th>published_date</th>\n",
       "      <th>ratings</th>\n",
       "      <th>...</th>\n",
       "      <th>persuasive</th>\n",
       "      <th>jaw-dropping</th>\n",
       "      <th>ok</th>\n",
       "      <th>obnoxious</th>\n",
       "      <th>inspiring</th>\n",
       "      <th>maximum-rated</th>\n",
       "      <th>rating-count</th>\n",
       "      <th>views-per-comment</th>\n",
       "      <th>months</th>\n",
       "      <th>year</th>\n",
       "    </tr>\n",
       "  </thead>\n",
       "  <tbody>\n",
       "    <tr>\n",
       "      <th>0</th>\n",
       "      <td>4553</td>\n",
       "      <td>sir ken robinson makes an entertaining and pro...</td>\n",
       "      <td>1164</td>\n",
       "      <td>ted2006</td>\n",
       "      <td>60</td>\n",
       "      <td>ken robinson</td>\n",
       "      <td>ken robinson: do schools kill creativity?</td>\n",
       "      <td>1</td>\n",
       "      <td>2006-06-27 00:11:00</td>\n",
       "      <td>[{'id': 7, 'name': 'Funny', 'count': 19645}, {...</td>\n",
       "      <td>...</td>\n",
       "      <td>10704.0</td>\n",
       "      <td>4439.0</td>\n",
       "      <td>1174.0</td>\n",
       "      <td>209.0</td>\n",
       "      <td>24924.0</td>\n",
       "      <td>inspiring</td>\n",
       "      <td>93850</td>\n",
       "      <td>10372.745443</td>\n",
       "      <td>6</td>\n",
       "      <td>2006</td>\n",
       "    </tr>\n",
       "  </tbody>\n",
       "</table>\n",
       "<p>1 rows × 35 columns</p>\n",
       "</div>"
      ],
      "text/plain": [
       "   comments                                        description  duration  \\\n",
       "0      4553  sir ken robinson makes an entertaining and pro...      1164   \n",
       "\n",
       "     event  languages  main_speaker  \\\n",
       "0  ted2006         60  ken robinson   \n",
       "\n",
       "                                        name  num_speaker      published_date  \\\n",
       "0  ken robinson: do schools kill creativity?            1 2006-06-27 00:11:00   \n",
       "\n",
       "                                             ratings  ... persuasive  \\\n",
       "0  [{'id': 7, 'name': 'Funny', 'count': 19645}, {...  ...    10704.0   \n",
       "\n",
       "  jaw-dropping      ok obnoxious inspiring  maximum-rated  rating-count  \\\n",
       "0       4439.0  1174.0     209.0   24924.0      inspiring         93850   \n",
       "\n",
       "   views-per-comment  months  year  \n",
       "0       10372.745443       6  2006  \n",
       "\n",
       "[1 rows x 35 columns]"
      ]
     },
     "execution_count": 238,
     "metadata": {},
     "output_type": "execute_result"
    }
   ],
   "source": [
    "md.head(1)"
   ]
  },
  {
   "cell_type": "markdown",
   "id": "8e9a1cd7-edb3-4a12-8758-7bb4ce3863bb",
   "metadata": {},
   "source": [
    "### Which event is the most popular?"
   ]
  },
  {
   "cell_type": "code",
   "execution_count": 239,
   "id": "96029c28-9e91-4111-a627-92983db374f5",
   "metadata": {},
   "outputs": [
    {
     "data": {
      "text/html": [
       "<div>\n",
       "<style scoped>\n",
       "    .dataframe tbody tr th:only-of-type {\n",
       "        vertical-align: middle;\n",
       "    }\n",
       "\n",
       "    .dataframe tbody tr th {\n",
       "        vertical-align: top;\n",
       "    }\n",
       "\n",
       "    .dataframe thead th {\n",
       "        text-align: right;\n",
       "    }\n",
       "</style>\n",
       "<table border=\"1\" class=\"dataframe\">\n",
       "  <thead>\n",
       "    <tr style=\"text-align: right;\">\n",
       "      <th></th>\n",
       "      <th>count</th>\n",
       "      <th>mean</th>\n",
       "      <th>sum</th>\n",
       "    </tr>\n",
       "    <tr>\n",
       "      <th>event</th>\n",
       "      <th></th>\n",
       "      <th></th>\n",
       "      <th></th>\n",
       "    </tr>\n",
       "  </thead>\n",
       "  <tbody>\n",
       "    <tr>\n",
       "      <th>ted2013</th>\n",
       "      <td>77</td>\n",
       "      <td>2.302700e+06</td>\n",
       "      <td>177307937</td>\n",
       "    </tr>\n",
       "    <tr>\n",
       "      <th>ted2014</th>\n",
       "      <td>84</td>\n",
       "      <td>2.072874e+06</td>\n",
       "      <td>174121423</td>\n",
       "    </tr>\n",
       "    <tr>\n",
       "      <th>tedglobal 2013</th>\n",
       "      <td>66</td>\n",
       "      <td>2.584163e+06</td>\n",
       "      <td>170554736</td>\n",
       "    </tr>\n",
       "    <tr>\n",
       "      <th>ted2015</th>\n",
       "      <td>75</td>\n",
       "      <td>2.011017e+06</td>\n",
       "      <td>150826305</td>\n",
       "    </tr>\n",
       "    <tr>\n",
       "      <th>ted2006</th>\n",
       "      <td>45</td>\n",
       "      <td>3.274345e+06</td>\n",
       "      <td>147345533</td>\n",
       "    </tr>\n",
       "  </tbody>\n",
       "</table>\n",
       "</div>"
      ],
      "text/plain": [
       "                count          mean        sum\n",
       "event                                         \n",
       "ted2013            77  2.302700e+06  177307937\n",
       "ted2014            84  2.072874e+06  174121423\n",
       "tedglobal 2013     66  2.584163e+06  170554736\n",
       "ted2015            75  2.011017e+06  150826305\n",
       "ted2006            45  3.274345e+06  147345533"
      ]
     },
     "execution_count": 239,
     "metadata": {},
     "output_type": "execute_result"
    }
   ],
   "source": [
    "md.groupby('event').views.agg(['count', 'mean', 'sum']).sort_values(by='sum', ascending=False).head()"
   ]
  },
  {
   "cell_type": "markdown",
   "id": "82f5fb66-6517-4eca-a5f3-01f2e1139e8b",
   "metadata": {},
   "source": [
    "### Which are the most viewed?"
   ]
  },
  {
   "cell_type": "code",
   "execution_count": 245,
   "id": "a627a518-7a33-4486-9dc2-b6be3bbc68ce",
   "metadata": {},
   "outputs": [
    {
     "data": {
      "text/html": [
       "<div>\n",
       "<style scoped>\n",
       "    .dataframe tbody tr th:only-of-type {\n",
       "        vertical-align: middle;\n",
       "    }\n",
       "\n",
       "    .dataframe tbody tr th {\n",
       "        vertical-align: top;\n",
       "    }\n",
       "\n",
       "    .dataframe thead th {\n",
       "        text-align: right;\n",
       "    }\n",
       "</style>\n",
       "<table border=\"1\" class=\"dataframe\">\n",
       "  <thead>\n",
       "    <tr style=\"text-align: right;\">\n",
       "      <th></th>\n",
       "      <th>comments</th>\n",
       "      <th>description</th>\n",
       "      <th>duration</th>\n",
       "      <th>event</th>\n",
       "      <th>languages</th>\n",
       "      <th>main_speaker</th>\n",
       "      <th>name</th>\n",
       "      <th>num_speaker</th>\n",
       "      <th>published_date</th>\n",
       "      <th>ratings</th>\n",
       "      <th>...</th>\n",
       "      <th>persuasive</th>\n",
       "      <th>jaw-dropping</th>\n",
       "      <th>ok</th>\n",
       "      <th>obnoxious</th>\n",
       "      <th>inspiring</th>\n",
       "      <th>maximum-rated</th>\n",
       "      <th>rating-count</th>\n",
       "      <th>views-per-comment</th>\n",
       "      <th>months</th>\n",
       "      <th>year</th>\n",
       "    </tr>\n",
       "  </thead>\n",
       "  <tbody>\n",
       "    <tr>\n",
       "      <th>0</th>\n",
       "      <td>4553</td>\n",
       "      <td>sir ken robinson makes an entertaining and pro...</td>\n",
       "      <td>1164</td>\n",
       "      <td>ted2006</td>\n",
       "      <td>60</td>\n",
       "      <td>ken robinson</td>\n",
       "      <td>ken robinson: do schools kill creativity?</td>\n",
       "      <td>1</td>\n",
       "      <td>2006-06-27 00:11:00</td>\n",
       "      <td>[{'id': 7, 'name': 'Funny', 'count': 19645}, {...</td>\n",
       "      <td>...</td>\n",
       "      <td>10704.0</td>\n",
       "      <td>4439.0</td>\n",
       "      <td>1174.0</td>\n",
       "      <td>209.0</td>\n",
       "      <td>24924.0</td>\n",
       "      <td>inspiring</td>\n",
       "      <td>93850</td>\n",
       "      <td>10372.745443</td>\n",
       "      <td>6</td>\n",
       "      <td>2006</td>\n",
       "    </tr>\n",
       "    <tr>\n",
       "      <th>1346</th>\n",
       "      <td>2290</td>\n",
       "      <td>body language affects how others see us, but i...</td>\n",
       "      <td>1262</td>\n",
       "      <td>tedglobal 2012</td>\n",
       "      <td>51</td>\n",
       "      <td>amy cuddy</td>\n",
       "      <td>amy cuddy: your body language may shape who yo...</td>\n",
       "      <td>1</td>\n",
       "      <td>2012-10-01 15:00:08</td>\n",
       "      <td>[{'id': 23, 'name': 'Jaw-dropping', 'count': 3...</td>\n",
       "      <td>...</td>\n",
       "      <td>6217.0</td>\n",
       "      <td>3586.0</td>\n",
       "      <td>1129.0</td>\n",
       "      <td>155.0</td>\n",
       "      <td>21210.0</td>\n",
       "      <td>inspiring</td>\n",
       "      <td>65968</td>\n",
       "      <td>18845.155022</td>\n",
       "      <td>10</td>\n",
       "      <td>2012</td>\n",
       "    </tr>\n",
       "  </tbody>\n",
       "</table>\n",
       "<p>2 rows × 35 columns</p>\n",
       "</div>"
      ],
      "text/plain": [
       "      comments                                        description  duration  \\\n",
       "0         4553  sir ken robinson makes an entertaining and pro...      1164   \n",
       "1346      2290  body language affects how others see us, but i...      1262   \n",
       "\n",
       "               event  languages  main_speaker  \\\n",
       "0            ted2006         60  ken robinson   \n",
       "1346  tedglobal 2012         51     amy cuddy   \n",
       "\n",
       "                                                   name  num_speaker  \\\n",
       "0             ken robinson: do schools kill creativity?            1   \n",
       "1346  amy cuddy: your body language may shape who yo...            1   \n",
       "\n",
       "          published_date                                            ratings  \\\n",
       "0    2006-06-27 00:11:00  [{'id': 7, 'name': 'Funny', 'count': 19645}, {...   \n",
       "1346 2012-10-01 15:00:08  [{'id': 23, 'name': 'Jaw-dropping', 'count': 3...   \n",
       "\n",
       "      ... persuasive jaw-dropping      ok obnoxious inspiring  maximum-rated  \\\n",
       "0     ...    10704.0       4439.0  1174.0     209.0   24924.0      inspiring   \n",
       "1346  ...     6217.0       3586.0  1129.0     155.0   21210.0      inspiring   \n",
       "\n",
       "      rating-count  views-per-comment  months  year  \n",
       "0            93850       10372.745443       6  2006  \n",
       "1346         65968       18845.155022      10  2012  \n",
       "\n",
       "[2 rows x 35 columns]"
      ]
     },
     "execution_count": 245,
     "metadata": {},
     "output_type": "execute_result"
    }
   ],
   "source": [
    "#Sort by views\n",
    "v_ = md.sort_values(by='views',ascending=False)\n",
    "v_.head(2)"
   ]
  },
  {
   "cell_type": "code",
   "execution_count": 258,
   "id": "05217c8e-8ef7-4d33-bd85-6bc94ede3342",
   "metadata": {},
   "outputs": [
    {
     "data": {
      "text/html": [
       "<div>\n",
       "<style scoped>\n",
       "    .dataframe tbody tr th:only-of-type {\n",
       "        vertical-align: middle;\n",
       "    }\n",
       "\n",
       "    .dataframe tbody tr th {\n",
       "        vertical-align: top;\n",
       "    }\n",
       "\n",
       "    .dataframe thead th {\n",
       "        text-align: right;\n",
       "    }\n",
       "</style>\n",
       "<table border=\"1\" class=\"dataframe\">\n",
       "  <thead>\n",
       "    <tr style=\"text-align: right;\">\n",
       "      <th></th>\n",
       "      <th>title</th>\n",
       "      <th>related_talks</th>\n",
       "      <th>rating-count</th>\n",
       "      <th>maximum-rated</th>\n",
       "      <th>speaker_occupation</th>\n",
       "      <th>event</th>\n",
       "    </tr>\n",
       "  </thead>\n",
       "  <tbody>\n",
       "    <tr>\n",
       "      <th>0</th>\n",
       "      <td>do schools kill creativity?</td>\n",
       "      <td>[{'id': 865, 'hero': 'https://pe.tedcdn.com/im...</td>\n",
       "      <td>93850</td>\n",
       "      <td>inspiring</td>\n",
       "      <td>author/educator</td>\n",
       "      <td>ted2006</td>\n",
       "    </tr>\n",
       "    <tr>\n",
       "      <th>1346</th>\n",
       "      <td>your body language may shape who you are</td>\n",
       "      <td>[{'id': 605, 'hero': 'https://pe.tedcdn.com/im...</td>\n",
       "      <td>65968</td>\n",
       "      <td>inspiring</td>\n",
       "      <td>social psychologist</td>\n",
       "      <td>tedglobal 2012</td>\n",
       "    </tr>\n",
       "    <tr>\n",
       "      <th>677</th>\n",
       "      <td>how great leaders inspire action</td>\n",
       "      <td>[{'id': 814, 'hero': 'https://pe.tedcdn.com/im...</td>\n",
       "      <td>56779</td>\n",
       "      <td>inspiring</td>\n",
       "      <td>leadership expert</td>\n",
       "      <td>tedxpuget sound</td>\n",
       "    </tr>\n",
       "  </tbody>\n",
       "</table>\n",
       "</div>"
      ],
      "text/plain": [
       "                                         title  \\\n",
       "0                  do schools kill creativity?   \n",
       "1346  your body language may shape who you are   \n",
       "677           how great leaders inspire action   \n",
       "\n",
       "                                          related_talks  rating-count  \\\n",
       "0     [{'id': 865, 'hero': 'https://pe.tedcdn.com/im...         93850   \n",
       "1346  [{'id': 605, 'hero': 'https://pe.tedcdn.com/im...         65968   \n",
       "677   [{'id': 814, 'hero': 'https://pe.tedcdn.com/im...         56779   \n",
       "\n",
       "     maximum-rated   speaker_occupation            event  \n",
       "0        inspiring      author/educator          ted2006  \n",
       "1346     inspiring  social psychologist   tedglobal 2012  \n",
       "677      inspiring    leadership expert  tedxpuget sound  "
      ]
     },
     "execution_count": 258,
     "metadata": {},
     "output_type": "execute_result"
    }
   ],
   "source": [
    "columns = ['title', 'related_talks', 'rating-count', 'maximum-rated',\"speaker_occupation\" ,'event']\n",
    "related_talks = v_['related_talks']\n",
    "v_[columns].head(3)"
   ]
  },
  {
   "cell_type": "markdown",
   "id": "d3f1c6e1-c36e-4d1d-9489-8f8bef651ea2",
   "metadata": {},
   "source": [
    "### Which are the related_talks?"
   ]
  },
  {
   "cell_type": "code",
   "execution_count": 283,
   "id": "8c253a08-7701-4627-8f73-c107f2e44615",
   "metadata": {},
   "outputs": [
    {
     "data": {
      "text/plain": [
       "['bring on the learning revolution!',\n",
       " \"how to escape education's death valley\",\n",
       " 'how to fix a broken school? lead fearlessly, love hard',\n",
       " 'education innovation in the slums',\n",
       " 'a short intro to the studio school',\n",
       " \"how america's public schools keep kids in poverty\",\n",
       " 'new thinking on the climate crisis',\n",
       " 'the business logic of sustainability',\n",
       " 'the state of the climate — and what we might do about it',\n",
       " 'a climate solution where all sides can win',\n",
       " \"climate change is happening. here's how we adapt\",\n",
       " 'why climate change is a threat to human rights',\n",
       " '10 top time-saving tech tips',\n",
       " 'the first secret of design is ... noticing',\n",
       " 'designing for simplicity',\n",
       " 'meet the inventor of the electronic spreadsheet',\n",
       " 'design and discovery',\n",
       " 'how the internet will (one day) transform government']"
      ]
     },
     "execution_count": 283,
     "metadata": {},
     "output_type": "execute_result"
    }
   ],
   "source": [
    "list_of_titles = []\n",
    "for i in range(3):\n",
    "    for item in related_talks[i]:\n",
    "        list_of_titles.append(item['title'].lower())\n",
    "list_of_titles"
   ]
  },
  {
   "cell_type": "code",
   "execution_count": 284,
   "id": "f0407bcc-daca-419d-a1a9-e793d98c3d29",
   "metadata": {},
   "outputs": [
    {
     "data": {
      "text/html": [
       "<div>\n",
       "<style scoped>\n",
       "    .dataframe tbody tr th:only-of-type {\n",
       "        vertical-align: middle;\n",
       "    }\n",
       "\n",
       "    .dataframe tbody tr th {\n",
       "        vertical-align: top;\n",
       "    }\n",
       "\n",
       "    .dataframe thead th {\n",
       "        text-align: right;\n",
       "    }\n",
       "</style>\n",
       "<table border=\"1\" class=\"dataframe\">\n",
       "  <thead>\n",
       "    <tr style=\"text-align: right;\">\n",
       "      <th></th>\n",
       "      <th>comments</th>\n",
       "      <th>description</th>\n",
       "      <th>duration</th>\n",
       "      <th>event</th>\n",
       "      <th>languages</th>\n",
       "      <th>main_speaker</th>\n",
       "      <th>name</th>\n",
       "      <th>num_speaker</th>\n",
       "      <th>published_date</th>\n",
       "      <th>ratings</th>\n",
       "      <th>...</th>\n",
       "      <th>persuasive</th>\n",
       "      <th>jaw-dropping</th>\n",
       "      <th>ok</th>\n",
       "      <th>obnoxious</th>\n",
       "      <th>inspiring</th>\n",
       "      <th>maximum-rated</th>\n",
       "      <th>rating-count</th>\n",
       "      <th>views-per-comment</th>\n",
       "      <th>months</th>\n",
       "      <th>year</th>\n",
       "    </tr>\n",
       "  </thead>\n",
       "  <tbody>\n",
       "    <tr>\n",
       "      <th>692</th>\n",
       "      <td>1234</td>\n",
       "      <td>in this poignant, funny follow-up to his fable...</td>\n",
       "      <td>1008</td>\n",
       "      <td>ted2010</td>\n",
       "      <td>57</td>\n",
       "      <td>ken robinson</td>\n",
       "      <td>ken robinson: bring on the learning revolution!</td>\n",
       "      <td>1</td>\n",
       "      <td>2010-05-24 09:06:00</td>\n",
       "      <td>[{'id': 7, 'name': 'Funny', 'count': 3000}, {'...</td>\n",
       "      <td>...</td>\n",
       "      <td>2876.0</td>\n",
       "      <td>865.0</td>\n",
       "      <td>208.0</td>\n",
       "      <td>38.0</td>\n",
       "      <td>7631.0</td>\n",
       "      <td>inspiring</td>\n",
       "      <td>21491</td>\n",
       "      <td>5888.424635</td>\n",
       "      <td>5</td>\n",
       "      <td>2010</td>\n",
       "    </tr>\n",
       "  </tbody>\n",
       "</table>\n",
       "<p>1 rows × 35 columns</p>\n",
       "</div>"
      ],
      "text/plain": [
       "     comments                                        description  duration  \\\n",
       "692      1234  in this poignant, funny follow-up to his fable...      1008   \n",
       "\n",
       "       event  languages  main_speaker  \\\n",
       "692  ted2010         57  ken robinson   \n",
       "\n",
       "                                                name  num_speaker  \\\n",
       "692  ken robinson: bring on the learning revolution!            1   \n",
       "\n",
       "         published_date                                            ratings  \\\n",
       "692 2010-05-24 09:06:00  [{'id': 7, 'name': 'Funny', 'count': 3000}, {'...   \n",
       "\n",
       "     ... persuasive jaw-dropping     ok obnoxious inspiring  maximum-rated  \\\n",
       "692  ...     2876.0        865.0  208.0      38.0    7631.0      inspiring   \n",
       "\n",
       "     rating-count  views-per-comment  months  year  \n",
       "692         21491        5888.424635       5  2010  \n",
       "\n",
       "[1 rows x 35 columns]"
      ]
     },
     "execution_count": 284,
     "metadata": {},
     "output_type": "execute_result"
    }
   ],
   "source": [
    "md[md[\"title\"]=='bring on the learning revolution!']"
   ]
  }
 ],
 "metadata": {
  "kernelspec": {
   "display_name": "Python 3",
   "language": "python",
   "name": "python3"
  },
  "language_info": {
   "codemirror_mode": {
    "name": "ipython",
    "version": 3
   },
   "file_extension": ".py",
   "mimetype": "text/x-python",
   "name": "python",
   "nbconvert_exporter": "python",
   "pygments_lexer": "ipython3",
   "version": "3.8.8"
  }
 },
 "nbformat": 4,
 "nbformat_minor": 5
}
