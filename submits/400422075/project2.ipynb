{
 "cells": [
  {
   "cell_type": "markdown",
   "metadata": {},
   "source": [
    "# import libraries"
   ]
  },
  {
   "cell_type": "code",
   "execution_count": 1,
   "metadata": {},
   "outputs": [],
   "source": [
    "import numpy as np\n",
    "from sklearn.neural_network import MLPRegressor\n",
    "from sklearn import metrics\n",
    "from sklearn import preprocessing\n",
    "from sklearn.model_selection import train_test_split\n",
    "import matplotlib.pyplot as plt\n",
    "import pandas as pd\n",
    "import seaborn as sns\n",
    "from sklearn.tree import DecisionTreeRegressor\n",
    "from sklearn.ensemble import ExtraTreesRegressor\n",
    "from sklearn.ensemble import RandomForestRegressor\n",
    "from sklearn.ensemble import GradientBoostingRegressor\n",
    "#from sklearn.ensemble import HistGradientBoostingRegressor\n",
    "from sklearn.ensemble import BaggingRegressor\n",
    "from sklearn.svm import SVR\n",
    "from scipy.stats import shapiro\n",
    "from scipy.stats import pearsonr\n",
    "from scipy.stats import f_oneway\n",
    "from scipy.stats import chi2_contingency\n",
    "from sklearn.pipeline import make_pipeline\n",
    "from sklearn.compose import TransformedTargetRegressor\n",
    "from sklearn.linear_model import Ridge\n",
    "from scipy import special"
   ]
  },
  {
   "cell_type": "markdown",
   "metadata": {},
   "source": [
    "# Load dataset\n"
   ]
  },
  {
   "cell_type": "code",
   "execution_count": 2,
   "metadata": {},
   "outputs": [],
   "source": [
    "df = pd.read_csv(r'C:\\Users\\Adler_Sky\\Desktop\\immo_data.csv')\n"
   ]
  },
  {
   "cell_type": "code",
   "execution_count": 15,
   "metadata": {},
   "outputs": [],
   "source": [
    "import time\n",
    "Start = time.perf_counter()"
   ]
  },
  {
   "cell_type": "markdown",
   "metadata": {},
   "source": [
    "######  در این قسمت داده ها فراخوانی شده اند"
   ]
  },
  {
   "cell_type": "markdown",
   "metadata": {},
   "source": [
    "# Section 1: Remove missing values,..."
   ]
  },
  {
   "cell_type": "code",
   "execution_count": 16,
   "metadata": {},
   "outputs": [],
   "source": [
    "df1 = df.drop(labels=['typeOfFlat', 'streetPlain', 'street', 'petsAllowed', 'interiorQual',\n",
    "        'petsAllowed', 'condition', 'geo_krs', 'houseNumber', 'yearConstructedRange', 'geo_bln',\n",
    "        'firingTypes', 'noParkSpaces', 'scoutId', 'yearConstructed', 'totalRent', 'telekomUploadSpeed',\n",
    "        'telekomHybridUploadSpeed', 'telekomTvOffer', 'telekomTvOffer',\n",
    "        'thermalChar','floor', 'numberOfFloors', 'regio2', 'regio3',\n",
    "        'description', 'facilities', 'heatingCosts', 'energyEfficiencyClass',\n",
    "        'lastRefurbish', 'electricityBasePrice', 'electricityKwhPrice', 'date'] ,axis=1)\n",
    "df1 = df1.dropna(axis=0, how='any')\n",
    "df1 = df1.drop_duplicates()"
   ]
  },
  {
   "cell_type": "markdown",
   "metadata": {},
   "source": [
    "###### در قسمت بالا ابتدا لیستی از متغیرهای با میزان زیاد میسینگ ولیو را حذف کردیم. سپس به حذف میسینگ ولیو و تکراری ها پرداختیم"
   ]
  },
  {
   "cell_type": "markdown",
   "metadata": {},
   "source": [
    "### سپس با استفاده تعریف توزیع نرمال و سنجش پراکندگی بیش از 3 برابر از میانگین، رگوردهایی که مقدار آن ها در پارامترهای انتخاب شده بیش از 3 انحراف معیار از میانگین فاصله دارند به عنوان داده پرت شناسایی شدند "
   ]
  },
  {
   "cell_type": "code",
   "execution_count": 17,
   "metadata": {},
   "outputs": [],
   "source": [
    "temp1 = [np.abs(df1[['serviceCharge']]\n",
    "-df1[['serviceCharge']].mean()) <=\n",
    "    (3*df1[['serviceCharge']].std())]\n",
    "\n",
    "NoOutlierrows = np.any(np.array(temp1[0]), axis=1)\n",
    "df2 = df1.iloc[NoOutlierrows,:]"
   ]
  },
  {
   "cell_type": "code",
   "execution_count": 18,
   "metadata": {},
   "outputs": [],
   "source": [
    "##### calculate time for section 4\n",
    "Finish = time.perf_counter()\n"
   ]
  },
  {
   "cell_type": "code",
   "execution_count": 19,
   "metadata": {},
   "outputs": [
    {
     "name": "stdout",
     "output_type": "stream",
     "text": [
      "28.009487700000022\n"
     ]
    }
   ],
   "source": [
    "print(Finish-Start)"
   ]
  },
  {
   "cell_type": "markdown",
   "metadata": {},
   "source": [
    "# Section 2: Overal Information"
   ]
  },
  {
   "cell_type": "markdown",
   "metadata": {},
   "source": [
    "### plot count of rooms by neighbourhood group"
   ]
  },
  {
   "cell_type": "code",
   "execution_count": 20,
   "metadata": {},
   "outputs": [
    {
     "data": {
      "image/png": "[encoded data removed]",
      "text/plain": [
       "<Figure size 640x480 with 1 Axes>"
      ]
     },
     "metadata": {
      "needs_background": "light"
     },
     "output_type": "display_data"
    }
   ],
   "source": [
    "x_var = 'regio1'\n",
    "vals = [df2[x_var].values.tolist()]\n",
    "\n",
    "plt.figure(figsize=(8,6), dpi= 80)\n",
    "plt.hist(vals, df2[x_var].unique().__len__(), stacked=False, density=False)\n",
    "plt.title(f\"Count of rooms by regio1\", fontsize=22)\n",
    "plt.xlabel(x_var)\n",
    "plt.ylabel(\"Count\")\n",
    "plt.xticks(rotation='vertical')\n",
    "plt.show()"
   ]
  },
  {
   "cell_type": "markdown",
   "metadata": {},
   "source": [
    "### در قسمت بالا فراوانی تعداد آگهی ها در هر منطقه جغرافیایی  نمایش داده شده است.\n"
   ]
  },
  {
   "cell_type": "markdown",
   "metadata": {},
   "source": [
    "###### همانطور که در شکل بالا مشخص است، پراکندگی فراوانی آگهی در مناطق مختلف بالا است. در میان تمامی مناطق، و منطقه زیر فراوانی بسیار بالایی دارند:\n",
    "    1) Nordrhein_westalen\n",
    "    2) Sachsen"
   ]
  },
  {
   "cell_type": "markdown",
   "metadata": {},
   "source": [
    "###### در مقابل، مناطقی مانند \n",
    "bermen \n",
    "و\n",
    "saarland فراوانی تعداد آگهی کمتری دارند"
   ]
  },
  {
   "cell_type": "markdown",
   "metadata": {},
   "source": [
    "### plot relationship between region and price"
   ]
  },
  {
   "cell_type": "code",
   "execution_count": 28,
   "metadata": {},
   "outputs": [
    {
     "name": "stderr",
     "output_type": "stream",
     "text": [
      "C:\\ProgramData\\Anaconda3\\lib\\site-packages\\numpy\\core\\fromnumeric.py:3438: FutureWarning: Dropping of nuisance columns in DataFrame reductions (with 'numeric_only=None') is deprecated; in a future version this will raise TypeError.  Select only valid columns before calling the reduction.\n",
      "  return mean(axis=axis, dtype=dtype, out=out, **kwargs)\n"
     ]
    }
   ],
   "source": [
    "df_raw = df2[['serviceCharge', 'regio1']].groupby('regio1').apply(lambda x: np.mean(x))\n",
    "#sns.lmplot(x=pd.factorize(df2['regio1'])[0], y=\"serviceCharge\", data=df2)\n"
   ]
  },
  {
   "cell_type": "code",
   "execution_count": 31,
   "metadata": {},
   "outputs": [
    {
     "name": "stdout",
     "output_type": "stream",
     "text": [
      "                        serviceCharge\n",
      "regio1                               \n",
      "Baden_Württemberg          177.537581\n",
      "Bayern                     170.230883\n",
      "Berlin                     195.782026\n",
      "Brandenburg                135.130756\n",
      "Bremen                     151.484099\n",
      "Hamburg                    198.756956\n",
      "Hessen                     197.758663\n",
      "Mecklenburg_Vorpommern     119.713191\n",
      "Niedersachsen              144.641637\n",
      "Nordrhein_Westfalen        155.707437\n",
      "Rheinland_Pfalz            155.173850\n",
      "Saarland                   158.566849\n",
      "Sachsen                    134.193050\n",
      "Sachsen_Anhalt             114.835066\n",
      "Schleswig_Holstein         138.760762\n",
      "Thüringen                  123.692952\n"
     ]
    }
   ],
   "source": [
    "print(df_raw)"
   ]
  },
  {
   "cell_type": "code",
   "execution_count": 45,
   "metadata": {},
   "outputs": [
    {
     "data": {
      "text/plain": [
       "<matplotlib.axes._subplots.AxesSubplot at 0x1ae8b81d400>"
      ]
     },
     "execution_count": 45,
     "metadata": {},
     "output_type": "execute_result"
    },
    {
     "data": {
      "image/png": "[encoded data removed]",
      "text/plain": [
       "<Figure size 432x288 with 1 Axes>"
      ]
     },
     "metadata": {
      "needs_background": "light"
     },
     "output_type": "display_data"
    }
   ],
   "source": [
    "df_raw.plot.bar()\n"
   ]
  },
  {
   "cell_type": "markdown",
   "metadata": {},
   "source": [
    "###### آنطور که مشخص است، تغییرات قیمت در بین مناطق جغرافیایی چندان متفاوت نیست"
   ]
  },
  {
   "cell_type": "markdown",
   "metadata": {},
   "source": [
    "# Section 3: Forecast charge"
   ]
  },
  {
   "cell_type": "markdown",
   "metadata": {},
   "source": [
    "### Forecast charge using multiple linear regression"
   ]
  },
  {
   "cell_type": "code",
   "execution_count": 20,
   "metadata": {},
   "outputs": [
    {
     "name": "stderr",
     "output_type": "stream",
     "text": [
      "C:\\ProgramData\\Anaconda3\\lib\\site-packages\\ipykernel_launcher.py:3: SettingWithCopyWarning: \n",
      "A value is trying to be set on a copy of a slice from a DataFrame.\n",
      "Try using .loc[row_indexer,col_indexer] = value instead\n",
      "\n",
      "See the caveats in the documentation: https://pandas.pydata.org/pandas-docs/stable/user_guide/indexing.html#returning-a-view-versus-a-copy\n",
      "  This is separate from the ipykernel package so we can avoid doing imports until\n",
      "C:\\ProgramData\\Anaconda3\\lib\\site-packages\\ipykernel_launcher.py:4: SettingWithCopyWarning: \n",
      "A value is trying to be set on a copy of a slice from a DataFrame.\n",
      "Try using .loc[row_indexer,col_indexer] = value instead\n",
      "\n",
      "See the caveats in the documentation: https://pandas.pydata.org/pandas-docs/stable/user_guide/indexing.html#returning-a-view-versus-a-copy\n",
      "  after removing the cwd from sys.path.\n",
      "C:\\ProgramData\\Anaconda3\\lib\\site-packages\\ipykernel_launcher.py:6: SettingWithCopyWarning: \n",
      "A value is trying to be set on a copy of a slice from a DataFrame.\n",
      "Try using .loc[row_indexer,col_indexer] = value instead\n",
      "\n",
      "See the caveats in the documentation: https://pandas.pydata.org/pandas-docs/stable/user_guide/indexing.html#returning-a-view-versus-a-copy\n",
      "  \n",
      "C:\\ProgramData\\Anaconda3\\lib\\site-packages\\ipykernel_launcher.py:7: SettingWithCopyWarning: \n",
      "A value is trying to be set on a copy of a slice from a DataFrame.\n",
      "Try using .loc[row_indexer,col_indexer] = value instead\n",
      "\n",
      "See the caveats in the documentation: https://pandas.pydata.org/pandas-docs/stable/user_guide/indexing.html#returning-a-view-versus-a-copy\n",
      "  import sys\n",
      "C:\\ProgramData\\Anaconda3\\lib\\site-packages\\ipykernel_launcher.py:9: SettingWithCopyWarning: \n",
      "A value is trying to be set on a copy of a slice from a DataFrame.\n",
      "Try using .loc[row_indexer,col_indexer] = value instead\n",
      "\n",
      "See the caveats in the documentation: https://pandas.pydata.org/pandas-docs/stable/user_guide/indexing.html#returning-a-view-versus-a-copy\n",
      "  if __name__ == '__main__':\n",
      "C:\\ProgramData\\Anaconda3\\lib\\site-packages\\ipykernel_launcher.py:10: SettingWithCopyWarning: \n",
      "A value is trying to be set on a copy of a slice from a DataFrame.\n",
      "Try using .loc[row_indexer,col_indexer] = value instead\n",
      "\n",
      "See the caveats in the documentation: https://pandas.pydata.org/pandas-docs/stable/user_guide/indexing.html#returning-a-view-versus-a-copy\n",
      "  # Remove the CWD from sys.path while we load stuff.\n",
      "C:\\ProgramData\\Anaconda3\\lib\\site-packages\\ipykernel_launcher.py:12: SettingWithCopyWarning: \n",
      "A value is trying to be set on a copy of a slice from a DataFrame.\n",
      "Try using .loc[row_indexer,col_indexer] = value instead\n",
      "\n",
      "See the caveats in the documentation: https://pandas.pydata.org/pandas-docs/stable/user_guide/indexing.html#returning-a-view-versus-a-copy\n",
      "  if sys.path[0] == '':\n",
      "C:\\ProgramData\\Anaconda3\\lib\\site-packages\\ipykernel_launcher.py:13: SettingWithCopyWarning: \n",
      "A value is trying to be set on a copy of a slice from a DataFrame.\n",
      "Try using .loc[row_indexer,col_indexer] = value instead\n",
      "\n",
      "See the caveats in the documentation: https://pandas.pydata.org/pandas-docs/stable/user_guide/indexing.html#returning-a-view-versus-a-copy\n",
      "  del sys.path[0]\n"
     ]
    }
   ],
   "source": [
    "Start3 = time.perf_counter()\n",
    "\n",
    "df2['regio1'] = pd.factorize(df2['regio1'])[0] \n",
    "df2['heatingType'] = pd.factorize(df2['heatingType'])[0]\n",
    "\n",
    "df2['newlyConst'] = pd.factorize(df2['newlyConst'])[0] \n",
    "df2['balcony'] = pd.factorize(df2['balcony'])[0]\n",
    "\n",
    "df2['hasKitchen'] = pd.factorize(df2['hasKitchen'])[0] \n",
    "df2['cellar'] = pd.factorize(df2['cellar'])[0]\n",
    "\n",
    "df2['lift'] = pd.factorize(df2['lift'])[0] \n",
    "df2['garden'] = pd.factorize(df2['garden'])[0]"
   ]
  },
  {
   "cell_type": "code",
   "execution_count": 36,
   "metadata": {},
   "outputs": [
    {
     "name": "stdout",
     "output_type": "stream",
     "text": [
      "        regio1  serviceCharge  heatingType  newlyConst  balcony  picturecount  \\\n",
      "0            0         245.00            0           0        0             6   \n",
      "1            1         134.00            1           0        1             8   \n",
      "2            2         255.00            2           1        1             8   \n",
      "3            2          58.15            3           0        1             9   \n",
      "4            3         138.00            1           0        1            19   \n",
      "...        ...            ...          ...         ...      ...           ...   \n",
      "268845       9          90.00            9           0        1             0   \n",
      "268846       7         220.00            4           0        1            12   \n",
      "268847       7         220.00            0           0        1            21   \n",
      "268848       0         175.00            9           1        1            16   \n",
      "268849       7         315.00            0           0        1             9   \n",
      "\n",
      "        pricetrend  hasKitchen  cellar  baseRent  livingSpace  lift  \\\n",
      "0             4.62           0       0     595.0        86.00     0   \n",
      "1             3.47           0       1     800.0        89.00     0   \n",
      "2             2.72           0       0     965.0        83.80     1   \n",
      "3             1.53           0       1     343.0        58.15     0   \n",
      "4             2.46           0       1     765.0        84.97     0   \n",
      "...            ...         ...     ...       ...          ...   ...   \n",
      "268845        2.74           0       0     820.0        90.00     0   \n",
      "268846        6.49           1       1     930.0       115.00     0   \n",
      "268847        2.90           0       0     650.0        95.00     0   \n",
      "268848        4.39           0       0     840.0        70.00     1   \n",
      "268849        5.00           1       0     935.0        77.00     1   \n",
      "\n",
      "        baseRentRange  geo_plz  noRooms  noRoomsRange  garden  \\\n",
      "0                   4    44269      4.0             4       0   \n",
      "1                   5    67459      3.0             3       1   \n",
      "2                   6     1097      3.0             3       1   \n",
      "3                   2     9599      3.0             3       1   \n",
      "4                   5    28213      3.0             3       1   \n",
      "...               ...      ...      ...           ...     ...   \n",
      "268845              6    82390      3.0             3       1   \n",
      "268846              6    68519      3.5             3       1   \n",
      "268847              5    65552      4.0             4       0   \n",
      "268848              6    51069      2.0             2       1   \n",
      "268849              6    65936      3.0             3       1   \n",
      "\n",
      "        livingSpaceRange  \n",
      "0                      4  \n",
      "1                      4  \n",
      "2                      4  \n",
      "3                      2  \n",
      "4                      4  \n",
      "...                  ...  \n",
      "268845                 4  \n",
      "268846                 5  \n",
      "268847                 4  \n",
      "268848                 3  \n",
      "268849                 3  \n",
      "\n",
      "[216083 rows x 18 columns]\n"
     ]
    }
   ],
   "source": [
    "print(df2)"
   ]
  },
  {
   "cell_type": "markdown",
   "metadata": {},
   "source": [
    "### در خطوط بالا متغیرهای متنی به حالت عددی کدگذاری شده اند"
   ]
  },
  {
   "cell_type": "code",
   "execution_count": 21,
   "metadata": {},
   "outputs": [],
   "source": [
    "Y = df2['picturecount']\n",
    "X = df2"
   ]
  },
  {
   "cell_type": "code",
   "execution_count": 38,
   "metadata": {},
   "outputs": [],
   "source": [
    "\n",
    "from sklearn.linear_model import LinearRegression\n",
    "MLR = LinearRegression().fit(X, Y)\n"
   ]
  },
  {
   "cell_type": "code",
   "execution_count": 39,
   "metadata": {},
   "outputs": [
    {
     "name": "stdout",
     "output_type": "stream",
     "text": [
      "[-3.58299556e-17 -9.82070328e-16 -2.01939630e-16  3.77596978e-15\n",
      " -5.35178212e-15  1.00000000e+00 -1.57810456e-17 -4.00217887e-16\n",
      " -1.76045117e-16  9.90776655e-17  4.58396286e-17  3.40663524e-17\n",
      " -4.35156213e-16 -1.89464487e-17  5.22226387e-18 -1.55794856e-17\n",
      " -7.33018136e-17  4.68176220e-17]\n"
     ]
    }
   ],
   "source": [
    "print(MLR.coef_)"
   ]
  },
  {
   "cell_type": "code",
   "execution_count": 40,
   "metadata": {},
   "outputs": [
    {
     "name": "stdout",
     "output_type": "stream",
     "text": [
      "Index(['regio1', 'serviceCharge', 'heatingType', 'newlyConst', 'balcony',\n",
      "       'picturecount', 'pricetrend', 'hasKitchen', 'cellar', 'baseRent',\n",
      "       'livingSpace', 'lift', 'baseRentRange', 'geo_plz', 'noRooms',\n",
      "       'noRoomsRange', 'garden', 'livingSpaceRange'],\n",
      "      dtype='object')\n"
     ]
    }
   ],
   "source": [
    "print(X.columns)"
   ]
  },
  {
   "cell_type": "markdown",
   "metadata": {},
   "source": [
    "###### با توجه به نتیجه مدل رگرسیونی آموزش دیده و مقادیر ضرایب آن مشاهده می شود که \n",
    "picturecount\n",
    "\n",
    "بیشترین اهمیت را در مدل رگرسیونی داشته است\n",
    "    "
   ]
  },
  {
   "cell_type": "code",
   "execution_count": 41,
   "metadata": {},
   "outputs": [
    {
     "name": "stdout",
     "output_type": "stream",
     "text": [
      "12.359803499999543\n"
     ]
    }
   ],
   "source": [
    "Finish3 = time.perf_counter()\n",
    "print(Finish3-Start3)"
   ]
  },
  {
   "cell_type": "markdown",
   "metadata": {},
   "source": [
    "# Section 4: using multiprocessing in preprocessing\n",
    "    "
   ]
  },
  {
   "cell_type": "code",
   "execution_count": 26,
   "metadata": {},
   "outputs": [],
   "source": [
    "from multiprocessing import Process\n"
   ]
  },
  {
   "cell_type": "code",
   "execution_count": 28,
   "metadata": {},
   "outputs": [],
   "source": [
    "def do_preprocess():\n",
    "    df1 = df.drop(labels=['typeOfFlat', 'streetPlain', 'street', 'petsAllowed', 'interiorQual',\n",
    "        'petsAllowed', 'condition', 'geo_krs', 'houseNumber', 'yearConstructedRange', 'geo_bln',\n",
    "        'firingTypes', 'noParkSpaces', 'scoutId', 'yearConstructed', 'totalRent', 'telekomUploadSpeed',\n",
    "        'telekomHybridUploadSpeed', 'telekomTvOffer', 'telekomTvOffer',\n",
    "        'thermalChar','floor', 'numberOfFloors', 'regio2', 'regio3',\n",
    "        'description', 'facilities', 'heatingCosts', 'energyEfficiencyClass',\n",
    "        'lastRefurbish', 'electricityBasePrice', 'electricityKwhPrice', 'date'] ,axis=1)\n",
    "    df1 = df1.dropna(axis=0, how='any')\n",
    "    df1 = df1.drop_duplicates()\n",
    "\n",
    "    temp1 = [np.abs(df1[['serviceCharge']]\n",
    "   -df1[['serviceCharge']].mean()) <=\n",
    "    (3*df1[['serviceCharge']].std())]\n",
    "\n",
    "    NoOutlierrows = np.any(np.array(temp1[0]), axis=1)\n",
    "    df2 = df1.iloc[NoOutlierrows,:]\n",
    "    \n",
    "Start1 = time.perf_counter()    \n",
    "# using multiprocessing for preprocessing\n",
    "pl = Process(target=do_preprocess)\n",
    "\n",
    "\n",
    "Finish1 = time.perf_counter()"
   ]
  },
  {
   "cell_type": "code",
   "execution_count": 29,
   "metadata": {},
   "outputs": [
    {
     "name": "stdout",
     "output_type": "stream",
     "text": [
      "6.570000005012844e-05\n"
     ]
    }
   ],
   "source": [
    "print(Finish1-Start1)"
   ]
  },
  {
   "cell_type": "markdown",
   "metadata": {},
   "source": [
    "###### همانطور که در یخش 1 محاسبه شد، مدت زمان انجام پیش پردازش در حالت عادی \n",
    "\n",
    "7.478757599999881\n",
    "\n",
    "بوده است. اما با استفاده از\n",
    "\n",
    "multiprocessing\n",
    "\n",
    "این زمان به\n",
    "\n",
    "6.570000005012844e-05\n",
    "\n",
    "کاهش یافته است"
   ]
  },
  {
   "cell_type": "markdown",
   "metadata": {},
   "source": [
    "# Section 5: using dask in preprocessing\n"
   ]
  },
  {
   "cell_type": "code",
   "execution_count": 30,
   "metadata": {},
   "outputs": [],
   "source": [
    " from dask import delayed"
   ]
  },
  {
   "cell_type": "code",
   "execution_count": 31,
   "metadata": {},
   "outputs": [],
   "source": [
    "Start2 = time.perf_counter()    \n",
    "# using multiprocessing for preprocessing\n",
    "p2 = delayed(do_preprocess)\n",
    "\n",
    "Finish2 = time.perf_counter()"
   ]
  },
  {
   "cell_type": "code",
   "execution_count": 32,
   "metadata": {},
   "outputs": [
    {
     "name": "stdout",
     "output_type": "stream",
     "text": [
      "0.00018379999892204069\n"
     ]
    }
   ],
   "source": [
    "print(Finish2-Start2)"
   ]
  },
  {
   "cell_type": "markdown",
   "metadata": {},
   "source": [
    "###### همانطور که مشخص است با استفاده از\n",
    "\n",
    "dask\n",
    "\n",
    "زمان پیش پردازش به \n",
    "\n",
    "0.00018379999892204069\n",
    "\n",
    "کاهش یافته است"
   ]
  },
  {
   "cell_type": "code",
   "execution_count": 33,
   "metadata": {},
   "outputs": [],
   "source": []
  },
  {
   "cell_type": "markdown",
   "metadata": {},
   "source": [
    "# Section 6: using dask in modeling"
   ]
  },
  {
   "cell_type": "code",
   "execution_count": 34,
   "metadata": {},
   "outputs": [
    {
     "name": "stdout",
     "output_type": "stream",
     "text": [
      "0.00023830000282032415\n"
     ]
    }
   ],
   "source": [
    "def modeling():\n",
    "    df2['regio1'] = pd.factorize(df2['regio1'])[0] \n",
    "    df2['heatingType'] = pd.factorize(df2['heatingType'])[0]\n",
    "\n",
    "    df2['newlyConst'] = pd.factorize(df2['newlyConst'])[0] \n",
    "    df2['balcony'] = pd.factorize(df2['balcony'])[0]\n",
    "\n",
    "    df2['hasKitchen'] = pd.factorize(df2['hasKitchen'])[0] \n",
    "    df2['cellar'] = pd.factorize(df2['cellar'])[0]\n",
    "\n",
    "    df2['lift'] = pd.factorize(df2['lift'])[0] \n",
    "    df2['garden'] = pd.factorize(df2['garden'])[0]\n",
    "    \n",
    "    Y = df2['serviceCharge']\n",
    "    X = df2\n",
    "    from sklearn.linear_model import LinearRegression\n",
    "    MLR = LinearRegression().fit(X, Y)\n",
    "\n",
    "    \n",
    "    \n",
    "\n",
    "    \n",
    "Start4 = time.perf_counter()    \n",
    "# using multiprocessing for modeling\n",
    "p3 = delayed(modeling)\n",
    "\n",
    "\n",
    "Finish4 = time.perf_counter()\n",
    "print(Finish4-Start4)"
   ]
  },
  {
   "cell_type": "markdown",
   "metadata": {},
   "source": [
    "###### در قسمت 3 مشاهده شد که مدلسازی در حالت عادی \n",
    "\n",
    "12.359803499999543\n",
    "\n",
    "ثانیه زمان برد. \n",
    "اما در این بخش مشاهده شد که استفاده از \n",
    "\n",
    "dask\n",
    "\n",
    "زمان اجرای مدلسازی را به\n",
    "\n",
    "0.00023830000282032415\n",
    "\n",
    "کاهش داد."
   ]
  },
  {
   "cell_type": "markdown",
   "metadata": {},
   "source": [
    "# Section 7: using feature enginearing for improve modeliing"
   ]
  },
  {
   "cell_type": "markdown",
   "metadata": {},
   "source": [
    "###### در این قسمت هدف بهبود کارایی مدل یادگیری با استفاده از مهندسی  ویژگی است. برای این منظور، ابتدا ما دقت برآورد قیمت را بدون استفاده از مهندسی ویژگی ارزیابی کردیم:"
   ]
  },
  {
   "cell_type": "code",
   "execution_count": 23,
   "metadata": {},
   "outputs": [
    {
     "name": "stderr",
     "output_type": "stream",
     "text": [
      "C:\\ProgramData\\Anaconda3\\lib\\site-packages\\ipykernel_launcher.py:2: SettingWithCopyWarning: \n",
      "A value is trying to be set on a copy of a slice from a DataFrame.\n",
      "Try using .loc[row_indexer,col_indexer] = value instead\n",
      "\n",
      "See the caveats in the documentation: https://pandas.pydata.org/pandas-docs/stable/user_guide/indexing.html#returning-a-view-versus-a-copy\n",
      "  \n",
      "C:\\ProgramData\\Anaconda3\\lib\\site-packages\\ipykernel_launcher.py:3: SettingWithCopyWarning: \n",
      "A value is trying to be set on a copy of a slice from a DataFrame.\n",
      "Try using .loc[row_indexer,col_indexer] = value instead\n",
      "\n",
      "See the caveats in the documentation: https://pandas.pydata.org/pandas-docs/stable/user_guide/indexing.html#returning-a-view-versus-a-copy\n",
      "  This is separate from the ipykernel package so we can avoid doing imports until\n",
      "C:\\ProgramData\\Anaconda3\\lib\\site-packages\\ipykernel_launcher.py:5: SettingWithCopyWarning: \n",
      "A value is trying to be set on a copy of a slice from a DataFrame.\n",
      "Try using .loc[row_indexer,col_indexer] = value instead\n",
      "\n",
      "See the caveats in the documentation: https://pandas.pydata.org/pandas-docs/stable/user_guide/indexing.html#returning-a-view-versus-a-copy\n",
      "  \"\"\"\n",
      "C:\\ProgramData\\Anaconda3\\lib\\site-packages\\ipykernel_launcher.py:6: SettingWithCopyWarning: \n",
      "A value is trying to be set on a copy of a slice from a DataFrame.\n",
      "Try using .loc[row_indexer,col_indexer] = value instead\n",
      "\n",
      "See the caveats in the documentation: https://pandas.pydata.org/pandas-docs/stable/user_guide/indexing.html#returning-a-view-versus-a-copy\n",
      "  \n",
      "C:\\ProgramData\\Anaconda3\\lib\\site-packages\\ipykernel_launcher.py:8: SettingWithCopyWarning: \n",
      "A value is trying to be set on a copy of a slice from a DataFrame.\n",
      "Try using .loc[row_indexer,col_indexer] = value instead\n",
      "\n",
      "See the caveats in the documentation: https://pandas.pydata.org/pandas-docs/stable/user_guide/indexing.html#returning-a-view-versus-a-copy\n",
      "  \n",
      "C:\\ProgramData\\Anaconda3\\lib\\site-packages\\ipykernel_launcher.py:9: SettingWithCopyWarning: \n",
      "A value is trying to be set on a copy of a slice from a DataFrame.\n",
      "Try using .loc[row_indexer,col_indexer] = value instead\n",
      "\n",
      "See the caveats in the documentation: https://pandas.pydata.org/pandas-docs/stable/user_guide/indexing.html#returning-a-view-versus-a-copy\n",
      "  if __name__ == '__main__':\n",
      "C:\\ProgramData\\Anaconda3\\lib\\site-packages\\ipykernel_launcher.py:11: SettingWithCopyWarning: \n",
      "A value is trying to be set on a copy of a slice from a DataFrame.\n",
      "Try using .loc[row_indexer,col_indexer] = value instead\n",
      "\n",
      "See the caveats in the documentation: https://pandas.pydata.org/pandas-docs/stable/user_guide/indexing.html#returning-a-view-versus-a-copy\n",
      "  # This is added back by InteractiveShellApp.init_path()\n",
      "C:\\ProgramData\\Anaconda3\\lib\\site-packages\\ipykernel_launcher.py:12: SettingWithCopyWarning: \n",
      "A value is trying to be set on a copy of a slice from a DataFrame.\n",
      "Try using .loc[row_indexer,col_indexer] = value instead\n",
      "\n",
      "See the caveats in the documentation: https://pandas.pydata.org/pandas-docs/stable/user_guide/indexing.html#returning-a-view-versus-a-copy\n",
      "  if sys.path[0] == '':\n"
     ]
    },
    {
     "name": "stdout",
     "output_type": "stream",
     "text": [
      "Mean Absolute Error: 40.38014638633405\n",
      "Mean Squared Error: 13571.857803163464\n",
      "Root Mean Squared Error: 116.49831673961415\n"
     ]
    }
   ],
   "source": [
    "# determine inputs and target\n",
    "df2['regio1'] = pd.factorize(df2['regio1'])[0] \n",
    "df2['heatingType'] = pd.factorize(df2['heatingType'])[0]\n",
    "\n",
    "df2['newlyConst'] = pd.factorize(df2['newlyConst'])[0] \n",
    "df2['balcony'] = pd.factorize(df2['balcony'])[0]\n",
    "\n",
    "df2['hasKitchen'] = pd.factorize(df2['hasKitchen'])[0] \n",
    "df2['cellar'] = pd.factorize(df2['cellar'])[0]\n",
    "\n",
    "df2['lift'] = pd.factorize(df2['lift'])[0] \n",
    "df2['garden'] = pd.factorize(df2['garden'])[0]\n",
    "\n",
    "Y = df2['serviceCharge']\n",
    "X = df2\n",
    "X = X.drop(labels=['serviceCharge'] ,axis=1)\n",
    "\n",
    "# Split data to train and test\n",
    "from sklearn.model_selection import train_test_split\n",
    "X_train, X_test, y_train, y_test = train_test_split(X, Y, test_size=0.2, random_state=0)\n",
    "\n",
    "# Train MLR model\n",
    "from sklearn.linear_model import LinearRegression\n",
    "MLR = LinearRegression().fit(X_train, y_train)\n",
    "\n",
    "\n",
    "# Test MLR model\n",
    "y_pred = LinearRegression.predict(MLR, X_test)\n",
    "\n",
    "\n",
    "# Evaluate result\n",
    "from sklearn import metrics\n",
    "print('Mean Absolute Error:', metrics.mean_absolute_error(y_test, y_pred))\n",
    "print('Mean Squared Error:', metrics.mean_squared_error(y_test, y_pred))\n",
    "print('Root Mean Squared Error:', np.sqrt(metrics.mean_squared_error(y_test, y_pred)))"
   ]
  },
  {
   "cell_type": "markdown",
   "metadata": {},
   "source": [
    "###### سپس، ابتدا روی داده ها مهندسی ویژگی انجام دادیم:\n",
    "    "
   ]
  },
  {
   "cell_type": "code",
   "execution_count": 24,
   "metadata": {},
   "outputs": [],
   "source": [
    "from sklearn.preprocessing import MinMaxScaler\n",
    "# Normalize data\n",
    "scaler = MinMaxScaler()\n",
    "X = scaler.fit_transform(X)"
   ]
  },
  {
   "cell_type": "code",
   "execution_count": 25,
   "metadata": {},
   "outputs": [],
   "source": [
    "from sklearn.feature_selection import mutual_info_regression\n",
    "mi = mutual_info_regression(X, Y)\n",
    "mi /= np.max(mi)"
   ]
  },
  {
   "cell_type": "code",
   "execution_count": 27,
   "metadata": {},
   "outputs": [
    {
     "name": "stdout",
     "output_type": "stream",
     "text": [
      "Index(['regio1', 'heatingType', 'newlyConst', 'balcony', 'picturecount',\n",
      "       'pricetrend', 'hasKitchen', 'cellar', 'baseRent', 'livingSpace', 'lift',\n",
      "       'baseRentRange', 'geo_plz', 'noRooms', 'noRoomsRange', 'garden',\n",
      "       'livingSpaceRange'],\n",
      "      dtype='object')\n",
      "[0.22229445 0.11712504 0.0366182  0.06917674 0.0931178  0.18078532\n",
      " 0.04880836 0.01774738 0.78593093 1.         0.07989061 0.5205785\n",
      " 0.59806137 0.28068083 0.26616754 0.01223732 0.54524428]\n"
     ]
    }
   ],
   "source": [
    "temp = df2.drop(labels=['serviceCharge'] ,axis=1)\n",
    "print(temp.columns)\n",
    "print(mi)"
   ]
  },
  {
   "cell_type": "markdown",
   "metadata": {},
   "source": [
    "###### و پس از بار دیگر کارایی مدل را سنجدیدیم:"
   ]
  },
  {
   "cell_type": "code",
   "execution_count": 31,
   "metadata": {},
   "outputs": [
    {
     "name": "stdout",
     "output_type": "stream",
     "text": [
      "[ 8  9 11 12 16]\n"
     ]
    }
   ],
   "source": [
    "temp = np.argwhere(mi>np.mean(mi))\n",
    "\n",
    "Select = []\n",
    "for i in range(temp.shape[0]):\n",
    "    Select.append(temp[i][0])\n",
    "    \n",
    "Select = np.array(Select)\n",
    "print(Select)"
   ]
  },
  {
   "cell_type": "code",
   "execution_count": 32,
   "metadata": {},
   "outputs": [],
   "source": [
    "X_new = X[:,Select]"
   ]
  },
  {
   "cell_type": "code",
   "execution_count": 33,
   "metadata": {},
   "outputs": [
    {
     "name": "stdout",
     "output_type": "stream",
     "text": [
      "Mean Absolute Error: 41.165404769060174\n",
      "Mean Squared Error: 13651.464677802116\n",
      "Root Mean Squared Error: 116.83948252967451\n"
     ]
    }
   ],
   "source": [
    "# Split data to train and test\n",
    "from sklearn.model_selection import train_test_split\n",
    "X_train, X_test, y_train, y_test = train_test_split(X_new, Y, test_size=0.2, random_state=0)\n",
    "\n",
    "# Train MLR model\n",
    "from sklearn.linear_model import LinearRegression\n",
    "MLR = LinearRegression().fit(X_train, y_train)\n",
    "\n",
    "\n",
    "# Test MLR model\n",
    "y_pred = LinearRegression.predict(MLR, X_test)\n",
    "\n",
    "\n",
    "# Evaluate result\n",
    "from sklearn import metrics\n",
    "print('Mean Absolute Error:', metrics.mean_absolute_error(y_test, y_pred))\n",
    "print('Mean Squared Error:', metrics.mean_squared_error(y_test, y_pred))\n",
    "print('Root Mean Squared Error:', np.sqrt(metrics.mean_squared_error(y_test, y_pred)))"
   ]
  },
  {
   "cell_type": "code",
   "execution_count": null,
   "metadata": {},
   "outputs": [],
   "source": []
  }
 ],
 "metadata": {
  "kernelspec": {
   "display_name": "Python 3 (ipykernel)",
   "language": "python",
   "name": "python3"
  },
  "language_info": {
   "codemirror_mode": {
    "name": "ipython",
    "version": 3
   },
   "file_extension": ".py",
   "mimetype": "text/x-python",
   "name": "python",
   "nbconvert_exporter": "python",
   "pygments_lexer": "ipython3",
   "version": "3.9.7"
  }
 },
 "nbformat": 4,
 "nbformat_minor": 2
}
