{
 "cells": [
  {
   "cell_type": "code",
   "execution_count": 42,
   "id": "e8d41074",
   "metadata": {},
   "outputs": [],
   "source": [
    "import pandas as pd\n",
    "import matplotlib.pyplot as plt\n",
    "import numpy as np\n",
    "from sklearn.preprocessing import OneHotEncoder\n",
    "from sklearn.preprocessing import StandardScaler\n",
    "from sklearn.model_selection import train_test_split\n",
    "from sklearn.linear_model import LinearRegression\n",
    "from sklearn.linear_model import Lasso\n",
    "from sklearn.linear_model import Ridge\n",
    "from sklearn.compose import ColumnTransformer\n",
    "from sklearn import metrics\n",
    "from sklearn.metrics import mean_squared_error\n",
    "%matplotlib inline"
   ]
  },
  {
   "cell_type": "code",
   "execution_count": 2,
   "id": "879cae24",
   "metadata": {},
   "outputs": [],
   "source": [
    "df_org = pd.read_csv('data/immo_data.csv')"
   ]
  },
  {
   "cell_type": "code",
   "execution_count": 3,
   "id": "f2d8f829",
   "metadata": {},
   "outputs": [],
   "source": [
    "df_new = df_org[['serviceCharge', 'heatingType', 'telekomUploadSpeed', 'totalRent']]"
   ]
  },
  {
   "cell_type": "code",
   "execution_count": 4,
   "id": "6fb6bf0c",
   "metadata": {},
   "outputs": [
    {
     "data": {
      "text/html": [
       "<div>\n",
       "<style scoped>\n",
       "    .dataframe tbody tr th:only-of-type {\n",
       "        vertical-align: middle;\n",
       "    }\n",
       "\n",
       "    .dataframe tbody tr th {\n",
       "        vertical-align: top;\n",
       "    }\n",
       "\n",
       "    .dataframe thead th {\n",
       "        text-align: right;\n",
       "    }\n",
       "</style>\n",
       "<table border=\"1\" class=\"dataframe\">\n",
       "  <thead>\n",
       "    <tr style=\"text-align: right;\">\n",
       "      <th></th>\n",
       "      <th>serviceCharge</th>\n",
       "      <th>heatingType</th>\n",
       "      <th>telekomUploadSpeed</th>\n",
       "      <th>totalRent</th>\n",
       "    </tr>\n",
       "  </thead>\n",
       "  <tbody>\n",
       "    <tr>\n",
       "      <th>0</th>\n",
       "      <td>245.00</td>\n",
       "      <td>central_heating</td>\n",
       "      <td>10.0</td>\n",
       "      <td>840.0</td>\n",
       "    </tr>\n",
       "    <tr>\n",
       "      <th>1</th>\n",
       "      <td>134.00</td>\n",
       "      <td>self_contained_central_heating</td>\n",
       "      <td>10.0</td>\n",
       "      <td>NaN</td>\n",
       "    </tr>\n",
       "    <tr>\n",
       "      <th>2</th>\n",
       "      <td>255.00</td>\n",
       "      <td>floor_heating</td>\n",
       "      <td>2.4</td>\n",
       "      <td>1300.0</td>\n",
       "    </tr>\n",
       "    <tr>\n",
       "      <th>3</th>\n",
       "      <td>58.15</td>\n",
       "      <td>district_heating</td>\n",
       "      <td>40.0</td>\n",
       "      <td>NaN</td>\n",
       "    </tr>\n",
       "    <tr>\n",
       "      <th>4</th>\n",
       "      <td>138.00</td>\n",
       "      <td>self_contained_central_heating</td>\n",
       "      <td>NaN</td>\n",
       "      <td>903.0</td>\n",
       "    </tr>\n",
       "  </tbody>\n",
       "</table>\n",
       "</div>"
      ],
      "text/plain": [
       "   serviceCharge                     heatingType  telekomUploadSpeed  \\\n",
       "0         245.00                 central_heating                10.0   \n",
       "1         134.00  self_contained_central_heating                10.0   \n",
       "2         255.00                   floor_heating                 2.4   \n",
       "3          58.15                district_heating                40.0   \n",
       "4         138.00  self_contained_central_heating                 NaN   \n",
       "\n",
       "   totalRent  \n",
       "0      840.0  \n",
       "1        NaN  \n",
       "2     1300.0  \n",
       "3        NaN  \n",
       "4      903.0  "
      ]
     },
     "execution_count": 4,
     "metadata": {},
     "output_type": "execute_result"
    }
   ],
   "source": [
    "df_new.head()"
   ]
  },
  {
   "cell_type": "code",
   "execution_count": 5,
   "id": "848f08da",
   "metadata": {},
   "outputs": [
    {
     "data": {
      "text/plain": [
       "(268850, 4)"
      ]
     },
     "execution_count": 5,
     "metadata": {},
     "output_type": "execute_result"
    }
   ],
   "source": [
    "df_new.shape"
   ]
  },
  {
   "cell_type": "code",
   "execution_count": 6,
   "id": "e0664fc3",
   "metadata": {
    "scrolled": true
   },
   "outputs": [
    {
     "name": "stdout",
     "output_type": "stream",
     "text": [
      "<class 'pandas.core.frame.DataFrame'>\n",
      "RangeIndex: 268850 entries, 0 to 268849\n",
      "Data columns (total 4 columns):\n",
      " #   Column              Non-Null Count   Dtype  \n",
      "---  ------              --------------   -----  \n",
      " 0   serviceCharge       261941 non-null  float64\n",
      " 1   heatingType         223994 non-null  object \n",
      " 2   telekomUploadSpeed  235492 non-null  float64\n",
      " 3   totalRent           228333 non-null  float64\n",
      "dtypes: float64(3), object(1)\n",
      "memory usage: 8.2+ MB\n"
     ]
    }
   ],
   "source": [
    "df_new.info()"
   ]
  },
  {
   "cell_type": "code",
   "execution_count": 7,
   "id": "ad18d88e",
   "metadata": {},
   "outputs": [
    {
     "data": {
      "text/plain": [
       "serviceCharge          6909\n",
       "heatingType           44856\n",
       "telekomUploadSpeed    33358\n",
       "totalRent             40517\n",
       "dtype: int64"
      ]
     },
     "execution_count": 7,
     "metadata": {},
     "output_type": "execute_result"
    }
   ],
   "source": [
    "df_new.isna().sum()"
   ]
  },
  {
   "cell_type": "code",
   "execution_count": 8,
   "id": "c52ddcdb",
   "metadata": {},
   "outputs": [
    {
     "data": {
      "image/png": "[encoded data removed]",
      "text/plain": [
       "<Figure size 432x288 with 1 Axes>"
      ]
     },
     "metadata": {
      "needs_background": "light"
     },
     "output_type": "display_data"
    }
   ],
   "source": [
    "df_new['serviceCharge'].plot()\n",
    "plt.show()"
   ]
  },
  {
   "cell_type": "code",
   "execution_count": 9,
   "id": "5f37a7ad",
   "metadata": {},
   "outputs": [
    {
     "data": {
      "text/plain": [
       "151.20611301781702"
      ]
     },
     "execution_count": 9,
     "metadata": {},
     "output_type": "execute_result"
    }
   ],
   "source": [
    "df_new['serviceCharge'].median()"
   ]
  },
  {
   "cell_type": "code",
   "execution_count": 1,
   "id": "5d436b0f",
   "metadata": {},
   "outputs": [
    {
     "ename": "NameError",
     "evalue": "name 'df_new' is not defined",
     "output_type": "error",
     "traceback": [
      "\u001b[1;31m---------------------------------------------------------------------------\u001b[0m",
      "\u001b[1;31mNameError\u001b[0m                                 Traceback (most recent call last)",
      "\u001b[1;32mC:\\Users\\ADLER_~1\\AppData\\Local\\Temp/ipykernel_7696/3984495141.py\u001b[0m in \u001b[0;36m<module>\u001b[1;34m\u001b[0m\n\u001b[1;32m----> 1\u001b[1;33m \u001b[0mdf_new\u001b[0m\u001b[1;33m[\u001b[0m\u001b[1;34m'serviceCharge'\u001b[0m\u001b[1;33m]\u001b[0m\u001b[1;33m.\u001b[0m\u001b[0mfillna\u001b[0m\u001b[1;33m(\u001b[0m\u001b[0mdf_new\u001b[0m\u001b[1;33m[\u001b[0m\u001b[1;34m'serviceCharge'\u001b[0m\u001b[1;33m]\u001b[0m\u001b[1;33m.\u001b[0m\u001b[0mmedian\u001b[0m\u001b[1;33m(\u001b[0m\u001b[1;33m)\u001b[0m\u001b[1;33m,\u001b[0m \u001b[0minplace\u001b[0m\u001b[1;33m=\u001b[0m\u001b[1;32mTrue\u001b[0m\u001b[1;33m)\u001b[0m\u001b[1;33m\u001b[0m\u001b[1;33m\u001b[0m\u001b[0m\n\u001b[0m",
      "\u001b[1;31mNameError\u001b[0m: name 'df_new' is not defined"
     ]
    }
   ],
   "source": [
    "df_new['serviceCharge'].fillna(df_new['serviceCharge'].median(), inplace=True)"
   ]
  },
  {
   "cell_type": "code",
   "execution_count": 11,
   "id": "447eac5f",
   "metadata": {},
   "outputs": [
    {
     "data": {
      "image/png": "[encoded data removed]",
      "text/plain": [
       "<Figure size 1080x360 with 1 Axes>"
      ]
     },
     "metadata": {
      "needs_background": "light"
     },
     "output_type": "display_data"
    }
   ],
   "source": [
    "plt.figure(figsize=(15,5))\n",
    "df_new['heatingType'].hist()\n",
    "plt.show()"
   ]
  },
  {
   "cell_type": "code",
   "execution_count": 12,
   "id": "3dff7bb5",
   "metadata": {},
   "outputs": [
    {
     "data": {
      "text/plain": [
       "0    central_heating\n",
       "Name: heatingType, dtype: object"
      ]
     },
     "execution_count": 12,
     "metadata": {},
     "output_type": "execute_result"
    }
   ],
   "source": [
    "df_new['heatingType'].mode()"
   ]
  },
  {
   "cell_type": "code",
   "execution_count": 2,
   "id": "dbb0da51",
   "metadata": {},
   "outputs": [
    {
     "ename": "NameError",
     "evalue": "name 'df_new' is not defined",
     "output_type": "error",
     "traceback": [
      "\u001b[1;31m---------------------------------------------------------------------------\u001b[0m",
      "\u001b[1;31mNameError\u001b[0m                                 Traceback (most recent call last)",
      "\u001b[1;32mC:\\Users\\ADLER_~1\\AppData\\Local\\Temp/ipykernel_7696/3866129728.py\u001b[0m in \u001b[0;36m<module>\u001b[1;34m\u001b[0m\n\u001b[1;32m----> 1\u001b[1;33m \u001b[0mdf_new\u001b[0m\u001b[1;33m[\u001b[0m\u001b[1;34m'heatingType'\u001b[0m\u001b[1;33m]\u001b[0m\u001b[1;33m.\u001b[0m\u001b[0mfillna\u001b[0m\u001b[1;33m(\u001b[0m\u001b[0mdf_new\u001b[0m\u001b[1;33m[\u001b[0m\u001b[1;34m'heatingType'\u001b[0m\u001b[1;33m]\u001b[0m\u001b[1;33m.\u001b[0m\u001b[0mmode\u001b[0m\u001b[1;33m(\u001b[0m\u001b[1;33m)\u001b[0m\u001b[1;33m[\u001b[0m\u001b[1;36m0\u001b[0m\u001b[1;33m]\u001b[0m\u001b[1;33m,\u001b[0m \u001b[0minplace\u001b[0m\u001b[1;33m=\u001b[0m\u001b[1;32mTrue\u001b[0m\u001b[1;33m)\u001b[0m\u001b[1;33m\u001b[0m\u001b[1;33m\u001b[0m\u001b[0m\n\u001b[0m",
      "\u001b[1;31mNameError\u001b[0m: name 'df_new' is not defined"
     ]
    }
   ],
   "source": [
    "df_new['heatingType'].fillna(df_new['heatingType'].mode()[0], inplace=True)"
   ]
  },
  {
   "cell_type": "code",
   "execution_count": 14,
   "id": "4dac2969",
   "metadata": {},
   "outputs": [
    {
     "data": {
      "image/png": "[encoded data removed]",
      "text/plain": [
       "<Figure size 432x288 with 1 Axes>"
      ]
     },
     "metadata": {
      "needs_background": "light"
     },
     "output_type": "display_data"
    }
   ],
   "source": [
    "df_new['telekomUploadSpeed'].hist()\n",
    "plt.show()"
   ]
  },
  {
   "cell_type": "code",
   "execution_count": 15,
   "id": "7a32d03d",
   "metadata": {},
   "outputs": [
    {
     "data": {
      "text/plain": [
       "40.0"
      ]
     },
     "execution_count": 15,
     "metadata": {},
     "output_type": "execute_result"
    }
   ],
   "source": [
    "df_new['telekomUploadSpeed'].median()"
   ]
  },
  {
   "cell_type": "code",
   "execution_count": 3,
   "id": "a2345acc",
   "metadata": {
    "scrolled": true
   },
   "outputs": [
    {
     "ename": "NameError",
     "evalue": "name 'df_new' is not defined",
     "output_type": "error",
     "traceback": [
      "\u001b[1;31m---------------------------------------------------------------------------\u001b[0m",
      "\u001b[1;31mNameError\u001b[0m                                 Traceback (most recent call last)",
      "\u001b[1;32mC:\\Users\\ADLER_~1\\AppData\\Local\\Temp/ipykernel_7696/4096060602.py\u001b[0m in \u001b[0;36m<module>\u001b[1;34m\u001b[0m\n\u001b[1;32m----> 1\u001b[1;33m \u001b[0mdf_new\u001b[0m\u001b[1;33m[\u001b[0m\u001b[1;34m'telekomUploadSpeed'\u001b[0m\u001b[1;33m]\u001b[0m\u001b[1;33m.\u001b[0m\u001b[0mfillna\u001b[0m\u001b[1;33m(\u001b[0m\u001b[0mdf_new\u001b[0m\u001b[1;33m[\u001b[0m\u001b[1;34m'telekomUploadSpeed'\u001b[0m\u001b[1;33m]\u001b[0m\u001b[1;33m.\u001b[0m\u001b[0mmedian\u001b[0m\u001b[1;33m(\u001b[0m\u001b[1;33m)\u001b[0m\u001b[1;33m,\u001b[0m \u001b[0minplace\u001b[0m\u001b[1;33m=\u001b[0m\u001b[1;32mTrue\u001b[0m\u001b[1;33m)\u001b[0m\u001b[1;33m\u001b[0m\u001b[1;33m\u001b[0m\u001b[0m\n\u001b[0m",
      "\u001b[1;31mNameError\u001b[0m: name 'df_new' is not defined"
     ]
    }
   ],
   "source": [
    "df_new['telekomUploadSpeed'].fillna(df_new['telekomUploadSpeed'].median(), inplace=True)"
   ]
  },
  {
   "cell_type": "code",
   "execution_count": 4,
   "id": "6553f868",
   "metadata": {},
   "outputs": [
    {
     "ename": "NameError",
     "evalue": "name 'df_new' is not defined",
     "output_type": "error",
     "traceback": [
      "\u001b[1;31m---------------------------------------------------------------------------\u001b[0m",
      "\u001b[1;31mNameError\u001b[0m                                 Traceback (most recent call last)",
      "\u001b[1;32mC:\\Users\\ADLER_~1\\AppData\\Local\\Temp/ipykernel_7696/467568540.py\u001b[0m in \u001b[0;36m<module>\u001b[1;34m\u001b[0m\n\u001b[1;32m----> 1\u001b[1;33m \u001b[0mdf_new\u001b[0m\u001b[1;33m[\u001b[0m\u001b[1;34m'totalRent'\u001b[0m\u001b[1;33m]\u001b[0m\u001b[1;33m.\u001b[0m\u001b[0mfillna\u001b[0m\u001b[1;33m(\u001b[0m\u001b[0mdf_new\u001b[0m\u001b[1;33m[\u001b[0m\u001b[1;34m'totalRent'\u001b[0m\u001b[1;33m]\u001b[0m\u001b[1;33m.\u001b[0m\u001b[0mmedian\u001b[0m\u001b[1;33m(\u001b[0m\u001b[1;33m)\u001b[0m\u001b[1;33m,\u001b[0m \u001b[0minplace\u001b[0m\u001b[1;33m=\u001b[0m\u001b[1;32mTrue\u001b[0m\u001b[1;33m)\u001b[0m\u001b[1;33m\u001b[0m\u001b[1;33m\u001b[0m\u001b[0m\n\u001b[0m",
      "\u001b[1;31mNameError\u001b[0m: name 'df_new' is not defined"
     ]
    }
   ],
   "source": [
    "df_new['totalRent'].fillna(df_new['totalRent'].median(), inplace=True)"
   ]
  },
  {
   "cell_type": "code",
   "execution_count": 18,
   "id": "a6fc28a9",
   "metadata": {},
   "outputs": [
    {
     "data": {
      "text/plain": [
       "serviceCharge         0\n",
       "heatingType           0\n",
       "telekomUploadSpeed    0\n",
       "totalRent             0\n",
       "dtype: int64"
      ]
     },
     "execution_count": 18,
     "metadata": {},
     "output_type": "execute_result"
    }
   ],
   "source": [
    "df_new.isna().sum()"
   ]
  },
  {
   "cell_type": "code",
   "execution_count": 19,
   "id": "8f6b98fb",
   "metadata": {},
   "outputs": [
    {
     "data": {
      "text/plain": [
       "serviceCharge         197151.674512\n",
       "telekomUploadSpeed        -0.765917\n",
       "totalRent             260044.391607\n",
       "dtype: float64"
      ]
     },
     "execution_count": 19,
     "metadata": {},
     "output_type": "execute_result"
    }
   ],
   "source": [
    "# Return unbiased kurtosis over requested axis using Fisher's definition of kurtosis (kurtosis of normal == 0.0).\n",
    "# The result is normalized by N-1\n",
    "kurt = df_new.kurt(numeric_only=True)[:]\n",
    "kurt"
   ]
  },
  {
   "cell_type": "code",
   "execution_count": 20,
   "id": "1f2ef5ac",
   "metadata": {},
   "outputs": [],
   "source": [
    "outliers = ['serviceCharge', 'totalRent']"
   ]
  },
  {
   "cell_type": "code",
   "execution_count": 21,
   "id": "a44e6a4c",
   "metadata": {},
   "outputs": [],
   "source": [
    "def outliers_iqr(ys):\n",
    "    quartile_1, quartile_3 = np.percentile(ys, [25, 75])\n",
    "    iqr = quartile_3 - quartile_1\n",
    "    lower_bound = quartile_1 - (iqr * 1.5)\n",
    "    upper_bound = quartile_3 + (iqr * 1.5)\n",
    "    return np.where((ys > upper_bound) | (ys < lower_bound))"
   ]
  },
  {
   "cell_type": "code",
   "execution_count": 22,
   "id": "e013d92a",
   "metadata": {},
   "outputs": [
    {
     "name": "stdout",
     "output_type": "stream",
     "text": [
      "serviceCharge: 0\n",
      "totalRent: 0\n"
     ]
    }
   ],
   "source": [
    "for col in outliers:\n",
    "    print(f'{col}: {len(outliers_iqr(df_org[col])[0])}')"
   ]
  },
  {
   "cell_type": "code",
   "execution_count": 23,
   "id": "22ec0ff5",
   "metadata": {},
   "outputs": [],
   "source": [
    "def outliers_z_score(ys):\n",
    "    threshold = 3\n",
    "    mean_y = np.mean(ys)\n",
    "    stdev_y = np.std(ys)\n",
    "    z_scores = [(y - mean_y) / stdev_y for y in ys]\n",
    "    return np.where(np.abs(z_scores) > threshold)"
   ]
  },
  {
   "cell_type": "code",
   "execution_count": 24,
   "id": "ab611102",
   "metadata": {},
   "outputs": [
    {
     "name": "stdout",
     "output_type": "stream",
     "text": [
      "serviceCharge: 96\n",
      "totalRent: 6\n"
     ]
    }
   ],
   "source": [
    "for col in outliers:\n",
    "    print(f'{col}: {len(outliers_z_score(df_org[col])[0])}')"
   ]
  },
  {
   "cell_type": "code",
   "execution_count": 55,
   "id": "9ddf8200",
   "metadata": {},
   "outputs": [],
   "source": [
    "for i in outliers:\n",
    "    quartile_1, quartile_3 = np.percentile(df_new[i], [25, 75])\n",
    "    iqr = quartile_3 - quartile_1\n",
    "    lower_bound = quartile_1 - (iqr * 1.5)\n",
    "    upper_bound = quartile_3 + (iqr * 1.5)\n",
    "    df_new = df_new[df_new[i]<upper_bound]\n",
    "    df_new = df_new[df_new[i]>lower_bound]"
   ]
  },
  {
   "cell_type": "code",
   "execution_count": 56,
   "id": "99840fde",
   "metadata": {},
   "outputs": [],
   "source": [
    "X = df_new.drop('totalRent', axis=1)\n",
    "y = df_new['totalRent']\n",
    "y = pd.DataFrame(data=y, columns=['totalRent'])"
   ]
  },
  {
   "cell_type": "code",
   "execution_count": 57,
   "id": "aa0e7e06",
   "metadata": {},
   "outputs": [],
   "source": [
    "X_train, X_test, y_train, y_test = train_test_split(X, y, test_size=0.3, random_state=42)"
   ]
  },
  {
   "cell_type": "code",
   "execution_count": 58,
   "id": "666c16e4",
   "metadata": {},
   "outputs": [
    {
     "data": {
      "text/html": [
       "<div>\n",
       "<style scoped>\n",
       "    .dataframe tbody tr th:only-of-type {\n",
       "        vertical-align: middle;\n",
       "    }\n",
       "\n",
       "    .dataframe tbody tr th {\n",
       "        vertical-align: top;\n",
       "    }\n",
       "\n",
       "    .dataframe thead th {\n",
       "        text-align: right;\n",
       "    }\n",
       "</style>\n",
       "<table border=\"1\" class=\"dataframe\">\n",
       "  <thead>\n",
       "    <tr style=\"text-align: right;\">\n",
       "      <th></th>\n",
       "      <th>totalRent</th>\n",
       "    </tr>\n",
       "  </thead>\n",
       "  <tbody>\n",
       "    <tr>\n",
       "      <th>5277</th>\n",
       "      <td>900.00</td>\n",
       "    </tr>\n",
       "    <tr>\n",
       "      <th>143328</th>\n",
       "      <td>320.00</td>\n",
       "    </tr>\n",
       "    <tr>\n",
       "      <th>235859</th>\n",
       "      <td>1235.00</td>\n",
       "    </tr>\n",
       "    <tr>\n",
       "      <th>63245</th>\n",
       "      <td>590.00</td>\n",
       "    </tr>\n",
       "    <tr>\n",
       "      <th>198872</th>\n",
       "      <td>487.26</td>\n",
       "    </tr>\n",
       "    <tr>\n",
       "      <th>...</th>\n",
       "      <td>...</td>\n",
       "    </tr>\n",
       "    <tr>\n",
       "      <th>133116</th>\n",
       "      <td>418.90</td>\n",
       "    </tr>\n",
       "    <tr>\n",
       "      <th>115164</th>\n",
       "      <td>1331.07</td>\n",
       "    </tr>\n",
       "    <tr>\n",
       "      <th>146442</th>\n",
       "      <td>440.00</td>\n",
       "    </tr>\n",
       "    <tr>\n",
       "      <th>163084</th>\n",
       "      <td>388.01</td>\n",
       "    </tr>\n",
       "    <tr>\n",
       "      <th>135405</th>\n",
       "      <td>730.00</td>\n",
       "    </tr>\n",
       "  </tbody>\n",
       "</table>\n",
       "<p>169239 rows × 1 columns</p>\n",
       "</div>"
      ],
      "text/plain": [
       "        totalRent\n",
       "5277       900.00\n",
       "143328     320.00\n",
       "235859    1235.00\n",
       "63245      590.00\n",
       "198872     487.26\n",
       "...           ...\n",
       "133116     418.90\n",
       "115164    1331.07\n",
       "146442     440.00\n",
       "163084     388.01\n",
       "135405     730.00\n",
       "\n",
       "[169239 rows x 1 columns]"
      ]
     },
     "execution_count": 58,
     "metadata": {},
     "output_type": "execute_result"
    }
   ],
   "source": [
    "y_train"
   ]
  },
  {
   "cell_type": "code",
   "execution_count": 59,
   "id": "c551d1cf",
   "metadata": {},
   "outputs": [],
   "source": [
    "ohe = OneHotEncoder(handle_unknown='ignore', sparse=False)\n",
    "ss = StandardScaler()"
   ]
  },
  {
   "cell_type": "code",
   "execution_count": 60,
   "id": "5a471525",
   "metadata": {},
   "outputs": [],
   "source": [
    "preprocessor_x = ColumnTransformer(\n",
    "    transformers=[\n",
    "            ('serviceCharge', ss, ['serviceCharge']),\n",
    "            ('telekomUploadSpeed', ss, ['telekomUploadSpeed']),\n",
    "            ('heatingType', ohe, ['heatingType']),       \n",
    "])\n",
    "preprocessor_y = ColumnTransformer(\n",
    "    transformers=[\n",
    "            ('totalRent', ss, ['totalRent']),       \n",
    "])"
   ]
  },
  {
   "cell_type": "code",
   "execution_count": 61,
   "id": "0588d01f",
   "metadata": {},
   "outputs": [],
   "source": [
    "fitter_y = preprocessor_y.fit(y_train)\n",
    "fitter_x = preprocessor_x.fit(X_train)"
   ]
  },
  {
   "cell_type": "code",
   "execution_count": 62,
   "id": "52e769d1",
   "metadata": {},
   "outputs": [],
   "source": [
    "y_train = fitter_y.transform(y_train)\n",
    "y_test = fitter_y.transform(y_test)\n",
    "X_train = fitter_x.transform(X_train)\n",
    "X_test = fitter_x.transform(X_test)"
   ]
  },
  {
   "cell_type": "code",
   "execution_count": 63,
   "id": "1dcffdd9",
   "metadata": {},
   "outputs": [],
   "source": [
    "m, n = y_train.shape\n",
    "x, z = y_test.shape\n",
    "y_train = y_train.reshape(m, )\n",
    "y_test = y_test.reshape(x, )"
   ]
  },
  {
   "cell_type": "code",
   "execution_count": 166,
   "id": "f73069ae",
   "metadata": {},
   "outputs": [],
   "source": [
    "# Linear reggression\n",
    "class Reggression() :   \n",
    "    def __init__( self, learning_rate=0.01 , iterations=1000 , method='mse') :\n",
    "        self.learning_rate = learning_rate\n",
    "        self.iterations = iterations \n",
    "        self.method = method\n",
    "\n",
    "    \n",
    "    # Function for model training        \n",
    "    def fit( self, X, Y ) : \n",
    "        # no_of_training_examples, no_of_features\n",
    "        self.m, self.n = X.shape \n",
    "        # weight initialization \n",
    "        self.W = np.random.normal(loc=0.0, scale=0.001, size=self.n)\n",
    "        self.b = 0 \n",
    "        self.X = X\n",
    "        self.Y = Y \n",
    "        # gradient descent learning         \n",
    "        for i in range( self.iterations ) :\n",
    "            self.update_weights(X, Y)  \n",
    "        return self\n",
    "    \n",
    "    \n",
    "    # Helper function to update weights in gradient descent \n",
    "    def update_weights( self, X, Y ) :\n",
    "        Y_pred = self.predict( X )\n",
    "        # calculate gradients\n",
    "        \n",
    "        # Linear reggression with minimum square error\n",
    "        if self.method == 'mse':\n",
    "            error = (Y - Y_pred)\n",
    "            dW = - ( 2 * ( X.T ).dot( error )  ) / self.m\n",
    "            db = - 2 * np.sum( error ) / self.m\n",
    "    \n",
    "            \n",
    "        # Linear reggression with minimum absolute error\n",
    "        elif self.method == 'ae':\n",
    "            error = abs(Y - Y_pred)\n",
    "            error = np.where(error == 0, 0.01, error)\n",
    "            dW = -(np.sum( X.T, axis=1)/ self.m)\n",
    "            db = -np.sum(error) / self.m\n",
    "            \n",
    "        \n",
    "        self.W = self.W - self.learning_rate * dW\n",
    "        self.b = self.b - self.learning_rate * db \n",
    "        return self\n",
    "    \n",
    "    # Hypothetical function  h( x )  \n",
    "    def predict( self, X ) :\n",
    "        return (X.dot( self.W ) + self.b)"
   ]
  },
  {
   "cell_type": "markdown",
   "id": "eed558c6",
   "metadata": {},
   "source": [
    "# Linear Reggression with mse"
   ]
  },
  {
   "cell_type": "code",
   "execution_count": 145,
   "id": "89e1fd7a",
   "metadata": {},
   "outputs": [],
   "source": [
    "model_mse = Reggression(method='mse')"
   ]
  },
  {
   "cell_type": "code",
   "execution_count": 146,
   "id": "26412ed3",
   "metadata": {},
   "outputs": [
    {
     "data": {
      "text/plain": [
       "<__main__.Reggression at 0x1531e110160>"
      ]
     },
     "execution_count": 146,
     "metadata": {},
     "output_type": "execute_result"
    }
   ],
   "source": [
    "model_mse.fit(X_train, y_train)"
   ]
  },
  {
   "cell_type": "code",
   "execution_count": 147,
   "id": "9f8275aa",
   "metadata": {},
   "outputs": [
    {
     "name": "stdout",
     "output_type": "stream",
     "text": [
      "linear reggression from scrach (MSE) R^2: test 0.31262298609691663\n"
     ]
    }
   ],
   "source": [
    "y_pre_test_mse = model_mse.predict(X_test)\n",
    "print('linear reggression from scrach (MSE) R^2: test', metrics.r2_score(y_test, y_pre_test_mse))"
   ]
  },
  {
   "cell_type": "code",
   "execution_count": 148,
   "id": "9168666c",
   "metadata": {},
   "outputs": [
    {
     "data": {
      "text/plain": [
       "0.6959046449986664"
      ]
     },
     "execution_count": 148,
     "metadata": {},
     "output_type": "execute_result"
    }
   ],
   "source": [
    "mse = mean_squared_error(y_test, y_pre_test_mse)\n",
    "mse"
   ]
  },
  {
   "cell_type": "markdown",
   "id": "27836622",
   "metadata": {},
   "source": [
    "# Scratch vs Sklearn"
   ]
  },
  {
   "cell_type": "code",
   "execution_count": 149,
   "id": "c9c9ceff",
   "metadata": {},
   "outputs": [],
   "source": [
    "model_lr = LinearRegression()"
   ]
  },
  {
   "cell_type": "code",
   "execution_count": 150,
   "id": "4b3f4598",
   "metadata": {},
   "outputs": [
    {
     "data": {
      "text/plain": [
       "LinearRegression()"
      ]
     },
     "execution_count": 150,
     "metadata": {},
     "output_type": "execute_result"
    }
   ],
   "source": [
    "model_lr.fit(X_train, y_train)"
   ]
  },
  {
   "cell_type": "code",
   "execution_count": 151,
   "id": "0bca803f",
   "metadata": {},
   "outputs": [],
   "source": [
    "y_pred_test = model_lr.predict(X_test)"
   ]
  },
  {
   "cell_type": "code",
   "execution_count": 152,
   "id": "13a2d9b3",
   "metadata": {},
   "outputs": [
    {
     "data": {
      "text/plain": [
       "0.6906342979408073"
      ]
     },
     "execution_count": 152,
     "metadata": {},
     "output_type": "execute_result"
    }
   ],
   "source": [
    "mse_lr = mean_squared_error(y_test, y_pred_test)\n",
    "mse_lr"
   ]
  },
  {
   "cell_type": "code",
   "execution_count": 153,
   "id": "5df680c3",
   "metadata": {},
   "outputs": [
    {
     "name": "stdout",
     "output_type": "stream",
     "text": [
      "linear reggression score train: 0.3163613124953878\n",
      "linear reggression R^2: test 0.3178287502039676\n"
     ]
    }
   ],
   "source": [
    "print('linear reggression score train:', model_lr.score(X_train, y_train))\n",
    "print('linear reggression R^2: test', metrics.r2_score(y_test, y_pred_test))"
   ]
  },
  {
   "cell_type": "markdown",
   "id": "73ce3713",
   "metadata": {},
   "source": [
    "# Ridge"
   ]
  },
  {
   "cell_type": "code",
   "execution_count": 154,
   "id": "f6b4c9ea",
   "metadata": {},
   "outputs": [],
   "source": [
    "model_ridge = Ridge(alpha=1)"
   ]
  },
  {
   "cell_type": "code",
   "execution_count": 155,
   "id": "87ae7119",
   "metadata": {},
   "outputs": [
    {
     "data": {
      "text/plain": [
       "Ridge(alpha=1)"
      ]
     },
     "execution_count": 155,
     "metadata": {},
     "output_type": "execute_result"
    }
   ],
   "source": [
    "model_ridge.fit(X_train, y_train)"
   ]
  },
  {
   "cell_type": "code",
   "execution_count": 156,
   "id": "356db5ed",
   "metadata": {},
   "outputs": [],
   "source": [
    "y_pred_test_ridge = model_ridge.predict(X_test)"
   ]
  },
  {
   "cell_type": "code",
   "execution_count": 157,
   "id": "b659b6d1",
   "metadata": {},
   "outputs": [
    {
     "name": "stdout",
     "output_type": "stream",
     "text": [
      "ridge reggression score train: 0.31636591645465806\n",
      "ridge reggression R^2: test 0.3178220151104242\n"
     ]
    }
   ],
   "source": [
    "print('ridge reggression score train:', model_ridge.score(X_train, y_train))\n",
    "print('ridge reggression R^2: test', metrics.r2_score(y_test, y_pred_test_ridge))"
   ]
  },
  {
   "cell_type": "markdown",
   "id": "ff0ebd06",
   "metadata": {},
   "source": [
    "# Lasso"
   ]
  },
  {
   "cell_type": "code",
   "execution_count": 158,
   "id": "75cb72a3",
   "metadata": {},
   "outputs": [],
   "source": [
    "model_lasso = Lasso(alpha=0.1)"
   ]
  },
  {
   "cell_type": "code",
   "execution_count": 159,
   "id": "c5015492",
   "metadata": {},
   "outputs": [
    {
     "data": {
      "text/plain": [
       "Lasso(alpha=0.1)"
      ]
     },
     "execution_count": 159,
     "metadata": {},
     "output_type": "execute_result"
    }
   ],
   "source": [
    "model_lasso.fit(X_train, y_train)"
   ]
  },
  {
   "cell_type": "code",
   "execution_count": 160,
   "id": "5fc7df3a",
   "metadata": {},
   "outputs": [],
   "source": [
    "y_pred_test_lasso = model_lasso.predict(X_test)"
   ]
  },
  {
   "cell_type": "code",
   "execution_count": 161,
   "id": "ecf918d4",
   "metadata": {
    "scrolled": true
   },
   "outputs": [
    {
     "name": "stdout",
     "output_type": "stream",
     "text": [
      "lasso reggression score train: 0.26767139069296775\n",
      "lasso reggression R^2: test 0.27167470403297456\n"
     ]
    }
   ],
   "source": [
    "print('lasso reggression score train:', model_lasso.score(X_train, y_train))\n",
    "print('lasso reggression R^2: test', metrics.r2_score(y_test, y_pred_test_lasso))"
   ]
  },
  {
   "cell_type": "markdown",
   "id": "5e13156b",
   "metadata": {},
   "source": [
    "# Absolute Error"
   ]
  },
  {
   "cell_type": "code",
   "execution_count": 167,
   "id": "64ddff46",
   "metadata": {},
   "outputs": [],
   "source": [
    "model_ae = Reggression(method='ae')"
   ]
  },
  {
   "cell_type": "code",
   "execution_count": 169,
   "id": "a8c15933",
   "metadata": {
    "scrolled": true
   },
   "outputs": [
    {
     "data": {
      "text/plain": [
       "<__main__.Reggression at 0x1531e1109d0>"
      ]
     },
     "execution_count": 169,
     "metadata": {},
     "output_type": "execute_result"
    }
   ],
   "source": [
    "model_ae.fit(X_train, y_train)"
   ]
  },
  {
   "cell_type": "code",
   "execution_count": 170,
   "id": "4812a84b",
   "metadata": {},
   "outputs": [
    {
     "name": "stdout",
     "output_type": "stream",
     "text": [
      "linear reggression from scrach (ae) R^2: test -251903214.89325467\n"
     ]
    }
   ],
   "source": [
    "y_pre_test_ae = model_ae.predict(X_test)\n",
    "y_pre_test_ae = y_pre_test_ae\n",
    "print('linear reggression from scrach (ae) R^2: test', metrics.r2_score(y_test, y_pre_test_ae))"
   ]
  },
  {
   "cell_type": "code",
   "execution_count": null,
   "id": "43aea05f",
   "metadata": {},
   "outputs": [],
   "source": []
  }
 ],
 "metadata": {
  "kernelspec": {
   "display_name": "Python 3 (ipykernel)",
   "language": "python",
   "name": "python3"
  },
  "language_info": {
   "codemirror_mode": {
    "name": "ipython",
    "version": 3
   },
   "file_extension": ".py",
   "mimetype": "text/x-python",
   "name": "python",
   "nbconvert_exporter": "python",
   "pygments_lexer": "ipython3",
   "version": "3.9.7"
  },
  "toc": {
   "base_numbering": 1,
   "nav_menu": {},
   "number_sections": true,
   "sideBar": true,
   "skip_h1_title": false,
   "title_cell": "Table of Contents",
   "title_sidebar": "Contents",
   "toc_cell": false,
   "toc_position": {},
   "toc_section_display": true,
   "toc_window_display": false
  }
 },
 "nbformat": 4,
 "nbformat_minor": 5
}
