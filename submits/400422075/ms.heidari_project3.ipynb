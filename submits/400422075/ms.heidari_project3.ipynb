{
 "cells": [
  {
   "cell_type": "markdown",
   "id": "e8d59107",
   "metadata": {},
   "source": [
    "#### Importing required libraries"
   ]
  },
  {
   "cell_type": "code",
   "execution_count": 147,
   "id": "960dcc8a",
   "metadata": {},
   "outputs": [],
   "source": [
    "import numpy as np # Numerical Python\n",
    "import pandas as pd # Data analysis and manipulation tool \n",
    "import matplotlib.pyplot as plt # Visualization\n",
    "import seaborn as sns\n",
    "\n",
    "# preprocess data\n",
    "from sklearn.preprocessing import OneHotEncoder\n",
    "from sklearn.compose import ColumnTransformer\n",
    "\n",
    "# feature selection\n",
    "from sklearn.decomposition import PCA\n",
    "\n",
    "# model evaluation\n",
    "from sklearn.metrics import auc, roc_curve, f1_score, recall_score, precision_score, classification_report, confusion_matrix\n",
    "from sklearn.model_selection import train_test_split, GridSearchCV\n",
    "\n",
    "# machine learning models\n",
    "from sklearn.linear_model import LogisticRegression # classification model\n",
    "import statsmodels.api as sm"
   ]
  },
  {
   "cell_type": "markdown",
   "id": "adc7d806",
   "metadata": {},
   "source": [
    "## Question 1\n",
    "\n",
    "- Forward selection implementation \n",
    "- AUC evaluation for new feature selection\n",
    "- binary classification (expensive phone, cheap phone)"
   ]
  },
  {
   "cell_type": "markdown",
   "id": "43600977",
   "metadata": {},
   "source": [
    "- **True positive rate:** این متریک با استفاده از مثبت واقعی و منفی کاذب طبق فرمول زیر محاسبه می شود."
   ]
  },
  {
   "cell_type": "markdown",
   "id": "c106ce7d",
   "metadata": {},
   "source": [
    "<img src=\"images/tpr.png\" width=\"200\"/>"
   ]
  },
  {
   "cell_type": "markdown",
   "id": "a8913ab0",
   "metadata": {},
   "source": [
    "- **False positive rate:** این متریک با استفاده از مثبت کاذب و منفی واقعی طبق فرمول زیر محاسبه می شود."
   ]
  },
  {
   "cell_type": "markdown",
   "id": "eceab5e7",
   "metadata": {},
   "source": [
    "<img src=\"images/fpr.png\" width=\"200\"/>"
   ]
  },
  {
   "cell_type": "code",
   "execution_count": 21,
   "id": "3f4b53b2",
   "metadata": {},
   "outputs": [],
   "source": [
    "def true_false_positive(threshold_vector, y_test):\n",
    "    true_positive = np.equal(threshold_vector, 1) & np.equal(y_test, 1)\n",
    "    true_negative = np.equal(threshold_vector, 0) & np.equal(y_test, 0)\n",
    "    false_positive = np.equal(threshold_vector, 1) & np.equal(y_test, 0)\n",
    "    false_negative = np.equal(threshold_vector, 0) & np.equal(y_test, 1)\n",
    "\n",
    "    tpr = true_positive.sum() / (true_positive.sum() + false_negative.sum())\n",
    "    fpr = false_positive.sum() / (false_positive.sum() + true_negative.sum())\n",
    "\n",
    "    return tpr, fpr"
   ]
  },
  {
   "cell_type": "markdown",
   "id": "a8797c50",
   "metadata": {},
   "source": [
    "### ROC Curve From Scratch\n",
    "\n",
    "- An ROC curve (receiver operating characteristic curve) is a graph showing the performance of a classification model at all classification thresholds. This curve plots two parameters:\n",
    "    - True Positive Rate\n",
    "    - False Positive Rate\n",
    "\n",
    "\n",
    "- An ROC curve plots TPR vs. FPR at different classification thresholds. Lowering the classification threshold classifies more items as positive, thus increasing both False Positives and True Positives. The following figure shows a typical ROC curve.\n",
    "\n",
    "<img src=\"images/ROCCurve.svg\" width=\"350\"/>\n",
    "<center><strong>Figure 3. TP vs. FP rate at different classification thresholds.<strong\\><center/>"
   ]
  },
  {
   "cell_type": "markdown",
   "id": "6436fcfc",
   "metadata": {},
   "source": [
    "- To compute the points in an ROC curve, we could evaluate a logistic regression model many times with different classification thresholds, but this would be inefficient. Fortunately, there's an efficient, sorting-based algorithm that can provide this information for us, called AUC."
   ]
  },
  {
   "cell_type": "code",
   "execution_count": 22,
   "id": "2e6e0c43",
   "metadata": {},
   "outputs": [],
   "source": [
    "def roc_from_scratch(probabilities, y_test, partitions=100):\n",
    "    roc = np.array([])\n",
    "    for i in range(partitions + 1):\n",
    "        \n",
    "        threshold_vector = np.greater_equal(probabilities, i / partitions).astype(int)\n",
    "        tpr, fpr = true_false_positive(threshold_vector, y_test)\n",
    "        roc = np.append(roc, [fpr, tpr])\n",
    "        \n",
    "    return roc.reshape(-1, 2)"
   ]
  },
  {
   "cell_type": "code",
   "execution_count": 23,
   "id": "7083ed28",
   "metadata": {},
   "outputs": [],
   "source": [
    "def roc_curve_visualization(prob_vector, y_test, partitions):\n",
    "    sns.set()\n",
    "    plt.figure(figsize=(15,7))\n",
    "\n",
    "    ROC = roc_from_scratch(prob_vector, y_test, partitions=partitions)\n",
    "\n",
    "    plt.scatter(ROC[:,0], ROC[:,1], color='#0F9D58',s=100)\n",
    "    plt.title('ROC Curve', fontsize=20)\n",
    "    plt.xlabel('False Positive Rate', fontsize=16)\n",
    "    plt.ylabel('True Positive Rate', fontsize=16)"
   ]
  },
  {
   "cell_type": "code",
   "execution_count": 24,
   "id": "800ce4ee",
   "metadata": {},
   "outputs": [],
   "source": [
    "def roc_curve_animated(prob_vector, y_test):\n",
    "    from celluloid import Camera\n",
    "    \n",
    "    camera = Camera(plt.figure(figsize=(17,9)))\n",
    "    for i in range(30):\n",
    "        ROC = roc_from_scratch(prob_vector, y_test,partitions=(i+1)*5)\n",
    "        \n",
    "        plt.scatter(ROC[:,0], ROC[:,1], color='#0F9D58',s=100)\n",
    "        plt.title('ROC Curve', fontsize=20)\n",
    "        plt.xlabel('False Positive Rate', fontsize=16)\n",
    "        plt.ylabel('True Positive Rate', fontsize=16)\n",
    "\n",
    "        camera.snap()\n",
    "\n",
    "#     anim = camera.animate(blit=True,interval=300)\n",
    "#     anim.save('scatter.gif')"
   ]
  },
  {
   "cell_type": "markdown",
   "id": "aa9d439d",
   "metadata": {},
   "source": [
    "### AUC From Scratch\n",
    "\n",
    "- The area under the curve in the ROC graph is the primary metric to determine if the classifier is doing well. The higher the value, the higher the model performance. This metric’s maximum theoric value is 1, but it’s usually a little less than that.\n",
    "\n",
    "- The AUC can be calculated for functions using the integral of the function between 0 and 1.\n",
    "\n",
    "- But in this case, it’s not that simple to create a function. Nonetheless, a good approximation is to calculate the area, separating it into smaller pieces (rectangles and triangles)."
   ]
  },
  {
   "cell_type": "markdown",
   "id": "96cc61a7",
   "metadata": {},
   "source": [
    "#### AUC: Area Under the ROC Curve\n",
    "- AUC stands for \"Area under the ROC Curve.\" That is, AUC measures the entire two-dimensional area underneath the entire ROC curve (think integral calculus) from (0,0) to (1,1).\n",
    "\n",
    "<img src=\"images/AUC.svg\" width=\"350\"/>\n",
    "<center><strong>Figure 4. AUC (Area under the ROC Curve).<strong\\><center/>"
   ]
  },
  {
   "cell_type": "markdown",
   "id": "aeff391e",
   "metadata": {},
   "source": [
    "- AUC provides an aggregate measure of performance across all possible classification thresholds. One way of interpreting AUC is as the probability that the model ranks a random positive example more highly than a random negative example. For example, given the following examples, which are arranged from left to right in ascending order of logistic regression predictions:\n",
    "<img src=\"images/AUCPredictionsRanked.svg\" width=\"750\"/>\n",
    "<center><strong>Figure 5. Predictions ranked in ascending order of logistic regression score.<strong\\><center/>"
   ]
  },
  {
   "cell_type": "markdown",
   "id": "9e696ed7",
   "metadata": {},
   "source": [
    "- AUC represents the probability that a random positive (green) example is positioned to the right of a random negative (red) example.\n",
    "\n",
    "- AUC ranges in value from 0 to 1. A model whose predictions are 100% wrong has an AUC of 0.0; one whose predictions are 100% correct has an AUC of 1.0.\n",
    "\n",
    "- AUC is desirable for the following two reasons:\n",
    "\n",
    "     - AUC is scale-invariant. It measures how well predictions are ranked, rather than their absolute values.\n",
    "     - AUC is classification-threshold-invariant. It measures the quality of the model's predictions irrespective of what classification threshold is chosen.\n",
    "\n",
    "- However, both these reasons come with caveats, which may limit the usefulness of AUC in certain use cases:\n",
    "\n",
    "    - Scale invariance is not always desirable. For example, sometimes we really do need well calibrated probability outputs, and AUC won’t tell us about that.\n",
    "\n",
    "    - Classification-threshold invariance is not always desirable. In cases where there are wide disparities in the cost of false negatives vs. false positives, it may be critical to minimize one type of classification error. For example, when doing email spam detection, you likely want to prioritize minimizing false positives (even if that results in a significant increase of false negatives). AUC isn't a useful metric for this type of optimization.\n"
   ]
  },
  {
   "cell_type": "code",
   "execution_count": 25,
   "id": "6abfdf49",
   "metadata": {},
   "outputs": [],
   "source": [
    "def auc_from_scratch(y_test, prob_vector, partitions):\n",
    "    partitions = 100\n",
    "    \n",
    "    ROC = roc_from_scratch(prob_vector, y_test, partitions=partitions)\n",
    "    fpr, tpr = ROC[:, 0], ROC[:, 1]\n",
    "    \n",
    "    rectangle_roc = 0\n",
    "    for k in range(partitions):\n",
    "            rectangle_roc = rectangle_roc + (fpr[k]- fpr[k + 1]) * tpr[k]\n",
    "    rectangle_roc\n",
    "    \n",
    "    return rectangle_roc"
   ]
  },
  {
   "cell_type": "markdown",
   "id": "a045677f",
   "metadata": {},
   "source": [
    "### **There are three types of feature selection techniques :**\n",
    "\n",
    "  1. Filter methods\n",
    "  2. Wrapper methods\n",
    "  3. Embedded methods\n"
   ]
  },
  {
   "cell_type": "markdown",
   "id": "b3e76f00",
   "metadata": {},
   "source": [
    "### Difference between Filter, Wrapper, and Embedded Methods for Feature Selection"
   ]
  },
  {
   "cell_type": "markdown",
   "id": "3c2b896e",
   "metadata": {},
   "source": [
    "<img src=\"images/feature_selection_compare_different_methods.png\">"
   ]
  },
  {
   "cell_type": "markdown",
   "id": "9509cc5b",
   "metadata": {},
   "source": [
    "#### Note:\n",
    "- In our case, we utilize `Wrapper method`"
   ]
  },
  {
   "cell_type": "code",
   "execution_count": 26,
   "id": "4f8e0f87",
   "metadata": {},
   "outputs": [],
   "source": [
    "def forward_selection_with_auc(x, y, test_size=0.2):\n",
    "    x_train, x_test, y_train, y_test = train_test_split(x, y, test_size=test_size, random_state=79)\n",
    "    initial_features = x.columns.tolist()\n",
    "    best_features = []\n",
    "\n",
    "    while len(initial_features)>0:\n",
    "        print(\"ok\")\n",
    "        auc_value = {}\n",
    "        remaining_features = list(set(initial_features) - set(best_features))\n",
    "        new_x_train = x_train[remaining_features]\n",
    "        new_x_test = x_test[remaining_features]\n",
    "        \n",
    "        if len(best_features) == 0:\n",
    "            for new_column in remaining_features:\n",
    "                model = LogisticRegression().fit(new_x_train[new_column].to_numpy().reshape(-1, 1), y_train)\n",
    "                y_predict = model.predict(new_x_test[new_column].to_numpy().reshape(-1, 1))\n",
    "                auc_value[new_column] = auc_from_scratch(y_test, y_predict, 100)\n",
    "        \n",
    "            max_auc_value = max(auc_value)\n",
    "            \n",
    "            print(auc_value[max_auc_value])\n",
    "    \n",
    "            best_features.append(max_auc_value)\n",
    "\n",
    "        else :\n",
    "            best_x_train = x_train[best_features]\n",
    "            best_x_test = x_test[best_features]\n",
    "        \n",
    "            for new_column in remaining_features:\n",
    "                model = LogisticRegression().fit(best_x_train.join(new_x_train[new_column]), y_train)\n",
    "                y_predict = model.predict(best_x_test.join(new_x_test[new_column]))\n",
    "                auc_value[new_column] = auc_from_scratch(y_test, y_predict, 100)\n",
    "            \n",
    "            max_auc_value = max(auc_value)\n",
    "            \n",
    "            model = LogisticRegression().fit(best_x_train, y_train)\n",
    "            y_predict = model.predict(best_x_test)\n",
    "            best_auc_value = auc_from_scratch(y_test, y_predict, 100)\n",
    "            \n",
    "            print(auc_value[max_auc_value])\n",
    "            print(best_auc_value)\n",
    "            best_features.append(max_auc_value)\n",
    "            if(best_auc_value<auc_value[max_auc_value]):\n",
    "                best_features.append(max_auc_value)\n",
    "            else:\n",
    "                break\n",
    "\n",
    "    return best_features"
   ]
  },
  {
   "cell_type": "code",
   "execution_count": 27,
   "id": "48208d46",
   "metadata": {},
   "outputs": [],
   "source": [
    "def forward_selection_with_auc2(x, y, test_size=0.2):\n",
    "    x_train, x_test, y_train, y_test = train_test_split(x, y, test_size=test_size, random_state=79)\n",
    "    initial_features = x.columns.tolist()\n",
    "    best_features = []\n",
    "\n",
    "    while len(initial_features)>0:\n",
    "        print(\"ok\")\n",
    "        auc_value = {}\n",
    "        remaining_features = list(set(initial_features) - set(best_features))\n",
    "        new_x_train = x_train[remaining_features]\n",
    "        new_x_test = x_test[remaining_features]\n",
    "        \n",
    "        if len(best_features) == 0:\n",
    "            for new_column in remaining_features:\n",
    "                model = LogisticRegression().fit(new_x_train[new_column].to_numpy().reshape(-1, 1), y_train)\n",
    "                y_predict = model.predict(new_x_test[new_column].to_numpy().reshape(-1, 1))\n",
    "                fpr, tpr, thresholds = roc_curve(y_test, y_predict)\n",
    "                auc_value[new_column] = auc(fpr, tpr)\n",
    "        \n",
    "            max_auc_value = max(auc_value)\n",
    "            \n",
    "            print(auc_value[max_auc_value])\n",
    "    \n",
    "            best_features.append(max_auc_value)\n",
    "\n",
    "        else :\n",
    "            best_x_train = x_train[best_features]\n",
    "            best_x_test = x_test[best_features]\n",
    "        \n",
    "            for new_column in remaining_features:\n",
    "                model = LogisticRegression().fit(best_x_train.join(new_x_train[new_column]), y_train)\n",
    "                y_predict = model.predict(best_x_test.join(new_x_test[new_column]))\n",
    "                fpr, tpr, thresholds = roc_curve(y_test, y_predict)\n",
    "                auc_value[new_column] = auc(fpr, tpr)\n",
    "            \n",
    "            max_auc_value = max(auc_value)\n",
    "            \n",
    "            model = LogisticRegression().fit(best_x_train, y_train)\n",
    "            y_predict = model.predict(best_x_test)\n",
    "            best_auc_value = auc_from_scratch(y_test, y_predict, 100)\n",
    "            \n",
    "            print(auc_value[max_auc_value])\n",
    "            print(best_auc_value)\n",
    "            best_features.append(max_auc_value)\n",
    "            if(best_auc_value<auc_value[max_auc_value]):\n",
    "                best_features.append(max_auc_value)\n",
    "            else:\n",
    "                break\n",
    "\n",
    "    return best_features"
   ]
  },
  {
   "cell_type": "code",
   "execution_count": 28,
   "id": "9c7d487d",
   "metadata": {},
   "outputs": [],
   "source": [
    "def forward_selection(x, y, significance_level=0.05):\n",
    "    initial_features = x.columns.tolist()\n",
    "    best_features = []\n",
    "    while (len(initial_features)>0):\n",
    "        remaining_features = list(set(initial_features)-set(best_features))\n",
    "        new_pval = pd.Series(index=remaining_features, dtype=np.float64)\n",
    "        for new_column in remaining_features:\n",
    "            model = sm.OLS(y, sm.add_constant(x[best_features+[new_column]])).fit()\n",
    "            new_pval[new_column] = model.pvalues[new_column]\n",
    "        min_p_value = new_pval.min()\n",
    "        if(min_p_value<significance_level):\n",
    "            best_features.append(new_pval.idxmin())\n",
    "        else:\n",
    "            break\n",
    "    return best_features"
   ]
  },
  {
   "cell_type": "markdown",
   "id": "bc23018e",
   "metadata": {},
   "source": [
    "## EDA "
   ]
  },
  {
   "cell_type": "markdown",
   "id": "f4edd996",
   "metadata": {},
   "source": [
    "### Total features\n",
    "\n",
    "\n",
    "- battery_power : Total energy a battery can store in one time measured in mAh\n",
    "- blue : Has bluetooth or not\n",
    "- clock_speed : speed at which microprocessor executes instructions\n",
    "- dual_sim : Has dual sim support or not\n",
    "- fc : Front Camera mega pixels\n",
    "- four_g : Has 4G or not\n",
    "- int_memory : Internal Memory in Gigabytes\n",
    "- m_dep : Mobile Depth in cm\n",
    "- mobile_wt : Weight of mobile phone\n",
    "- n_cores : Number of cores of processor\n",
    "- pc : Primary Camera mega pixels\n",
    "- px_height : Pixel Resolution Height\n",
    "- px_width : Pixel Resolution Width\n",
    "- ram : Random Access Memory in Megabytes\n",
    "- sc_h : Screen Height of mobile in cm\n",
    "- sc_w : Screen Width of mobile in cm\n",
    "- talk_time : longest time that a single battery charge will last when you are\n",
    "- three_g : Has 3G or not\n",
    "- touch_screen : Has touch screen or not\n",
    "- wifi : Has wifi or not"
   ]
  },
  {
   "cell_type": "code",
   "execution_count": 29,
   "id": "1a57d746",
   "metadata": {},
   "outputs": [
    {
     "data": {
      "text/html": [
       "<div>\n",
       "<style scoped>\n",
       "    .dataframe tbody tr th:only-of-type {\n",
       "        vertical-align: middle;\n",
       "    }\n",
       "\n",
       "    .dataframe tbody tr th {\n",
       "        vertical-align: top;\n",
       "    }\n",
       "\n",
       "    .dataframe thead th {\n",
       "        text-align: right;\n",
       "    }\n",
       "</style>\n",
       "<table border=\"1\" class=\"dataframe\">\n",
       "  <thead>\n",
       "    <tr style=\"text-align: right;\">\n",
       "      <th></th>\n",
       "      <th>battery_power</th>\n",
       "      <th>blue</th>\n",
       "      <th>clock_speed</th>\n",
       "      <th>dual_sim</th>\n",
       "      <th>fc</th>\n",
       "      <th>four_g</th>\n",
       "      <th>int_memory</th>\n",
       "      <th>m_dep</th>\n",
       "      <th>mobile_wt</th>\n",
       "      <th>n_cores</th>\n",
       "      <th>...</th>\n",
       "      <th>px_height</th>\n",
       "      <th>px_width</th>\n",
       "      <th>ram</th>\n",
       "      <th>sc_h</th>\n",
       "      <th>sc_w</th>\n",
       "      <th>talk_time</th>\n",
       "      <th>three_g</th>\n",
       "      <th>touch_screen</th>\n",
       "      <th>wifi</th>\n",
       "      <th>price_range</th>\n",
       "    </tr>\n",
       "  </thead>\n",
       "  <tbody>\n",
       "    <tr>\n",
       "      <th>0</th>\n",
       "      <td>842</td>\n",
       "      <td>0</td>\n",
       "      <td>2.2</td>\n",
       "      <td>0</td>\n",
       "      <td>1</td>\n",
       "      <td>0</td>\n",
       "      <td>7</td>\n",
       "      <td>0.6</td>\n",
       "      <td>188</td>\n",
       "      <td>2</td>\n",
       "      <td>...</td>\n",
       "      <td>20</td>\n",
       "      <td>756</td>\n",
       "      <td>2549</td>\n",
       "      <td>9</td>\n",
       "      <td>7</td>\n",
       "      <td>19</td>\n",
       "      <td>0</td>\n",
       "      <td>0</td>\n",
       "      <td>1</td>\n",
       "      <td>1</td>\n",
       "    </tr>\n",
       "    <tr>\n",
       "      <th>1</th>\n",
       "      <td>1021</td>\n",
       "      <td>1</td>\n",
       "      <td>0.5</td>\n",
       "      <td>1</td>\n",
       "      <td>0</td>\n",
       "      <td>1</td>\n",
       "      <td>53</td>\n",
       "      <td>0.7</td>\n",
       "      <td>136</td>\n",
       "      <td>3</td>\n",
       "      <td>...</td>\n",
       "      <td>905</td>\n",
       "      <td>1988</td>\n",
       "      <td>2631</td>\n",
       "      <td>17</td>\n",
       "      <td>3</td>\n",
       "      <td>7</td>\n",
       "      <td>1</td>\n",
       "      <td>1</td>\n",
       "      <td>0</td>\n",
       "      <td>2</td>\n",
       "    </tr>\n",
       "    <tr>\n",
       "      <th>2</th>\n",
       "      <td>563</td>\n",
       "      <td>1</td>\n",
       "      <td>0.5</td>\n",
       "      <td>1</td>\n",
       "      <td>2</td>\n",
       "      <td>1</td>\n",
       "      <td>41</td>\n",
       "      <td>0.9</td>\n",
       "      <td>145</td>\n",
       "      <td>5</td>\n",
       "      <td>...</td>\n",
       "      <td>1263</td>\n",
       "      <td>1716</td>\n",
       "      <td>2603</td>\n",
       "      <td>11</td>\n",
       "      <td>2</td>\n",
       "      <td>9</td>\n",
       "      <td>1</td>\n",
       "      <td>1</td>\n",
       "      <td>0</td>\n",
       "      <td>2</td>\n",
       "    </tr>\n",
       "    <tr>\n",
       "      <th>3</th>\n",
       "      <td>615</td>\n",
       "      <td>1</td>\n",
       "      <td>2.5</td>\n",
       "      <td>0</td>\n",
       "      <td>0</td>\n",
       "      <td>0</td>\n",
       "      <td>10</td>\n",
       "      <td>0.8</td>\n",
       "      <td>131</td>\n",
       "      <td>6</td>\n",
       "      <td>...</td>\n",
       "      <td>1216</td>\n",
       "      <td>1786</td>\n",
       "      <td>2769</td>\n",
       "      <td>16</td>\n",
       "      <td>8</td>\n",
       "      <td>11</td>\n",
       "      <td>1</td>\n",
       "      <td>0</td>\n",
       "      <td>0</td>\n",
       "      <td>2</td>\n",
       "    </tr>\n",
       "    <tr>\n",
       "      <th>4</th>\n",
       "      <td>1821</td>\n",
       "      <td>1</td>\n",
       "      <td>1.2</td>\n",
       "      <td>0</td>\n",
       "      <td>13</td>\n",
       "      <td>1</td>\n",
       "      <td>44</td>\n",
       "      <td>0.6</td>\n",
       "      <td>141</td>\n",
       "      <td>2</td>\n",
       "      <td>...</td>\n",
       "      <td>1208</td>\n",
       "      <td>1212</td>\n",
       "      <td>1411</td>\n",
       "      <td>8</td>\n",
       "      <td>2</td>\n",
       "      <td>15</td>\n",
       "      <td>1</td>\n",
       "      <td>1</td>\n",
       "      <td>0</td>\n",
       "      <td>1</td>\n",
       "    </tr>\n",
       "  </tbody>\n",
       "</table>\n",
       "<p>5 rows × 21 columns</p>\n",
       "</div>"
      ],
      "text/plain": [
       "   battery_power  blue  clock_speed  dual_sim  fc  four_g  int_memory  m_dep  \\\n",
       "0            842     0          2.2         0   1       0           7    0.6   \n",
       "1           1021     1          0.5         1   0       1          53    0.7   \n",
       "2            563     1          0.5         1   2       1          41    0.9   \n",
       "3            615     1          2.5         0   0       0          10    0.8   \n",
       "4           1821     1          1.2         0  13       1          44    0.6   \n",
       "\n",
       "   mobile_wt  n_cores  ...  px_height  px_width   ram  sc_h  sc_w  talk_time  \\\n",
       "0        188        2  ...         20       756  2549     9     7         19   \n",
       "1        136        3  ...        905      1988  2631    17     3          7   \n",
       "2        145        5  ...       1263      1716  2603    11     2          9   \n",
       "3        131        6  ...       1216      1786  2769    16     8         11   \n",
       "4        141        2  ...       1208      1212  1411     8     2         15   \n",
       "\n",
       "   three_g  touch_screen  wifi  price_range  \n",
       "0        0             0     1            1  \n",
       "1        1             1     0            2  \n",
       "2        1             1     0            2  \n",
       "3        1             0     0            2  \n",
       "4        1             1     0            1  \n",
       "\n",
       "[5 rows x 21 columns]"
      ]
     },
     "execution_count": 29,
     "metadata": {},
     "output_type": "execute_result"
    }
   ],
   "source": [
    "# reading data from .csv file\n",
    "df = pd.read_csv(\"dataset/train.csv\")\n",
    "df.head()"
   ]
  },
  {
   "cell_type": "code",
   "execution_count": 30,
   "id": "52dd56f1",
   "metadata": {},
   "outputs": [
    {
     "name": "stdout",
     "output_type": "stream",
     "text": [
      "<class 'pandas.core.frame.DataFrame'>\n",
      "RangeIndex: 2000 entries, 0 to 1999\n",
      "Data columns (total 21 columns):\n",
      " #   Column         Non-Null Count  Dtype  \n",
      "---  ------         --------------  -----  \n",
      " 0   battery_power  2000 non-null   int64  \n",
      " 1   blue           2000 non-null   int64  \n",
      " 2   clock_speed    2000 non-null   float64\n",
      " 3   dual_sim       2000 non-null   int64  \n",
      " 4   fc             2000 non-null   int64  \n",
      " 5   four_g         2000 non-null   int64  \n",
      " 6   int_memory     2000 non-null   int64  \n",
      " 7   m_dep          2000 non-null   float64\n",
      " 8   mobile_wt      2000 non-null   int64  \n",
      " 9   n_cores        2000 non-null   int64  \n",
      " 10  pc             2000 non-null   int64  \n",
      " 11  px_height      2000 non-null   int64  \n",
      " 12  px_width       2000 non-null   int64  \n",
      " 13  ram            2000 non-null   int64  \n",
      " 14  sc_h           2000 non-null   int64  \n",
      " 15  sc_w           2000 non-null   int64  \n",
      " 16  talk_time      2000 non-null   int64  \n",
      " 17  three_g        2000 non-null   int64  \n",
      " 18  touch_screen   2000 non-null   int64  \n",
      " 19  wifi           2000 non-null   int64  \n",
      " 20  price_range    2000 non-null   int64  \n",
      "dtypes: float64(2), int64(19)\n",
      "memory usage: 328.2 KB\n"
     ]
    }
   ],
   "source": [
    "df.info()"
   ]
  },
  {
   "cell_type": "code",
   "execution_count": 31,
   "id": "3ae99ea9",
   "metadata": {},
   "outputs": [
    {
     "data": {
      "text/html": [
       "<div>\n",
       "<style scoped>\n",
       "    .dataframe tbody tr th:only-of-type {\n",
       "        vertical-align: middle;\n",
       "    }\n",
       "\n",
       "    .dataframe tbody tr th {\n",
       "        vertical-align: top;\n",
       "    }\n",
       "\n",
       "    .dataframe thead th {\n",
       "        text-align: right;\n",
       "    }\n",
       "</style>\n",
       "<table border=\"1\" class=\"dataframe\">\n",
       "  <thead>\n",
       "    <tr style=\"text-align: right;\">\n",
       "      <th></th>\n",
       "      <th>battery_power</th>\n",
       "      <th>blue</th>\n",
       "      <th>clock_speed</th>\n",
       "      <th>dual_sim</th>\n",
       "      <th>fc</th>\n",
       "      <th>four_g</th>\n",
       "      <th>int_memory</th>\n",
       "      <th>m_dep</th>\n",
       "      <th>mobile_wt</th>\n",
       "      <th>n_cores</th>\n",
       "      <th>...</th>\n",
       "      <th>px_height</th>\n",
       "      <th>px_width</th>\n",
       "      <th>ram</th>\n",
       "      <th>sc_h</th>\n",
       "      <th>sc_w</th>\n",
       "      <th>talk_time</th>\n",
       "      <th>three_g</th>\n",
       "      <th>touch_screen</th>\n",
       "      <th>wifi</th>\n",
       "      <th>price_range</th>\n",
       "    </tr>\n",
       "  </thead>\n",
       "  <tbody>\n",
       "    <tr>\n",
       "      <th>count</th>\n",
       "      <td>2000.000000</td>\n",
       "      <td>2000.0000</td>\n",
       "      <td>2000.000000</td>\n",
       "      <td>2000.000000</td>\n",
       "      <td>2000.000000</td>\n",
       "      <td>2000.000000</td>\n",
       "      <td>2000.000000</td>\n",
       "      <td>2000.000000</td>\n",
       "      <td>2000.000000</td>\n",
       "      <td>2000.000000</td>\n",
       "      <td>...</td>\n",
       "      <td>2000.000000</td>\n",
       "      <td>2000.000000</td>\n",
       "      <td>2000.000000</td>\n",
       "      <td>2000.000000</td>\n",
       "      <td>2000.000000</td>\n",
       "      <td>2000.000000</td>\n",
       "      <td>2000.000000</td>\n",
       "      <td>2000.000000</td>\n",
       "      <td>2000.000000</td>\n",
       "      <td>2000.000000</td>\n",
       "    </tr>\n",
       "    <tr>\n",
       "      <th>mean</th>\n",
       "      <td>1238.518500</td>\n",
       "      <td>0.4950</td>\n",
       "      <td>1.522250</td>\n",
       "      <td>0.509500</td>\n",
       "      <td>4.309500</td>\n",
       "      <td>0.521500</td>\n",
       "      <td>32.046500</td>\n",
       "      <td>0.501750</td>\n",
       "      <td>140.249000</td>\n",
       "      <td>4.520500</td>\n",
       "      <td>...</td>\n",
       "      <td>645.108000</td>\n",
       "      <td>1251.515500</td>\n",
       "      <td>2124.213000</td>\n",
       "      <td>12.306500</td>\n",
       "      <td>5.767000</td>\n",
       "      <td>11.011000</td>\n",
       "      <td>0.761500</td>\n",
       "      <td>0.503000</td>\n",
       "      <td>0.507000</td>\n",
       "      <td>1.500000</td>\n",
       "    </tr>\n",
       "    <tr>\n",
       "      <th>std</th>\n",
       "      <td>439.418206</td>\n",
       "      <td>0.5001</td>\n",
       "      <td>0.816004</td>\n",
       "      <td>0.500035</td>\n",
       "      <td>4.341444</td>\n",
       "      <td>0.499662</td>\n",
       "      <td>18.145715</td>\n",
       "      <td>0.288416</td>\n",
       "      <td>35.399655</td>\n",
       "      <td>2.287837</td>\n",
       "      <td>...</td>\n",
       "      <td>443.780811</td>\n",
       "      <td>432.199447</td>\n",
       "      <td>1084.732044</td>\n",
       "      <td>4.213245</td>\n",
       "      <td>4.356398</td>\n",
       "      <td>5.463955</td>\n",
       "      <td>0.426273</td>\n",
       "      <td>0.500116</td>\n",
       "      <td>0.500076</td>\n",
       "      <td>1.118314</td>\n",
       "    </tr>\n",
       "    <tr>\n",
       "      <th>min</th>\n",
       "      <td>501.000000</td>\n",
       "      <td>0.0000</td>\n",
       "      <td>0.500000</td>\n",
       "      <td>0.000000</td>\n",
       "      <td>0.000000</td>\n",
       "      <td>0.000000</td>\n",
       "      <td>2.000000</td>\n",
       "      <td>0.100000</td>\n",
       "      <td>80.000000</td>\n",
       "      <td>1.000000</td>\n",
       "      <td>...</td>\n",
       "      <td>0.000000</td>\n",
       "      <td>500.000000</td>\n",
       "      <td>256.000000</td>\n",
       "      <td>5.000000</td>\n",
       "      <td>0.000000</td>\n",
       "      <td>2.000000</td>\n",
       "      <td>0.000000</td>\n",
       "      <td>0.000000</td>\n",
       "      <td>0.000000</td>\n",
       "      <td>0.000000</td>\n",
       "    </tr>\n",
       "    <tr>\n",
       "      <th>25%</th>\n",
       "      <td>851.750000</td>\n",
       "      <td>0.0000</td>\n",
       "      <td>0.700000</td>\n",
       "      <td>0.000000</td>\n",
       "      <td>1.000000</td>\n",
       "      <td>0.000000</td>\n",
       "      <td>16.000000</td>\n",
       "      <td>0.200000</td>\n",
       "      <td>109.000000</td>\n",
       "      <td>3.000000</td>\n",
       "      <td>...</td>\n",
       "      <td>282.750000</td>\n",
       "      <td>874.750000</td>\n",
       "      <td>1207.500000</td>\n",
       "      <td>9.000000</td>\n",
       "      <td>2.000000</td>\n",
       "      <td>6.000000</td>\n",
       "      <td>1.000000</td>\n",
       "      <td>0.000000</td>\n",
       "      <td>0.000000</td>\n",
       "      <td>0.750000</td>\n",
       "    </tr>\n",
       "    <tr>\n",
       "      <th>50%</th>\n",
       "      <td>1226.000000</td>\n",
       "      <td>0.0000</td>\n",
       "      <td>1.500000</td>\n",
       "      <td>1.000000</td>\n",
       "      <td>3.000000</td>\n",
       "      <td>1.000000</td>\n",
       "      <td>32.000000</td>\n",
       "      <td>0.500000</td>\n",
       "      <td>141.000000</td>\n",
       "      <td>4.000000</td>\n",
       "      <td>...</td>\n",
       "      <td>564.000000</td>\n",
       "      <td>1247.000000</td>\n",
       "      <td>2146.500000</td>\n",
       "      <td>12.000000</td>\n",
       "      <td>5.000000</td>\n",
       "      <td>11.000000</td>\n",
       "      <td>1.000000</td>\n",
       "      <td>1.000000</td>\n",
       "      <td>1.000000</td>\n",
       "      <td>1.500000</td>\n",
       "    </tr>\n",
       "    <tr>\n",
       "      <th>75%</th>\n",
       "      <td>1615.250000</td>\n",
       "      <td>1.0000</td>\n",
       "      <td>2.200000</td>\n",
       "      <td>1.000000</td>\n",
       "      <td>7.000000</td>\n",
       "      <td>1.000000</td>\n",
       "      <td>48.000000</td>\n",
       "      <td>0.800000</td>\n",
       "      <td>170.000000</td>\n",
       "      <td>7.000000</td>\n",
       "      <td>...</td>\n",
       "      <td>947.250000</td>\n",
       "      <td>1633.000000</td>\n",
       "      <td>3064.500000</td>\n",
       "      <td>16.000000</td>\n",
       "      <td>9.000000</td>\n",
       "      <td>16.000000</td>\n",
       "      <td>1.000000</td>\n",
       "      <td>1.000000</td>\n",
       "      <td>1.000000</td>\n",
       "      <td>2.250000</td>\n",
       "    </tr>\n",
       "    <tr>\n",
       "      <th>max</th>\n",
       "      <td>1998.000000</td>\n",
       "      <td>1.0000</td>\n",
       "      <td>3.000000</td>\n",
       "      <td>1.000000</td>\n",
       "      <td>19.000000</td>\n",
       "      <td>1.000000</td>\n",
       "      <td>64.000000</td>\n",
       "      <td>1.000000</td>\n",
       "      <td>200.000000</td>\n",
       "      <td>8.000000</td>\n",
       "      <td>...</td>\n",
       "      <td>1960.000000</td>\n",
       "      <td>1998.000000</td>\n",
       "      <td>3998.000000</td>\n",
       "      <td>19.000000</td>\n",
       "      <td>18.000000</td>\n",
       "      <td>20.000000</td>\n",
       "      <td>1.000000</td>\n",
       "      <td>1.000000</td>\n",
       "      <td>1.000000</td>\n",
       "      <td>3.000000</td>\n",
       "    </tr>\n",
       "  </tbody>\n",
       "</table>\n",
       "<p>8 rows × 21 columns</p>\n",
       "</div>"
      ],
      "text/plain": [
       "       battery_power       blue  clock_speed     dual_sim           fc  \\\n",
       "count    2000.000000  2000.0000  2000.000000  2000.000000  2000.000000   \n",
       "mean     1238.518500     0.4950     1.522250     0.509500     4.309500   \n",
       "std       439.418206     0.5001     0.816004     0.500035     4.341444   \n",
       "min       501.000000     0.0000     0.500000     0.000000     0.000000   \n",
       "25%       851.750000     0.0000     0.700000     0.000000     1.000000   \n",
       "50%      1226.000000     0.0000     1.500000     1.000000     3.000000   \n",
       "75%      1615.250000     1.0000     2.200000     1.000000     7.000000   \n",
       "max      1998.000000     1.0000     3.000000     1.000000    19.000000   \n",
       "\n",
       "            four_g   int_memory        m_dep    mobile_wt      n_cores  ...  \\\n",
       "count  2000.000000  2000.000000  2000.000000  2000.000000  2000.000000  ...   \n",
       "mean      0.521500    32.046500     0.501750   140.249000     4.520500  ...   \n",
       "std       0.499662    18.145715     0.288416    35.399655     2.287837  ...   \n",
       "min       0.000000     2.000000     0.100000    80.000000     1.000000  ...   \n",
       "25%       0.000000    16.000000     0.200000   109.000000     3.000000  ...   \n",
       "50%       1.000000    32.000000     0.500000   141.000000     4.000000  ...   \n",
       "75%       1.000000    48.000000     0.800000   170.000000     7.000000  ...   \n",
       "max       1.000000    64.000000     1.000000   200.000000     8.000000  ...   \n",
       "\n",
       "         px_height     px_width          ram         sc_h         sc_w  \\\n",
       "count  2000.000000  2000.000000  2000.000000  2000.000000  2000.000000   \n",
       "mean    645.108000  1251.515500  2124.213000    12.306500     5.767000   \n",
       "std     443.780811   432.199447  1084.732044     4.213245     4.356398   \n",
       "min       0.000000   500.000000   256.000000     5.000000     0.000000   \n",
       "25%     282.750000   874.750000  1207.500000     9.000000     2.000000   \n",
       "50%     564.000000  1247.000000  2146.500000    12.000000     5.000000   \n",
       "75%     947.250000  1633.000000  3064.500000    16.000000     9.000000   \n",
       "max    1960.000000  1998.000000  3998.000000    19.000000    18.000000   \n",
       "\n",
       "         talk_time      three_g  touch_screen         wifi  price_range  \n",
       "count  2000.000000  2000.000000   2000.000000  2000.000000  2000.000000  \n",
       "mean     11.011000     0.761500      0.503000     0.507000     1.500000  \n",
       "std       5.463955     0.426273      0.500116     0.500076     1.118314  \n",
       "min       2.000000     0.000000      0.000000     0.000000     0.000000  \n",
       "25%       6.000000     1.000000      0.000000     0.000000     0.750000  \n",
       "50%      11.000000     1.000000      1.000000     1.000000     1.500000  \n",
       "75%      16.000000     1.000000      1.000000     1.000000     2.250000  \n",
       "max      20.000000     1.000000      1.000000     1.000000     3.000000  \n",
       "\n",
       "[8 rows x 21 columns]"
      ]
     },
     "execution_count": 31,
     "metadata": {},
     "output_type": "execute_result"
    }
   ],
   "source": [
    "df.describe()"
   ]
  },
  {
   "cell_type": "code",
   "execution_count": 32,
   "id": "fbf1838d",
   "metadata": {},
   "outputs": [
    {
     "data": {
      "text/plain": [
       "array([0, 1, 1, 1, 0, 0, 1, 0, 0, 0])"
      ]
     },
     "execution_count": 32,
     "metadata": {},
     "output_type": "execute_result"
    }
   ],
   "source": [
    "# Seperate dataset into x(train set) , y(target set)\n",
    "x = df.drop([\"price_range\"], axis=1)\n",
    "y = df[\"price_range\"]\n",
    "\n",
    "# note : we need to change our y column into binary class (expensive=1 , cheap=1)\n",
    "# In order to Binarize the y column we set our threshold value to the mean value\n",
    "binary_y = np.array(y>1, dtype=bool)*1\n",
    "binary_y[:10]"
   ]
  },
  {
   "cell_type": "code",
   "execution_count": 33,
   "id": "082831f7",
   "metadata": {},
   "outputs": [
    {
     "data": {
      "text/plain": [
       "(array([0, 1]), array([1000, 1000], dtype=int64))"
      ]
     },
     "execution_count": 33,
     "metadata": {},
     "output_type": "execute_result"
    }
   ],
   "source": [
    "# distribution of binaries\n",
    "np.unique(binary_y, return_counts=True)"
   ]
  },
  {
   "cell_type": "code",
   "execution_count": 34,
   "id": "87e7437f",
   "metadata": {},
   "outputs": [
    {
     "name": "stdout",
     "output_type": "stream",
     "text": [
      "ok\n",
      "1.0\n",
      "ok\n",
      "0.48958333333333337\n",
      "1.0\n"
     ]
    },
    {
     "data": {
      "text/plain": [
       "['wifi', 'touch_screen']"
      ]
     },
     "execution_count": 34,
     "metadata": {},
     "output_type": "execute_result"
    }
   ],
   "source": [
    "forward_selection_with_auc(x, binary_y)"
   ]
  },
  {
   "cell_type": "code",
   "execution_count": 35,
   "id": "4fc3c6d4",
   "metadata": {},
   "outputs": [
    {
     "name": "stdout",
     "output_type": "stream",
     "text": [
      "ok\n",
      "0.5\n",
      "ok\n",
      "0.5140224358974359\n",
      "1.0\n"
     ]
    },
    {
     "data": {
      "text/plain": [
       "['wifi', 'touch_screen']"
      ]
     },
     "execution_count": 35,
     "metadata": {},
     "output_type": "execute_result"
    }
   ],
   "source": [
    "forward_selection_with_auc2(x, binary_y)"
   ]
  },
  {
   "cell_type": "code",
   "execution_count": 36,
   "id": "d940a20b",
   "metadata": {},
   "outputs": [
    {
     "data": {
      "text/plain": [
       "['ram', 'battery_power', 'px_width', 'px_height', 'n_cores']"
      ]
     },
     "execution_count": 36,
     "metadata": {},
     "output_type": "execute_result"
    }
   ],
   "source": [
    "forward_selection(x, binary_y)"
   ]
  },
  {
   "cell_type": "markdown",
   "id": "18a76a93",
   "metadata": {},
   "source": [
    "## Question 2\n",
    "\n",
    "- utilize previous section code as feature selector and then apply a logistic model on selected features\n",
    "- evaluate model with f1-score, recall and precision metrics\n",
    "- So I did it carefully......"
   ]
  },
  {
   "cell_type": "markdown",
   "id": "ebcb17a0",
   "metadata": {},
   "source": [
    "#### AUC"
   ]
  },
  {
   "cell_type": "code",
   "execution_count": 37,
   "id": "2a5207b7",
   "metadata": {},
   "outputs": [],
   "source": [
    "new_x = df[['wifi', 'touch_screen']]\n",
    "# train test split dataset\n",
    "x_train, x_test, y_train, y_test = train_test_split(new_x, binary_y, test_size=0.2, random_state=79)"
   ]
  },
  {
   "cell_type": "code",
   "execution_count": 38,
   "id": "0f7cc5ff",
   "metadata": {},
   "outputs": [
    {
     "data": {
      "text/plain": [
       "0.515"
      ]
     },
     "execution_count": 38,
     "metadata": {},
     "output_type": "execute_result"
    }
   ],
   "source": [
    "# Create model\n",
    "model = LogisticRegression()\n",
    "model.fit(x_train, y_train)\n",
    "model.score(x_test, y_test)"
   ]
  },
  {
   "cell_type": "code",
   "execution_count": 39,
   "id": "70307340",
   "metadata": {},
   "outputs": [
    {
     "name": "stdout",
     "output_type": "stream",
     "text": [
      "              precision    recall  f1-score   support\n",
      "\n",
      "           0       0.49      0.49      0.49       192\n",
      "           1       0.53      0.54      0.54       208\n",
      "\n",
      "    accuracy                           0.52       400\n",
      "   macro avg       0.51      0.51      0.51       400\n",
      "weighted avg       0.51      0.52      0.51       400\n",
      "\n"
     ]
    }
   ],
   "source": [
    "y_preds = model.predict(x_test)\n",
    "print(classification_report(y_test, y_preds))"
   ]
  },
  {
   "cell_type": "markdown",
   "id": "ad827ece",
   "metadata": {},
   "source": [
    "#### P-value"
   ]
  },
  {
   "cell_type": "code",
   "execution_count": 40,
   "id": "9447b8ae",
   "metadata": {},
   "outputs": [],
   "source": [
    "new_x = df[['ram', 'battery_power', 'px_width', 'px_height', 'n_cores']]\n",
    "# train test split dataset\n",
    "x_train, x_test, y_train, y_test = train_test_split(new_x, binary_y, test_size=0.2, random_state=79)"
   ]
  },
  {
   "cell_type": "code",
   "execution_count": 41,
   "id": "008d659e",
   "metadata": {},
   "outputs": [
    {
     "data": {
      "text/plain": [
       "0.9925"
      ]
     },
     "execution_count": 41,
     "metadata": {},
     "output_type": "execute_result"
    }
   ],
   "source": [
    "# Create model\n",
    "model = LogisticRegression()\n",
    "model.fit(x_train, y_train)\n",
    "model.score(x_test, y_test)"
   ]
  },
  {
   "cell_type": "code",
   "execution_count": 42,
   "id": "bee1b656",
   "metadata": {},
   "outputs": [
    {
     "name": "stdout",
     "output_type": "stream",
     "text": [
      "              precision    recall  f1-score   support\n",
      "\n",
      "           0       0.99      0.99      0.99       192\n",
      "           1       1.00      0.99      0.99       208\n",
      "\n",
      "    accuracy                           0.99       400\n",
      "   macro avg       0.99      0.99      0.99       400\n",
      "weighted avg       0.99      0.99      0.99       400\n",
      "\n"
     ]
    }
   ],
   "source": [
    "y_preds = model.predict(x_test)\n",
    "print(classification_report(y_test, y_preds))"
   ]
  },
  {
   "cell_type": "markdown",
   "id": "64aceb5f",
   "metadata": {},
   "source": [
    "## Question 3\n",
    "\n",
    "- Use PCA algorithm in way that number your components is same as number of selected features in q1\n",
    "- Alter the dataset\n",
    "\n",
    "## Question 4\n",
    "\n",
    "- Use altered dataset from previous section \n",
    "- Apply a logistic regression on dataset\n",
    "- evaluate model with f1-score, recall and precision metrics "
   ]
  },
  {
   "cell_type": "code",
   "execution_count": 43,
   "id": "5cad6bd2",
   "metadata": {},
   "outputs": [],
   "source": [
    "from sklearn.preprocessing import StandardScaler\n",
    "Standard_x = StandardScaler().fit_transform(x)"
   ]
  },
  {
   "cell_type": "markdown",
   "id": "bd032958",
   "metadata": {},
   "source": [
    "#### AUC"
   ]
  },
  {
   "cell_type": "code",
   "execution_count": 44,
   "id": "8f8355b8",
   "metadata": {},
   "outputs": [],
   "source": [
    "pca = PCA(n_components=2)\n",
    "principalComponents = pca.fit_transform(x)\n",
    "principalDf = pd.DataFrame(data = principalComponents\n",
    "             , columns = ['principal component 1', 'principal component 2'])"
   ]
  },
  {
   "cell_type": "code",
   "execution_count": 45,
   "id": "1babf561",
   "metadata": {},
   "outputs": [
    {
     "data": {
      "text/html": [
       "<div>\n",
       "<style scoped>\n",
       "    .dataframe tbody tr th:only-of-type {\n",
       "        vertical-align: middle;\n",
       "    }\n",
       "\n",
       "    .dataframe tbody tr th {\n",
       "        vertical-align: top;\n",
       "    }\n",
       "\n",
       "    .dataframe thead th {\n",
       "        text-align: right;\n",
       "    }\n",
       "</style>\n",
       "<table border=\"1\" class=\"dataframe\">\n",
       "  <thead>\n",
       "    <tr style=\"text-align: right;\">\n",
       "      <th></th>\n",
       "      <th>principal component 1</th>\n",
       "      <th>principal component 2</th>\n",
       "    </tr>\n",
       "  </thead>\n",
       "  <tbody>\n",
       "    <tr>\n",
       "      <th>0</th>\n",
       "      <td>430.597094</td>\n",
       "      <td>-795.788231</td>\n",
       "    </tr>\n",
       "    <tr>\n",
       "      <th>1</th>\n",
       "      <td>504.984735</td>\n",
       "      <td>696.622368</td>\n",
       "    </tr>\n",
       "    <tr>\n",
       "      <th>2</th>\n",
       "      <td>473.329828</td>\n",
       "      <td>763.942136</td>\n",
       "    </tr>\n",
       "    <tr>\n",
       "      <th>3</th>\n",
       "      <td>639.822324</td>\n",
       "      <td>779.691180</td>\n",
       "    </tr>\n",
       "    <tr>\n",
       "      <th>4</th>\n",
       "      <td>-718.985184</td>\n",
       "      <td>382.304525</td>\n",
       "    </tr>\n",
       "  </tbody>\n",
       "</table>\n",
       "</div>"
      ],
      "text/plain": [
       "   principal component 1  principal component 2\n",
       "0             430.597094            -795.788231\n",
       "1             504.984735             696.622368\n",
       "2             473.329828             763.942136\n",
       "3             639.822324             779.691180\n",
       "4            -718.985184             382.304525"
      ]
     },
     "execution_count": 45,
     "metadata": {},
     "output_type": "execute_result"
    }
   ],
   "source": [
    "principalDf.head()"
   ]
  },
  {
   "cell_type": "code",
   "execution_count": 46,
   "id": "adfe6a56",
   "metadata": {},
   "outputs": [],
   "source": [
    "# train test split dataset\n",
    "x_train, x_test, y_train, y_test = train_test_split(principalDf, binary_y, test_size=0.2, random_state=79)"
   ]
  },
  {
   "cell_type": "code",
   "execution_count": 47,
   "id": "77d64852",
   "metadata": {},
   "outputs": [
    {
     "data": {
      "text/plain": [
       "0.94"
      ]
     },
     "execution_count": 47,
     "metadata": {},
     "output_type": "execute_result"
    }
   ],
   "source": [
    "# Create model\n",
    "model = LogisticRegression()\n",
    "model.fit(x_train, y_train)\n",
    "model.score(x_test, y_test)"
   ]
  },
  {
   "cell_type": "code",
   "execution_count": 48,
   "id": "260744d0",
   "metadata": {},
   "outputs": [
    {
     "name": "stdout",
     "output_type": "stream",
     "text": [
      "              precision    recall  f1-score   support\n",
      "\n",
      "           0       0.93      0.95      0.94       192\n",
      "           1       0.95      0.93      0.94       208\n",
      "\n",
      "    accuracy                           0.94       400\n",
      "   macro avg       0.94      0.94      0.94       400\n",
      "weighted avg       0.94      0.94      0.94       400\n",
      "\n"
     ]
    }
   ],
   "source": [
    "y_preds = model.predict(x_test)\n",
    "print(classification_report(y_test, y_preds))"
   ]
  },
  {
   "cell_type": "markdown",
   "id": "f35ef79a",
   "metadata": {},
   "source": [
    "#### P-value"
   ]
  },
  {
   "cell_type": "code",
   "execution_count": 49,
   "id": "dec82a4d",
   "metadata": {},
   "outputs": [],
   "source": [
    "pca = PCA(n_components=5)\n",
    "principalComponents = pca.fit_transform(x)\n",
    "principalDf = pd.DataFrame(data = principalComponents\n",
    "             , columns = ['pc1', 'pc2', 'pc3', 'pc4', 'pc5'])"
   ]
  },
  {
   "cell_type": "code",
   "execution_count": 50,
   "id": "5154d8c1",
   "metadata": {},
   "outputs": [],
   "source": [
    "# train test split dataset\n",
    "x_train, x_test, y_train, y_test = train_test_split(principalDf, binary_y, test_size=0.2, random_state=79)"
   ]
  },
  {
   "cell_type": "code",
   "execution_count": 51,
   "id": "5e36e95d",
   "metadata": {},
   "outputs": [
    {
     "data": {
      "text/plain": [
       "0.9875"
      ]
     },
     "execution_count": 51,
     "metadata": {},
     "output_type": "execute_result"
    }
   ],
   "source": [
    "# Create model\n",
    "model = LogisticRegression()\n",
    "model.fit(x_train, y_train)\n",
    "model.score(x_test, y_test)"
   ]
  },
  {
   "cell_type": "code",
   "execution_count": 52,
   "id": "5b9bc1e0",
   "metadata": {},
   "outputs": [
    {
     "name": "stdout",
     "output_type": "stream",
     "text": [
      "              precision    recall  f1-score   support\n",
      "\n",
      "           0       0.99      0.98      0.99       192\n",
      "           1       0.98      1.00      0.99       208\n",
      "\n",
      "    accuracy                           0.99       400\n",
      "   macro avg       0.99      0.99      0.99       400\n",
      "weighted avg       0.99      0.99      0.99       400\n",
      "\n"
     ]
    }
   ],
   "source": [
    "y_preds = model.predict(x_test)\n",
    "print(classification_report(y_test, y_preds))"
   ]
  },
  {
   "cell_type": "markdown",
   "id": "286c6e0e",
   "metadata": {},
   "source": [
    "## Question 5\n",
    "\n",
    "- Feature engineering is one of the most important parts of machine learning processes.\n",
    "- Perform the following on the dataset.\n",
    "\n",
    "**1.** Use the binning method on the battery power feature. (Consider at least three different sizes for the bins and even consider the size of the bins unequal.\n",
    "\n",
    "**2.** Apply one hot encoding to categorical features in the database. And explain why we should use this encoding commonly?\n",
    "\n",
    "**3.** Check if the use of transformations such as log transform or exponential transformation is applicable here? In general, why do we use such transformations? (In this section, you are allowed to apply another transformation if you consider it appropriate. This section will give you a score. Be sure to state the reason for using the used transformation.\n",
    "\n",
    "**4.** Create a new feature called the area or volume of the phone\n",
    "\n",
    " ## Question 6\n",
    " \n",
    "- Create a logistic regression model for each of the previous question modes and check results.\n",
    "- Apply all 5 modes together once and run the logistic regression model on them.\n",
    "- Report the results of these models"
   ]
  },
  {
   "cell_type": "markdown",
   "id": "cff9cdec",
   "metadata": {},
   "source": [
    "### Binning\n",
    "- Three different types of binning"
   ]
  },
  {
   "cell_type": "markdown",
   "id": "59eed04c",
   "metadata": {},
   "source": [
    "#### Type1"
   ]
  },
  {
   "cell_type": "code",
   "execution_count": 88,
   "id": "de361124",
   "metadata": {},
   "outputs": [
    {
     "data": {
      "text/plain": [
       "(499.502, 1000.0]    697\n",
       "(1499.0, 1998.0]     662\n",
       "(1000.0, 1499.0]     641\n",
       "Name: battery_power, dtype: int64"
      ]
     },
     "execution_count": 88,
     "metadata": {},
     "output_type": "execute_result"
    }
   ],
   "source": [
    "x = df.drop([\"price_range\"], axis=1)\n",
    "x[\"battery_power\"].value_counts(bins=3)"
   ]
  },
  {
   "cell_type": "code",
   "execution_count": 89,
   "id": "4d7b2aff",
   "metadata": {},
   "outputs": [],
   "source": [
    "bins_1 = np.array([0, 1000.0, 1499.0, 2000])\n",
    "digitized_1 = np.digitize(x[\"battery_power\"], bins_1)"
   ]
  },
  {
   "cell_type": "code",
   "execution_count": 90,
   "id": "2595d4ba",
   "metadata": {},
   "outputs": [],
   "source": [
    "x[\"battery_power\"] = digitized_1\n",
    "x[\"battery_power\"].value_counts()"
   ]
  },
  {
   "cell_type": "code",
   "execution_count": 60,
   "id": "78ae8af3",
   "metadata": {},
   "outputs": [
    {
     "data": {
      "image/png": "[encoded data removed]",
      "text/plain": [
       "<Figure size 432x288 with 1 Axes>"
      ]
     },
     "metadata": {
      "needs_background": "light"
     },
     "output_type": "display_data"
    }
   ],
   "source": [
    "plt.hist(digitized_1)\n",
    "plt.title(\"type1\")\n",
    "plt.show()"
   ]
  },
  {
   "cell_type": "code",
   "execution_count": 93,
   "id": "2e6bdca5",
   "metadata": {},
   "outputs": [
    {
     "data": {
      "text/plain": [
       "0.9825"
      ]
     },
     "execution_count": 93,
     "metadata": {},
     "output_type": "execute_result"
    }
   ],
   "source": [
    "x_train, x_test, y_train, y_test = train_test_split(x, binary_y, test_size=0.2, random_state=79)\n",
    "# Create model\n",
    "model = LogisticRegression(solver='newton-cg', max_iter=1000)\n",
    "model.fit(x_train, y_train)\n",
    "model.score(x_test, y_test)"
   ]
  },
  {
   "cell_type": "code",
   "execution_count": 94,
   "id": "786786ea",
   "metadata": {},
   "outputs": [
    {
     "name": "stdout",
     "output_type": "stream",
     "text": [
      "              precision    recall  f1-score   support\n",
      "\n",
      "           0       0.99      0.97      0.98       192\n",
      "           1       0.98      0.99      0.98       208\n",
      "\n",
      "    accuracy                           0.98       400\n",
      "   macro avg       0.98      0.98      0.98       400\n",
      "weighted avg       0.98      0.98      0.98       400\n",
      "\n"
     ]
    }
   ],
   "source": [
    "y_preds = model.predict(x_test)\n",
    "print(classification_report(y_test, y_preds))"
   ]
  },
  {
   "cell_type": "markdown",
   "id": "4a02ac7a",
   "metadata": {},
   "source": [
    "#### Type2"
   ]
  },
  {
   "cell_type": "code",
   "execution_count": 95,
   "id": "99584bf5",
   "metadata": {},
   "outputs": [
    {
     "data": {
      "text/plain": [
       "(499.502, 875.25]    537\n",
       "(1623.75, 1998.0]    490\n",
       "(1249.5, 1623.75]    489\n",
       "(875.25, 1249.5]     484\n",
       "Name: battery_power, dtype: int64"
      ]
     },
     "execution_count": 95,
     "metadata": {},
     "output_type": "execute_result"
    }
   ],
   "source": [
    "x = df.drop([\"price_range\"], axis=1)\n",
    "x[\"battery_power\"].value_counts(bins=4)"
   ]
  },
  {
   "cell_type": "code",
   "execution_count": 96,
   "id": "459f7e44",
   "metadata": {},
   "outputs": [],
   "source": [
    "bins_2 = np.array([0, 875.25, 1249.5, 1623.75, 2000])\n",
    "digitized_2 = np.digitize(x[\"battery_power\"], bins_2)"
   ]
  },
  {
   "cell_type": "code",
   "execution_count": 97,
   "id": "e57afc7b",
   "metadata": {},
   "outputs": [
    {
     "data": {
      "text/plain": [
       "1    537\n",
       "4    490\n",
       "3    489\n",
       "2    484\n",
       "Name: battery_power, dtype: int64"
      ]
     },
     "execution_count": 97,
     "metadata": {},
     "output_type": "execute_result"
    }
   ],
   "source": [
    "x[\"battery_power\"] = digitized_2\n",
    "x[\"battery_power\"].value_counts()"
   ]
  },
  {
   "cell_type": "code",
   "execution_count": 98,
   "id": "38b9c24c",
   "metadata": {},
   "outputs": [
    {
     "data": {
      "image/png": "[encoded data removed]",
      "text/plain": [
       "<Figure size 432x288 with 1 Axes>"
      ]
     },
     "metadata": {
      "needs_background": "light"
     },
     "output_type": "display_data"
    }
   ],
   "source": [
    "plt.hist(digitized_2)\n",
    "plt.title(\"type2\")\n",
    "plt.show()"
   ]
  },
  {
   "cell_type": "code",
   "execution_count": 99,
   "id": "ec0a2ce0",
   "metadata": {},
   "outputs": [
    {
     "data": {
      "text/plain": [
       "0.985"
      ]
     },
     "execution_count": 99,
     "metadata": {},
     "output_type": "execute_result"
    }
   ],
   "source": [
    "x_train, x_test, y_train, y_test = train_test_split(x, binary_y, test_size=0.2, random_state=79)\n",
    "# Create model\n",
    "model = LogisticRegression(solver='newton-cg', max_iter=1000)\n",
    "model.fit(x_train, y_train)\n",
    "model.score(x_test, y_test)"
   ]
  },
  {
   "cell_type": "code",
   "execution_count": 100,
   "id": "1123c1e7",
   "metadata": {},
   "outputs": [
    {
     "name": "stdout",
     "output_type": "stream",
     "text": [
      "              precision    recall  f1-score   support\n",
      "\n",
      "           0       0.98      0.98      0.98       192\n",
      "           1       0.99      0.99      0.99       208\n",
      "\n",
      "    accuracy                           0.98       400\n",
      "   macro avg       0.98      0.98      0.98       400\n",
      "weighted avg       0.98      0.98      0.98       400\n",
      "\n"
     ]
    }
   ],
   "source": [
    "y_preds = model.predict(x_test)\n",
    "print(classification_report(y_test, y_preds))"
   ]
  },
  {
   "cell_type": "markdown",
   "id": "6b0710ba",
   "metadata": {},
   "source": [
    "#### Type3"
   ]
  },
  {
   "cell_type": "code",
   "execution_count": 102,
   "id": "6467eba4",
   "metadata": {},
   "outputs": [
    {
     "data": {
      "text/plain": [
       "(499.502, 800.4]    422\n",
       "(800.4, 1099.8]     409\n",
       "(1698.6, 1998.0]    400\n",
       "(1399.2, 1698.6]    394\n",
       "(1099.8, 1399.2]    375\n",
       "Name: battery_power, dtype: int64"
      ]
     },
     "execution_count": 102,
     "metadata": {},
     "output_type": "execute_result"
    }
   ],
   "source": [
    "x = df.drop([\"price_range\"], axis=1)\n",
    "x[\"battery_power\"].value_counts(bins=5)"
   ]
  },
  {
   "cell_type": "code",
   "execution_count": 103,
   "id": "f978d7d7",
   "metadata": {},
   "outputs": [],
   "source": [
    "bins_3 = np.array([0, 800.4, 1099.8, 1399.2, 1698.6, 2000])\n",
    "digitized_3 = np.digitize(x[\"battery_power\"], bins_3)"
   ]
  },
  {
   "cell_type": "code",
   "execution_count": 104,
   "id": "cc1edae5",
   "metadata": {},
   "outputs": [
    {
     "data": {
      "text/plain": [
       "1    422\n",
       "2    409\n",
       "5    400\n",
       "4    394\n",
       "3    375\n",
       "Name: battery_power, dtype: int64"
      ]
     },
     "execution_count": 104,
     "metadata": {},
     "output_type": "execute_result"
    }
   ],
   "source": [
    "x[\"battery_power\"] = digitized_3\n",
    "x[\"battery_power\"].value_counts()"
   ]
  },
  {
   "cell_type": "code",
   "execution_count": 105,
   "id": "428da579",
   "metadata": {},
   "outputs": [
    {
     "data": {
      "image/png": "[encoded data removed]",
      "text/plain": [
       "<Figure size 432x288 with 1 Axes>"
      ]
     },
     "metadata": {
      "needs_background": "light"
     },
     "output_type": "display_data"
    }
   ],
   "source": [
    "plt.hist(digitized_3)\n",
    "plt.title(\"type3\")\n",
    "plt.show()"
   ]
  },
  {
   "cell_type": "code",
   "execution_count": 106,
   "id": "26a4fe57",
   "metadata": {},
   "outputs": [
    {
     "data": {
      "text/plain": [
       "0.9875"
      ]
     },
     "execution_count": 106,
     "metadata": {},
     "output_type": "execute_result"
    }
   ],
   "source": [
    "x_train, x_test, y_train, y_test = train_test_split(x, binary_y, test_size=0.2, random_state=79)\n",
    "# Create model\n",
    "model = LogisticRegression(solver='newton-cg', max_iter=1000)\n",
    "model.fit(x_train, y_train)\n",
    "model.score(x_test, y_test)"
   ]
  },
  {
   "cell_type": "code",
   "execution_count": 107,
   "id": "b7bf37d1",
   "metadata": {},
   "outputs": [
    {
     "name": "stdout",
     "output_type": "stream",
     "text": [
      "              precision    recall  f1-score   support\n",
      "\n",
      "           0       0.99      0.98      0.99       192\n",
      "           1       0.98      1.00      0.99       208\n",
      "\n",
      "    accuracy                           0.99       400\n",
      "   macro avg       0.99      0.99      0.99       400\n",
      "weighted avg       0.99      0.99      0.99       400\n",
      "\n"
     ]
    }
   ],
   "source": [
    "y_preds = model.predict(x_test)\n",
    "print(classification_report(y_test, y_preds))"
   ]
  },
  {
   "cell_type": "markdown",
   "id": "dea9f93c",
   "metadata": {},
   "source": [
    "### OneHot Encoder"
   ]
  },
  {
   "cell_type": "markdown",
   "id": "aa22aa77",
   "metadata": {},
   "source": [
    "One hot encoding is one method of converting data to prepare it for an algorithm and get a better prediction. With one-hot, we convert each categorical value into a new categorical column and assign a binary value of 1 or 0 to those columns. Each integer value is represented as a binary vector.\n",
    "\n",
    "\n",
    "<img src=\"images/One_Hot_Encoding.png\" width=\"500\"/>\n",
    "\n",
    "\n",
    "One hot encoding makes our training data more useful and expressive, and it can be rescaled easily. By using numeric values, we more easily determine a probability for our values. In particular, one hot encoding is used for our output values, since it provides more nuanced predictions than single labels."
   ]
  },
  {
   "cell_type": "code",
   "execution_count": 116,
   "id": "e379fe62",
   "metadata": {},
   "outputs": [],
   "source": [
    "new_x = df.drop([\"price_range\"], axis=1)"
   ]
  },
  {
   "cell_type": "code",
   "execution_count": 117,
   "id": "be41d656",
   "metadata": {},
   "outputs": [
    {
     "data": {
      "text/plain": [
       "Index(['battery_power', 'blue', 'clock_speed', 'dual_sim', 'fc', 'four_g',\n",
       "       'int_memory', 'm_dep', 'mobile_wt', 'n_cores', 'pc', 'px_height',\n",
       "       'px_width', 'ram', 'sc_h', 'sc_w', 'talk_time', 'three_g',\n",
       "       'touch_screen', 'wifi', 'price_range'],\n",
       "      dtype='object')"
      ]
     },
     "execution_count": 117,
     "metadata": {},
     "output_type": "execute_result"
    }
   ],
   "source": [
    "# finding categorical features (binary values can be considered as categorical features!)\n",
    "df.columns"
   ]
  },
  {
   "cell_type": "code",
   "execution_count": 118,
   "id": "7422e1da",
   "metadata": {},
   "outputs": [
    {
     "data": {
      "text/html": [
       "<div>\n",
       "<style scoped>\n",
       "    .dataframe tbody tr th:only-of-type {\n",
       "        vertical-align: middle;\n",
       "    }\n",
       "\n",
       "    .dataframe tbody tr th {\n",
       "        vertical-align: top;\n",
       "    }\n",
       "\n",
       "    .dataframe thead th {\n",
       "        text-align: right;\n",
       "    }\n",
       "</style>\n",
       "<table border=\"1\" class=\"dataframe\">\n",
       "  <thead>\n",
       "    <tr style=\"text-align: right;\">\n",
       "      <th></th>\n",
       "      <th>blue</th>\n",
       "      <th>dual_sim</th>\n",
       "      <th>four_g</th>\n",
       "      <th>three_g</th>\n",
       "      <th>touch_screen</th>\n",
       "      <th>wifi</th>\n",
       "    </tr>\n",
       "  </thead>\n",
       "  <tbody>\n",
       "    <tr>\n",
       "      <th>0</th>\n",
       "      <td>0</td>\n",
       "      <td>0</td>\n",
       "      <td>0</td>\n",
       "      <td>0</td>\n",
       "      <td>0</td>\n",
       "      <td>1</td>\n",
       "    </tr>\n",
       "    <tr>\n",
       "      <th>1</th>\n",
       "      <td>1</td>\n",
       "      <td>1</td>\n",
       "      <td>1</td>\n",
       "      <td>1</td>\n",
       "      <td>1</td>\n",
       "      <td>0</td>\n",
       "    </tr>\n",
       "    <tr>\n",
       "      <th>2</th>\n",
       "      <td>1</td>\n",
       "      <td>1</td>\n",
       "      <td>1</td>\n",
       "      <td>1</td>\n",
       "      <td>1</td>\n",
       "      <td>0</td>\n",
       "    </tr>\n",
       "    <tr>\n",
       "      <th>3</th>\n",
       "      <td>1</td>\n",
       "      <td>0</td>\n",
       "      <td>0</td>\n",
       "      <td>1</td>\n",
       "      <td>0</td>\n",
       "      <td>0</td>\n",
       "    </tr>\n",
       "    <tr>\n",
       "      <th>4</th>\n",
       "      <td>1</td>\n",
       "      <td>0</td>\n",
       "      <td>1</td>\n",
       "      <td>1</td>\n",
       "      <td>1</td>\n",
       "      <td>0</td>\n",
       "    </tr>\n",
       "  </tbody>\n",
       "</table>\n",
       "</div>"
      ],
      "text/plain": [
       "   blue  dual_sim  four_g  three_g  touch_screen  wifi\n",
       "0     0         0       0        0             0     1\n",
       "1     1         1       1        1             1     0\n",
       "2     1         1       1        1             1     0\n",
       "3     1         0       0        1             0     0\n",
       "4     1         0       1        1             1     0"
      ]
     },
     "execution_count": 118,
     "metadata": {},
     "output_type": "execute_result"
    }
   ],
   "source": [
    "df[['blue', 'dual_sim', 'four_g', 'three_g', 'touch_screen', 'wifi']].head()"
   ]
  },
  {
   "cell_type": "code",
   "execution_count": 119,
   "id": "7b1a8ff4",
   "metadata": {},
   "outputs": [
    {
     "data": {
      "text/plain": [
       "array([[ 1.,  0.,  1., ...,  9.,  7., 19.],\n",
       "       [ 0.,  1.,  0., ..., 17.,  3.,  7.],\n",
       "       [ 0.,  1.,  0., ..., 11.,  2.,  9.],\n",
       "       ...,\n",
       "       [ 1.,  0.,  0., ...,  9.,  1.,  5.],\n",
       "       [ 1.,  0.,  1., ..., 18., 10., 19.],\n",
       "       [ 0.,  1.,  0., ..., 19.,  4.,  2.]])"
      ]
     },
     "execution_count": 119,
     "metadata": {},
     "output_type": "execute_result"
    }
   ],
   "source": [
    "# Turn the categories into numbers \n",
    "categorcal_features = ['blue', 'dual_sim', 'four_g', 'three_g', 'touch_screen', 'wifi']\n",
    "one_hot = OneHotEncoder()\n",
    "transformer = ColumnTransformer([(\"one_hot\",\n",
    "                                one_hot,\n",
    "                                categorcal_features)],\n",
    "                                remainder=\"passthrough\")\n",
    "\n",
    "onehot_encoding_x = transformer.fit_transform(new_x)\n",
    "onehot_encoding_x"
   ]
  },
  {
   "cell_type": "code",
   "execution_count": 112,
   "id": "5d2515c6",
   "metadata": {},
   "outputs": [
    {
     "data": {
      "text/plain": [
       "(2000, 26)"
      ]
     },
     "execution_count": 112,
     "metadata": {},
     "output_type": "execute_result"
    }
   ],
   "source": [
    "onehot_encoding_x.shape"
   ]
  },
  {
   "cell_type": "code",
   "execution_count": 113,
   "id": "0f798f09",
   "metadata": {},
   "outputs": [],
   "source": [
    "x_train, x_test, y_train, y_test = train_test_split(onehot_encoding_x, binary_y, test_size=0.2, random_state=79)"
   ]
  },
  {
   "cell_type": "code",
   "execution_count": 114,
   "id": "5bdd5ac4",
   "metadata": {},
   "outputs": [
    {
     "data": {
      "text/plain": [
       "0.9875"
      ]
     },
     "execution_count": 114,
     "metadata": {},
     "output_type": "execute_result"
    }
   ],
   "source": [
    "# Create model\n",
    "model = LogisticRegression(solver='newton-cg', max_iter=1000)\n",
    "model.fit(x_train, y_train)\n",
    "model.score(x_test, y_test)"
   ]
  },
  {
   "cell_type": "code",
   "execution_count": 115,
   "id": "275ad89f",
   "metadata": {},
   "outputs": [
    {
     "name": "stdout",
     "output_type": "stream",
     "text": [
      "              precision    recall  f1-score   support\n",
      "\n",
      "           0       0.99      0.98      0.99       192\n",
      "           1       0.99      0.99      0.99       208\n",
      "\n",
      "    accuracy                           0.99       400\n",
      "   macro avg       0.99      0.99      0.99       400\n",
      "weighted avg       0.99      0.99      0.99       400\n",
      "\n"
     ]
    }
   ],
   "source": [
    "y_preds = model.predict(x_test)\n",
    "print(classification_report(y_test, y_preds))"
   ]
  },
  {
   "cell_type": "markdown",
   "id": "9760c92e",
   "metadata": {},
   "source": [
    "### Log transform"
   ]
  },
  {
   "cell_type": "markdown",
   "id": "826b7368",
   "metadata": {},
   "source": [
    "#### Visually Inspect the Distribution of Your Variables"
   ]
  },
  {
   "cell_type": "code",
   "execution_count": 120,
   "id": "4ae24808",
   "metadata": {},
   "outputs": [
    {
     "data": {
      "image/png": "[encoded data removed]",
      "text/plain": [
       "<Figure size 720x432 with 1 Axes>"
      ]
     },
     "metadata": {
      "needs_background": "light"
     },
     "output_type": "display_data"
    }
   ],
   "source": [
    "df[\"battery_power\"].hist(grid=False, figsize=(10, 6), bins=100);"
   ]
  },
  {
   "cell_type": "code",
   "execution_count": 121,
   "id": "f32a7a85",
   "metadata": {},
   "outputs": [
    {
     "data": {
      "text/plain": [
       "skew        0.031898\n",
       "kurtosis   -1.224144\n",
       "Name: battery_power, dtype: float64"
      ]
     },
     "execution_count": 121,
     "metadata": {},
     "output_type": "execute_result"
    }
   ],
   "source": [
    "df[\"battery_power\"].agg(['skew', 'kurtosis']).transpose()"
   ]
  },
  {
   "cell_type": "markdown",
   "id": "060f4d76",
   "metadata": {},
   "source": [
    "- Skewness\n",
    "    - Fairly Symmetrical\t-0.5 to 0.5\n",
    "    - Moderate Skewed\t-0.5 to -1.0 and 0.5 to 1.0\n",
    "    - Highly Skewed\t< -1.0 and > 1.0"
   ]
  },
  {
   "cell_type": "code",
   "execution_count": 122,
   "id": "8e0891e2",
   "metadata": {},
   "outputs": [],
   "source": [
    "new_df = df\n",
    "new_df.insert(len(new_df.columns), 'battery_power_log', np.log(df['battery_power']))"
   ]
  },
  {
   "cell_type": "code",
   "execution_count": 123,
   "id": "1ccba45d",
   "metadata": {},
   "outputs": [
    {
     "data": {
      "image/png": "[encoded data removed]",
      "text/plain": [
       "<Figure size 720x432 with 1 Axes>"
      ]
     },
     "metadata": {
      "needs_background": "light"
     },
     "output_type": "display_data"
    }
   ],
   "source": [
    "new_df[\"battery_power_log\"].hist(grid=False, figsize=(10, 6), bins=100);"
   ]
  },
  {
   "cell_type": "code",
   "execution_count": 124,
   "id": "3bc1e505",
   "metadata": {},
   "outputs": [
    {
     "data": {
      "text/html": [
       "<div>\n",
       "<style scoped>\n",
       "    .dataframe tbody tr th:only-of-type {\n",
       "        vertical-align: middle;\n",
       "    }\n",
       "\n",
       "    .dataframe tbody tr th {\n",
       "        vertical-align: top;\n",
       "    }\n",
       "\n",
       "    .dataframe thead th {\n",
       "        text-align: right;\n",
       "    }\n",
       "</style>\n",
       "<table border=\"1\" class=\"dataframe\">\n",
       "  <thead>\n",
       "    <tr style=\"text-align: right;\">\n",
       "      <th></th>\n",
       "      <th>battery_power</th>\n",
       "      <th>blue</th>\n",
       "      <th>clock_speed</th>\n",
       "      <th>dual_sim</th>\n",
       "      <th>fc</th>\n",
       "      <th>four_g</th>\n",
       "      <th>int_memory</th>\n",
       "      <th>m_dep</th>\n",
       "      <th>mobile_wt</th>\n",
       "      <th>n_cores</th>\n",
       "      <th>...</th>\n",
       "      <th>px_width</th>\n",
       "      <th>ram</th>\n",
       "      <th>sc_h</th>\n",
       "      <th>sc_w</th>\n",
       "      <th>talk_time</th>\n",
       "      <th>three_g</th>\n",
       "      <th>touch_screen</th>\n",
       "      <th>wifi</th>\n",
       "      <th>price_range</th>\n",
       "      <th>battery_power_log</th>\n",
       "    </tr>\n",
       "  </thead>\n",
       "  <tbody>\n",
       "    <tr>\n",
       "      <th>0</th>\n",
       "      <td>842</td>\n",
       "      <td>0</td>\n",
       "      <td>2.2</td>\n",
       "      <td>0</td>\n",
       "      <td>1</td>\n",
       "      <td>0</td>\n",
       "      <td>7</td>\n",
       "      <td>0.6</td>\n",
       "      <td>188</td>\n",
       "      <td>2</td>\n",
       "      <td>...</td>\n",
       "      <td>756</td>\n",
       "      <td>2549</td>\n",
       "      <td>9</td>\n",
       "      <td>7</td>\n",
       "      <td>19</td>\n",
       "      <td>0</td>\n",
       "      <td>0</td>\n",
       "      <td>1</td>\n",
       "      <td>1</td>\n",
       "      <td>6.735780</td>\n",
       "    </tr>\n",
       "    <tr>\n",
       "      <th>1</th>\n",
       "      <td>1021</td>\n",
       "      <td>1</td>\n",
       "      <td>0.5</td>\n",
       "      <td>1</td>\n",
       "      <td>0</td>\n",
       "      <td>1</td>\n",
       "      <td>53</td>\n",
       "      <td>0.7</td>\n",
       "      <td>136</td>\n",
       "      <td>3</td>\n",
       "      <td>...</td>\n",
       "      <td>1988</td>\n",
       "      <td>2631</td>\n",
       "      <td>17</td>\n",
       "      <td>3</td>\n",
       "      <td>7</td>\n",
       "      <td>1</td>\n",
       "      <td>1</td>\n",
       "      <td>0</td>\n",
       "      <td>2</td>\n",
       "      <td>6.928538</td>\n",
       "    </tr>\n",
       "    <tr>\n",
       "      <th>2</th>\n",
       "      <td>563</td>\n",
       "      <td>1</td>\n",
       "      <td>0.5</td>\n",
       "      <td>1</td>\n",
       "      <td>2</td>\n",
       "      <td>1</td>\n",
       "      <td>41</td>\n",
       "      <td>0.9</td>\n",
       "      <td>145</td>\n",
       "      <td>5</td>\n",
       "      <td>...</td>\n",
       "      <td>1716</td>\n",
       "      <td>2603</td>\n",
       "      <td>11</td>\n",
       "      <td>2</td>\n",
       "      <td>9</td>\n",
       "      <td>1</td>\n",
       "      <td>1</td>\n",
       "      <td>0</td>\n",
       "      <td>2</td>\n",
       "      <td>6.333280</td>\n",
       "    </tr>\n",
       "    <tr>\n",
       "      <th>3</th>\n",
       "      <td>615</td>\n",
       "      <td>1</td>\n",
       "      <td>2.5</td>\n",
       "      <td>0</td>\n",
       "      <td>0</td>\n",
       "      <td>0</td>\n",
       "      <td>10</td>\n",
       "      <td>0.8</td>\n",
       "      <td>131</td>\n",
       "      <td>6</td>\n",
       "      <td>...</td>\n",
       "      <td>1786</td>\n",
       "      <td>2769</td>\n",
       "      <td>16</td>\n",
       "      <td>8</td>\n",
       "      <td>11</td>\n",
       "      <td>1</td>\n",
       "      <td>0</td>\n",
       "      <td>0</td>\n",
       "      <td>2</td>\n",
       "      <td>6.421622</td>\n",
       "    </tr>\n",
       "    <tr>\n",
       "      <th>4</th>\n",
       "      <td>1821</td>\n",
       "      <td>1</td>\n",
       "      <td>1.2</td>\n",
       "      <td>0</td>\n",
       "      <td>13</td>\n",
       "      <td>1</td>\n",
       "      <td>44</td>\n",
       "      <td>0.6</td>\n",
       "      <td>141</td>\n",
       "      <td>2</td>\n",
       "      <td>...</td>\n",
       "      <td>1212</td>\n",
       "      <td>1411</td>\n",
       "      <td>8</td>\n",
       "      <td>2</td>\n",
       "      <td>15</td>\n",
       "      <td>1</td>\n",
       "      <td>1</td>\n",
       "      <td>0</td>\n",
       "      <td>1</td>\n",
       "      <td>7.507141</td>\n",
       "    </tr>\n",
       "  </tbody>\n",
       "</table>\n",
       "<p>5 rows × 22 columns</p>\n",
       "</div>"
      ],
      "text/plain": [
       "   battery_power  blue  clock_speed  dual_sim  fc  four_g  int_memory  m_dep  \\\n",
       "0            842     0          2.2         0   1       0           7    0.6   \n",
       "1           1021     1          0.5         1   0       1          53    0.7   \n",
       "2            563     1          0.5         1   2       1          41    0.9   \n",
       "3            615     1          2.5         0   0       0          10    0.8   \n",
       "4           1821     1          1.2         0  13       1          44    0.6   \n",
       "\n",
       "   mobile_wt  n_cores  ...  px_width   ram  sc_h  sc_w  talk_time  three_g  \\\n",
       "0        188        2  ...       756  2549     9     7         19        0   \n",
       "1        136        3  ...      1988  2631    17     3          7        1   \n",
       "2        145        5  ...      1716  2603    11     2          9        1   \n",
       "3        131        6  ...      1786  2769    16     8         11        1   \n",
       "4        141        2  ...      1212  1411     8     2         15        1   \n",
       "\n",
       "   touch_screen  wifi  price_range  battery_power_log  \n",
       "0             0     1            1           6.735780  \n",
       "1             1     0            2           6.928538  \n",
       "2             1     0            2           6.333280  \n",
       "3             0     0            2           6.421622  \n",
       "4             1     0            1           7.507141  \n",
       "\n",
       "[5 rows x 22 columns]"
      ]
     },
     "execution_count": 124,
     "metadata": {},
     "output_type": "execute_result"
    }
   ],
   "source": [
    "new_df.head()"
   ]
  },
  {
   "cell_type": "code",
   "execution_count": 125,
   "id": "d3b841db",
   "metadata": {},
   "outputs": [],
   "source": [
    "new_x = new_df.drop([\"price_range\", \"battery_power\"], axis=1)"
   ]
  },
  {
   "cell_type": "code",
   "execution_count": 126,
   "id": "675cadc8",
   "metadata": {},
   "outputs": [],
   "source": [
    "# train test split dataset\n",
    "x_train, x_test, y_train, y_test = train_test_split(new_x, binary_y, test_size=0.2, random_state=79)"
   ]
  },
  {
   "cell_type": "code",
   "execution_count": 127,
   "id": "de5f3fb2",
   "metadata": {},
   "outputs": [
    {
     "data": {
      "text/plain": [
       "0.9775"
      ]
     },
     "execution_count": 127,
     "metadata": {},
     "output_type": "execute_result"
    }
   ],
   "source": [
    "# Create model\n",
    "model = LogisticRegression(solver='newton-cg', max_iter=1000)\n",
    "model.fit(x_train, y_train)\n",
    "model.score(x_test, y_test)"
   ]
  },
  {
   "cell_type": "code",
   "execution_count": 128,
   "id": "e0a89ad9",
   "metadata": {},
   "outputs": [
    {
     "name": "stdout",
     "output_type": "stream",
     "text": [
      "              precision    recall  f1-score   support\n",
      "\n",
      "           0       0.98      0.97      0.98       192\n",
      "           1       0.97      0.99      0.98       208\n",
      "\n",
      "    accuracy                           0.98       400\n",
      "   macro avg       0.98      0.98      0.98       400\n",
      "weighted avg       0.98      0.98      0.98       400\n",
      "\n"
     ]
    }
   ],
   "source": [
    "y_preds = model.predict(x_test)\n",
    "print(classification_report(y_test, y_preds))"
   ]
  },
  {
   "cell_type": "markdown",
   "id": "5b00d4e1",
   "metadata": {},
   "source": [
    "### New feature creation\n",
    "\n",
    "- ph_vol = phone volume (cm^3)"
   ]
  },
  {
   "cell_type": "code",
   "execution_count": 129,
   "id": "c75ad6ef",
   "metadata": {},
   "outputs": [],
   "source": [
    "new_df = df\n",
    "new_df['ph_vol'] = df['m_dep']* df['sc_h']* df['sc_w']"
   ]
  },
  {
   "cell_type": "code",
   "execution_count": 130,
   "id": "a24890de",
   "metadata": {},
   "outputs": [
    {
     "data": {
      "text/html": [
       "<div>\n",
       "<style scoped>\n",
       "    .dataframe tbody tr th:only-of-type {\n",
       "        vertical-align: middle;\n",
       "    }\n",
       "\n",
       "    .dataframe tbody tr th {\n",
       "        vertical-align: top;\n",
       "    }\n",
       "\n",
       "    .dataframe thead th {\n",
       "        text-align: right;\n",
       "    }\n",
       "</style>\n",
       "<table border=\"1\" class=\"dataframe\">\n",
       "  <thead>\n",
       "    <tr style=\"text-align: right;\">\n",
       "      <th></th>\n",
       "      <th>battery_power</th>\n",
       "      <th>blue</th>\n",
       "      <th>clock_speed</th>\n",
       "      <th>dual_sim</th>\n",
       "      <th>fc</th>\n",
       "      <th>four_g</th>\n",
       "      <th>int_memory</th>\n",
       "      <th>m_dep</th>\n",
       "      <th>mobile_wt</th>\n",
       "      <th>n_cores</th>\n",
       "      <th>...</th>\n",
       "      <th>ram</th>\n",
       "      <th>sc_h</th>\n",
       "      <th>sc_w</th>\n",
       "      <th>talk_time</th>\n",
       "      <th>three_g</th>\n",
       "      <th>touch_screen</th>\n",
       "      <th>wifi</th>\n",
       "      <th>price_range</th>\n",
       "      <th>battery_power_log</th>\n",
       "      <th>ph_vol</th>\n",
       "    </tr>\n",
       "  </thead>\n",
       "  <tbody>\n",
       "    <tr>\n",
       "      <th>0</th>\n",
       "      <td>842</td>\n",
       "      <td>0</td>\n",
       "      <td>2.2</td>\n",
       "      <td>0</td>\n",
       "      <td>1</td>\n",
       "      <td>0</td>\n",
       "      <td>7</td>\n",
       "      <td>0.6</td>\n",
       "      <td>188</td>\n",
       "      <td>2</td>\n",
       "      <td>...</td>\n",
       "      <td>2549</td>\n",
       "      <td>9</td>\n",
       "      <td>7</td>\n",
       "      <td>19</td>\n",
       "      <td>0</td>\n",
       "      <td>0</td>\n",
       "      <td>1</td>\n",
       "      <td>1</td>\n",
       "      <td>6.735780</td>\n",
       "      <td>37.8</td>\n",
       "    </tr>\n",
       "    <tr>\n",
       "      <th>1</th>\n",
       "      <td>1021</td>\n",
       "      <td>1</td>\n",
       "      <td>0.5</td>\n",
       "      <td>1</td>\n",
       "      <td>0</td>\n",
       "      <td>1</td>\n",
       "      <td>53</td>\n",
       "      <td>0.7</td>\n",
       "      <td>136</td>\n",
       "      <td>3</td>\n",
       "      <td>...</td>\n",
       "      <td>2631</td>\n",
       "      <td>17</td>\n",
       "      <td>3</td>\n",
       "      <td>7</td>\n",
       "      <td>1</td>\n",
       "      <td>1</td>\n",
       "      <td>0</td>\n",
       "      <td>2</td>\n",
       "      <td>6.928538</td>\n",
       "      <td>35.7</td>\n",
       "    </tr>\n",
       "    <tr>\n",
       "      <th>2</th>\n",
       "      <td>563</td>\n",
       "      <td>1</td>\n",
       "      <td>0.5</td>\n",
       "      <td>1</td>\n",
       "      <td>2</td>\n",
       "      <td>1</td>\n",
       "      <td>41</td>\n",
       "      <td>0.9</td>\n",
       "      <td>145</td>\n",
       "      <td>5</td>\n",
       "      <td>...</td>\n",
       "      <td>2603</td>\n",
       "      <td>11</td>\n",
       "      <td>2</td>\n",
       "      <td>9</td>\n",
       "      <td>1</td>\n",
       "      <td>1</td>\n",
       "      <td>0</td>\n",
       "      <td>2</td>\n",
       "      <td>6.333280</td>\n",
       "      <td>19.8</td>\n",
       "    </tr>\n",
       "    <tr>\n",
       "      <th>3</th>\n",
       "      <td>615</td>\n",
       "      <td>1</td>\n",
       "      <td>2.5</td>\n",
       "      <td>0</td>\n",
       "      <td>0</td>\n",
       "      <td>0</td>\n",
       "      <td>10</td>\n",
       "      <td>0.8</td>\n",
       "      <td>131</td>\n",
       "      <td>6</td>\n",
       "      <td>...</td>\n",
       "      <td>2769</td>\n",
       "      <td>16</td>\n",
       "      <td>8</td>\n",
       "      <td>11</td>\n",
       "      <td>1</td>\n",
       "      <td>0</td>\n",
       "      <td>0</td>\n",
       "      <td>2</td>\n",
       "      <td>6.421622</td>\n",
       "      <td>102.4</td>\n",
       "    </tr>\n",
       "    <tr>\n",
       "      <th>4</th>\n",
       "      <td>1821</td>\n",
       "      <td>1</td>\n",
       "      <td>1.2</td>\n",
       "      <td>0</td>\n",
       "      <td>13</td>\n",
       "      <td>1</td>\n",
       "      <td>44</td>\n",
       "      <td>0.6</td>\n",
       "      <td>141</td>\n",
       "      <td>2</td>\n",
       "      <td>...</td>\n",
       "      <td>1411</td>\n",
       "      <td>8</td>\n",
       "      <td>2</td>\n",
       "      <td>15</td>\n",
       "      <td>1</td>\n",
       "      <td>1</td>\n",
       "      <td>0</td>\n",
       "      <td>1</td>\n",
       "      <td>7.507141</td>\n",
       "      <td>9.6</td>\n",
       "    </tr>\n",
       "  </tbody>\n",
       "</table>\n",
       "<p>5 rows × 23 columns</p>\n",
       "</div>"
      ],
      "text/plain": [
       "   battery_power  blue  clock_speed  dual_sim  fc  four_g  int_memory  m_dep  \\\n",
       "0            842     0          2.2         0   1       0           7    0.6   \n",
       "1           1021     1          0.5         1   0       1          53    0.7   \n",
       "2            563     1          0.5         1   2       1          41    0.9   \n",
       "3            615     1          2.5         0   0       0          10    0.8   \n",
       "4           1821     1          1.2         0  13       1          44    0.6   \n",
       "\n",
       "   mobile_wt  n_cores  ...   ram  sc_h  sc_w  talk_time  three_g  \\\n",
       "0        188        2  ...  2549     9     7         19        0   \n",
       "1        136        3  ...  2631    17     3          7        1   \n",
       "2        145        5  ...  2603    11     2          9        1   \n",
       "3        131        6  ...  2769    16     8         11        1   \n",
       "4        141        2  ...  1411     8     2         15        1   \n",
       "\n",
       "   touch_screen  wifi  price_range  battery_power_log  ph_vol  \n",
       "0             0     1            1           6.735780    37.8  \n",
       "1             1     0            2           6.928538    35.7  \n",
       "2             1     0            2           6.333280    19.8  \n",
       "3             0     0            2           6.421622   102.4  \n",
       "4             1     0            1           7.507141     9.6  \n",
       "\n",
       "[5 rows x 23 columns]"
      ]
     },
     "execution_count": 130,
     "metadata": {},
     "output_type": "execute_result"
    }
   ],
   "source": [
    "new_df.head()"
   ]
  },
  {
   "cell_type": "code",
   "execution_count": 131,
   "id": "ffb8911c",
   "metadata": {},
   "outputs": [],
   "source": [
    "# Seperate dataset into x(train set) , y(target set)\n",
    "x = new_df.drop([\"price_range\"], axis=1)"
   ]
  },
  {
   "cell_type": "code",
   "execution_count": 132,
   "id": "3eb37114",
   "metadata": {},
   "outputs": [],
   "source": [
    "x_train, x_test, y_train, y_test = train_test_split(x, binary_y, test_size=0.2, random_state=79)"
   ]
  },
  {
   "cell_type": "code",
   "execution_count": 133,
   "id": "232140a0",
   "metadata": {},
   "outputs": [
    {
     "data": {
      "text/plain": [
       "0.975"
      ]
     },
     "execution_count": 133,
     "metadata": {},
     "output_type": "execute_result"
    }
   ],
   "source": [
    "# Create model\n",
    "model = LogisticRegression(solver='liblinear', max_iter=1000)\n",
    "model.fit(x_train, y_train)\n",
    "model.score(x_test, y_test)"
   ]
  },
  {
   "cell_type": "code",
   "execution_count": 134,
   "id": "cb21a5a7",
   "metadata": {},
   "outputs": [
    {
     "name": "stdout",
     "output_type": "stream",
     "text": [
      "              precision    recall  f1-score   support\n",
      "\n",
      "           0       0.98      0.97      0.97       192\n",
      "           1       0.97      0.98      0.98       208\n",
      "\n",
      "    accuracy                           0.97       400\n",
      "   macro avg       0.98      0.97      0.97       400\n",
      "weighted avg       0.98      0.97      0.97       400\n",
      "\n"
     ]
    }
   ],
   "source": [
    "y_preds = model.predict(x_test)\n",
    "print(classification_report(y_test, y_preds))"
   ]
  },
  {
   "cell_type": "markdown",
   "id": "0b7bd573",
   "metadata": {},
   "source": [
    "## Question 7 \n",
    "\n",
    "- Try to make a decision of the tree using the packages on the proposed dataset and perform the pruning of the trees that are also mentioned in the descriptive questions in your model.\n",
    "- check whether this pruning has affected your results."
   ]
  },
  {
   "cell_type": "code",
   "execution_count": 135,
   "id": "c29a6a0a",
   "metadata": {},
   "outputs": [],
   "source": [
    "from sklearn.tree import DecisionTreeClassifier"
   ]
  },
  {
   "cell_type": "code",
   "execution_count": 151,
   "id": "a956dff9",
   "metadata": {},
   "outputs": [],
   "source": [
    "def plot_confusionmatrix(y_train_pred,y_train,dom, classes):\n",
    "    print(f'{dom} Confusion matrix')\n",
    "    cf = confusion_matrix(y_train_pred,y_train)\n",
    "    sns.heatmap(cf,annot=True,yticklabels=classes\n",
    "               ,xticklabels=classes,cmap='Blues', fmt='g')\n",
    "    plt.tight_layout()\n",
    "    plt.show()"
   ]
  },
  {
   "cell_type": "code",
   "execution_count": 136,
   "id": "642b40d7",
   "metadata": {},
   "outputs": [],
   "source": [
    "# Seperate dataset into x(train set) , y(target set)\n",
    "x = df.drop([\"price_range\"], axis=1)\n",
    "x_train, x_test, y_train, y_test = train_test_split(x, binary_y, test_size=0.2, random_state=79)"
   ]
  },
  {
   "cell_type": "code",
   "execution_count": 137,
   "id": "2488a6ce",
   "metadata": {},
   "outputs": [
    {
     "data": {
      "text/plain": [
       "0.945"
      ]
     },
     "execution_count": 137,
     "metadata": {},
     "output_type": "execute_result"
    }
   ],
   "source": [
    "dt_model = DecisionTreeClassifier()\n",
    "dt_model.fit(x_train, y_train)\n",
    "dt_model.score(x_test, y_test)"
   ]
  },
  {
   "cell_type": "code",
   "execution_count": 154,
   "id": "bc0dbe6b",
   "metadata": {},
   "outputs": [
    {
     "name": "stdout",
     "output_type": "stream",
     "text": [
      "Test Confusion matrix\n"
     ]
    },
    {
     "data": {
      "image/png": "[encoded data removed]",
      "text/plain": [
       "<Figure size 432x288 with 2 Axes>"
      ]
     },
     "metadata": {
      "needs_background": "light"
     },
     "output_type": "display_data"
    }
   ],
   "source": [
    "classes = ['cheap','expensive']\n",
    "plot_confusionmatrix(y_preds,y_test,'Test',classes)"
   ]
  },
  {
   "cell_type": "code",
   "execution_count": 138,
   "id": "c903456f",
   "metadata": {},
   "outputs": [
    {
     "name": "stdout",
     "output_type": "stream",
     "text": [
      "              precision    recall  f1-score   support\n",
      "\n",
      "           0       0.98      0.97      0.97       192\n",
      "           1       0.97      0.98      0.98       208\n",
      "\n",
      "    accuracy                           0.97       400\n",
      "   macro avg       0.98      0.97      0.97       400\n",
      "weighted avg       0.98      0.97      0.97       400\n",
      "\n"
     ]
    }
   ],
   "source": [
    "y_preds = model.predict(x_test)\n",
    "print(classification_report(y_test, y_preds))"
   ]
  },
  {
   "cell_type": "code",
   "execution_count": 141,
   "id": "7c891fb5",
   "metadata": {},
   "outputs": [
    {
     "data": {
      "text/plain": [
       "{'ccp_alpha': 0.0,\n",
       " 'class_weight': None,\n",
       " 'criterion': 'gini',\n",
       " 'max_depth': None,\n",
       " 'max_features': None,\n",
       " 'max_leaf_nodes': None,\n",
       " 'min_impurity_decrease': 0.0,\n",
       " 'min_samples_leaf': 1,\n",
       " 'min_samples_split': 2,\n",
       " 'min_weight_fraction_leaf': 0.0,\n",
       " 'random_state': None,\n",
       " 'splitter': 'best'}"
      ]
     },
     "execution_count": 141,
     "metadata": {},
     "output_type": "execute_result"
    }
   ],
   "source": [
    "dt_model.get_params()"
   ]
  },
  {
   "cell_type": "markdown",
   "id": "d51ac8a6",
   "metadata": {},
   "source": [
    "#### Pre pruning techniques\n",
    "\n",
    "- Pre pruning is nothing but stoping the growth of decision tree on an early stage. For that we can limit the growth of trees by setting constrains. We can limit parameters like max_depth , min_samples etc.\n",
    "\n",
    "- An effective way to do is that we can grid search those parameters and choose the optimum values that gives better performace on test data.\n",
    "\n",
    "- As of now we will control these parameters\n",
    "\n",
    "    - max_depth: maximum depth of decision tree\n",
    "    - min_sample_split: The minimum number of samples required to split an internal node:\n",
    "    - min_samples_leaf: The minimum number of samples required to be at a leaf node."
   ]
  },
  {
   "cell_type": "code",
   "execution_count": 175,
   "id": "b0d25802",
   "metadata": {},
   "outputs": [
    {
     "name": "stdout",
     "output_type": "stream",
     "text": [
      "DecisionTreeClassifier(max_depth=10, min_samples_leaf=2, min_samples_split=5)\n"
     ]
    }
   ],
   "source": [
    "params = {'max_depth': [2,4,6,8,10,12],\n",
    "         'min_samples_split': [2,3,4,5,6],\n",
    "         'min_samples_leaf': [1,2,3,4,5,6,7,8,9]}\n",
    "\n",
    "clf = DecisionTreeClassifier()\n",
    "gcv = GridSearchCV(estimator=clf,param_grid=params)\n",
    "gcv.fit(x_train,y_train)\n",
    "model = gcv.best_estimator_\n",
    "print(gcv.best_estimator_)"
   ]
  },
  {
   "cell_type": "code",
   "execution_count": 176,
   "id": "e72f0f77",
   "metadata": {},
   "outputs": [
    {
     "data": {
      "text/plain": [
       "0.97"
      ]
     },
     "execution_count": 176,
     "metadata": {},
     "output_type": "execute_result"
    }
   ],
   "source": [
    "model.fit(x_train,y_train)\n",
    "model.score(x_test,y_test)"
   ]
  },
  {
   "cell_type": "code",
   "execution_count": 177,
   "id": "3d3b6a0a",
   "metadata": {},
   "outputs": [
    {
     "name": "stdout",
     "output_type": "stream",
     "text": [
      "              precision    recall  f1-score   support\n",
      "\n",
      "           0       0.96      0.98      0.97       192\n",
      "           1       0.98      0.96      0.97       208\n",
      "\n",
      "    accuracy                           0.97       400\n",
      "   macro avg       0.97      0.97      0.97       400\n",
      "weighted avg       0.97      0.97      0.97       400\n",
      "\n"
     ]
    }
   ],
   "source": [
    "y_preds = model.predict(x_test)\n",
    "print(classification_report(y_test, y_preds))"
   ]
  },
  {
   "cell_type": "code",
   "execution_count": 178,
   "id": "7f7d9a70",
   "metadata": {},
   "outputs": [
    {
     "name": "stdout",
     "output_type": "stream",
     "text": [
      "Test Confusion matrix\n"
     ]
    },
    {
     "data": {
      "image/png": "[encoded data removed]",
      "text/plain": [
       "<Figure size 432x288 with 2 Axes>"
      ]
     },
     "metadata": {
      "needs_background": "light"
     },
     "output_type": "display_data"
    }
   ],
   "source": [
    "classes = ['cheap','expensive']\n",
    "plot_confusionmatrix(y_preds,y_test,'Test',classes)"
   ]
  },
  {
   "cell_type": "markdown",
   "id": "aa312d50",
   "metadata": {},
   "source": [
    "## Question 8\n",
    "\n",
    "- Implement the Backward Selection feature and implement a logistic regression using the selected features and package help.\n",
    "- Report precision, recall, f1-score criteria and compare the results with the leading feature selection algorithm in Question 1."
   ]
  },
  {
   "cell_type": "code",
   "execution_count": 142,
   "id": "67f3c804",
   "metadata": {},
   "outputs": [],
   "source": [
    "def backward_elimination(data, target,significance_level = 0.05):\n",
    "    features = data.columns.tolist()\n",
    "    while(len(features)>0):\n",
    "        features_with_constant = sm.add_constant(data[features])\n",
    "        p_values = sm.OLS(target, features_with_constant).fit().pvalues[1:]\n",
    "        max_p_value = p_values.max()\n",
    "        if(max_p_value >= significance_level):\n",
    "            excluded_feature = p_values.idxmax()\n",
    "            features.remove(excluded_feature)\n",
    "        else:\n",
    "            break \n",
    "    return features"
   ]
  },
  {
   "cell_type": "code",
   "execution_count": 143,
   "id": "dbb368c1",
   "metadata": {},
   "outputs": [
    {
     "data": {
      "text/plain": [
       "['battery_power', 'n_cores', 'px_height', 'px_width', 'ram']"
      ]
     },
     "execution_count": 143,
     "metadata": {},
     "output_type": "execute_result"
    }
   ],
   "source": [
    "backward_elimination(x, binary_y)"
   ]
  },
  {
   "cell_type": "code",
   "execution_count": 144,
   "id": "ac566af8",
   "metadata": {},
   "outputs": [],
   "source": [
    "# Seperate dataset into x(train set) , y(target set)\n",
    "x = df.drop([\"price_range\"], axis=1)\n",
    "new_x = x[['battery_power', 'n_cores', 'px_height', 'px_width', 'ram']]"
   ]
  },
  {
   "cell_type": "code",
   "execution_count": 145,
   "id": "7db13077",
   "metadata": {},
   "outputs": [],
   "source": [
    "x_train, x_test, y_train, y_test = train_test_split(new_x, binary_y, test_size=0.2, random_state=79)"
   ]
  },
  {
   "cell_type": "code",
   "execution_count": 196,
   "id": "f959ca7b",
   "metadata": {},
   "outputs": [
    {
     "data": {
      "text/plain": [
       "0.9925"
      ]
     },
     "execution_count": 196,
     "metadata": {},
     "output_type": "execute_result"
    }
   ],
   "source": [
    "# Create model\n",
    "model = LogisticRegression()\n",
    "model.fit(x_train, y_train)\n",
    "model.score(x_test, y_test)"
   ]
  },
  {
   "cell_type": "code",
   "execution_count": 197,
   "id": "9ee1090d",
   "metadata": {},
   "outputs": [
    {
     "name": "stdout",
     "output_type": "stream",
     "text": [
      "              precision    recall  f1-score   support\n",
      "\n",
      "           0       0.99      0.99      0.99       192\n",
      "           1       1.00      0.99      0.99       208\n",
      "\n",
      "    accuracy                           0.99       400\n",
      "   macro avg       0.99      0.99      0.99       400\n",
      "weighted avg       0.99      0.99      0.99       400\n",
      "\n"
     ]
    }
   ],
   "source": [
    "y_preds = model.predict(x_test)\n",
    "print(classification_report(y_test, y_preds))"
   ]
  }
 ],
 "metadata": {
  "kernelspec": {
   "display_name": "Python 3 (ipykernel)",
   "language": "python",
   "name": "python3"
  },
  "language_info": {
   "codemirror_mode": {
    "name": "ipython",
    "version": 3
   },
   "file_extension": ".py",
   "mimetype": "text/x-python",
   "name": "python",
   "nbconvert_exporter": "python",
   "pygments_lexer": "ipython3",
   "version": "3.9.7"
  }
 },
 "nbformat": 4,
 "nbformat_minor": 5
}
