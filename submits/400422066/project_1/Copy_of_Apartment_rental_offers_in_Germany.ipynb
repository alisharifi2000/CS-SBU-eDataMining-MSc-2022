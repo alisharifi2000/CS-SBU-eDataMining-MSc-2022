{
  "nbformat": 4,
  "nbformat_minor": 0,
  "metadata": {
    "colab": {
      "name": "Copy of Apartment rental offers in Germany.ipynb",
      "provenance": [],
      "collapsed_sections": [],
      "toc_visible": true,
      "authorship_tag": "ABX9TyNPCJPNMSqABPUU5uYzulPk",
      "include_colab_link": true
    },
    "kernelspec": {
      "name": "python3",
      "display_name": "Python 3"
    },
    "language_info": {
      "name": "python"
    }
  },
  "cells": [
    {
      "cell_type": "markdown",
      "metadata": {
        "id": "view-in-github",
        "colab_type": "text"
      },
      "source": [
        "<a href=\"https://colab.research.google.com/github/Sarach-git/CS-SBU-eDataMining-MSc-2022/blob/400422066/submits/400422066/project_1/Copy_of_Apartment_rental_offers_in_Germany.ipynb\" target=\"_parent\"><img src=\"https://colab.research.google.com/assets/colab-badge.svg\" alt=\"Open In Colab\"/></a>"
      ]
    },
    {
      "cell_type": "markdown",
      "source": [
        "# CS-SBU-eDataMining-MSc-2022\n",
        "Presented by Sara Charmchi  \n",
        "Student ID : 400422066  \n",
        "\n",
        "## Apartment rental offers in Germany\n",
        "Rental offers scraped from Germany biggest real estate online plattform \n",
        "Dataset : https://www.kaggle.com/datasets/corrieaar/apartment-rental-offers-in-germany/code\n"
      ],
      "metadata": {
        "id": "8A3v8x2LcyXZ"
      }
    },
    {
      "cell_type": "markdown",
      "metadata": {
        "id": "Sl740NPgFopv"
      },
      "source": [
        "# Importing libraries"
      ]
    },
    {
      "cell_type": "code",
      "source": [
        "from sklearn import preprocessing\n",
        "import numpy as np\n",
        "import pandas as pd\n",
        "import matplotlib.pyplot as plt\n",
        "import seaborn as sns\n",
        "import folium\n",
        "from folium import plugins\n",
        "import branca.colormap as cm\n",
        "import zipfile\n",
        "from scipy import stats\n",
        "import urllib\n",
        "from geopy.distance import geodesic\n",
        "\n",
        "\n",
        "%matplotlib inline\n",
        "from skimage.io import imread"
      ],
      "metadata": {
        "id": "-UN2_yzGdkSI"
      },
      "execution_count": 1,
      "outputs": []
    },
    {
      "cell_type": "markdown",
      "source": [
        "# Loading Data"
      ],
      "metadata": {
        "id": "bqqdkkoEhKYR"
      }
    },
    {
      "cell_type": "code",
      "source": [
        "from google.colab import files\n",
        "files.upload()"
      ],
      "metadata": {
        "colab": {
          "resources": {
            "http://localhost:8080/nbextensions/google.colab/files.js": {
              "data": "Ly8gQ29weXJpZ2h0IDIwMTcgR29vZ2xlIExMQwovLwovLyBMaWNlbnNlZCB1bmRlciB0aGUgQXBhY2hlIExpY2Vuc2UsIFZlcnNpb24gMi4wICh0aGUgIkxpY2Vuc2UiKTsKLy8geW91IG1heSBub3QgdXNlIHRoaXMgZmlsZSBleGNlcHQgaW4gY29tcGxpYW5jZSB3aXRoIHRoZSBMaWNlbnNlLgovLyBZb3UgbWF5IG9idGFpbiBhIGNvcHkgb2YgdGhlIExpY2Vuc2UgYXQKLy8KLy8gICAgICBodHRwOi8vd3d3LmFwYWNoZS5vcmcvbGljZW5zZXMvTElDRU5TRS0yLjAKLy8KLy8gVW5sZXNzIHJlcXVpcmVkIGJ5IGFwcGxpY2FibGUgbGF3IG9yIGFncmVlZCB0byBpbiB3cml0aW5nLCBzb2Z0d2FyZQovLyBkaXN0cmlidXRlZCB1bmRlciB0aGUgTGljZW5zZSBpcyBkaXN0cmlidXRlZCBvbiBhbiAiQVMgSVMiIEJBU0lTLAovLyBXSVRIT1VUIFdBUlJBTlRJRVMgT1IgQ09ORElUSU9OUyBPRiBBTlkgS0lORCwgZWl0aGVyIGV4cHJlc3Mgb3IgaW1wbGllZC4KLy8gU2VlIHRoZSBMaWNlbnNlIGZvciB0aGUgc3BlY2lmaWMgbGFuZ3VhZ2UgZ292ZXJuaW5nIHBlcm1pc3Npb25zIGFuZAovLyBsaW1pdGF0aW9ucyB1bmRlciB0aGUgTGljZW5zZS4KCi8qKgogKiBAZmlsZW92ZXJ2aWV3IEhlbHBlcnMgZm9yIGdvb2dsZS5jb2xhYiBQeXRob24gbW9kdWxlLgogKi8KKGZ1bmN0aW9uKHNjb3BlKSB7CmZ1bmN0aW9uIHNwYW4odGV4dCwgc3R5bGVBdHRyaWJ1dGVzID0ge30pIHsKICBjb25zdCBlbGVtZW50ID0gZG9jdW1lbnQuY3JlYXRlRWxlbWVudCgnc3BhbicpOwogIGVsZW1lbnQudGV4dENvbnRlbnQgPSB0ZXh0OwogIGZvciAoY29uc3Qga2V5IG9mIE9iamVjdC5rZXlzKHN0eWxlQXR0cmlidXRlcykpIHsKICAgIGVsZW1lbnQuc3R5bGVba2V5XSA9IHN0eWxlQXR0cmlidXRlc1trZXldOwogIH0KICByZXR1cm4gZWxlbWVudDsKfQoKLy8gTWF4IG51bWJlciBvZiBieXRlcyB3aGljaCB3aWxsIGJlIHVwbG9hZGVkIGF0IGEgdGltZS4KY29uc3QgTUFYX1BBWUxPQURfU0laRSA9IDEwMCAqIDEwMjQ7CgpmdW5jdGlvbiBfdXBsb2FkRmlsZXMoaW5wdXRJZCwgb3V0cHV0SWQpIHsKICBjb25zdCBzdGVwcyA9IHVwbG9hZEZpbGVzU3RlcChpbnB1dElkLCBvdXRwdXRJZCk7CiAgY29uc3Qgb3V0cHV0RWxlbWVudCA9IGRvY3VtZW50LmdldEVsZW1lbnRCeUlkKG91dHB1dElkKTsKICAvLyBDYWNoZSBzdGVwcyBvbiB0aGUgb3V0cHV0RWxlbWVudCB0byBtYWtlIGl0IGF2YWlsYWJsZSBmb3IgdGhlIG5leHQgY2FsbAogIC8vIHRvIHVwbG9hZEZpbGVzQ29udGludWUgZnJvbSBQeXRob24uCiAgb3V0cHV0RWxlbWVudC5zdGVwcyA9IHN0ZXBzOwoKICByZXR1cm4gX3VwbG9hZEZpbGVzQ29udGludWUob3V0cHV0SWQpOwp9CgovLyBUaGlzIGlzIHJvdWdobHkgYW4gYXN5bmMgZ2VuZXJhdG9yIChub3Qgc3VwcG9ydGVkIGluIHRoZSBicm93c2VyIHlldCksCi8vIHdoZXJlIHRoZXJlIGFyZSBtdWx0aXBsZSBhc3luY2hyb25vdXMgc3RlcHMgYW5kIHRoZSBQeXRob24gc2lkZSBpcyBnb2luZwovLyB0byBwb2xsIGZvciBjb21wbGV0aW9uIG9mIGVhY2ggc3RlcC4KLy8gVGhpcyB1c2VzIGEgUHJvbWlzZSB0byBibG9jayB0aGUgcHl0aG9uIHNpZGUgb24gY29tcGxldGlvbiBvZiBlYWNoIHN0ZXAsCi8vIHRoZW4gcGFzc2VzIHRoZSByZXN1bHQgb2YgdGhlIHByZXZpb3VzIHN0ZXAgYXMgdGhlIGlucHV0IHRvIHRoZSBuZXh0IHN0ZXAuCmZ1bmN0aW9uIF91cGxvYWRGaWxlc0NvbnRpbnVlKG91dHB1dElkKSB7CiAgY29uc3Qgb3V0cHV0RWxlbWVudCA9IGRvY3VtZW50LmdldEVsZW1lbnRCeUlkKG91dHB1dElkKTsKICBjb25zdCBzdGVwcyA9IG91dHB1dEVsZW1lbnQuc3RlcHM7CgogIGNvbnN0IG5leHQgPSBzdGVwcy5uZXh0KG91dHB1dEVsZW1lbnQubGFzdFByb21pc2VWYWx1ZSk7CiAgcmV0dXJuIFByb21pc2UucmVzb2x2ZShuZXh0LnZhbHVlLnByb21pc2UpLnRoZW4oKHZhbHVlKSA9PiB7CiAgICAvLyBDYWNoZSB0aGUgbGFzdCBwcm9taXNlIHZhbHVlIHRvIG1ha2UgaXQgYXZhaWxhYmxlIHRvIHRoZSBuZXh0CiAgICAvLyBzdGVwIG9mIHRoZSBnZW5lcmF0b3IuCiAgICBvdXRwdXRFbGVtZW50Lmxhc3RQcm9taXNlVmFsdWUgPSB2YWx1ZTsKICAgIHJldHVybiBuZXh0LnZhbHVlLnJlc3BvbnNlOwogIH0pOwp9CgovKioKICogR2VuZXJhdG9yIGZ1bmN0aW9uIHdoaWNoIGlzIGNhbGxlZCBiZXR3ZWVuIGVhY2ggYXN5bmMgc3RlcCBvZiB0aGUgdXBsb2FkCiAqIHByb2Nlc3MuCiAqIEBwYXJhbSB7c3RyaW5nfSBpbnB1dElkIEVsZW1lbnQgSUQgb2YgdGhlIGlucHV0IGZpbGUgcGlja2VyIGVsZW1lbnQuCiAqIEBwYXJhbSB7c3RyaW5nfSBvdXRwdXRJZCBFbGVtZW50IElEIG9mIHRoZSBvdXRwdXQgZGlzcGxheS4KICogQHJldHVybiB7IUl0ZXJhYmxlPCFPYmplY3Q+fSBJdGVyYWJsZSBvZiBuZXh0IHN0ZXBzLgogKi8KZnVuY3Rpb24qIHVwbG9hZEZpbGVzU3RlcChpbnB1dElkLCBvdXRwdXRJZCkgewogIGNvbnN0IGlucHV0RWxlbWVudCA9IGRvY3VtZW50LmdldEVsZW1lbnRCeUlkKGlucHV0SWQpOwogIGlucHV0RWxlbWVudC5kaXNhYmxlZCA9IGZhbHNlOwoKICBjb25zdCBvdXRwdXRFbGVtZW50ID0gZG9jdW1lbnQuZ2V0RWxlbWVudEJ5SWQob3V0cHV0SWQpOwogIG91dHB1dEVsZW1lbnQuaW5uZXJIVE1MID0gJyc7CgogIGNvbnN0IHBpY2tlZFByb21pc2UgPSBuZXcgUHJvbWlzZSgocmVzb2x2ZSkgPT4gewogICAgaW5wdXRFbGVtZW50LmFkZEV2ZW50TGlzdGVuZXIoJ2NoYW5nZScsIChlKSA9PiB7CiAgICAgIHJlc29sdmUoZS50YXJnZXQuZmlsZXMpOwogICAgfSk7CiAgfSk7CgogIGNvbnN0IGNhbmNlbCA9IGRvY3VtZW50LmNyZWF0ZUVsZW1lbnQoJ2J1dHRvbicpOwogIGlucHV0RWxlbWVudC5wYXJlbnRFbGVtZW50LmFwcGVuZENoaWxkKGNhbmNlbCk7CiAgY2FuY2VsLnRleHRDb250ZW50ID0gJ0NhbmNlbCB1cGxvYWQnOwogIGNvbnN0IGNhbmNlbFByb21pc2UgPSBuZXcgUHJvbWlzZSgocmVzb2x2ZSkgPT4gewogICAgY2FuY2VsLm9uY2xpY2sgPSAoKSA9PiB7CiAgICAgIHJlc29sdmUobnVsbCk7CiAgICB9OwogIH0pOwoKICAvLyBXYWl0IGZvciB0aGUgdXNlciB0byBwaWNrIHRoZSBmaWxlcy4KICBjb25zdCBmaWxlcyA9IHlpZWxkIHsKICAgIHByb21pc2U6IFByb21pc2UucmFjZShbcGlja2VkUHJvbWlzZSwgY2FuY2VsUHJvbWlzZV0pLAogICAgcmVzcG9uc2U6IHsKICAgICAgYWN0aW9uOiAnc3RhcnRpbmcnLAogICAgfQogIH07CgogIGNhbmNlbC5yZW1vdmUoKTsKCiAgLy8gRGlzYWJsZSB0aGUgaW5wdXQgZWxlbWVudCBzaW5jZSBmdXJ0aGVyIHBpY2tzIGFyZSBub3QgYWxsb3dlZC4KICBpbnB1dEVsZW1lbnQuZGlzYWJsZWQgPSB0cnVlOwoKICBpZiAoIWZpbGVzKSB7CiAgICByZXR1cm4gewogICAgICByZXNwb25zZTogewogICAgICAgIGFjdGlvbjogJ2NvbXBsZXRlJywKICAgICAgfQogICAgfTsKICB9CgogIGZvciAoY29uc3QgZmlsZSBvZiBmaWxlcykgewogICAgY29uc3QgbGkgPSBkb2N1bWVudC5jcmVhdGVFbGVtZW50KCdsaScpOwogICAgbGkuYXBwZW5kKHNwYW4oZmlsZS5uYW1lLCB7Zm9udFdlaWdodDogJ2JvbGQnfSkpOwogICAgbGkuYXBwZW5kKHNwYW4oCiAgICAgICAgYCgke2ZpbGUudHlwZSB8fCAnbi9hJ30pIC0gJHtmaWxlLnNpemV9IGJ5dGVzLCBgICsKICAgICAgICBgbGFzdCBtb2RpZmllZDogJHsKICAgICAgICAgICAgZmlsZS5sYXN0TW9kaWZpZWREYXRlID8gZmlsZS5sYXN0TW9kaWZpZWREYXRlLnRvTG9jYWxlRGF0ZVN0cmluZygpIDoKICAgICAgICAgICAgICAgICAgICAgICAgICAgICAgICAgICAgJ24vYSd9IC0gYCkpOwogICAgY29uc3QgcGVyY2VudCA9IHNwYW4oJzAlIGRvbmUnKTsKICAgIGxpLmFwcGVuZENoaWxkKHBlcmNlbnQpOwoKICAgIG91dHB1dEVsZW1lbnQuYXBwZW5kQ2hpbGQobGkpOwoKICAgIGNvbnN0IGZpbGVEYXRhUHJvbWlzZSA9IG5ldyBQcm9taXNlKChyZXNvbHZlKSA9PiB7CiAgICAgIGNvbnN0IHJlYWRlciA9IG5ldyBGaWxlUmVhZGVyKCk7CiAgICAgIHJlYWRlci5vbmxvYWQgPSAoZSkgPT4gewogICAgICAgIHJlc29sdmUoZS50YXJnZXQucmVzdWx0KTsKICAgICAgfTsKICAgICAgcmVhZGVyLnJlYWRBc0FycmF5QnVmZmVyKGZpbGUpOwogICAgfSk7CiAgICAvLyBXYWl0IGZvciB0aGUgZGF0YSB0byBiZSByZWFkeS4KICAgIGxldCBmaWxlRGF0YSA9IHlpZWxkIHsKICAgICAgcHJvbWlzZTogZmlsZURhdGFQcm9taXNlLAogICAgICByZXNwb25zZTogewogICAgICAgIGFjdGlvbjogJ2NvbnRpbnVlJywKICAgICAgfQogICAgfTsKCiAgICAvLyBVc2UgYSBjaHVua2VkIHNlbmRpbmcgdG8gYXZvaWQgbWVzc2FnZSBzaXplIGxpbWl0cy4gU2VlIGIvNjIxMTU2NjAuCiAgICBsZXQgcG9zaXRpb24gPSAwOwogICAgZG8gewogICAgICBjb25zdCBsZW5ndGggPSBNYXRoLm1pbihmaWxlRGF0YS5ieXRlTGVuZ3RoIC0gcG9zaXRpb24sIE1BWF9QQVlMT0FEX1NJWkUpOwogICAgICBjb25zdCBjaHVuayA9IG5ldyBVaW50OEFycmF5KGZpbGVEYXRhLCBwb3NpdGlvbiwgbGVuZ3RoKTsKICAgICAgcG9zaXRpb24gKz0gbGVuZ3RoOwoKICAgICAgY29uc3QgYmFzZTY0ID0gYnRvYShTdHJpbmcuZnJvbUNoYXJDb2RlLmFwcGx5KG51bGwsIGNodW5rKSk7CiAgICAgIHlpZWxkIHsKICAgICAgICByZXNwb25zZTogewogICAgICAgICAgYWN0aW9uOiAnYXBwZW5kJywKICAgICAgICAgIGZpbGU6IGZpbGUubmFtZSwKICAgICAgICAgIGRhdGE6IGJhc2U2NCwKICAgICAgICB9LAogICAgICB9OwoKICAgICAgbGV0IHBlcmNlbnREb25lID0gZmlsZURhdGEuYnl0ZUxlbmd0aCA9PT0gMCA/CiAgICAgICAgICAxMDAgOgogICAgICAgICAgTWF0aC5yb3VuZCgocG9zaXRpb24gLyBmaWxlRGF0YS5ieXRlTGVuZ3RoKSAqIDEwMCk7CiAgICAgIHBlcmNlbnQudGV4dENvbnRlbnQgPSBgJHtwZXJjZW50RG9uZX0lIGRvbmVgOwoKICAgIH0gd2hpbGUgKHBvc2l0aW9uIDwgZmlsZURhdGEuYnl0ZUxlbmd0aCk7CiAgfQoKICAvLyBBbGwgZG9uZS4KICB5aWVsZCB7CiAgICByZXNwb25zZTogewogICAgICBhY3Rpb246ICdjb21wbGV0ZScsCiAgICB9CiAgfTsKfQoKc2NvcGUuZ29vZ2xlID0gc2NvcGUuZ29vZ2xlIHx8IHt9OwpzY29wZS5nb29nbGUuY29sYWIgPSBzY29wZS5nb29nbGUuY29sYWIgfHwge307CnNjb3BlLmdvb2dsZS5jb2xhYi5fZmlsZXMgPSB7CiAgX3VwbG9hZEZpbGVzLAogIF91cGxvYWRGaWxlc0NvbnRpbnVlLAp9Owp9KShzZWxmKTsK",
              "ok": true,
              "headers": [
                [
                  "content-type",
                  "application/javascript"
                ]
              ],
              "status": 200,
              "status_text": ""
            }
          },
          "base_uri": "https://localhost:8080/",
          "height": 92
        },
        "id": "rmndTdwydtEP",
        "outputId": "ac334d84-3d10-444a-922a-1bd88f657c8d"
      },
      "execution_count": 2,
      "outputs": [
        {
          "output_type": "display_data",
          "data": {
            "text/plain": [
              "<IPython.core.display.HTML object>"
            ],
            "text/html": [
              "\n",
              "     <input type=\"file\" id=\"files-e4a686ce-ac82-46ca-ae4b-42f72986fe44\" name=\"files[]\" multiple disabled\n",
              "        style=\"border:none\" />\n",
              "     <output id=\"result-e4a686ce-ac82-46ca-ae4b-42f72986fe44\">\n",
              "      Upload widget is only available when the cell has been executed in the\n",
              "      current browser session. Please rerun this cell to enable.\n",
              "      </output>\n",
              "      <script src=\"/nbextensions/google.colab/files.js\"></script> "
            ]
          },
          "metadata": {}
        },
        {
          "output_type": "stream",
          "name": "stdout",
          "text": [
            "Saving kaggle.json to kaggle.json\n"
          ]
        },
        {
          "output_type": "execute_result",
          "data": {
            "text/plain": [
              "{'kaggle.json': b'{\"username\":\"saracharmchi\",\"key\":\"06b771d04d3c49745c3e9246ff2d5a31\"}'}"
            ]
          },
          "metadata": {},
          "execution_count": 2
        }
      ]
    },
    {
      "cell_type": "code",
      "source": [
        "!mkdir -p ~/.kaggle\n",
        "!cp kaggle.json ~/.kaggle/\n",
        "!chmod 600 ~/.kaggle/kaggle.json"
      ],
      "metadata": {
        "id": "wzqx_tTud4Ae"
      },
      "execution_count": 3,
      "outputs": []
    },
    {
      "cell_type": "code",
      "source": [
        "!kaggle datasets download -d corrieaar/apartment-rental-offers-in-germany"
      ],
      "metadata": {
        "colab": {
          "base_uri": "https://localhost:8080/"
        },
        "id": "XFG2NpDpeS8H",
        "outputId": "0fa81bed-9f1d-445d-d313-c5e7a04fa24e"
      },
      "execution_count": 4,
      "outputs": [
        {
          "output_type": "stream",
          "name": "stdout",
          "text": [
            "Downloading apartment-rental-offers-in-germany.zip to /content\n",
            " 98% 91.0M/93.0M [00:01<00:00, 59.5MB/s]\n",
            "100% 93.0M/93.0M [00:01<00:00, 55.9MB/s]\n"
          ]
        }
      ]
    },
    {
      "cell_type": "code",
      "source": [
        "!ls"
      ],
      "metadata": {
        "colab": {
          "base_uri": "https://localhost:8080/"
        },
        "id": "RGtvxxkYeX-h",
        "outputId": "713b879b-f514-4247-c853-f173c35afa77"
      },
      "execution_count": 5,
      "outputs": [
        {
          "output_type": "stream",
          "name": "stdout",
          "text": [
            "apartment-rental-offers-in-germany.zip\tkaggle.json  sample_data\n"
          ]
        }
      ]
    },
    {
      "cell_type": "code",
      "source": [
        "zip_ref = zipfile.ZipFile('apartment-rental-offers-in-germany.zip', 'r')\n",
        "zip_ref.extractall('files')\n",
        "zip_ref.close()"
      ],
      "metadata": {
        "id": "RBytihjNeaDb"
      },
      "execution_count": 6,
      "outputs": []
    },
    {
      "cell_type": "code",
      "source": [
        "df=pd.read_csv('/content/files/immo_data.csv')"
      ],
      "metadata": {
        "id": "UJ5WOetTen4G"
      },
      "execution_count": 7,
      "outputs": []
    },
    {
      "cell_type": "code",
      "source": [
        "df.head()"
      ],
      "metadata": {
        "colab": {
          "base_uri": "https://localhost:8080/",
          "height": 577
        },
        "id": "u_5ZGIgQfzEK",
        "outputId": "74badd11-fec9-404c-e6f5-4507a31148cb"
      },
      "execution_count": 8,
      "outputs": [
        {
          "output_type": "execute_result",
          "data": {
            "text/plain": [
              "                regio1  serviceCharge                     heatingType  \\\n",
              "0  Nordrhein_Westfalen         245.00                 central_heating   \n",
              "1      Rheinland_Pfalz         134.00  self_contained_central_heating   \n",
              "2              Sachsen         255.00                   floor_heating   \n",
              "3              Sachsen          58.15                district_heating   \n",
              "4               Bremen         138.00  self_contained_central_heating   \n",
              "\n",
              "  telekomTvOffer  telekomHybridUploadSpeed  newlyConst  balcony  picturecount  \\\n",
              "0  ONE_YEAR_FREE                       NaN       False    False             6   \n",
              "1  ONE_YEAR_FREE                       NaN       False     True             8   \n",
              "2  ONE_YEAR_FREE                      10.0        True     True             8   \n",
              "3  ONE_YEAR_FREE                       NaN       False     True             9   \n",
              "4            NaN                       NaN       False     True            19   \n",
              "\n",
              "   pricetrend  telekomUploadSpeed  ...               regio2  \\\n",
              "0        4.62                10.0  ...             Dortmund   \n",
              "1        3.47                10.0  ...    Rhein_Pfalz_Kreis   \n",
              "2        2.72                 2.4  ...              Dresden   \n",
              "3        1.53                40.0  ...  Mittelsachsen_Kreis   \n",
              "4        2.46                 NaN  ...               Bremen   \n",
              "\n",
              "                       regio3  \\\n",
              "0                     Schüren   \n",
              "1              Böhl_Iggelheim   \n",
              "2  Äußere_Neustadt_Antonstadt   \n",
              "3                    Freiberg   \n",
              "4           Neu_Schwachhausen   \n",
              "\n",
              "                                         description  \\\n",
              "0  Die ebenerdig zu erreichende Erdgeschosswohnun...   \n",
              "1  Alles neu macht der Mai – so kann es auch für ...   \n",
              "2  Der Neubau entsteht im Herzen der Dresdner Neu...   \n",
              "3  Abseits von Lärm und Abgasen in Ihre neue Wohn...   \n",
              "4  Es handelt sich hier um ein saniertes Mehrfami...   \n",
              "\n",
              "                                          facilities heatingCosts  \\\n",
              "0  Die Wohnung ist mit Laminat ausgelegt. Das Bad...          NaN   \n",
              "1                                                NaN          NaN   \n",
              "2  * 9 m² Balkon\\n* Bad mit bodengleicher Dusche,...          NaN   \n",
              "3                                                NaN        87.23   \n",
              "4  Diese Wohnung wurde neu saniert und ist wie fo...          NaN   \n",
              "\n",
              "   energyEfficiencyClass lastRefurbish  electricityBasePrice  \\\n",
              "0                    NaN           NaN                   NaN   \n",
              "1                    NaN        2019.0                   NaN   \n",
              "2                    NaN           NaN                   NaN   \n",
              "3                    NaN           NaN                   NaN   \n",
              "4                    NaN           NaN                   NaN   \n",
              "\n",
              "   electricityKwhPrice   date  \n",
              "0                  NaN  May19  \n",
              "1                  NaN  May19  \n",
              "2                  NaN  Oct19  \n",
              "3                  NaN  May19  \n",
              "4                  NaN  Feb20  \n",
              "\n",
              "[5 rows x 49 columns]"
            ],
            "text/html": [
              "\n",
              "  <div id=\"df-ca7cd32a-8096-4a2d-a953-e11ad4b09727\">\n",
              "    <div class=\"colab-df-container\">\n",
              "      <div>\n",
              "<style scoped>\n",
              "    .dataframe tbody tr th:only-of-type {\n",
              "        vertical-align: middle;\n",
              "    }\n",
              "\n",
              "    .dataframe tbody tr th {\n",
              "        vertical-align: top;\n",
              "    }\n",
              "\n",
              "    .dataframe thead th {\n",
              "        text-align: right;\n",
              "    }\n",
              "</style>\n",
              "<table border=\"1\" class=\"dataframe\">\n",
              "  <thead>\n",
              "    <tr style=\"text-align: right;\">\n",
              "      <th></th>\n",
              "      <th>regio1</th>\n",
              "      <th>serviceCharge</th>\n",
              "      <th>heatingType</th>\n",
              "      <th>telekomTvOffer</th>\n",
              "      <th>telekomHybridUploadSpeed</th>\n",
              "      <th>newlyConst</th>\n",
              "      <th>balcony</th>\n",
              "      <th>picturecount</th>\n",
              "      <th>pricetrend</th>\n",
              "      <th>telekomUploadSpeed</th>\n",
              "      <th>...</th>\n",
              "      <th>regio2</th>\n",
              "      <th>regio3</th>\n",
              "      <th>description</th>\n",
              "      <th>facilities</th>\n",
              "      <th>heatingCosts</th>\n",
              "      <th>energyEfficiencyClass</th>\n",
              "      <th>lastRefurbish</th>\n",
              "      <th>electricityBasePrice</th>\n",
              "      <th>electricityKwhPrice</th>\n",
              "      <th>date</th>\n",
              "    </tr>\n",
              "  </thead>\n",
              "  <tbody>\n",
              "    <tr>\n",
              "      <th>0</th>\n",
              "      <td>Nordrhein_Westfalen</td>\n",
              "      <td>245.00</td>\n",
              "      <td>central_heating</td>\n",
              "      <td>ONE_YEAR_FREE</td>\n",
              "      <td>NaN</td>\n",
              "      <td>False</td>\n",
              "      <td>False</td>\n",
              "      <td>6</td>\n",
              "      <td>4.62</td>\n",
              "      <td>10.0</td>\n",
              "      <td>...</td>\n",
              "      <td>Dortmund</td>\n",
              "      <td>Schüren</td>\n",
              "      <td>Die ebenerdig zu erreichende Erdgeschosswohnun...</td>\n",
              "      <td>Die Wohnung ist mit Laminat ausgelegt. Das Bad...</td>\n",
              "      <td>NaN</td>\n",
              "      <td>NaN</td>\n",
              "      <td>NaN</td>\n",
              "      <td>NaN</td>\n",
              "      <td>NaN</td>\n",
              "      <td>May19</td>\n",
              "    </tr>\n",
              "    <tr>\n",
              "      <th>1</th>\n",
              "      <td>Rheinland_Pfalz</td>\n",
              "      <td>134.00</td>\n",
              "      <td>self_contained_central_heating</td>\n",
              "      <td>ONE_YEAR_FREE</td>\n",
              "      <td>NaN</td>\n",
              "      <td>False</td>\n",
              "      <td>True</td>\n",
              "      <td>8</td>\n",
              "      <td>3.47</td>\n",
              "      <td>10.0</td>\n",
              "      <td>...</td>\n",
              "      <td>Rhein_Pfalz_Kreis</td>\n",
              "      <td>Böhl_Iggelheim</td>\n",
              "      <td>Alles neu macht der Mai – so kann es auch für ...</td>\n",
              "      <td>NaN</td>\n",
              "      <td>NaN</td>\n",
              "      <td>NaN</td>\n",
              "      <td>2019.0</td>\n",
              "      <td>NaN</td>\n",
              "      <td>NaN</td>\n",
              "      <td>May19</td>\n",
              "    </tr>\n",
              "    <tr>\n",
              "      <th>2</th>\n",
              "      <td>Sachsen</td>\n",
              "      <td>255.00</td>\n",
              "      <td>floor_heating</td>\n",
              "      <td>ONE_YEAR_FREE</td>\n",
              "      <td>10.0</td>\n",
              "      <td>True</td>\n",
              "      <td>True</td>\n",
              "      <td>8</td>\n",
              "      <td>2.72</td>\n",
              "      <td>2.4</td>\n",
              "      <td>...</td>\n",
              "      <td>Dresden</td>\n",
              "      <td>Äußere_Neustadt_Antonstadt</td>\n",
              "      <td>Der Neubau entsteht im Herzen der Dresdner Neu...</td>\n",
              "      <td>* 9 m² Balkon\\n* Bad mit bodengleicher Dusche,...</td>\n",
              "      <td>NaN</td>\n",
              "      <td>NaN</td>\n",
              "      <td>NaN</td>\n",
              "      <td>NaN</td>\n",
              "      <td>NaN</td>\n",
              "      <td>Oct19</td>\n",
              "    </tr>\n",
              "    <tr>\n",
              "      <th>3</th>\n",
              "      <td>Sachsen</td>\n",
              "      <td>58.15</td>\n",
              "      <td>district_heating</td>\n",
              "      <td>ONE_YEAR_FREE</td>\n",
              "      <td>NaN</td>\n",
              "      <td>False</td>\n",
              "      <td>True</td>\n",
              "      <td>9</td>\n",
              "      <td>1.53</td>\n",
              "      <td>40.0</td>\n",
              "      <td>...</td>\n",
              "      <td>Mittelsachsen_Kreis</td>\n",
              "      <td>Freiberg</td>\n",
              "      <td>Abseits von Lärm und Abgasen in Ihre neue Wohn...</td>\n",
              "      <td>NaN</td>\n",
              "      <td>87.23</td>\n",
              "      <td>NaN</td>\n",
              "      <td>NaN</td>\n",
              "      <td>NaN</td>\n",
              "      <td>NaN</td>\n",
              "      <td>May19</td>\n",
              "    </tr>\n",
              "    <tr>\n",
              "      <th>4</th>\n",
              "      <td>Bremen</td>\n",
              "      <td>138.00</td>\n",
              "      <td>self_contained_central_heating</td>\n",
              "      <td>NaN</td>\n",
              "      <td>NaN</td>\n",
              "      <td>False</td>\n",
              "      <td>True</td>\n",
              "      <td>19</td>\n",
              "      <td>2.46</td>\n",
              "      <td>NaN</td>\n",
              "      <td>...</td>\n",
              "      <td>Bremen</td>\n",
              "      <td>Neu_Schwachhausen</td>\n",
              "      <td>Es handelt sich hier um ein saniertes Mehrfami...</td>\n",
              "      <td>Diese Wohnung wurde neu saniert und ist wie fo...</td>\n",
              "      <td>NaN</td>\n",
              "      <td>NaN</td>\n",
              "      <td>NaN</td>\n",
              "      <td>NaN</td>\n",
              "      <td>NaN</td>\n",
              "      <td>Feb20</td>\n",
              "    </tr>\n",
              "  </tbody>\n",
              "</table>\n",
              "<p>5 rows × 49 columns</p>\n",
              "</div>\n",
              "      <button class=\"colab-df-convert\" onclick=\"convertToInteractive('df-ca7cd32a-8096-4a2d-a953-e11ad4b09727')\"\n",
              "              title=\"Convert this dataframe to an interactive table.\"\n",
              "              style=\"display:none;\">\n",
              "        \n",
              "  <svg xmlns=\"http://www.w3.org/2000/svg\" height=\"24px\"viewBox=\"0 0 24 24\"\n",
              "       width=\"24px\">\n",
              "    <path d=\"M0 0h24v24H0V0z\" fill=\"none\"/>\n",
              "    <path d=\"M18.56 5.44l.94 2.06.94-2.06 2.06-.94-2.06-.94-.94-2.06-.94 2.06-2.06.94zm-11 1L8.5 8.5l.94-2.06 2.06-.94-2.06-.94L8.5 2.5l-.94 2.06-2.06.94zm10 10l.94 2.06.94-2.06 2.06-.94-2.06-.94-.94-2.06-.94 2.06-2.06.94z\"/><path d=\"M17.41 7.96l-1.37-1.37c-.4-.4-.92-.59-1.43-.59-.52 0-1.04.2-1.43.59L10.3 9.45l-7.72 7.72c-.78.78-.78 2.05 0 2.83L4 21.41c.39.39.9.59 1.41.59.51 0 1.02-.2 1.41-.59l7.78-7.78 2.81-2.81c.8-.78.8-2.07 0-2.86zM5.41 20L4 18.59l7.72-7.72 1.47 1.35L5.41 20z\"/>\n",
              "  </svg>\n",
              "      </button>\n",
              "      \n",
              "  <style>\n",
              "    .colab-df-container {\n",
              "      display:flex;\n",
              "      flex-wrap:wrap;\n",
              "      gap: 12px;\n",
              "    }\n",
              "\n",
              "    .colab-df-convert {\n",
              "      background-color: #E8F0FE;\n",
              "      border: none;\n",
              "      border-radius: 50%;\n",
              "      cursor: pointer;\n",
              "      display: none;\n",
              "      fill: #1967D2;\n",
              "      height: 32px;\n",
              "      padding: 0 0 0 0;\n",
              "      width: 32px;\n",
              "    }\n",
              "\n",
              "    .colab-df-convert:hover {\n",
              "      background-color: #E2EBFA;\n",
              "      box-shadow: 0px 1px 2px rgba(60, 64, 67, 0.3), 0px 1px 3px 1px rgba(60, 64, 67, 0.15);\n",
              "      fill: #174EA6;\n",
              "    }\n",
              "\n",
              "    [theme=dark] .colab-df-convert {\n",
              "      background-color: #3B4455;\n",
              "      fill: #D2E3FC;\n",
              "    }\n",
              "\n",
              "    [theme=dark] .colab-df-convert:hover {\n",
              "      background-color: #434B5C;\n",
              "      box-shadow: 0px 1px 3px 1px rgba(0, 0, 0, 0.15);\n",
              "      filter: drop-shadow(0px 1px 2px rgba(0, 0, 0, 0.3));\n",
              "      fill: #FFFFFF;\n",
              "    }\n",
              "  </style>\n",
              "\n",
              "      <script>\n",
              "        const buttonEl =\n",
              "          document.querySelector('#df-ca7cd32a-8096-4a2d-a953-e11ad4b09727 button.colab-df-convert');\n",
              "        buttonEl.style.display =\n",
              "          google.colab.kernel.accessAllowed ? 'block' : 'none';\n",
              "\n",
              "        async function convertToInteractive(key) {\n",
              "          const element = document.querySelector('#df-ca7cd32a-8096-4a2d-a953-e11ad4b09727');\n",
              "          const dataTable =\n",
              "            await google.colab.kernel.invokeFunction('convertToInteractive',\n",
              "                                                     [key], {});\n",
              "          if (!dataTable) return;\n",
              "\n",
              "          const docLinkHtml = 'Like what you see? Visit the ' +\n",
              "            '<a target=\"_blank\" href=https://colab.research.google.com/notebooks/data_table.ipynb>data table notebook</a>'\n",
              "            + ' to learn more about interactive tables.';\n",
              "          element.innerHTML = '';\n",
              "          dataTable['output_type'] = 'display_data';\n",
              "          await google.colab.output.renderOutput(dataTable, element);\n",
              "          const docLink = document.createElement('div');\n",
              "          docLink.innerHTML = docLinkHtml;\n",
              "          element.appendChild(docLink);\n",
              "        }\n",
              "      </script>\n",
              "    </div>\n",
              "  </div>\n",
              "  "
            ]
          },
          "metadata": {},
          "execution_count": 8
        }
      ]
    },
    {
      "cell_type": "code",
      "source": [
        "df.info()"
      ],
      "metadata": {
        "colab": {
          "base_uri": "https://localhost:8080/"
        },
        "id": "983pQYG4gCUN",
        "outputId": "1cf609f3-60e2-41bf-d4a6-df9324236fb2"
      },
      "execution_count": 9,
      "outputs": [
        {
          "output_type": "stream",
          "name": "stdout",
          "text": [
            "<class 'pandas.core.frame.DataFrame'>\n",
            "RangeIndex: 268850 entries, 0 to 268849\n",
            "Data columns (total 49 columns):\n",
            " #   Column                    Non-Null Count   Dtype  \n",
            "---  ------                    --------------   -----  \n",
            " 0   regio1                    268850 non-null  object \n",
            " 1   serviceCharge             261941 non-null  float64\n",
            " 2   heatingType               223994 non-null  object \n",
            " 3   telekomTvOffer            236231 non-null  object \n",
            " 4   telekomHybridUploadSpeed  45020 non-null   float64\n",
            " 5   newlyConst                268850 non-null  bool   \n",
            " 6   balcony                   268850 non-null  bool   \n",
            " 7   picturecount              268850 non-null  int64  \n",
            " 8   pricetrend                267018 non-null  float64\n",
            " 9   telekomUploadSpeed        235492 non-null  float64\n",
            " 10  totalRent                 228333 non-null  float64\n",
            " 11  yearConstructed           211805 non-null  float64\n",
            " 12  scoutId                   268850 non-null  int64  \n",
            " 13  noParkSpaces              93052 non-null   float64\n",
            " 14  firingTypes               211886 non-null  object \n",
            " 15  hasKitchen                268850 non-null  bool   \n",
            " 16  geo_bln                   268850 non-null  object \n",
            " 17  cellar                    268850 non-null  bool   \n",
            " 18  yearConstructedRange      211805 non-null  float64\n",
            " 19  baseRent                  268850 non-null  float64\n",
            " 20  houseNumber               197832 non-null  object \n",
            " 21  livingSpace               268850 non-null  float64\n",
            " 22  geo_krs                   268850 non-null  object \n",
            " 23  condition                 200361 non-null  object \n",
            " 24  interiorQual              156185 non-null  object \n",
            " 25  petsAllowed               154277 non-null  object \n",
            " 26  street                    268850 non-null  object \n",
            " 27  streetPlain               197837 non-null  object \n",
            " 28  lift                      268850 non-null  bool   \n",
            " 29  baseRentRange             268850 non-null  int64  \n",
            " 30  typeOfFlat                232236 non-null  object \n",
            " 31  geo_plz                   268850 non-null  int64  \n",
            " 32  noRooms                   268850 non-null  float64\n",
            " 33  thermalChar               162344 non-null  float64\n",
            " 34  floor                     217541 non-null  float64\n",
            " 35  numberOfFloors            171118 non-null  float64\n",
            " 36  noRoomsRange              268850 non-null  int64  \n",
            " 37  garden                    268850 non-null  bool   \n",
            " 38  livingSpaceRange          268850 non-null  int64  \n",
            " 39  regio2                    268850 non-null  object \n",
            " 40  regio3                    268850 non-null  object \n",
            " 41  description               249103 non-null  object \n",
            " 42  facilities                215926 non-null  object \n",
            " 43  heatingCosts              85518 non-null   float64\n",
            " 44  energyEfficiencyClass     77787 non-null   object \n",
            " 45  lastRefurbish             80711 non-null   float64\n",
            " 46  electricityBasePrice      46846 non-null   float64\n",
            " 47  electricityKwhPrice       46846 non-null   float64\n",
            " 48  date                      268850 non-null  object \n",
            "dtypes: bool(6), float64(18), int64(6), object(19)\n",
            "memory usage: 89.7+ MB\n"
          ]
        }
      ]
    },
    {
      "cell_type": "code",
      "source": [
        "df.shape"
      ],
      "metadata": {
        "colab": {
          "base_uri": "https://localhost:8080/"
        },
        "id": "eF-3ng-FgD9z",
        "outputId": "54f663fa-3e7c-4425-d79a-6836418e9ddd"
      },
      "execution_count": 10,
      "outputs": [
        {
          "output_type": "execute_result",
          "data": {
            "text/plain": [
              "(268850, 49)"
            ]
          },
          "metadata": {},
          "execution_count": 10
        }
      ]
    },
    {
      "cell_type": "code",
      "source": [
        "df.columns"
      ],
      "metadata": {
        "colab": {
          "base_uri": "https://localhost:8080/"
        },
        "id": "pwWEXMKvgVvS",
        "outputId": "68693b74-598d-435c-ed13-4f103db7dbdf"
      },
      "execution_count": 11,
      "outputs": [
        {
          "output_type": "execute_result",
          "data": {
            "text/plain": [
              "Index(['regio1', 'serviceCharge', 'heatingType', 'telekomTvOffer',\n",
              "       'telekomHybridUploadSpeed', 'newlyConst', 'balcony', 'picturecount',\n",
              "       'pricetrend', 'telekomUploadSpeed', 'totalRent', 'yearConstructed',\n",
              "       'scoutId', 'noParkSpaces', 'firingTypes', 'hasKitchen', 'geo_bln',\n",
              "       'cellar', 'yearConstructedRange', 'baseRent', 'houseNumber',\n",
              "       'livingSpace', 'geo_krs', 'condition', 'interiorQual', 'petsAllowed',\n",
              "       'street', 'streetPlain', 'lift', 'baseRentRange', 'typeOfFlat',\n",
              "       'geo_plz', 'noRooms', 'thermalChar', 'floor', 'numberOfFloors',\n",
              "       'noRoomsRange', 'garden', 'livingSpaceRange', 'regio2', 'regio3',\n",
              "       'description', 'facilities', 'heatingCosts', 'energyEfficiencyClass',\n",
              "       'lastRefurbish', 'electricityBasePrice', 'electricityKwhPrice', 'date'],\n",
              "      dtype='object')"
            ]
          },
          "metadata": {},
          "execution_count": 11
        }
      ]
    },
    {
      "cell_type": "markdown",
      "source": [
        "# Q1-Cleaning data\n",
        "\n",
        "*   Removing irrelevant columns\n",
        "*   Filling missing data\n",
        "*   Detecting outliers\n",
        "\n",
        "\n",
        "\n",
        "\n",
        "\n"
      ],
      "metadata": {
        "id": "o06aGlmXglKC"
      }
    },
    {
      "cell_type": "code",
      "source": [
        "df.isna().sum()/len(df)"
      ],
      "metadata": {
        "colab": {
          "base_uri": "https://localhost:8080/"
        },
        "id": "u0eYxa0-hB-K",
        "outputId": "f752ad25-40dd-4509-e213-4bf7deed3c84"
      },
      "execution_count": 12,
      "outputs": [
        {
          "output_type": "execute_result",
          "data": {
            "text/plain": [
              "regio1                      0.000000\n",
              "serviceCharge               0.025698\n",
              "heatingType                 0.166844\n",
              "telekomTvOffer              0.121328\n",
              "telekomHybridUploadSpeed    0.832546\n",
              "newlyConst                  0.000000\n",
              "balcony                     0.000000\n",
              "picturecount                0.000000\n",
              "pricetrend                  0.006814\n",
              "telekomUploadSpeed          0.124077\n",
              "totalRent                   0.150705\n",
              "yearConstructed             0.212182\n",
              "scoutId                     0.000000\n",
              "noParkSpaces                0.653889\n",
              "firingTypes                 0.211880\n",
              "hasKitchen                  0.000000\n",
              "geo_bln                     0.000000\n",
              "cellar                      0.000000\n",
              "yearConstructedRange        0.212182\n",
              "baseRent                    0.000000\n",
              "houseNumber                 0.264155\n",
              "livingSpace                 0.000000\n",
              "geo_krs                     0.000000\n",
              "condition                   0.254748\n",
              "interiorQual                0.419063\n",
              "petsAllowed                 0.426160\n",
              "street                      0.000000\n",
              "streetPlain                 0.264136\n",
              "lift                        0.000000\n",
              "baseRentRange               0.000000\n",
              "typeOfFlat                  0.136187\n",
              "geo_plz                     0.000000\n",
              "noRooms                     0.000000\n",
              "thermalChar                 0.396154\n",
              "floor                       0.190846\n",
              "numberOfFloors              0.363519\n",
              "noRoomsRange                0.000000\n",
              "garden                      0.000000\n",
              "livingSpaceRange            0.000000\n",
              "regio2                      0.000000\n",
              "regio3                      0.000000\n",
              "description                 0.073450\n",
              "facilities                  0.196853\n",
              "heatingCosts                0.681912\n",
              "energyEfficiencyClass       0.710668\n",
              "lastRefurbish               0.699792\n",
              "electricityBasePrice        0.825754\n",
              "electricityKwhPrice         0.825754\n",
              "date                        0.000000\n",
              "dtype: float64"
            ]
          },
          "metadata": {},
          "execution_count": 12
        }
      ]
    },
    {
      "cell_type": "code",
      "source": [
        "df.columns[((df.isna().sum()/len(df)) > 0.50)]"
      ],
      "metadata": {
        "colab": {
          "base_uri": "https://localhost:8080/"
        },
        "id": "HuoBNNIZiFLu",
        "outputId": "8946198c-0c6c-4db7-9b18-b430de5b0519"
      },
      "execution_count": 13,
      "outputs": [
        {
          "output_type": "execute_result",
          "data": {
            "text/plain": [
              "Index(['telekomHybridUploadSpeed', 'noParkSpaces', 'heatingCosts',\n",
              "       'energyEfficiencyClass', 'lastRefurbish', 'electricityBasePrice',\n",
              "       'electricityKwhPrice'],\n",
              "      dtype='object')"
            ]
          },
          "metadata": {},
          "execution_count": 13
        }
      ]
    },
    {
      "cell_type": "code",
      "source": [
        "df = df.drop(columns=df.columns[((df.isna().sum()/len(df)) > 0.50)])\n",
        "df.columns"
      ],
      "metadata": {
        "colab": {
          "base_uri": "https://localhost:8080/"
        },
        "id": "07srsINNiLCb",
        "outputId": "cd5a9e8a-6af9-4545-8bc7-e2d92138762e"
      },
      "execution_count": 14,
      "outputs": [
        {
          "output_type": "execute_result",
          "data": {
            "text/plain": [
              "Index(['regio1', 'serviceCharge', 'heatingType', 'telekomTvOffer',\n",
              "       'newlyConst', 'balcony', 'picturecount', 'pricetrend',\n",
              "       'telekomUploadSpeed', 'totalRent', 'yearConstructed', 'scoutId',\n",
              "       'firingTypes', 'hasKitchen', 'geo_bln', 'cellar',\n",
              "       'yearConstructedRange', 'baseRent', 'houseNumber', 'livingSpace',\n",
              "       'geo_krs', 'condition', 'interiorQual', 'petsAllowed', 'street',\n",
              "       'streetPlain', 'lift', 'baseRentRange', 'typeOfFlat', 'geo_plz',\n",
              "       'noRooms', 'thermalChar', 'floor', 'numberOfFloors', 'noRoomsRange',\n",
              "       'garden', 'livingSpaceRange', 'regio2', 'regio3', 'description',\n",
              "       'facilities', 'date'],\n",
              "      dtype='object')"
            ]
          },
          "metadata": {},
          "execution_count": 14
        }
      ]
    },
    {
      "cell_type": "code",
      "source": [
        "df.shape"
      ],
      "metadata": {
        "colab": {
          "base_uri": "https://localhost:8080/"
        },
        "id": "K1pxRFaaiNhF",
        "outputId": "27d926cb-c2f9-417a-a7fc-da92a81c1505"
      },
      "execution_count": 15,
      "outputs": [
        {
          "output_type": "execute_result",
          "data": {
            "text/plain": [
              "(268850, 42)"
            ]
          },
          "metadata": {},
          "execution_count": 15
        }
      ]
    },
    {
      "cell_type": "code",
      "source": [
        "df = df.drop(df[df['livingSpace'] == 0.0].index)\n",
        "df.shape"
      ],
      "metadata": {
        "colab": {
          "base_uri": "https://localhost:8080/"
        },
        "id": "qHCUYawjiOp1",
        "outputId": "1131f725-fcde-404c-d442-60b61c5208b4"
      },
      "execution_count": 16,
      "outputs": [
        {
          "output_type": "execute_result",
          "data": {
            "text/plain": [
              "(268775, 42)"
            ]
          },
          "metadata": {},
          "execution_count": 16
        }
      ]
    },
    {
      "cell_type": "code",
      "source": [
        "df = df.drop(df[df['totalRent'] == 0.0].index)\n",
        "df.shape"
      ],
      "metadata": {
        "colab": {
          "base_uri": "https://localhost:8080/"
        },
        "id": "QeI16QCVismJ",
        "outputId": "b568052d-8bd9-44c8-f0fb-e119b781f7dd"
      },
      "execution_count": 17,
      "outputs": [
        {
          "output_type": "execute_result",
          "data": {
            "text/plain": [
              "(268544, 42)"
            ]
          },
          "metadata": {},
          "execution_count": 17
        }
      ]
    },
    {
      "cell_type": "code",
      "source": [
        "df = df.drop(df[df['noRooms'] > 100].index)\n",
        "df.shape\n"
      ],
      "metadata": {
        "colab": {
          "base_uri": "https://localhost:8080/"
        },
        "id": "WxMrSEBbDiAb",
        "outputId": "81842413-1214-4202-ae8e-f27bd3e144f3"
      },
      "execution_count": 18,
      "outputs": [
        {
          "output_type": "execute_result",
          "data": {
            "text/plain": [
              "(268536, 42)"
            ]
          },
          "metadata": {},
          "execution_count": 18
        }
      ]
    },
    {
      "cell_type": "code",
      "source": [
        "df = df.loc[~((df['livingSpace'] == 60) & (df['baseRentRange']< 30)),:]\n",
        "df.shape"
      ],
      "metadata": {
        "colab": {
          "base_uri": "https://localhost:8080/"
        },
        "id": "9pE_5qPxDs4l",
        "outputId": "da2817fb-0b89-4370-f3d2-cff8768741a3"
      },
      "execution_count": 19,
      "outputs": [
        {
          "output_type": "execute_result",
          "data": {
            "text/plain": [
              "(263351, 42)"
            ]
          },
          "metadata": {},
          "execution_count": 19
        }
      ]
    },
    {
      "cell_type": "code",
      "source": [
        "df.describe()"
      ],
      "metadata": {
        "colab": {
          "base_uri": "https://localhost:8080/",
          "height": 364
        },
        "id": "dTjEs6JMi-AE",
        "outputId": "206104e6-2c77-4efe-d1ef-db8c066cbc63"
      },
      "execution_count": 20,
      "outputs": [
        {
          "output_type": "execute_result",
          "data": {
            "text/plain": [
              "       serviceCharge   picturecount     pricetrend  telekomUploadSpeed  \\\n",
              "count  256662.000000  263351.000000  261549.000000       230543.000000   \n",
              "mean      151.846785       9.800240       3.393385           28.811205   \n",
              "std       311.320179       6.416116       1.965975           16.336400   \n",
              "min         0.000000       0.000000     -12.330000            1.000000   \n",
              "25%        95.000000       6.000000       2.000000           10.000000   \n",
              "50%       135.000000       9.000000       3.390000           40.000000   \n",
              "75%       190.000000      13.000000       4.580000           40.000000   \n",
              "max    146118.000000     121.000000      14.920000          100.000000   \n",
              "\n",
              "          totalRent  yearConstructed       scoutId  yearConstructedRange  \\\n",
              "count  2.237390e+05    207921.000000  2.633510e+05         207921.000000   \n",
              "mean   9.073327e+02      1966.506625  1.069985e+08              3.727194   \n",
              "std    3.357778e+04        47.134190  1.247639e+07              2.744810   \n",
              "min    1.000000e+00      1000.000000  2.887174e+07              1.000000   \n",
              "25%    4.700000e+02      1950.000000  1.067174e+08              1.000000   \n",
              "50%    6.500000e+02      1973.000000  1.111615e+08              3.000000   \n",
              "75%    9.900000e+02      1996.000000  1.137701e+08              5.000000   \n",
              "max    1.575154e+07      2090.000000  1.157117e+08              9.000000   \n",
              "\n",
              "           baseRent    livingSpace  baseRentRange        geo_plz  \\\n",
              "count  2.633510e+05  263351.000000  263351.000000  263351.000000   \n",
              "mean   6.982972e+02      74.661966       3.780931   37237.114273   \n",
              "std    1.973887e+04     257.390969       2.220518   27806.495514   \n",
              "min    0.000000e+00       1.000000       1.000000     852.000000   \n",
              "25%    3.390000e+02      54.000000       2.000000    9127.000000   \n",
              "50%    4.950000e+02      68.000000       3.000000   38550.000000   \n",
              "75%    8.000000e+02      87.380000       5.000000   57072.000000   \n",
              "max    9.999999e+06  111111.000000       9.000000   99998.000000   \n",
              "\n",
              "             noRooms    thermalChar          floor  numberOfFloors  \\\n",
              "count  263351.000000  159465.000000  213103.000000   167340.000000   \n",
              "mean        2.637484     114.541773       2.124879        3.581206   \n",
              "std         1.096274      61.536676       3.666800        6.441976   \n",
              "min         1.000000       0.100000      -1.000000        0.000000   \n",
              "25%         2.000000      79.000000       1.000000        2.000000   \n",
              "50%         3.000000     107.000000       2.000000        3.000000   \n",
              "75%         3.000000     140.000000       3.000000        4.000000   \n",
              "max       100.000000    1996.000000     999.000000      999.000000   \n",
              "\n",
              "        noRoomsRange  livingSpaceRange  \n",
              "count  263351.000000     263351.000000  \n",
              "mean        2.577613          3.092610  \n",
              "std         0.942891          1.412659  \n",
              "min         1.000000          1.000000  \n",
              "25%         2.000000          2.000000  \n",
              "50%         3.000000          3.000000  \n",
              "75%         3.000000          4.000000  \n",
              "max         5.000000          7.000000  "
            ],
            "text/html": [
              "\n",
              "  <div id=\"df-4598a365-74e5-4e43-8e19-ec61e5ed6d72\">\n",
              "    <div class=\"colab-df-container\">\n",
              "      <div>\n",
              "<style scoped>\n",
              "    .dataframe tbody tr th:only-of-type {\n",
              "        vertical-align: middle;\n",
              "    }\n",
              "\n",
              "    .dataframe tbody tr th {\n",
              "        vertical-align: top;\n",
              "    }\n",
              "\n",
              "    .dataframe thead th {\n",
              "        text-align: right;\n",
              "    }\n",
              "</style>\n",
              "<table border=\"1\" class=\"dataframe\">\n",
              "  <thead>\n",
              "    <tr style=\"text-align: right;\">\n",
              "      <th></th>\n",
              "      <th>serviceCharge</th>\n",
              "      <th>picturecount</th>\n",
              "      <th>pricetrend</th>\n",
              "      <th>telekomUploadSpeed</th>\n",
              "      <th>totalRent</th>\n",
              "      <th>yearConstructed</th>\n",
              "      <th>scoutId</th>\n",
              "      <th>yearConstructedRange</th>\n",
              "      <th>baseRent</th>\n",
              "      <th>livingSpace</th>\n",
              "      <th>baseRentRange</th>\n",
              "      <th>geo_plz</th>\n",
              "      <th>noRooms</th>\n",
              "      <th>thermalChar</th>\n",
              "      <th>floor</th>\n",
              "      <th>numberOfFloors</th>\n",
              "      <th>noRoomsRange</th>\n",
              "      <th>livingSpaceRange</th>\n",
              "    </tr>\n",
              "  </thead>\n",
              "  <tbody>\n",
              "    <tr>\n",
              "      <th>count</th>\n",
              "      <td>256662.000000</td>\n",
              "      <td>263351.000000</td>\n",
              "      <td>261549.000000</td>\n",
              "      <td>230543.000000</td>\n",
              "      <td>2.237390e+05</td>\n",
              "      <td>207921.000000</td>\n",
              "      <td>2.633510e+05</td>\n",
              "      <td>207921.000000</td>\n",
              "      <td>2.633510e+05</td>\n",
              "      <td>263351.000000</td>\n",
              "      <td>263351.000000</td>\n",
              "      <td>263351.000000</td>\n",
              "      <td>263351.000000</td>\n",
              "      <td>159465.000000</td>\n",
              "      <td>213103.000000</td>\n",
              "      <td>167340.000000</td>\n",
              "      <td>263351.000000</td>\n",
              "      <td>263351.000000</td>\n",
              "    </tr>\n",
              "    <tr>\n",
              "      <th>mean</th>\n",
              "      <td>151.846785</td>\n",
              "      <td>9.800240</td>\n",
              "      <td>3.393385</td>\n",
              "      <td>28.811205</td>\n",
              "      <td>9.073327e+02</td>\n",
              "      <td>1966.506625</td>\n",
              "      <td>1.069985e+08</td>\n",
              "      <td>3.727194</td>\n",
              "      <td>6.982972e+02</td>\n",
              "      <td>74.661966</td>\n",
              "      <td>3.780931</td>\n",
              "      <td>37237.114273</td>\n",
              "      <td>2.637484</td>\n",
              "      <td>114.541773</td>\n",
              "      <td>2.124879</td>\n",
              "      <td>3.581206</td>\n",
              "      <td>2.577613</td>\n",
              "      <td>3.092610</td>\n",
              "    </tr>\n",
              "    <tr>\n",
              "      <th>std</th>\n",
              "      <td>311.320179</td>\n",
              "      <td>6.416116</td>\n",
              "      <td>1.965975</td>\n",
              "      <td>16.336400</td>\n",
              "      <td>3.357778e+04</td>\n",
              "      <td>47.134190</td>\n",
              "      <td>1.247639e+07</td>\n",
              "      <td>2.744810</td>\n",
              "      <td>1.973887e+04</td>\n",
              "      <td>257.390969</td>\n",
              "      <td>2.220518</td>\n",
              "      <td>27806.495514</td>\n",
              "      <td>1.096274</td>\n",
              "      <td>61.536676</td>\n",
              "      <td>3.666800</td>\n",
              "      <td>6.441976</td>\n",
              "      <td>0.942891</td>\n",
              "      <td>1.412659</td>\n",
              "    </tr>\n",
              "    <tr>\n",
              "      <th>min</th>\n",
              "      <td>0.000000</td>\n",
              "      <td>0.000000</td>\n",
              "      <td>-12.330000</td>\n",
              "      <td>1.000000</td>\n",
              "      <td>1.000000e+00</td>\n",
              "      <td>1000.000000</td>\n",
              "      <td>2.887174e+07</td>\n",
              "      <td>1.000000</td>\n",
              "      <td>0.000000e+00</td>\n",
              "      <td>1.000000</td>\n",
              "      <td>1.000000</td>\n",
              "      <td>852.000000</td>\n",
              "      <td>1.000000</td>\n",
              "      <td>0.100000</td>\n",
              "      <td>-1.000000</td>\n",
              "      <td>0.000000</td>\n",
              "      <td>1.000000</td>\n",
              "      <td>1.000000</td>\n",
              "    </tr>\n",
              "    <tr>\n",
              "      <th>25%</th>\n",
              "      <td>95.000000</td>\n",
              "      <td>6.000000</td>\n",
              "      <td>2.000000</td>\n",
              "      <td>10.000000</td>\n",
              "      <td>4.700000e+02</td>\n",
              "      <td>1950.000000</td>\n",
              "      <td>1.067174e+08</td>\n",
              "      <td>1.000000</td>\n",
              "      <td>3.390000e+02</td>\n",
              "      <td>54.000000</td>\n",
              "      <td>2.000000</td>\n",
              "      <td>9127.000000</td>\n",
              "      <td>2.000000</td>\n",
              "      <td>79.000000</td>\n",
              "      <td>1.000000</td>\n",
              "      <td>2.000000</td>\n",
              "      <td>2.000000</td>\n",
              "      <td>2.000000</td>\n",
              "    </tr>\n",
              "    <tr>\n",
              "      <th>50%</th>\n",
              "      <td>135.000000</td>\n",
              "      <td>9.000000</td>\n",
              "      <td>3.390000</td>\n",
              "      <td>40.000000</td>\n",
              "      <td>6.500000e+02</td>\n",
              "      <td>1973.000000</td>\n",
              "      <td>1.111615e+08</td>\n",
              "      <td>3.000000</td>\n",
              "      <td>4.950000e+02</td>\n",
              "      <td>68.000000</td>\n",
              "      <td>3.000000</td>\n",
              "      <td>38550.000000</td>\n",
              "      <td>3.000000</td>\n",
              "      <td>107.000000</td>\n",
              "      <td>2.000000</td>\n",
              "      <td>3.000000</td>\n",
              "      <td>3.000000</td>\n",
              "      <td>3.000000</td>\n",
              "    </tr>\n",
              "    <tr>\n",
              "      <th>75%</th>\n",
              "      <td>190.000000</td>\n",
              "      <td>13.000000</td>\n",
              "      <td>4.580000</td>\n",
              "      <td>40.000000</td>\n",
              "      <td>9.900000e+02</td>\n",
              "      <td>1996.000000</td>\n",
              "      <td>1.137701e+08</td>\n",
              "      <td>5.000000</td>\n",
              "      <td>8.000000e+02</td>\n",
              "      <td>87.380000</td>\n",
              "      <td>5.000000</td>\n",
              "      <td>57072.000000</td>\n",
              "      <td>3.000000</td>\n",
              "      <td>140.000000</td>\n",
              "      <td>3.000000</td>\n",
              "      <td>4.000000</td>\n",
              "      <td>3.000000</td>\n",
              "      <td>4.000000</td>\n",
              "    </tr>\n",
              "    <tr>\n",
              "      <th>max</th>\n",
              "      <td>146118.000000</td>\n",
              "      <td>121.000000</td>\n",
              "      <td>14.920000</td>\n",
              "      <td>100.000000</td>\n",
              "      <td>1.575154e+07</td>\n",
              "      <td>2090.000000</td>\n",
              "      <td>1.157117e+08</td>\n",
              "      <td>9.000000</td>\n",
              "      <td>9.999999e+06</td>\n",
              "      <td>111111.000000</td>\n",
              "      <td>9.000000</td>\n",
              "      <td>99998.000000</td>\n",
              "      <td>100.000000</td>\n",
              "      <td>1996.000000</td>\n",
              "      <td>999.000000</td>\n",
              "      <td>999.000000</td>\n",
              "      <td>5.000000</td>\n",
              "      <td>7.000000</td>\n",
              "    </tr>\n",
              "  </tbody>\n",
              "</table>\n",
              "</div>\n",
              "      <button class=\"colab-df-convert\" onclick=\"convertToInteractive('df-4598a365-74e5-4e43-8e19-ec61e5ed6d72')\"\n",
              "              title=\"Convert this dataframe to an interactive table.\"\n",
              "              style=\"display:none;\">\n",
              "        \n",
              "  <svg xmlns=\"http://www.w3.org/2000/svg\" height=\"24px\"viewBox=\"0 0 24 24\"\n",
              "       width=\"24px\">\n",
              "    <path d=\"M0 0h24v24H0V0z\" fill=\"none\"/>\n",
              "    <path d=\"M18.56 5.44l.94 2.06.94-2.06 2.06-.94-2.06-.94-.94-2.06-.94 2.06-2.06.94zm-11 1L8.5 8.5l.94-2.06 2.06-.94-2.06-.94L8.5 2.5l-.94 2.06-2.06.94zm10 10l.94 2.06.94-2.06 2.06-.94-2.06-.94-.94-2.06-.94 2.06-2.06.94z\"/><path d=\"M17.41 7.96l-1.37-1.37c-.4-.4-.92-.59-1.43-.59-.52 0-1.04.2-1.43.59L10.3 9.45l-7.72 7.72c-.78.78-.78 2.05 0 2.83L4 21.41c.39.39.9.59 1.41.59.51 0 1.02-.2 1.41-.59l7.78-7.78 2.81-2.81c.8-.78.8-2.07 0-2.86zM5.41 20L4 18.59l7.72-7.72 1.47 1.35L5.41 20z\"/>\n",
              "  </svg>\n",
              "      </button>\n",
              "      \n",
              "  <style>\n",
              "    .colab-df-container {\n",
              "      display:flex;\n",
              "      flex-wrap:wrap;\n",
              "      gap: 12px;\n",
              "    }\n",
              "\n",
              "    .colab-df-convert {\n",
              "      background-color: #E8F0FE;\n",
              "      border: none;\n",
              "      border-radius: 50%;\n",
              "      cursor: pointer;\n",
              "      display: none;\n",
              "      fill: #1967D2;\n",
              "      height: 32px;\n",
              "      padding: 0 0 0 0;\n",
              "      width: 32px;\n",
              "    }\n",
              "\n",
              "    .colab-df-convert:hover {\n",
              "      background-color: #E2EBFA;\n",
              "      box-shadow: 0px 1px 2px rgba(60, 64, 67, 0.3), 0px 1px 3px 1px rgba(60, 64, 67, 0.15);\n",
              "      fill: #174EA6;\n",
              "    }\n",
              "\n",
              "    [theme=dark] .colab-df-convert {\n",
              "      background-color: #3B4455;\n",
              "      fill: #D2E3FC;\n",
              "    }\n",
              "\n",
              "    [theme=dark] .colab-df-convert:hover {\n",
              "      background-color: #434B5C;\n",
              "      box-shadow: 0px 1px 3px 1px rgba(0, 0, 0, 0.15);\n",
              "      filter: drop-shadow(0px 1px 2px rgba(0, 0, 0, 0.3));\n",
              "      fill: #FFFFFF;\n",
              "    }\n",
              "  </style>\n",
              "\n",
              "      <script>\n",
              "        const buttonEl =\n",
              "          document.querySelector('#df-4598a365-74e5-4e43-8e19-ec61e5ed6d72 button.colab-df-convert');\n",
              "        buttonEl.style.display =\n",
              "          google.colab.kernel.accessAllowed ? 'block' : 'none';\n",
              "\n",
              "        async function convertToInteractive(key) {\n",
              "          const element = document.querySelector('#df-4598a365-74e5-4e43-8e19-ec61e5ed6d72');\n",
              "          const dataTable =\n",
              "            await google.colab.kernel.invokeFunction('convertToInteractive',\n",
              "                                                     [key], {});\n",
              "          if (!dataTable) return;\n",
              "\n",
              "          const docLinkHtml = 'Like what you see? Visit the ' +\n",
              "            '<a target=\"_blank\" href=https://colab.research.google.com/notebooks/data_table.ipynb>data table notebook</a>'\n",
              "            + ' to learn more about interactive tables.';\n",
              "          element.innerHTML = '';\n",
              "          dataTable['output_type'] = 'display_data';\n",
              "          await google.colab.output.renderOutput(dataTable, element);\n",
              "          const docLink = document.createElement('div');\n",
              "          docLink.innerHTML = docLinkHtml;\n",
              "          element.appendChild(docLink);\n",
              "        }\n",
              "      </script>\n",
              "    </div>\n",
              "  </div>\n",
              "  "
            ]
          },
          "metadata": {},
          "execution_count": 20
        }
      ]
    },
    {
      "cell_type": "code",
      "source": [
        "df.fillna(df._get_numeric_data().mean(),inplace = True)"
      ],
      "metadata": {
        "id": "J9VHiIEzjH1T"
      },
      "execution_count": 21,
      "outputs": []
    },
    {
      "cell_type": "code",
      "source": [
        "df.isna().sum()/len(df)"
      ],
      "metadata": {
        "colab": {
          "base_uri": "https://localhost:8080/"
        },
        "id": "PtGD0TynjMQ2",
        "outputId": "30143c8f-4a20-4869-fd69-d8e9649951a5"
      },
      "execution_count": 22,
      "outputs": [
        {
          "output_type": "execute_result",
          "data": {
            "text/plain": [
              "regio1                  0.000000\n",
              "serviceCharge           0.000000\n",
              "heatingType             0.167184\n",
              "telekomTvOffer          0.121849\n",
              "newlyConst              0.000000\n",
              "balcony                 0.000000\n",
              "picturecount            0.000000\n",
              "pricetrend              0.000000\n",
              "telekomUploadSpeed      0.000000\n",
              "totalRent               0.000000\n",
              "yearConstructed         0.000000\n",
              "scoutId                 0.000000\n",
              "firingTypes             0.211596\n",
              "hasKitchen              0.000000\n",
              "geo_bln                 0.000000\n",
              "cellar                  0.000000\n",
              "yearConstructedRange    0.000000\n",
              "baseRent                0.000000\n",
              "houseNumber             0.262995\n",
              "livingSpace             0.000000\n",
              "geo_krs                 0.000000\n",
              "condition               0.254615\n",
              "interiorQual            0.419300\n",
              "petsAllowed             0.427513\n",
              "street                  0.000000\n",
              "streetPlain             0.262976\n",
              "lift                    0.000000\n",
              "baseRentRange           0.000000\n",
              "typeOfFlat              0.136248\n",
              "geo_plz                 0.000000\n",
              "noRooms                 0.000000\n",
              "thermalChar             0.000000\n",
              "floor                   0.000000\n",
              "numberOfFloors          0.000000\n",
              "noRoomsRange            0.000000\n",
              "garden                  0.000000\n",
              "livingSpaceRange        0.000000\n",
              "regio2                  0.000000\n",
              "regio3                  0.000000\n",
              "description             0.073700\n",
              "facilities              0.196024\n",
              "date                    0.000000\n",
              "dtype: float64"
            ]
          },
          "metadata": {},
          "execution_count": 22
        }
      ]
    },
    {
      "cell_type": "code",
      "source": [
        "df.duplicated().sum()"
      ],
      "metadata": {
        "colab": {
          "base_uri": "https://localhost:8080/"
        },
        "id": "ixaMIX-xjT9C",
        "outputId": "b8d348ad-23a9-48a4-cd79-8bd9f1611f19"
      },
      "execution_count": 23,
      "outputs": [
        {
          "output_type": "execute_result",
          "data": {
            "text/plain": [
              "0"
            ]
          },
          "metadata": {},
          "execution_count": 23
        }
      ]
    },
    {
      "cell_type": "code",
      "source": [
        "#sns.distplot(df['serviceCharge'])\n",
        "df.boxplot(column='serviceCharge')"
      ],
      "metadata": {
        "colab": {
          "base_uri": "https://localhost:8080/",
          "height": 284
        },
        "id": "T1E3ye2BkF85",
        "outputId": "b7534645-ce15-467a-ccb6-4beaaf6defde"
      },
      "execution_count": 24,
      "outputs": [
        {
          "output_type": "execute_result",
          "data": {
            "text/plain": [
              "<matplotlib.axes._subplots.AxesSubplot at 0x7fcd2d9a4490>"
            ]
          },
          "metadata": {},
          "execution_count": 24
        },
        {
          "output_type": "display_data",
          "data": {
            "text/plain": [
              "<Figure size 432x288 with 1 Axes>"
            ],
            "image/png": "[encoded data removed]"
          },
          "metadata": {
            "needs_background": "light"
          }
        }
      ]
    },
    {
      "cell_type": "code",
      "source": [
        "upper_range=df['serviceCharge'].mean()+ 3* df['serviceCharge'].std()\n",
        "lower_range=df['serviceCharge'].mean()- 3* df['serviceCharge'].std()\n",
        "\n",
        "indexes=df[(df['serviceCharge']>upper_range)| (df['serviceCharge']<lower_range)].index\n",
        "df=df.drop(indexes)\n"
      ],
      "metadata": {
        "id": "iuG3zyHeksvj"
      },
      "execution_count": 25,
      "outputs": []
    },
    {
      "cell_type": "code",
      "source": [
        "df.boxplot(column='serviceCharge')"
      ],
      "metadata": {
        "colab": {
          "base_uri": "https://localhost:8080/",
          "height": 284
        },
        "id": "FLzL_V_emPzt",
        "outputId": "4a2a2560-36e0-4a04-9a8e-e9803e122bc7"
      },
      "execution_count": 26,
      "outputs": [
        {
          "output_type": "execute_result",
          "data": {
            "text/plain": [
              "<matplotlib.axes._subplots.AxesSubplot at 0x7fcd2320fa10>"
            ]
          },
          "metadata": {},
          "execution_count": 26
        },
        {
          "output_type": "display_data",
          "data": {
            "text/plain": [
              "<Figure size 432x288 with 1 Axes>"
            ],
            "image/png": "[encoded data removed]"
          },
          "metadata": {
            "needs_background": "light"
          }
        }
      ]
    },
    {
      "cell_type": "code",
      "source": [
        "for cols in df.columns:\n",
        "    if df[cols].dtype == 'int64' or df[cols].dtype == 'float64':\n",
        "        upper_range = df[cols].mean() + 3 * df[cols].std()\n",
        "        lower_range = df[cols].mean() - 3 * df[cols].std()\n",
        "        \n",
        "        indexs = df[(df[cols] > upper_range) | (df[cols] < lower_range)].index\n",
        "        df = df.drop(indexs)"
      ],
      "metadata": {
        "id": "L-iaRnnBmvkv"
      },
      "execution_count": 27,
      "outputs": []
    },
    {
      "cell_type": "code",
      "source": [
        "df.boxplot(column='serviceCharge')"
      ],
      "metadata": {
        "colab": {
          "base_uri": "https://localhost:8080/",
          "height": 284
        },
        "id": "nelMY46WJDWr",
        "outputId": "abb89bd5-b934-4a88-8376-1c9524ea822c"
      },
      "execution_count": 28,
      "outputs": [
        {
          "output_type": "execute_result",
          "data": {
            "text/plain": [
              "<matplotlib.axes._subplots.AxesSubplot at 0x7fcd22d07490>"
            ]
          },
          "metadata": {},
          "execution_count": 28
        },
        {
          "output_type": "display_data",
          "data": {
            "text/plain": [
              "<Figure size 432x288 with 1 Axes>"
            ],
            "image/png": "[encoded data removed]"
          },
          "metadata": {
            "needs_background": "light"
          }
        }
      ]
    },
    {
      "cell_type": "code",
      "source": [
        "df.boxplot(column='baseRentRange')"
      ],
      "metadata": {
        "colab": {
          "base_uri": "https://localhost:8080/",
          "height": 284
        },
        "id": "JMle6SjkG0GA",
        "outputId": "0ee5adc7-2d1b-4005-c197-eca55f02734c"
      },
      "execution_count": 29,
      "outputs": [
        {
          "output_type": "execute_result",
          "data": {
            "text/plain": [
              "<matplotlib.axes._subplots.AxesSubplot at 0x7fcd22c8f950>"
            ]
          },
          "metadata": {},
          "execution_count": 29
        },
        {
          "output_type": "display_data",
          "data": {
            "text/plain": [
              "<Figure size 432x288 with 1 Axes>"
            ],
            "image/png": "[encoded data removed]"
          },
          "metadata": {
            "needs_background": "light"
          }
        }
      ]
    },
    {
      "cell_type": "code",
      "source": [
        "df_g=df.copy()\n",
        "\n",
        "df_g.drop(columns=['livingSpaceRange','street','description','facilities','geo_krs','geo_plz','scoutId','telekomUploadSpeed','telekomTvOffer','pricetrend','regio3','noRoomsRange','picturecount','geo_bln','date',\\\n",
        "    'houseNumber','streetPlain','firingTypes','yearConstructedRange'],inplace=True)"
      ],
      "metadata": {
        "id": "E3ZTUn--oFJ4"
      },
      "execution_count": 30,
      "outputs": []
    },
    {
      "cell_type": "code",
      "source": [
        "df_g.columns"
      ],
      "metadata": {
        "colab": {
          "base_uri": "https://localhost:8080/"
        },
        "id": "tbu8WvBV42Or",
        "outputId": "177231da-ad74-4640-bc88-80b433cfdc78"
      },
      "execution_count": 31,
      "outputs": [
        {
          "output_type": "execute_result",
          "data": {
            "text/plain": [
              "Index(['regio1', 'serviceCharge', 'heatingType', 'newlyConst', 'balcony',\n",
              "       'totalRent', 'yearConstructed', 'hasKitchen', 'cellar', 'baseRent',\n",
              "       'livingSpace', 'condition', 'interiorQual', 'petsAllowed', 'lift',\n",
              "       'baseRentRange', 'typeOfFlat', 'noRooms', 'thermalChar', 'floor',\n",
              "       'numberOfFloors', 'garden', 'regio2'],\n",
              "      dtype='object')"
            ]
          },
          "metadata": {},
          "execution_count": 31
        }
      ]
    },
    {
      "cell_type": "markdown",
      "source": [
        "fillna numeric data by mean"
      ],
      "metadata": {
        "id": "rzGhY_5k96YI"
      }
    },
    {
      "cell_type": "code",
      "source": [
        "df_g._get_numeric_data().mean()"
      ],
      "metadata": {
        "colab": {
          "base_uri": "https://localhost:8080/"
        },
        "id": "0AQbQsZ3-EOu",
        "outputId": "d90f7155-429f-46bc-bf04-a2c6e50de663"
      },
      "execution_count": 32,
      "outputs": [
        {
          "output_type": "execute_result",
          "data": {
            "text/plain": [
              "serviceCharge       145.127661\n",
              "newlyConst            0.081832\n",
              "balcony               0.615844\n",
              "totalRent           797.905627\n",
              "yearConstructed    1968.156286\n",
              "hasKitchen            0.331762\n",
              "cellar                0.638217\n",
              "baseRent            615.747746\n",
              "livingSpace          71.678676\n",
              "lift                  0.233900\n",
              "baseRentRange         3.679879\n",
              "noRooms               2.589142\n",
              "thermalChar         112.215570\n",
              "floor                 2.074239\n",
              "numberOfFloors        3.518956\n",
              "garden                0.189399\n",
              "dtype: float64"
            ]
          },
          "metadata": {},
          "execution_count": 32
        }
      ]
    },
    {
      "cell_type": "code",
      "source": [
        "df_g.fillna(df._get_numeric_data().mean(),inplace = True)\n",
        "df_g.isna().sum()"
      ],
      "metadata": {
        "colab": {
          "base_uri": "https://localhost:8080/"
        },
        "id": "5F5fBUOS-PPs",
        "outputId": "c770f572-823a-492d-aa96-8cc4b238e130"
      },
      "execution_count": 33,
      "outputs": [
        {
          "output_type": "execute_result",
          "data": {
            "text/plain": [
              "regio1                  0\n",
              "serviceCharge           0\n",
              "heatingType         41617\n",
              "newlyConst              0\n",
              "balcony                 0\n",
              "totalRent               0\n",
              "yearConstructed         0\n",
              "hasKitchen              0\n",
              "cellar                  0\n",
              "baseRent                0\n",
              "livingSpace             0\n",
              "condition           62814\n",
              "interiorQual       103368\n",
              "petsAllowed        104243\n",
              "lift                    0\n",
              "baseRentRange           0\n",
              "typeOfFlat          33028\n",
              "noRooms                 0\n",
              "thermalChar             0\n",
              "floor                   0\n",
              "numberOfFloors          0\n",
              "garden                  0\n",
              "regio2                  0\n",
              "dtype: int64"
            ]
          },
          "metadata": {},
          "execution_count": 33
        }
      ]
    },
    {
      "cell_type": "markdown",
      "source": [
        "fillna categorical data"
      ],
      "metadata": {
        "id": "ZJSI4y2Z-puW"
      }
    },
    {
      "cell_type": "code",
      "source": [
        "for cols in df_g.columns:\n",
        "    if df_g[cols].dtype == 'object' or df_g[cols].dtype == 'bool':\n",
        "        print('column : ',cols)\n",
        "        print(df_g[cols].value_counts().head(1))"
      ],
      "metadata": {
        "colab": {
          "base_uri": "https://localhost:8080/"
        },
        "id": "BRO35hVH-sYK",
        "outputId": "f2524f8c-cb51-4a32-ae28-463994c2da98"
      },
      "execution_count": 34,
      "outputs": [
        {
          "output_type": "stream",
          "name": "stdout",
          "text": [
            "column :  regio1\n",
            "Nordrhein_Westfalen    55850\n",
            "Name: regio1, dtype: int64\n",
            "column :  heatingType\n",
            "central_heating    113710\n",
            "Name: heatingType, dtype: int64\n",
            "column :  newlyConst\n",
            "False    220914\n",
            "Name: newlyConst, dtype: int64\n",
            "column :  balcony\n",
            "True    148174\n",
            "Name: balcony, dtype: int64\n",
            "column :  hasKitchen\n",
            "False    160780\n",
            "Name: hasKitchen, dtype: int64\n",
            "column :  cellar\n",
            "True    153557\n",
            "Name: cellar, dtype: int64\n",
            "column :  condition\n",
            "well_kept    59407\n",
            "Name: condition, dtype: int64\n",
            "column :  interiorQual\n",
            "normal    73093\n",
            "Name: interiorQual, dtype: int64\n",
            "column :  petsAllowed\n",
            "negotiable    81344\n",
            "Name: petsAllowed, dtype: int64\n",
            "column :  lift\n",
            "False    184326\n",
            "Name: lift, dtype: int64\n",
            "column :  typeOfFlat\n",
            "apartment    118485\n",
            "Name: typeOfFlat, dtype: int64\n",
            "column :  garden\n",
            "False    195033\n",
            "Name: garden, dtype: int64\n",
            "column :  regio2\n",
            "Leipzig    12774\n",
            "Name: regio2, dtype: int64\n"
          ]
        }
      ]
    },
    {
      "cell_type": "code",
      "source": [
        "for cols in df_g.columns:\n",
        "    if df_g[cols].dtype == 'object' or df_g[cols].dtype == 'bool':\n",
        "        print('cols : {} , value : {}'.format(cols , df_g[cols].value_counts().head(1).index[0]))\n",
        "        df_g[cols].fillna(df_g[cols].value_counts().head(1).index[0],inplace = True)"
      ],
      "metadata": {
        "colab": {
          "base_uri": "https://localhost:8080/"
        },
        "id": "T8fK0zKc_Uwq",
        "outputId": "05792291-2688-496f-956b-3c11b5373d7e"
      },
      "execution_count": 35,
      "outputs": [
        {
          "output_type": "stream",
          "name": "stdout",
          "text": [
            "cols : regio1 , value : Nordrhein_Westfalen\n",
            "cols : heatingType , value : central_heating\n",
            "cols : newlyConst , value : False\n",
            "cols : balcony , value : True\n",
            "cols : hasKitchen , value : False\n",
            "cols : cellar , value : True\n",
            "cols : condition , value : well_kept\n",
            "cols : interiorQual , value : normal\n",
            "cols : petsAllowed , value : negotiable\n",
            "cols : lift , value : False\n",
            "cols : typeOfFlat , value : apartment\n",
            "cols : garden , value : False\n",
            "cols : regio2 , value : Leipzig\n"
          ]
        }
      ]
    },
    {
      "cell_type": "code",
      "source": [
        "df_g.isna().sum()"
      ],
      "metadata": {
        "colab": {
          "base_uri": "https://localhost:8080/"
        },
        "id": "XBFYOzwQ_h1J",
        "outputId": "bcb7224a-37cf-4239-835c-30d31dd743e7"
      },
      "execution_count": 36,
      "outputs": [
        {
          "output_type": "execute_result",
          "data": {
            "text/plain": [
              "regio1             0\n",
              "serviceCharge      0\n",
              "heatingType        0\n",
              "newlyConst         0\n",
              "balcony            0\n",
              "totalRent          0\n",
              "yearConstructed    0\n",
              "hasKitchen         0\n",
              "cellar             0\n",
              "baseRent           0\n",
              "livingSpace        0\n",
              "condition          0\n",
              "interiorQual       0\n",
              "petsAllowed        0\n",
              "lift               0\n",
              "baseRentRange      0\n",
              "typeOfFlat         0\n",
              "noRooms            0\n",
              "thermalChar        0\n",
              "floor              0\n",
              "numberOfFloors     0\n",
              "garden             0\n",
              "regio2             0\n",
              "dtype: int64"
            ]
          },
          "metadata": {},
          "execution_count": 36
        }
      ]
    },
    {
      "cell_type": "code",
      "source": [
        "df_g.shape"
      ],
      "metadata": {
        "colab": {
          "base_uri": "https://localhost:8080/"
        },
        "id": "Kc-mKvQu_sx2",
        "outputId": "b78cf6a4-d9cc-4222-c2cd-69a1256a4a05"
      },
      "execution_count": 37,
      "outputs": [
        {
          "output_type": "execute_result",
          "data": {
            "text/plain": [
              "(240603, 23)"
            ]
          },
          "metadata": {},
          "execution_count": 37
        }
      ]
    },
    {
      "cell_type": "code",
      "source": [
        "df_g.columns"
      ],
      "metadata": {
        "colab": {
          "base_uri": "https://localhost:8080/"
        },
        "id": "h50gO5OQACNq",
        "outputId": "ed8f6767-f2e6-44fa-bf0c-292e2b974ed1"
      },
      "execution_count": 38,
      "outputs": [
        {
          "output_type": "execute_result",
          "data": {
            "text/plain": [
              "Index(['regio1', 'serviceCharge', 'heatingType', 'newlyConst', 'balcony',\n",
              "       'totalRent', 'yearConstructed', 'hasKitchen', 'cellar', 'baseRent',\n",
              "       'livingSpace', 'condition', 'interiorQual', 'petsAllowed', 'lift',\n",
              "       'baseRentRange', 'typeOfFlat', 'noRooms', 'thermalChar', 'floor',\n",
              "       'numberOfFloors', 'garden', 'regio2'],\n",
              "      dtype='object')"
            ]
          },
          "metadata": {},
          "execution_count": 38
        }
      ]
    },
    {
      "cell_type": "code",
      "source": [
        "df_g.head()"
      ],
      "metadata": {
        "colab": {
          "base_uri": "https://localhost:8080/",
          "height": 299
        },
        "id": "emrp0LXXF0-x",
        "outputId": "23cb70e9-ce87-49e6-dc9f-a2e690092b16"
      },
      "execution_count": 39,
      "outputs": [
        {
          "output_type": "execute_result",
          "data": {
            "text/plain": [
              "                regio1  serviceCharge                     heatingType  \\\n",
              "0  Nordrhein_Westfalen         245.00                 central_heating   \n",
              "1      Rheinland_Pfalz         134.00  self_contained_central_heating   \n",
              "2              Sachsen         255.00                   floor_heating   \n",
              "3              Sachsen          58.15                district_heating   \n",
              "4               Bremen         138.00  self_contained_central_heating   \n",
              "\n",
              "   newlyConst  balcony    totalRent  yearConstructed  hasKitchen  cellar  \\\n",
              "0       False    False   840.000000           1965.0       False    True   \n",
              "1       False     True   907.332726           1871.0       False   False   \n",
              "2        True     True  1300.000000           2019.0       False    True   \n",
              "3       False     True   907.332726           1964.0       False   False   \n",
              "4       False     True   903.000000           1950.0       False   False   \n",
              "\n",
              "   baseRent  ...  petsAllowed   lift baseRentRange    typeOfFlat  noRooms  \\\n",
              "0     595.0  ...   negotiable  False             4  ground_floor      4.0   \n",
              "1     800.0  ...           no  False             5  ground_floor      3.0   \n",
              "2     965.0  ...   negotiable   True             6     apartment      3.0   \n",
              "3     343.0  ...   negotiable  False             2         other      3.0   \n",
              "4     765.0  ...   negotiable  False             5     apartment      3.0   \n",
              "\n",
              "   thermalChar     floor  numberOfFloors  garden               regio2  \n",
              "0   181.400000  1.000000        3.000000    True             Dortmund  \n",
              "1   114.541773  2.124879        3.581206   False    Rhein_Pfalz_Kreis  \n",
              "2   114.541773  3.000000        4.000000   False              Dresden  \n",
              "3    86.000000  3.000000        3.581206   False  Mittelsachsen_Kreis  \n",
              "4   188.900000  1.000000        3.581206   False               Bremen  \n",
              "\n",
              "[5 rows x 23 columns]"
            ],
            "text/html": [
              "\n",
              "  <div id=\"df-a66308c0-083f-457c-88e5-3dc1aed2a208\">\n",
              "    <div class=\"colab-df-container\">\n",
              "      <div>\n",
              "<style scoped>\n",
              "    .dataframe tbody tr th:only-of-type {\n",
              "        vertical-align: middle;\n",
              "    }\n",
              "\n",
              "    .dataframe tbody tr th {\n",
              "        vertical-align: top;\n",
              "    }\n",
              "\n",
              "    .dataframe thead th {\n",
              "        text-align: right;\n",
              "    }\n",
              "</style>\n",
              "<table border=\"1\" class=\"dataframe\">\n",
              "  <thead>\n",
              "    <tr style=\"text-align: right;\">\n",
              "      <th></th>\n",
              "      <th>regio1</th>\n",
              "      <th>serviceCharge</th>\n",
              "      <th>heatingType</th>\n",
              "      <th>newlyConst</th>\n",
              "      <th>balcony</th>\n",
              "      <th>totalRent</th>\n",
              "      <th>yearConstructed</th>\n",
              "      <th>hasKitchen</th>\n",
              "      <th>cellar</th>\n",
              "      <th>baseRent</th>\n",
              "      <th>...</th>\n",
              "      <th>petsAllowed</th>\n",
              "      <th>lift</th>\n",
              "      <th>baseRentRange</th>\n",
              "      <th>typeOfFlat</th>\n",
              "      <th>noRooms</th>\n",
              "      <th>thermalChar</th>\n",
              "      <th>floor</th>\n",
              "      <th>numberOfFloors</th>\n",
              "      <th>garden</th>\n",
              "      <th>regio2</th>\n",
              "    </tr>\n",
              "  </thead>\n",
              "  <tbody>\n",
              "    <tr>\n",
              "      <th>0</th>\n",
              "      <td>Nordrhein_Westfalen</td>\n",
              "      <td>245.00</td>\n",
              "      <td>central_heating</td>\n",
              "      <td>False</td>\n",
              "      <td>False</td>\n",
              "      <td>840.000000</td>\n",
              "      <td>1965.0</td>\n",
              "      <td>False</td>\n",
              "      <td>True</td>\n",
              "      <td>595.0</td>\n",
              "      <td>...</td>\n",
              "      <td>negotiable</td>\n",
              "      <td>False</td>\n",
              "      <td>4</td>\n",
              "      <td>ground_floor</td>\n",
              "      <td>4.0</td>\n",
              "      <td>181.400000</td>\n",
              "      <td>1.000000</td>\n",
              "      <td>3.000000</td>\n",
              "      <td>True</td>\n",
              "      <td>Dortmund</td>\n",
              "    </tr>\n",
              "    <tr>\n",
              "      <th>1</th>\n",
              "      <td>Rheinland_Pfalz</td>\n",
              "      <td>134.00</td>\n",
              "      <td>self_contained_central_heating</td>\n",
              "      <td>False</td>\n",
              "      <td>True</td>\n",
              "      <td>907.332726</td>\n",
              "      <td>1871.0</td>\n",
              "      <td>False</td>\n",
              "      <td>False</td>\n",
              "      <td>800.0</td>\n",
              "      <td>...</td>\n",
              "      <td>no</td>\n",
              "      <td>False</td>\n",
              "      <td>5</td>\n",
              "      <td>ground_floor</td>\n",
              "      <td>3.0</td>\n",
              "      <td>114.541773</td>\n",
              "      <td>2.124879</td>\n",
              "      <td>3.581206</td>\n",
              "      <td>False</td>\n",
              "      <td>Rhein_Pfalz_Kreis</td>\n",
              "    </tr>\n",
              "    <tr>\n",
              "      <th>2</th>\n",
              "      <td>Sachsen</td>\n",
              "      <td>255.00</td>\n",
              "      <td>floor_heating</td>\n",
              "      <td>True</td>\n",
              "      <td>True</td>\n",
              "      <td>1300.000000</td>\n",
              "      <td>2019.0</td>\n",
              "      <td>False</td>\n",
              "      <td>True</td>\n",
              "      <td>965.0</td>\n",
              "      <td>...</td>\n",
              "      <td>negotiable</td>\n",
              "      <td>True</td>\n",
              "      <td>6</td>\n",
              "      <td>apartment</td>\n",
              "      <td>3.0</td>\n",
              "      <td>114.541773</td>\n",
              "      <td>3.000000</td>\n",
              "      <td>4.000000</td>\n",
              "      <td>False</td>\n",
              "      <td>Dresden</td>\n",
              "    </tr>\n",
              "    <tr>\n",
              "      <th>3</th>\n",
              "      <td>Sachsen</td>\n",
              "      <td>58.15</td>\n",
              "      <td>district_heating</td>\n",
              "      <td>False</td>\n",
              "      <td>True</td>\n",
              "      <td>907.332726</td>\n",
              "      <td>1964.0</td>\n",
              "      <td>False</td>\n",
              "      <td>False</td>\n",
              "      <td>343.0</td>\n",
              "      <td>...</td>\n",
              "      <td>negotiable</td>\n",
              "      <td>False</td>\n",
              "      <td>2</td>\n",
              "      <td>other</td>\n",
              "      <td>3.0</td>\n",
              "      <td>86.000000</td>\n",
              "      <td>3.000000</td>\n",
              "      <td>3.581206</td>\n",
              "      <td>False</td>\n",
              "      <td>Mittelsachsen_Kreis</td>\n",
              "    </tr>\n",
              "    <tr>\n",
              "      <th>4</th>\n",
              "      <td>Bremen</td>\n",
              "      <td>138.00</td>\n",
              "      <td>self_contained_central_heating</td>\n",
              "      <td>False</td>\n",
              "      <td>True</td>\n",
              "      <td>903.000000</td>\n",
              "      <td>1950.0</td>\n",
              "      <td>False</td>\n",
              "      <td>False</td>\n",
              "      <td>765.0</td>\n",
              "      <td>...</td>\n",
              "      <td>negotiable</td>\n",
              "      <td>False</td>\n",
              "      <td>5</td>\n",
              "      <td>apartment</td>\n",
              "      <td>3.0</td>\n",
              "      <td>188.900000</td>\n",
              "      <td>1.000000</td>\n",
              "      <td>3.581206</td>\n",
              "      <td>False</td>\n",
              "      <td>Bremen</td>\n",
              "    </tr>\n",
              "  </tbody>\n",
              "</table>\n",
              "<p>5 rows × 23 columns</p>\n",
              "</div>\n",
              "      <button class=\"colab-df-convert\" onclick=\"convertToInteractive('df-a66308c0-083f-457c-88e5-3dc1aed2a208')\"\n",
              "              title=\"Convert this dataframe to an interactive table.\"\n",
              "              style=\"display:none;\">\n",
              "        \n",
              "  <svg xmlns=\"http://www.w3.org/2000/svg\" height=\"24px\"viewBox=\"0 0 24 24\"\n",
              "       width=\"24px\">\n",
              "    <path d=\"M0 0h24v24H0V0z\" fill=\"none\"/>\n",
              "    <path d=\"M18.56 5.44l.94 2.06.94-2.06 2.06-.94-2.06-.94-.94-2.06-.94 2.06-2.06.94zm-11 1L8.5 8.5l.94-2.06 2.06-.94-2.06-.94L8.5 2.5l-.94 2.06-2.06.94zm10 10l.94 2.06.94-2.06 2.06-.94-2.06-.94-.94-2.06-.94 2.06-2.06.94z\"/><path d=\"M17.41 7.96l-1.37-1.37c-.4-.4-.92-.59-1.43-.59-.52 0-1.04.2-1.43.59L10.3 9.45l-7.72 7.72c-.78.78-.78 2.05 0 2.83L4 21.41c.39.39.9.59 1.41.59.51 0 1.02-.2 1.41-.59l7.78-7.78 2.81-2.81c.8-.78.8-2.07 0-2.86zM5.41 20L4 18.59l7.72-7.72 1.47 1.35L5.41 20z\"/>\n",
              "  </svg>\n",
              "      </button>\n",
              "      \n",
              "  <style>\n",
              "    .colab-df-container {\n",
              "      display:flex;\n",
              "      flex-wrap:wrap;\n",
              "      gap: 12px;\n",
              "    }\n",
              "\n",
              "    .colab-df-convert {\n",
              "      background-color: #E8F0FE;\n",
              "      border: none;\n",
              "      border-radius: 50%;\n",
              "      cursor: pointer;\n",
              "      display: none;\n",
              "      fill: #1967D2;\n",
              "      height: 32px;\n",
              "      padding: 0 0 0 0;\n",
              "      width: 32px;\n",
              "    }\n",
              "\n",
              "    .colab-df-convert:hover {\n",
              "      background-color: #E2EBFA;\n",
              "      box-shadow: 0px 1px 2px rgba(60, 64, 67, 0.3), 0px 1px 3px 1px rgba(60, 64, 67, 0.15);\n",
              "      fill: #174EA6;\n",
              "    }\n",
              "\n",
              "    [theme=dark] .colab-df-convert {\n",
              "      background-color: #3B4455;\n",
              "      fill: #D2E3FC;\n",
              "    }\n",
              "\n",
              "    [theme=dark] .colab-df-convert:hover {\n",
              "      background-color: #434B5C;\n",
              "      box-shadow: 0px 1px 3px 1px rgba(0, 0, 0, 0.15);\n",
              "      filter: drop-shadow(0px 1px 2px rgba(0, 0, 0, 0.3));\n",
              "      fill: #FFFFFF;\n",
              "    }\n",
              "  </style>\n",
              "\n",
              "      <script>\n",
              "        const buttonEl =\n",
              "          document.querySelector('#df-a66308c0-083f-457c-88e5-3dc1aed2a208 button.colab-df-convert');\n",
              "        buttonEl.style.display =\n",
              "          google.colab.kernel.accessAllowed ? 'block' : 'none';\n",
              "\n",
              "        async function convertToInteractive(key) {\n",
              "          const element = document.querySelector('#df-a66308c0-083f-457c-88e5-3dc1aed2a208');\n",
              "          const dataTable =\n",
              "            await google.colab.kernel.invokeFunction('convertToInteractive',\n",
              "                                                     [key], {});\n",
              "          if (!dataTable) return;\n",
              "\n",
              "          const docLinkHtml = 'Like what you see? Visit the ' +\n",
              "            '<a target=\"_blank\" href=https://colab.research.google.com/notebooks/data_table.ipynb>data table notebook</a>'\n",
              "            + ' to learn more about interactive tables.';\n",
              "          element.innerHTML = '';\n",
              "          dataTable['output_type'] = 'display_data';\n",
              "          await google.colab.output.renderOutput(dataTable, element);\n",
              "          const docLink = document.createElement('div');\n",
              "          docLink.innerHTML = docLinkHtml;\n",
              "          element.appendChild(docLink);\n",
              "        }\n",
              "      </script>\n",
              "    </div>\n",
              "  </div>\n",
              "  "
            ]
          },
          "metadata": {},
          "execution_count": 39
        }
      ]
    },
    {
      "cell_type": "markdown",
      "source": [
        "categorical data"
      ],
      "metadata": {
        "id": "e5JXJZGrJ-sX"
      }
    },
    {
      "cell_type": "code",
      "source": [
        "df_g.petsAllowed.unique()"
      ],
      "metadata": {
        "colab": {
          "base_uri": "https://localhost:8080/"
        },
        "id": "o3tdgoDHJ3et",
        "outputId": "c331700d-c4f7-4f80-d806-7fad1af228e9"
      },
      "execution_count": 40,
      "outputs": [
        {
          "output_type": "execute_result",
          "data": {
            "text/plain": [
              "array(['negotiable', 'no', 'yes'], dtype=object)"
            ]
          },
          "metadata": {},
          "execution_count": 40
        }
      ]
    },
    {
      "cell_type": "code",
      "source": [
        "df_g['regio1'].value_counts()*100/len(df_g)"
      ],
      "metadata": {
        "colab": {
          "base_uri": "https://localhost:8080/"
        },
        "id": "2F1gC0mYKX8O",
        "outputId": "32c3fc14-07eb-4d99-9a34-9863e97f8ce2"
      },
      "execution_count": 41,
      "outputs": [
        {
          "output_type": "execute_result",
          "data": {
            "text/plain": [
              "Nordrhein_Westfalen       23.212512\n",
              "Sachsen                   22.302299\n",
              "Bayern                     7.982444\n",
              "Sachsen_Anhalt             7.735980\n",
              "Hessen                     6.496594\n",
              "Niedersachsen              6.245142\n",
              "Baden_Württemberg          5.957947\n",
              "Thüringen                  3.226477\n",
              "Rheinland_Pfalz            3.144184\n",
              "Berlin                     2.981260\n",
              "Brandenburg                2.619252\n",
              "Mecklenburg_Vorpommern     2.566053\n",
              "Schleswig_Holstein         2.505372\n",
              "Hamburg                    1.346201\n",
              "Bremen                     1.146702\n",
              "Saarland                   0.531581\n",
              "Name: regio1, dtype: float64"
            ]
          },
          "metadata": {},
          "execution_count": 41
        }
      ]
    },
    {
      "cell_type": "code",
      "source": [
        "def edit_regio1(x):\n",
        "    if x in ['Hamburg','Bremen','Saarland']:\n",
        "        return 'other'\n",
        "    else:\n",
        "        return x\n",
        "    \n",
        "df_g['regio1_edit'] = df_g['regio1'].apply(edit_regio1)\n",
        "df_g = df_g.drop(columns = ['regio1'])"
      ],
      "metadata": {
        "id": "gUpz2MriL7id"
      },
      "execution_count": 42,
      "outputs": []
    },
    {
      "cell_type": "code",
      "source": [
        "df_g['regio1_edit'].value_counts()*100/len(df_g)"
      ],
      "metadata": {
        "colab": {
          "base_uri": "https://localhost:8080/"
        },
        "id": "27pqr0jNNlGu",
        "outputId": "db7e2961-59c5-4a7c-ba54-29228fccdef9"
      },
      "execution_count": 43,
      "outputs": [
        {
          "output_type": "execute_result",
          "data": {
            "text/plain": [
              "Nordrhein_Westfalen       23.212512\n",
              "Sachsen                   22.302299\n",
              "Bayern                     7.982444\n",
              "Sachsen_Anhalt             7.735980\n",
              "Hessen                     6.496594\n",
              "Niedersachsen              6.245142\n",
              "Baden_Württemberg          5.957947\n",
              "Thüringen                  3.226477\n",
              "Rheinland_Pfalz            3.144184\n",
              "other                      3.024484\n",
              "Berlin                     2.981260\n",
              "Brandenburg                2.619252\n",
              "Mecklenburg_Vorpommern     2.566053\n",
              "Schleswig_Holstein         2.505372\n",
              "Name: regio1_edit, dtype: float64"
            ]
          },
          "metadata": {},
          "execution_count": 43
        }
      ]
    },
    {
      "cell_type": "markdown",
      "source": [
        "# Q2-Data Visualization"
      ],
      "metadata": {
        "id": "h3gXwALYHZvk"
      }
    },
    {
      "cell_type": "code",
      "source": [
        "corr = df_g.corr()\n",
        "plt.figure(figsize=(15,8))\n",
        "sns.heatmap(corr, annot=True)"
      ],
      "metadata": {
        "colab": {
          "base_uri": "https://localhost:8080/",
          "height": 547
        },
        "id": "4X4lbeKLdAQ_",
        "outputId": "b70e9224-b832-473b-8ae5-cddf4b32f53c"
      },
      "execution_count": 44,
      "outputs": [
        {
          "output_type": "execute_result",
          "data": {
            "text/plain": [
              "<matplotlib.axes._subplots.AxesSubplot at 0x7fcd246392d0>"
            ]
          },
          "metadata": {},
          "execution_count": 44
        },
        {
          "output_type": "display_data",
          "data": {
            "text/plain": [
              "<Figure size 1080x576 with 2 Axes>"
            ],
            "image/png": "[encoded data removed]"
          },
          "metadata": {
            "needs_background": "light"
          }
        }
      ]
    },
    {
      "cell_type": "code",
      "source": [
        "df_g.regio1_edit.value_counts().iloc[:10]"
      ],
      "metadata": {
        "colab": {
          "base_uri": "https://localhost:8080/"
        },
        "id": "QnDSWNgbeV-7",
        "outputId": "6b6147ba-4cf0-4f75-d493-1f2d98acf247"
      },
      "execution_count": 45,
      "outputs": [
        {
          "output_type": "execute_result",
          "data": {
            "text/plain": [
              "Nordrhein_Westfalen    55850\n",
              "Sachsen                53660\n",
              "Bayern                 19206\n",
              "Sachsen_Anhalt         18613\n",
              "Hessen                 15631\n",
              "Niedersachsen          15026\n",
              "Baden_Württemberg      14335\n",
              "Thüringen               7763\n",
              "Rheinland_Pfalz         7565\n",
              "other                   7277\n",
              "Name: regio1_edit, dtype: int64"
            ]
          },
          "metadata": {},
          "execution_count": 45
        }
      ]
    },
    {
      "cell_type": "code",
      "source": [
        "df_g.regio2.value_counts().iloc[:10]"
      ],
      "metadata": {
        "colab": {
          "base_uri": "https://localhost:8080/"
        },
        "id": "PjqBqH7HewG5",
        "outputId": "143f42ed-f51c-4db6-d149-e83f2be01249"
      },
      "execution_count": 46,
      "outputs": [
        {
          "output_type": "execute_result",
          "data": {
            "text/plain": [
              "Leipzig              12774\n",
              "Chemnitz             11636\n",
              "Berlin                7173\n",
              "Dresden               7047\n",
              "Magdeburg             4485\n",
              "Halle_Saale           4290\n",
              "Essen                 3846\n",
              "München               3636\n",
              "Frankfurt_am_Main     3601\n",
              "Hamburg               3239\n",
              "Name: regio2, dtype: int64"
            ]
          },
          "metadata": {},
          "execution_count": 46
        }
      ]
    },
    {
      "cell_type": "code",
      "source": [
        "plt.figure(figsize=(10,4))\n",
        "df_g.regio2.value_counts().iloc[:5].plot(kind = 'barh')"
      ],
      "metadata": {
        "colab": {
          "base_uri": "https://localhost:8080/",
          "height": 284
        },
        "id": "g7O5f8iHelLp",
        "outputId": "a2145f92-8a84-4f3d-e458-1d773e7ad1a0"
      },
      "execution_count": 47,
      "outputs": [
        {
          "output_type": "execute_result",
          "data": {
            "text/plain": [
              "<matplotlib.axes._subplots.AxesSubplot at 0x7fcd208c3090>"
            ]
          },
          "metadata": {},
          "execution_count": 47
        },
        {
          "output_type": "display_data",
          "data": {
            "text/plain": [
              "<Figure size 720x288 with 1 Axes>"
            ],
            "image/png": "[encoded data removed]"
          },
          "metadata": {
            "needs_background": "light"
          }
        }
      ]
    },
    {
      "cell_type": "code",
      "source": [
        "df_g.columns"
      ],
      "metadata": {
        "colab": {
          "base_uri": "https://localhost:8080/"
        },
        "id": "VvygSJXsOk5r",
        "outputId": "ee3aebb9-b7f5-4831-a653-089f02aea105"
      },
      "execution_count": 48,
      "outputs": [
        {
          "output_type": "execute_result",
          "data": {
            "text/plain": [
              "Index(['serviceCharge', 'heatingType', 'newlyConst', 'balcony', 'totalRent',\n",
              "       'yearConstructed', 'hasKitchen', 'cellar', 'baseRent', 'livingSpace',\n",
              "       'condition', 'interiorQual', 'petsAllowed', 'lift', 'baseRentRange',\n",
              "       'typeOfFlat', 'noRooms', 'thermalChar', 'floor', 'numberOfFloors',\n",
              "       'garden', 'regio2', 'regio1_edit'],\n",
              "      dtype='object')"
            ]
          },
          "metadata": {},
          "execution_count": 48
        }
      ]
    },
    {
      "cell_type": "code",
      "source": [
        "df_city= df_g.groupby(['regio1_edit','regio2'])['baseRent'].mean().reset_index()"
      ],
      "metadata": {
        "id": "8yu-2APhOUnX"
      },
      "execution_count": 49,
      "outputs": []
    },
    {
      "cell_type": "code",
      "source": [
        "top_city_each= df_city.loc[df_city.groupby('regio1_edit')['baseRent'].idxmax()].sort_values(by='baseRent',ascending=False)\n",
        "top_city_each"
      ],
      "metadata": {
        "colab": {
          "base_uri": "https://localhost:8080/",
          "height": 488
        },
        "id": "PKDrjD8lOu4M",
        "outputId": "23451448-e345-4dc7-9d07-36c252e0c6cd"
      },
      "execution_count": 50,
      "outputs": [
        {
          "output_type": "execute_result",
          "data": {
            "text/plain": [
              "                regio1_edit             regio2     baseRent\n",
              "102                  Bayern            München  1575.775569\n",
              "38        Baden_Württemberg          Stuttgart  1296.229845\n",
              "162                  Hessen  Frankfurt_am_Main  1272.569747\n",
              "412                   other            Hamburg  1083.463927\n",
              "140                  Berlin             Berlin  1018.668882\n",
              "332         Rheinland_Pfalz             Speyer   996.754028\n",
              "262     Nordrhein_Westfalen         Düsseldorf   966.343633\n",
              "153             Brandenburg            Potsdam   861.885913\n",
              "221           Niedersachsen      Harburg_Kreis   806.646505\n",
              "386      Schleswig_Holstein     Stormarn_Kreis   805.631480\n",
              "408               Thüringen             Weimar   648.121491\n",
              "343                 Sachsen            Dresden   619.155248\n",
              "197  Mecklenburg_Vorpommern            Rostock   552.280821\n",
              "366          Sachsen_Anhalt          Magdeburg   414.624981"
            ],
            "text/html": [
              "\n",
              "  <div id=\"df-4aab823c-9db1-4c47-ae28-57c3dfe75ec5\">\n",
              "    <div class=\"colab-df-container\">\n",
              "      <div>\n",
              "<style scoped>\n",
              "    .dataframe tbody tr th:only-of-type {\n",
              "        vertical-align: middle;\n",
              "    }\n",
              "\n",
              "    .dataframe tbody tr th {\n",
              "        vertical-align: top;\n",
              "    }\n",
              "\n",
              "    .dataframe thead th {\n",
              "        text-align: right;\n",
              "    }\n",
              "</style>\n",
              "<table border=\"1\" class=\"dataframe\">\n",
              "  <thead>\n",
              "    <tr style=\"text-align: right;\">\n",
              "      <th></th>\n",
              "      <th>regio1_edit</th>\n",
              "      <th>regio2</th>\n",
              "      <th>baseRent</th>\n",
              "    </tr>\n",
              "  </thead>\n",
              "  <tbody>\n",
              "    <tr>\n",
              "      <th>102</th>\n",
              "      <td>Bayern</td>\n",
              "      <td>München</td>\n",
              "      <td>1575.775569</td>\n",
              "    </tr>\n",
              "    <tr>\n",
              "      <th>38</th>\n",
              "      <td>Baden_Württemberg</td>\n",
              "      <td>Stuttgart</td>\n",
              "      <td>1296.229845</td>\n",
              "    </tr>\n",
              "    <tr>\n",
              "      <th>162</th>\n",
              "      <td>Hessen</td>\n",
              "      <td>Frankfurt_am_Main</td>\n",
              "      <td>1272.569747</td>\n",
              "    </tr>\n",
              "    <tr>\n",
              "      <th>412</th>\n",
              "      <td>other</td>\n",
              "      <td>Hamburg</td>\n",
              "      <td>1083.463927</td>\n",
              "    </tr>\n",
              "    <tr>\n",
              "      <th>140</th>\n",
              "      <td>Berlin</td>\n",
              "      <td>Berlin</td>\n",
              "      <td>1018.668882</td>\n",
              "    </tr>\n",
              "    <tr>\n",
              "      <th>332</th>\n",
              "      <td>Rheinland_Pfalz</td>\n",
              "      <td>Speyer</td>\n",
              "      <td>996.754028</td>\n",
              "    </tr>\n",
              "    <tr>\n",
              "      <th>262</th>\n",
              "      <td>Nordrhein_Westfalen</td>\n",
              "      <td>Düsseldorf</td>\n",
              "      <td>966.343633</td>\n",
              "    </tr>\n",
              "    <tr>\n",
              "      <th>153</th>\n",
              "      <td>Brandenburg</td>\n",
              "      <td>Potsdam</td>\n",
              "      <td>861.885913</td>\n",
              "    </tr>\n",
              "    <tr>\n",
              "      <th>221</th>\n",
              "      <td>Niedersachsen</td>\n",
              "      <td>Harburg_Kreis</td>\n",
              "      <td>806.646505</td>\n",
              "    </tr>\n",
              "    <tr>\n",
              "      <th>386</th>\n",
              "      <td>Schleswig_Holstein</td>\n",
              "      <td>Stormarn_Kreis</td>\n",
              "      <td>805.631480</td>\n",
              "    </tr>\n",
              "    <tr>\n",
              "      <th>408</th>\n",
              "      <td>Thüringen</td>\n",
              "      <td>Weimar</td>\n",
              "      <td>648.121491</td>\n",
              "    </tr>\n",
              "    <tr>\n",
              "      <th>343</th>\n",
              "      <td>Sachsen</td>\n",
              "      <td>Dresden</td>\n",
              "      <td>619.155248</td>\n",
              "    </tr>\n",
              "    <tr>\n",
              "      <th>197</th>\n",
              "      <td>Mecklenburg_Vorpommern</td>\n",
              "      <td>Rostock</td>\n",
              "      <td>552.280821</td>\n",
              "    </tr>\n",
              "    <tr>\n",
              "      <th>366</th>\n",
              "      <td>Sachsen_Anhalt</td>\n",
              "      <td>Magdeburg</td>\n",
              "      <td>414.624981</td>\n",
              "    </tr>\n",
              "  </tbody>\n",
              "</table>\n",
              "</div>\n",
              "      <button class=\"colab-df-convert\" onclick=\"convertToInteractive('df-4aab823c-9db1-4c47-ae28-57c3dfe75ec5')\"\n",
              "              title=\"Convert this dataframe to an interactive table.\"\n",
              "              style=\"display:none;\">\n",
              "        \n",
              "  <svg xmlns=\"http://www.w3.org/2000/svg\" height=\"24px\"viewBox=\"0 0 24 24\"\n",
              "       width=\"24px\">\n",
              "    <path d=\"M0 0h24v24H0V0z\" fill=\"none\"/>\n",
              "    <path d=\"M18.56 5.44l.94 2.06.94-2.06 2.06-.94-2.06-.94-.94-2.06-.94 2.06-2.06.94zm-11 1L8.5 8.5l.94-2.06 2.06-.94-2.06-.94L8.5 2.5l-.94 2.06-2.06.94zm10 10l.94 2.06.94-2.06 2.06-.94-2.06-.94-.94-2.06-.94 2.06-2.06.94z\"/><path d=\"M17.41 7.96l-1.37-1.37c-.4-.4-.92-.59-1.43-.59-.52 0-1.04.2-1.43.59L10.3 9.45l-7.72 7.72c-.78.78-.78 2.05 0 2.83L4 21.41c.39.39.9.59 1.41.59.51 0 1.02-.2 1.41-.59l7.78-7.78 2.81-2.81c.8-.78.8-2.07 0-2.86zM5.41 20L4 18.59l7.72-7.72 1.47 1.35L5.41 20z\"/>\n",
              "  </svg>\n",
              "      </button>\n",
              "      \n",
              "  <style>\n",
              "    .colab-df-container {\n",
              "      display:flex;\n",
              "      flex-wrap:wrap;\n",
              "      gap: 12px;\n",
              "    }\n",
              "\n",
              "    .colab-df-convert {\n",
              "      background-color: #E8F0FE;\n",
              "      border: none;\n",
              "      border-radius: 50%;\n",
              "      cursor: pointer;\n",
              "      display: none;\n",
              "      fill: #1967D2;\n",
              "      height: 32px;\n",
              "      padding: 0 0 0 0;\n",
              "      width: 32px;\n",
              "    }\n",
              "\n",
              "    .colab-df-convert:hover {\n",
              "      background-color: #E2EBFA;\n",
              "      box-shadow: 0px 1px 2px rgba(60, 64, 67, 0.3), 0px 1px 3px 1px rgba(60, 64, 67, 0.15);\n",
              "      fill: #174EA6;\n",
              "    }\n",
              "\n",
              "    [theme=dark] .colab-df-convert {\n",
              "      background-color: #3B4455;\n",
              "      fill: #D2E3FC;\n",
              "    }\n",
              "\n",
              "    [theme=dark] .colab-df-convert:hover {\n",
              "      background-color: #434B5C;\n",
              "      box-shadow: 0px 1px 3px 1px rgba(0, 0, 0, 0.15);\n",
              "      filter: drop-shadow(0px 1px 2px rgba(0, 0, 0, 0.3));\n",
              "      fill: #FFFFFF;\n",
              "    }\n",
              "  </style>\n",
              "\n",
              "      <script>\n",
              "        const buttonEl =\n",
              "          document.querySelector('#df-4aab823c-9db1-4c47-ae28-57c3dfe75ec5 button.colab-df-convert');\n",
              "        buttonEl.style.display =\n",
              "          google.colab.kernel.accessAllowed ? 'block' : 'none';\n",
              "\n",
              "        async function convertToInteractive(key) {\n",
              "          const element = document.querySelector('#df-4aab823c-9db1-4c47-ae28-57c3dfe75ec5');\n",
              "          const dataTable =\n",
              "            await google.colab.kernel.invokeFunction('convertToInteractive',\n",
              "                                                     [key], {});\n",
              "          if (!dataTable) return;\n",
              "\n",
              "          const docLinkHtml = 'Like what you see? Visit the ' +\n",
              "            '<a target=\"_blank\" href=https://colab.research.google.com/notebooks/data_table.ipynb>data table notebook</a>'\n",
              "            + ' to learn more about interactive tables.';\n",
              "          element.innerHTML = '';\n",
              "          dataTable['output_type'] = 'display_data';\n",
              "          await google.colab.output.renderOutput(dataTable, element);\n",
              "          const docLink = document.createElement('div');\n",
              "          docLink.innerHTML = docLinkHtml;\n",
              "          element.appendChild(docLink);\n",
              "        }\n",
              "      </script>\n",
              "    </div>\n",
              "  </div>\n",
              "  "
            ]
          },
          "metadata": {},
          "execution_count": 50
        }
      ]
    },
    {
      "cell_type": "code",
      "source": [
        "top_city_each.plot.bar(x='regio2', rot=90, title='Top cities in each state groups in Germany')\n",
        "plt.xlabel('regio2')\n",
        "plt.ylabel('baseRent')"
      ],
      "metadata": {
        "colab": {
          "base_uri": "https://localhost:8080/",
          "height": 398
        },
        "id": "fqWAcc5ZPDH2",
        "outputId": "d0ec5352-4df9-4a33-80f8-6ddc30dfd7b9"
      },
      "execution_count": 51,
      "outputs": [
        {
          "output_type": "execute_result",
          "data": {
            "text/plain": [
              "Text(0, 0.5, 'baseRent')"
            ]
          },
          "metadata": {},
          "execution_count": 51
        },
        {
          "output_type": "display_data",
          "data": {
            "text/plain": [
              "<Figure size 432x288 with 1 Axes>"
            ],
            "image/png": "[encoded data removed]"
          },
          "metadata": {
            "needs_background": "light"
          }
        }
      ]
    },
    {
      "cell_type": "code",
      "source": [
        "df_flat= df_g.groupby(['typeOfFlat','regio1_edit'])['baseRent'].mean().reset_index()"
      ],
      "metadata": {
        "id": "B_w3bK8ISyTJ"
      },
      "execution_count": 52,
      "outputs": []
    },
    {
      "cell_type": "code",
      "source": [
        "top_flat_type= df_flat.loc[df_flat.groupby('typeOfFlat')['baseRent'].idxmax()].sort_values(by='baseRent',ascending=False)\n",
        "top_flat_type"
      ],
      "metadata": {
        "colab": {
          "base_uri": "https://localhost:8080/",
          "height": 363
        },
        "id": "oJGwQ39bTJmz",
        "outputId": "b47e302e-e55f-4737-ba5f-a67b453249ee"
      },
      "execution_count": 53,
      "outputs": [
        {
          "output_type": "execute_result",
          "data": {
            "text/plain": [
              "              typeOfFlat regio1_edit     baseRent\n",
              "86             penthouse      Berlin  1903.851778\n",
              "44                  loft      Berlin  1574.337931\n",
              "58            maisonette      Berlin  1415.626783\n",
              "114          roof_storey      Berlin  1315.278607\n",
              "128        terraced_flat      Berlin  1273.992258\n",
              "72                 other      Berlin  1040.130694\n",
              "2              apartment      Berlin   962.908263\n",
              "16          ground_floor      Berlin   929.009412\n",
              "102  raised_ground_floor      Hessen   920.475919\n",
              "41         half_basement       other   718.684186"
            ],
            "text/html": [
              "\n",
              "  <div id=\"df-607a94ab-d255-451a-ab86-2f710dc947f1\">\n",
              "    <div class=\"colab-df-container\">\n",
              "      <div>\n",
              "<style scoped>\n",
              "    .dataframe tbody tr th:only-of-type {\n",
              "        vertical-align: middle;\n",
              "    }\n",
              "\n",
              "    .dataframe tbody tr th {\n",
              "        vertical-align: top;\n",
              "    }\n",
              "\n",
              "    .dataframe thead th {\n",
              "        text-align: right;\n",
              "    }\n",
              "</style>\n",
              "<table border=\"1\" class=\"dataframe\">\n",
              "  <thead>\n",
              "    <tr style=\"text-align: right;\">\n",
              "      <th></th>\n",
              "      <th>typeOfFlat</th>\n",
              "      <th>regio1_edit</th>\n",
              "      <th>baseRent</th>\n",
              "    </tr>\n",
              "  </thead>\n",
              "  <tbody>\n",
              "    <tr>\n",
              "      <th>86</th>\n",
              "      <td>penthouse</td>\n",
              "      <td>Berlin</td>\n",
              "      <td>1903.851778</td>\n",
              "    </tr>\n",
              "    <tr>\n",
              "      <th>44</th>\n",
              "      <td>loft</td>\n",
              "      <td>Berlin</td>\n",
              "      <td>1574.337931</td>\n",
              "    </tr>\n",
              "    <tr>\n",
              "      <th>58</th>\n",
              "      <td>maisonette</td>\n",
              "      <td>Berlin</td>\n",
              "      <td>1415.626783</td>\n",
              "    </tr>\n",
              "    <tr>\n",
              "      <th>114</th>\n",
              "      <td>roof_storey</td>\n",
              "      <td>Berlin</td>\n",
              "      <td>1315.278607</td>\n",
              "    </tr>\n",
              "    <tr>\n",
              "      <th>128</th>\n",
              "      <td>terraced_flat</td>\n",
              "      <td>Berlin</td>\n",
              "      <td>1273.992258</td>\n",
              "    </tr>\n",
              "    <tr>\n",
              "      <th>72</th>\n",
              "      <td>other</td>\n",
              "      <td>Berlin</td>\n",
              "      <td>1040.130694</td>\n",
              "    </tr>\n",
              "    <tr>\n",
              "      <th>2</th>\n",
              "      <td>apartment</td>\n",
              "      <td>Berlin</td>\n",
              "      <td>962.908263</td>\n",
              "    </tr>\n",
              "    <tr>\n",
              "      <th>16</th>\n",
              "      <td>ground_floor</td>\n",
              "      <td>Berlin</td>\n",
              "      <td>929.009412</td>\n",
              "    </tr>\n",
              "    <tr>\n",
              "      <th>102</th>\n",
              "      <td>raised_ground_floor</td>\n",
              "      <td>Hessen</td>\n",
              "      <td>920.475919</td>\n",
              "    </tr>\n",
              "    <tr>\n",
              "      <th>41</th>\n",
              "      <td>half_basement</td>\n",
              "      <td>other</td>\n",
              "      <td>718.684186</td>\n",
              "    </tr>\n",
              "  </tbody>\n",
              "</table>\n",
              "</div>\n",
              "      <button class=\"colab-df-convert\" onclick=\"convertToInteractive('df-607a94ab-d255-451a-ab86-2f710dc947f1')\"\n",
              "              title=\"Convert this dataframe to an interactive table.\"\n",
              "              style=\"display:none;\">\n",
              "        \n",
              "  <svg xmlns=\"http://www.w3.org/2000/svg\" height=\"24px\"viewBox=\"0 0 24 24\"\n",
              "       width=\"24px\">\n",
              "    <path d=\"M0 0h24v24H0V0z\" fill=\"none\"/>\n",
              "    <path d=\"M18.56 5.44l.94 2.06.94-2.06 2.06-.94-2.06-.94-.94-2.06-.94 2.06-2.06.94zm-11 1L8.5 8.5l.94-2.06 2.06-.94-2.06-.94L8.5 2.5l-.94 2.06-2.06.94zm10 10l.94 2.06.94-2.06 2.06-.94-2.06-.94-.94-2.06-.94 2.06-2.06.94z\"/><path d=\"M17.41 7.96l-1.37-1.37c-.4-.4-.92-.59-1.43-.59-.52 0-1.04.2-1.43.59L10.3 9.45l-7.72 7.72c-.78.78-.78 2.05 0 2.83L4 21.41c.39.39.9.59 1.41.59.51 0 1.02-.2 1.41-.59l7.78-7.78 2.81-2.81c.8-.78.8-2.07 0-2.86zM5.41 20L4 18.59l7.72-7.72 1.47 1.35L5.41 20z\"/>\n",
              "  </svg>\n",
              "      </button>\n",
              "      \n",
              "  <style>\n",
              "    .colab-df-container {\n",
              "      display:flex;\n",
              "      flex-wrap:wrap;\n",
              "      gap: 12px;\n",
              "    }\n",
              "\n",
              "    .colab-df-convert {\n",
              "      background-color: #E8F0FE;\n",
              "      border: none;\n",
              "      border-radius: 50%;\n",
              "      cursor: pointer;\n",
              "      display: none;\n",
              "      fill: #1967D2;\n",
              "      height: 32px;\n",
              "      padding: 0 0 0 0;\n",
              "      width: 32px;\n",
              "    }\n",
              "\n",
              "    .colab-df-convert:hover {\n",
              "      background-color: #E2EBFA;\n",
              "      box-shadow: 0px 1px 2px rgba(60, 64, 67, 0.3), 0px 1px 3px 1px rgba(60, 64, 67, 0.15);\n",
              "      fill: #174EA6;\n",
              "    }\n",
              "\n",
              "    [theme=dark] .colab-df-convert {\n",
              "      background-color: #3B4455;\n",
              "      fill: #D2E3FC;\n",
              "    }\n",
              "\n",
              "    [theme=dark] .colab-df-convert:hover {\n",
              "      background-color: #434B5C;\n",
              "      box-shadow: 0px 1px 3px 1px rgba(0, 0, 0, 0.15);\n",
              "      filter: drop-shadow(0px 1px 2px rgba(0, 0, 0, 0.3));\n",
              "      fill: #FFFFFF;\n",
              "    }\n",
              "  </style>\n",
              "\n",
              "      <script>\n",
              "        const buttonEl =\n",
              "          document.querySelector('#df-607a94ab-d255-451a-ab86-2f710dc947f1 button.colab-df-convert');\n",
              "        buttonEl.style.display =\n",
              "          google.colab.kernel.accessAllowed ? 'block' : 'none';\n",
              "\n",
              "        async function convertToInteractive(key) {\n",
              "          const element = document.querySelector('#df-607a94ab-d255-451a-ab86-2f710dc947f1');\n",
              "          const dataTable =\n",
              "            await google.colab.kernel.invokeFunction('convertToInteractive',\n",
              "                                                     [key], {});\n",
              "          if (!dataTable) return;\n",
              "\n",
              "          const docLinkHtml = 'Like what you see? Visit the ' +\n",
              "            '<a target=\"_blank\" href=https://colab.research.google.com/notebooks/data_table.ipynb>data table notebook</a>'\n",
              "            + ' to learn more about interactive tables.';\n",
              "          element.innerHTML = '';\n",
              "          dataTable['output_type'] = 'display_data';\n",
              "          await google.colab.output.renderOutput(dataTable, element);\n",
              "          const docLink = document.createElement('div');\n",
              "          docLink.innerHTML = docLinkHtml;\n",
              "          element.appendChild(docLink);\n",
              "        }\n",
              "      </script>\n",
              "    </div>\n",
              "  </div>\n",
              "  "
            ]
          },
          "metadata": {},
          "execution_count": 53
        }
      ]
    },
    {
      "cell_type": "code",
      "source": [
        "top_flat_type.plot.bar(x='typeOfFlat', rot=90, title='Top types of flats in Germany')\n",
        "plt.xlabel('typeOfFlat')\n",
        "plt.ylabel('baseRent')"
      ],
      "metadata": {
        "colab": {
          "base_uri": "https://localhost:8080/",
          "height": 402
        },
        "id": "BxMpAN_RTaO5",
        "outputId": "030bfd6d-110c-43ae-a91b-1c41c2298d47"
      },
      "execution_count": 54,
      "outputs": [
        {
          "output_type": "execute_result",
          "data": {
            "text/plain": [
              "Text(0, 0.5, 'baseRent')"
            ]
          },
          "metadata": {},
          "execution_count": 54
        },
        {
          "output_type": "display_data",
          "data": {
            "text/plain": [
              "<Figure size 432x288 with 1 Axes>"
            ],
            "image/png": "[encoded data removed]"
          },
          "metadata": {
            "needs_background": "light"
          }
        }
      ]
    },
    {
      "cell_type": "code",
      "source": [
        "sns.set(rc={\"figure.figsize\": (8, 8)})\n",
        "ax= sns.scatterplot(data=df_g, x=\"totalRent\", y=\"livingSpace\",hue='noRooms', size='noRooms')\n",
        "ax.set_title('livingSpace-totalRent')"
      ],
      "metadata": {
        "colab": {
          "base_uri": "https://localhost:8080/",
          "height": 536
        },
        "id": "t3xMXnUXVqdL",
        "outputId": "afe66fa9-a8a4-4323-b4b8-c33c281738b7"
      },
      "execution_count": 55,
      "outputs": [
        {
          "output_type": "execute_result",
          "data": {
            "text/plain": [
              "Text(0.5, 1.0, 'livingSpace-totalRent')"
            ]
          },
          "metadata": {},
          "execution_count": 55
        },
        {
          "output_type": "display_data",
          "data": {
            "text/plain": [
              "<Figure size 576x576 with 1 Axes>"
            ],
            "image/png": "[encoded data removed]"
          },
          "metadata": {}
        }
      ]
    },
    {
      "cell_type": "code",
      "source": [
        "df_g.typeOfFlat.unique()"
      ],
      "metadata": {
        "colab": {
          "base_uri": "https://localhost:8080/"
        },
        "id": "j6iZ8bCGgCdm",
        "outputId": "612a2d83-42a5-4264-e874-a57381ac71f5"
      },
      "execution_count": 56,
      "outputs": [
        {
          "output_type": "execute_result",
          "data": {
            "text/plain": [
              "array(['ground_floor', 'apartment', 'other', 'roof_storey',\n",
              "       'raised_ground_floor', 'half_basement', 'terraced_flat',\n",
              "       'penthouse', 'maisonette', 'loft'], dtype=object)"
            ]
          },
          "metadata": {},
          "execution_count": 56
        }
      ]
    },
    {
      "cell_type": "code",
      "source": [
        "df_g.typeOfFlat.value_counts()"
      ],
      "metadata": {
        "colab": {
          "base_uri": "https://localhost:8080/"
        },
        "id": "d64-r-Hp4mT9",
        "outputId": "10f807b6-fcc3-45c7-fe85-861d038d2c3d"
      },
      "execution_count": 57,
      "outputs": [
        {
          "output_type": "execute_result",
          "data": {
            "text/plain": [
              "apartment              151513\n",
              "roof_storey             30826\n",
              "ground_floor            28728\n",
              "other                    8547\n",
              "maisonette               7617\n",
              "raised_ground_floor      5006\n",
              "terraced_flat            2918\n",
              "penthouse                2850\n",
              "half_basement            1808\n",
              "loft                      790\n",
              "Name: typeOfFlat, dtype: int64"
            ]
          },
          "metadata": {},
          "execution_count": 57
        }
      ]
    },
    {
      "cell_type": "code",
      "source": [
        "plt.figure(figsize = (8,5))\n",
        "basecolor = sns.color_palette()[0]\n",
        "sns.countplot(data = df_g, y = 'typeOfFlat', color = basecolor, \n",
        "              order = df_g['typeOfFlat'].value_counts().index)\n",
        "plt.ylabel('')\n",
        "plt.xlabel('# of listings', fontsize = 10)\n",
        "plt.title('\\n listings in Germany by typeOfFlat \\n', fontsize = 14)\n",
        "\n",
        "plt.xticks(fontsize =12)\n",
        "plt.yticks(fontsize =12)\n",
        "\n",
        "# add annotations\n",
        "n_points = df_g.shape[0]\n",
        "cat_counts = df_g['typeOfFlat'].value_counts()\n",
        "locs, labels = plt.yticks() # get the current tick locations and labels\n",
        "plt.xlim((0,cat_counts.max()+1000))\n",
        "\n",
        "# loop \n",
        "for loc, label in zip(locs, labels):\n",
        "\n",
        "    # get the text property for the label to get the correct count\n",
        "    count = cat_counts[label.get_text()]\n",
        "    pct_string = '{:0.1f}%'.format(100*count/n_points)\n",
        "\n",
        "    # print the annotation just below the top of the bar\n",
        "    plt.text(count+200, loc, pct_string, ha = 'center', color = 'black', fontsize = 12)\n",
        "\n",
        "# code credit : https://www.geeksforgeeks.org/ for adding percentage to bar chart    \n"
      ],
      "metadata": {
        "colab": {
          "base_uri": "https://localhost:8080/",
          "height": 389
        },
        "id": "Bm9VXVjQ4JSM",
        "outputId": "a846ec1e-928c-4ee6-df91-9bb05db6423c"
      },
      "execution_count": 58,
      "outputs": [
        {
          "output_type": "display_data",
          "data": {
            "text/plain": [
              "<Figure size 576x360 with 1 Axes>"
            ],
            "image/png": "[encoded data removed]"
          },
          "metadata": {}
        }
      ]
    },
    {
      "cell_type": "code",
      "source": [
        "\n",
        "type_Of_Flat = pd.Series(df_g['typeOfFlat'].value_counts().index)\n",
        "federal_state = pd.Series(df_g['regio1_edit'].value_counts().index)\n",
        "\n",
        "plot_elements = [] # for storing references to plot elements\n",
        "baselines = np.zeros(len(federal_state)) # stores the baseline for the next category plot\n",
        "nb_counts = df_g['regio1_edit'].value_counts()\n",
        "\n",
        "fig, ax = plt.subplots(figsize=(12,6))\n",
        "fig.autofmt_xdate()   # rotate text on x-axis\n",
        "\n",
        "# for each second-variable category:\n",
        "for i in range(len(type_Of_Flat)):\n",
        "    # isolate the counts of the first category,\n",
        "    rt = type_Of_Flat[i]\n",
        "    inner_counts = df_g[df_g['typeOfFlat'] == rt]['regio1_edit'].value_counts()\n",
        "    inner_props = inner_counts / nb_counts\n",
        "     \n",
        "    \n",
        "    inner_props[inner_props.isnull()] = 0\n",
        "    \n",
        "    # then plot those counts on top of the accumulated baseline\n",
        "    bars = plt.bar(x = np.arange(len(federal_state)),\n",
        "                   height = inner_props[federal_state],\n",
        "                   bottom = baselines)\n",
        "    plot_elements.append(bars)\n",
        "    baselines += inner_props[federal_state]\n",
        "\n",
        "plt.title('\\n Distribution of flat types in Germany by state \\n', fontsize = 16)\n",
        "plt.xticks(np.arange(len(federal_state)), federal_state)\n",
        "yt = np.arange(0, 1.1, .2)\n",
        "plt.yticks(yt, ['{:1.0f}%'.format(100*x) for x in yt])\n",
        "plt.legend(reversed(plot_elements), reversed(type_Of_Flat), framealpha = 1,\n",
        "           bbox_to_anchor = (1, 0.5), loc = 6, fontsize = 12);\n",
        "\n",
        "ax.tick_params(axis='both', labelsize=12)\n",
        "\n",
        "# code credit by : stackoverflow.com"
      ],
      "metadata": {
        "colab": {
          "base_uri": "https://localhost:8080/",
          "height": 429
        },
        "id": "ukt84rAW67ku",
        "outputId": "044f2e02-21ee-4f0a-bf5d-76f0eec01fbc"
      },
      "execution_count": 59,
      "outputs": [
        {
          "output_type": "display_data",
          "data": {
            "text/plain": [
              "<Figure size 864x432 with 1 Axes>"
            ],
            "image/png": "[encoded data removed]"
          },
          "metadata": {}
        }
      ]
    },
    {
      "cell_type": "code",
      "source": [
        "colors = sns.color_palette('pastel')[0:5]\n",
        "#plt.figure(figsize=(10,8))\n",
        "df_g['hasKitchen'].value_counts().plot(kind='pie',  autopct='%1.2f%%', startangle=140, fontsize=12, colors = colors)"
      ],
      "metadata": {
        "colab": {
          "base_uri": "https://localhost:8080/",
          "height": 485
        },
        "id": "NU8bL8Fx9ota",
        "outputId": "920d0404-13cb-48f1-aae7-5dcaa5916e11"
      },
      "execution_count": 60,
      "outputs": [
        {
          "output_type": "execute_result",
          "data": {
            "text/plain": [
              "<matplotlib.axes._subplots.AxesSubplot at 0x7fcd1ee2e310>"
            ]
          },
          "metadata": {},
          "execution_count": 60
        },
        {
          "output_type": "display_data",
          "data": {
            "text/plain": [
              "<Figure size 576x576 with 1 Axes>"
            ],
            "image/png": "[encoded data removed]"
          },
          "metadata": {}
        }
      ]
    },
    {
      "cell_type": "code",
      "source": [
        "df_g['petsAllowed'].value_counts().plot(kind='pie',  autopct='%1.2f%%', startangle=140, fontsize=12, colors = colors)\n"
      ],
      "metadata": {
        "colab": {
          "base_uri": "https://localhost:8080/",
          "height": 485
        },
        "id": "OLARqQDH-woC",
        "outputId": "30a07146-847c-43a6-95ec-b8f026e50704"
      },
      "execution_count": 61,
      "outputs": [
        {
          "output_type": "execute_result",
          "data": {
            "text/plain": [
              "<matplotlib.axes._subplots.AxesSubplot at 0x7fcd1ebdc050>"
            ]
          },
          "metadata": {},
          "execution_count": 61
        },
        {
          "output_type": "display_data",
          "data": {
            "text/plain": [
              "<Figure size 576x576 with 1 Axes>"
            ],
            "image/png": "[encoded data removed]"
          },
          "metadata": {}
        }
      ]
    },
    {
      "cell_type": "code",
      "source": [
        "df_g.columns"
      ],
      "metadata": {
        "colab": {
          "base_uri": "https://localhost:8080/"
        },
        "id": "ImjTayQL_ISe",
        "outputId": "51057e15-9b37-495b-d7a6-56ed8ac69966"
      },
      "execution_count": 62,
      "outputs": [
        {
          "output_type": "execute_result",
          "data": {
            "text/plain": [
              "Index(['serviceCharge', 'heatingType', 'newlyConst', 'balcony', 'totalRent',\n",
              "       'yearConstructed', 'hasKitchen', 'cellar', 'baseRent', 'livingSpace',\n",
              "       'condition', 'interiorQual', 'petsAllowed', 'lift', 'baseRentRange',\n",
              "       'typeOfFlat', 'noRooms', 'thermalChar', 'floor', 'numberOfFloors',\n",
              "       'garden', 'regio2', 'regio1_edit'],\n",
              "      dtype='object')"
            ]
          },
          "metadata": {},
          "execution_count": 62
        }
      ]
    },
    {
      "cell_type": "code",
      "source": [
        "df_prices = df_g.groupby(\"hasKitchen\").agg([np.mean, np.std])"
      ],
      "metadata": {
        "id": "GRyQ2oKGBPbV"
      },
      "execution_count": 63,
      "outputs": []
    },
    {
      "cell_type": "code",
      "source": [
        "prices = df_prices['baseRent']\n",
        " \n",
        "# checking for results\n",
        "prices.head()"
      ],
      "metadata": {
        "colab": {
          "base_uri": "https://localhost:8080/",
          "height": 144
        },
        "id": "Ya_wY_pLBZ3U",
        "outputId": "c64c3cec-084a-417b-81fb-5cc69b8a29c4"
      },
      "execution_count": 64,
      "outputs": [
        {
          "output_type": "execute_result",
          "data": {
            "text/plain": [
              "                  mean         std\n",
              "hasKitchen                        \n",
              "False       535.291720  367.317486\n",
              "True        777.802792  489.144801"
            ],
            "text/html": [
              "\n",
              "  <div id=\"df-334153f9-e115-4e47-af0c-d3ff1ad57d6d\">\n",
              "    <div class=\"colab-df-container\">\n",
              "      <div>\n",
              "<style scoped>\n",
              "    .dataframe tbody tr th:only-of-type {\n",
              "        vertical-align: middle;\n",
              "    }\n",
              "\n",
              "    .dataframe tbody tr th {\n",
              "        vertical-align: top;\n",
              "    }\n",
              "\n",
              "    .dataframe thead th {\n",
              "        text-align: right;\n",
              "    }\n",
              "</style>\n",
              "<table border=\"1\" class=\"dataframe\">\n",
              "  <thead>\n",
              "    <tr style=\"text-align: right;\">\n",
              "      <th></th>\n",
              "      <th>mean</th>\n",
              "      <th>std</th>\n",
              "    </tr>\n",
              "    <tr>\n",
              "      <th>hasKitchen</th>\n",
              "      <th></th>\n",
              "      <th></th>\n",
              "    </tr>\n",
              "  </thead>\n",
              "  <tbody>\n",
              "    <tr>\n",
              "      <th>False</th>\n",
              "      <td>535.291720</td>\n",
              "      <td>367.317486</td>\n",
              "    </tr>\n",
              "    <tr>\n",
              "      <th>True</th>\n",
              "      <td>777.802792</td>\n",
              "      <td>489.144801</td>\n",
              "    </tr>\n",
              "  </tbody>\n",
              "</table>\n",
              "</div>\n",
              "      <button class=\"colab-df-convert\" onclick=\"convertToInteractive('df-334153f9-e115-4e47-af0c-d3ff1ad57d6d')\"\n",
              "              title=\"Convert this dataframe to an interactive table.\"\n",
              "              style=\"display:none;\">\n",
              "        \n",
              "  <svg xmlns=\"http://www.w3.org/2000/svg\" height=\"24px\"viewBox=\"0 0 24 24\"\n",
              "       width=\"24px\">\n",
              "    <path d=\"M0 0h24v24H0V0z\" fill=\"none\"/>\n",
              "    <path d=\"M18.56 5.44l.94 2.06.94-2.06 2.06-.94-2.06-.94-.94-2.06-.94 2.06-2.06.94zm-11 1L8.5 8.5l.94-2.06 2.06-.94-2.06-.94L8.5 2.5l-.94 2.06-2.06.94zm10 10l.94 2.06.94-2.06 2.06-.94-2.06-.94-.94-2.06-.94 2.06-2.06.94z\"/><path d=\"M17.41 7.96l-1.37-1.37c-.4-.4-.92-.59-1.43-.59-.52 0-1.04.2-1.43.59L10.3 9.45l-7.72 7.72c-.78.78-.78 2.05 0 2.83L4 21.41c.39.39.9.59 1.41.59.51 0 1.02-.2 1.41-.59l7.78-7.78 2.81-2.81c.8-.78.8-2.07 0-2.86zM5.41 20L4 18.59l7.72-7.72 1.47 1.35L5.41 20z\"/>\n",
              "  </svg>\n",
              "      </button>\n",
              "      \n",
              "  <style>\n",
              "    .colab-df-container {\n",
              "      display:flex;\n",
              "      flex-wrap:wrap;\n",
              "      gap: 12px;\n",
              "    }\n",
              "\n",
              "    .colab-df-convert {\n",
              "      background-color: #E8F0FE;\n",
              "      border: none;\n",
              "      border-radius: 50%;\n",
              "      cursor: pointer;\n",
              "      display: none;\n",
              "      fill: #1967D2;\n",
              "      height: 32px;\n",
              "      padding: 0 0 0 0;\n",
              "      width: 32px;\n",
              "    }\n",
              "\n",
              "    .colab-df-convert:hover {\n",
              "      background-color: #E2EBFA;\n",
              "      box-shadow: 0px 1px 2px rgba(60, 64, 67, 0.3), 0px 1px 3px 1px rgba(60, 64, 67, 0.15);\n",
              "      fill: #174EA6;\n",
              "    }\n",
              "\n",
              "    [theme=dark] .colab-df-convert {\n",
              "      background-color: #3B4455;\n",
              "      fill: #D2E3FC;\n",
              "    }\n",
              "\n",
              "    [theme=dark] .colab-df-convert:hover {\n",
              "      background-color: #434B5C;\n",
              "      box-shadow: 0px 1px 3px 1px rgba(0, 0, 0, 0.15);\n",
              "      filter: drop-shadow(0px 1px 2px rgba(0, 0, 0, 0.3));\n",
              "      fill: #FFFFFF;\n",
              "    }\n",
              "  </style>\n",
              "\n",
              "      <script>\n",
              "        const buttonEl =\n",
              "          document.querySelector('#df-334153f9-e115-4e47-af0c-d3ff1ad57d6d button.colab-df-convert');\n",
              "        buttonEl.style.display =\n",
              "          google.colab.kernel.accessAllowed ? 'block' : 'none';\n",
              "\n",
              "        async function convertToInteractive(key) {\n",
              "          const element = document.querySelector('#df-334153f9-e115-4e47-af0c-d3ff1ad57d6d');\n",
              "          const dataTable =\n",
              "            await google.colab.kernel.invokeFunction('convertToInteractive',\n",
              "                                                     [key], {});\n",
              "          if (!dataTable) return;\n",
              "\n",
              "          const docLinkHtml = 'Like what you see? Visit the ' +\n",
              "            '<a target=\"_blank\" href=https://colab.research.google.com/notebooks/data_table.ipynb>data table notebook</a>'\n",
              "            + ' to learn more about interactive tables.';\n",
              "          element.innerHTML = '';\n",
              "          dataTable['output_type'] = 'display_data';\n",
              "          await google.colab.output.renderOutput(dataTable, element);\n",
              "          const docLink = document.createElement('div');\n",
              "          docLink.innerHTML = docLinkHtml;\n",
              "          element.appendChild(docLink);\n",
              "        }\n",
              "      </script>\n",
              "    </div>\n",
              "  </div>\n",
              "  "
            ]
          },
          "metadata": {},
          "execution_count": 64
        }
      ]
    },
    {
      "cell_type": "code",
      "source": [
        "prices.plot(kind = \"barh\", y = \"mean\", legend = False,\n",
        "            title = \"Average Prices\")"
      ],
      "metadata": {
        "colab": {
          "base_uri": "https://localhost:8080/",
          "height": 519
        },
        "id": "kmewrziXBlR4",
        "outputId": "08789334-8309-469c-c7ab-f72260b35c88"
      },
      "execution_count": 65,
      "outputs": [
        {
          "output_type": "execute_result",
          "data": {
            "text/plain": [
              "<matplotlib.axes._subplots.AxesSubplot at 0x7fcd20917490>"
            ]
          },
          "metadata": {},
          "execution_count": 65
        },
        {
          "output_type": "display_data",
          "data": {
            "text/plain": [
              "<Figure size 576x576 with 1 Axes>"
            ],
            "image/png": "[encoded data removed]"
          },
          "metadata": {}
        }
      ]
    },
    {
      "cell_type": "code",
      "source": [
        "prices.plot(kind = \"barh\", y = \"mean\", legend = False,\n",
        "            title = \"Average Prices\", xerr = \"std\")"
      ],
      "metadata": {
        "colab": {
          "base_uri": "https://localhost:8080/",
          "height": 519
        },
        "id": "veFkEJiCB-Ie",
        "outputId": "14e60edf-f67d-4a84-d9de-4db3e28a87a0"
      },
      "execution_count": 66,
      "outputs": [
        {
          "output_type": "execute_result",
          "data": {
            "text/plain": [
              "<matplotlib.axes._subplots.AxesSubplot at 0x7fcd1efe8bd0>"
            ]
          },
          "metadata": {},
          "execution_count": 66
        },
        {
          "output_type": "display_data",
          "data": {
            "text/plain": [
              "<Figure size 576x576 with 1 Axes>"
            ],
            "image/png": "[encoded data removed]"
          },
          "metadata": {}
        }
      ]
    },
    {
      "cell_type": "code",
      "source": [
        "df_prices_city = df_g.groupby(\"regio2\").agg([np.mean, np.std])\n",
        "prices_city = df_prices_city['baseRent']\n",
        "prices_city.iloc[:5].plot(kind = \"barh\", y = \"mean\", legend = False,\n",
        "            title = \"Average Prices\")"
      ],
      "metadata": {
        "colab": {
          "base_uri": "https://localhost:8080/",
          "height": 519
        },
        "id": "T2GlldNkDPGX",
        "outputId": "4914ab03-03e3-4908-d887-786ea09ca8b6"
      },
      "execution_count": 67,
      "outputs": [
        {
          "output_type": "execute_result",
          "data": {
            "text/plain": [
              "<matplotlib.axes._subplots.AxesSubplot at 0x7fcd1eadf4d0>"
            ]
          },
          "metadata": {},
          "execution_count": 67
        },
        {
          "output_type": "display_data",
          "data": {
            "text/plain": [
              "<Figure size 576x576 with 1 Axes>"
            ],
            "image/png": "[encoded data removed]"
          },
          "metadata": {}
        }
      ]
    },
    {
      "cell_type": "markdown",
      "source": [
        "# Price Prediction"
      ],
      "metadata": {
        "id": "gWT4BX7KKYei"
      }
    },
    {
      "cell_type": "code",
      "source": [
        "grm_df = df_g.copy()"
      ],
      "metadata": {
        "id": "A9TAPwy7WGaD"
      },
      "execution_count": 68,
      "outputs": []
    },
    {
      "cell_type": "code",
      "source": [
        "from sklearn.model_selection import train_test_split\n",
        "from sklearn.linear_model import LinearRegression\n",
        "from sklearn import metrics\n",
        "from sklearn.metrics import mean_squared_error,r2_score, mean_absolute_error\n",
        "from sklearn import preprocessing\n",
        "import warnings\n",
        "warnings.filterwarnings('ignore')"
      ],
      "metadata": {
        "id": "MVSzRzO0W8Rq"
      },
      "execution_count": 69,
      "outputs": []
    },
    {
      "cell_type": "code",
      "source": [
        "encode = preprocessing.LabelEncoder()"
      ],
      "metadata": {
        "id": "H1xhjZlJLOYu"
      },
      "execution_count": 70,
      "outputs": []
    },
    {
      "cell_type": "code",
      "source": [
        "grm_df.columns"
      ],
      "metadata": {
        "colab": {
          "base_uri": "https://localhost:8080/"
        },
        "id": "3yjQGZnALFw1",
        "outputId": "9c0bef9f-c6ec-4bd8-aade-eed9974dde04"
      },
      "execution_count": 71,
      "outputs": [
        {
          "output_type": "execute_result",
          "data": {
            "text/plain": [
              "Index(['serviceCharge', 'heatingType', 'newlyConst', 'balcony', 'totalRent',\n",
              "       'yearConstructed', 'hasKitchen', 'cellar', 'baseRent', 'livingSpace',\n",
              "       'condition', 'interiorQual', 'petsAllowed', 'lift', 'baseRentRange',\n",
              "       'typeOfFlat', 'noRooms', 'thermalChar', 'floor', 'numberOfFloors',\n",
              "       'garden', 'regio2', 'regio1_edit'],\n",
              "      dtype='object')"
            ]
          },
          "metadata": {},
          "execution_count": 71
        }
      ]
    },
    {
      "cell_type": "code",
      "source": [
        "encode.fit(grm_df.regio1_edit)\n",
        "grm_df.regio1_edit=encode.transform(grm_df.regio1_edit)"
      ],
      "metadata": {
        "id": "XZbZeAHoLSuY"
      },
      "execution_count": 72,
      "outputs": []
    },
    {
      "cell_type": "code",
      "source": [
        "encode = preprocessing.LabelEncoder()\n",
        "encode.fit(grm_df.regio2)\n",
        "grm_df.regio2=encode.transform(grm_df.regio2)\n",
        "encode = preprocessing.LabelEncoder()\n",
        "encode.fit(grm_df.typeOfFlat)\n",
        "grm_df.typeOfFlat=encode.transform(grm_df.typeOfFlat)\n",
        "grm_df.sort_values(by='totalRent',ascending=True,inplace=True)"
      ],
      "metadata": {
        "id": "GC4L6RuWLgMR"
      },
      "execution_count": 75,
      "outputs": []
    },
    {
      "cell_type": "code",
      "source": [
        "grm_df.head(10)"
      ],
      "metadata": {
        "colab": {
          "base_uri": "https://localhost:8080/",
          "height": 456
        },
        "id": "UWGtFkMLajVi",
        "outputId": "03c946e0-145b-4876-e82e-de9200578064"
      },
      "execution_count": 76,
      "outputs": [
        {
          "output_type": "execute_result",
          "data": {
            "text/plain": [
              "        serviceCharge      heatingType  newlyConst  balcony  totalRent  \\\n",
              "160144       0.000000  central_heating       False    False       1.00   \n",
              "236196     151.846785  central_heating       False    False       1.00   \n",
              "199459     102.000000  central_heating       False     True       1.00   \n",
              "243082     152.000000  central_heating       False     True       1.00   \n",
              "58666      163.000000  central_heating       False    False       1.00   \n",
              "241782     245.000000  central_heating        True     True       1.00   \n",
              "173893     325.000000  central_heating       False     True       1.00   \n",
              "126908      70.000000    floor_heating        True     True       1.01   \n",
              "27553      220.000000  central_heating       False     True       1.04   \n",
              "83340       76.810000    floor_heating        True     True       1.08   \n",
              "\n",
              "        yearConstructed  hasKitchen  cellar  baseRent  livingSpace  ...  \\\n",
              "160144      1966.506625        True   False       1.0        20.00  ...   \n",
              "236196      1966.506625       False    True       1.0        47.51  ...   \n",
              "199459      1966.506625        True    True     995.0        56.00  ...   \n",
              "243082      1966.506625       False    True     459.0        70.60  ...   \n",
              "58666       1966.506625       False    True     459.0        76.00  ...   \n",
              "241782      2019.000000        True   False    1111.0       101.00  ...   \n",
              "173893      2009.000000        True    True    1087.0        81.00  ...   \n",
              "126908      2018.000000       False   False     874.0        76.00  ...   \n",
              "27553       1966.506625       False    True     770.0       110.00  ...   \n",
              "83340       2020.000000       False    True     924.0        78.00  ...   \n",
              "\n",
              "         lift baseRentRange typeOfFlat  noRooms  thermalChar     floor  \\\n",
              "160144  False             1          5      1.0   114.541773  2.124879   \n",
              "236196   True             1          0      2.0   114.541773  4.000000   \n",
              "199459  False             6          0      2.0   126.000000  1.000000   \n",
              "243082  False             3          0      3.0   114.541773  2.000000   \n",
              "58666   False             3          8      3.0   114.541773  3.000000   \n",
              "241782   True             7          0      3.0    40.000000  1.000000   \n",
              "173893   True             7          6      2.0   111.600000  2.000000   \n",
              "126908   True             6          0      3.0   114.541773  4.000000   \n",
              "27553   False             5          0      4.0   127.000000  2.000000   \n",
              "83340   False             6          0      3.0   114.541773  3.000000   \n",
              "\n",
              "        numberOfFloors  garden  regio2  regio1_edit  \n",
              "160144        3.581206   False     121            6  \n",
              "236196        3.581206   False     129            9  \n",
              "199459        3.000000    True     236            1  \n",
              "243082        4.000000   False      57            9  \n",
              "58666         3.000000    True     223            9  \n",
              "241782        2.000000   False     142            6  \n",
              "173893        3.000000    True     412            7  \n",
              "126908        4.000000    True     264            3  \n",
              "27553         3.000000    True     177            1  \n",
              "83340         3.000000   False     264            3  \n",
              "\n",
              "[10 rows x 23 columns]"
            ],
            "text/html": [
              "\n",
              "  <div id=\"df-e374395e-dd24-409b-8c04-28c3405a5ba4\">\n",
              "    <div class=\"colab-df-container\">\n",
              "      <div>\n",
              "<style scoped>\n",
              "    .dataframe tbody tr th:only-of-type {\n",
              "        vertical-align: middle;\n",
              "    }\n",
              "\n",
              "    .dataframe tbody tr th {\n",
              "        vertical-align: top;\n",
              "    }\n",
              "\n",
              "    .dataframe thead th {\n",
              "        text-align: right;\n",
              "    }\n",
              "</style>\n",
              "<table border=\"1\" class=\"dataframe\">\n",
              "  <thead>\n",
              "    <tr style=\"text-align: right;\">\n",
              "      <th></th>\n",
              "      <th>serviceCharge</th>\n",
              "      <th>heatingType</th>\n",
              "      <th>newlyConst</th>\n",
              "      <th>balcony</th>\n",
              "      <th>totalRent</th>\n",
              "      <th>yearConstructed</th>\n",
              "      <th>hasKitchen</th>\n",
              "      <th>cellar</th>\n",
              "      <th>baseRent</th>\n",
              "      <th>livingSpace</th>\n",
              "      <th>...</th>\n",
              "      <th>lift</th>\n",
              "      <th>baseRentRange</th>\n",
              "      <th>typeOfFlat</th>\n",
              "      <th>noRooms</th>\n",
              "      <th>thermalChar</th>\n",
              "      <th>floor</th>\n",
              "      <th>numberOfFloors</th>\n",
              "      <th>garden</th>\n",
              "      <th>regio2</th>\n",
              "      <th>regio1_edit</th>\n",
              "    </tr>\n",
              "  </thead>\n",
              "  <tbody>\n",
              "    <tr>\n",
              "      <th>160144</th>\n",
              "      <td>0.000000</td>\n",
              "      <td>central_heating</td>\n",
              "      <td>False</td>\n",
              "      <td>False</td>\n",
              "      <td>1.00</td>\n",
              "      <td>1966.506625</td>\n",
              "      <td>True</td>\n",
              "      <td>False</td>\n",
              "      <td>1.0</td>\n",
              "      <td>20.00</td>\n",
              "      <td>...</td>\n",
              "      <td>False</td>\n",
              "      <td>1</td>\n",
              "      <td>5</td>\n",
              "      <td>1.0</td>\n",
              "      <td>114.541773</td>\n",
              "      <td>2.124879</td>\n",
              "      <td>3.581206</td>\n",
              "      <td>False</td>\n",
              "      <td>121</td>\n",
              "      <td>6</td>\n",
              "    </tr>\n",
              "    <tr>\n",
              "      <th>236196</th>\n",
              "      <td>151.846785</td>\n",
              "      <td>central_heating</td>\n",
              "      <td>False</td>\n",
              "      <td>False</td>\n",
              "      <td>1.00</td>\n",
              "      <td>1966.506625</td>\n",
              "      <td>False</td>\n",
              "      <td>True</td>\n",
              "      <td>1.0</td>\n",
              "      <td>47.51</td>\n",
              "      <td>...</td>\n",
              "      <td>True</td>\n",
              "      <td>1</td>\n",
              "      <td>0</td>\n",
              "      <td>2.0</td>\n",
              "      <td>114.541773</td>\n",
              "      <td>4.000000</td>\n",
              "      <td>3.581206</td>\n",
              "      <td>False</td>\n",
              "      <td>129</td>\n",
              "      <td>9</td>\n",
              "    </tr>\n",
              "    <tr>\n",
              "      <th>199459</th>\n",
              "      <td>102.000000</td>\n",
              "      <td>central_heating</td>\n",
              "      <td>False</td>\n",
              "      <td>True</td>\n",
              "      <td>1.00</td>\n",
              "      <td>1966.506625</td>\n",
              "      <td>True</td>\n",
              "      <td>True</td>\n",
              "      <td>995.0</td>\n",
              "      <td>56.00</td>\n",
              "      <td>...</td>\n",
              "      <td>False</td>\n",
              "      <td>6</td>\n",
              "      <td>0</td>\n",
              "      <td>2.0</td>\n",
              "      <td>126.000000</td>\n",
              "      <td>1.000000</td>\n",
              "      <td>3.000000</td>\n",
              "      <td>True</td>\n",
              "      <td>236</td>\n",
              "      <td>1</td>\n",
              "    </tr>\n",
              "    <tr>\n",
              "      <th>243082</th>\n",
              "      <td>152.000000</td>\n",
              "      <td>central_heating</td>\n",
              "      <td>False</td>\n",
              "      <td>True</td>\n",
              "      <td>1.00</td>\n",
              "      <td>1966.506625</td>\n",
              "      <td>False</td>\n",
              "      <td>True</td>\n",
              "      <td>459.0</td>\n",
              "      <td>70.60</td>\n",
              "      <td>...</td>\n",
              "      <td>False</td>\n",
              "      <td>3</td>\n",
              "      <td>0</td>\n",
              "      <td>3.0</td>\n",
              "      <td>114.541773</td>\n",
              "      <td>2.000000</td>\n",
              "      <td>4.000000</td>\n",
              "      <td>False</td>\n",
              "      <td>57</td>\n",
              "      <td>9</td>\n",
              "    </tr>\n",
              "    <tr>\n",
              "      <th>58666</th>\n",
              "      <td>163.000000</td>\n",
              "      <td>central_heating</td>\n",
              "      <td>False</td>\n",
              "      <td>False</td>\n",
              "      <td>1.00</td>\n",
              "      <td>1966.506625</td>\n",
              "      <td>False</td>\n",
              "      <td>True</td>\n",
              "      <td>459.0</td>\n",
              "      <td>76.00</td>\n",
              "      <td>...</td>\n",
              "      <td>False</td>\n",
              "      <td>3</td>\n",
              "      <td>8</td>\n",
              "      <td>3.0</td>\n",
              "      <td>114.541773</td>\n",
              "      <td>3.000000</td>\n",
              "      <td>3.000000</td>\n",
              "      <td>True</td>\n",
              "      <td>223</td>\n",
              "      <td>9</td>\n",
              "    </tr>\n",
              "    <tr>\n",
              "      <th>241782</th>\n",
              "      <td>245.000000</td>\n",
              "      <td>central_heating</td>\n",
              "      <td>True</td>\n",
              "      <td>True</td>\n",
              "      <td>1.00</td>\n",
              "      <td>2019.000000</td>\n",
              "      <td>True</td>\n",
              "      <td>False</td>\n",
              "      <td>1111.0</td>\n",
              "      <td>101.00</td>\n",
              "      <td>...</td>\n",
              "      <td>True</td>\n",
              "      <td>7</td>\n",
              "      <td>0</td>\n",
              "      <td>3.0</td>\n",
              "      <td>40.000000</td>\n",
              "      <td>1.000000</td>\n",
              "      <td>2.000000</td>\n",
              "      <td>False</td>\n",
              "      <td>142</td>\n",
              "      <td>6</td>\n",
              "    </tr>\n",
              "    <tr>\n",
              "      <th>173893</th>\n",
              "      <td>325.000000</td>\n",
              "      <td>central_heating</td>\n",
              "      <td>False</td>\n",
              "      <td>True</td>\n",
              "      <td>1.00</td>\n",
              "      <td>2009.000000</td>\n",
              "      <td>True</td>\n",
              "      <td>True</td>\n",
              "      <td>1087.0</td>\n",
              "      <td>81.00</td>\n",
              "      <td>...</td>\n",
              "      <td>True</td>\n",
              "      <td>7</td>\n",
              "      <td>6</td>\n",
              "      <td>2.0</td>\n",
              "      <td>111.600000</td>\n",
              "      <td>2.000000</td>\n",
              "      <td>3.000000</td>\n",
              "      <td>True</td>\n",
              "      <td>412</td>\n",
              "      <td>7</td>\n",
              "    </tr>\n",
              "    <tr>\n",
              "      <th>126908</th>\n",
              "      <td>70.000000</td>\n",
              "      <td>floor_heating</td>\n",
              "      <td>True</td>\n",
              "      <td>True</td>\n",
              "      <td>1.01</td>\n",
              "      <td>2018.000000</td>\n",
              "      <td>False</td>\n",
              "      <td>False</td>\n",
              "      <td>874.0</td>\n",
              "      <td>76.00</td>\n",
              "      <td>...</td>\n",
              "      <td>True</td>\n",
              "      <td>6</td>\n",
              "      <td>0</td>\n",
              "      <td>3.0</td>\n",
              "      <td>114.541773</td>\n",
              "      <td>4.000000</td>\n",
              "      <td>4.000000</td>\n",
              "      <td>True</td>\n",
              "      <td>264</td>\n",
              "      <td>3</td>\n",
              "    </tr>\n",
              "    <tr>\n",
              "      <th>27553</th>\n",
              "      <td>220.000000</td>\n",
              "      <td>central_heating</td>\n",
              "      <td>False</td>\n",
              "      <td>True</td>\n",
              "      <td>1.04</td>\n",
              "      <td>1966.506625</td>\n",
              "      <td>False</td>\n",
              "      <td>True</td>\n",
              "      <td>770.0</td>\n",
              "      <td>110.00</td>\n",
              "      <td>...</td>\n",
              "      <td>False</td>\n",
              "      <td>5</td>\n",
              "      <td>0</td>\n",
              "      <td>4.0</td>\n",
              "      <td>127.000000</td>\n",
              "      <td>2.000000</td>\n",
              "      <td>3.000000</td>\n",
              "      <td>True</td>\n",
              "      <td>177</td>\n",
              "      <td>1</td>\n",
              "    </tr>\n",
              "    <tr>\n",
              "      <th>83340</th>\n",
              "      <td>76.810000</td>\n",
              "      <td>floor_heating</td>\n",
              "      <td>True</td>\n",
              "      <td>True</td>\n",
              "      <td>1.08</td>\n",
              "      <td>2020.000000</td>\n",
              "      <td>False</td>\n",
              "      <td>True</td>\n",
              "      <td>924.0</td>\n",
              "      <td>78.00</td>\n",
              "      <td>...</td>\n",
              "      <td>False</td>\n",
              "      <td>6</td>\n",
              "      <td>0</td>\n",
              "      <td>3.0</td>\n",
              "      <td>114.541773</td>\n",
              "      <td>3.000000</td>\n",
              "      <td>3.000000</td>\n",
              "      <td>False</td>\n",
              "      <td>264</td>\n",
              "      <td>3</td>\n",
              "    </tr>\n",
              "  </tbody>\n",
              "</table>\n",
              "<p>10 rows × 23 columns</p>\n",
              "</div>\n",
              "      <button class=\"colab-df-convert\" onclick=\"convertToInteractive('df-e374395e-dd24-409b-8c04-28c3405a5ba4')\"\n",
              "              title=\"Convert this dataframe to an interactive table.\"\n",
              "              style=\"display:none;\">\n",
              "        \n",
              "  <svg xmlns=\"http://www.w3.org/2000/svg\" height=\"24px\"viewBox=\"0 0 24 24\"\n",
              "       width=\"24px\">\n",
              "    <path d=\"M0 0h24v24H0V0z\" fill=\"none\"/>\n",
              "    <path d=\"M18.56 5.44l.94 2.06.94-2.06 2.06-.94-2.06-.94-.94-2.06-.94 2.06-2.06.94zm-11 1L8.5 8.5l.94-2.06 2.06-.94-2.06-.94L8.5 2.5l-.94 2.06-2.06.94zm10 10l.94 2.06.94-2.06 2.06-.94-2.06-.94-.94-2.06-.94 2.06-2.06.94z\"/><path d=\"M17.41 7.96l-1.37-1.37c-.4-.4-.92-.59-1.43-.59-.52 0-1.04.2-1.43.59L10.3 9.45l-7.72 7.72c-.78.78-.78 2.05 0 2.83L4 21.41c.39.39.9.59 1.41.59.51 0 1.02-.2 1.41-.59l7.78-7.78 2.81-2.81c.8-.78.8-2.07 0-2.86zM5.41 20L4 18.59l7.72-7.72 1.47 1.35L5.41 20z\"/>\n",
              "  </svg>\n",
              "      </button>\n",
              "      \n",
              "  <style>\n",
              "    .colab-df-container {\n",
              "      display:flex;\n",
              "      flex-wrap:wrap;\n",
              "      gap: 12px;\n",
              "    }\n",
              "\n",
              "    .colab-df-convert {\n",
              "      background-color: #E8F0FE;\n",
              "      border: none;\n",
              "      border-radius: 50%;\n",
              "      cursor: pointer;\n",
              "      display: none;\n",
              "      fill: #1967D2;\n",
              "      height: 32px;\n",
              "      padding: 0 0 0 0;\n",
              "      width: 32px;\n",
              "    }\n",
              "\n",
              "    .colab-df-convert:hover {\n",
              "      background-color: #E2EBFA;\n",
              "      box-shadow: 0px 1px 2px rgba(60, 64, 67, 0.3), 0px 1px 3px 1px rgba(60, 64, 67, 0.15);\n",
              "      fill: #174EA6;\n",
              "    }\n",
              "\n",
              "    [theme=dark] .colab-df-convert {\n",
              "      background-color: #3B4455;\n",
              "      fill: #D2E3FC;\n",
              "    }\n",
              "\n",
              "    [theme=dark] .colab-df-convert:hover {\n",
              "      background-color: #434B5C;\n",
              "      box-shadow: 0px 1px 3px 1px rgba(0, 0, 0, 0.15);\n",
              "      filter: drop-shadow(0px 1px 2px rgba(0, 0, 0, 0.3));\n",
              "      fill: #FFFFFF;\n",
              "    }\n",
              "  </style>\n",
              "\n",
              "      <script>\n",
              "        const buttonEl =\n",
              "          document.querySelector('#df-e374395e-dd24-409b-8c04-28c3405a5ba4 button.colab-df-convert');\n",
              "        buttonEl.style.display =\n",
              "          google.colab.kernel.accessAllowed ? 'block' : 'none';\n",
              "\n",
              "        async function convertToInteractive(key) {\n",
              "          const element = document.querySelector('#df-e374395e-dd24-409b-8c04-28c3405a5ba4');\n",
              "          const dataTable =\n",
              "            await google.colab.kernel.invokeFunction('convertToInteractive',\n",
              "                                                     [key], {});\n",
              "          if (!dataTable) return;\n",
              "\n",
              "          const docLinkHtml = 'Like what you see? Visit the ' +\n",
              "            '<a target=\"_blank\" href=https://colab.research.google.com/notebooks/data_table.ipynb>data table notebook</a>'\n",
              "            + ' to learn more about interactive tables.';\n",
              "          element.innerHTML = '';\n",
              "          dataTable['output_type'] = 'display_data';\n",
              "          await google.colab.output.renderOutput(dataTable, element);\n",
              "          const docLink = document.createElement('div');\n",
              "          docLink.innerHTML = docLinkHtml;\n",
              "          element.appendChild(docLink);\n",
              "        }\n",
              "      </script>\n",
              "    </div>\n",
              "  </div>\n",
              "  "
            ]
          },
          "metadata": {},
          "execution_count": 76
        }
      ]
    },
    {
      "cell_type": "code",
      "source": [
        "grm_df.columns"
      ],
      "metadata": {
        "colab": {
          "base_uri": "https://localhost:8080/"
        },
        "id": "lFJdYmmML4jn",
        "outputId": "065913c5-7f67-4631-e69c-6133f04449a9"
      },
      "execution_count": 77,
      "outputs": [
        {
          "output_type": "execute_result",
          "data": {
            "text/plain": [
              "Index(['serviceCharge', 'heatingType', 'newlyConst', 'balcony', 'totalRent',\n",
              "       'yearConstructed', 'hasKitchen', 'cellar', 'baseRent', 'livingSpace',\n",
              "       'condition', 'interiorQual', 'petsAllowed', 'lift', 'baseRentRange',\n",
              "       'typeOfFlat', 'noRooms', 'thermalChar', 'floor', 'numberOfFloors',\n",
              "       'garden', 'regio2', 'regio1_edit'],\n",
              "      dtype='object')"
            ]
          },
          "metadata": {},
          "execution_count": 77
        }
      ]
    },
    {
      "cell_type": "code",
      "source": [
        "l_reg = LinearRegression()\n",
        "X = grm_df[['serviceCharge','regio1_edit','regio2','baseRentRange','livingSpace','noRooms','typeOfFlat','baseRent','numberOfFloors','yearConstructed','floor']]\n",
        "y = grm_df['totalRent']\n",
        "X_train, X_test, y_train, y_test = train_test_split(X, y, test_size=0.2, random_state=101)\n",
        "l_reg.fit(X_train,y_train)"
      ],
      "metadata": {
        "colab": {
          "base_uri": "https://localhost:8080/"
        },
        "id": "LvV6pTITLpHP",
        "outputId": "7275944f-c6b4-4ed2-e949-a7264d8d3bbf"
      },
      "execution_count": 78,
      "outputs": [
        {
          "output_type": "execute_result",
          "data": {
            "text/plain": [
              "LinearRegression()"
            ]
          },
          "metadata": {},
          "execution_count": 78
        }
      ]
    },
    {
      "cell_type": "code",
      "source": [
        "predicts = l_reg.predict(X_test)\n",
        "print(\"Mean Squared Error: \", np.sqrt(metrics.mean_squared_error(y_test, predicts)))\n",
        "print(\"R2 Score: \", r2_score(y_test,predicts) * 100)\n",
        "print(\"Mean Absolute Error: \", mean_absolute_error(y_test,predicts))\n",
        "print(\"Mean Squareroot Error: \", mean_squared_error(y_test,predicts))"
      ],
      "metadata": {
        "colab": {
          "base_uri": "https://localhost:8080/"
        },
        "id": "MN39HWthLtEd",
        "outputId": "da17c816-40d8-4889-bb24-6e7c821d49b5"
      },
      "execution_count": 79,
      "outputs": [
        {
          "output_type": "stream",
          "name": "stdout",
          "text": [
            "Mean Squared Error:  186.1745819698833\n",
            "R2 Score:  80.75206235908281\n",
            "Mean Absolute Error:  110.94225582755931\n",
            "Mean Squareroot Error:  34660.97497166079\n"
          ]
        }
      ]
    },
    {
      "cell_type": "code",
      "source": [
        "#Actual Vs Predicted for Linear Regression\n",
        "lr_pred_df = pd.DataFrame({\n",
        "        'actual_values': np.array(y_test).flatten(),\n",
        "        'predicted_values': predicts.flatten()}).head(20)\n",
        "\n",
        "print(lr_pred_df.head(5))\n"
      ],
      "metadata": {
        "colab": {
          "base_uri": "https://localhost:8080/"
        },
        "id": "BQsIqKnCL2gl",
        "outputId": "3ebc7f9d-0e46-4837-bf9f-a8ad4349024f"
      },
      "execution_count": 80,
      "outputs": [
        {
          "output_type": "stream",
          "name": "stdout",
          "text": [
            "   actual_values  predicted_values\n",
            "0     588.000000        594.772067\n",
            "1    1140.900000       1128.308182\n",
            "2    2050.000000       1801.022446\n",
            "3     595.000000        669.122486\n",
            "4     907.332726        557.385081\n"
          ]
        }
      ]
    },
    {
      "cell_type": "code",
      "source": [
        "x = lr_pred_df.index\n",
        "width = 0.35\n",
        "fig, ax = plt.subplots()\n",
        "rects1 = ax.bar(x - width/2, lr_pred_df.actual_values, width, label='Actual Values')\n",
        "rects2 = ax.bar(x + width/2, lr_pred_df.predicted_values, width, label='Predicted Values')\n",
        "ax.set_ylabel('totalRent')\n",
        "ax.set_title('Actual Vs Predicted for Linear Regression')\n",
        "ax.set_xticks(x)\n",
        "ax.legend()\n",
        "fig.tight_layout()\n",
        "plt.show()"
      ],
      "metadata": {
        "colab": {
          "base_uri": "https://localhost:8080/",
          "height": 581
        },
        "id": "rB2-Dw1UMQc6",
        "outputId": "cba9ff12-0363-46ef-a160-d8e249a83222"
      },
      "execution_count": 81,
      "outputs": [
        {
          "output_type": "display_data",
          "data": {
            "text/plain": [
              "<Figure size 576x576 with 1 Axes>"
            ],
            "image/png": "[encoded data removed]"
          },
          "metadata": {}
        }
      ]
    },
    {
      "cell_type": "code",
      "source": [
        "plt.figure(figsize=(16,8))\n",
        "sns.regplot(y_test,predicts)\n",
        "plt.xlabel('Actual')\n",
        "plt.ylabel('Prediction')\n",
        "plt.title(\"LR Model\")\n",
        "plt.grid(False)\n",
        "plt.show()"
      ],
      "metadata": {
        "colab": {
          "base_uri": "https://localhost:8080/",
          "height": 444
        },
        "id": "SopXIdSFRumS",
        "outputId": "0ce3ba65-029c-4751-af0b-70ab697bb022"
      },
      "execution_count": 82,
      "outputs": [
        {
          "output_type": "display_data",
          "data": {
            "text/plain": [
              "<Figure size 1152x576 with 1 Axes>"
            ],
            "image/png": "[encoded data removed]"
          },
          "metadata": {}
        }
      ]
    }
  ]
}