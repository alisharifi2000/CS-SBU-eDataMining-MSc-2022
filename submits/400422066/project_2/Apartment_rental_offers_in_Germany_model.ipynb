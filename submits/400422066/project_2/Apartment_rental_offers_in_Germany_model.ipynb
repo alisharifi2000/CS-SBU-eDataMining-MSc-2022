{
  "nbformat": 4,
  "nbformat_minor": 0,
  "metadata": {
    "colab": {
      "name": "Apartment rental offers in Germany_model.ipynb",
      "provenance": [],
      "collapsed_sections": [],
      "toc_visible": true,
      "authorship_tag": "ABX9TyOzvvOHNgcRlP7aAPWj7mL2",
      "include_colab_link": true
    },
    "kernelspec": {
      "name": "python3",
      "display_name": "Python 3"
    },
    "language_info": {
      "name": "python"
    }
  },
  "cells": [
    {
      "cell_type": "markdown",
      "metadata": {
        "id": "view-in-github",
        "colab_type": "text"
      },
      "source": [
        "<a href=\"https://colab.research.google.com/github/Sarach-git/CS-SBU-eDataMining-MSc-2022/blob/400422066/submits/400422066/project_2/Apartment_rental_offers_in_Germany_model.ipynb\" target=\"_parent\"><img src=\"https://colab.research.google.com/assets/colab-badge.svg\" alt=\"Open In Colab\"/></a>"
      ]
    },
    {
      "cell_type": "markdown",
      "source": [
        "# CS-SBU-eDataMining-MSc-2022\n",
        "Presented by Sara Charmchi  \n",
        "Student ID : 400422066  \n",
        "\n",
        "## Apartment rental offers in Germany\n",
        "Rental offers scraped from Germany biggest real estate online plattform \n",
        "Dataset : [Apartment rental offers in Germany](https://www.kaggle.com/datasets/corrieaar/apartment-rental-offers-in-germany/code)\n",
        "\n"
      ],
      "metadata": {
        "id": "8A3v8x2LcyXZ"
      }
    },
    {
      "cell_type": "markdown",
      "metadata": {
        "id": "Sl740NPgFopv"
      },
      "source": [
        "# Importing libraries"
      ]
    },
    {
      "cell_type": "code",
      "source": [
        "from sklearn import preprocessing\n",
        "import numpy as np\n",
        "import pandas as pd\n",
        "import matplotlib.pyplot as plt\n",
        "import seaborn as sns\n",
        "import folium\n",
        "from folium import plugins\n",
        "import branca.colormap as cm\n",
        "import zipfile\n",
        "from scipy import stats\n",
        "import urllib\n",
        "from geopy.distance import geodesic\n",
        "from sklearn import preprocessing\n",
        "from sklearn.preprocessing import OneHotEncoder\n",
        "from sklearn.preprocessing import LabelEncoder\n",
        "from sklearn.preprocessing import MinMaxScaler\n",
        "from sklearn.linear_model import LinearRegression\n",
        "from sklearn import metrics\n",
        "from sklearn.metrics import mean_squared_error,r2_score, mean_absolute_error\n",
        "import warnings\n",
        "warnings.filterwarnings('ignore')\n",
        "from sklearn.model_selection import train_test_split\n",
        "from sklearn.linear_model import Ridge, RidgeCV, Lasso, LassoCV\n",
        "\n",
        "%matplotlib inline\n",
        "from skimage.io import imread"
      ],
      "metadata": {
        "id": "-UN2_yzGdkSI"
      },
      "execution_count": 98,
      "outputs": []
    },
    {
      "cell_type": "markdown",
      "source": [
        "# Loading Data"
      ],
      "metadata": {
        "id": "bqqdkkoEhKYR"
      }
    },
    {
      "cell_type": "code",
      "source": [
        "from google.colab import files\n",
        "files.upload()"
      ],
      "metadata": {
        "colab": {
          "resources": {
            "http://localhost:8080/nbextensions/google.colab/files.js": {
              "data": "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",
              "ok": true,
              "headers": [
                [
                  "content-type",
                  "application/javascript"
                ]
              ],
              "status": 200,
              "status_text": ""
            }
          },
          "base_uri": "https://localhost:8080/",
          "height": 0
        },
        "id": "rmndTdwydtEP",
        "outputId": "01f4068f-8747-43ca-f811-930ffc7e4e2f"
      },
      "execution_count": 99,
      "outputs": [
        {
          "output_type": "display_data",
          "data": {
            "text/plain": [
              "<IPython.core.display.HTML object>"
            ],
            "text/html": [
              "\n",
              "     <input type=\"file\" id=\"files-ecbfbd9c-81f2-4e48-9bc9-0247beb72ab7\" name=\"files[]\" multiple disabled\n",
              "        style=\"border:none\" />\n",
              "     <output id=\"result-ecbfbd9c-81f2-4e48-9bc9-0247beb72ab7\">\n",
              "      Upload widget is only available when the cell has been executed in the\n",
              "      current browser session. Please rerun this cell to enable.\n",
              "      </output>\n",
              "      <script src=\"/nbextensions/google.colab/files.js\"></script> "
            ]
          },
          "metadata": {}
        },
        {
          "output_type": "stream",
          "name": "stdout",
          "text": [
            "Saving kaggle.json to kaggle (2).json\n"
          ]
        },
        {
          "output_type": "execute_result",
          "data": {
            "text/plain": [
              "{'kaggle.json': b'{\"username\":\"saracharmchi\",\"key\":\"cd5bd2a72d556a3aac50896f2bdf8efd\"}'}"
            ]
          },
          "metadata": {},
          "execution_count": 99
        }
      ]
    },
    {
      "cell_type": "code",
      "source": [
        "!mkdir -p ~/.kaggle\n",
        "!cp kaggle.json ~/.kaggle/\n",
        "!chmod 600 ~/.kaggle/kaggle.json"
      ],
      "metadata": {
        "id": "wzqx_tTud4Ae"
      },
      "execution_count": 100,
      "outputs": []
    },
    {
      "cell_type": "code",
      "source": [
        "!kaggle datasets download -d corrieaar/apartment-rental-offers-in-germany"
      ],
      "metadata": {
        "colab": {
          "base_uri": "https://localhost:8080/"
        },
        "id": "XFG2NpDpeS8H",
        "outputId": "2c01e487-4195-45a6-f655-a6e96bff0196"
      },
      "execution_count": 101,
      "outputs": [
        {
          "output_type": "stream",
          "name": "stdout",
          "text": [
            "apartment-rental-offers-in-germany.zip: Skipping, found more recently modified local copy (use --force to force download)\n"
          ]
        }
      ]
    },
    {
      "cell_type": "code",
      "source": [
        "!ls"
      ],
      "metadata": {
        "colab": {
          "base_uri": "https://localhost:8080/"
        },
        "id": "RGtvxxkYeX-h",
        "outputId": "5642671d-d120-4566-857a-03e1c98dc1a9"
      },
      "execution_count": 102,
      "outputs": [
        {
          "output_type": "stream",
          "name": "stdout",
          "text": [
            " apartment-rental-offers-in-germany.zip  'kaggle (1).json'   kaggle.json\n",
            " files\t\t\t\t\t 'kaggle (2).json'   sample_data\n"
          ]
        }
      ]
    },
    {
      "cell_type": "code",
      "source": [
        "zip_ref = zipfile.ZipFile('apartment-rental-offers-in-germany.zip', 'r')\n",
        "zip_ref.extractall('files')\n",
        "zip_ref.close()"
      ],
      "metadata": {
        "id": "RBytihjNeaDb"
      },
      "execution_count": 103,
      "outputs": []
    },
    {
      "cell_type": "code",
      "source": [
        "df=pd.read_csv('/content/files/immo_data.csv')"
      ],
      "metadata": {
        "id": "UJ5WOetTen4G"
      },
      "execution_count": 104,
      "outputs": []
    },
    {
      "cell_type": "code",
      "source": [
        "df.head()"
      ],
      "metadata": {
        "colab": {
          "base_uri": "https://localhost:8080/",
          "height": 0
        },
        "id": "u_5ZGIgQfzEK",
        "outputId": "bbe3ef61-2cb5-4b40-c03d-8100fc7fdca6"
      },
      "execution_count": 105,
      "outputs": [
        {
          "output_type": "execute_result",
          "data": {
            "text/plain": [
              "                regio1  serviceCharge                     heatingType  \\\n",
              "0  Nordrhein_Westfalen         245.00                 central_heating   \n",
              "1      Rheinland_Pfalz         134.00  self_contained_central_heating   \n",
              "2              Sachsen         255.00                   floor_heating   \n",
              "3              Sachsen          58.15                district_heating   \n",
              "4               Bremen         138.00  self_contained_central_heating   \n",
              "\n",
              "  telekomTvOffer  telekomHybridUploadSpeed  newlyConst  balcony  picturecount  \\\n",
              "0  ONE_YEAR_FREE                       NaN       False    False             6   \n",
              "1  ONE_YEAR_FREE                       NaN       False     True             8   \n",
              "2  ONE_YEAR_FREE                      10.0        True     True             8   \n",
              "3  ONE_YEAR_FREE                       NaN       False     True             9   \n",
              "4            NaN                       NaN       False     True            19   \n",
              "\n",
              "   pricetrend  telekomUploadSpeed  ...               regio2  \\\n",
              "0        4.62                10.0  ...             Dortmund   \n",
              "1        3.47                10.0  ...    Rhein_Pfalz_Kreis   \n",
              "2        2.72                 2.4  ...              Dresden   \n",
              "3        1.53                40.0  ...  Mittelsachsen_Kreis   \n",
              "4        2.46                 NaN  ...               Bremen   \n",
              "\n",
              "                       regio3  \\\n",
              "0                     Schüren   \n",
              "1              Böhl_Iggelheim   \n",
              "2  Äußere_Neustadt_Antonstadt   \n",
              "3                    Freiberg   \n",
              "4           Neu_Schwachhausen   \n",
              "\n",
              "                                         description  \\\n",
              "0  Die ebenerdig zu erreichende Erdgeschosswohnun...   \n",
              "1  Alles neu macht der Mai – so kann es auch für ...   \n",
              "2  Der Neubau entsteht im Herzen der Dresdner Neu...   \n",
              "3  Abseits von Lärm und Abgasen in Ihre neue Wohn...   \n",
              "4  Es handelt sich hier um ein saniertes Mehrfami...   \n",
              "\n",
              "                                          facilities heatingCosts  \\\n",
              "0  Die Wohnung ist mit Laminat ausgelegt. Das Bad...          NaN   \n",
              "1                                                NaN          NaN   \n",
              "2  * 9 m² Balkon\\n* Bad mit bodengleicher Dusche,...          NaN   \n",
              "3                                                NaN        87.23   \n",
              "4  Diese Wohnung wurde neu saniert und ist wie fo...          NaN   \n",
              "\n",
              "   energyEfficiencyClass lastRefurbish  electricityBasePrice  \\\n",
              "0                    NaN           NaN                   NaN   \n",
              "1                    NaN        2019.0                   NaN   \n",
              "2                    NaN           NaN                   NaN   \n",
              "3                    NaN           NaN                   NaN   \n",
              "4                    NaN           NaN                   NaN   \n",
              "\n",
              "   electricityKwhPrice   date  \n",
              "0                  NaN  May19  \n",
              "1                  NaN  May19  \n",
              "2                  NaN  Oct19  \n",
              "3                  NaN  May19  \n",
              "4                  NaN  Feb20  \n",
              "\n",
              "[5 rows x 49 columns]"
            ],
            "text/html": [
              "\n",
              "  <div id=\"df-46edbaa3-233a-490e-885a-6644ab844bf4\">\n",
              "    <div class=\"colab-df-container\">\n",
              "      <div>\n",
              "<style scoped>\n",
              "    .dataframe tbody tr th:only-of-type {\n",
              "        vertical-align: middle;\n",
              "    }\n",
              "\n",
              "    .dataframe tbody tr th {\n",
              "        vertical-align: top;\n",
              "    }\n",
              "\n",
              "    .dataframe thead th {\n",
              "        text-align: right;\n",
              "    }\n",
              "</style>\n",
              "<table border=\"1\" class=\"dataframe\">\n",
              "  <thead>\n",
              "    <tr style=\"text-align: right;\">\n",
              "      <th></th>\n",
              "      <th>regio1</th>\n",
              "      <th>serviceCharge</th>\n",
              "      <th>heatingType</th>\n",
              "      <th>telekomTvOffer</th>\n",
              "      <th>telekomHybridUploadSpeed</th>\n",
              "      <th>newlyConst</th>\n",
              "      <th>balcony</th>\n",
              "      <th>picturecount</th>\n",
              "      <th>pricetrend</th>\n",
              "      <th>telekomUploadSpeed</th>\n",
              "      <th>...</th>\n",
              "      <th>regio2</th>\n",
              "      <th>regio3</th>\n",
              "      <th>description</th>\n",
              "      <th>facilities</th>\n",
              "      <th>heatingCosts</th>\n",
              "      <th>energyEfficiencyClass</th>\n",
              "      <th>lastRefurbish</th>\n",
              "      <th>electricityBasePrice</th>\n",
              "      <th>electricityKwhPrice</th>\n",
              "      <th>date</th>\n",
              "    </tr>\n",
              "  </thead>\n",
              "  <tbody>\n",
              "    <tr>\n",
              "      <th>0</th>\n",
              "      <td>Nordrhein_Westfalen</td>\n",
              "      <td>245.00</td>\n",
              "      <td>central_heating</td>\n",
              "      <td>ONE_YEAR_FREE</td>\n",
              "      <td>NaN</td>\n",
              "      <td>False</td>\n",
              "      <td>False</td>\n",
              "      <td>6</td>\n",
              "      <td>4.62</td>\n",
              "      <td>10.0</td>\n",
              "      <td>...</td>\n",
              "      <td>Dortmund</td>\n",
              "      <td>Schüren</td>\n",
              "      <td>Die ebenerdig zu erreichende Erdgeschosswohnun...</td>\n",
              "      <td>Die Wohnung ist mit Laminat ausgelegt. Das Bad...</td>\n",
              "      <td>NaN</td>\n",
              "      <td>NaN</td>\n",
              "      <td>NaN</td>\n",
              "      <td>NaN</td>\n",
              "      <td>NaN</td>\n",
              "      <td>May19</td>\n",
              "    </tr>\n",
              "    <tr>\n",
              "      <th>1</th>\n",
              "      <td>Rheinland_Pfalz</td>\n",
              "      <td>134.00</td>\n",
              "      <td>self_contained_central_heating</td>\n",
              "      <td>ONE_YEAR_FREE</td>\n",
              "      <td>NaN</td>\n",
              "      <td>False</td>\n",
              "      <td>True</td>\n",
              "      <td>8</td>\n",
              "      <td>3.47</td>\n",
              "      <td>10.0</td>\n",
              "      <td>...</td>\n",
              "      <td>Rhein_Pfalz_Kreis</td>\n",
              "      <td>Böhl_Iggelheim</td>\n",
              "      <td>Alles neu macht der Mai – so kann es auch für ...</td>\n",
              "      <td>NaN</td>\n",
              "      <td>NaN</td>\n",
              "      <td>NaN</td>\n",
              "      <td>2019.0</td>\n",
              "      <td>NaN</td>\n",
              "      <td>NaN</td>\n",
              "      <td>May19</td>\n",
              "    </tr>\n",
              "    <tr>\n",
              "      <th>2</th>\n",
              "      <td>Sachsen</td>\n",
              "      <td>255.00</td>\n",
              "      <td>floor_heating</td>\n",
              "      <td>ONE_YEAR_FREE</td>\n",
              "      <td>10.0</td>\n",
              "      <td>True</td>\n",
              "      <td>True</td>\n",
              "      <td>8</td>\n",
              "      <td>2.72</td>\n",
              "      <td>2.4</td>\n",
              "      <td>...</td>\n",
              "      <td>Dresden</td>\n",
              "      <td>Äußere_Neustadt_Antonstadt</td>\n",
              "      <td>Der Neubau entsteht im Herzen der Dresdner Neu...</td>\n",
              "      <td>* 9 m² Balkon\\n* Bad mit bodengleicher Dusche,...</td>\n",
              "      <td>NaN</td>\n",
              "      <td>NaN</td>\n",
              "      <td>NaN</td>\n",
              "      <td>NaN</td>\n",
              "      <td>NaN</td>\n",
              "      <td>Oct19</td>\n",
              "    </tr>\n",
              "    <tr>\n",
              "      <th>3</th>\n",
              "      <td>Sachsen</td>\n",
              "      <td>58.15</td>\n",
              "      <td>district_heating</td>\n",
              "      <td>ONE_YEAR_FREE</td>\n",
              "      <td>NaN</td>\n",
              "      <td>False</td>\n",
              "      <td>True</td>\n",
              "      <td>9</td>\n",
              "      <td>1.53</td>\n",
              "      <td>40.0</td>\n",
              "      <td>...</td>\n",
              "      <td>Mittelsachsen_Kreis</td>\n",
              "      <td>Freiberg</td>\n",
              "      <td>Abseits von Lärm und Abgasen in Ihre neue Wohn...</td>\n",
              "      <td>NaN</td>\n",
              "      <td>87.23</td>\n",
              "      <td>NaN</td>\n",
              "      <td>NaN</td>\n",
              "      <td>NaN</td>\n",
              "      <td>NaN</td>\n",
              "      <td>May19</td>\n",
              "    </tr>\n",
              "    <tr>\n",
              "      <th>4</th>\n",
              "      <td>Bremen</td>\n",
              "      <td>138.00</td>\n",
              "      <td>self_contained_central_heating</td>\n",
              "      <td>NaN</td>\n",
              "      <td>NaN</td>\n",
              "      <td>False</td>\n",
              "      <td>True</td>\n",
              "      <td>19</td>\n",
              "      <td>2.46</td>\n",
              "      <td>NaN</td>\n",
              "      <td>...</td>\n",
              "      <td>Bremen</td>\n",
              "      <td>Neu_Schwachhausen</td>\n",
              "      <td>Es handelt sich hier um ein saniertes Mehrfami...</td>\n",
              "      <td>Diese Wohnung wurde neu saniert und ist wie fo...</td>\n",
              "      <td>NaN</td>\n",
              "      <td>NaN</td>\n",
              "      <td>NaN</td>\n",
              "      <td>NaN</td>\n",
              "      <td>NaN</td>\n",
              "      <td>Feb20</td>\n",
              "    </tr>\n",
              "  </tbody>\n",
              "</table>\n",
              "<p>5 rows × 49 columns</p>\n",
              "</div>\n",
              "      <button class=\"colab-df-convert\" onclick=\"convertToInteractive('df-46edbaa3-233a-490e-885a-6644ab844bf4')\"\n",
              "              title=\"Convert this dataframe to an interactive table.\"\n",
              "              style=\"display:none;\">\n",
              "        \n",
              "  <svg xmlns=\"http://www.w3.org/2000/svg\" height=\"24px\"viewBox=\"0 0 24 24\"\n",
              "       width=\"24px\">\n",
              "    <path d=\"M0 0h24v24H0V0z\" fill=\"none\"/>\n",
              "    <path d=\"M18.56 5.44l.94 2.06.94-2.06 2.06-.94-2.06-.94-.94-2.06-.94 2.06-2.06.94zm-11 1L8.5 8.5l.94-2.06 2.06-.94-2.06-.94L8.5 2.5l-.94 2.06-2.06.94zm10 10l.94 2.06.94-2.06 2.06-.94-2.06-.94-.94-2.06-.94 2.06-2.06.94z\"/><path d=\"M17.41 7.96l-1.37-1.37c-.4-.4-.92-.59-1.43-.59-.52 0-1.04.2-1.43.59L10.3 9.45l-7.72 7.72c-.78.78-.78 2.05 0 2.83L4 21.41c.39.39.9.59 1.41.59.51 0 1.02-.2 1.41-.59l7.78-7.78 2.81-2.81c.8-.78.8-2.07 0-2.86zM5.41 20L4 18.59l7.72-7.72 1.47 1.35L5.41 20z\"/>\n",
              "  </svg>\n",
              "      </button>\n",
              "      \n",
              "  <style>\n",
              "    .colab-df-container {\n",
              "      display:flex;\n",
              "      flex-wrap:wrap;\n",
              "      gap: 12px;\n",
              "    }\n",
              "\n",
              "    .colab-df-convert {\n",
              "      background-color: #E8F0FE;\n",
              "      border: none;\n",
              "      border-radius: 50%;\n",
              "      cursor: pointer;\n",
              "      display: none;\n",
              "      fill: #1967D2;\n",
              "      height: 32px;\n",
              "      padding: 0 0 0 0;\n",
              "      width: 32px;\n",
              "    }\n",
              "\n",
              "    .colab-df-convert:hover {\n",
              "      background-color: #E2EBFA;\n",
              "      box-shadow: 0px 1px 2px rgba(60, 64, 67, 0.3), 0px 1px 3px 1px rgba(60, 64, 67, 0.15);\n",
              "      fill: #174EA6;\n",
              "    }\n",
              "\n",
              "    [theme=dark] .colab-df-convert {\n",
              "      background-color: #3B4455;\n",
              "      fill: #D2E3FC;\n",
              "    }\n",
              "\n",
              "    [theme=dark] .colab-df-convert:hover {\n",
              "      background-color: #434B5C;\n",
              "      box-shadow: 0px 1px 3px 1px rgba(0, 0, 0, 0.15);\n",
              "      filter: drop-shadow(0px 1px 2px rgba(0, 0, 0, 0.3));\n",
              "      fill: #FFFFFF;\n",
              "    }\n",
              "  </style>\n",
              "\n",
              "      <script>\n",
              "        const buttonEl =\n",
              "          document.querySelector('#df-46edbaa3-233a-490e-885a-6644ab844bf4 button.colab-df-convert');\n",
              "        buttonEl.style.display =\n",
              "          google.colab.kernel.accessAllowed ? 'block' : 'none';\n",
              "\n",
              "        async function convertToInteractive(key) {\n",
              "          const element = document.querySelector('#df-46edbaa3-233a-490e-885a-6644ab844bf4');\n",
              "          const dataTable =\n",
              "            await google.colab.kernel.invokeFunction('convertToInteractive',\n",
              "                                                     [key], {});\n",
              "          if (!dataTable) return;\n",
              "\n",
              "          const docLinkHtml = 'Like what you see? Visit the ' +\n",
              "            '<a target=\"_blank\" href=https://colab.research.google.com/notebooks/data_table.ipynb>data table notebook</a>'\n",
              "            + ' to learn more about interactive tables.';\n",
              "          element.innerHTML = '';\n",
              "          dataTable['output_type'] = 'display_data';\n",
              "          await google.colab.output.renderOutput(dataTable, element);\n",
              "          const docLink = document.createElement('div');\n",
              "          docLink.innerHTML = docLinkHtml;\n",
              "          element.appendChild(docLink);\n",
              "        }\n",
              "      </script>\n",
              "    </div>\n",
              "  </div>\n",
              "  "
            ]
          },
          "metadata": {},
          "execution_count": 105
        }
      ]
    },
    {
      "cell_type": "code",
      "source": [
        "df.info()"
      ],
      "metadata": {
        "colab": {
          "base_uri": "https://localhost:8080/"
        },
        "id": "983pQYG4gCUN",
        "outputId": "5cf2dae3-be61-4bd9-ac79-2ff208b4a456"
      },
      "execution_count": 106,
      "outputs": [
        {
          "output_type": "stream",
          "name": "stdout",
          "text": [
            "<class 'pandas.core.frame.DataFrame'>\n",
            "RangeIndex: 268850 entries, 0 to 268849\n",
            "Data columns (total 49 columns):\n",
            " #   Column                    Non-Null Count   Dtype  \n",
            "---  ------                    --------------   -----  \n",
            " 0   regio1                    268850 non-null  object \n",
            " 1   serviceCharge             261941 non-null  float64\n",
            " 2   heatingType               223994 non-null  object \n",
            " 3   telekomTvOffer            236231 non-null  object \n",
            " 4   telekomHybridUploadSpeed  45020 non-null   float64\n",
            " 5   newlyConst                268850 non-null  bool   \n",
            " 6   balcony                   268850 non-null  bool   \n",
            " 7   picturecount              268850 non-null  int64  \n",
            " 8   pricetrend                267018 non-null  float64\n",
            " 9   telekomUploadSpeed        235492 non-null  float64\n",
            " 10  totalRent                 228333 non-null  float64\n",
            " 11  yearConstructed           211805 non-null  float64\n",
            " 12  scoutId                   268850 non-null  int64  \n",
            " 13  noParkSpaces              93052 non-null   float64\n",
            " 14  firingTypes               211886 non-null  object \n",
            " 15  hasKitchen                268850 non-null  bool   \n",
            " 16  geo_bln                   268850 non-null  object \n",
            " 17  cellar                    268850 non-null  bool   \n",
            " 18  yearConstructedRange      211805 non-null  float64\n",
            " 19  baseRent                  268850 non-null  float64\n",
            " 20  houseNumber               197832 non-null  object \n",
            " 21  livingSpace               268850 non-null  float64\n",
            " 22  geo_krs                   268850 non-null  object \n",
            " 23  condition                 200361 non-null  object \n",
            " 24  interiorQual              156185 non-null  object \n",
            " 25  petsAllowed               154277 non-null  object \n",
            " 26  street                    268850 non-null  object \n",
            " 27  streetPlain               197837 non-null  object \n",
            " 28  lift                      268850 non-null  bool   \n",
            " 29  baseRentRange             268850 non-null  int64  \n",
            " 30  typeOfFlat                232236 non-null  object \n",
            " 31  geo_plz                   268850 non-null  int64  \n",
            " 32  noRooms                   268850 non-null  float64\n",
            " 33  thermalChar               162344 non-null  float64\n",
            " 34  floor                     217541 non-null  float64\n",
            " 35  numberOfFloors            171118 non-null  float64\n",
            " 36  noRoomsRange              268850 non-null  int64  \n",
            " 37  garden                    268850 non-null  bool   \n",
            " 38  livingSpaceRange          268850 non-null  int64  \n",
            " 39  regio2                    268850 non-null  object \n",
            " 40  regio3                    268850 non-null  object \n",
            " 41  description               249103 non-null  object \n",
            " 42  facilities                215926 non-null  object \n",
            " 43  heatingCosts              85518 non-null   float64\n",
            " 44  energyEfficiencyClass     77787 non-null   object \n",
            " 45  lastRefurbish             80711 non-null   float64\n",
            " 46  electricityBasePrice      46846 non-null   float64\n",
            " 47  electricityKwhPrice       46846 non-null   float64\n",
            " 48  date                      268850 non-null  object \n",
            "dtypes: bool(6), float64(18), int64(6), object(19)\n",
            "memory usage: 89.7+ MB\n"
          ]
        }
      ]
    },
    {
      "cell_type": "code",
      "source": [
        "df.shape"
      ],
      "metadata": {
        "colab": {
          "base_uri": "https://localhost:8080/"
        },
        "id": "eF-3ng-FgD9z",
        "outputId": "ba036007-9864-434e-ef6c-e3c0dbffa1e0"
      },
      "execution_count": 107,
      "outputs": [
        {
          "output_type": "execute_result",
          "data": {
            "text/plain": [
              "(268850, 49)"
            ]
          },
          "metadata": {},
          "execution_count": 107
        }
      ]
    },
    {
      "cell_type": "code",
      "source": [
        "df.columns"
      ],
      "metadata": {
        "colab": {
          "base_uri": "https://localhost:8080/"
        },
        "id": "pwWEXMKvgVvS",
        "outputId": "213e63f3-1bd8-4e0a-ff6e-a82e189dcb55"
      },
      "execution_count": 108,
      "outputs": [
        {
          "output_type": "execute_result",
          "data": {
            "text/plain": [
              "Index(['regio1', 'serviceCharge', 'heatingType', 'telekomTvOffer',\n",
              "       'telekomHybridUploadSpeed', 'newlyConst', 'balcony', 'picturecount',\n",
              "       'pricetrend', 'telekomUploadSpeed', 'totalRent', 'yearConstructed',\n",
              "       'scoutId', 'noParkSpaces', 'firingTypes', 'hasKitchen', 'geo_bln',\n",
              "       'cellar', 'yearConstructedRange', 'baseRent', 'houseNumber',\n",
              "       'livingSpace', 'geo_krs', 'condition', 'interiorQual', 'petsAllowed',\n",
              "       'street', 'streetPlain', 'lift', 'baseRentRange', 'typeOfFlat',\n",
              "       'geo_plz', 'noRooms', 'thermalChar', 'floor', 'numberOfFloors',\n",
              "       'noRoomsRange', 'garden', 'livingSpaceRange', 'regio2', 'regio3',\n",
              "       'description', 'facilities', 'heatingCosts', 'energyEfficiencyClass',\n",
              "       'lastRefurbish', 'electricityBasePrice', 'electricityKwhPrice', 'date'],\n",
              "      dtype='object')"
            ]
          },
          "metadata": {},
          "execution_count": 108
        }
      ]
    },
    {
      "cell_type": "markdown",
      "source": [
        "# Cleaning data\n",
        "\n",
        "*   Removing irrelevant columns\n",
        "*   Filling missing data\n",
        "*   Detecting outliers\n",
        "*   Dealing with non sence data\n",
        "*   Reducing categorical data\n",
        "\n",
        "\n",
        "\n",
        "\n",
        "\n"
      ],
      "metadata": {
        "id": "o06aGlmXglKC"
      }
    },
    {
      "cell_type": "code",
      "source": [
        "df.isna().sum()/len(df)"
      ],
      "metadata": {
        "colab": {
          "base_uri": "https://localhost:8080/"
        },
        "id": "u0eYxa0-hB-K",
        "outputId": "bc62ade4-a227-46a8-c08e-934df84c28ec"
      },
      "execution_count": 109,
      "outputs": [
        {
          "output_type": "execute_result",
          "data": {
            "text/plain": [
              "regio1                      0.000000\n",
              "serviceCharge               0.025698\n",
              "heatingType                 0.166844\n",
              "telekomTvOffer              0.121328\n",
              "telekomHybridUploadSpeed    0.832546\n",
              "newlyConst                  0.000000\n",
              "balcony                     0.000000\n",
              "picturecount                0.000000\n",
              "pricetrend                  0.006814\n",
              "telekomUploadSpeed          0.124077\n",
              "totalRent                   0.150705\n",
              "yearConstructed             0.212182\n",
              "scoutId                     0.000000\n",
              "noParkSpaces                0.653889\n",
              "firingTypes                 0.211880\n",
              "hasKitchen                  0.000000\n",
              "geo_bln                     0.000000\n",
              "cellar                      0.000000\n",
              "yearConstructedRange        0.212182\n",
              "baseRent                    0.000000\n",
              "houseNumber                 0.264155\n",
              "livingSpace                 0.000000\n",
              "geo_krs                     0.000000\n",
              "condition                   0.254748\n",
              "interiorQual                0.419063\n",
              "petsAllowed                 0.426160\n",
              "street                      0.000000\n",
              "streetPlain                 0.264136\n",
              "lift                        0.000000\n",
              "baseRentRange               0.000000\n",
              "typeOfFlat                  0.136187\n",
              "geo_plz                     0.000000\n",
              "noRooms                     0.000000\n",
              "thermalChar                 0.396154\n",
              "floor                       0.190846\n",
              "numberOfFloors              0.363519\n",
              "noRoomsRange                0.000000\n",
              "garden                      0.000000\n",
              "livingSpaceRange            0.000000\n",
              "regio2                      0.000000\n",
              "regio3                      0.000000\n",
              "description                 0.073450\n",
              "facilities                  0.196853\n",
              "heatingCosts                0.681912\n",
              "energyEfficiencyClass       0.710668\n",
              "lastRefurbish               0.699792\n",
              "electricityBasePrice        0.825754\n",
              "electricityKwhPrice         0.825754\n",
              "date                        0.000000\n",
              "dtype: float64"
            ]
          },
          "metadata": {},
          "execution_count": 109
        }
      ]
    },
    {
      "cell_type": "code",
      "source": [
        "df.columns[((df.isna().sum()/len(df)) > 0.50)]"
      ],
      "metadata": {
        "colab": {
          "base_uri": "https://localhost:8080/"
        },
        "id": "HuoBNNIZiFLu",
        "outputId": "24b09ab7-d387-45dc-c154-649d47b64e96"
      },
      "execution_count": 110,
      "outputs": [
        {
          "output_type": "execute_result",
          "data": {
            "text/plain": [
              "Index(['telekomHybridUploadSpeed', 'noParkSpaces', 'heatingCosts',\n",
              "       'energyEfficiencyClass', 'lastRefurbish', 'electricityBasePrice',\n",
              "       'electricityKwhPrice'],\n",
              "      dtype='object')"
            ]
          },
          "metadata": {},
          "execution_count": 110
        }
      ]
    },
    {
      "cell_type": "code",
      "source": [
        "df = df.drop(columns=df.columns[((df.isna().sum()/len(df)) > 0.50)])\n",
        "df.columns"
      ],
      "metadata": {
        "colab": {
          "base_uri": "https://localhost:8080/"
        },
        "id": "07srsINNiLCb",
        "outputId": "d501314f-1f21-4e31-b4e1-bf1415d0c14d"
      },
      "execution_count": 111,
      "outputs": [
        {
          "output_type": "execute_result",
          "data": {
            "text/plain": [
              "Index(['regio1', 'serviceCharge', 'heatingType', 'telekomTvOffer',\n",
              "       'newlyConst', 'balcony', 'picturecount', 'pricetrend',\n",
              "       'telekomUploadSpeed', 'totalRent', 'yearConstructed', 'scoutId',\n",
              "       'firingTypes', 'hasKitchen', 'geo_bln', 'cellar',\n",
              "       'yearConstructedRange', 'baseRent', 'houseNumber', 'livingSpace',\n",
              "       'geo_krs', 'condition', 'interiorQual', 'petsAllowed', 'street',\n",
              "       'streetPlain', 'lift', 'baseRentRange', 'typeOfFlat', 'geo_plz',\n",
              "       'noRooms', 'thermalChar', 'floor', 'numberOfFloors', 'noRoomsRange',\n",
              "       'garden', 'livingSpaceRange', 'regio2', 'regio3', 'description',\n",
              "       'facilities', 'date'],\n",
              "      dtype='object')"
            ]
          },
          "metadata": {},
          "execution_count": 111
        }
      ]
    },
    {
      "cell_type": "code",
      "source": [
        "df.shape"
      ],
      "metadata": {
        "colab": {
          "base_uri": "https://localhost:8080/"
        },
        "id": "K1pxRFaaiNhF",
        "outputId": "1b80f111-e488-4846-f6d2-9766d88801d6"
      },
      "execution_count": 112,
      "outputs": [
        {
          "output_type": "execute_result",
          "data": {
            "text/plain": [
              "(268850, 42)"
            ]
          },
          "metadata": {},
          "execution_count": 112
        }
      ]
    },
    {
      "cell_type": "code",
      "source": [
        "df = df.drop(df[df['livingSpace'] == 0.0].index)\n",
        "df.shape"
      ],
      "metadata": {
        "colab": {
          "base_uri": "https://localhost:8080/"
        },
        "id": "qHCUYawjiOp1",
        "outputId": "d883122e-21b7-4d57-cad4-b37b4b4f073d"
      },
      "execution_count": 113,
      "outputs": [
        {
          "output_type": "execute_result",
          "data": {
            "text/plain": [
              "(268775, 42)"
            ]
          },
          "metadata": {},
          "execution_count": 113
        }
      ]
    },
    {
      "cell_type": "code",
      "source": [
        "df = df.drop(df[df['totalRent'] == 0.0].index)\n",
        "df.shape"
      ],
      "metadata": {
        "colab": {
          "base_uri": "https://localhost:8080/"
        },
        "id": "QeI16QCVismJ",
        "outputId": "e739c0b5-64a3-4097-e041-c209ed06a023"
      },
      "execution_count": 114,
      "outputs": [
        {
          "output_type": "execute_result",
          "data": {
            "text/plain": [
              "(268544, 42)"
            ]
          },
          "metadata": {},
          "execution_count": 114
        }
      ]
    },
    {
      "cell_type": "code",
      "source": [
        "df = df.drop(df[df['baseRent'] == 0.0].index)\n",
        "df.shape"
      ],
      "metadata": {
        "id": "DK6xwW9oJpDj",
        "colab": {
          "base_uri": "https://localhost:8080/"
        },
        "outputId": "4552dfe3-b3fe-4017-a925-9977f7e90409"
      },
      "execution_count": 115,
      "outputs": [
        {
          "output_type": "execute_result",
          "data": {
            "text/plain": [
              "(268470, 42)"
            ]
          },
          "metadata": {},
          "execution_count": 115
        }
      ]
    },
    {
      "cell_type": "code",
      "source": [
        "df = df.drop(df[df['noRooms'] > 100].index)\n",
        "df.shape\n"
      ],
      "metadata": {
        "colab": {
          "base_uri": "https://localhost:8080/"
        },
        "id": "WxMrSEBbDiAb",
        "outputId": "4e08c341-1b53-4b81-8b9e-45ae29769fca"
      },
      "execution_count": 116,
      "outputs": [
        {
          "output_type": "execute_result",
          "data": {
            "text/plain": [
              "(268462, 42)"
            ]
          },
          "metadata": {},
          "execution_count": 116
        }
      ]
    },
    {
      "cell_type": "code",
      "source": [
        "df = df.loc[~((df['livingSpace'] == 60) & (df['baseRentRange']< 30)),:]\n",
        "df.shape"
      ],
      "metadata": {
        "colab": {
          "base_uri": "https://localhost:8080/"
        },
        "id": "9pE_5qPxDs4l",
        "outputId": "1347207b-5760-458f-f98e-1deb770596b3"
      },
      "execution_count": 117,
      "outputs": [
        {
          "output_type": "execute_result",
          "data": {
            "text/plain": [
              "(263281, 42)"
            ]
          },
          "metadata": {},
          "execution_count": 117
        }
      ]
    },
    {
      "cell_type": "code",
      "source": [
        "df.describe()"
      ],
      "metadata": {
        "colab": {
          "base_uri": "https://localhost:8080/",
          "height": 0
        },
        "id": "dTjEs6JMi-AE",
        "outputId": "188c51c3-f816-4736-8b0d-e94547be8a2e"
      },
      "execution_count": 118,
      "outputs": [
        {
          "output_type": "execute_result",
          "data": {
            "text/plain": [
              "       serviceCharge   picturecount     pricetrend  telekomUploadSpeed  \\\n",
              "count  256632.000000  263281.000000  261480.000000       230483.000000   \n",
              "mean      151.846982       9.800179       3.393378           28.812074   \n",
              "std       311.337044       6.415461       1.966035           16.336040   \n",
              "min         0.000000       0.000000     -12.330000            1.000000   \n",
              "25%        95.000000       6.000000       2.000000           10.000000   \n",
              "50%       135.000000       9.000000       3.390000           40.000000   \n",
              "75%       190.000000      13.000000       4.580000           40.000000   \n",
              "max    146118.000000     121.000000      14.920000          100.000000   \n",
              "\n",
              "          totalRent  yearConstructed       scoutId  yearConstructedRange  \\\n",
              "count  2.236900e+05    207874.000000  2.632810e+05         207874.000000   \n",
              "mean   9.074140e+02      1966.506865  1.069981e+08              3.727195   \n",
              "std    3.358146e+04        47.135401  1.247700e+07              2.744813   \n",
              "min    1.000000e+00      1000.000000  2.887174e+07              1.000000   \n",
              "25%    4.700000e+02      1950.000000  1.067174e+08              1.000000   \n",
              "50%    6.500000e+02      1973.000000  1.111615e+08              3.000000   \n",
              "75%    9.900000e+02      1996.000000  1.137701e+08              5.000000   \n",
              "max    1.575154e+07      2090.000000  1.157117e+08              9.000000   \n",
              "\n",
              "           baseRent    livingSpace  baseRentRange        geo_plz  \\\n",
              "count  2.632810e+05  263281.000000  263281.000000  263281.000000   \n",
              "mean   6.984829e+02      74.659157       3.781671   37234.100710   \n",
              "std    1.974149e+04     257.404630       2.220350   27805.343642   \n",
              "min    1.000000e+00       1.000000       1.000000     852.000000   \n",
              "25%    3.390000e+02      54.000000       2.000000    9127.000000   \n",
              "50%    4.950000e+02      68.000000       3.000000   38550.000000   \n",
              "75%    8.000000e+02      87.390000       5.000000   57072.000000   \n",
              "max    9.999999e+06  111111.000000       9.000000   99998.000000   \n",
              "\n",
              "             noRooms    thermalChar          floor  numberOfFloors  \\\n",
              "count  263281.000000  159437.000000  213078.000000   167319.000000   \n",
              "mean        2.637581     114.535827       2.124959        3.581273   \n",
              "std         1.096245      61.533471       3.666978        6.442359   \n",
              "min         1.000000       0.100000      -1.000000        0.000000   \n",
              "25%         2.000000      79.000000       1.000000        2.000000   \n",
              "50%         3.000000     107.000000       2.000000        3.000000   \n",
              "75%         3.000000     140.000000       3.000000        4.000000   \n",
              "max       100.000000    1996.000000     999.000000      999.000000   \n",
              "\n",
              "        noRoomsRange  livingSpaceRange  \n",
              "count  263281.000000     263281.000000  \n",
              "mean        2.577710          3.092718  \n",
              "std         0.942816          1.412622  \n",
              "min         1.000000          1.000000  \n",
              "25%         2.000000          2.000000  \n",
              "50%         3.000000          3.000000  \n",
              "75%         3.000000          4.000000  \n",
              "max         5.000000          7.000000  "
            ],
            "text/html": [
              "\n",
              "  <div id=\"df-ca221d17-fb7e-400f-a52b-824ec9fd8131\">\n",
              "    <div class=\"colab-df-container\">\n",
              "      <div>\n",
              "<style scoped>\n",
              "    .dataframe tbody tr th:only-of-type {\n",
              "        vertical-align: middle;\n",
              "    }\n",
              "\n",
              "    .dataframe tbody tr th {\n",
              "        vertical-align: top;\n",
              "    }\n",
              "\n",
              "    .dataframe thead th {\n",
              "        text-align: right;\n",
              "    }\n",
              "</style>\n",
              "<table border=\"1\" class=\"dataframe\">\n",
              "  <thead>\n",
              "    <tr style=\"text-align: right;\">\n",
              "      <th></th>\n",
              "      <th>serviceCharge</th>\n",
              "      <th>picturecount</th>\n",
              "      <th>pricetrend</th>\n",
              "      <th>telekomUploadSpeed</th>\n",
              "      <th>totalRent</th>\n",
              "      <th>yearConstructed</th>\n",
              "      <th>scoutId</th>\n",
              "      <th>yearConstructedRange</th>\n",
              "      <th>baseRent</th>\n",
              "      <th>livingSpace</th>\n",
              "      <th>baseRentRange</th>\n",
              "      <th>geo_plz</th>\n",
              "      <th>noRooms</th>\n",
              "      <th>thermalChar</th>\n",
              "      <th>floor</th>\n",
              "      <th>numberOfFloors</th>\n",
              "      <th>noRoomsRange</th>\n",
              "      <th>livingSpaceRange</th>\n",
              "    </tr>\n",
              "  </thead>\n",
              "  <tbody>\n",
              "    <tr>\n",
              "      <th>count</th>\n",
              "      <td>256632.000000</td>\n",
              "      <td>263281.000000</td>\n",
              "      <td>261480.000000</td>\n",
              "      <td>230483.000000</td>\n",
              "      <td>2.236900e+05</td>\n",
              "      <td>207874.000000</td>\n",
              "      <td>2.632810e+05</td>\n",
              "      <td>207874.000000</td>\n",
              "      <td>2.632810e+05</td>\n",
              "      <td>263281.000000</td>\n",
              "      <td>263281.000000</td>\n",
              "      <td>263281.000000</td>\n",
              "      <td>263281.000000</td>\n",
              "      <td>159437.000000</td>\n",
              "      <td>213078.000000</td>\n",
              "      <td>167319.000000</td>\n",
              "      <td>263281.000000</td>\n",
              "      <td>263281.000000</td>\n",
              "    </tr>\n",
              "    <tr>\n",
              "      <th>mean</th>\n",
              "      <td>151.846982</td>\n",
              "      <td>9.800179</td>\n",
              "      <td>3.393378</td>\n",
              "      <td>28.812074</td>\n",
              "      <td>9.074140e+02</td>\n",
              "      <td>1966.506865</td>\n",
              "      <td>1.069981e+08</td>\n",
              "      <td>3.727195</td>\n",
              "      <td>6.984829e+02</td>\n",
              "      <td>74.659157</td>\n",
              "      <td>3.781671</td>\n",
              "      <td>37234.100710</td>\n",
              "      <td>2.637581</td>\n",
              "      <td>114.535827</td>\n",
              "      <td>2.124959</td>\n",
              "      <td>3.581273</td>\n",
              "      <td>2.577710</td>\n",
              "      <td>3.092718</td>\n",
              "    </tr>\n",
              "    <tr>\n",
              "      <th>std</th>\n",
              "      <td>311.337044</td>\n",
              "      <td>6.415461</td>\n",
              "      <td>1.966035</td>\n",
              "      <td>16.336040</td>\n",
              "      <td>3.358146e+04</td>\n",
              "      <td>47.135401</td>\n",
              "      <td>1.247700e+07</td>\n",
              "      <td>2.744813</td>\n",
              "      <td>1.974149e+04</td>\n",
              "      <td>257.404630</td>\n",
              "      <td>2.220350</td>\n",
              "      <td>27805.343642</td>\n",
              "      <td>1.096245</td>\n",
              "      <td>61.533471</td>\n",
              "      <td>3.666978</td>\n",
              "      <td>6.442359</td>\n",
              "      <td>0.942816</td>\n",
              "      <td>1.412622</td>\n",
              "    </tr>\n",
              "    <tr>\n",
              "      <th>min</th>\n",
              "      <td>0.000000</td>\n",
              "      <td>0.000000</td>\n",
              "      <td>-12.330000</td>\n",
              "      <td>1.000000</td>\n",
              "      <td>1.000000e+00</td>\n",
              "      <td>1000.000000</td>\n",
              "      <td>2.887174e+07</td>\n",
              "      <td>1.000000</td>\n",
              "      <td>1.000000e+00</td>\n",
              "      <td>1.000000</td>\n",
              "      <td>1.000000</td>\n",
              "      <td>852.000000</td>\n",
              "      <td>1.000000</td>\n",
              "      <td>0.100000</td>\n",
              "      <td>-1.000000</td>\n",
              "      <td>0.000000</td>\n",
              "      <td>1.000000</td>\n",
              "      <td>1.000000</td>\n",
              "    </tr>\n",
              "    <tr>\n",
              "      <th>25%</th>\n",
              "      <td>95.000000</td>\n",
              "      <td>6.000000</td>\n",
              "      <td>2.000000</td>\n",
              "      <td>10.000000</td>\n",
              "      <td>4.700000e+02</td>\n",
              "      <td>1950.000000</td>\n",
              "      <td>1.067174e+08</td>\n",
              "      <td>1.000000</td>\n",
              "      <td>3.390000e+02</td>\n",
              "      <td>54.000000</td>\n",
              "      <td>2.000000</td>\n",
              "      <td>9127.000000</td>\n",
              "      <td>2.000000</td>\n",
              "      <td>79.000000</td>\n",
              "      <td>1.000000</td>\n",
              "      <td>2.000000</td>\n",
              "      <td>2.000000</td>\n",
              "      <td>2.000000</td>\n",
              "    </tr>\n",
              "    <tr>\n",
              "      <th>50%</th>\n",
              "      <td>135.000000</td>\n",
              "      <td>9.000000</td>\n",
              "      <td>3.390000</td>\n",
              "      <td>40.000000</td>\n",
              "      <td>6.500000e+02</td>\n",
              "      <td>1973.000000</td>\n",
              "      <td>1.111615e+08</td>\n",
              "      <td>3.000000</td>\n",
              "      <td>4.950000e+02</td>\n",
              "      <td>68.000000</td>\n",
              "      <td>3.000000</td>\n",
              "      <td>38550.000000</td>\n",
              "      <td>3.000000</td>\n",
              "      <td>107.000000</td>\n",
              "      <td>2.000000</td>\n",
              "      <td>3.000000</td>\n",
              "      <td>3.000000</td>\n",
              "      <td>3.000000</td>\n",
              "    </tr>\n",
              "    <tr>\n",
              "      <th>75%</th>\n",
              "      <td>190.000000</td>\n",
              "      <td>13.000000</td>\n",
              "      <td>4.580000</td>\n",
              "      <td>40.000000</td>\n",
              "      <td>9.900000e+02</td>\n",
              "      <td>1996.000000</td>\n",
              "      <td>1.137701e+08</td>\n",
              "      <td>5.000000</td>\n",
              "      <td>8.000000e+02</td>\n",
              "      <td>87.390000</td>\n",
              "      <td>5.000000</td>\n",
              "      <td>57072.000000</td>\n",
              "      <td>3.000000</td>\n",
              "      <td>140.000000</td>\n",
              "      <td>3.000000</td>\n",
              "      <td>4.000000</td>\n",
              "      <td>3.000000</td>\n",
              "      <td>4.000000</td>\n",
              "    </tr>\n",
              "    <tr>\n",
              "      <th>max</th>\n",
              "      <td>146118.000000</td>\n",
              "      <td>121.000000</td>\n",
              "      <td>14.920000</td>\n",
              "      <td>100.000000</td>\n",
              "      <td>1.575154e+07</td>\n",
              "      <td>2090.000000</td>\n",
              "      <td>1.157117e+08</td>\n",
              "      <td>9.000000</td>\n",
              "      <td>9.999999e+06</td>\n",
              "      <td>111111.000000</td>\n",
              "      <td>9.000000</td>\n",
              "      <td>99998.000000</td>\n",
              "      <td>100.000000</td>\n",
              "      <td>1996.000000</td>\n",
              "      <td>999.000000</td>\n",
              "      <td>999.000000</td>\n",
              "      <td>5.000000</td>\n",
              "      <td>7.000000</td>\n",
              "    </tr>\n",
              "  </tbody>\n",
              "</table>\n",
              "</div>\n",
              "      <button class=\"colab-df-convert\" onclick=\"convertToInteractive('df-ca221d17-fb7e-400f-a52b-824ec9fd8131')\"\n",
              "              title=\"Convert this dataframe to an interactive table.\"\n",
              "              style=\"display:none;\">\n",
              "        \n",
              "  <svg xmlns=\"http://www.w3.org/2000/svg\" height=\"24px\"viewBox=\"0 0 24 24\"\n",
              "       width=\"24px\">\n",
              "    <path d=\"M0 0h24v24H0V0z\" fill=\"none\"/>\n",
              "    <path d=\"M18.56 5.44l.94 2.06.94-2.06 2.06-.94-2.06-.94-.94-2.06-.94 2.06-2.06.94zm-11 1L8.5 8.5l.94-2.06 2.06-.94-2.06-.94L8.5 2.5l-.94 2.06-2.06.94zm10 10l.94 2.06.94-2.06 2.06-.94-2.06-.94-.94-2.06-.94 2.06-2.06.94z\"/><path d=\"M17.41 7.96l-1.37-1.37c-.4-.4-.92-.59-1.43-.59-.52 0-1.04.2-1.43.59L10.3 9.45l-7.72 7.72c-.78.78-.78 2.05 0 2.83L4 21.41c.39.39.9.59 1.41.59.51 0 1.02-.2 1.41-.59l7.78-7.78 2.81-2.81c.8-.78.8-2.07 0-2.86zM5.41 20L4 18.59l7.72-7.72 1.47 1.35L5.41 20z\"/>\n",
              "  </svg>\n",
              "      </button>\n",
              "      \n",
              "  <style>\n",
              "    .colab-df-container {\n",
              "      display:flex;\n",
              "      flex-wrap:wrap;\n",
              "      gap: 12px;\n",
              "    }\n",
              "\n",
              "    .colab-df-convert {\n",
              "      background-color: #E8F0FE;\n",
              "      border: none;\n",
              "      border-radius: 50%;\n",
              "      cursor: pointer;\n",
              "      display: none;\n",
              "      fill: #1967D2;\n",
              "      height: 32px;\n",
              "      padding: 0 0 0 0;\n",
              "      width: 32px;\n",
              "    }\n",
              "\n",
              "    .colab-df-convert:hover {\n",
              "      background-color: #E2EBFA;\n",
              "      box-shadow: 0px 1px 2px rgba(60, 64, 67, 0.3), 0px 1px 3px 1px rgba(60, 64, 67, 0.15);\n",
              "      fill: #174EA6;\n",
              "    }\n",
              "\n",
              "    [theme=dark] .colab-df-convert {\n",
              "      background-color: #3B4455;\n",
              "      fill: #D2E3FC;\n",
              "    }\n",
              "\n",
              "    [theme=dark] .colab-df-convert:hover {\n",
              "      background-color: #434B5C;\n",
              "      box-shadow: 0px 1px 3px 1px rgba(0, 0, 0, 0.15);\n",
              "      filter: drop-shadow(0px 1px 2px rgba(0, 0, 0, 0.3));\n",
              "      fill: #FFFFFF;\n",
              "    }\n",
              "  </style>\n",
              "\n",
              "      <script>\n",
              "        const buttonEl =\n",
              "          document.querySelector('#df-ca221d17-fb7e-400f-a52b-824ec9fd8131 button.colab-df-convert');\n",
              "        buttonEl.style.display =\n",
              "          google.colab.kernel.accessAllowed ? 'block' : 'none';\n",
              "\n",
              "        async function convertToInteractive(key) {\n",
              "          const element = document.querySelector('#df-ca221d17-fb7e-400f-a52b-824ec9fd8131');\n",
              "          const dataTable =\n",
              "            await google.colab.kernel.invokeFunction('convertToInteractive',\n",
              "                                                     [key], {});\n",
              "          if (!dataTable) return;\n",
              "\n",
              "          const docLinkHtml = 'Like what you see? Visit the ' +\n",
              "            '<a target=\"_blank\" href=https://colab.research.google.com/notebooks/data_table.ipynb>data table notebook</a>'\n",
              "            + ' to learn more about interactive tables.';\n",
              "          element.innerHTML = '';\n",
              "          dataTable['output_type'] = 'display_data';\n",
              "          await google.colab.output.renderOutput(dataTable, element);\n",
              "          const docLink = document.createElement('div');\n",
              "          docLink.innerHTML = docLinkHtml;\n",
              "          element.appendChild(docLink);\n",
              "        }\n",
              "      </script>\n",
              "    </div>\n",
              "  </div>\n",
              "  "
            ]
          },
          "metadata": {},
          "execution_count": 118
        }
      ]
    },
    {
      "cell_type": "code",
      "source": [
        "df.fillna(df._get_numeric_data().mean(),inplace = True)"
      ],
      "metadata": {
        "id": "J9VHiIEzjH1T"
      },
      "execution_count": 119,
      "outputs": []
    },
    {
      "cell_type": "code",
      "source": [
        "df.isna().sum()/len(df)"
      ],
      "metadata": {
        "colab": {
          "base_uri": "https://localhost:8080/"
        },
        "id": "PtGD0TynjMQ2",
        "outputId": "5ee33d64-04da-4bde-d142-72525d753333"
      },
      "execution_count": 120,
      "outputs": [
        {
          "output_type": "execute_result",
          "data": {
            "text/plain": [
              "regio1                  0.000000\n",
              "serviceCharge           0.000000\n",
              "heatingType             0.167160\n",
              "telekomTvOffer          0.121843\n",
              "newlyConst              0.000000\n",
              "balcony                 0.000000\n",
              "picturecount            0.000000\n",
              "pricetrend              0.000000\n",
              "telekomUploadSpeed      0.000000\n",
              "totalRent               0.000000\n",
              "yearConstructed         0.000000\n",
              "scoutId                 0.000000\n",
              "firingTypes             0.211572\n",
              "hasKitchen              0.000000\n",
              "geo_bln                 0.000000\n",
              "cellar                  0.000000\n",
              "yearConstructedRange    0.000000\n",
              "baseRent                0.000000\n",
              "houseNumber             0.262856\n",
              "livingSpace             0.000000\n",
              "geo_krs                 0.000000\n",
              "condition               0.254595\n",
              "interiorQual            0.419233\n",
              "petsAllowed             0.427517\n",
              "street                  0.000000\n",
              "streetPlain             0.262837\n",
              "lift                    0.000000\n",
              "baseRentRange           0.000000\n",
              "typeOfFlat              0.136250\n",
              "geo_plz                 0.000000\n",
              "noRooms                 0.000000\n",
              "thermalChar             0.000000\n",
              "floor                   0.000000\n",
              "numberOfFloors          0.000000\n",
              "noRoomsRange            0.000000\n",
              "garden                  0.000000\n",
              "livingSpaceRange        0.000000\n",
              "regio2                  0.000000\n",
              "regio3                  0.000000\n",
              "description             0.073716\n",
              "facilities              0.195992\n",
              "date                    0.000000\n",
              "dtype: float64"
            ]
          },
          "metadata": {},
          "execution_count": 120
        }
      ]
    },
    {
      "cell_type": "code",
      "source": [
        "df.duplicated().sum()"
      ],
      "metadata": {
        "colab": {
          "base_uri": "https://localhost:8080/"
        },
        "id": "ixaMIX-xjT9C",
        "outputId": "c026a508-ef52-4cf8-dd13-6795767a6ea6"
      },
      "execution_count": 121,
      "outputs": [
        {
          "output_type": "execute_result",
          "data": {
            "text/plain": [
              "0"
            ]
          },
          "metadata": {},
          "execution_count": 121
        }
      ]
    },
    {
      "cell_type": "code",
      "source": [
        "#sns.distplot(df['serviceCharge'])\n",
        "df.boxplot(column='serviceCharge')"
      ],
      "metadata": {
        "colab": {
          "base_uri": "https://localhost:8080/",
          "height": 0
        },
        "id": "T1E3ye2BkF85",
        "outputId": "3fda0855-98f8-41ff-e3b5-25b4b4ae1a49"
      },
      "execution_count": 122,
      "outputs": [
        {
          "output_type": "execute_result",
          "data": {
            "text/plain": [
              "<matplotlib.axes._subplots.AxesSubplot at 0x7efeba492f50>"
            ]
          },
          "metadata": {},
          "execution_count": 122
        },
        {
          "output_type": "display_data",
          "data": {
            "text/plain": [
              "<Figure size 432x288 with 1 Axes>"
            ],
            "image/png": "[encoded data removed]"
          },
          "metadata": {
            "needs_background": "light"
          }
        }
      ]
    },
    {
      "cell_type": "code",
      "source": [
        "upper_range=df['serviceCharge'].mean()+ 3* df['serviceCharge'].std()\n",
        "lower_range=df['serviceCharge'].mean()- 3* df['serviceCharge'].std()\n",
        "\n",
        "indexes=df[(df['serviceCharge']>upper_range)| (df['serviceCharge']<lower_range)].index\n",
        "df=df.drop(indexes)\n"
      ],
      "metadata": {
        "id": "iuG3zyHeksvj"
      },
      "execution_count": 123,
      "outputs": []
    },
    {
      "cell_type": "code",
      "source": [
        "df.boxplot(column='serviceCharge')"
      ],
      "metadata": {
        "colab": {
          "base_uri": "https://localhost:8080/",
          "height": 0
        },
        "id": "FLzL_V_emPzt",
        "outputId": "c2bba096-0187-4fc6-82af-53e451d290b8"
      },
      "execution_count": 124,
      "outputs": [
        {
          "output_type": "execute_result",
          "data": {
            "text/plain": [
              "<matplotlib.axes._subplots.AxesSubplot at 0x7efeb9dbc6d0>"
            ]
          },
          "metadata": {},
          "execution_count": 124
        },
        {
          "output_type": "display_data",
          "data": {
            "text/plain": [
              "<Figure size 432x288 with 1 Axes>"
            ],
            "image/png": "[encoded data removed]"
          },
          "metadata": {
            "needs_background": "light"
          }
        }
      ]
    },
    {
      "cell_type": "code",
      "source": [
        "for cols in df.columns:\n",
        "    if df[cols].dtype == 'int64' or df[cols].dtype == 'float64':\n",
        "        upper_range = df[cols].mean() + 3 * df[cols].std()\n",
        "        lower_range = df[cols].mean() - 3 * df[cols].std()\n",
        "        \n",
        "        indexs = df[(df[cols] > upper_range) | (df[cols] < lower_range)].index\n",
        "        df = df.drop(indexs)"
      ],
      "metadata": {
        "id": "L-iaRnnBmvkv"
      },
      "execution_count": 125,
      "outputs": []
    },
    {
      "cell_type": "code",
      "source": [
        "df.boxplot(column='serviceCharge')"
      ],
      "metadata": {
        "colab": {
          "base_uri": "https://localhost:8080/",
          "height": 0
        },
        "id": "nelMY46WJDWr",
        "outputId": "e5fa7c6b-6e70-4a9e-faae-4d8730f6984e"
      },
      "execution_count": 126,
      "outputs": [
        {
          "output_type": "execute_result",
          "data": {
            "text/plain": [
              "<matplotlib.axes._subplots.AxesSubplot at 0x7efeb5d26090>"
            ]
          },
          "metadata": {},
          "execution_count": 126
        },
        {
          "output_type": "display_data",
          "data": {
            "text/plain": [
              "<Figure size 432x288 with 1 Axes>"
            ],
            "image/png": "[encoded data removed]"
          },
          "metadata": {
            "needs_background": "light"
          }
        }
      ]
    },
    {
      "cell_type": "code",
      "source": [
        "df.boxplot(column='baseRentRange')"
      ],
      "metadata": {
        "colab": {
          "base_uri": "https://localhost:8080/",
          "height": 0
        },
        "id": "JMle6SjkG0GA",
        "outputId": "08dfbfa6-c4fd-4dae-8831-bb906a9404fb"
      },
      "execution_count": 127,
      "outputs": [
        {
          "output_type": "execute_result",
          "data": {
            "text/plain": [
              "<matplotlib.axes._subplots.AxesSubplot at 0x7efeb5d16a90>"
            ]
          },
          "metadata": {},
          "execution_count": 127
        },
        {
          "output_type": "display_data",
          "data": {
            "text/plain": [
              "<Figure size 432x288 with 1 Axes>"
            ],
            "image/png": "[encoded data removed]"
          },
          "metadata": {
            "needs_background": "light"
          }
        }
      ]
    },
    {
      "cell_type": "code",
      "source": [
        "df_g=df.copy()\n",
        "\n",
        "df_g.drop(columns=['livingSpaceRange','street','description','facilities','geo_krs','geo_plz','scoutId','telekomTvOffer','pricetrend','regio3','noRoomsRange','picturecount','geo_bln','date',\\\n",
        "    'houseNumber','streetPlain','firingTypes','yearConstructedRange'],inplace=True)"
      ],
      "metadata": {
        "id": "E3ZTUn--oFJ4"
      },
      "execution_count": 128,
      "outputs": []
    },
    {
      "cell_type": "code",
      "source": [
        "df_g.columns"
      ],
      "metadata": {
        "colab": {
          "base_uri": "https://localhost:8080/"
        },
        "id": "tbu8WvBV42Or",
        "outputId": "379f3c7b-c6a5-4189-de34-3bb057f501e9"
      },
      "execution_count": 129,
      "outputs": [
        {
          "output_type": "execute_result",
          "data": {
            "text/plain": [
              "Index(['regio1', 'serviceCharge', 'heatingType', 'newlyConst', 'balcony',\n",
              "       'telekomUploadSpeed', 'totalRent', 'yearConstructed', 'hasKitchen',\n",
              "       'cellar', 'baseRent', 'livingSpace', 'condition', 'interiorQual',\n",
              "       'petsAllowed', 'lift', 'baseRentRange', 'typeOfFlat', 'noRooms',\n",
              "       'thermalChar', 'floor', 'numberOfFloors', 'garden', 'regio2'],\n",
              "      dtype='object')"
            ]
          },
          "metadata": {},
          "execution_count": 129
        }
      ]
    },
    {
      "cell_type": "markdown",
      "source": [
        "fillna numeric data by mean"
      ],
      "metadata": {
        "id": "rzGhY_5k96YI"
      }
    },
    {
      "cell_type": "code",
      "source": [
        "df_g._get_numeric_data().mean()"
      ],
      "metadata": {
        "colab": {
          "base_uri": "https://localhost:8080/"
        },
        "id": "0AQbQsZ3-EOu",
        "outputId": "9a349549-57dd-4d78-f558-15c444e1f015"
      },
      "execution_count": 130,
      "outputs": [
        {
          "output_type": "execute_result",
          "data": {
            "text/plain": [
              "serviceCharge          145.125234\n",
              "newlyConst               0.081832\n",
              "balcony                  0.615916\n",
              "telekomUploadSpeed      28.901767\n",
              "totalRent              797.963030\n",
              "yearConstructed       1968.157098\n",
              "hasKitchen               0.331773\n",
              "cellar                   0.638315\n",
              "baseRent               615.906664\n",
              "livingSpace             71.681465\n",
              "lift                     0.233931\n",
              "baseRentRange            3.680583\n",
              "noRooms                  2.589236\n",
              "thermalChar            112.208959\n",
              "floor                    2.074324\n",
              "numberOfFloors           3.518997\n",
              "garden                   0.189411\n",
              "dtype: float64"
            ]
          },
          "metadata": {},
          "execution_count": 130
        }
      ]
    },
    {
      "cell_type": "code",
      "source": [
        "df_g.fillna(df._get_numeric_data().mean(),inplace = True)\n",
        "df_g.isna().sum()"
      ],
      "metadata": {
        "colab": {
          "base_uri": "https://localhost:8080/"
        },
        "id": "5F5fBUOS-PPs",
        "outputId": "21ee23db-9490-423f-85b7-5e349a7b5cf9"
      },
      "execution_count": 131,
      "outputs": [
        {
          "output_type": "execute_result",
          "data": {
            "text/plain": [
              "regio1                     0\n",
              "serviceCharge              0\n",
              "heatingType            41602\n",
              "newlyConst                 0\n",
              "balcony                    0\n",
              "telekomUploadSpeed         0\n",
              "totalRent                  0\n",
              "yearConstructed            0\n",
              "hasKitchen                 0\n",
              "cellar                     0\n",
              "baseRent                   0\n",
              "livingSpace                0\n",
              "condition              62792\n",
              "interiorQual          103324\n",
              "petsAllowed           104217\n",
              "lift                       0\n",
              "baseRentRange              0\n",
              "typeOfFlat             33021\n",
              "noRooms                    0\n",
              "thermalChar                0\n",
              "floor                      0\n",
              "numberOfFloors             0\n",
              "garden                     0\n",
              "regio2                     0\n",
              "dtype: int64"
            ]
          },
          "metadata": {},
          "execution_count": 131
        }
      ]
    },
    {
      "cell_type": "markdown",
      "source": [
        "fillna categorical data"
      ],
      "metadata": {
        "id": "ZJSI4y2Z-puW"
      }
    },
    {
      "cell_type": "code",
      "source": [
        "for cols in df_g.columns:\n",
        "    if df_g[cols].dtype == 'object' or df_g[cols].dtype == 'bool':\n",
        "        print('column : ',cols)\n",
        "        print(df_g[cols].value_counts().head(1))"
      ],
      "metadata": {
        "colab": {
          "base_uri": "https://localhost:8080/"
        },
        "id": "BRO35hVH-sYK",
        "outputId": "88b4c415-100b-444d-e433-f9782a48daec"
      },
      "execution_count": 132,
      "outputs": [
        {
          "output_type": "stream",
          "name": "stdout",
          "text": [
            "column :  regio1\n",
            "Nordrhein_Westfalen    55838\n",
            "Name: regio1, dtype: int64\n",
            "column :  heatingType\n",
            "central_heating    113673\n",
            "Name: heatingType, dtype: int64\n",
            "column :  newlyConst\n",
            "False    220857\n",
            "Name: newlyConst, dtype: int64\n",
            "column :  balcony\n",
            "True    148153\n",
            "Name: balcony, dtype: int64\n",
            "column :  hasKitchen\n",
            "False    160736\n",
            "Name: hasKitchen, dtype: int64\n",
            "column :  cellar\n",
            "True    153541\n",
            "Name: cellar, dtype: int64\n",
            "column :  condition\n",
            "well_kept    59390\n",
            "Name: condition, dtype: int64\n",
            "column :  interiorQual\n",
            "normal    73084\n",
            "Name: interiorQual, dtype: int64\n",
            "column :  petsAllowed\n",
            "negotiable    81331\n",
            "Name: petsAllowed, dtype: int64\n",
            "column :  lift\n",
            "False    184271\n",
            "Name: lift, dtype: int64\n",
            "column :  typeOfFlat\n",
            "apartment    118459\n",
            "Name: typeOfFlat, dtype: int64\n",
            "column :  garden\n",
            "False    194980\n",
            "Name: garden, dtype: int64\n",
            "column :  regio2\n",
            "Leipzig    12773\n",
            "Name: regio2, dtype: int64\n"
          ]
        }
      ]
    },
    {
      "cell_type": "code",
      "source": [
        "for cols in df_g.columns:\n",
        "    if df_g[cols].dtype == 'object' or df_g[cols].dtype == 'bool':\n",
        "        print('cols : {} , value : {}'.format(cols , df_g[cols].value_counts().head(1).index[0]))\n",
        "        df_g[cols].fillna(df_g[cols].value_counts().head(1).index[0],inplace = True)"
      ],
      "metadata": {
        "colab": {
          "base_uri": "https://localhost:8080/"
        },
        "id": "T8fK0zKc_Uwq",
        "outputId": "720e76e3-e1a0-4b55-8787-20b37f8aceb2"
      },
      "execution_count": 133,
      "outputs": [
        {
          "output_type": "stream",
          "name": "stdout",
          "text": [
            "cols : regio1 , value : Nordrhein_Westfalen\n",
            "cols : heatingType , value : central_heating\n",
            "cols : newlyConst , value : False\n",
            "cols : balcony , value : True\n",
            "cols : hasKitchen , value : False\n",
            "cols : cellar , value : True\n",
            "cols : condition , value : well_kept\n",
            "cols : interiorQual , value : normal\n",
            "cols : petsAllowed , value : negotiable\n",
            "cols : lift , value : False\n",
            "cols : typeOfFlat , value : apartment\n",
            "cols : garden , value : False\n",
            "cols : regio2 , value : Leipzig\n"
          ]
        }
      ]
    },
    {
      "cell_type": "code",
      "source": [
        "df_g.isna().sum()"
      ],
      "metadata": {
        "colab": {
          "base_uri": "https://localhost:8080/"
        },
        "id": "XBFYOzwQ_h1J",
        "outputId": "c5bc254e-f4db-4546-895a-f543f3f8dd9b"
      },
      "execution_count": 134,
      "outputs": [
        {
          "output_type": "execute_result",
          "data": {
            "text/plain": [
              "regio1                0\n",
              "serviceCharge         0\n",
              "heatingType           0\n",
              "newlyConst            0\n",
              "balcony               0\n",
              "telekomUploadSpeed    0\n",
              "totalRent             0\n",
              "yearConstructed       0\n",
              "hasKitchen            0\n",
              "cellar                0\n",
              "baseRent              0\n",
              "livingSpace           0\n",
              "condition             0\n",
              "interiorQual          0\n",
              "petsAllowed           0\n",
              "lift                  0\n",
              "baseRentRange         0\n",
              "typeOfFlat            0\n",
              "noRooms               0\n",
              "thermalChar           0\n",
              "floor                 0\n",
              "numberOfFloors        0\n",
              "garden                0\n",
              "regio2                0\n",
              "dtype: int64"
            ]
          },
          "metadata": {},
          "execution_count": 134
        }
      ]
    },
    {
      "cell_type": "code",
      "source": [
        "df_g.shape"
      ],
      "metadata": {
        "colab": {
          "base_uri": "https://localhost:8080/"
        },
        "id": "Kc-mKvQu_sx2",
        "outputId": "b40beae5-8f92-42fe-8130-895031832bee"
      },
      "execution_count": 135,
      "outputs": [
        {
          "output_type": "execute_result",
          "data": {
            "text/plain": [
              "(240541, 24)"
            ]
          },
          "metadata": {},
          "execution_count": 135
        }
      ]
    },
    {
      "cell_type": "code",
      "source": [
        "df_g.columns"
      ],
      "metadata": {
        "colab": {
          "base_uri": "https://localhost:8080/"
        },
        "id": "h50gO5OQACNq",
        "outputId": "a823e9bc-e8e1-4935-82a8-03a6c401112c"
      },
      "execution_count": 136,
      "outputs": [
        {
          "output_type": "execute_result",
          "data": {
            "text/plain": [
              "Index(['regio1', 'serviceCharge', 'heatingType', 'newlyConst', 'balcony',\n",
              "       'telekomUploadSpeed', 'totalRent', 'yearConstructed', 'hasKitchen',\n",
              "       'cellar', 'baseRent', 'livingSpace', 'condition', 'interiorQual',\n",
              "       'petsAllowed', 'lift', 'baseRentRange', 'typeOfFlat', 'noRooms',\n",
              "       'thermalChar', 'floor', 'numberOfFloors', 'garden', 'regio2'],\n",
              "      dtype='object')"
            ]
          },
          "metadata": {},
          "execution_count": 136
        }
      ]
    },
    {
      "cell_type": "code",
      "source": [
        "df_g.head()"
      ],
      "metadata": {
        "colab": {
          "base_uri": "https://localhost:8080/",
          "height": 0
        },
        "id": "emrp0LXXF0-x",
        "outputId": "bafff36b-6781-4fea-de5e-906082cc14e6"
      },
      "execution_count": 137,
      "outputs": [
        {
          "output_type": "execute_result",
          "data": {
            "text/plain": [
              "                regio1  serviceCharge                     heatingType  \\\n",
              "0  Nordrhein_Westfalen         245.00                 central_heating   \n",
              "1      Rheinland_Pfalz         134.00  self_contained_central_heating   \n",
              "2              Sachsen         255.00                   floor_heating   \n",
              "3              Sachsen          58.15                district_heating   \n",
              "4               Bremen         138.00  self_contained_central_heating   \n",
              "\n",
              "   newlyConst  balcony  telekomUploadSpeed    totalRent  yearConstructed  \\\n",
              "0       False    False           10.000000   840.000000           1965.0   \n",
              "1       False     True           10.000000   907.413955           1871.0   \n",
              "2        True     True            2.400000  1300.000000           2019.0   \n",
              "3       False     True           40.000000   907.413955           1964.0   \n",
              "4       False     True           28.812074   903.000000           1950.0   \n",
              "\n",
              "   hasKitchen  cellar  ...  petsAllowed   lift baseRentRange    typeOfFlat  \\\n",
              "0       False    True  ...   negotiable  False             4  ground_floor   \n",
              "1       False   False  ...           no  False             5  ground_floor   \n",
              "2       False    True  ...   negotiable   True             6     apartment   \n",
              "3       False   False  ...   negotiable  False             2         other   \n",
              "4       False   False  ...   negotiable  False             5     apartment   \n",
              "\n",
              "  noRooms  thermalChar     floor numberOfFloors  garden               regio2  \n",
              "0     4.0   181.400000  1.000000       3.000000    True             Dortmund  \n",
              "1     3.0   114.535827  2.124959       3.581273   False    Rhein_Pfalz_Kreis  \n",
              "2     3.0   114.535827  3.000000       4.000000   False              Dresden  \n",
              "3     3.0    86.000000  3.000000       3.581273   False  Mittelsachsen_Kreis  \n",
              "4     3.0   188.900000  1.000000       3.581273   False               Bremen  \n",
              "\n",
              "[5 rows x 24 columns]"
            ],
            "text/html": [
              "\n",
              "  <div id=\"df-7a3c056d-184c-4e4c-83a2-fc5a1003e1e8\">\n",
              "    <div class=\"colab-df-container\">\n",
              "      <div>\n",
              "<style scoped>\n",
              "    .dataframe tbody tr th:only-of-type {\n",
              "        vertical-align: middle;\n",
              "    }\n",
              "\n",
              "    .dataframe tbody tr th {\n",
              "        vertical-align: top;\n",
              "    }\n",
              "\n",
              "    .dataframe thead th {\n",
              "        text-align: right;\n",
              "    }\n",
              "</style>\n",
              "<table border=\"1\" class=\"dataframe\">\n",
              "  <thead>\n",
              "    <tr style=\"text-align: right;\">\n",
              "      <th></th>\n",
              "      <th>regio1</th>\n",
              "      <th>serviceCharge</th>\n",
              "      <th>heatingType</th>\n",
              "      <th>newlyConst</th>\n",
              "      <th>balcony</th>\n",
              "      <th>telekomUploadSpeed</th>\n",
              "      <th>totalRent</th>\n",
              "      <th>yearConstructed</th>\n",
              "      <th>hasKitchen</th>\n",
              "      <th>cellar</th>\n",
              "      <th>...</th>\n",
              "      <th>petsAllowed</th>\n",
              "      <th>lift</th>\n",
              "      <th>baseRentRange</th>\n",
              "      <th>typeOfFlat</th>\n",
              "      <th>noRooms</th>\n",
              "      <th>thermalChar</th>\n",
              "      <th>floor</th>\n",
              "      <th>numberOfFloors</th>\n",
              "      <th>garden</th>\n",
              "      <th>regio2</th>\n",
              "    </tr>\n",
              "  </thead>\n",
              "  <tbody>\n",
              "    <tr>\n",
              "      <th>0</th>\n",
              "      <td>Nordrhein_Westfalen</td>\n",
              "      <td>245.00</td>\n",
              "      <td>central_heating</td>\n",
              "      <td>False</td>\n",
              "      <td>False</td>\n",
              "      <td>10.000000</td>\n",
              "      <td>840.000000</td>\n",
              "      <td>1965.0</td>\n",
              "      <td>False</td>\n",
              "      <td>True</td>\n",
              "      <td>...</td>\n",
              "      <td>negotiable</td>\n",
              "      <td>False</td>\n",
              "      <td>4</td>\n",
              "      <td>ground_floor</td>\n",
              "      <td>4.0</td>\n",
              "      <td>181.400000</td>\n",
              "      <td>1.000000</td>\n",
              "      <td>3.000000</td>\n",
              "      <td>True</td>\n",
              "      <td>Dortmund</td>\n",
              "    </tr>\n",
              "    <tr>\n",
              "      <th>1</th>\n",
              "      <td>Rheinland_Pfalz</td>\n",
              "      <td>134.00</td>\n",
              "      <td>self_contained_central_heating</td>\n",
              "      <td>False</td>\n",
              "      <td>True</td>\n",
              "      <td>10.000000</td>\n",
              "      <td>907.413955</td>\n",
              "      <td>1871.0</td>\n",
              "      <td>False</td>\n",
              "      <td>False</td>\n",
              "      <td>...</td>\n",
              "      <td>no</td>\n",
              "      <td>False</td>\n",
              "      <td>5</td>\n",
              "      <td>ground_floor</td>\n",
              "      <td>3.0</td>\n",
              "      <td>114.535827</td>\n",
              "      <td>2.124959</td>\n",
              "      <td>3.581273</td>\n",
              "      <td>False</td>\n",
              "      <td>Rhein_Pfalz_Kreis</td>\n",
              "    </tr>\n",
              "    <tr>\n",
              "      <th>2</th>\n",
              "      <td>Sachsen</td>\n",
              "      <td>255.00</td>\n",
              "      <td>floor_heating</td>\n",
              "      <td>True</td>\n",
              "      <td>True</td>\n",
              "      <td>2.400000</td>\n",
              "      <td>1300.000000</td>\n",
              "      <td>2019.0</td>\n",
              "      <td>False</td>\n",
              "      <td>True</td>\n",
              "      <td>...</td>\n",
              "      <td>negotiable</td>\n",
              "      <td>True</td>\n",
              "      <td>6</td>\n",
              "      <td>apartment</td>\n",
              "      <td>3.0</td>\n",
              "      <td>114.535827</td>\n",
              "      <td>3.000000</td>\n",
              "      <td>4.000000</td>\n",
              "      <td>False</td>\n",
              "      <td>Dresden</td>\n",
              "    </tr>\n",
              "    <tr>\n",
              "      <th>3</th>\n",
              "      <td>Sachsen</td>\n",
              "      <td>58.15</td>\n",
              "      <td>district_heating</td>\n",
              "      <td>False</td>\n",
              "      <td>True</td>\n",
              "      <td>40.000000</td>\n",
              "      <td>907.413955</td>\n",
              "      <td>1964.0</td>\n",
              "      <td>False</td>\n",
              "      <td>False</td>\n",
              "      <td>...</td>\n",
              "      <td>negotiable</td>\n",
              "      <td>False</td>\n",
              "      <td>2</td>\n",
              "      <td>other</td>\n",
              "      <td>3.0</td>\n",
              "      <td>86.000000</td>\n",
              "      <td>3.000000</td>\n",
              "      <td>3.581273</td>\n",
              "      <td>False</td>\n",
              "      <td>Mittelsachsen_Kreis</td>\n",
              "    </tr>\n",
              "    <tr>\n",
              "      <th>4</th>\n",
              "      <td>Bremen</td>\n",
              "      <td>138.00</td>\n",
              "      <td>self_contained_central_heating</td>\n",
              "      <td>False</td>\n",
              "      <td>True</td>\n",
              "      <td>28.812074</td>\n",
              "      <td>903.000000</td>\n",
              "      <td>1950.0</td>\n",
              "      <td>False</td>\n",
              "      <td>False</td>\n",
              "      <td>...</td>\n",
              "      <td>negotiable</td>\n",
              "      <td>False</td>\n",
              "      <td>5</td>\n",
              "      <td>apartment</td>\n",
              "      <td>3.0</td>\n",
              "      <td>188.900000</td>\n",
              "      <td>1.000000</td>\n",
              "      <td>3.581273</td>\n",
              "      <td>False</td>\n",
              "      <td>Bremen</td>\n",
              "    </tr>\n",
              "  </tbody>\n",
              "</table>\n",
              "<p>5 rows × 24 columns</p>\n",
              "</div>\n",
              "      <button class=\"colab-df-convert\" onclick=\"convertToInteractive('df-7a3c056d-184c-4e4c-83a2-fc5a1003e1e8')\"\n",
              "              title=\"Convert this dataframe to an interactive table.\"\n",
              "              style=\"display:none;\">\n",
              "        \n",
              "  <svg xmlns=\"http://www.w3.org/2000/svg\" height=\"24px\"viewBox=\"0 0 24 24\"\n",
              "       width=\"24px\">\n",
              "    <path d=\"M0 0h24v24H0V0z\" fill=\"none\"/>\n",
              "    <path d=\"M18.56 5.44l.94 2.06.94-2.06 2.06-.94-2.06-.94-.94-2.06-.94 2.06-2.06.94zm-11 1L8.5 8.5l.94-2.06 2.06-.94-2.06-.94L8.5 2.5l-.94 2.06-2.06.94zm10 10l.94 2.06.94-2.06 2.06-.94-2.06-.94-.94-2.06-.94 2.06-2.06.94z\"/><path d=\"M17.41 7.96l-1.37-1.37c-.4-.4-.92-.59-1.43-.59-.52 0-1.04.2-1.43.59L10.3 9.45l-7.72 7.72c-.78.78-.78 2.05 0 2.83L4 21.41c.39.39.9.59 1.41.59.51 0 1.02-.2 1.41-.59l7.78-7.78 2.81-2.81c.8-.78.8-2.07 0-2.86zM5.41 20L4 18.59l7.72-7.72 1.47 1.35L5.41 20z\"/>\n",
              "  </svg>\n",
              "      </button>\n",
              "      \n",
              "  <style>\n",
              "    .colab-df-container {\n",
              "      display:flex;\n",
              "      flex-wrap:wrap;\n",
              "      gap: 12px;\n",
              "    }\n",
              "\n",
              "    .colab-df-convert {\n",
              "      background-color: #E8F0FE;\n",
              "      border: none;\n",
              "      border-radius: 50%;\n",
              "      cursor: pointer;\n",
              "      display: none;\n",
              "      fill: #1967D2;\n",
              "      height: 32px;\n",
              "      padding: 0 0 0 0;\n",
              "      width: 32px;\n",
              "    }\n",
              "\n",
              "    .colab-df-convert:hover {\n",
              "      background-color: #E2EBFA;\n",
              "      box-shadow: 0px 1px 2px rgba(60, 64, 67, 0.3), 0px 1px 3px 1px rgba(60, 64, 67, 0.15);\n",
              "      fill: #174EA6;\n",
              "    }\n",
              "\n",
              "    [theme=dark] .colab-df-convert {\n",
              "      background-color: #3B4455;\n",
              "      fill: #D2E3FC;\n",
              "    }\n",
              "\n",
              "    [theme=dark] .colab-df-convert:hover {\n",
              "      background-color: #434B5C;\n",
              "      box-shadow: 0px 1px 3px 1px rgba(0, 0, 0, 0.15);\n",
              "      filter: drop-shadow(0px 1px 2px rgba(0, 0, 0, 0.3));\n",
              "      fill: #FFFFFF;\n",
              "    }\n",
              "  </style>\n",
              "\n",
              "      <script>\n",
              "        const buttonEl =\n",
              "          document.querySelector('#df-7a3c056d-184c-4e4c-83a2-fc5a1003e1e8 button.colab-df-convert');\n",
              "        buttonEl.style.display =\n",
              "          google.colab.kernel.accessAllowed ? 'block' : 'none';\n",
              "\n",
              "        async function convertToInteractive(key) {\n",
              "          const element = document.querySelector('#df-7a3c056d-184c-4e4c-83a2-fc5a1003e1e8');\n",
              "          const dataTable =\n",
              "            await google.colab.kernel.invokeFunction('convertToInteractive',\n",
              "                                                     [key], {});\n",
              "          if (!dataTable) return;\n",
              "\n",
              "          const docLinkHtml = 'Like what you see? Visit the ' +\n",
              "            '<a target=\"_blank\" href=https://colab.research.google.com/notebooks/data_table.ipynb>data table notebook</a>'\n",
              "            + ' to learn more about interactive tables.';\n",
              "          element.innerHTML = '';\n",
              "          dataTable['output_type'] = 'display_data';\n",
              "          await google.colab.output.renderOutput(dataTable, element);\n",
              "          const docLink = document.createElement('div');\n",
              "          docLink.innerHTML = docLinkHtml;\n",
              "          element.appendChild(docLink);\n",
              "        }\n",
              "      </script>\n",
              "    </div>\n",
              "  </div>\n",
              "  "
            ]
          },
          "metadata": {},
          "execution_count": 137
        }
      ]
    },
    {
      "cell_type": "markdown",
      "source": [
        "categorical data"
      ],
      "metadata": {
        "id": "e5JXJZGrJ-sX"
      }
    },
    {
      "cell_type": "code",
      "source": [
        "df_g.petsAllowed.unique()"
      ],
      "metadata": {
        "colab": {
          "base_uri": "https://localhost:8080/"
        },
        "id": "o3tdgoDHJ3et",
        "outputId": "0794f122-d59f-4e1a-f141-154599f164bf"
      },
      "execution_count": 138,
      "outputs": [
        {
          "output_type": "execute_result",
          "data": {
            "text/plain": [
              "array(['negotiable', 'no', 'yes'], dtype=object)"
            ]
          },
          "metadata": {},
          "execution_count": 138
        }
      ]
    },
    {
      "cell_type": "code",
      "source": [
        "df_g['regio1'].value_counts()*100/len(df_g)"
      ],
      "metadata": {
        "colab": {
          "base_uri": "https://localhost:8080/"
        },
        "id": "2F1gC0mYKX8O",
        "outputId": "41ed7eb5-3375-42f9-e107-6a2a06221427"
      },
      "execution_count": 139,
      "outputs": [
        {
          "output_type": "execute_result",
          "data": {
            "text/plain": [
              "Nordrhein_Westfalen       23.213506\n",
              "Sachsen                   22.305137\n",
              "Bayern                     7.980344\n",
              "Sachsen_Anhalt             7.737558\n",
              "Hessen                     6.498268\n",
              "Niedersachsen              6.241348\n",
              "Baden_Württemberg          5.956989\n",
              "Thüringen                  3.227724\n",
              "Rheinland_Pfalz            3.143331\n",
              "Berlin                     2.982028\n",
              "Brandenburg                2.619928\n",
              "Mecklenburg_Vorpommern     2.566298\n",
              "Schleswig_Holstein         2.504355\n",
              "Hamburg                    1.346548\n",
              "Bremen                     1.146998\n",
              "Saarland                   0.529639\n",
              "Name: regio1, dtype: float64"
            ]
          },
          "metadata": {},
          "execution_count": 139
        }
      ]
    },
    {
      "cell_type": "code",
      "source": [
        "def edit_regio1(x):\n",
        "    if x in ['Hamburg','Bremen','Saarland']:\n",
        "        return 'other'\n",
        "    else:\n",
        "        return x\n",
        "    \n",
        "df_g['regio1_edit'] = df_g['regio1'].apply(edit_regio1)\n",
        "df_g = df_g.drop(columns = ['regio1'])"
      ],
      "metadata": {
        "id": "gUpz2MriL7id"
      },
      "execution_count": 140,
      "outputs": []
    },
    {
      "cell_type": "code",
      "source": [
        "df_g['regio1_edit'].value_counts()*100/len(df_g)"
      ],
      "metadata": {
        "colab": {
          "base_uri": "https://localhost:8080/"
        },
        "id": "27pqr0jNNlGu",
        "outputId": "cccbe803-7bc3-4964-f0fe-f0f98a2ec57f"
      },
      "execution_count": 141,
      "outputs": [
        {
          "output_type": "execute_result",
          "data": {
            "text/plain": [
              "Nordrhein_Westfalen       23.213506\n",
              "Sachsen                   22.305137\n",
              "Bayern                     7.980344\n",
              "Sachsen_Anhalt             7.737558\n",
              "Hessen                     6.498268\n",
              "Niedersachsen              6.241348\n",
              "Baden_Württemberg          5.956989\n",
              "Thüringen                  3.227724\n",
              "Rheinland_Pfalz            3.143331\n",
              "other                      3.023185\n",
              "Berlin                     2.982028\n",
              "Brandenburg                2.619928\n",
              "Mecklenburg_Vorpommern     2.566298\n",
              "Schleswig_Holstein         2.504355\n",
              "Name: regio1_edit, dtype: float64"
            ]
          },
          "metadata": {},
          "execution_count": 141
        }
      ]
    },
    {
      "cell_type": "code",
      "source": [
        "df_g.columns"
      ],
      "metadata": {
        "colab": {
          "base_uri": "https://localhost:8080/"
        },
        "id": "3O5LHttLnYVt",
        "outputId": "2771063c-bbb4-439b-800d-a70be37f790b"
      },
      "execution_count": 142,
      "outputs": [
        {
          "output_type": "execute_result",
          "data": {
            "text/plain": [
              "Index(['serviceCharge', 'heatingType', 'newlyConst', 'balcony',\n",
              "       'telekomUploadSpeed', 'totalRent', 'yearConstructed', 'hasKitchen',\n",
              "       'cellar', 'baseRent', 'livingSpace', 'condition', 'interiorQual',\n",
              "       'petsAllowed', 'lift', 'baseRentRange', 'typeOfFlat', 'noRooms',\n",
              "       'thermalChar', 'floor', 'numberOfFloors', 'garden', 'regio2',\n",
              "       'regio1_edit'],\n",
              "      dtype='object')"
            ]
          },
          "metadata": {},
          "execution_count": 142
        }
      ]
    },
    {
      "cell_type": "code",
      "source": [
        "df_g.shape"
      ],
      "metadata": {
        "colab": {
          "base_uri": "https://localhost:8080/"
        },
        "id": "wpxOKN-NnbBD",
        "outputId": "14c37be4-0c8a-4150-b30f-69f08b8a4f75"
      },
      "execution_count": 143,
      "outputs": [
        {
          "output_type": "execute_result",
          "data": {
            "text/plain": [
              "(240541, 24)"
            ]
          },
          "metadata": {},
          "execution_count": 143
        }
      ]
    },
    {
      "cell_type": "markdown",
      "source": [
        "# Data Visualization"
      ],
      "metadata": {
        "id": "h3gXwALYHZvk"
      }
    },
    {
      "cell_type": "code",
      "source": [
        "corr = df_g.corr()\n",
        "plt.figure(figsize=(15,8))\n",
        "sns.heatmap(corr, annot=True)"
      ],
      "metadata": {
        "colab": {
          "base_uri": "https://localhost:8080/",
          "height": 0
        },
        "id": "4X4lbeKLdAQ_",
        "outputId": "35689f58-5c10-48b0-bcf2-dfb87fdad704"
      },
      "execution_count": 144,
      "outputs": [
        {
          "output_type": "execute_result",
          "data": {
            "text/plain": [
              "<matplotlib.axes._subplots.AxesSubplot at 0x7efeba6e7090>"
            ]
          },
          "metadata": {},
          "execution_count": 144
        },
        {
          "output_type": "display_data",
          "data": {
            "text/plain": [
              "<Figure size 1080x576 with 2 Axes>"
            ],
            "image/png": "[encoded data removed]"
          },
          "metadata": {
            "needs_background": "light"
          }
        }
      ]
    },
    {
      "cell_type": "code",
      "source": [
        "df_g.regio1_edit.value_counts().iloc[:10]"
      ],
      "metadata": {
        "colab": {
          "base_uri": "https://localhost:8080/"
        },
        "id": "QnDSWNgbeV-7",
        "outputId": "38d1a5bf-267b-48ec-ca83-d753231d26a9"
      },
      "execution_count": 145,
      "outputs": [
        {
          "output_type": "execute_result",
          "data": {
            "text/plain": [
              "Nordrhein_Westfalen    55838\n",
              "Sachsen                53653\n",
              "Bayern                 19196\n",
              "Sachsen_Anhalt         18612\n",
              "Hessen                 15631\n",
              "Niedersachsen          15013\n",
              "Baden_Württemberg      14329\n",
              "Thüringen               7764\n",
              "Rheinland_Pfalz         7561\n",
              "other                   7272\n",
              "Name: regio1_edit, dtype: int64"
            ]
          },
          "metadata": {},
          "execution_count": 145
        }
      ]
    },
    {
      "cell_type": "code",
      "source": [
        "#df_g.regio2.value_counts().iloc[:10]"
      ],
      "metadata": {
        "id": "PjqBqH7HewG5"
      },
      "execution_count": 146,
      "outputs": []
    },
    {
      "cell_type": "code",
      "source": [
        "plt.figure(figsize=(10,4))\n",
        "df_g.regio2.value_counts().iloc[:5].plot(kind = 'barh')"
      ],
      "metadata": {
        "colab": {
          "base_uri": "https://localhost:8080/",
          "height": 0
        },
        "id": "g7O5f8iHelLp",
        "outputId": "fa82e929-e67d-478b-add5-9a506f401876"
      },
      "execution_count": 147,
      "outputs": [
        {
          "output_type": "execute_result",
          "data": {
            "text/plain": [
              "<matplotlib.axes._subplots.AxesSubplot at 0x7efeb5937750>"
            ]
          },
          "metadata": {},
          "execution_count": 147
        },
        {
          "output_type": "display_data",
          "data": {
            "text/plain": [
              "<Figure size 720x288 with 1 Axes>"
            ],
            "image/png": "[encoded data removed]"
          },
          "metadata": {
            "needs_background": "light"
          }
        }
      ]
    },
    {
      "cell_type": "code",
      "source": [
        "df_g.columns"
      ],
      "metadata": {
        "colab": {
          "base_uri": "https://localhost:8080/"
        },
        "id": "VvygSJXsOk5r",
        "outputId": "d4efb018-759b-41c8-fcef-50eca015ba1d"
      },
      "execution_count": 148,
      "outputs": [
        {
          "output_type": "execute_result",
          "data": {
            "text/plain": [
              "Index(['serviceCharge', 'heatingType', 'newlyConst', 'balcony',\n",
              "       'telekomUploadSpeed', 'totalRent', 'yearConstructed', 'hasKitchen',\n",
              "       'cellar', 'baseRent', 'livingSpace', 'condition', 'interiorQual',\n",
              "       'petsAllowed', 'lift', 'baseRentRange', 'typeOfFlat', 'noRooms',\n",
              "       'thermalChar', 'floor', 'numberOfFloors', 'garden', 'regio2',\n",
              "       'regio1_edit'],\n",
              "      dtype='object')"
            ]
          },
          "metadata": {},
          "execution_count": 148
        }
      ]
    },
    {
      "cell_type": "code",
      "source": [
        "df_city= df_g.groupby(['regio1_edit','regio2'])['baseRent'].mean().reset_index()"
      ],
      "metadata": {
        "id": "8yu-2APhOUnX"
      },
      "execution_count": 149,
      "outputs": []
    },
    {
      "cell_type": "code",
      "source": [
        "top_city_each= df_city.loc[df_city.groupby('regio1_edit')['baseRent'].idxmax()].sort_values(by='baseRent',ascending=False)\n",
        "top_city_each"
      ],
      "metadata": {
        "colab": {
          "base_uri": "https://localhost:8080/",
          "height": 0
        },
        "id": "PKDrjD8lOu4M",
        "outputId": "22d4b418-7296-4aa0-e1e8-3240fb21c744"
      },
      "execution_count": 150,
      "outputs": [
        {
          "output_type": "execute_result",
          "data": {
            "text/plain": [
              "                regio1_edit             regio2     baseRent\n",
              "102                  Bayern            München  1575.775569\n",
              "38        Baden_Württemberg          Stuttgart  1296.229845\n",
              "162                  Hessen  Frankfurt_am_Main  1272.569747\n",
              "412                   other            Hamburg  1083.463927\n",
              "140                  Berlin             Berlin  1018.668882\n",
              "332         Rheinland_Pfalz             Speyer   996.754028\n",
              "262     Nordrhein_Westfalen         Düsseldorf   966.343633\n",
              "153             Brandenburg            Potsdam   861.885913\n",
              "221           Niedersachsen      Harburg_Kreis   808.518074\n",
              "386      Schleswig_Holstein     Stormarn_Kreis   805.631480\n",
              "408               Thüringen             Weimar   648.121491\n",
              "343                 Sachsen            Dresden   619.243121\n",
              "197  Mecklenburg_Vorpommern            Rostock   552.280821\n",
              "366          Sachsen_Anhalt          Magdeburg   414.624981"
            ],
            "text/html": [
              "\n",
              "  <div id=\"df-c34594b2-e598-4059-ab43-3a7b486fce94\">\n",
              "    <div class=\"colab-df-container\">\n",
              "      <div>\n",
              "<style scoped>\n",
              "    .dataframe tbody tr th:only-of-type {\n",
              "        vertical-align: middle;\n",
              "    }\n",
              "\n",
              "    .dataframe tbody tr th {\n",
              "        vertical-align: top;\n",
              "    }\n",
              "\n",
              "    .dataframe thead th {\n",
              "        text-align: right;\n",
              "    }\n",
              "</style>\n",
              "<table border=\"1\" class=\"dataframe\">\n",
              "  <thead>\n",
              "    <tr style=\"text-align: right;\">\n",
              "      <th></th>\n",
              "      <th>regio1_edit</th>\n",
              "      <th>regio2</th>\n",
              "      <th>baseRent</th>\n",
              "    </tr>\n",
              "  </thead>\n",
              "  <tbody>\n",
              "    <tr>\n",
              "      <th>102</th>\n",
              "      <td>Bayern</td>\n",
              "      <td>München</td>\n",
              "      <td>1575.775569</td>\n",
              "    </tr>\n",
              "    <tr>\n",
              "      <th>38</th>\n",
              "      <td>Baden_Württemberg</td>\n",
              "      <td>Stuttgart</td>\n",
              "      <td>1296.229845</td>\n",
              "    </tr>\n",
              "    <tr>\n",
              "      <th>162</th>\n",
              "      <td>Hessen</td>\n",
              "      <td>Frankfurt_am_Main</td>\n",
              "      <td>1272.569747</td>\n",
              "    </tr>\n",
              "    <tr>\n",
              "      <th>412</th>\n",
              "      <td>other</td>\n",
              "      <td>Hamburg</td>\n",
              "      <td>1083.463927</td>\n",
              "    </tr>\n",
              "    <tr>\n",
              "      <th>140</th>\n",
              "      <td>Berlin</td>\n",
              "      <td>Berlin</td>\n",
              "      <td>1018.668882</td>\n",
              "    </tr>\n",
              "    <tr>\n",
              "      <th>332</th>\n",
              "      <td>Rheinland_Pfalz</td>\n",
              "      <td>Speyer</td>\n",
              "      <td>996.754028</td>\n",
              "    </tr>\n",
              "    <tr>\n",
              "      <th>262</th>\n",
              "      <td>Nordrhein_Westfalen</td>\n",
              "      <td>Düsseldorf</td>\n",
              "      <td>966.343633</td>\n",
              "    </tr>\n",
              "    <tr>\n",
              "      <th>153</th>\n",
              "      <td>Brandenburg</td>\n",
              "      <td>Potsdam</td>\n",
              "      <td>861.885913</td>\n",
              "    </tr>\n",
              "    <tr>\n",
              "      <th>221</th>\n",
              "      <td>Niedersachsen</td>\n",
              "      <td>Harburg_Kreis</td>\n",
              "      <td>808.518074</td>\n",
              "    </tr>\n",
              "    <tr>\n",
              "      <th>386</th>\n",
              "      <td>Schleswig_Holstein</td>\n",
              "      <td>Stormarn_Kreis</td>\n",
              "      <td>805.631480</td>\n",
              "    </tr>\n",
              "    <tr>\n",
              "      <th>408</th>\n",
              "      <td>Thüringen</td>\n",
              "      <td>Weimar</td>\n",
              "      <td>648.121491</td>\n",
              "    </tr>\n",
              "    <tr>\n",
              "      <th>343</th>\n",
              "      <td>Sachsen</td>\n",
              "      <td>Dresden</td>\n",
              "      <td>619.243121</td>\n",
              "    </tr>\n",
              "    <tr>\n",
              "      <th>197</th>\n",
              "      <td>Mecklenburg_Vorpommern</td>\n",
              "      <td>Rostock</td>\n",
              "      <td>552.280821</td>\n",
              "    </tr>\n",
              "    <tr>\n",
              "      <th>366</th>\n",
              "      <td>Sachsen_Anhalt</td>\n",
              "      <td>Magdeburg</td>\n",
              "      <td>414.624981</td>\n",
              "    </tr>\n",
              "  </tbody>\n",
              "</table>\n",
              "</div>\n",
              "      <button class=\"colab-df-convert\" onclick=\"convertToInteractive('df-c34594b2-e598-4059-ab43-3a7b486fce94')\"\n",
              "              title=\"Convert this dataframe to an interactive table.\"\n",
              "              style=\"display:none;\">\n",
              "        \n",
              "  <svg xmlns=\"http://www.w3.org/2000/svg\" height=\"24px\"viewBox=\"0 0 24 24\"\n",
              "       width=\"24px\">\n",
              "    <path d=\"M0 0h24v24H0V0z\" fill=\"none\"/>\n",
              "    <path d=\"M18.56 5.44l.94 2.06.94-2.06 2.06-.94-2.06-.94-.94-2.06-.94 2.06-2.06.94zm-11 1L8.5 8.5l.94-2.06 2.06-.94-2.06-.94L8.5 2.5l-.94 2.06-2.06.94zm10 10l.94 2.06.94-2.06 2.06-.94-2.06-.94-.94-2.06-.94 2.06-2.06.94z\"/><path d=\"M17.41 7.96l-1.37-1.37c-.4-.4-.92-.59-1.43-.59-.52 0-1.04.2-1.43.59L10.3 9.45l-7.72 7.72c-.78.78-.78 2.05 0 2.83L4 21.41c.39.39.9.59 1.41.59.51 0 1.02-.2 1.41-.59l7.78-7.78 2.81-2.81c.8-.78.8-2.07 0-2.86zM5.41 20L4 18.59l7.72-7.72 1.47 1.35L5.41 20z\"/>\n",
              "  </svg>\n",
              "      </button>\n",
              "      \n",
              "  <style>\n",
              "    .colab-df-container {\n",
              "      display:flex;\n",
              "      flex-wrap:wrap;\n",
              "      gap: 12px;\n",
              "    }\n",
              "\n",
              "    .colab-df-convert {\n",
              "      background-color: #E8F0FE;\n",
              "      border: none;\n",
              "      border-radius: 50%;\n",
              "      cursor: pointer;\n",
              "      display: none;\n",
              "      fill: #1967D2;\n",
              "      height: 32px;\n",
              "      padding: 0 0 0 0;\n",
              "      width: 32px;\n",
              "    }\n",
              "\n",
              "    .colab-df-convert:hover {\n",
              "      background-color: #E2EBFA;\n",
              "      box-shadow: 0px 1px 2px rgba(60, 64, 67, 0.3), 0px 1px 3px 1px rgba(60, 64, 67, 0.15);\n",
              "      fill: #174EA6;\n",
              "    }\n",
              "\n",
              "    [theme=dark] .colab-df-convert {\n",
              "      background-color: #3B4455;\n",
              "      fill: #D2E3FC;\n",
              "    }\n",
              "\n",
              "    [theme=dark] .colab-df-convert:hover {\n",
              "      background-color: #434B5C;\n",
              "      box-shadow: 0px 1px 3px 1px rgba(0, 0, 0, 0.15);\n",
              "      filter: drop-shadow(0px 1px 2px rgba(0, 0, 0, 0.3));\n",
              "      fill: #FFFFFF;\n",
              "    }\n",
              "  </style>\n",
              "\n",
              "      <script>\n",
              "        const buttonEl =\n",
              "          document.querySelector('#df-c34594b2-e598-4059-ab43-3a7b486fce94 button.colab-df-convert');\n",
              "        buttonEl.style.display =\n",
              "          google.colab.kernel.accessAllowed ? 'block' : 'none';\n",
              "\n",
              "        async function convertToInteractive(key) {\n",
              "          const element = document.querySelector('#df-c34594b2-e598-4059-ab43-3a7b486fce94');\n",
              "          const dataTable =\n",
              "            await google.colab.kernel.invokeFunction('convertToInteractive',\n",
              "                                                     [key], {});\n",
              "          if (!dataTable) return;\n",
              "\n",
              "          const docLinkHtml = 'Like what you see? Visit the ' +\n",
              "            '<a target=\"_blank\" href=https://colab.research.google.com/notebooks/data_table.ipynb>data table notebook</a>'\n",
              "            + ' to learn more about interactive tables.';\n",
              "          element.innerHTML = '';\n",
              "          dataTable['output_type'] = 'display_data';\n",
              "          await google.colab.output.renderOutput(dataTable, element);\n",
              "          const docLink = document.createElement('div');\n",
              "          docLink.innerHTML = docLinkHtml;\n",
              "          element.appendChild(docLink);\n",
              "        }\n",
              "      </script>\n",
              "    </div>\n",
              "  </div>\n",
              "  "
            ]
          },
          "metadata": {},
          "execution_count": 150
        }
      ]
    },
    {
      "cell_type": "code",
      "source": [
        "top_city_each.plot.bar(x='regio2', rot=90, title='Top cities in each state groups in Germany')\n",
        "plt.xlabel('regio2')\n",
        "plt.ylabel('baseRent')"
      ],
      "metadata": {
        "colab": {
          "base_uri": "https://localhost:8080/",
          "height": 0
        },
        "id": "fqWAcc5ZPDH2",
        "outputId": "26765df7-cffe-42bc-ef02-1f8a147d3664"
      },
      "execution_count": 151,
      "outputs": [
        {
          "output_type": "execute_result",
          "data": {
            "text/plain": [
              "Text(0, 0.5, 'baseRent')"
            ]
          },
          "metadata": {},
          "execution_count": 151
        },
        {
          "output_type": "display_data",
          "data": {
            "text/plain": [
              "<Figure size 432x288 with 1 Axes>"
            ],
            "image/png": "[encoded data removed]"
          },
          "metadata": {
            "needs_background": "light"
          }
        }
      ]
    },
    {
      "cell_type": "code",
      "source": [
        "df_flat= df_g.groupby(['typeOfFlat','regio1_edit'])['baseRent'].mean().reset_index()"
      ],
      "metadata": {
        "id": "B_w3bK8ISyTJ"
      },
      "execution_count": 152,
      "outputs": []
    },
    {
      "cell_type": "code",
      "source": [
        "top_flat_type= df_flat.loc[df_flat.groupby('typeOfFlat')['baseRent'].idxmax()].sort_values(by='baseRent',ascending=False)\n",
        "top_flat_type"
      ],
      "metadata": {
        "colab": {
          "base_uri": "https://localhost:8080/",
          "height": 0
        },
        "id": "oJGwQ39bTJmz",
        "outputId": "749460b6-0e5a-4b53-f973-eb8b8b5eab6a"
      },
      "execution_count": 153,
      "outputs": [
        {
          "output_type": "execute_result",
          "data": {
            "text/plain": [
              "              typeOfFlat regio1_edit     baseRent\n",
              "86             penthouse      Berlin  1903.851778\n",
              "44                  loft      Berlin  1574.337931\n",
              "58            maisonette      Berlin  1415.626783\n",
              "114          roof_storey      Berlin  1315.278607\n",
              "128        terraced_flat      Berlin  1273.992258\n",
              "72                 other      Berlin  1040.130694\n",
              "2              apartment      Berlin   962.908263\n",
              "16          ground_floor      Berlin   929.009412\n",
              "102  raised_ground_floor      Hessen   920.475919\n",
              "41         half_basement       other   718.684186"
            ],
            "text/html": [
              "\n",
              "  <div id=\"df-eae51371-d080-45e1-9b4d-0b79c48b54a4\">\n",
              "    <div class=\"colab-df-container\">\n",
              "      <div>\n",
              "<style scoped>\n",
              "    .dataframe tbody tr th:only-of-type {\n",
              "        vertical-align: middle;\n",
              "    }\n",
              "\n",
              "    .dataframe tbody tr th {\n",
              "        vertical-align: top;\n",
              "    }\n",
              "\n",
              "    .dataframe thead th {\n",
              "        text-align: right;\n",
              "    }\n",
              "</style>\n",
              "<table border=\"1\" class=\"dataframe\">\n",
              "  <thead>\n",
              "    <tr style=\"text-align: right;\">\n",
              "      <th></th>\n",
              "      <th>typeOfFlat</th>\n",
              "      <th>regio1_edit</th>\n",
              "      <th>baseRent</th>\n",
              "    </tr>\n",
              "  </thead>\n",
              "  <tbody>\n",
              "    <tr>\n",
              "      <th>86</th>\n",
              "      <td>penthouse</td>\n",
              "      <td>Berlin</td>\n",
              "      <td>1903.851778</td>\n",
              "    </tr>\n",
              "    <tr>\n",
              "      <th>44</th>\n",
              "      <td>loft</td>\n",
              "      <td>Berlin</td>\n",
              "      <td>1574.337931</td>\n",
              "    </tr>\n",
              "    <tr>\n",
              "      <th>58</th>\n",
              "      <td>maisonette</td>\n",
              "      <td>Berlin</td>\n",
              "      <td>1415.626783</td>\n",
              "    </tr>\n",
              "    <tr>\n",
              "      <th>114</th>\n",
              "      <td>roof_storey</td>\n",
              "      <td>Berlin</td>\n",
              "      <td>1315.278607</td>\n",
              "    </tr>\n",
              "    <tr>\n",
              "      <th>128</th>\n",
              "      <td>terraced_flat</td>\n",
              "      <td>Berlin</td>\n",
              "      <td>1273.992258</td>\n",
              "    </tr>\n",
              "    <tr>\n",
              "      <th>72</th>\n",
              "      <td>other</td>\n",
              "      <td>Berlin</td>\n",
              "      <td>1040.130694</td>\n",
              "    </tr>\n",
              "    <tr>\n",
              "      <th>2</th>\n",
              "      <td>apartment</td>\n",
              "      <td>Berlin</td>\n",
              "      <td>962.908263</td>\n",
              "    </tr>\n",
              "    <tr>\n",
              "      <th>16</th>\n",
              "      <td>ground_floor</td>\n",
              "      <td>Berlin</td>\n",
              "      <td>929.009412</td>\n",
              "    </tr>\n",
              "    <tr>\n",
              "      <th>102</th>\n",
              "      <td>raised_ground_floor</td>\n",
              "      <td>Hessen</td>\n",
              "      <td>920.475919</td>\n",
              "    </tr>\n",
              "    <tr>\n",
              "      <th>41</th>\n",
              "      <td>half_basement</td>\n",
              "      <td>other</td>\n",
              "      <td>718.684186</td>\n",
              "    </tr>\n",
              "  </tbody>\n",
              "</table>\n",
              "</div>\n",
              "      <button class=\"colab-df-convert\" onclick=\"convertToInteractive('df-eae51371-d080-45e1-9b4d-0b79c48b54a4')\"\n",
              "              title=\"Convert this dataframe to an interactive table.\"\n",
              "              style=\"display:none;\">\n",
              "        \n",
              "  <svg xmlns=\"http://www.w3.org/2000/svg\" height=\"24px\"viewBox=\"0 0 24 24\"\n",
              "       width=\"24px\">\n",
              "    <path d=\"M0 0h24v24H0V0z\" fill=\"none\"/>\n",
              "    <path d=\"M18.56 5.44l.94 2.06.94-2.06 2.06-.94-2.06-.94-.94-2.06-.94 2.06-2.06.94zm-11 1L8.5 8.5l.94-2.06 2.06-.94-2.06-.94L8.5 2.5l-.94 2.06-2.06.94zm10 10l.94 2.06.94-2.06 2.06-.94-2.06-.94-.94-2.06-.94 2.06-2.06.94z\"/><path d=\"M17.41 7.96l-1.37-1.37c-.4-.4-.92-.59-1.43-.59-.52 0-1.04.2-1.43.59L10.3 9.45l-7.72 7.72c-.78.78-.78 2.05 0 2.83L4 21.41c.39.39.9.59 1.41.59.51 0 1.02-.2 1.41-.59l7.78-7.78 2.81-2.81c.8-.78.8-2.07 0-2.86zM5.41 20L4 18.59l7.72-7.72 1.47 1.35L5.41 20z\"/>\n",
              "  </svg>\n",
              "      </button>\n",
              "      \n",
              "  <style>\n",
              "    .colab-df-container {\n",
              "      display:flex;\n",
              "      flex-wrap:wrap;\n",
              "      gap: 12px;\n",
              "    }\n",
              "\n",
              "    .colab-df-convert {\n",
              "      background-color: #E8F0FE;\n",
              "      border: none;\n",
              "      border-radius: 50%;\n",
              "      cursor: pointer;\n",
              "      display: none;\n",
              "      fill: #1967D2;\n",
              "      height: 32px;\n",
              "      padding: 0 0 0 0;\n",
              "      width: 32px;\n",
              "    }\n",
              "\n",
              "    .colab-df-convert:hover {\n",
              "      background-color: #E2EBFA;\n",
              "      box-shadow: 0px 1px 2px rgba(60, 64, 67, 0.3), 0px 1px 3px 1px rgba(60, 64, 67, 0.15);\n",
              "      fill: #174EA6;\n",
              "    }\n",
              "\n",
              "    [theme=dark] .colab-df-convert {\n",
              "      background-color: #3B4455;\n",
              "      fill: #D2E3FC;\n",
              "    }\n",
              "\n",
              "    [theme=dark] .colab-df-convert:hover {\n",
              "      background-color: #434B5C;\n",
              "      box-shadow: 0px 1px 3px 1px rgba(0, 0, 0, 0.15);\n",
              "      filter: drop-shadow(0px 1px 2px rgba(0, 0, 0, 0.3));\n",
              "      fill: #FFFFFF;\n",
              "    }\n",
              "  </style>\n",
              "\n",
              "      <script>\n",
              "        const buttonEl =\n",
              "          document.querySelector('#df-eae51371-d080-45e1-9b4d-0b79c48b54a4 button.colab-df-convert');\n",
              "        buttonEl.style.display =\n",
              "          google.colab.kernel.accessAllowed ? 'block' : 'none';\n",
              "\n",
              "        async function convertToInteractive(key) {\n",
              "          const element = document.querySelector('#df-eae51371-d080-45e1-9b4d-0b79c48b54a4');\n",
              "          const dataTable =\n",
              "            await google.colab.kernel.invokeFunction('convertToInteractive',\n",
              "                                                     [key], {});\n",
              "          if (!dataTable) return;\n",
              "\n",
              "          const docLinkHtml = 'Like what you see? Visit the ' +\n",
              "            '<a target=\"_blank\" href=https://colab.research.google.com/notebooks/data_table.ipynb>data table notebook</a>'\n",
              "            + ' to learn more about interactive tables.';\n",
              "          element.innerHTML = '';\n",
              "          dataTable['output_type'] = 'display_data';\n",
              "          await google.colab.output.renderOutput(dataTable, element);\n",
              "          const docLink = document.createElement('div');\n",
              "          docLink.innerHTML = docLinkHtml;\n",
              "          element.appendChild(docLink);\n",
              "        }\n",
              "      </script>\n",
              "    </div>\n",
              "  </div>\n",
              "  "
            ]
          },
          "metadata": {},
          "execution_count": 153
        }
      ]
    },
    {
      "cell_type": "code",
      "source": [
        "top_flat_type.plot.bar(x='typeOfFlat', rot=90, title='Top types of flats in Germany')\n",
        "plt.xlabel('typeOfFlat')\n",
        "plt.ylabel('baseRent')"
      ],
      "metadata": {
        "colab": {
          "base_uri": "https://localhost:8080/",
          "height": 0
        },
        "id": "BxMpAN_RTaO5",
        "outputId": "109f5392-d040-4045-9f33-52a6f5c6a270"
      },
      "execution_count": 154,
      "outputs": [
        {
          "output_type": "execute_result",
          "data": {
            "text/plain": [
              "Text(0, 0.5, 'baseRent')"
            ]
          },
          "metadata": {},
          "execution_count": 154
        },
        {
          "output_type": "display_data",
          "data": {
            "text/plain": [
              "<Figure size 432x288 with 1 Axes>"
            ],
            "image/png": "[encoded data removed]"
          },
          "metadata": {
            "needs_background": "light"
          }
        }
      ]
    },
    {
      "cell_type": "code",
      "source": [
        "sns.set(rc={\"figure.figsize\": (8, 8)})\n",
        "ax= sns.scatterplot(data=df_g, x=\"totalRent\", y=\"livingSpace\",hue='noRooms', size='noRooms')\n",
        "ax.set_title('livingSpace-totalRent')"
      ],
      "metadata": {
        "colab": {
          "base_uri": "https://localhost:8080/",
          "height": 0
        },
        "id": "t3xMXnUXVqdL",
        "outputId": "8abd884d-018e-476e-9f58-af74a4007821"
      },
      "execution_count": 155,
      "outputs": [
        {
          "output_type": "execute_result",
          "data": {
            "text/plain": [
              "Text(0.5, 1.0, 'livingSpace-totalRent')"
            ]
          },
          "metadata": {},
          "execution_count": 155
        },
        {
          "output_type": "display_data",
          "data": {
            "text/plain": [
              "<Figure size 576x576 with 1 Axes>"
            ],
            "image/png": "[encoded data removed]"
          },
          "metadata": {}
        }
      ]
    },
    {
      "cell_type": "code",
      "source": [
        "df_g.typeOfFlat.unique()"
      ],
      "metadata": {
        "colab": {
          "base_uri": "https://localhost:8080/"
        },
        "id": "j6iZ8bCGgCdm",
        "outputId": "d1e3208a-722a-46d0-aff9-752db5ef5832"
      },
      "execution_count": 156,
      "outputs": [
        {
          "output_type": "execute_result",
          "data": {
            "text/plain": [
              "array(['ground_floor', 'apartment', 'other', 'roof_storey',\n",
              "       'raised_ground_floor', 'half_basement', 'terraced_flat',\n",
              "       'penthouse', 'maisonette', 'loft'], dtype=object)"
            ]
          },
          "metadata": {},
          "execution_count": 156
        }
      ]
    },
    {
      "cell_type": "code",
      "source": [
        "df_g.typeOfFlat.value_counts()"
      ],
      "metadata": {
        "colab": {
          "base_uri": "https://localhost:8080/"
        },
        "id": "d64-r-Hp4mT9",
        "outputId": "14ef89eb-ee15-4492-fcca-ec2508c41c40"
      },
      "execution_count": 157,
      "outputs": [
        {
          "output_type": "execute_result",
          "data": {
            "text/plain": [
              "apartment              151480\n",
              "roof_storey             30815\n",
              "ground_floor            28714\n",
              "other                    8547\n",
              "maisonette               7617\n",
              "raised_ground_floor      5004\n",
              "terraced_flat            2918\n",
              "penthouse                2850\n",
              "half_basement            1807\n",
              "loft                      789\n",
              "Name: typeOfFlat, dtype: int64"
            ]
          },
          "metadata": {},
          "execution_count": 157
        }
      ]
    },
    {
      "cell_type": "code",
      "source": [
        "plt.figure(figsize = (8,5))\n",
        "basecolor = sns.color_palette()[0]\n",
        "sns.countplot(data = df_g, y = 'typeOfFlat', color = basecolor, \n",
        "              order = df_g['typeOfFlat'].value_counts().index)\n",
        "plt.ylabel('')\n",
        "plt.xlabel('# of listings', fontsize = 10)\n",
        "plt.title('\\n listings in Germany by typeOfFlat \\n', fontsize = 14)\n",
        "\n",
        "plt.xticks(fontsize =12)\n",
        "plt.yticks(fontsize =12)\n",
        "\n",
        "# add annotations\n",
        "n_points = df_g.shape[0]\n",
        "cat_counts = df_g['typeOfFlat'].value_counts()\n",
        "locs, labels = plt.yticks() # get the current tick locations and labels\n",
        "plt.xlim((0,cat_counts.max()+1000))\n",
        "\n",
        "# loop \n",
        "for loc, label in zip(locs, labels):\n",
        "\n",
        "    # get the text property for the label to get the correct count\n",
        "    count = cat_counts[label.get_text()]\n",
        "    pct_string = '{:0.1f}%'.format(100*count/n_points)\n",
        "\n",
        "    # print the annotation just below the top of the bar\n",
        "    plt.text(count+200, loc, pct_string, ha = 'center', color = 'black', fontsize = 12)\n",
        "\n",
        "# code credit : https://www.geeksforgeeks.org/ for adding percentage to bar chart    \n"
      ],
      "metadata": {
        "colab": {
          "base_uri": "https://localhost:8080/",
          "height": 0
        },
        "id": "Bm9VXVjQ4JSM",
        "outputId": "9ea5c2a8-dbc3-47ba-e5ba-e531536a5568"
      },
      "execution_count": 158,
      "outputs": [
        {
          "output_type": "display_data",
          "data": {
            "text/plain": [
              "<Figure size 576x360 with 1 Axes>"
            ],
            "image/png": "[encoded data removed]"
          },
          "metadata": {}
        }
      ]
    },
    {
      "cell_type": "code",
      "source": [
        "\n",
        "type_Of_Flat = pd.Series(df_g['typeOfFlat'].value_counts().index)\n",
        "federal_state = pd.Series(df_g['regio1_edit'].value_counts().index)\n",
        "\n",
        "plot_elements = [] # for storing references to plot elements\n",
        "baselines = np.zeros(len(federal_state)) # stores the baseline for the next category plot\n",
        "nb_counts = df_g['regio1_edit'].value_counts()\n",
        "\n",
        "fig, ax = plt.subplots(figsize=(12,6))\n",
        "fig.autofmt_xdate()   # rotate text on x-axis\n",
        "\n",
        "# for each second-variable category:\n",
        "for i in range(len(type_Of_Flat)):\n",
        "    # isolate the counts of the first category,\n",
        "    rt = type_Of_Flat[i]\n",
        "    inner_counts = df_g[df_g['typeOfFlat'] == rt]['regio1_edit'].value_counts()\n",
        "    inner_props = inner_counts / nb_counts\n",
        "     \n",
        "    \n",
        "    inner_props[inner_props.isnull()] = 0\n",
        "    \n",
        "    # then plot those counts on top of the accumulated baseline\n",
        "    bars = plt.bar(x = np.arange(len(federal_state)),\n",
        "                   height = inner_props[federal_state],\n",
        "                   bottom = baselines)\n",
        "    plot_elements.append(bars)\n",
        "    baselines += inner_props[federal_state]\n",
        "\n",
        "plt.title('\\n Distribution of flat types in Germany by state \\n', fontsize = 16)\n",
        "plt.xticks(np.arange(len(federal_state)), federal_state)\n",
        "yt = np.arange(0, 1.1, .2)\n",
        "plt.yticks(yt, ['{:1.0f}%'.format(100*x) for x in yt])\n",
        "plt.legend(reversed(plot_elements), reversed(type_Of_Flat), framealpha = 1,\n",
        "           bbox_to_anchor = (1, 0.5), loc = 6, fontsize = 12);\n",
        "\n",
        "ax.tick_params(axis='both', labelsize=12)\n",
        "\n",
        "# code credit by : stackoverflow.com"
      ],
      "metadata": {
        "colab": {
          "base_uri": "https://localhost:8080/",
          "height": 0
        },
        "id": "ukt84rAW67ku",
        "outputId": "dd9fbc23-ae56-4d14-eecd-6d2f479b60e0"
      },
      "execution_count": 159,
      "outputs": [
        {
          "output_type": "display_data",
          "data": {
            "text/plain": [
              "<Figure size 864x432 with 1 Axes>"
            ],
            "image/png": "[encoded data removed]"
          },
          "metadata": {}
        }
      ]
    },
    {
      "cell_type": "code",
      "source": [
        "colors = sns.color_palette('pastel')[0:5]\n",
        "#plt.figure(figsize=(10,8))\n",
        "df_g['hasKitchen'].value_counts().plot(kind='pie',  autopct='%1.2f%%', startangle=140, fontsize=12, colors = colors)"
      ],
      "metadata": {
        "colab": {
          "base_uri": "https://localhost:8080/",
          "height": 0
        },
        "id": "NU8bL8Fx9ota",
        "outputId": "dc174df6-6098-4541-faba-600653fcabf1"
      },
      "execution_count": 160,
      "outputs": [
        {
          "output_type": "execute_result",
          "data": {
            "text/plain": [
              "<matplotlib.axes._subplots.AxesSubplot at 0x7efeb47ee890>"
            ]
          },
          "metadata": {},
          "execution_count": 160
        },
        {
          "output_type": "display_data",
          "data": {
            "text/plain": [
              "<Figure size 576x576 with 1 Axes>"
            ],
            "image/png": "[encoded data removed]"
          },
          "metadata": {}
        }
      ]
    },
    {
      "cell_type": "code",
      "source": [
        "df_g['petsAllowed'].value_counts().plot(kind='pie',  autopct='%1.2f%%', startangle=140, fontsize=12, colors = colors)\n"
      ],
      "metadata": {
        "colab": {
          "base_uri": "https://localhost:8080/",
          "height": 0
        },
        "id": "OLARqQDH-woC",
        "outputId": "6b52c98d-398d-4e0e-e9fe-0250c363c746"
      },
      "execution_count": 161,
      "outputs": [
        {
          "output_type": "execute_result",
          "data": {
            "text/plain": [
              "<matplotlib.axes._subplots.AxesSubplot at 0x7efebcff1110>"
            ]
          },
          "metadata": {},
          "execution_count": 161
        },
        {
          "output_type": "display_data",
          "data": {
            "text/plain": [
              "<Figure size 576x576 with 1 Axes>"
            ],
            "image/png": "[encoded data removed]"
          },
          "metadata": {}
        }
      ]
    },
    {
      "cell_type": "code",
      "source": [
        "df_g.columns"
      ],
      "metadata": {
        "colab": {
          "base_uri": "https://localhost:8080/"
        },
        "id": "ImjTayQL_ISe",
        "outputId": "8786adef-4079-43c6-b2e0-71891b12df62"
      },
      "execution_count": 162,
      "outputs": [
        {
          "output_type": "execute_result",
          "data": {
            "text/plain": [
              "Index(['serviceCharge', 'heatingType', 'newlyConst', 'balcony',\n",
              "       'telekomUploadSpeed', 'totalRent', 'yearConstructed', 'hasKitchen',\n",
              "       'cellar', 'baseRent', 'livingSpace', 'condition', 'interiorQual',\n",
              "       'petsAllowed', 'lift', 'baseRentRange', 'typeOfFlat', 'noRooms',\n",
              "       'thermalChar', 'floor', 'numberOfFloors', 'garden', 'regio2',\n",
              "       'regio1_edit'],\n",
              "      dtype='object')"
            ]
          },
          "metadata": {},
          "execution_count": 162
        }
      ]
    },
    {
      "cell_type": "code",
      "source": [
        "df_prices = df_g.groupby(\"hasKitchen\").agg([np.mean, np.std])"
      ],
      "metadata": {
        "id": "GRyQ2oKGBPbV"
      },
      "execution_count": 163,
      "outputs": []
    },
    {
      "cell_type": "code",
      "source": [
        "prices = df_prices['baseRent']\n",
        " \n",
        "# checking for results\n",
        "prices.head()"
      ],
      "metadata": {
        "colab": {
          "base_uri": "https://localhost:8080/",
          "height": 0
        },
        "id": "Ya_wY_pLBZ3U",
        "outputId": "ab88e1e4-97f4-499f-84f9-62145fad3750"
      },
      "execution_count": 164,
      "outputs": [
        {
          "output_type": "execute_result",
          "data": {
            "text/plain": [
              "                  mean         std\n",
              "hasKitchen                        \n",
              "False       535.433709  367.265161\n",
              "True        777.987999  489.052689"
            ],
            "text/html": [
              "\n",
              "  <div id=\"df-1da22310-3d74-47ac-bb1d-db5e6d5cf902\">\n",
              "    <div class=\"colab-df-container\">\n",
              "      <div>\n",
              "<style scoped>\n",
              "    .dataframe tbody tr th:only-of-type {\n",
              "        vertical-align: middle;\n",
              "    }\n",
              "\n",
              "    .dataframe tbody tr th {\n",
              "        vertical-align: top;\n",
              "    }\n",
              "\n",
              "    .dataframe thead th {\n",
              "        text-align: right;\n",
              "    }\n",
              "</style>\n",
              "<table border=\"1\" class=\"dataframe\">\n",
              "  <thead>\n",
              "    <tr style=\"text-align: right;\">\n",
              "      <th></th>\n",
              "      <th>mean</th>\n",
              "      <th>std</th>\n",
              "    </tr>\n",
              "    <tr>\n",
              "      <th>hasKitchen</th>\n",
              "      <th></th>\n",
              "      <th></th>\n",
              "    </tr>\n",
              "  </thead>\n",
              "  <tbody>\n",
              "    <tr>\n",
              "      <th>False</th>\n",
              "      <td>535.433709</td>\n",
              "      <td>367.265161</td>\n",
              "    </tr>\n",
              "    <tr>\n",
              "      <th>True</th>\n",
              "      <td>777.987999</td>\n",
              "      <td>489.052689</td>\n",
              "    </tr>\n",
              "  </tbody>\n",
              "</table>\n",
              "</div>\n",
              "      <button class=\"colab-df-convert\" onclick=\"convertToInteractive('df-1da22310-3d74-47ac-bb1d-db5e6d5cf902')\"\n",
              "              title=\"Convert this dataframe to an interactive table.\"\n",
              "              style=\"display:none;\">\n",
              "        \n",
              "  <svg xmlns=\"http://www.w3.org/2000/svg\" height=\"24px\"viewBox=\"0 0 24 24\"\n",
              "       width=\"24px\">\n",
              "    <path d=\"M0 0h24v24H0V0z\" fill=\"none\"/>\n",
              "    <path d=\"M18.56 5.44l.94 2.06.94-2.06 2.06-.94-2.06-.94-.94-2.06-.94 2.06-2.06.94zm-11 1L8.5 8.5l.94-2.06 2.06-.94-2.06-.94L8.5 2.5l-.94 2.06-2.06.94zm10 10l.94 2.06.94-2.06 2.06-.94-2.06-.94-.94-2.06-.94 2.06-2.06.94z\"/><path d=\"M17.41 7.96l-1.37-1.37c-.4-.4-.92-.59-1.43-.59-.52 0-1.04.2-1.43.59L10.3 9.45l-7.72 7.72c-.78.78-.78 2.05 0 2.83L4 21.41c.39.39.9.59 1.41.59.51 0 1.02-.2 1.41-.59l7.78-7.78 2.81-2.81c.8-.78.8-2.07 0-2.86zM5.41 20L4 18.59l7.72-7.72 1.47 1.35L5.41 20z\"/>\n",
              "  </svg>\n",
              "      </button>\n",
              "      \n",
              "  <style>\n",
              "    .colab-df-container {\n",
              "      display:flex;\n",
              "      flex-wrap:wrap;\n",
              "      gap: 12px;\n",
              "    }\n",
              "\n",
              "    .colab-df-convert {\n",
              "      background-color: #E8F0FE;\n",
              "      border: none;\n",
              "      border-radius: 50%;\n",
              "      cursor: pointer;\n",
              "      display: none;\n",
              "      fill: #1967D2;\n",
              "      height: 32px;\n",
              "      padding: 0 0 0 0;\n",
              "      width: 32px;\n",
              "    }\n",
              "\n",
              "    .colab-df-convert:hover {\n",
              "      background-color: #E2EBFA;\n",
              "      box-shadow: 0px 1px 2px rgba(60, 64, 67, 0.3), 0px 1px 3px 1px rgba(60, 64, 67, 0.15);\n",
              "      fill: #174EA6;\n",
              "    }\n",
              "\n",
              "    [theme=dark] .colab-df-convert {\n",
              "      background-color: #3B4455;\n",
              "      fill: #D2E3FC;\n",
              "    }\n",
              "\n",
              "    [theme=dark] .colab-df-convert:hover {\n",
              "      background-color: #434B5C;\n",
              "      box-shadow: 0px 1px 3px 1px rgba(0, 0, 0, 0.15);\n",
              "      filter: drop-shadow(0px 1px 2px rgba(0, 0, 0, 0.3));\n",
              "      fill: #FFFFFF;\n",
              "    }\n",
              "  </style>\n",
              "\n",
              "      <script>\n",
              "        const buttonEl =\n",
              "          document.querySelector('#df-1da22310-3d74-47ac-bb1d-db5e6d5cf902 button.colab-df-convert');\n",
              "        buttonEl.style.display =\n",
              "          google.colab.kernel.accessAllowed ? 'block' : 'none';\n",
              "\n",
              "        async function convertToInteractive(key) {\n",
              "          const element = document.querySelector('#df-1da22310-3d74-47ac-bb1d-db5e6d5cf902');\n",
              "          const dataTable =\n",
              "            await google.colab.kernel.invokeFunction('convertToInteractive',\n",
              "                                                     [key], {});\n",
              "          if (!dataTable) return;\n",
              "\n",
              "          const docLinkHtml = 'Like what you see? Visit the ' +\n",
              "            '<a target=\"_blank\" href=https://colab.research.google.com/notebooks/data_table.ipynb>data table notebook</a>'\n",
              "            + ' to learn more about interactive tables.';\n",
              "          element.innerHTML = '';\n",
              "          dataTable['output_type'] = 'display_data';\n",
              "          await google.colab.output.renderOutput(dataTable, element);\n",
              "          const docLink = document.createElement('div');\n",
              "          docLink.innerHTML = docLinkHtml;\n",
              "          element.appendChild(docLink);\n",
              "        }\n",
              "      </script>\n",
              "    </div>\n",
              "  </div>\n",
              "  "
            ]
          },
          "metadata": {},
          "execution_count": 164
        }
      ]
    },
    {
      "cell_type": "code",
      "source": [
        "prices.plot(kind = \"barh\", y = \"mean\", legend = False,\n",
        "            title = \"Average Prices\")"
      ],
      "metadata": {
        "colab": {
          "base_uri": "https://localhost:8080/",
          "height": 0
        },
        "id": "kmewrziXBlR4",
        "outputId": "b67837cc-0ce3-40a4-d572-85d09321f7ff"
      },
      "execution_count": 165,
      "outputs": [
        {
          "output_type": "execute_result",
          "data": {
            "text/plain": [
              "<matplotlib.axes._subplots.AxesSubplot at 0x7efebd120710>"
            ]
          },
          "metadata": {},
          "execution_count": 165
        },
        {
          "output_type": "display_data",
          "data": {
            "text/plain": [
              "<Figure size 576x576 with 1 Axes>"
            ],
            "image/png": "[encoded data removed]"
          },
          "metadata": {}
        }
      ]
    },
    {
      "cell_type": "code",
      "source": [
        "prices.plot(kind = \"barh\", y = \"mean\", legend = False,\n",
        "            title = \"Average Prices\", xerr = \"std\")"
      ],
      "metadata": {
        "colab": {
          "base_uri": "https://localhost:8080/",
          "height": 0
        },
        "id": "veFkEJiCB-Ie",
        "outputId": "def3f8f4-b87a-495c-bf94-210fb8dfb519"
      },
      "execution_count": 166,
      "outputs": [
        {
          "output_type": "execute_result",
          "data": {
            "text/plain": [
              "<matplotlib.axes._subplots.AxesSubplot at 0x7efebbb17090>"
            ]
          },
          "metadata": {},
          "execution_count": 166
        },
        {
          "output_type": "display_data",
          "data": {
            "text/plain": [
              "<Figure size 576x576 with 1 Axes>"
            ],
            "image/png": "[encoded data removed]"
          },
          "metadata": {}
        }
      ]
    },
    {
      "cell_type": "code",
      "source": [
        "df_prices_city = df_g.groupby(\"regio2\").agg([np.mean, np.std])\n",
        "prices_city = df_prices_city['baseRent']\n",
        "prices_city.iloc[:5].plot(kind = \"barh\", y = \"mean\", legend = False,\n",
        "            title = \"Average Prices\")"
      ],
      "metadata": {
        "colab": {
          "base_uri": "https://localhost:8080/",
          "height": 0
        },
        "id": "T2GlldNkDPGX",
        "outputId": "c8d5fbb4-a6e6-4316-bcc8-8d5cc9bb1ab9"
      },
      "execution_count": 167,
      "outputs": [
        {
          "output_type": "execute_result",
          "data": {
            "text/plain": [
              "<matplotlib.axes._subplots.AxesSubplot at 0x7efebbaf44d0>"
            ]
          },
          "metadata": {},
          "execution_count": 167
        },
        {
          "output_type": "display_data",
          "data": {
            "text/plain": [
              "<Figure size 576x576 with 1 Axes>"
            ],
            "image/png": "[encoded data removed]"
          },
          "metadata": {}
        }
      ]
    },
    {
      "cell_type": "code",
      "source": [
        "df_g=df_g.drop('regio2',axis=1)"
      ],
      "metadata": {
        "id": "96icHHh0e8h1"
      },
      "execution_count": 168,
      "outputs": []
    },
    {
      "cell_type": "markdown",
      "source": [
        "# Feature Engineering"
      ],
      "metadata": {
        "id": "1OLgrEm7kmpy"
      }
    },
    {
      "cell_type": "markdown",
      "source": [
        "## Reduce unique values"
      ],
      "metadata": {
        "id": "PyRj9ENMN9hp"
      }
    },
    {
      "cell_type": "code",
      "source": [
        "df_g.telekomUploadSpeed.unique()"
      ],
      "metadata": {
        "colab": {
          "base_uri": "https://localhost:8080/"
        },
        "id": "smNyl5fUwlcH",
        "outputId": "9b851c55-0def-48a4-9125-d69969834774"
      },
      "execution_count": 169,
      "outputs": [
        {
          "output_type": "execute_result",
          "data": {
            "text/plain": [
              "array([10.        ,  2.4       , 40.        , 28.81207378,  5.        ,\n",
              "        1.        ,  4.        ])"
            ]
          },
          "metadata": {},
          "execution_count": 169
        }
      ]
    },
    {
      "cell_type": "markdown",
      "source": [
        "Reduce the unique values in categorical columns"
      ],
      "metadata": {
        "id": "HRGmw0xSJZdU"
      }
    },
    {
      "cell_type": "code",
      "source": [
        "df_g.loc[df_g[\"condition\"] == 'first_time_use', \"condition\"] = 'new'\n",
        "df_g.loc[df_g[\"condition\"] == 'first_time_use_after_refurbishment', \"condition\"] = 'new'\n",
        "df_g.loc[df_g[\"condition\"] == 'fully_renovated', \"condition\"] = 'new'\n",
        "df_g.loc[df_g[\"condition\"] == 'mint_condition', \"condition\"] = 'new'\n",
        "\n",
        "\n",
        "df_g.loc[df_g[\"condition\"] == 'well_kept', \"condition\"] = 'mid_class'\n",
        "df_g.loc[df_g[\"condition\"] == 'refurbished', \"condition\"] = 'mid_class'\n",
        "df_g.loc[df_g[\"condition\"] == 'modernized', \"condition\"] = 'mid_class'\n",
        "\n",
        "\n",
        "df_g.loc[df_g[\"condition\"] == 'negotiable', \"condition\"] = 'old'\n",
        "df_g.loc[df_g[\"condition\"] == 'need_of_renovation', \"condition\"] = 'old'\n",
        "df_g.loc[df_g[\"condition\"] == 'ripe_for_demolition', \"condition\"] = 'old'\n",
        "\n"
      ],
      "metadata": {
        "id": "iqbaFdadJYRL"
      },
      "execution_count": 170,
      "outputs": []
    },
    {
      "cell_type": "code",
      "source": [
        "list(df_g['heatingType'].value_counts().tail(8).index)"
      ],
      "metadata": {
        "id": "7VBT3vAAPHyy",
        "colab": {
          "base_uri": "https://localhost:8080/"
        },
        "outputId": "2e8e424a-fde2-4704-84d2-970b6221fe0f"
      },
      "execution_count": 171,
      "outputs": [
        {
          "output_type": "execute_result",
          "data": {
            "text/plain": [
              "['oil_heating',\n",
              " 'heat_pump',\n",
              " 'combined_heat_and_power_plant',\n",
              " 'night_storage_heater',\n",
              " 'wood_pellet_heating',\n",
              " 'electric_heating',\n",
              " 'stove_heating',\n",
              " 'solar_heating']"
            ]
          },
          "metadata": {},
          "execution_count": 171
        }
      ]
    },
    {
      "cell_type": "code",
      "source": [
        "others = list(df_g['heatingType'].value_counts().tail(8).index)\n",
        "def edit_heating(x):\n",
        "    if x in others:\n",
        "        return 'other'\n",
        "    else:\n",
        "        return x\n",
        "\n",
        "df_g['heatingType_reduced'] = df_g['heatingType'].apply(edit_heating)\n",
        "df_g = df_g.drop(columns = ['heatingType'])\n",
        "df_g['heatingType_reduced'].value_counts()*100 / len(df_g)"
      ],
      "metadata": {
        "id": "kuCbZKeLPIgp",
        "colab": {
          "base_uri": "https://localhost:8080/"
        },
        "outputId": "9b046673-cbf8-45e1-abd9-ecffdecb458e"
      },
      "execution_count": 172,
      "outputs": [
        {
          "output_type": "execute_result",
          "data": {
            "text/plain": [
              "central_heating                   64.552405\n",
              "district_heating                   9.448285\n",
              "gas_heating                        7.568772\n",
              "self_contained_central_heating     6.735650\n",
              "floor_heating                      6.598875\n",
              "other                              5.096013\n",
              "Name: heatingType_reduced, dtype: float64"
            ]
          },
          "metadata": {},
          "execution_count": 172
        }
      ]
    },
    {
      "cell_type": "markdown",
      "source": [
        "##Normalization"
      ],
      "metadata": {
        "id": "5kfmDSFpvY5j"
      }
    },
    {
      "cell_type": "code",
      "source": [
        "scaler = MinMaxScaler()\n",
        "df_g[['livingSpace','noRooms']] = scaler.fit_transform(df_g[['livingSpace','noRooms']])\n"
      ],
      "metadata": {
        "id": "adsTwqsnvX3t"
      },
      "execution_count": 173,
      "outputs": []
    },
    {
      "cell_type": "markdown",
      "source": [
        "## Encoding"
      ],
      "metadata": {
        "id": "X-hvW_0djdCC"
      }
    },
    {
      "cell_type": "markdown",
      "source": [
        "encoding categorical variable \n"
      ],
      "metadata": {
        "id": "LplyW9gGp_5t"
      }
    },
    {
      "cell_type": "markdown",
      "source": [
        "boolean types:"
      ],
      "metadata": {
        "id": "zrX1P1oBw75A"
      }
    },
    {
      "cell_type": "code",
      "source": [
        "# checking features\n",
        "cat_bol = df_g.select_dtypes(include=bool).keys()\n",
        "# display variabels\n",
        "cat_bol"
      ],
      "metadata": {
        "colab": {
          "base_uri": "https://localhost:8080/"
        },
        "id": "hi4VmJJ6O3u3",
        "outputId": "be3ff3c5-f356-47b7-a9f3-c30f64be001c"
      },
      "execution_count": 174,
      "outputs": [
        {
          "output_type": "execute_result",
          "data": {
            "text/plain": [
              "Index(['newlyConst', 'balcony', 'hasKitchen', 'cellar', 'lift', 'garden'], dtype='object')"
            ]
          },
          "metadata": {},
          "execution_count": 174
        }
      ]
    },
    {
      "cell_type": "code",
      "source": [
        "enc_cat_bool = pd.get_dummies(df_g[cat_bol])\n",
        "enc_cat_bool.head() "
      ],
      "metadata": {
        "id": "_4CxacbRwJMA",
        "colab": {
          "base_uri": "https://localhost:8080/",
          "height": 206
        },
        "outputId": "8ccad2eb-3146-44c6-8d79-8dc27e9d2f60"
      },
      "execution_count": 175,
      "outputs": [
        {
          "output_type": "execute_result",
          "data": {
            "text/plain": [
              "   newlyConst  balcony  hasKitchen  cellar   lift  garden\n",
              "0       False    False       False    True  False    True\n",
              "1       False     True       False   False  False   False\n",
              "2        True     True       False    True   True   False\n",
              "3       False     True       False   False  False   False\n",
              "4       False     True       False   False  False   False"
            ],
            "text/html": [
              "\n",
              "  <div id=\"df-387a97d0-451f-4163-ae4e-5fc184c62ad9\">\n",
              "    <div class=\"colab-df-container\">\n",
              "      <div>\n",
              "<style scoped>\n",
              "    .dataframe tbody tr th:only-of-type {\n",
              "        vertical-align: middle;\n",
              "    }\n",
              "\n",
              "    .dataframe tbody tr th {\n",
              "        vertical-align: top;\n",
              "    }\n",
              "\n",
              "    .dataframe thead th {\n",
              "        text-align: right;\n",
              "    }\n",
              "</style>\n",
              "<table border=\"1\" class=\"dataframe\">\n",
              "  <thead>\n",
              "    <tr style=\"text-align: right;\">\n",
              "      <th></th>\n",
              "      <th>newlyConst</th>\n",
              "      <th>balcony</th>\n",
              "      <th>hasKitchen</th>\n",
              "      <th>cellar</th>\n",
              "      <th>lift</th>\n",
              "      <th>garden</th>\n",
              "    </tr>\n",
              "  </thead>\n",
              "  <tbody>\n",
              "    <tr>\n",
              "      <th>0</th>\n",
              "      <td>False</td>\n",
              "      <td>False</td>\n",
              "      <td>False</td>\n",
              "      <td>True</td>\n",
              "      <td>False</td>\n",
              "      <td>True</td>\n",
              "    </tr>\n",
              "    <tr>\n",
              "      <th>1</th>\n",
              "      <td>False</td>\n",
              "      <td>True</td>\n",
              "      <td>False</td>\n",
              "      <td>False</td>\n",
              "      <td>False</td>\n",
              "      <td>False</td>\n",
              "    </tr>\n",
              "    <tr>\n",
              "      <th>2</th>\n",
              "      <td>True</td>\n",
              "      <td>True</td>\n",
              "      <td>False</td>\n",
              "      <td>True</td>\n",
              "      <td>True</td>\n",
              "      <td>False</td>\n",
              "    </tr>\n",
              "    <tr>\n",
              "      <th>3</th>\n",
              "      <td>False</td>\n",
              "      <td>True</td>\n",
              "      <td>False</td>\n",
              "      <td>False</td>\n",
              "      <td>False</td>\n",
              "      <td>False</td>\n",
              "    </tr>\n",
              "    <tr>\n",
              "      <th>4</th>\n",
              "      <td>False</td>\n",
              "      <td>True</td>\n",
              "      <td>False</td>\n",
              "      <td>False</td>\n",
              "      <td>False</td>\n",
              "      <td>False</td>\n",
              "    </tr>\n",
              "  </tbody>\n",
              "</table>\n",
              "</div>\n",
              "      <button class=\"colab-df-convert\" onclick=\"convertToInteractive('df-387a97d0-451f-4163-ae4e-5fc184c62ad9')\"\n",
              "              title=\"Convert this dataframe to an interactive table.\"\n",
              "              style=\"display:none;\">\n",
              "        \n",
              "  <svg xmlns=\"http://www.w3.org/2000/svg\" height=\"24px\"viewBox=\"0 0 24 24\"\n",
              "       width=\"24px\">\n",
              "    <path d=\"M0 0h24v24H0V0z\" fill=\"none\"/>\n",
              "    <path d=\"M18.56 5.44l.94 2.06.94-2.06 2.06-.94-2.06-.94-.94-2.06-.94 2.06-2.06.94zm-11 1L8.5 8.5l.94-2.06 2.06-.94-2.06-.94L8.5 2.5l-.94 2.06-2.06.94zm10 10l.94 2.06.94-2.06 2.06-.94-2.06-.94-.94-2.06-.94 2.06-2.06.94z\"/><path d=\"M17.41 7.96l-1.37-1.37c-.4-.4-.92-.59-1.43-.59-.52 0-1.04.2-1.43.59L10.3 9.45l-7.72 7.72c-.78.78-.78 2.05 0 2.83L4 21.41c.39.39.9.59 1.41.59.51 0 1.02-.2 1.41-.59l7.78-7.78 2.81-2.81c.8-.78.8-2.07 0-2.86zM5.41 20L4 18.59l7.72-7.72 1.47 1.35L5.41 20z\"/>\n",
              "  </svg>\n",
              "      </button>\n",
              "      \n",
              "  <style>\n",
              "    .colab-df-container {\n",
              "      display:flex;\n",
              "      flex-wrap:wrap;\n",
              "      gap: 12px;\n",
              "    }\n",
              "\n",
              "    .colab-df-convert {\n",
              "      background-color: #E8F0FE;\n",
              "      border: none;\n",
              "      border-radius: 50%;\n",
              "      cursor: pointer;\n",
              "      display: none;\n",
              "      fill: #1967D2;\n",
              "      height: 32px;\n",
              "      padding: 0 0 0 0;\n",
              "      width: 32px;\n",
              "    }\n",
              "\n",
              "    .colab-df-convert:hover {\n",
              "      background-color: #E2EBFA;\n",
              "      box-shadow: 0px 1px 2px rgba(60, 64, 67, 0.3), 0px 1px 3px 1px rgba(60, 64, 67, 0.15);\n",
              "      fill: #174EA6;\n",
              "    }\n",
              "\n",
              "    [theme=dark] .colab-df-convert {\n",
              "      background-color: #3B4455;\n",
              "      fill: #D2E3FC;\n",
              "    }\n",
              "\n",
              "    [theme=dark] .colab-df-convert:hover {\n",
              "      background-color: #434B5C;\n",
              "      box-shadow: 0px 1px 3px 1px rgba(0, 0, 0, 0.15);\n",
              "      filter: drop-shadow(0px 1px 2px rgba(0, 0, 0, 0.3));\n",
              "      fill: #FFFFFF;\n",
              "    }\n",
              "  </style>\n",
              "\n",
              "      <script>\n",
              "        const buttonEl =\n",
              "          document.querySelector('#df-387a97d0-451f-4163-ae4e-5fc184c62ad9 button.colab-df-convert');\n",
              "        buttonEl.style.display =\n",
              "          google.colab.kernel.accessAllowed ? 'block' : 'none';\n",
              "\n",
              "        async function convertToInteractive(key) {\n",
              "          const element = document.querySelector('#df-387a97d0-451f-4163-ae4e-5fc184c62ad9');\n",
              "          const dataTable =\n",
              "            await google.colab.kernel.invokeFunction('convertToInteractive',\n",
              "                                                     [key], {});\n",
              "          if (!dataTable) return;\n",
              "\n",
              "          const docLinkHtml = 'Like what you see? Visit the ' +\n",
              "            '<a target=\"_blank\" href=https://colab.research.google.com/notebooks/data_table.ipynb>data table notebook</a>'\n",
              "            + ' to learn more about interactive tables.';\n",
              "          element.innerHTML = '';\n",
              "          dataTable['output_type'] = 'display_data';\n",
              "          await google.colab.output.renderOutput(dataTable, element);\n",
              "          const docLink = document.createElement('div');\n",
              "          docLink.innerHTML = docLinkHtml;\n",
              "          element.appendChild(docLink);\n",
              "        }\n",
              "      </script>\n",
              "    </div>\n",
              "  </div>\n",
              "  "
            ]
          },
          "metadata": {},
          "execution_count": 175
        }
      ]
    },
    {
      "cell_type": "code",
      "source": [
        "df_g = pd.concat([df_g, enc_cat_bool], axis=1)\n",
        "df_g.head()"
      ],
      "metadata": {
        "id": "3HS70mYHwcxS",
        "colab": {
          "base_uri": "https://localhost:8080/",
          "height": 300
        },
        "outputId": "50ca880c-f759-45ea-a4be-fe0f1d916957"
      },
      "execution_count": 176,
      "outputs": [
        {
          "output_type": "execute_result",
          "data": {
            "text/plain": [
              "   serviceCharge  newlyConst balcony  telekomUploadSpeed    totalRent  \\\n",
              "0         245.00       False   False           10.000000   840.000000   \n",
              "1         134.00       False    True           10.000000   907.413955   \n",
              "2         255.00        True    True            2.400000  1300.000000   \n",
              "3          58.15       False    True           40.000000   907.413955   \n",
              "4         138.00       False    True           28.812074   903.000000   \n",
              "\n",
              "   yearConstructed  hasKitchen  cellar  baseRent  livingSpace  ...  \\\n",
              "0           1965.0       False    True     595.0     0.131173  ...   \n",
              "1           1871.0       False   False     800.0     0.135802  ...   \n",
              "2           2019.0       False    True     965.0     0.127778  ...   \n",
              "3           1964.0       False   False     343.0     0.088194  ...   \n",
              "4           1950.0       False   False     765.0     0.129583  ...   \n",
              "\n",
              "  numberOfFloors  garden          regio1_edit             heatingType_reduced  \\\n",
              "0       3.000000    True  Nordrhein_Westfalen                 central_heating   \n",
              "1       3.581273   False      Rheinland_Pfalz  self_contained_central_heating   \n",
              "2       4.000000   False              Sachsen                   floor_heating   \n",
              "3       3.581273   False              Sachsen                district_heating   \n",
              "4       3.581273   False                other  self_contained_central_heating   \n",
              "\n",
              "   newlyConst balcony  hasKitchen  cellar   lift  garden  \n",
              "0       False   False       False    True  False    True  \n",
              "1       False    True       False   False  False   False  \n",
              "2        True    True       False    True   True   False  \n",
              "3       False    True       False   False  False   False  \n",
              "4       False    True       False   False  False   False  \n",
              "\n",
              "[5 rows x 29 columns]"
            ],
            "text/html": [
              "\n",
              "  <div id=\"df-67f57ee4-1f65-431f-a853-4dc0c9ff2e54\">\n",
              "    <div class=\"colab-df-container\">\n",
              "      <div>\n",
              "<style scoped>\n",
              "    .dataframe tbody tr th:only-of-type {\n",
              "        vertical-align: middle;\n",
              "    }\n",
              "\n",
              "    .dataframe tbody tr th {\n",
              "        vertical-align: top;\n",
              "    }\n",
              "\n",
              "    .dataframe thead th {\n",
              "        text-align: right;\n",
              "    }\n",
              "</style>\n",
              "<table border=\"1\" class=\"dataframe\">\n",
              "  <thead>\n",
              "    <tr style=\"text-align: right;\">\n",
              "      <th></th>\n",
              "      <th>serviceCharge</th>\n",
              "      <th>newlyConst</th>\n",
              "      <th>balcony</th>\n",
              "      <th>telekomUploadSpeed</th>\n",
              "      <th>totalRent</th>\n",
              "      <th>yearConstructed</th>\n",
              "      <th>hasKitchen</th>\n",
              "      <th>cellar</th>\n",
              "      <th>baseRent</th>\n",
              "      <th>livingSpace</th>\n",
              "      <th>...</th>\n",
              "      <th>numberOfFloors</th>\n",
              "      <th>garden</th>\n",
              "      <th>regio1_edit</th>\n",
              "      <th>heatingType_reduced</th>\n",
              "      <th>newlyConst</th>\n",
              "      <th>balcony</th>\n",
              "      <th>hasKitchen</th>\n",
              "      <th>cellar</th>\n",
              "      <th>lift</th>\n",
              "      <th>garden</th>\n",
              "    </tr>\n",
              "  </thead>\n",
              "  <tbody>\n",
              "    <tr>\n",
              "      <th>0</th>\n",
              "      <td>245.00</td>\n",
              "      <td>False</td>\n",
              "      <td>False</td>\n",
              "      <td>10.000000</td>\n",
              "      <td>840.000000</td>\n",
              "      <td>1965.0</td>\n",
              "      <td>False</td>\n",
              "      <td>True</td>\n",
              "      <td>595.0</td>\n",
              "      <td>0.131173</td>\n",
              "      <td>...</td>\n",
              "      <td>3.000000</td>\n",
              "      <td>True</td>\n",
              "      <td>Nordrhein_Westfalen</td>\n",
              "      <td>central_heating</td>\n",
              "      <td>False</td>\n",
              "      <td>False</td>\n",
              "      <td>False</td>\n",
              "      <td>True</td>\n",
              "      <td>False</td>\n",
              "      <td>True</td>\n",
              "    </tr>\n",
              "    <tr>\n",
              "      <th>1</th>\n",
              "      <td>134.00</td>\n",
              "      <td>False</td>\n",
              "      <td>True</td>\n",
              "      <td>10.000000</td>\n",
              "      <td>907.413955</td>\n",
              "      <td>1871.0</td>\n",
              "      <td>False</td>\n",
              "      <td>False</td>\n",
              "      <td>800.0</td>\n",
              "      <td>0.135802</td>\n",
              "      <td>...</td>\n",
              "      <td>3.581273</td>\n",
              "      <td>False</td>\n",
              "      <td>Rheinland_Pfalz</td>\n",
              "      <td>self_contained_central_heating</td>\n",
              "      <td>False</td>\n",
              "      <td>True</td>\n",
              "      <td>False</td>\n",
              "      <td>False</td>\n",
              "      <td>False</td>\n",
              "      <td>False</td>\n",
              "    </tr>\n",
              "    <tr>\n",
              "      <th>2</th>\n",
              "      <td>255.00</td>\n",
              "      <td>True</td>\n",
              "      <td>True</td>\n",
              "      <td>2.400000</td>\n",
              "      <td>1300.000000</td>\n",
              "      <td>2019.0</td>\n",
              "      <td>False</td>\n",
              "      <td>True</td>\n",
              "      <td>965.0</td>\n",
              "      <td>0.127778</td>\n",
              "      <td>...</td>\n",
              "      <td>4.000000</td>\n",
              "      <td>False</td>\n",
              "      <td>Sachsen</td>\n",
              "      <td>floor_heating</td>\n",
              "      <td>True</td>\n",
              "      <td>True</td>\n",
              "      <td>False</td>\n",
              "      <td>True</td>\n",
              "      <td>True</td>\n",
              "      <td>False</td>\n",
              "    </tr>\n",
              "    <tr>\n",
              "      <th>3</th>\n",
              "      <td>58.15</td>\n",
              "      <td>False</td>\n",
              "      <td>True</td>\n",
              "      <td>40.000000</td>\n",
              "      <td>907.413955</td>\n",
              "      <td>1964.0</td>\n",
              "      <td>False</td>\n",
              "      <td>False</td>\n",
              "      <td>343.0</td>\n",
              "      <td>0.088194</td>\n",
              "      <td>...</td>\n",
              "      <td>3.581273</td>\n",
              "      <td>False</td>\n",
              "      <td>Sachsen</td>\n",
              "      <td>district_heating</td>\n",
              "      <td>False</td>\n",
              "      <td>True</td>\n",
              "      <td>False</td>\n",
              "      <td>False</td>\n",
              "      <td>False</td>\n",
              "      <td>False</td>\n",
              "    </tr>\n",
              "    <tr>\n",
              "      <th>4</th>\n",
              "      <td>138.00</td>\n",
              "      <td>False</td>\n",
              "      <td>True</td>\n",
              "      <td>28.812074</td>\n",
              "      <td>903.000000</td>\n",
              "      <td>1950.0</td>\n",
              "      <td>False</td>\n",
              "      <td>False</td>\n",
              "      <td>765.0</td>\n",
              "      <td>0.129583</td>\n",
              "      <td>...</td>\n",
              "      <td>3.581273</td>\n",
              "      <td>False</td>\n",
              "      <td>other</td>\n",
              "      <td>self_contained_central_heating</td>\n",
              "      <td>False</td>\n",
              "      <td>True</td>\n",
              "      <td>False</td>\n",
              "      <td>False</td>\n",
              "      <td>False</td>\n",
              "      <td>False</td>\n",
              "    </tr>\n",
              "  </tbody>\n",
              "</table>\n",
              "<p>5 rows × 29 columns</p>\n",
              "</div>\n",
              "      <button class=\"colab-df-convert\" onclick=\"convertToInteractive('df-67f57ee4-1f65-431f-a853-4dc0c9ff2e54')\"\n",
              "              title=\"Convert this dataframe to an interactive table.\"\n",
              "              style=\"display:none;\">\n",
              "        \n",
              "  <svg xmlns=\"http://www.w3.org/2000/svg\" height=\"24px\"viewBox=\"0 0 24 24\"\n",
              "       width=\"24px\">\n",
              "    <path d=\"M0 0h24v24H0V0z\" fill=\"none\"/>\n",
              "    <path d=\"M18.56 5.44l.94 2.06.94-2.06 2.06-.94-2.06-.94-.94-2.06-.94 2.06-2.06.94zm-11 1L8.5 8.5l.94-2.06 2.06-.94-2.06-.94L8.5 2.5l-.94 2.06-2.06.94zm10 10l.94 2.06.94-2.06 2.06-.94-2.06-.94-.94-2.06-.94 2.06-2.06.94z\"/><path d=\"M17.41 7.96l-1.37-1.37c-.4-.4-.92-.59-1.43-.59-.52 0-1.04.2-1.43.59L10.3 9.45l-7.72 7.72c-.78.78-.78 2.05 0 2.83L4 21.41c.39.39.9.59 1.41.59.51 0 1.02-.2 1.41-.59l7.78-7.78 2.81-2.81c.8-.78.8-2.07 0-2.86zM5.41 20L4 18.59l7.72-7.72 1.47 1.35L5.41 20z\"/>\n",
              "  </svg>\n",
              "      </button>\n",
              "      \n",
              "  <style>\n",
              "    .colab-df-container {\n",
              "      display:flex;\n",
              "      flex-wrap:wrap;\n",
              "      gap: 12px;\n",
              "    }\n",
              "\n",
              "    .colab-df-convert {\n",
              "      background-color: #E8F0FE;\n",
              "      border: none;\n",
              "      border-radius: 50%;\n",
              "      cursor: pointer;\n",
              "      display: none;\n",
              "      fill: #1967D2;\n",
              "      height: 32px;\n",
              "      padding: 0 0 0 0;\n",
              "      width: 32px;\n",
              "    }\n",
              "\n",
              "    .colab-df-convert:hover {\n",
              "      background-color: #E2EBFA;\n",
              "      box-shadow: 0px 1px 2px rgba(60, 64, 67, 0.3), 0px 1px 3px 1px rgba(60, 64, 67, 0.15);\n",
              "      fill: #174EA6;\n",
              "    }\n",
              "\n",
              "    [theme=dark] .colab-df-convert {\n",
              "      background-color: #3B4455;\n",
              "      fill: #D2E3FC;\n",
              "    }\n",
              "\n",
              "    [theme=dark] .colab-df-convert:hover {\n",
              "      background-color: #434B5C;\n",
              "      box-shadow: 0px 1px 3px 1px rgba(0, 0, 0, 0.15);\n",
              "      filter: drop-shadow(0px 1px 2px rgba(0, 0, 0, 0.3));\n",
              "      fill: #FFFFFF;\n",
              "    }\n",
              "  </style>\n",
              "\n",
              "      <script>\n",
              "        const buttonEl =\n",
              "          document.querySelector('#df-67f57ee4-1f65-431f-a853-4dc0c9ff2e54 button.colab-df-convert');\n",
              "        buttonEl.style.display =\n",
              "          google.colab.kernel.accessAllowed ? 'block' : 'none';\n",
              "\n",
              "        async function convertToInteractive(key) {\n",
              "          const element = document.querySelector('#df-67f57ee4-1f65-431f-a853-4dc0c9ff2e54');\n",
              "          const dataTable =\n",
              "            await google.colab.kernel.invokeFunction('convertToInteractive',\n",
              "                                                     [key], {});\n",
              "          if (!dataTable) return;\n",
              "\n",
              "          const docLinkHtml = 'Like what you see? Visit the ' +\n",
              "            '<a target=\"_blank\" href=https://colab.research.google.com/notebooks/data_table.ipynb>data table notebook</a>'\n",
              "            + ' to learn more about interactive tables.';\n",
              "          element.innerHTML = '';\n",
              "          dataTable['output_type'] = 'display_data';\n",
              "          await google.colab.output.renderOutput(dataTable, element);\n",
              "          const docLink = document.createElement('div');\n",
              "          docLink.innerHTML = docLinkHtml;\n",
              "          element.appendChild(docLink);\n",
              "        }\n",
              "      </script>\n",
              "    </div>\n",
              "  </div>\n",
              "  "
            ]
          },
          "metadata": {},
          "execution_count": 176
        }
      ]
    },
    {
      "cell_type": "code",
      "source": [
        "df_g = df_g.drop(columns=cat_bol)\n",
        "df_g.head()"
      ],
      "metadata": {
        "id": "YBV0yYaLwh90",
        "colab": {
          "base_uri": "https://localhost:8080/",
          "height": 270
        },
        "outputId": "0cc98cc3-cfed-4bbd-b122-45df1dee2971"
      },
      "execution_count": 177,
      "outputs": [
        {
          "output_type": "execute_result",
          "data": {
            "text/plain": [
              "   serviceCharge  telekomUploadSpeed    totalRent  yearConstructed  baseRent  \\\n",
              "0         245.00           10.000000   840.000000           1965.0     595.0   \n",
              "1         134.00           10.000000   907.413955           1871.0     800.0   \n",
              "2         255.00            2.400000  1300.000000           2019.0     965.0   \n",
              "3          58.15           40.000000   907.413955           1964.0     343.0   \n",
              "4         138.00           28.812074   903.000000           1950.0     765.0   \n",
              "\n",
              "   livingSpace  condition   interiorQual petsAllowed  baseRentRange  \\\n",
              "0     0.131173  mid_class         normal  negotiable              4   \n",
              "1     0.135802  mid_class         normal          no              5   \n",
              "2     0.127778        new  sophisticated  negotiable              6   \n",
              "3     0.088194  mid_class         normal  negotiable              2   \n",
              "4     0.129583  mid_class         normal  negotiable              5   \n",
              "\n",
              "     typeOfFlat   noRooms  thermalChar     floor  numberOfFloors  \\\n",
              "0  ground_floor  0.666667   181.400000  1.000000        3.000000   \n",
              "1  ground_floor  0.444444   114.535827  2.124959        3.581273   \n",
              "2     apartment  0.444444   114.535827  3.000000        4.000000   \n",
              "3         other  0.444444    86.000000  3.000000        3.581273   \n",
              "4     apartment  0.444444   188.900000  1.000000        3.581273   \n",
              "\n",
              "           regio1_edit             heatingType_reduced  \n",
              "0  Nordrhein_Westfalen                 central_heating  \n",
              "1      Rheinland_Pfalz  self_contained_central_heating  \n",
              "2              Sachsen                   floor_heating  \n",
              "3              Sachsen                district_heating  \n",
              "4                other  self_contained_central_heating  "
            ],
            "text/html": [
              "\n",
              "  <div id=\"df-bafd62bf-599a-4eb9-8ebe-2072bb983b52\">\n",
              "    <div class=\"colab-df-container\">\n",
              "      <div>\n",
              "<style scoped>\n",
              "    .dataframe tbody tr th:only-of-type {\n",
              "        vertical-align: middle;\n",
              "    }\n",
              "\n",
              "    .dataframe tbody tr th {\n",
              "        vertical-align: top;\n",
              "    }\n",
              "\n",
              "    .dataframe thead th {\n",
              "        text-align: right;\n",
              "    }\n",
              "</style>\n",
              "<table border=\"1\" class=\"dataframe\">\n",
              "  <thead>\n",
              "    <tr style=\"text-align: right;\">\n",
              "      <th></th>\n",
              "      <th>serviceCharge</th>\n",
              "      <th>telekomUploadSpeed</th>\n",
              "      <th>totalRent</th>\n",
              "      <th>yearConstructed</th>\n",
              "      <th>baseRent</th>\n",
              "      <th>livingSpace</th>\n",
              "      <th>condition</th>\n",
              "      <th>interiorQual</th>\n",
              "      <th>petsAllowed</th>\n",
              "      <th>baseRentRange</th>\n",
              "      <th>typeOfFlat</th>\n",
              "      <th>noRooms</th>\n",
              "      <th>thermalChar</th>\n",
              "      <th>floor</th>\n",
              "      <th>numberOfFloors</th>\n",
              "      <th>regio1_edit</th>\n",
              "      <th>heatingType_reduced</th>\n",
              "    </tr>\n",
              "  </thead>\n",
              "  <tbody>\n",
              "    <tr>\n",
              "      <th>0</th>\n",
              "      <td>245.00</td>\n",
              "      <td>10.000000</td>\n",
              "      <td>840.000000</td>\n",
              "      <td>1965.0</td>\n",
              "      <td>595.0</td>\n",
              "      <td>0.131173</td>\n",
              "      <td>mid_class</td>\n",
              "      <td>normal</td>\n",
              "      <td>negotiable</td>\n",
              "      <td>4</td>\n",
              "      <td>ground_floor</td>\n",
              "      <td>0.666667</td>\n",
              "      <td>181.400000</td>\n",
              "      <td>1.000000</td>\n",
              "      <td>3.000000</td>\n",
              "      <td>Nordrhein_Westfalen</td>\n",
              "      <td>central_heating</td>\n",
              "    </tr>\n",
              "    <tr>\n",
              "      <th>1</th>\n",
              "      <td>134.00</td>\n",
              "      <td>10.000000</td>\n",
              "      <td>907.413955</td>\n",
              "      <td>1871.0</td>\n",
              "      <td>800.0</td>\n",
              "      <td>0.135802</td>\n",
              "      <td>mid_class</td>\n",
              "      <td>normal</td>\n",
              "      <td>no</td>\n",
              "      <td>5</td>\n",
              "      <td>ground_floor</td>\n",
              "      <td>0.444444</td>\n",
              "      <td>114.535827</td>\n",
              "      <td>2.124959</td>\n",
              "      <td>3.581273</td>\n",
              "      <td>Rheinland_Pfalz</td>\n",
              "      <td>self_contained_central_heating</td>\n",
              "    </tr>\n",
              "    <tr>\n",
              "      <th>2</th>\n",
              "      <td>255.00</td>\n",
              "      <td>2.400000</td>\n",
              "      <td>1300.000000</td>\n",
              "      <td>2019.0</td>\n",
              "      <td>965.0</td>\n",
              "      <td>0.127778</td>\n",
              "      <td>new</td>\n",
              "      <td>sophisticated</td>\n",
              "      <td>negotiable</td>\n",
              "      <td>6</td>\n",
              "      <td>apartment</td>\n",
              "      <td>0.444444</td>\n",
              "      <td>114.535827</td>\n",
              "      <td>3.000000</td>\n",
              "      <td>4.000000</td>\n",
              "      <td>Sachsen</td>\n",
              "      <td>floor_heating</td>\n",
              "    </tr>\n",
              "    <tr>\n",
              "      <th>3</th>\n",
              "      <td>58.15</td>\n",
              "      <td>40.000000</td>\n",
              "      <td>907.413955</td>\n",
              "      <td>1964.0</td>\n",
              "      <td>343.0</td>\n",
              "      <td>0.088194</td>\n",
              "      <td>mid_class</td>\n",
              "      <td>normal</td>\n",
              "      <td>negotiable</td>\n",
              "      <td>2</td>\n",
              "      <td>other</td>\n",
              "      <td>0.444444</td>\n",
              "      <td>86.000000</td>\n",
              "      <td>3.000000</td>\n",
              "      <td>3.581273</td>\n",
              "      <td>Sachsen</td>\n",
              "      <td>district_heating</td>\n",
              "    </tr>\n",
              "    <tr>\n",
              "      <th>4</th>\n",
              "      <td>138.00</td>\n",
              "      <td>28.812074</td>\n",
              "      <td>903.000000</td>\n",
              "      <td>1950.0</td>\n",
              "      <td>765.0</td>\n",
              "      <td>0.129583</td>\n",
              "      <td>mid_class</td>\n",
              "      <td>normal</td>\n",
              "      <td>negotiable</td>\n",
              "      <td>5</td>\n",
              "      <td>apartment</td>\n",
              "      <td>0.444444</td>\n",
              "      <td>188.900000</td>\n",
              "      <td>1.000000</td>\n",
              "      <td>3.581273</td>\n",
              "      <td>other</td>\n",
              "      <td>self_contained_central_heating</td>\n",
              "    </tr>\n",
              "  </tbody>\n",
              "</table>\n",
              "</div>\n",
              "      <button class=\"colab-df-convert\" onclick=\"convertToInteractive('df-bafd62bf-599a-4eb9-8ebe-2072bb983b52')\"\n",
              "              title=\"Convert this dataframe to an interactive table.\"\n",
              "              style=\"display:none;\">\n",
              "        \n",
              "  <svg xmlns=\"http://www.w3.org/2000/svg\" height=\"24px\"viewBox=\"0 0 24 24\"\n",
              "       width=\"24px\">\n",
              "    <path d=\"M0 0h24v24H0V0z\" fill=\"none\"/>\n",
              "    <path d=\"M18.56 5.44l.94 2.06.94-2.06 2.06-.94-2.06-.94-.94-2.06-.94 2.06-2.06.94zm-11 1L8.5 8.5l.94-2.06 2.06-.94-2.06-.94L8.5 2.5l-.94 2.06-2.06.94zm10 10l.94 2.06.94-2.06 2.06-.94-2.06-.94-.94-2.06-.94 2.06-2.06.94z\"/><path d=\"M17.41 7.96l-1.37-1.37c-.4-.4-.92-.59-1.43-.59-.52 0-1.04.2-1.43.59L10.3 9.45l-7.72 7.72c-.78.78-.78 2.05 0 2.83L4 21.41c.39.39.9.59 1.41.59.51 0 1.02-.2 1.41-.59l7.78-7.78 2.81-2.81c.8-.78.8-2.07 0-2.86zM5.41 20L4 18.59l7.72-7.72 1.47 1.35L5.41 20z\"/>\n",
              "  </svg>\n",
              "      </button>\n",
              "      \n",
              "  <style>\n",
              "    .colab-df-container {\n",
              "      display:flex;\n",
              "      flex-wrap:wrap;\n",
              "      gap: 12px;\n",
              "    }\n",
              "\n",
              "    .colab-df-convert {\n",
              "      background-color: #E8F0FE;\n",
              "      border: none;\n",
              "      border-radius: 50%;\n",
              "      cursor: pointer;\n",
              "      display: none;\n",
              "      fill: #1967D2;\n",
              "      height: 32px;\n",
              "      padding: 0 0 0 0;\n",
              "      width: 32px;\n",
              "    }\n",
              "\n",
              "    .colab-df-convert:hover {\n",
              "      background-color: #E2EBFA;\n",
              "      box-shadow: 0px 1px 2px rgba(60, 64, 67, 0.3), 0px 1px 3px 1px rgba(60, 64, 67, 0.15);\n",
              "      fill: #174EA6;\n",
              "    }\n",
              "\n",
              "    [theme=dark] .colab-df-convert {\n",
              "      background-color: #3B4455;\n",
              "      fill: #D2E3FC;\n",
              "    }\n",
              "\n",
              "    [theme=dark] .colab-df-convert:hover {\n",
              "      background-color: #434B5C;\n",
              "      box-shadow: 0px 1px 3px 1px rgba(0, 0, 0, 0.15);\n",
              "      filter: drop-shadow(0px 1px 2px rgba(0, 0, 0, 0.3));\n",
              "      fill: #FFFFFF;\n",
              "    }\n",
              "  </style>\n",
              "\n",
              "      <script>\n",
              "        const buttonEl =\n",
              "          document.querySelector('#df-bafd62bf-599a-4eb9-8ebe-2072bb983b52 button.colab-df-convert');\n",
              "        buttonEl.style.display =\n",
              "          google.colab.kernel.accessAllowed ? 'block' : 'none';\n",
              "\n",
              "        async function convertToInteractive(key) {\n",
              "          const element = document.querySelector('#df-bafd62bf-599a-4eb9-8ebe-2072bb983b52');\n",
              "          const dataTable =\n",
              "            await google.colab.kernel.invokeFunction('convertToInteractive',\n",
              "                                                     [key], {});\n",
              "          if (!dataTable) return;\n",
              "\n",
              "          const docLinkHtml = 'Like what you see? Visit the ' +\n",
              "            '<a target=\"_blank\" href=https://colab.research.google.com/notebooks/data_table.ipynb>data table notebook</a>'\n",
              "            + ' to learn more about interactive tables.';\n",
              "          element.innerHTML = '';\n",
              "          dataTable['output_type'] = 'display_data';\n",
              "          await google.colab.output.renderOutput(dataTable, element);\n",
              "          const docLink = document.createElement('div');\n",
              "          docLink.innerHTML = docLinkHtml;\n",
              "          element.appendChild(docLink);\n",
              "        }\n",
              "      </script>\n",
              "    </div>\n",
              "  </div>\n",
              "  "
            ]
          },
          "metadata": {},
          "execution_count": 177
        }
      ]
    },
    {
      "cell_type": "markdown",
      "source": [
        "object types:"
      ],
      "metadata": {
        "id": "33hxruObwsMW"
      }
    },
    {
      "cell_type": "code",
      "source": [
        "# checking features\n",
        "cat = df_g.select_dtypes(include='O').keys()\n",
        "# display variabels\n",
        "cat"
      ],
      "metadata": {
        "colab": {
          "base_uri": "https://localhost:8080/"
        },
        "id": "KNF9X0KnD-EI",
        "outputId": "35ed70aa-609f-453c-af34-ed57c0849c6f"
      },
      "execution_count": 178,
      "outputs": [
        {
          "output_type": "execute_result",
          "data": {
            "text/plain": [
              "Index(['condition', 'interiorQual', 'petsAllowed', 'typeOfFlat', 'regio1_edit',\n",
              "       'heatingType_reduced'],\n",
              "      dtype='object')"
            ]
          },
          "metadata": {},
          "execution_count": 178
        }
      ]
    },
    {
      "cell_type": "code",
      "source": [
        "for each in df_g[cat]:\n",
        "  print(each,df_g[each].nunique())"
      ],
      "metadata": {
        "colab": {
          "base_uri": "https://localhost:8080/"
        },
        "id": "gdtLQf-HMPgR",
        "outputId": "9726c301-3421-41f7-e028-09034ea993c3"
      },
      "execution_count": 179,
      "outputs": [
        {
          "output_type": "stream",
          "name": "stdout",
          "text": [
            "condition 3\n",
            "interiorQual 4\n",
            "petsAllowed 3\n",
            "typeOfFlat 10\n",
            "regio1_edit 14\n",
            "heatingType_reduced 6\n"
          ]
        }
      ]
    },
    {
      "cell_type": "code",
      "source": [
        "new_df=df_g[cat]\n",
        "new_df.columns"
      ],
      "metadata": {
        "colab": {
          "base_uri": "https://localhost:8080/"
        },
        "id": "0rGoo0GfPdG1",
        "outputId": "90cb2e18-87ff-461d-8ca4-64291bd95b52"
      },
      "execution_count": 180,
      "outputs": [
        {
          "output_type": "execute_result",
          "data": {
            "text/plain": [
              "Index(['condition', 'interiorQual', 'petsAllowed', 'typeOfFlat', 'regio1_edit',\n",
              "       'heatingType_reduced'],\n",
              "      dtype='object')"
            ]
          },
          "metadata": {},
          "execution_count": 180
        }
      ]
    },
    {
      "cell_type": "code",
      "source": [
        "# finding the top 10 categories\n",
        "new_df.regio1_edit .value_counts().sort_values(ascending=False).head(10)"
      ],
      "metadata": {
        "colab": {
          "base_uri": "https://localhost:8080/"
        },
        "id": "w4YcYDbgPQ2d",
        "outputId": "7b207833-7dc9-4028-e1e8-fc37be9a7b36"
      },
      "execution_count": 181,
      "outputs": [
        {
          "output_type": "execute_result",
          "data": {
            "text/plain": [
              "Nordrhein_Westfalen    55838\n",
              "Sachsen                53653\n",
              "Bayern                 19196\n",
              "Sachsen_Anhalt         18612\n",
              "Hessen                 15631\n",
              "Niedersachsen          15013\n",
              "Baden_Württemberg      14329\n",
              "Thüringen               7764\n",
              "Rheinland_Pfalz         7561\n",
              "other                   7272\n",
              "Name: regio1_edit, dtype: int64"
            ]
          },
          "metadata": {},
          "execution_count": 181
        }
      ]
    },
    {
      "cell_type": "code",
      "source": [
        "# make list with top 10 variables\n",
        "top_10 = [x for x in new_df.regio1_edit.value_counts().sort_values(ascending=False).head(10).index]\n",
        "top_10"
      ],
      "metadata": {
        "colab": {
          "base_uri": "https://localhost:8080/"
        },
        "id": "kj8TOhUZP9Wi",
        "outputId": "1374cf83-7b16-4802-8a13-4fb26ca4fb92"
      },
      "execution_count": 182,
      "outputs": [
        {
          "output_type": "execute_result",
          "data": {
            "text/plain": [
              "['Nordrhein_Westfalen',\n",
              " 'Sachsen',\n",
              " 'Bayern',\n",
              " 'Sachsen_Anhalt',\n",
              " 'Hessen',\n",
              " 'Niedersachsen',\n",
              " 'Baden_Württemberg',\n",
              " 'Thüringen',\n",
              " 'Rheinland_Pfalz',\n",
              " 'other']"
            ]
          },
          "metadata": {},
          "execution_count": 182
        }
      ]
    },
    {
      "cell_type": "code",
      "source": [
        "enc_cat = pd.get_dummies(df_g[cat])\n",
        "enc_cat.head() "
      ],
      "metadata": {
        "colab": {
          "base_uri": "https://localhost:8080/",
          "height": 300
        },
        "id": "53qHlFXzfjhf",
        "outputId": "79701030-40cd-45e4-bac9-c0a112af5e14"
      },
      "execution_count": 183,
      "outputs": [
        {
          "output_type": "execute_result",
          "data": {
            "text/plain": [
              "   condition_mid_class  condition_new  condition_old  interiorQual_luxury  \\\n",
              "0                    1              0              0                    0   \n",
              "1                    1              0              0                    0   \n",
              "2                    0              1              0                    0   \n",
              "3                    1              0              0                    0   \n",
              "4                    1              0              0                    0   \n",
              "\n",
              "   interiorQual_normal  interiorQual_simple  interiorQual_sophisticated  \\\n",
              "0                    1                    0                           0   \n",
              "1                    1                    0                           0   \n",
              "2                    0                    0                           1   \n",
              "3                    1                    0                           0   \n",
              "4                    1                    0                           0   \n",
              "\n",
              "   petsAllowed_negotiable  petsAllowed_no  petsAllowed_yes  ...  \\\n",
              "0                       1               0                0  ...   \n",
              "1                       0               1                0  ...   \n",
              "2                       1               0                0  ...   \n",
              "3                       1               0                0  ...   \n",
              "4                       1               0                0  ...   \n",
              "\n",
              "   regio1_edit_Sachsen_Anhalt  regio1_edit_Schleswig_Holstein  \\\n",
              "0                           0                               0   \n",
              "1                           0                               0   \n",
              "2                           0                               0   \n",
              "3                           0                               0   \n",
              "4                           0                               0   \n",
              "\n",
              "   regio1_edit_Thüringen  regio1_edit_other  \\\n",
              "0                      0                  0   \n",
              "1                      0                  0   \n",
              "2                      0                  0   \n",
              "3                      0                  0   \n",
              "4                      0                  1   \n",
              "\n",
              "   heatingType_reduced_central_heating  heatingType_reduced_district_heating  \\\n",
              "0                                    1                                     0   \n",
              "1                                    0                                     0   \n",
              "2                                    0                                     0   \n",
              "3                                    0                                     1   \n",
              "4                                    0                                     0   \n",
              "\n",
              "   heatingType_reduced_floor_heating  heatingType_reduced_gas_heating  \\\n",
              "0                                  0                                0   \n",
              "1                                  0                                0   \n",
              "2                                  1                                0   \n",
              "3                                  0                                0   \n",
              "4                                  0                                0   \n",
              "\n",
              "   heatingType_reduced_other  \\\n",
              "0                          0   \n",
              "1                          0   \n",
              "2                          0   \n",
              "3                          0   \n",
              "4                          0   \n",
              "\n",
              "   heatingType_reduced_self_contained_central_heating  \n",
              "0                                                  0   \n",
              "1                                                  1   \n",
              "2                                                  0   \n",
              "3                                                  0   \n",
              "4                                                  1   \n",
              "\n",
              "[5 rows x 40 columns]"
            ],
            "text/html": [
              "\n",
              "  <div id=\"df-59aa73f6-30d4-4d03-8866-d9455d170395\">\n",
              "    <div class=\"colab-df-container\">\n",
              "      <div>\n",
              "<style scoped>\n",
              "    .dataframe tbody tr th:only-of-type {\n",
              "        vertical-align: middle;\n",
              "    }\n",
              "\n",
              "    .dataframe tbody tr th {\n",
              "        vertical-align: top;\n",
              "    }\n",
              "\n",
              "    .dataframe thead th {\n",
              "        text-align: right;\n",
              "    }\n",
              "</style>\n",
              "<table border=\"1\" class=\"dataframe\">\n",
              "  <thead>\n",
              "    <tr style=\"text-align: right;\">\n",
              "      <th></th>\n",
              "      <th>condition_mid_class</th>\n",
              "      <th>condition_new</th>\n",
              "      <th>condition_old</th>\n",
              "      <th>interiorQual_luxury</th>\n",
              "      <th>interiorQual_normal</th>\n",
              "      <th>interiorQual_simple</th>\n",
              "      <th>interiorQual_sophisticated</th>\n",
              "      <th>petsAllowed_negotiable</th>\n",
              "      <th>petsAllowed_no</th>\n",
              "      <th>petsAllowed_yes</th>\n",
              "      <th>...</th>\n",
              "      <th>regio1_edit_Sachsen_Anhalt</th>\n",
              "      <th>regio1_edit_Schleswig_Holstein</th>\n",
              "      <th>regio1_edit_Thüringen</th>\n",
              "      <th>regio1_edit_other</th>\n",
              "      <th>heatingType_reduced_central_heating</th>\n",
              "      <th>heatingType_reduced_district_heating</th>\n",
              "      <th>heatingType_reduced_floor_heating</th>\n",
              "      <th>heatingType_reduced_gas_heating</th>\n",
              "      <th>heatingType_reduced_other</th>\n",
              "      <th>heatingType_reduced_self_contained_central_heating</th>\n",
              "    </tr>\n",
              "  </thead>\n",
              "  <tbody>\n",
              "    <tr>\n",
              "      <th>0</th>\n",
              "      <td>1</td>\n",
              "      <td>0</td>\n",
              "      <td>0</td>\n",
              "      <td>0</td>\n",
              "      <td>1</td>\n",
              "      <td>0</td>\n",
              "      <td>0</td>\n",
              "      <td>1</td>\n",
              "      <td>0</td>\n",
              "      <td>0</td>\n",
              "      <td>...</td>\n",
              "      <td>0</td>\n",
              "      <td>0</td>\n",
              "      <td>0</td>\n",
              "      <td>0</td>\n",
              "      <td>1</td>\n",
              "      <td>0</td>\n",
              "      <td>0</td>\n",
              "      <td>0</td>\n",
              "      <td>0</td>\n",
              "      <td>0</td>\n",
              "    </tr>\n",
              "    <tr>\n",
              "      <th>1</th>\n",
              "      <td>1</td>\n",
              "      <td>0</td>\n",
              "      <td>0</td>\n",
              "      <td>0</td>\n",
              "      <td>1</td>\n",
              "      <td>0</td>\n",
              "      <td>0</td>\n",
              "      <td>0</td>\n",
              "      <td>1</td>\n",
              "      <td>0</td>\n",
              "      <td>...</td>\n",
              "      <td>0</td>\n",
              "      <td>0</td>\n",
              "      <td>0</td>\n",
              "      <td>0</td>\n",
              "      <td>0</td>\n",
              "      <td>0</td>\n",
              "      <td>0</td>\n",
              "      <td>0</td>\n",
              "      <td>0</td>\n",
              "      <td>1</td>\n",
              "    </tr>\n",
              "    <tr>\n",
              "      <th>2</th>\n",
              "      <td>0</td>\n",
              "      <td>1</td>\n",
              "      <td>0</td>\n",
              "      <td>0</td>\n",
              "      <td>0</td>\n",
              "      <td>0</td>\n",
              "      <td>1</td>\n",
              "      <td>1</td>\n",
              "      <td>0</td>\n",
              "      <td>0</td>\n",
              "      <td>...</td>\n",
              "      <td>0</td>\n",
              "      <td>0</td>\n",
              "      <td>0</td>\n",
              "      <td>0</td>\n",
              "      <td>0</td>\n",
              "      <td>0</td>\n",
              "      <td>1</td>\n",
              "      <td>0</td>\n",
              "      <td>0</td>\n",
              "      <td>0</td>\n",
              "    </tr>\n",
              "    <tr>\n",
              "      <th>3</th>\n",
              "      <td>1</td>\n",
              "      <td>0</td>\n",
              "      <td>0</td>\n",
              "      <td>0</td>\n",
              "      <td>1</td>\n",
              "      <td>0</td>\n",
              "      <td>0</td>\n",
              "      <td>1</td>\n",
              "      <td>0</td>\n",
              "      <td>0</td>\n",
              "      <td>...</td>\n",
              "      <td>0</td>\n",
              "      <td>0</td>\n",
              "      <td>0</td>\n",
              "      <td>0</td>\n",
              "      <td>0</td>\n",
              "      <td>1</td>\n",
              "      <td>0</td>\n",
              "      <td>0</td>\n",
              "      <td>0</td>\n",
              "      <td>0</td>\n",
              "    </tr>\n",
              "    <tr>\n",
              "      <th>4</th>\n",
              "      <td>1</td>\n",
              "      <td>0</td>\n",
              "      <td>0</td>\n",
              "      <td>0</td>\n",
              "      <td>1</td>\n",
              "      <td>0</td>\n",
              "      <td>0</td>\n",
              "      <td>1</td>\n",
              "      <td>0</td>\n",
              "      <td>0</td>\n",
              "      <td>...</td>\n",
              "      <td>0</td>\n",
              "      <td>0</td>\n",
              "      <td>0</td>\n",
              "      <td>1</td>\n",
              "      <td>0</td>\n",
              "      <td>0</td>\n",
              "      <td>0</td>\n",
              "      <td>0</td>\n",
              "      <td>0</td>\n",
              "      <td>1</td>\n",
              "    </tr>\n",
              "  </tbody>\n",
              "</table>\n",
              "<p>5 rows × 40 columns</p>\n",
              "</div>\n",
              "      <button class=\"colab-df-convert\" onclick=\"convertToInteractive('df-59aa73f6-30d4-4d03-8866-d9455d170395')\"\n",
              "              title=\"Convert this dataframe to an interactive table.\"\n",
              "              style=\"display:none;\">\n",
              "        \n",
              "  <svg xmlns=\"http://www.w3.org/2000/svg\" height=\"24px\"viewBox=\"0 0 24 24\"\n",
              "       width=\"24px\">\n",
              "    <path d=\"M0 0h24v24H0V0z\" fill=\"none\"/>\n",
              "    <path d=\"M18.56 5.44l.94 2.06.94-2.06 2.06-.94-2.06-.94-.94-2.06-.94 2.06-2.06.94zm-11 1L8.5 8.5l.94-2.06 2.06-.94-2.06-.94L8.5 2.5l-.94 2.06-2.06.94zm10 10l.94 2.06.94-2.06 2.06-.94-2.06-.94-.94-2.06-.94 2.06-2.06.94z\"/><path d=\"M17.41 7.96l-1.37-1.37c-.4-.4-.92-.59-1.43-.59-.52 0-1.04.2-1.43.59L10.3 9.45l-7.72 7.72c-.78.78-.78 2.05 0 2.83L4 21.41c.39.39.9.59 1.41.59.51 0 1.02-.2 1.41-.59l7.78-7.78 2.81-2.81c.8-.78.8-2.07 0-2.86zM5.41 20L4 18.59l7.72-7.72 1.47 1.35L5.41 20z\"/>\n",
              "  </svg>\n",
              "      </button>\n",
              "      \n",
              "  <style>\n",
              "    .colab-df-container {\n",
              "      display:flex;\n",
              "      flex-wrap:wrap;\n",
              "      gap: 12px;\n",
              "    }\n",
              "\n",
              "    .colab-df-convert {\n",
              "      background-color: #E8F0FE;\n",
              "      border: none;\n",
              "      border-radius: 50%;\n",
              "      cursor: pointer;\n",
              "      display: none;\n",
              "      fill: #1967D2;\n",
              "      height: 32px;\n",
              "      padding: 0 0 0 0;\n",
              "      width: 32px;\n",
              "    }\n",
              "\n",
              "    .colab-df-convert:hover {\n",
              "      background-color: #E2EBFA;\n",
              "      box-shadow: 0px 1px 2px rgba(60, 64, 67, 0.3), 0px 1px 3px 1px rgba(60, 64, 67, 0.15);\n",
              "      fill: #174EA6;\n",
              "    }\n",
              "\n",
              "    [theme=dark] .colab-df-convert {\n",
              "      background-color: #3B4455;\n",
              "      fill: #D2E3FC;\n",
              "    }\n",
              "\n",
              "    [theme=dark] .colab-df-convert:hover {\n",
              "      background-color: #434B5C;\n",
              "      box-shadow: 0px 1px 3px 1px rgba(0, 0, 0, 0.15);\n",
              "      filter: drop-shadow(0px 1px 2px rgba(0, 0, 0, 0.3));\n",
              "      fill: #FFFFFF;\n",
              "    }\n",
              "  </style>\n",
              "\n",
              "      <script>\n",
              "        const buttonEl =\n",
              "          document.querySelector('#df-59aa73f6-30d4-4d03-8866-d9455d170395 button.colab-df-convert');\n",
              "        buttonEl.style.display =\n",
              "          google.colab.kernel.accessAllowed ? 'block' : 'none';\n",
              "\n",
              "        async function convertToInteractive(key) {\n",
              "          const element = document.querySelector('#df-59aa73f6-30d4-4d03-8866-d9455d170395');\n",
              "          const dataTable =\n",
              "            await google.colab.kernel.invokeFunction('convertToInteractive',\n",
              "                                                     [key], {});\n",
              "          if (!dataTable) return;\n",
              "\n",
              "          const docLinkHtml = 'Like what you see? Visit the ' +\n",
              "            '<a target=\"_blank\" href=https://colab.research.google.com/notebooks/data_table.ipynb>data table notebook</a>'\n",
              "            + ' to learn more about interactive tables.';\n",
              "          element.innerHTML = '';\n",
              "          dataTable['output_type'] = 'display_data';\n",
              "          await google.colab.output.renderOutput(dataTable, element);\n",
              "          const docLink = document.createElement('div');\n",
              "          docLink.innerHTML = docLinkHtml;\n",
              "          element.appendChild(docLink);\n",
              "        }\n",
              "      </script>\n",
              "    </div>\n",
              "  </div>\n",
              "  "
            ]
          },
          "metadata": {},
          "execution_count": 183
        }
      ]
    },
    {
      "cell_type": "code",
      "source": [
        "df_g = pd.concat([df_g, enc_cat], axis=1)\n",
        "df_g.head()"
      ],
      "metadata": {
        "colab": {
          "base_uri": "https://localhost:8080/",
          "height": 300
        },
        "id": "C0bPW7vcdoQp",
        "outputId": "b657ee88-61af-4354-9701-31f7c0feef5c"
      },
      "execution_count": 184,
      "outputs": [
        {
          "output_type": "execute_result",
          "data": {
            "text/plain": [
              "   serviceCharge  telekomUploadSpeed    totalRent  yearConstructed  baseRent  \\\n",
              "0         245.00           10.000000   840.000000           1965.0     595.0   \n",
              "1         134.00           10.000000   907.413955           1871.0     800.0   \n",
              "2         255.00            2.400000  1300.000000           2019.0     965.0   \n",
              "3          58.15           40.000000   907.413955           1964.0     343.0   \n",
              "4         138.00           28.812074   903.000000           1950.0     765.0   \n",
              "\n",
              "   livingSpace  condition   interiorQual petsAllowed  baseRentRange  ...  \\\n",
              "0     0.131173  mid_class         normal  negotiable              4  ...   \n",
              "1     0.135802  mid_class         normal          no              5  ...   \n",
              "2     0.127778        new  sophisticated  negotiable              6  ...   \n",
              "3     0.088194  mid_class         normal  negotiable              2  ...   \n",
              "4     0.129583  mid_class         normal  negotiable              5  ...   \n",
              "\n",
              "  regio1_edit_Sachsen_Anhalt  regio1_edit_Schleswig_Holstein  \\\n",
              "0                          0                               0   \n",
              "1                          0                               0   \n",
              "2                          0                               0   \n",
              "3                          0                               0   \n",
              "4                          0                               0   \n",
              "\n",
              "   regio1_edit_Thüringen  regio1_edit_other  \\\n",
              "0                      0                  0   \n",
              "1                      0                  0   \n",
              "2                      0                  0   \n",
              "3                      0                  0   \n",
              "4                      0                  1   \n",
              "\n",
              "   heatingType_reduced_central_heating heatingType_reduced_district_heating  \\\n",
              "0                                    1                                    0   \n",
              "1                                    0                                    0   \n",
              "2                                    0                                    0   \n",
              "3                                    0                                    1   \n",
              "4                                    0                                    0   \n",
              "\n",
              "  heatingType_reduced_floor_heating  heatingType_reduced_gas_heating  \\\n",
              "0                                 0                                0   \n",
              "1                                 0                                0   \n",
              "2                                 1                                0   \n",
              "3                                 0                                0   \n",
              "4                                 0                                0   \n",
              "\n",
              "   heatingType_reduced_other  \\\n",
              "0                          0   \n",
              "1                          0   \n",
              "2                          0   \n",
              "3                          0   \n",
              "4                          0   \n",
              "\n",
              "   heatingType_reduced_self_contained_central_heating  \n",
              "0                                                  0   \n",
              "1                                                  1   \n",
              "2                                                  0   \n",
              "3                                                  0   \n",
              "4                                                  1   \n",
              "\n",
              "[5 rows x 57 columns]"
            ],
            "text/html": [
              "\n",
              "  <div id=\"df-098c6e0b-ad04-46d6-a49b-1a36bc8cdaf5\">\n",
              "    <div class=\"colab-df-container\">\n",
              "      <div>\n",
              "<style scoped>\n",
              "    .dataframe tbody tr th:only-of-type {\n",
              "        vertical-align: middle;\n",
              "    }\n",
              "\n",
              "    .dataframe tbody tr th {\n",
              "        vertical-align: top;\n",
              "    }\n",
              "\n",
              "    .dataframe thead th {\n",
              "        text-align: right;\n",
              "    }\n",
              "</style>\n",
              "<table border=\"1\" class=\"dataframe\">\n",
              "  <thead>\n",
              "    <tr style=\"text-align: right;\">\n",
              "      <th></th>\n",
              "      <th>serviceCharge</th>\n",
              "      <th>telekomUploadSpeed</th>\n",
              "      <th>totalRent</th>\n",
              "      <th>yearConstructed</th>\n",
              "      <th>baseRent</th>\n",
              "      <th>livingSpace</th>\n",
              "      <th>condition</th>\n",
              "      <th>interiorQual</th>\n",
              "      <th>petsAllowed</th>\n",
              "      <th>baseRentRange</th>\n",
              "      <th>...</th>\n",
              "      <th>regio1_edit_Sachsen_Anhalt</th>\n",
              "      <th>regio1_edit_Schleswig_Holstein</th>\n",
              "      <th>regio1_edit_Thüringen</th>\n",
              "      <th>regio1_edit_other</th>\n",
              "      <th>heatingType_reduced_central_heating</th>\n",
              "      <th>heatingType_reduced_district_heating</th>\n",
              "      <th>heatingType_reduced_floor_heating</th>\n",
              "      <th>heatingType_reduced_gas_heating</th>\n",
              "      <th>heatingType_reduced_other</th>\n",
              "      <th>heatingType_reduced_self_contained_central_heating</th>\n",
              "    </tr>\n",
              "  </thead>\n",
              "  <tbody>\n",
              "    <tr>\n",
              "      <th>0</th>\n",
              "      <td>245.00</td>\n",
              "      <td>10.000000</td>\n",
              "      <td>840.000000</td>\n",
              "      <td>1965.0</td>\n",
              "      <td>595.0</td>\n",
              "      <td>0.131173</td>\n",
              "      <td>mid_class</td>\n",
              "      <td>normal</td>\n",
              "      <td>negotiable</td>\n",
              "      <td>4</td>\n",
              "      <td>...</td>\n",
              "      <td>0</td>\n",
              "      <td>0</td>\n",
              "      <td>0</td>\n",
              "      <td>0</td>\n",
              "      <td>1</td>\n",
              "      <td>0</td>\n",
              "      <td>0</td>\n",
              "      <td>0</td>\n",
              "      <td>0</td>\n",
              "      <td>0</td>\n",
              "    </tr>\n",
              "    <tr>\n",
              "      <th>1</th>\n",
              "      <td>134.00</td>\n",
              "      <td>10.000000</td>\n",
              "      <td>907.413955</td>\n",
              "      <td>1871.0</td>\n",
              "      <td>800.0</td>\n",
              "      <td>0.135802</td>\n",
              "      <td>mid_class</td>\n",
              "      <td>normal</td>\n",
              "      <td>no</td>\n",
              "      <td>5</td>\n",
              "      <td>...</td>\n",
              "      <td>0</td>\n",
              "      <td>0</td>\n",
              "      <td>0</td>\n",
              "      <td>0</td>\n",
              "      <td>0</td>\n",
              "      <td>0</td>\n",
              "      <td>0</td>\n",
              "      <td>0</td>\n",
              "      <td>0</td>\n",
              "      <td>1</td>\n",
              "    </tr>\n",
              "    <tr>\n",
              "      <th>2</th>\n",
              "      <td>255.00</td>\n",
              "      <td>2.400000</td>\n",
              "      <td>1300.000000</td>\n",
              "      <td>2019.0</td>\n",
              "      <td>965.0</td>\n",
              "      <td>0.127778</td>\n",
              "      <td>new</td>\n",
              "      <td>sophisticated</td>\n",
              "      <td>negotiable</td>\n",
              "      <td>6</td>\n",
              "      <td>...</td>\n",
              "      <td>0</td>\n",
              "      <td>0</td>\n",
              "      <td>0</td>\n",
              "      <td>0</td>\n",
              "      <td>0</td>\n",
              "      <td>0</td>\n",
              "      <td>1</td>\n",
              "      <td>0</td>\n",
              "      <td>0</td>\n",
              "      <td>0</td>\n",
              "    </tr>\n",
              "    <tr>\n",
              "      <th>3</th>\n",
              "      <td>58.15</td>\n",
              "      <td>40.000000</td>\n",
              "      <td>907.413955</td>\n",
              "      <td>1964.0</td>\n",
              "      <td>343.0</td>\n",
              "      <td>0.088194</td>\n",
              "      <td>mid_class</td>\n",
              "      <td>normal</td>\n",
              "      <td>negotiable</td>\n",
              "      <td>2</td>\n",
              "      <td>...</td>\n",
              "      <td>0</td>\n",
              "      <td>0</td>\n",
              "      <td>0</td>\n",
              "      <td>0</td>\n",
              "      <td>0</td>\n",
              "      <td>1</td>\n",
              "      <td>0</td>\n",
              "      <td>0</td>\n",
              "      <td>0</td>\n",
              "      <td>0</td>\n",
              "    </tr>\n",
              "    <tr>\n",
              "      <th>4</th>\n",
              "      <td>138.00</td>\n",
              "      <td>28.812074</td>\n",
              "      <td>903.000000</td>\n",
              "      <td>1950.0</td>\n",
              "      <td>765.0</td>\n",
              "      <td>0.129583</td>\n",
              "      <td>mid_class</td>\n",
              "      <td>normal</td>\n",
              "      <td>negotiable</td>\n",
              "      <td>5</td>\n",
              "      <td>...</td>\n",
              "      <td>0</td>\n",
              "      <td>0</td>\n",
              "      <td>0</td>\n",
              "      <td>1</td>\n",
              "      <td>0</td>\n",
              "      <td>0</td>\n",
              "      <td>0</td>\n",
              "      <td>0</td>\n",
              "      <td>0</td>\n",
              "      <td>1</td>\n",
              "    </tr>\n",
              "  </tbody>\n",
              "</table>\n",
              "<p>5 rows × 57 columns</p>\n",
              "</div>\n",
              "      <button class=\"colab-df-convert\" onclick=\"convertToInteractive('df-098c6e0b-ad04-46d6-a49b-1a36bc8cdaf5')\"\n",
              "              title=\"Convert this dataframe to an interactive table.\"\n",
              "              style=\"display:none;\">\n",
              "        \n",
              "  <svg xmlns=\"http://www.w3.org/2000/svg\" height=\"24px\"viewBox=\"0 0 24 24\"\n",
              "       width=\"24px\">\n",
              "    <path d=\"M0 0h24v24H0V0z\" fill=\"none\"/>\n",
              "    <path d=\"M18.56 5.44l.94 2.06.94-2.06 2.06-.94-2.06-.94-.94-2.06-.94 2.06-2.06.94zm-11 1L8.5 8.5l.94-2.06 2.06-.94-2.06-.94L8.5 2.5l-.94 2.06-2.06.94zm10 10l.94 2.06.94-2.06 2.06-.94-2.06-.94-.94-2.06-.94 2.06-2.06.94z\"/><path d=\"M17.41 7.96l-1.37-1.37c-.4-.4-.92-.59-1.43-.59-.52 0-1.04.2-1.43.59L10.3 9.45l-7.72 7.72c-.78.78-.78 2.05 0 2.83L4 21.41c.39.39.9.59 1.41.59.51 0 1.02-.2 1.41-.59l7.78-7.78 2.81-2.81c.8-.78.8-2.07 0-2.86zM5.41 20L4 18.59l7.72-7.72 1.47 1.35L5.41 20z\"/>\n",
              "  </svg>\n",
              "      </button>\n",
              "      \n",
              "  <style>\n",
              "    .colab-df-container {\n",
              "      display:flex;\n",
              "      flex-wrap:wrap;\n",
              "      gap: 12px;\n",
              "    }\n",
              "\n",
              "    .colab-df-convert {\n",
              "      background-color: #E8F0FE;\n",
              "      border: none;\n",
              "      border-radius: 50%;\n",
              "      cursor: pointer;\n",
              "      display: none;\n",
              "      fill: #1967D2;\n",
              "      height: 32px;\n",
              "      padding: 0 0 0 0;\n",
              "      width: 32px;\n",
              "    }\n",
              "\n",
              "    .colab-df-convert:hover {\n",
              "      background-color: #E2EBFA;\n",
              "      box-shadow: 0px 1px 2px rgba(60, 64, 67, 0.3), 0px 1px 3px 1px rgba(60, 64, 67, 0.15);\n",
              "      fill: #174EA6;\n",
              "    }\n",
              "\n",
              "    [theme=dark] .colab-df-convert {\n",
              "      background-color: #3B4455;\n",
              "      fill: #D2E3FC;\n",
              "    }\n",
              "\n",
              "    [theme=dark] .colab-df-convert:hover {\n",
              "      background-color: #434B5C;\n",
              "      box-shadow: 0px 1px 3px 1px rgba(0, 0, 0, 0.15);\n",
              "      filter: drop-shadow(0px 1px 2px rgba(0, 0, 0, 0.3));\n",
              "      fill: #FFFFFF;\n",
              "    }\n",
              "  </style>\n",
              "\n",
              "      <script>\n",
              "        const buttonEl =\n",
              "          document.querySelector('#df-098c6e0b-ad04-46d6-a49b-1a36bc8cdaf5 button.colab-df-convert');\n",
              "        buttonEl.style.display =\n",
              "          google.colab.kernel.accessAllowed ? 'block' : 'none';\n",
              "\n",
              "        async function convertToInteractive(key) {\n",
              "          const element = document.querySelector('#df-098c6e0b-ad04-46d6-a49b-1a36bc8cdaf5');\n",
              "          const dataTable =\n",
              "            await google.colab.kernel.invokeFunction('convertToInteractive',\n",
              "                                                     [key], {});\n",
              "          if (!dataTable) return;\n",
              "\n",
              "          const docLinkHtml = 'Like what you see? Visit the ' +\n",
              "            '<a target=\"_blank\" href=https://colab.research.google.com/notebooks/data_table.ipynb>data table notebook</a>'\n",
              "            + ' to learn more about interactive tables.';\n",
              "          element.innerHTML = '';\n",
              "          dataTable['output_type'] = 'display_data';\n",
              "          await google.colab.output.renderOutput(dataTable, element);\n",
              "          const docLink = document.createElement('div');\n",
              "          docLink.innerHTML = docLinkHtml;\n",
              "          element.appendChild(docLink);\n",
              "        }\n",
              "      </script>\n",
              "    </div>\n",
              "  </div>\n",
              "  "
            ]
          },
          "metadata": {},
          "execution_count": 184
        }
      ]
    },
    {
      "cell_type": "code",
      "source": [
        "df_g = df_g.drop(columns=cat)\n",
        "df_g.head()"
      ],
      "metadata": {
        "colab": {
          "base_uri": "https://localhost:8080/",
          "height": 300
        },
        "id": "3KOJopp6gCdN",
        "outputId": "a8a39e18-69d9-48c9-f530-ba9f2f7bb539"
      },
      "execution_count": 185,
      "outputs": [
        {
          "output_type": "execute_result",
          "data": {
            "text/plain": [
              "   serviceCharge  telekomUploadSpeed    totalRent  yearConstructed  baseRent  \\\n",
              "0         245.00           10.000000   840.000000           1965.0     595.0   \n",
              "1         134.00           10.000000   907.413955           1871.0     800.0   \n",
              "2         255.00            2.400000  1300.000000           2019.0     965.0   \n",
              "3          58.15           40.000000   907.413955           1964.0     343.0   \n",
              "4         138.00           28.812074   903.000000           1950.0     765.0   \n",
              "\n",
              "   livingSpace  baseRentRange   noRooms  thermalChar     floor  ...  \\\n",
              "0     0.131173              4  0.666667   181.400000  1.000000  ...   \n",
              "1     0.135802              5  0.444444   114.535827  2.124959  ...   \n",
              "2     0.127778              6  0.444444   114.535827  3.000000  ...   \n",
              "3     0.088194              2  0.444444    86.000000  3.000000  ...   \n",
              "4     0.129583              5  0.444444   188.900000  1.000000  ...   \n",
              "\n",
              "   regio1_edit_Sachsen_Anhalt  regio1_edit_Schleswig_Holstein  \\\n",
              "0                           0                               0   \n",
              "1                           0                               0   \n",
              "2                           0                               0   \n",
              "3                           0                               0   \n",
              "4                           0                               0   \n",
              "\n",
              "   regio1_edit_Thüringen  regio1_edit_other  \\\n",
              "0                      0                  0   \n",
              "1                      0                  0   \n",
              "2                      0                  0   \n",
              "3                      0                  0   \n",
              "4                      0                  1   \n",
              "\n",
              "   heatingType_reduced_central_heating  heatingType_reduced_district_heating  \\\n",
              "0                                    1                                     0   \n",
              "1                                    0                                     0   \n",
              "2                                    0                                     0   \n",
              "3                                    0                                     1   \n",
              "4                                    0                                     0   \n",
              "\n",
              "   heatingType_reduced_floor_heating  heatingType_reduced_gas_heating  \\\n",
              "0                                  0                                0   \n",
              "1                                  0                                0   \n",
              "2                                  1                                0   \n",
              "3                                  0                                0   \n",
              "4                                  0                                0   \n",
              "\n",
              "   heatingType_reduced_other  \\\n",
              "0                          0   \n",
              "1                          0   \n",
              "2                          0   \n",
              "3                          0   \n",
              "4                          0   \n",
              "\n",
              "   heatingType_reduced_self_contained_central_heating  \n",
              "0                                                  0   \n",
              "1                                                  1   \n",
              "2                                                  0   \n",
              "3                                                  0   \n",
              "4                                                  1   \n",
              "\n",
              "[5 rows x 51 columns]"
            ],
            "text/html": [
              "\n",
              "  <div id=\"df-b10c4e39-218e-45ba-aac8-10082f4d062b\">\n",
              "    <div class=\"colab-df-container\">\n",
              "      <div>\n",
              "<style scoped>\n",
              "    .dataframe tbody tr th:only-of-type {\n",
              "        vertical-align: middle;\n",
              "    }\n",
              "\n",
              "    .dataframe tbody tr th {\n",
              "        vertical-align: top;\n",
              "    }\n",
              "\n",
              "    .dataframe thead th {\n",
              "        text-align: right;\n",
              "    }\n",
              "</style>\n",
              "<table border=\"1\" class=\"dataframe\">\n",
              "  <thead>\n",
              "    <tr style=\"text-align: right;\">\n",
              "      <th></th>\n",
              "      <th>serviceCharge</th>\n",
              "      <th>telekomUploadSpeed</th>\n",
              "      <th>totalRent</th>\n",
              "      <th>yearConstructed</th>\n",
              "      <th>baseRent</th>\n",
              "      <th>livingSpace</th>\n",
              "      <th>baseRentRange</th>\n",
              "      <th>noRooms</th>\n",
              "      <th>thermalChar</th>\n",
              "      <th>floor</th>\n",
              "      <th>...</th>\n",
              "      <th>regio1_edit_Sachsen_Anhalt</th>\n",
              "      <th>regio1_edit_Schleswig_Holstein</th>\n",
              "      <th>regio1_edit_Thüringen</th>\n",
              "      <th>regio1_edit_other</th>\n",
              "      <th>heatingType_reduced_central_heating</th>\n",
              "      <th>heatingType_reduced_district_heating</th>\n",
              "      <th>heatingType_reduced_floor_heating</th>\n",
              "      <th>heatingType_reduced_gas_heating</th>\n",
              "      <th>heatingType_reduced_other</th>\n",
              "      <th>heatingType_reduced_self_contained_central_heating</th>\n",
              "    </tr>\n",
              "  </thead>\n",
              "  <tbody>\n",
              "    <tr>\n",
              "      <th>0</th>\n",
              "      <td>245.00</td>\n",
              "      <td>10.000000</td>\n",
              "      <td>840.000000</td>\n",
              "      <td>1965.0</td>\n",
              "      <td>595.0</td>\n",
              "      <td>0.131173</td>\n",
              "      <td>4</td>\n",
              "      <td>0.666667</td>\n",
              "      <td>181.400000</td>\n",
              "      <td>1.000000</td>\n",
              "      <td>...</td>\n",
              "      <td>0</td>\n",
              "      <td>0</td>\n",
              "      <td>0</td>\n",
              "      <td>0</td>\n",
              "      <td>1</td>\n",
              "      <td>0</td>\n",
              "      <td>0</td>\n",
              "      <td>0</td>\n",
              "      <td>0</td>\n",
              "      <td>0</td>\n",
              "    </tr>\n",
              "    <tr>\n",
              "      <th>1</th>\n",
              "      <td>134.00</td>\n",
              "      <td>10.000000</td>\n",
              "      <td>907.413955</td>\n",
              "      <td>1871.0</td>\n",
              "      <td>800.0</td>\n",
              "      <td>0.135802</td>\n",
              "      <td>5</td>\n",
              "      <td>0.444444</td>\n",
              "      <td>114.535827</td>\n",
              "      <td>2.124959</td>\n",
              "      <td>...</td>\n",
              "      <td>0</td>\n",
              "      <td>0</td>\n",
              "      <td>0</td>\n",
              "      <td>0</td>\n",
              "      <td>0</td>\n",
              "      <td>0</td>\n",
              "      <td>0</td>\n",
              "      <td>0</td>\n",
              "      <td>0</td>\n",
              "      <td>1</td>\n",
              "    </tr>\n",
              "    <tr>\n",
              "      <th>2</th>\n",
              "      <td>255.00</td>\n",
              "      <td>2.400000</td>\n",
              "      <td>1300.000000</td>\n",
              "      <td>2019.0</td>\n",
              "      <td>965.0</td>\n",
              "      <td>0.127778</td>\n",
              "      <td>6</td>\n",
              "      <td>0.444444</td>\n",
              "      <td>114.535827</td>\n",
              "      <td>3.000000</td>\n",
              "      <td>...</td>\n",
              "      <td>0</td>\n",
              "      <td>0</td>\n",
              "      <td>0</td>\n",
              "      <td>0</td>\n",
              "      <td>0</td>\n",
              "      <td>0</td>\n",
              "      <td>1</td>\n",
              "      <td>0</td>\n",
              "      <td>0</td>\n",
              "      <td>0</td>\n",
              "    </tr>\n",
              "    <tr>\n",
              "      <th>3</th>\n",
              "      <td>58.15</td>\n",
              "      <td>40.000000</td>\n",
              "      <td>907.413955</td>\n",
              "      <td>1964.0</td>\n",
              "      <td>343.0</td>\n",
              "      <td>0.088194</td>\n",
              "      <td>2</td>\n",
              "      <td>0.444444</td>\n",
              "      <td>86.000000</td>\n",
              "      <td>3.000000</td>\n",
              "      <td>...</td>\n",
              "      <td>0</td>\n",
              "      <td>0</td>\n",
              "      <td>0</td>\n",
              "      <td>0</td>\n",
              "      <td>0</td>\n",
              "      <td>1</td>\n",
              "      <td>0</td>\n",
              "      <td>0</td>\n",
              "      <td>0</td>\n",
              "      <td>0</td>\n",
              "    </tr>\n",
              "    <tr>\n",
              "      <th>4</th>\n",
              "      <td>138.00</td>\n",
              "      <td>28.812074</td>\n",
              "      <td>903.000000</td>\n",
              "      <td>1950.0</td>\n",
              "      <td>765.0</td>\n",
              "      <td>0.129583</td>\n",
              "      <td>5</td>\n",
              "      <td>0.444444</td>\n",
              "      <td>188.900000</td>\n",
              "      <td>1.000000</td>\n",
              "      <td>...</td>\n",
              "      <td>0</td>\n",
              "      <td>0</td>\n",
              "      <td>0</td>\n",
              "      <td>1</td>\n",
              "      <td>0</td>\n",
              "      <td>0</td>\n",
              "      <td>0</td>\n",
              "      <td>0</td>\n",
              "      <td>0</td>\n",
              "      <td>1</td>\n",
              "    </tr>\n",
              "  </tbody>\n",
              "</table>\n",
              "<p>5 rows × 51 columns</p>\n",
              "</div>\n",
              "      <button class=\"colab-df-convert\" onclick=\"convertToInteractive('df-b10c4e39-218e-45ba-aac8-10082f4d062b')\"\n",
              "              title=\"Convert this dataframe to an interactive table.\"\n",
              "              style=\"display:none;\">\n",
              "        \n",
              "  <svg xmlns=\"http://www.w3.org/2000/svg\" height=\"24px\"viewBox=\"0 0 24 24\"\n",
              "       width=\"24px\">\n",
              "    <path d=\"M0 0h24v24H0V0z\" fill=\"none\"/>\n",
              "    <path d=\"M18.56 5.44l.94 2.06.94-2.06 2.06-.94-2.06-.94-.94-2.06-.94 2.06-2.06.94zm-11 1L8.5 8.5l.94-2.06 2.06-.94-2.06-.94L8.5 2.5l-.94 2.06-2.06.94zm10 10l.94 2.06.94-2.06 2.06-.94-2.06-.94-.94-2.06-.94 2.06-2.06.94z\"/><path d=\"M17.41 7.96l-1.37-1.37c-.4-.4-.92-.59-1.43-.59-.52 0-1.04.2-1.43.59L10.3 9.45l-7.72 7.72c-.78.78-.78 2.05 0 2.83L4 21.41c.39.39.9.59 1.41.59.51 0 1.02-.2 1.41-.59l7.78-7.78 2.81-2.81c.8-.78.8-2.07 0-2.86zM5.41 20L4 18.59l7.72-7.72 1.47 1.35L5.41 20z\"/>\n",
              "  </svg>\n",
              "      </button>\n",
              "      \n",
              "  <style>\n",
              "    .colab-df-container {\n",
              "      display:flex;\n",
              "      flex-wrap:wrap;\n",
              "      gap: 12px;\n",
              "    }\n",
              "\n",
              "    .colab-df-convert {\n",
              "      background-color: #E8F0FE;\n",
              "      border: none;\n",
              "      border-radius: 50%;\n",
              "      cursor: pointer;\n",
              "      display: none;\n",
              "      fill: #1967D2;\n",
              "      height: 32px;\n",
              "      padding: 0 0 0 0;\n",
              "      width: 32px;\n",
              "    }\n",
              "\n",
              "    .colab-df-convert:hover {\n",
              "      background-color: #E2EBFA;\n",
              "      box-shadow: 0px 1px 2px rgba(60, 64, 67, 0.3), 0px 1px 3px 1px rgba(60, 64, 67, 0.15);\n",
              "      fill: #174EA6;\n",
              "    }\n",
              "\n",
              "    [theme=dark] .colab-df-convert {\n",
              "      background-color: #3B4455;\n",
              "      fill: #D2E3FC;\n",
              "    }\n",
              "\n",
              "    [theme=dark] .colab-df-convert:hover {\n",
              "      background-color: #434B5C;\n",
              "      box-shadow: 0px 1px 3px 1px rgba(0, 0, 0, 0.15);\n",
              "      filter: drop-shadow(0px 1px 2px rgba(0, 0, 0, 0.3));\n",
              "      fill: #FFFFFF;\n",
              "    }\n",
              "  </style>\n",
              "\n",
              "      <script>\n",
              "        const buttonEl =\n",
              "          document.querySelector('#df-b10c4e39-218e-45ba-aac8-10082f4d062b button.colab-df-convert');\n",
              "        buttonEl.style.display =\n",
              "          google.colab.kernel.accessAllowed ? 'block' : 'none';\n",
              "\n",
              "        async function convertToInteractive(key) {\n",
              "          const element = document.querySelector('#df-b10c4e39-218e-45ba-aac8-10082f4d062b');\n",
              "          const dataTable =\n",
              "            await google.colab.kernel.invokeFunction('convertToInteractive',\n",
              "                                                     [key], {});\n",
              "          if (!dataTable) return;\n",
              "\n",
              "          const docLinkHtml = 'Like what you see? Visit the ' +\n",
              "            '<a target=\"_blank\" href=https://colab.research.google.com/notebooks/data_table.ipynb>data table notebook</a>'\n",
              "            + ' to learn more about interactive tables.';\n",
              "          element.innerHTML = '';\n",
              "          dataTable['output_type'] = 'display_data';\n",
              "          await google.colab.output.renderOutput(dataTable, element);\n",
              "          const docLink = document.createElement('div');\n",
              "          docLink.innerHTML = docLinkHtml;\n",
              "          element.appendChild(docLink);\n",
              "        }\n",
              "      </script>\n",
              "    </div>\n",
              "  </div>\n",
              "  "
            ]
          },
          "metadata": {},
          "execution_count": 185
        }
      ]
    },
    {
      "cell_type": "markdown",
      "source": [
        "#Regression"
      ],
      "metadata": {
        "id": "wRL2LtJOgWPw"
      }
    },
    {
      "cell_type": "markdown",
      "source": [
        "implement regression model with three features:\n",
        "* serviceCharge\n",
        "* heatingType\n",
        "* telekomUploadSpeed\n",
        "\n",
        "calculate MSE without using libraries"
      ],
      "metadata": {
        "id": "4WEI9xWlzDOz"
      }
    },
    {
      "cell_type": "markdown",
      "source": [
        "## MSE from Scratch using Numpy \n",
        "\n",
        "calculating MSE on linear regression model without using library"
      ],
      "metadata": {
        "id": "A1pzFVXMzUxm"
      }
    },
    {
      "cell_type": "code",
      "source": [
        "class LinearRegressionn:\n",
        "    def __init__(self, x , y):\n",
        "        self.data = x\n",
        "        self.label = y\n",
        "        self.m = 0\n",
        "        self.c = 0\n",
        "        self.n = len(x)\n",
        "        \n",
        "    def fit(self , epochs , lr):\n",
        "        \n",
        "        #Implementing Gradient Descent\n",
        "        for i in range(epochs):\n",
        "            y_pred = self.m * self.data + self.c\n",
        "            \n",
        "            #Calculating derivatives w.r.t Parameters\n",
        "            D_m = (-2/self.n)*sum(self.data * (self.label - y_pred))\n",
        "            D_c = (-1/self.n)*sum(self.label-y_pred)\n",
        "            \n",
        "            #Updating Parameters\n",
        "            self.m = self.m - lr * D_m\n",
        "            self.c = self.c - lr * D_c\n",
        "            \n",
        "    def predict(self , inp):\n",
        "        y_pred = self.m * inp + self.c \n",
        "        return y_pred\n",
        "    \n",
        "    def mse(self):\n",
        "        metric = sum((self.label - self.predict(self.data))**2)/self.n\n",
        "        return metric\n",
        "    \n",
        "    def mae(self):\n",
        "        metric = sum(abs(self.label - self.predict(self.data)))/self.n\n",
        "        return metric\n",
        "        "
      ],
      "metadata": {
        "id": "dGQzMUJz0KUA"
      },
      "execution_count": 95,
      "outputs": []
    },
    {
      "cell_type": "code",
      "source": [
        "X = df_g[['serviceCharge',\n",
        "          'heatingType_reduced_central_heating',\n",
        "          'heatingType_reduced_district_heating',\n",
        "          'heatingType_reduced_floor_heating', 'heatingType_reduced_gas_heating',\n",
        "          'heatingType_reduced_other',\n",
        "          'heatingType_reduced_self_contained_central_heating',\n",
        "          'telekomUploadSpeed'\n",
        "          ]]\n",
        "y = df_g['baseRent']\n",
        "X_train, X_test, y_train, y_test = train_test_split(X, y, test_size=0.2, random_state=101)\n"
      ],
      "metadata": {
        "id": "M0kUl1yIDcN1"
      },
      "execution_count": 96,
      "outputs": []
    },
    {
      "cell_type": "code",
      "source": [
        "#Creating the class object\n",
        "regressor = LinearRegressionn(X_train,y_train)\n",
        "\n",
        "#Training the model with .fit method\n",
        "regressor.fit(1000 , 0.0001) # epochs-1000 , learning_rate - 0.0001\n",
        "\n",
        "#Prediciting the values\n",
        "y_pred = regressor.predict(X_test)\n",
        "\n",
        "#Plotting the results\n",
        "plt.figure(figsize = (10,6))\n",
        "plt.scatter(X_train,y_train , color = 'green')\n",
        "plt.plot(X_test , y_pred , color = 'k' , lw = 3)\n",
        "plt.xlabel('x' , size = 20)\n",
        "plt.ylabel('y', size = 20)\n",
        "plt.show()"
      ],
      "metadata": {
        "id": "WNZ9bU0BDaCR"
      },
      "execution_count": 90,
      "outputs": []
    },
    {
      "cell_type": "markdown",
      "source": [
        "##MSE using scikit – learn \n",
        "\n",
        "calculating MSE on linear regression model using scikit – learn library"
      ],
      "metadata": {
        "id": "Qq47gI4-qyI7"
      }
    },
    {
      "cell_type": "code",
      "source": [
        "df_g.columns"
      ],
      "metadata": {
        "colab": {
          "base_uri": "https://localhost:8080/"
        },
        "id": "fr4_YfGtrUI_",
        "outputId": "65f76e79-2384-4b3d-ff0b-68666dbe7bcd"
      },
      "execution_count": 186,
      "outputs": [
        {
          "output_type": "execute_result",
          "data": {
            "text/plain": [
              "Index(['serviceCharge', 'telekomUploadSpeed', 'totalRent', 'yearConstructed',\n",
              "       'baseRent', 'livingSpace', 'baseRentRange', 'noRooms', 'thermalChar',\n",
              "       'floor', 'numberOfFloors', 'condition_mid_class', 'condition_new',\n",
              "       'condition_old', 'interiorQual_luxury', 'interiorQual_normal',\n",
              "       'interiorQual_simple', 'interiorQual_sophisticated',\n",
              "       'petsAllowed_negotiable', 'petsAllowed_no', 'petsAllowed_yes',\n",
              "       'typeOfFlat_apartment', 'typeOfFlat_ground_floor',\n",
              "       'typeOfFlat_half_basement', 'typeOfFlat_loft', 'typeOfFlat_maisonette',\n",
              "       'typeOfFlat_other', 'typeOfFlat_penthouse',\n",
              "       'typeOfFlat_raised_ground_floor', 'typeOfFlat_roof_storey',\n",
              "       'typeOfFlat_terraced_flat', 'regio1_edit_Baden_Württemberg',\n",
              "       'regio1_edit_Bayern', 'regio1_edit_Berlin', 'regio1_edit_Brandenburg',\n",
              "       'regio1_edit_Hessen', 'regio1_edit_Mecklenburg_Vorpommern',\n",
              "       'regio1_edit_Niedersachsen', 'regio1_edit_Nordrhein_Westfalen',\n",
              "       'regio1_edit_Rheinland_Pfalz', 'regio1_edit_Sachsen',\n",
              "       'regio1_edit_Sachsen_Anhalt', 'regio1_edit_Schleswig_Holstein',\n",
              "       'regio1_edit_Thüringen', 'regio1_edit_other',\n",
              "       'heatingType_reduced_central_heating',\n",
              "       'heatingType_reduced_district_heating',\n",
              "       'heatingType_reduced_floor_heating', 'heatingType_reduced_gas_heating',\n",
              "       'heatingType_reduced_other',\n",
              "       'heatingType_reduced_self_contained_central_heating'],\n",
              "      dtype='object')"
            ]
          },
          "metadata": {},
          "execution_count": 186
        }
      ]
    },
    {
      "cell_type": "code",
      "source": [
        "df_g.shape"
      ],
      "metadata": {
        "colab": {
          "base_uri": "https://localhost:8080/"
        },
        "id": "_A2GVV-tQrQ_",
        "outputId": "ec4170b1-261c-4f68-ac47-2c0194efc123"
      },
      "execution_count": 187,
      "outputs": [
        {
          "output_type": "execute_result",
          "data": {
            "text/plain": [
              "(240541, 51)"
            ]
          },
          "metadata": {},
          "execution_count": 187
        }
      ]
    },
    {
      "cell_type": "code",
      "source": [
        "l_reg = LinearRegression()\n",
        "X = df_g[['serviceCharge',\n",
        "          'heatingType_reduced_central_heating',\n",
        "          'heatingType_reduced_district_heating',\n",
        "          'heatingType_reduced_floor_heating', 'heatingType_reduced_gas_heating',\n",
        "          'heatingType_reduced_other',\n",
        "          'heatingType_reduced_self_contained_central_heating',\n",
        "          'telekomUploadSpeed'\n",
        "          ]]\n",
        "y = df_g['baseRent']\n",
        "X_train, X_test, y_train, y_test = train_test_split(X, y, test_size=0.2, random_state=101)\n",
        "l_reg.fit(X_train,y_train)"
      ],
      "metadata": {
        "id": "Ze15acNGgbqQ",
        "colab": {
          "base_uri": "https://localhost:8080/"
        },
        "outputId": "8d575ce8-b51a-44e7-cb4e-41879fe3e225"
      },
      "execution_count": 188,
      "outputs": [
        {
          "output_type": "execute_result",
          "data": {
            "text/plain": [
              "LinearRegression()"
            ]
          },
          "metadata": {},
          "execution_count": 188
        }
      ]
    },
    {
      "cell_type": "code",
      "source": [
        "predicts = l_reg.predict(X_test)\n",
        "print(\"Mean Squared Error: \", np.sqrt(metrics.mean_squared_error(y_test, predicts)))\n",
        "print(\"R2 Score: \", r2_score(y_test,predicts) * 100)\n",
        "print(\"Mean Absolute Error: \", mean_absolute_error(y_test,predicts))\n",
        "print(\"Mean Squareroot Error: \", mean_squared_error(y_test,predicts))"
      ],
      "metadata": {
        "colab": {
          "base_uri": "https://localhost:8080/"
        },
        "id": "8UeYcpI2yv3h",
        "outputId": "350960f3-1661-4226-cea0-55236d859cb5"
      },
      "execution_count": 189,
      "outputs": [
        {
          "output_type": "stream",
          "name": "stdout",
          "text": [
            "Mean Squared Error:  325.5957479814876\n",
            "R2 Score:  36.38404885075125\n",
            "Mean Absolute Error:  217.3606940122674\n",
            "Mean Squareroot Error:  106012.59110362438\n"
          ]
        }
      ]
    },
    {
      "cell_type": "code",
      "source": [
        "#Actual Vs Predicted for Linear Regression\n",
        "lr_pred_df = pd.DataFrame({\n",
        "        'actual_values': np.array(y_test).flatten(),\n",
        "        'predicted_values': predicts.flatten()}).head(20)\n",
        "\n",
        "print(lr_pred_df.head(5))\n"
      ],
      "metadata": {
        "colab": {
          "base_uri": "https://localhost:8080/"
        },
        "id": "8tWkJ3QDzCqW",
        "outputId": "1c794c21-289b-4280-e100-04524dba0fae"
      },
      "execution_count": 190,
      "outputs": [
        {
          "output_type": "stream",
          "name": "stdout",
          "text": [
            "   actual_values  predicted_values\n",
            "0         1500.0       1492.977274\n",
            "1          265.0        274.702117\n",
            "2          350.0        562.369452\n",
            "3          999.0        877.463288\n",
            "4          555.0        731.742703\n"
          ]
        }
      ]
    },
    {
      "cell_type": "code",
      "source": [
        "x = lr_pred_df.index\n",
        "width = 0.35\n",
        "fig, ax = plt.subplots()\n",
        "rects1 = ax.bar(x - width/2, lr_pred_df.actual_values, width, label='Actual Values')\n",
        "rects2 = ax.bar(x + width/2, lr_pred_df.predicted_values, width, label='Predicted Values')\n",
        "ax.set_ylabel('baseRent')\n",
        "ax.set_title('Actual Vs Predicted for Linear Regression')\n",
        "ax.set_xticks(x)\n",
        "ax.legend()\n",
        "fig.tight_layout()\n",
        "plt.show()"
      ],
      "metadata": {
        "colab": {
          "base_uri": "https://localhost:8080/",
          "height": 581
        },
        "id": "BQA2OLPJzHu-",
        "outputId": "e8a45f5c-ec06-4350-c430-6091370155fe"
      },
      "execution_count": 191,
      "outputs": [
        {
          "output_type": "display_data",
          "data": {
            "text/plain": [
              "<Figure size 576x576 with 1 Axes>"
            ],
            "image/png": "[encoded data removed]"
          },
          "metadata": {}
        }
      ]
    },
    {
      "cell_type": "markdown",
      "source": [
        "#Ridge Regression"
      ],
      "metadata": {
        "id": "bMjknuxXQz9D"
      }
    },
    {
      "cell_type": "code",
      "source": [
        "alphas = 10**np.linspace(10,-2,100)*0.5\n",
        "alphas"
      ],
      "metadata": {
        "colab": {
          "base_uri": "https://localhost:8080/"
        },
        "id": "4h0acI46RAJc",
        "outputId": "e67a21d9-7f9d-4011-f4c2-d06808122ebf"
      },
      "execution_count": 192,
      "outputs": [
        {
          "output_type": "execute_result",
          "data": {
            "text/plain": [
              "array([5.00000000e+09, 3.78231664e+09, 2.86118383e+09, 2.16438064e+09,\n",
              "       1.63727458e+09, 1.23853818e+09, 9.36908711e+08, 7.08737081e+08,\n",
              "       5.36133611e+08, 4.05565415e+08, 3.06795364e+08, 2.32079442e+08,\n",
              "       1.75559587e+08, 1.32804389e+08, 1.00461650e+08, 7.59955541e+07,\n",
              "       5.74878498e+07, 4.34874501e+07, 3.28966612e+07, 2.48851178e+07,\n",
              "       1.88246790e+07, 1.42401793e+07, 1.07721735e+07, 8.14875417e+06,\n",
              "       6.16423370e+06, 4.66301673e+06, 3.52740116e+06, 2.66834962e+06,\n",
              "       2.01850863e+06, 1.52692775e+06, 1.15506485e+06, 8.73764200e+05,\n",
              "       6.60970574e+05, 5.00000000e+05, 3.78231664e+05, 2.86118383e+05,\n",
              "       2.16438064e+05, 1.63727458e+05, 1.23853818e+05, 9.36908711e+04,\n",
              "       7.08737081e+04, 5.36133611e+04, 4.05565415e+04, 3.06795364e+04,\n",
              "       2.32079442e+04, 1.75559587e+04, 1.32804389e+04, 1.00461650e+04,\n",
              "       7.59955541e+03, 5.74878498e+03, 4.34874501e+03, 3.28966612e+03,\n",
              "       2.48851178e+03, 1.88246790e+03, 1.42401793e+03, 1.07721735e+03,\n",
              "       8.14875417e+02, 6.16423370e+02, 4.66301673e+02, 3.52740116e+02,\n",
              "       2.66834962e+02, 2.01850863e+02, 1.52692775e+02, 1.15506485e+02,\n",
              "       8.73764200e+01, 6.60970574e+01, 5.00000000e+01, 3.78231664e+01,\n",
              "       2.86118383e+01, 2.16438064e+01, 1.63727458e+01, 1.23853818e+01,\n",
              "       9.36908711e+00, 7.08737081e+00, 5.36133611e+00, 4.05565415e+00,\n",
              "       3.06795364e+00, 2.32079442e+00, 1.75559587e+00, 1.32804389e+00,\n",
              "       1.00461650e+00, 7.59955541e-01, 5.74878498e-01, 4.34874501e-01,\n",
              "       3.28966612e-01, 2.48851178e-01, 1.88246790e-01, 1.42401793e-01,\n",
              "       1.07721735e-01, 8.14875417e-02, 6.16423370e-02, 4.66301673e-02,\n",
              "       3.52740116e-02, 2.66834962e-02, 2.01850863e-02, 1.52692775e-02,\n",
              "       1.15506485e-02, 8.73764200e-03, 6.60970574e-03, 5.00000000e-03])"
            ]
          },
          "metadata": {},
          "execution_count": 192
        }
      ]
    },
    {
      "cell_type": "code",
      "source": [
        "X = df_g[['serviceCharge',\n",
        "          'heatingType_reduced_central_heating',\n",
        "          'heatingType_reduced_district_heating',\n",
        "          'heatingType_reduced_floor_heating', 'heatingType_reduced_gas_heating',\n",
        "          'heatingType_reduced_other',\n",
        "          'heatingType_reduced_self_contained_central_heating',\n",
        "          'telekomUploadSpeed'\n",
        "          ]]\n",
        "y = df_g['baseRent']"
      ],
      "metadata": {
        "id": "TJHHRJFKRnPI"
      },
      "execution_count": 193,
      "outputs": []
    },
    {
      "cell_type": "code",
      "source": [
        "ridge = Ridge(normalize = True)\n",
        "coefs = []\n",
        "\n",
        "for a in alphas:\n",
        "    ridge.set_params(alpha = a)\n",
        "    ridge.fit(X, y)\n",
        "    coefs.append(ridge.coef_)\n",
        "    \n",
        "np.shape(coefs)"
      ],
      "metadata": {
        "colab": {
          "base_uri": "https://localhost:8080/"
        },
        "id": "AUfoj3mNReHz",
        "outputId": "72c1be73-c93c-4d88-a39e-111ab3dd5046"
      },
      "execution_count": 194,
      "outputs": [
        {
          "output_type": "execute_result",
          "data": {
            "text/plain": [
              "(100, 8)"
            ]
          },
          "metadata": {},
          "execution_count": 194
        }
      ]
    },
    {
      "cell_type": "code",
      "source": [
        "ax = plt.gca()\n",
        "ax.plot(alphas, coefs)\n",
        "ax.set_xscale('log')\n",
        "plt.axis('tight')\n",
        "plt.xlabel('alpha')\n",
        "plt.ylabel('weights')"
      ],
      "metadata": {
        "colab": {
          "base_uri": "https://localhost:8080/",
          "height": 526
        },
        "id": "rxb735OGRxVr",
        "outputId": "e0c6e9af-2a5a-4453-8501-a5b95373bef6"
      },
      "execution_count": 195,
      "outputs": [
        {
          "output_type": "execute_result",
          "data": {
            "text/plain": [
              "Text(0, 0.5, 'weights')"
            ]
          },
          "metadata": {},
          "execution_count": 195
        },
        {
          "output_type": "display_data",
          "data": {
            "text/plain": [
              "<Figure size 576x576 with 1 Axes>"
            ],
            "image/png": "[encoded data removed]"
          },
          "metadata": {}
        }
      ]
    },
    {
      "cell_type": "code",
      "source": [
        "X_train, X_test, y_train, y_test = train_test_split(X, y, test_size=0.2, random_state=101)"
      ],
      "metadata": {
        "id": "z5a4bUHLRStt"
      },
      "execution_count": 196,
      "outputs": []
    },
    {
      "cell_type": "code",
      "source": [
        "ridge2 = Ridge(alpha = 4, normalize = True)\n",
        "ridge2.fit(X_train, y_train)             # Fit a ridge regression on the training data\n",
        "pred2 = ridge2.predict(X_test)           # Use this model to predict the test data\n",
        "print(pd.Series(ridge2.coef_, index = X.columns)) # Print coefficients\n",
        "print(mean_squared_error(y_test, pred2))          # Calculate the test MSE"
      ],
      "metadata": {
        "colab": {
          "base_uri": "https://localhost:8080/"
        },
        "id": "gQ_4EnWaR-OK",
        "outputId": "c5bca6a5-872f-4c14-db6d-ff86eb3ffaae"
      },
      "execution_count": 197,
      "outputs": [
        {
          "output_type": "stream",
          "name": "stdout",
          "text": [
            "serviceCharge                                          0.661145\n",
            "heatingType_reduced_central_heating                  -20.015538\n",
            "heatingType_reduced_district_heating                 -13.836875\n",
            "heatingType_reduced_floor_heating                     79.255929\n",
            "heatingType_reduced_gas_heating                        0.865946\n",
            "heatingType_reduced_other                             21.419725\n",
            "heatingType_reduced_self_contained_central_heating    -3.594618\n",
            "telekomUploadSpeed                                     0.089299\n",
            "dtype: float64\n",
            "142306.4742627567\n"
          ]
        }
      ]
    },
    {
      "cell_type": "code",
      "source": [
        "ridge3 = Ridge(alpha = 10**10, normalize = True)\n",
        "ridge3.fit(X_train, y_train)             # Fit a ridge regression on the training data\n",
        "pred3 = ridge3.predict(X_test)           # Use this model to predict the test data\n",
        "print(pd.Series(ridge3.coef_, index = X.columns)) # Print coefficients\n",
        "print(mean_squared_error(y_test, pred3))          # Calculate the test MSE"
      ],
      "metadata": {
        "colab": {
          "base_uri": "https://localhost:8080/"
        },
        "id": "AI3jyZruSPkp",
        "outputId": "ad3b3bda-1cee-43ee-ea97-40f28ce00788"
      },
      "execution_count": 198,
      "outputs": [
        {
          "output_type": "stream",
          "name": "stdout",
          "text": [
            "serviceCharge                                         3.376561e-10\n",
            "heatingType_reduced_central_heating                  -1.204226e-08\n",
            "heatingType_reduced_district_heating                 -6.472936e-09\n",
            "heatingType_reduced_floor_heating                     4.476202e-08\n",
            "heatingType_reduced_gas_heating                       1.682171e-09\n",
            "heatingType_reduced_other                             1.273691e-08\n",
            "heatingType_reduced_self_contained_central_heating   -2.987697e-09\n",
            "telekomUploadSpeed                                    4.888864e-11\n",
            "dtype: float64\n",
            "166667.595434925\n"
          ]
        }
      ]
    },
    {
      "cell_type": "code",
      "source": [
        "ridge2 = Ridge(alpha = 0, normalize = True)\n",
        "ridge2.fit(X_train, y_train)             # Fit a ridge regression on the training data\n",
        "pred = ridge2.predict(X_test)            # Use this model to predict the test data\n",
        "print(pd.Series(ridge2.coef_, index = X.columns)) # Print coefficients\n",
        "print(mean_squared_error(y_test, pred))           # Calculate the test MSE"
      ],
      "metadata": {
        "colab": {
          "base_uri": "https://localhost:8080/"
        },
        "id": "XXnZVbydSTeZ",
        "outputId": "a6bc04f9-2292-4574-99fd-0df1e3c2144c"
      },
      "execution_count": 199,
      "outputs": [
        {
          "output_type": "stream",
          "name": "stdout",
          "text": [
            "serviceCharge                                           3.196304\n",
            "heatingType_reduced_central_heating                  -145.537924\n",
            "heatingType_reduced_district_heating                 -159.632525\n",
            "heatingType_reduced_floor_heating                     136.251088\n",
            "heatingType_reduced_gas_heating                      -115.402253\n",
            "heatingType_reduced_other                             -42.318390\n",
            "heatingType_reduced_self_contained_central_heating    -50.696845\n",
            "telekomUploadSpeed                                      0.254204\n",
            "dtype: float64\n",
            "106012.5911036244\n"
          ]
        }
      ]
    },
    {
      "cell_type": "code",
      "source": [
        "ridgecv = RidgeCV(alphas = alphas, scoring = 'neg_mean_squared_error', normalize = True)\n",
        "ridgecv.fit(X_train, y_train)\n",
        "ridgecv.alpha_"
      ],
      "metadata": {
        "colab": {
          "base_uri": "https://localhost:8080/"
        },
        "id": "4fYkGjOrSc2-",
        "outputId": "6f9753d0-f99a-405e-f5e5-1de13e43978f"
      },
      "execution_count": 200,
      "outputs": [
        {
          "output_type": "execute_result",
          "data": {
            "text/plain": [
              "0.005"
            ]
          },
          "metadata": {},
          "execution_count": 200
        }
      ]
    },
    {
      "cell_type": "code",
      "source": [
        "ridge4 = Ridge(alpha = ridgecv.alpha_, normalize = True)\n",
        "ridge4.fit(X_train, y_train)\n",
        "mean_squared_error(y_test, ridge4.predict(X_test))"
      ],
      "metadata": {
        "colab": {
          "base_uri": "https://localhost:8080/"
        },
        "id": "vCusqdeGSjVL",
        "outputId": "c3e75b00-13ac-4cc4-a7bc-df3f060d33f9"
      },
      "execution_count": 201,
      "outputs": [
        {
          "output_type": "execute_result",
          "data": {
            "text/plain": [
              "106011.92540581664"
            ]
          },
          "metadata": {},
          "execution_count": 201
        }
      ]
    },
    {
      "cell_type": "code",
      "source": [
        "ridge4.fit(X, y)\n",
        "pd.Series(ridge4.coef_, index = X.columns)"
      ],
      "metadata": {
        "colab": {
          "base_uri": "https://localhost:8080/"
        },
        "id": "5dkVLa6QSqUv",
        "outputId": "40ff4727-20aa-4f56-e6a5-db4c0a797239"
      },
      "execution_count": 202,
      "outputs": [
        {
          "output_type": "execute_result",
          "data": {
            "text/plain": [
              "serviceCharge                                           3.180414\n",
              "heatingType_reduced_central_heating                   -51.939061\n",
              "heatingType_reduced_district_heating                  -66.683546\n",
              "heatingType_reduced_floor_heating                     225.514499\n",
              "heatingType_reduced_gas_heating                       -23.027815\n",
              "heatingType_reduced_other                              52.628019\n",
              "heatingType_reduced_self_contained_central_heating     43.877040\n",
              "telekomUploadSpeed                                      0.289375\n",
              "dtype: float64"
            ]
          },
          "metadata": {},
          "execution_count": 202
        }
      ]
    },
    {
      "cell_type": "markdown",
      "source": [
        "#Lasso"
      ],
      "metadata": {
        "id": "bnkguW5SQ8S4"
      }
    },
    {
      "cell_type": "code",
      "source": [
        "lasso = Lasso(max_iter = 10000, normalize = True)\n",
        "coefs = []\n",
        "\n",
        "for a in alphas:\n",
        "    lasso.set_params(alpha=a)\n",
        "    lasso.fit(X_train, y_train)\n",
        "    coefs.append(lasso.coef_)\n",
        "    \n",
        "ax = plt.gca()\n",
        "ax.plot(alphas*2, coefs)\n",
        "ax.set_xscale('log')\n",
        "plt.axis('tight')\n",
        "plt.xlabel('alpha')\n",
        "plt.ylabel('weights')"
      ],
      "metadata": {
        "colab": {
          "base_uri": "https://localhost:8080/",
          "height": 526
        },
        "id": "Yl2UBKnuQ-1c",
        "outputId": "773b7f6d-69fc-4f4a-f2eb-7b1316ef6e90"
      },
      "execution_count": 203,
      "outputs": [
        {
          "output_type": "execute_result",
          "data": {
            "text/plain": [
              "Text(0, 0.5, 'weights')"
            ]
          },
          "metadata": {},
          "execution_count": 203
        },
        {
          "output_type": "display_data",
          "data": {
            "text/plain": [
              "<Figure size 576x576 with 1 Axes>"
            ],
            "image/png": "[encoded data removed]"
          },
          "metadata": {}
        }
      ]
    },
    {
      "cell_type": "code",
      "source": [
        "lassocv = LassoCV(alphas = None, cv = 10, max_iter = 100000, normalize = True)\n",
        "lassocv.fit(X_train, y_train)\n",
        "\n",
        "lasso.set_params(alpha=lassocv.alpha_)\n",
        "lasso.fit(X_train, y_train)\n",
        "mean_squared_error(y_test, lasso.predict(X_test))"
      ],
      "metadata": {
        "colab": {
          "base_uri": "https://localhost:8080/"
        },
        "id": "7wvyXXchTFh7",
        "outputId": "cce70c50-c2af-46ab-cc88-53787f152709"
      },
      "execution_count": 204,
      "outputs": [
        {
          "output_type": "execute_result",
          "data": {
            "text/plain": [
              "106014.0525569379"
            ]
          },
          "metadata": {},
          "execution_count": 204
        }
      ]
    },
    {
      "cell_type": "code",
      "source": [
        "pd.Series(lasso.coef_, index=X.columns)"
      ],
      "metadata": {
        "colab": {
          "base_uri": "https://localhost:8080/"
        },
        "id": "X3qY2G2QTMoG",
        "outputId": "874ff5b3-c59d-4965-fd7e-9b3b623d1b67"
      },
      "execution_count": 205,
      "outputs": [
        {
          "output_type": "execute_result",
          "data": {
            "text/plain": [
              "serviceCharge                                           3.193424\n",
              "heatingType_reduced_central_heating                   -29.939476\n",
              "heatingType_reduced_district_heating                  -43.462931\n",
              "heatingType_reduced_floor_heating                     250.943639\n",
              "heatingType_reduced_gas_heating                         0.000000\n",
              "heatingType_reduced_other                              72.123659\n",
              "heatingType_reduced_self_contained_central_heating     63.777244\n",
              "telekomUploadSpeed                                      0.238257\n",
              "dtype: float64"
            ]
          },
          "metadata": {},
          "execution_count": 205
        }
      ]
    }
  ]
}